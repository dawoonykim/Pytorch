{
 "cells": [
  {
   "cell_type": "code",
   "execution_count": 1,
   "metadata": {},
   "outputs": [],
   "source": [
    "import torch"
   ]
  },
  {
   "cell_type": "markdown",
   "metadata": {},
   "source": [
    "# -------------------------------------------------------------------------------"
   ]
  },
  {
   "cell_type": "code",
   "execution_count": 5,
   "metadata": {},
   "outputs": [
    {
     "name": "stdout",
     "output_type": "stream",
     "text": [
      "tensor([[0.5787, 0.9168],\n",
      "        [0.6871, 0.4201]])\n",
      "tensor([[2.5787, 2.9168],\n",
      "        [2.6871, 2.4201]])\n"
     ]
    }
   ],
   "source": [
    "tensor = torch.rand(2, 2)\n",
    "print(tensor)\n",
    "\n",
    "tensor+=2\n",
    "print(tensor)"
   ]
  },
  {
   "cell_type": "code",
   "execution_count": 6,
   "metadata": {},
   "outputs": [
    {
     "name": "stdout",
     "output_type": "stream",
     "text": [
      "tensor([[0.4908, 0.3743],\n",
      "        [0.8701, 0.8905]])\n",
      "tensor([[-1.5092, -1.6257],\n",
      "        [-1.1299, -1.1095]])\n"
     ]
    }
   ],
   "source": [
    "tensor = torch.rand(2, 2)\n",
    "print(tensor)\n",
    "\n",
    "tensor-=2\n",
    "print(tensor)"
   ]
  },
  {
   "cell_type": "code",
   "execution_count": 7,
   "metadata": {},
   "outputs": [
    {
     "name": "stdout",
     "output_type": "stream",
     "text": [
      "tensor([[0.2476, 0.5306],\n",
      "        [0.1458, 0.2720]])\n",
      "tensor([[0.4951, 1.0611],\n",
      "        [0.2917, 0.5440]])\n"
     ]
    }
   ],
   "source": [
    "tensor = torch.rand(2, 2)\n",
    "print(tensor)\n",
    "\n",
    "tensor*=2\n",
    "print(tensor)"
   ]
  },
  {
   "cell_type": "code",
   "execution_count": 8,
   "metadata": {},
   "outputs": [
    {
     "name": "stdout",
     "output_type": "stream",
     "text": [
      "tensor([[0.0864, 0.5185],\n",
      "        [0.4497, 0.4662]])\n",
      "tensor([[0.0432, 0.2593],\n",
      "        [0.2249, 0.2331]])\n"
     ]
    }
   ],
   "source": [
    "tensor = torch.rand(2, 2)\n",
    "print(tensor)\n",
    "\n",
    "tensor/=2\n",
    "print(tensor)"
   ]
  },
  {
   "cell_type": "markdown",
   "metadata": {},
   "source": [
    "# -------------------------------------------------------------------------------"
   ]
  },
  {
   "cell_type": "code",
   "execution_count": 15,
   "metadata": {},
   "outputs": [
    {
     "name": "stdout",
     "output_type": "stream",
     "text": [
      "x :\n",
      "tensor([[0.8356, 0.1841],\n",
      "        [0.8445, 0.2060]])\n",
      "y :\n",
      "tensor([[0.1822, 0.7274],\n",
      "        [0.7887, 0.6342]])\n",
      "x + y =\n",
      "tensor([[1.0178, 0.9115],\n",
      "        [1.6332, 0.8402]])\n",
      "add :\n",
      "tensor([[1.0178, 0.9115],\n",
      "        [1.6332, 0.8402]])\n",
      "\n",
      "tensor([[1.0178, 0.9115],\n",
      "        [1.6332, 0.8402]])\n"
     ]
    }
   ],
   "source": [
    "# 더하기\n",
    "x = torch.rand(2, 2)\n",
    "y = torch.rand(2, 2)\n",
    "print(f\"x :\\n{x}\\ny :\\n{y}\")\n",
    "print(f\"x + y =\\n{x+y}\")\n",
    "\n",
    "add = torch.add(x, y)\n",
    "print(f\"add :\\n{add}\")\n",
    "\n",
    "y.add_(x)\n",
    "print(f\"\\n{y}\")"
   ]
  },
  {
   "cell_type": "code",
   "execution_count": 24,
   "metadata": {},
   "outputs": [
    {
     "name": "stdout",
     "output_type": "stream",
     "text": [
      "x :\n",
      "tensor([[0.1956, 0.6753],\n",
      "        [0.6222, 0.3770]])\n",
      "y :\n",
      "tensor([[0.2175, 0.1519],\n",
      "        [0.6051, 0.7657]])\n",
      "x - y =\n",
      "tensor([[-0.0219,  0.5234],\n",
      "        [ 0.0170, -0.3888]])\n",
      "sub :\n",
      "tensor([[-0.0219,  0.5234],\n",
      "        [ 0.0170, -0.3888]])\n",
      "y.sub_ :\n",
      "tensor([[ 0.0219, -0.5234],\n",
      "        [-0.0170,  0.3888]])\n"
     ]
    }
   ],
   "source": [
    "# 빼기\n",
    "x = torch.rand(2, 2)\n",
    "y = torch.rand(2, 2)\n",
    "print(f\"x :\\n{x}\\ny :\\n{y}\")\n",
    "print(f\"x - y =\\n{x-y}\")\n",
    "\n",
    "sub = torch.sub(x, y)\n",
    "print(f\"sub :\\n{sub}\")\n",
    "\n",
    "y.sub_(x)\n",
    "print(f\"y.sub_ :\\n{y}\")\n",
    "\n",
    "# x.sub_(y)\n",
    "# print(f\"x.sub_ :\\n{x}\")"
   ]
  },
  {
   "cell_type": "code",
   "execution_count": 27,
   "metadata": {},
   "outputs": [
    {
     "name": "stdout",
     "output_type": "stream",
     "text": [
      "x :\n",
      "tensor([[0.3289, 0.9181],\n",
      "        [0.8280, 0.5237]])\n",
      "y :\n",
      "tensor([[0.4391, 0.7865],\n",
      "        [0.9444, 0.4778]])\n",
      "x * y =\n",
      "tensor([[0.1444, 0.7221],\n",
      "        [0.7820, 0.2502]])\n",
      "mul :\n",
      "tensor([[0.1444, 0.7221],\n",
      "        [0.7820, 0.2502]])\n",
      "y.mul_ :\n",
      "tensor([[0.1444, 0.7221],\n",
      "        [0.7820, 0.2502]])\n"
     ]
    }
   ],
   "source": [
    "# 곱하기\n",
    "x = torch.rand(2, 2)\n",
    "y = torch.rand(2, 2)\n",
    "print(f\"x :\\n{x}\\ny :\\n{y}\")\n",
    "print(f\"x * y =\\n{x*y}\")\n",
    "\n",
    "mul = torch.mul(x, y)\n",
    "print(f\"mul :\\n{mul}\")\n",
    "\n",
    "y.mul_(x)\n",
    "print(f\"y.mul_ :\\n{y}\")\n",
    "\n",
    "# x.sub_(y)\n",
    "# print(f\"x.sub_ :\\n{x}\")"
   ]
  },
  {
   "cell_type": "code",
   "execution_count": 29,
   "metadata": {},
   "outputs": [
    {
     "name": "stdout",
     "output_type": "stream",
     "text": [
      "x :\n",
      "tensor([[0.4754, 0.8434],\n",
      "        [0.0490, 0.2005]])\n",
      "y :\n",
      "tensor([[0.6772, 0.3855],\n",
      "        [0.9569, 0.4388]])\n",
      "x / y =\n",
      "tensor([[0.7020, 2.1880],\n",
      "        [0.0512, 0.4569]])\n",
      "div :\n",
      "tensor([[0.7020, 2.1880],\n",
      "        [0.0512, 0.4569]])\n",
      "x.div_ :\n",
      "tensor([[0.7020, 2.1880],\n",
      "        [0.0512, 0.4569]])\n"
     ]
    }
   ],
   "source": [
    "# 나누기\n",
    "x = torch.rand(2, 2)\n",
    "y = torch.rand(2, 2)\n",
    "print(f\"x :\\n{x}\\ny :\\n{y}\")\n",
    "print(f\"x / y =\\n{x/y}\")\n",
    "\n",
    "div = torch.div(x, y)\n",
    "print(f\"div :\\n{div}\")\n",
    "\n",
    "# y.div_(x)\n",
    "# print(f\"y.div_ :\\n{y}\")\n",
    "\n",
    "x.div_(y)\n",
    "print(f\"x.div_ :\\n{x}\")"
   ]
  }
 ],
 "metadata": {
  "kernelspec": {
   "display_name": "pytorch-env",
   "language": "python",
   "name": "python3"
  },
  "language_info": {
   "codemirror_mode": {
    "name": "ipython",
    "version": 3
   },
   "file_extension": ".py",
   "mimetype": "text/x-python",
   "name": "python",
   "nbconvert_exporter": "python",
   "pygments_lexer": "ipython3",
   "version": "3.12.0"
  }
 },
 "nbformat": 4,
 "nbformat_minor": 2
}
