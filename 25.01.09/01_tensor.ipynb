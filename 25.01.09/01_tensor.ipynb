{
 "cells": [
  {
   "cell_type": "markdown",
   "metadata": {},
   "source": [
    "# 01. Tensor"
   ]
  },
  {
   "cell_type": "code",
   "execution_count": 5,
   "metadata": {},
   "outputs": [],
   "source": [
    "# import torch\n",
    "# torch.__version__"
   ]
  },
  {
   "cell_type": "markdown",
   "metadata": {},
   "source": [
    "## 01. Tensor 초기화"
   ]
  },
  {
   "cell_type": "code",
   "execution_count": 4,
   "metadata": {},
   "outputs": [],
   "source": [
    "import torch\n",
    "import numpy as np"
   ]
  },
  {
   "cell_type": "markdown",
   "metadata": {},
   "source": [
    "### 1-1. 초기화 되지 않은 Tensor\n",
    "- 특정한 값이 채워지지 않은 상태로 생성하는 것"
   ]
  },
  {
   "cell_type": "code",
   "execution_count": 7,
   "metadata": {},
   "outputs": [
    {
     "name": "stdout",
     "output_type": "stream",
     "text": [
      "tensor([[-7.1552e-07,  9.4448e-43],\n",
      "        [ 0.0000e+00,  0.0000e+00],\n",
      "        [ 0.0000e+00,  0.0000e+00],\n",
      "        [ 0.0000e+00,  0.0000e+00]])\n"
     ]
    }
   ],
   "source": [
    "tensor = torch.empty(4, 2)\n",
    "print(tensor)"
   ]
  },
  {
   "cell_type": "markdown",
   "metadata": {},
   "source": [
    "### 1-2. 상수로 초기화된 Tensor\n",
    "- 'torch.zeros()'\n",
    "- 'torch.ones()'"
   ]
  },
  {
   "cell_type": "code",
   "execution_count": 10,
   "metadata": {},
   "outputs": [
    {
     "data": {
      "text/plain": [
       "tensor([[0., 0., 0., 0.],\n",
       "        [0., 0., 0., 0.],\n",
       "        [0., 0., 0., 0.]])"
      ]
     },
     "execution_count": 10,
     "metadata": {},
     "output_type": "execute_result"
    }
   ],
   "source": [
    "a = torch.ones(3, 4)\n",
    "a\n",
    "b = torch.zeros(3, 4)\n",
    "b"
   ]
  },
  {
   "cell_type": "code",
   "execution_count": 14,
   "metadata": {},
   "outputs": [
    {
     "name": "stdout",
     "output_type": "stream",
     "text": [
      "tensor([[1, 1, 1, 1],\n",
      "        [1, 1, 1, 1],\n",
      "        [1, 1, 1, 1]])\n",
      "tensor([[0., 0., 0., 0.],\n",
      "        [0., 0., 0., 0.],\n",
      "        [0., 0., 0., 0.]])\n"
     ]
    }
   ],
   "source": [
    "a = torch.ones(3, 4, dtype=torch.long) # dtype = 데이터 타입 지정 가능\n",
    "print(a)\n",
    "b = torch.zeros(3, 4)\n",
    "print(b)"
   ]
  },
  {
   "cell_type": "markdown",
   "metadata": {},
   "source": [
    "### 1-3. 무작위로 초기화된 Tensor\n",
    "- 'torch.rand()' : 0~1 사이의 값으로 무작위로 초기화\n",
    "- 'torch.randn()' : 표준정규분포에서 무작위로 초기화"
   ]
  },
  {
   "cell_type": "code",
   "execution_count": 15,
   "metadata": {},
   "outputs": [
    {
     "name": "stdout",
     "output_type": "stream",
     "text": [
      "tensor([[0.0837, 0.6650, 0.8549],\n",
      "        [0.5437, 0.8384, 0.8430],\n",
      "        [0.5042, 0.3846, 0.7660]])\n",
      "tensor([[ 0.1907,  0.0520,  0.4433],\n",
      "        [ 0.1152, -0.9676,  0.5484],\n",
      "        [-0.1215, -1.1339, -0.0158]])\n"
     ]
    }
   ],
   "source": [
    "a = torch.rand(3, 3)\n",
    "b = torch.randn(3, 3)\n",
    "print(a)\n",
    "print(b)"
   ]
  },
  {
   "cell_type": "markdown",
   "metadata": {},
   "source": [
    "### 1-4. 직접 입력한 값으로 초기화된 Tensor\n",
    "- 'torch.tensor()' : 직접 입력한 값으로 초기화"
   ]
  },
  {
   "cell_type": "code",
   "execution_count": 16,
   "metadata": {},
   "outputs": [
    {
     "name": "stdout",
     "output_type": "stream",
     "text": [
      "tensor([1.0000, 2.3000])\n"
     ]
    }
   ],
   "source": [
    "a = torch.tensor([1, 2.3])\n",
    "print(a)"
   ]
  },
  {
   "cell_type": "markdown",
   "metadata": {},
   "source": [
    "### 1-5. Numpy 배열로부터 초기화"
   ]
  },
  {
   "cell_type": "code",
   "execution_count": 22,
   "metadata": {},
   "outputs": [
    {
     "data": {
      "text/plain": [
       "numpy.ndarray"
      ]
     },
     "execution_count": 22,
     "metadata": {},
     "output_type": "execute_result"
    }
   ],
   "source": [
    "nd_arr = np.array([1, 2, 3])\n",
    "nd_arr\n",
    "\n",
    "a = torch.from_numpy(nd_arr)\n",
    "a\n",
    "\n",
    "# numpy array로 변환환\n",
    "b = torch.tensor([1, 2.3])\n",
    "new_nd = b.numpy()\n",
    "type(new_nd)"
   ]
  },
  {
   "cell_type": "markdown",
   "metadata": {},
   "source": [
    "### 1-6. 특정 Tensor와 같은 타입, 무작위로 값을 채움"
   ]
  },
  {
   "cell_type": "code",
   "execution_count": 29,
   "metadata": {},
   "outputs": [
    {
     "data": {
      "text/plain": [
       "tensor([[0., 0., 0., 0.],\n",
       "        [0., 0., 0., 0.],\n",
       "        [0., 0., 0., 0.]])"
      ]
     },
     "execution_count": 29,
     "metadata": {},
     "output_type": "execute_result"
    }
   ],
   "source": [
    "a = torch.ones(3, 4, dtype=torch.long)  # dtype = 데이터 타입 지정 가능\n",
    "a\n",
    "\n",
    "b = torch.rand_like(a, dtype=torch.float)\n",
    "b\n",
    "\n",
    "c = torch.randn_like(a, dtype=torch.float)\n",
    "c\n",
    "\n",
    "d = torch.zeros_like(a, dtype=torch.float)\n",
    "d"
   ]
  },
  {
   "cell_type": "markdown",
   "metadata": {},
   "source": [
    "### 1-7. "
   ]
  },
  {
   "cell_type": "code",
   "execution_count": 30,
   "metadata": {},
   "outputs": [
    {
     "name": "stdout",
     "output_type": "stream",
     "text": [
      "[  1   2 100   4   5]\n",
      "tensor([  1,   2, 100,   4,   5])\n"
     ]
    }
   ],
   "source": [
    "nd_arr = np.array([1, 2, 3])\n",
    "nd_arr\n",
    "\n",
    "a = torch.from_numpy(nd_arr)\n",
    "a\n",
    "\n",
    "# numpy array로 변환환\n",
    "b = torch.tensor([1, 2, 3, 4, 5])\n",
    "new_nd = b.numpy()\n",
    "\n",
    "new_nd[2] = 100\n",
    "print(new_nd)\n",
    "print(b)"
   ]
  }
 ],
 "metadata": {
  "kernelspec": {
   "display_name": "pytorch-env",
   "language": "python",
   "name": "python3"
  },
  "language_info": {
   "codemirror_mode": {
    "name": "ipython",
    "version": 3
   },
   "file_extension": ".py",
   "mimetype": "text/x-python",
   "name": "python",
   "nbconvert_exporter": "python",
   "pygments_lexer": "ipython3",
   "version": "3.12.0"
  }
 },
 "nbformat": 4,
 "nbformat_minor": 2
}
