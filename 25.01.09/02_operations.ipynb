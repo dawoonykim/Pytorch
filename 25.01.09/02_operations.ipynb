{
 "cells": [
  {
   "cell_type": "markdown",
   "metadata": {},
   "source": [
    "# 02. Tensor의 연산\n"
   ]
  },
  {
   "cell_type": "code",
   "execution_count": 1,
   "metadata": {},
   "outputs": [],
   "source": [
    "import torch"
   ]
  },
  {
   "cell_type": "markdown",
   "metadata": {},
   "source": [
    "### 2-1. 산술 연산\n"
   ]
  },
  {
   "cell_type": "code",
   "execution_count": 4,
   "metadata": {},
   "outputs": [
    {
     "name": "stdout",
     "output_type": "stream",
     "text": [
      "tensor([[0.0310, 0.0469],\n",
      "        [0.2708, 0.7525]])\n",
      "tensor([[2.0310, 2.0469],\n",
      "        [2.2708, 2.7525]])\n"
     ]
    }
   ],
   "source": [
    "tensor = torch.rand(2, 2)\n",
    "print(tensor)\n",
    "tensor = tensor+2\n",
    "print(tensor)"
   ]
  },
  {
   "cell_type": "code",
   "execution_count": 5,
   "metadata": {},
   "outputs": [
    {
     "name": "stdout",
     "output_type": "stream",
     "text": [
      "tensor([[0.0640, 0.5895],\n",
      "        [0.5613, 0.9822]])\n",
      "tensor([[-1.9360, -1.4105],\n",
      "        [-1.4387, -1.0178]])\n"
     ]
    }
   ],
   "source": [
    "tensor = torch.rand(2, 2)\n",
    "print(tensor)\n",
    "tensor = tensor-2\n",
    "print(tensor)"
   ]
  },
  {
   "cell_type": "code",
   "execution_count": 3,
   "metadata": {},
   "outputs": [
    {
     "name": "stdout",
     "output_type": "stream",
     "text": [
      "tensor([[0.1339, 0.7609],\n",
      "        [0.6478, 0.0612]])\n",
      "tensor([[0.2678, 1.5218],\n",
      "        [1.2956, 0.1224]])\n"
     ]
    }
   ],
   "source": [
    "tensor = torch.rand(2, 2)\n",
    "print(tensor)\n",
    "tensor = tensor*2\n",
    "print(tensor)"
   ]
  },
  {
   "cell_type": "code",
   "execution_count": 6,
   "metadata": {},
   "outputs": [
    {
     "name": "stdout",
     "output_type": "stream",
     "text": [
      "tensor([[0.6507, 0.6296],\n",
      "        [0.9305, 0.9637]])\n",
      "tensor([[0.3253, 0.3148],\n",
      "        [0.4652, 0.4818]])\n"
     ]
    }
   ],
   "source": [
    "tensor = torch.rand(2, 2)\n",
    "print(tensor)\n",
    "tensor = tensor/2\n",
    "print(tensor)"
   ]
  },
  {
   "cell_type": "code",
   "execution_count": 16,
   "metadata": {},
   "outputs": [
    {
     "name": "stdout",
     "output_type": "stream",
     "text": [
      "x :\n",
      "tensor([[0.6995, 0.1723],\n",
      "        [0.6101, 0.8677]])\n",
      "y :\n",
      "tensor([[0.6400, 0.3139],\n",
      "        [0.9852, 0.3318]])\n",
      "\n",
      "tensor([[1.3395, 0.4862],\n",
      "        [1.5953, 1.1995]])\n",
      "add :\n",
      "tensor([[1.3395, 0.4862],\n",
      "        [1.5953, 1.1995]])\n",
      "y :\n",
      "tensor([[1.3395, 0.4862],\n",
      "        [1.5953, 1.1995]])\n"
     ]
    }
   ],
   "source": [
    "# 더하기\n",
    "x = torch.rand(2, 2)\n",
    "y = torch.rand(2, 2)\n",
    "print(f\"x :\\n{x}\\ny :\\n{y}\\n\")\n",
    "print(x+y)\n",
    "\n",
    "add = torch.add(x, y)\n",
    "print(f\"add :\\n{add}\")\n",
    "\n",
    "# in-place 바꿔치기 연산\n",
    "y.add_(x)\n",
    "print(f\"y :\\n{y}\")"
   ]
  },
  {
   "cell_type": "code",
   "execution_count": 25,
   "metadata": {},
   "outputs": [
    {
     "name": "stdout",
     "output_type": "stream",
     "text": [
      "x :\n",
      "tensor([[0.5803, 0.5546],\n",
      "        [0.3818, 0.8436]])\n",
      "y :\n",
      "tensor([[0.0163, 0.1559],\n",
      "        [0.7486, 0.7251]])\n",
      "\n",
      "tensor([[ 0.5640,  0.3987],\n",
      "        [-0.3669,  0.1184]])\n",
      "sub :\n",
      "tensor([[ 0.5640,  0.3987],\n",
      "        [-0.3669,  0.1184]])\n",
      "y :\n",
      "tensor([[-0.5640, -0.3987],\n",
      "        [ 0.3669, -0.1184]])\n"
     ]
    }
   ],
   "source": [
    "# 빼기\n",
    "x = torch.rand(2, 2)\n",
    "y = torch.rand(2, 2)\n",
    "print(f\"x :\\n{x}\\ny :\\n{y}\\n\")\n",
    "print(x-y)\n",
    "\n",
    "sub = torch.sub(x, y)\n",
    "print(f\"sub :\\n{sub}\")\n",
    "\n",
    "# in-place 바꿔치기 연산\n",
    "y.sub_(x)\n",
    "print(f\"y :\\n{y}\")"
   ]
  },
  {
   "cell_type": "code",
   "execution_count": 23,
   "metadata": {},
   "outputs": [
    {
     "name": "stdout",
     "output_type": "stream",
     "text": [
      "x :\n",
      "tensor([[0.6097, 0.8994],\n",
      "        [0.4748, 0.2445]])\n",
      "y :\n",
      "tensor([[0.2689, 0.8959],\n",
      "        [0.0156, 0.7405]])\n",
      "\n",
      "tensor([[0.1639, 0.8058],\n",
      "        [0.0074, 0.1810]])\n",
      "mul :\n",
      "tensor([[0.1639, 0.8058],\n",
      "        [0.0074, 0.1810]])\n",
      "y :\n",
      "tensor([[0.1639, 0.8058],\n",
      "        [0.0074, 0.1810]])\n"
     ]
    }
   ],
   "source": [
    "# 곱하기\n",
    "x = torch.rand(2, 2)\n",
    "y = torch.rand(2, 2)\n",
    "print(f\"x :\\n{x}\\ny :\\n{y}\\n\")\n",
    "print(x*y)\n",
    "\n",
    "mul = torch.mul(x, y)\n",
    "print(f\"mul :\\n{mul}\")\n",
    "\n",
    "# in-place 바꿔치기 연산\n",
    "y.mul_(x)\n",
    "print(f\"y :\\n{y}\")"
   ]
  },
  {
   "cell_type": "code",
   "execution_count": 24,
   "metadata": {},
   "outputs": [
    {
     "name": "stdout",
     "output_type": "stream",
     "text": [
      "x :\n",
      "tensor([[0.3811, 0.6899],\n",
      "        [0.6426, 0.2721]])\n",
      "y :\n",
      "tensor([[0.4205, 0.7194],\n",
      "        [0.1331, 0.5230]])\n",
      "\n",
      "tensor([[0.9065, 0.9589],\n",
      "        [4.8260, 0.5203]])\n",
      "div :\n",
      "tensor([[0.9065, 0.9589],\n",
      "        [4.8260, 0.5203]])\n",
      "y :\n",
      "tensor([[1.1032, 1.0428],\n",
      "        [0.2072, 1.9219]])\n"
     ]
    }
   ],
   "source": [
    "# 나누기\n",
    "x = torch.rand(2, 2)\n",
    "y = torch.rand(2, 2)\n",
    "print(f\"x :\\n{x}\\ny :\\n{y}\\n\")\n",
    "print(x/y)\n",
    "\n",
    "div = torch.div(x, y)\n",
    "print(f\"div :\\n{div}\")\n",
    "\n",
    "# in-place 바꿔치기 연산\n",
    "y.div_(x)\n",
    "print(f\"y :\\n{y}\")"
   ]
  }
 ],
 "metadata": {
  "kernelspec": {
   "display_name": "pytorch-env",
   "language": "python",
   "name": "python3"
  },
  "language_info": {
   "codemirror_mode": {
    "name": "ipython",
    "version": 3
   },
   "file_extension": ".py",
   "mimetype": "text/x-python",
   "name": "python",
   "nbconvert_exporter": "python",
   "pygments_lexer": "ipython3",
   "version": "3.12.0"
  }
 },
 "nbformat": 4,
 "nbformat_minor": 2
}
