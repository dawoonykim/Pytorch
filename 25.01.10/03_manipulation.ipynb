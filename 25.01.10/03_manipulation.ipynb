{
 "cells": [
  {
   "cell_type": "markdown",
   "metadata": {},
   "source": [
    "# 03. Tensor의 조작"
   ]
  },
  {
   "cell_type": "code",
   "execution_count": 2,
   "metadata": {},
   "outputs": [],
   "source": [
    "import torch"
   ]
  },
  {
   "cell_type": "markdown",
   "metadata": {},
   "source": [
    "## 3-1. 인덱싱, 슬라이싱\n",
    "- Numpy처럼 활용\n"
   ]
  },
  {
   "cell_type": "code",
   "execution_count": null,
   "metadata": {},
   "outputs": [],
   "source": [
    "tensor = torch.tensor([[1, 2], [3, 4]])\n",
    "\n",
    "print(tensor[0, 1])\n",
    "print(tensor[0, :])\n",
    "\n",
    "a = torch.tensor([1, 2, 3, 4, 5])\n",
    "print(a[-1])\n",
    "print(a[-2:])\n",
    "\n",
    "b = torch.tensor([[1, 2, 3],\n",
    "                  [4, 5, 6],\n",
    "                  [7, 8, 9]])\n",
    "b.shape\n",
    "c = b[b > 5]  # 조건부 인덱싱\n",
    "print(c)\n",
    "\n",
    "d = b[b % 2 == 0]\n",
    "print(d)\n",
    "\n",
    "b[[0, 1], [1, 2]]"
   ]
  },
  {
   "cell_type": "markdown",
   "metadata": {},
   "source": [
    "## 3-2. Tensor의 크기, 모양 변경"
   ]
  },
  {
   "cell_type": "code",
   "execution_count": null,
   "metadata": {},
   "outputs": [],
   "source": [
    "t = torch.rand(4, 5)\n",
    "print(t)\n",
    "x = t.view(5, 4)\n",
    "print(x)\n",
    "\n",
    "y = t.view(10, 2)\n",
    "print(y)\n",
    "\n",
    "z = t.view(-1, 10)\n",
    "print(z)"
   ]
  },
  {
   "cell_type": "markdown",
   "metadata": {},
   "source": [
    "## 3-3. Tensor의 숫자값 얻기"
   ]
  },
  {
   "cell_type": "code",
   "execution_count": null,
   "metadata": {},
   "outputs": [],
   "source": [
    "x = torch.tensor(10)\n",
    "print(x.item())\n",
    "\n",
    "y = torch.rand(1)\n",
    "print(y.item())"
   ]
  },
  {
   "cell_type": "markdown",
   "metadata": {},
   "source": [
    "## 3-4. 차원 축소와 증가"
   ]
  },
  {
   "cell_type": "markdown",
   "metadata": {},
   "source": [
    "#### 3-4-1. 차원 축소\n",
    "- 'torch.squeeze()' : 크기가 1인 차원을 축소함\n"
   ]
  },
  {
   "cell_type": "code",
   "execution_count": 5,
   "metadata": {},
   "outputs": [
    {
     "name": "stdout",
     "output_type": "stream",
     "text": [
      "t.shape : torch.Size([1, 3, 3])\n",
      "tensor([[[0.2559, 0.5392, 0.2874],\n",
      "         [0.2778, 0.8211, 0.0074],\n",
      "         [0.5680, 0.6934, 0.6692]]])\n",
      "torch.Size([3, 3])\n",
      "tensor([[0.2559, 0.5392, 0.2874],\n",
      "        [0.2778, 0.8211, 0.0074],\n",
      "        [0.5680, 0.6934, 0.6692]])\n"
     ]
    }
   ],
   "source": [
    "t = torch.rand(1, 3, 3)\n",
    "print(f\"t.shape : {t.shape}\")\n",
    "print(t)\n",
    "ts = torch.squeeze(t)\n",
    "print(ts.shape)\n",
    "print(ts)"
   ]
  },
  {
   "cell_type": "markdown",
   "metadata": {},
   "source": [
    "#### 3-4-2. 차원 증가\n",
    "- 'torch.unsqueeze()' : 지정한 위치에 새로운 차원을 생성"
   ]
  },
  {
   "cell_type": "code",
   "execution_count": 13,
   "metadata": {},
   "outputs": [
    {
     "name": "stdout",
     "output_type": "stream",
     "text": [
      "t.shape : torch.Size([3, 3, 3])\n",
      "tensor([[[0.7379, 0.9611, 0.6663],\n",
      "         [0.2479, 0.1376, 0.2735],\n",
      "         [0.3498, 0.0764, 0.1358]],\n",
      "\n",
      "        [[0.2317, 0.0077, 0.3304],\n",
      "         [0.1198, 0.9428, 0.9729],\n",
      "         [0.1642, 0.8619, 0.7343]],\n",
      "\n",
      "        [[0.8076, 0.5298, 0.4551],\n",
      "         [0.0203, 0.9599, 0.2196],\n",
      "         [0.1421, 0.4221, 0.3358]]])\n",
      "tensor([[[[0.7379, 0.9611, 0.6663],\n",
      "          [0.2479, 0.1376, 0.2735],\n",
      "          [0.3498, 0.0764, 0.1358]],\n",
      "\n",
      "         [[0.2317, 0.0077, 0.3304],\n",
      "          [0.1198, 0.9428, 0.9729],\n",
      "          [0.1642, 0.8619, 0.7343]],\n",
      "\n",
      "         [[0.8076, 0.5298, 0.4551],\n",
      "          [0.0203, 0.9599, 0.2196],\n",
      "          [0.1421, 0.4221, 0.3358]]]])\n"
     ]
    }
   ],
   "source": [
    "t = torch.rand(3, 3, 3)\n",
    "print(f\"t.shape : {t.shape}\")\n",
    "print(t)\n",
    "\n",
    "tus = torch.unsqueeze(t, 0)\n",
    "print(tus)"
   ]
  },
  {
   "cell_type": "markdown",
   "metadata": {},
   "source": [
    "## 3-5. Tensor간 결합"
   ]
  },
  {
   "cell_type": "markdown",
   "metadata": {},
   "source": [
    "### - 'torch.stack()' : 동일한 형식의 Tensor를 새롭게 그룹화 함\n",
    "### - 새로운 차원이 생성"
   ]
  },
  {
   "cell_type": "code",
   "execution_count": 15,
   "metadata": {},
   "outputs": [
    {
     "name": "stdout",
     "output_type": "stream",
     "text": [
      "tensor([[[1, 2],\n",
      "         [3, 4]],\n",
      "\n",
      "        [[5, 6],\n",
      "         [7, 8]]])\n",
      "torch.Size([2, 2, 2])\n"
     ]
    }
   ],
   "source": [
    "x = torch.tensor([[1, 2], [3, 4]])\n",
    "y = torch.tensor([[5, 6], [7, 8]])\n",
    "\n",
    "z = torch.stack([x, y])\n",
    "print(z)\n",
    "print(z.shape)"
   ]
  },
  {
   "cell_type": "markdown",
   "metadata": {},
   "source": [
    "### - 'torch.cat()' : 하나의 Tensor로 병합\n",
    "\n",
    "### - 새로운 차원 생성 X"
   ]
  },
  {
   "cell_type": "code",
   "execution_count": 16,
   "metadata": {},
   "outputs": [
    {
     "name": "stdout",
     "output_type": "stream",
     "text": [
      "tensor([[1, 2],\n",
      "        [3, 4],\n",
      "        [5, 6],\n",
      "        [7, 8]])\n"
     ]
    }
   ],
   "source": [
    "x = torch.tensor([[1, 2], [3, 4]])\n",
    "y = torch.tensor([[5, 6], [7, 8]])\n",
    "\n",
    "z = torch.cat((x, y), dim=0)\n",
    "print(z)"
   ]
  },
  {
   "cell_type": "code",
   "execution_count": 17,
   "metadata": {},
   "outputs": [
    {
     "name": "stdout",
     "output_type": "stream",
     "text": [
      "tensor([[ 1,  2],\n",
      "        [ 3,  4],\n",
      "        [ 5,  6],\n",
      "        [ 7,  8],\n",
      "        [ 9, 10]])\n"
     ]
    }
   ],
   "source": [
    "x = torch.tensor([[1, 2], [3, 4]])\n",
    "y = torch.tensor([[5, 6], [7, 8], [9, 10]])\n",
    "\n",
    "z = torch.cat((x, y), dim=0)\n",
    "print(z)"
   ]
  },
  {
   "cell_type": "code",
   "execution_count": 19,
   "metadata": {},
   "outputs": [
    {
     "name": "stdout",
     "output_type": "stream",
     "text": [
      "tensor([[1, 2, 5, 6],\n",
      "        [3, 4, 7, 8]])\n"
     ]
    }
   ],
   "source": [
    "x = torch.tensor([[1, 2], [3, 4]])\n",
    "y = torch.tensor([[5, 6], [7, 8]])\n",
    "\n",
    "z = torch.cat((x, y), dim=1)\n",
    "print(z)"
   ]
  },
  {
   "cell_type": "markdown",
   "metadata": {},
   "source": [
    "## 3-6. Tensor 나누기"
   ]
  },
  {
   "cell_type": "markdown",
   "metadata": {},
   "source": [
    "### - 'torch.chunk()'\n",
    "- 텐서를 몇 개로 나눌지 지정\n",
    "- 나누어 떨어지지 않으면 마지막 조각은 조각은 크기가 다를 수 있음"
   ]
  },
  {
   "cell_type": "code",
   "execution_count": 23,
   "metadata": {},
   "outputs": [
    {
     "name": "stdout",
     "output_type": "stream",
     "text": [
      "tensor([[0.2515, 0.9756, 0.5231],\n",
      "        [0.9797, 0.0529, 0.6935],\n",
      "        [0.3180, 0.3169, 0.2865]])\n",
      "a :\n",
      "tensor([[0.2515, 0.9756, 0.5231]])\n",
      "b :\n",
      "tensor([[0.9797, 0.0529, 0.6935]]),\n",
      "c :tensor([[0.3180, 0.3169, 0.2865]])\n"
     ]
    }
   ],
   "source": [
    "t = torch.rand(3, 3)\n",
    "print(t)\n",
    "\n",
    "a, b, c = torch.chunk(t, 3, dim=0)\n",
    "print(f\"a :\\n{a}\\nb :\\n{b},\\nc :{c}\")"
   ]
  },
  {
   "cell_type": "code",
   "execution_count": 24,
   "metadata": {},
   "outputs": [
    {
     "name": "stdout",
     "output_type": "stream",
     "text": [
      "tensor([[0.0248, 0.2289, 0.2342],\n",
      "        [0.2228, 0.6672, 0.4914],\n",
      "        [0.5159, 0.6313, 0.1224],\n",
      "        [0.5172, 0.1952, 0.5603],\n",
      "        [0.7011, 0.0977, 0.0625]])\n",
      "a :\n",
      "tensor([[0.0248, 0.2289, 0.2342],\n",
      "        [0.2228, 0.6672, 0.4914]])\n",
      "b :\n",
      "tensor([[0.5159, 0.6313, 0.1224],\n",
      "        [0.5172, 0.1952, 0.5603]]),\n",
      "c :tensor([[0.7011, 0.0977, 0.0625]])\n"
     ]
    }
   ],
   "source": [
    "t = torch.rand(5, 3)\n",
    "print(t)\n",
    "\n",
    "a, b, c = torch.chunk(t, 3, dim=0)\n",
    "print(f\"a :\\n{a}\\nb :\\n{b},\\nc :{c}\")"
   ]
  },
  {
   "cell_type": "code",
   "execution_count": 26,
   "metadata": {},
   "outputs": [
    {
     "name": "stdout",
     "output_type": "stream",
     "text": [
      "tensor([[0.2303, 0.8941, 0.6137],\n",
      "        [0.7270, 0.3640, 0.9688],\n",
      "        [0.1629, 0.9161, 0.3969],\n",
      "        [0.1429, 0.1688, 0.1441],\n",
      "        [0.4025, 0.6164, 0.9044]])\n",
      "a :\n",
      "tensor([[0.2303, 0.8941, 0.6137],\n",
      "        [0.7270, 0.3640, 0.9688],\n",
      "        [0.1629, 0.9161, 0.3969]])\n",
      "b :\n",
      "tensor([[0.1429, 0.1688, 0.1441],\n",
      "        [0.4025, 0.6164, 0.9044]])\n"
     ]
    }
   ],
   "source": [
    "t = torch.rand(5, 3)\n",
    "print(t)\n",
    "\n",
    "a, b = torch.chunk(t, 2, dim=0)\n",
    "print(f\"a :\\n{a}\\nb :\\n{b}\")"
   ]
  },
  {
   "cell_type": "markdown",
   "metadata": {},
   "source": [
    "### - 'torch.split()'\n",
    "- Tesnor의 크기를 기준으로 나눔"
   ]
  },
  {
   "cell_type": "code",
   "execution_count": 30,
   "metadata": {},
   "outputs": [
    {
     "name": "stdout",
     "output_type": "stream",
     "text": [
      "tensor([[0.3527, 0.4249, 0.4903, 0.2256, 0.2748, 0.5630],\n",
      "        [0.8157, 0.3651, 0.3039, 0.6136, 0.5688, 0.6339],\n",
      "        [0.2606, 0.0438, 0.0656, 0.7009, 0.5329, 0.3149]])\n",
      "(tensor([[0.3527, 0.4249, 0.4903, 0.2256, 0.2748, 0.5630],\n",
      "        [0.8157, 0.3651, 0.3039, 0.6136, 0.5688, 0.6339],\n",
      "        [0.2606, 0.0438, 0.0656, 0.7009, 0.5329, 0.3149]]),)\n"
     ]
    }
   ],
   "source": [
    "t = torch.rand(3, 6)\n",
    "print(t)\n",
    "x = torch.split(t, 3, dim=0)\n",
    "print(x)"
   ]
  },
  {
   "cell_type": "code",
   "execution_count": 31,
   "metadata": {},
   "outputs": [
    {
     "name": "stdout",
     "output_type": "stream",
     "text": [
      "tensor([[0.0644, 0.3199, 0.0881, 0.4632, 0.5018, 0.4877],\n",
      "        [0.5758, 0.1284, 0.5718, 0.6688, 0.6758, 0.5355],\n",
      "        [0.6162, 0.7179, 0.0133, 0.6919, 0.7251, 0.9741]])\n",
      "(tensor([[0.0644, 0.3199, 0.0881],\n",
      "        [0.5758, 0.1284, 0.5718],\n",
      "        [0.6162, 0.7179, 0.0133]]), tensor([[0.4632, 0.5018, 0.4877],\n",
      "        [0.6688, 0.6758, 0.5355],\n",
      "        [0.6919, 0.7251, 0.9741]]))\n"
     ]
    }
   ],
   "source": [
    "t = torch.rand(3, 6)\n",
    "print(t)\n",
    "x = torch.split(t, 3, dim=1)\n",
    "print(x)"
   ]
  },
  {
   "cell_type": "code",
   "execution_count": 35,
   "metadata": {},
   "outputs": [
    {
     "name": "stdout",
     "output_type": "stream",
     "text": [
      "tensor([[0.4470, 0.9377, 0.5686],\n",
      "        [0.7516, 0.8575, 0.7463],\n",
      "        [0.4796, 0.6881, 0.8366],\n",
      "        [0.9344, 0.5658, 0.2467],\n",
      "        [0.6001, 0.6056, 0.5905],\n",
      "        [0.3207, 0.6618, 0.8904]])\n",
      "x :\n",
      "tensor([[0.4470, 0.9377, 0.5686],\n",
      "        [0.7516, 0.8575, 0.7463],\n",
      "        [0.4796, 0.6881, 0.8366]])\n",
      "y :\n",
      "tensor([[0.9344, 0.5658, 0.2467],\n",
      "        [0.6001, 0.6056, 0.5905],\n",
      "        [0.3207, 0.6618, 0.8904]])\n"
     ]
    }
   ],
   "source": [
    "t = torch.rand(6, 3)\n",
    "print(t)\n",
    "x, y = torch.split(t, 3, dim=0)\n",
    "print(f\"x :\\n{x}\\ny :\\n{y}\")"
   ]
  },
  {
   "cell_type": "code",
   "execution_count": 39,
   "metadata": {},
   "outputs": [
    {
     "name": "stdout",
     "output_type": "stream",
     "text": [
      "tensor([1, 2, 3, 4, 5])\n",
      "x :\n",
      "tensor([1, 2])\n",
      "y :\n",
      "tensor([3, 4])\n",
      "z :\n",
      "tensor([5])\n"
     ]
    }
   ],
   "source": [
    "t = torch.tensor([1, 2, 3, 4, 5])\n",
    "print(t)\n",
    "x, y, z = torch.split(t, [2, 2, 1], dim=0)\n",
    "print(f\"x :\\n{x}\\ny :\\n{y}\\nz :\\n{z}\")"
   ]
  }
 ],
 "metadata": {
  "kernelspec": {
   "display_name": "pytorch-env",
   "language": "python",
   "name": "python3"
  },
  "language_info": {
   "codemirror_mode": {
    "name": "ipython",
    "version": 3
   },
   "file_extension": ".py",
   "mimetype": "text/x-python",
   "name": "python",
   "nbconvert_exporter": "python",
   "pygments_lexer": "ipython3",
   "version": "3.12.0"
  }
 },
 "nbformat": 4,
 "nbformat_minor": 2
}
