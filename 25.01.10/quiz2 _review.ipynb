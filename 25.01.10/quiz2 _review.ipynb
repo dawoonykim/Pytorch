{
 "cells": [
  {
   "cell_type": "markdown",
   "metadata": {},
   "source": [
    "## PyTorch Quiz 2 : 연산"
   ]
  },
  {
   "cell_type": "markdown",
   "metadata": {},
   "source": [
    "### 1. 덧셈과 뺄셈 연습\n",
    "1. [2, 4, 6]으로 초기화된 1D Tensor를 생성하세요.\n",
    "2. 각 요소에 5를 더한 Tensor를 출력하세요.\n",
    "3. 각 요소에서 3을 뺀 Tensor를 출력하세요.\n"
   ]
  },
  {
   "cell_type": "code",
   "execution_count": null,
   "metadata": {},
   "outputs": [],
   "source": [
    "# 여기에 코드를 작성합니다"
   ]
  },
  {
   "cell_type": "markdown",
   "metadata": {},
   "source": [
    "### 2. Tensor 간의 연산\n",
    "1. x3 크기의 Tensor 2개를 생성하세요.\n",
    "2. 두 Tensor를 각각 더하고(+), 빼고(-), 곱하고(*), 나누세요(/)."
   ]
  },
  {
   "cell_type": "code",
   "execution_count": null,
   "metadata": {},
   "outputs": [],
   "source": [
    "# 여기에 코드를 작성합니다"
   ]
  },
  {
   "cell_type": "markdown",
   "metadata": {},
   "source": [
    "### 3. 행렬의 내적 연산\n",
    "1. 2×3 크기의 Tensor A를 다음 값으로 생성하세요:\n",
    "  - `[[1,2,3], [4,5,6]]`\n",
    "2. 3×2 크기의 Tensor B를 다음 값으로 생성하세요:\n",
    "  - `[[7,8],[9,10],[11,12]]`\n",
    "3. 두 Tensor의 행렬 내적(행렬 곱) A×B를 계산하여 출력하세요."
   ]
  },
  {
   "cell_type": "code",
   "execution_count": null,
   "metadata": {},
   "outputs": [],
   "source": [
    "# 여기에 코드를 작성합니다"
   ]
  },
  {
   "cell_type": "markdown",
   "metadata": {},
   "source": [
    "### 4. 행렬 연산과 값 제한\n",
    "1. 이전 문제에서 계산된 행렬 R(결과 행렬 A×B)를 사용하세요\n",
    "2. 행렬 R의 각 요소에 10을 더하세요.\n",
    "3. R의 각 요소를 100보다 큰 값은 100으로, 나머지는 그대로 유지하도록 제한하세요."
   ]
  },
  {
   "cell_type": "code",
   "execution_count": null,
   "metadata": {},
   "outputs": [],
   "source": [
    "# 여기에 코드를 작성합니다"
   ]
  },
  {
   "cell_type": "markdown",
   "metadata": {},
   "source": [
    "### 5. 행렬의 열별 합계 계산\n",
    "1. 5×5 크기의 Tensor M을 다음 값으로 생성하세요\n",
    "    ```\n",
    "    [[1, 2, 3, 4, 5],\n",
    "     [6, 7, 8, 9, 10],\n",
    "     [11, 12, 13, 14, 15],\n",
    "     [16, 17, 18, 19, 20],\n",
    "     [21, 22, 23, 24, 25]]\n",
    "    ```\n",
    "\n",
    "2. 행렬 M의 각 열의 합계를 계산하세요."
   ]
  },
  {
   "cell_type": "code",
   "execution_count": null,
   "metadata": {},
   "outputs": [],
   "source": [
    "# 여기에 코드를 작성합니다"
   ]
  }
 ],
 "metadata": {
  "language_info": {
   "name": "python"
  }
 },
 "nbformat": 4,
 "nbformat_minor": 2
}
