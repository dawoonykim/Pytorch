{
 "cells": [
  {
   "cell_type": "markdown",
   "metadata": {},
   "source": [
    "## PyTorch Quiz 2 : 연산\n"
   ]
  },
  {
   "cell_type": "code",
   "execution_count": 49,
   "metadata": {},
   "outputs": [],
   "source": [
    "import torch"
   ]
  },
  {
   "cell_type": "markdown",
   "metadata": {},
   "source": [
    "### 1. 덧셈과 뺄셈 연습\n",
    "\n",
    "1. [2, 4, 6]으로 초기화된 1D Tensor를 생성하세요.\n",
    "2. 각 요소에 5를 더한 Tensor를 출력하세요.\n",
    "3. 각 요소에서 3을 뺀 Tensor를 출력하세요.\n"
   ]
  },
  {
   "cell_type": "code",
   "execution_count": 50,
   "metadata": {},
   "outputs": [
    {
     "name": "stdout",
     "output_type": "stream",
     "text": [
      "a :\n",
      "tensor([2, 4, 6])\n",
      "a + 5 :\n",
      "tensor([ 7,  9, 11])\n",
      "a - 3 :\n",
      "tensor([4, 6, 8])\n"
     ]
    }
   ],
   "source": [
    "# 여기에 코드를 작성합니다\n",
    "\n",
    "a = torch.tensor([2, 4, 6])\n",
    "print(f\"a :\\n{a}\")\n",
    "a += 5\n",
    "print(f\"a + 5 :\\n{a}\")\n",
    "a -= 3\n",
    "print(f\"a - 3 :\\n{a}\")"
   ]
  },
  {
   "cell_type": "markdown",
   "metadata": {},
   "source": [
    "### 2. Tensor 간의 연산\n",
    "\n",
    "1. 3x3 크기의 Tensor 2개를 생성하세요.\n",
    "2. 두 Tensor를 각각 더하고(+), 빼고(-), 곱하고(\\*), 나누세요(/).\n"
   ]
  },
  {
   "cell_type": "code",
   "execution_count": 51,
   "metadata": {},
   "outputs": [
    {
     "name": "stdout",
     "output_type": "stream",
     "text": [
      "x + y:\n",
      "tensor([[0.2164, 0.8089, 1.3769],\n",
      "        [0.4782, 1.7526, 1.4821],\n",
      "        [0.7417, 1.6657, 1.4282]])\n",
      "x - y:\n",
      "tensor([[ 0.0896, -0.3357, -0.4347],\n",
      "        [ 0.1864, -0.1022,  0.2357],\n",
      "        [ 0.0047,  0.0475,  0.3590]])\n",
      "x * y:\n",
      "tensor([[0.0097, 0.1354, 0.4267],\n",
      "        [0.0485, 0.7653, 0.5353],\n",
      "        [0.1375, 0.6931, 0.4777]])\n",
      "x / y:\n",
      "tensor([[2.4132, 0.4134, 0.5201],\n",
      "        [2.2776, 0.8898, 1.3782],\n",
      "        [1.0128, 1.0587, 1.6715]])\n"
     ]
    }
   ],
   "source": [
    "# 여기에 코드를 작성합니다\n",
    "a = torch.tensor([[0.1530, 0.2366, 0.4711],\n",
    "                  [0.3323, 0.8252, 0.8589],\n",
    "                  [0.3732, 0.8566, 0.8936]])\n",
    "b = torch.tensor([[0.0634, 0.5723, 0.9058],\n",
    "                  [0.1459, 0.9274, 0.6232],\n",
    "                  [0.3685, 0.8091, 0.5346]])\n",
    "\n",
    "print(f\"x + y:\\n{a+b}\")\n",
    "print(f\"x - y:\\n{a-b}\")\n",
    "print(f\"x * y:\\n{a*b}\")\n",
    "print(f\"x / y:\\n{a/b}\")"
   ]
  },
  {
   "cell_type": "code",
   "execution_count": 52,
   "metadata": {},
   "outputs": [
    {
     "name": "stdout",
     "output_type": "stream",
     "text": [
      "add :\n",
      "tensor([[0.2164, 0.8089, 1.3769],\n",
      "        [0.4782, 1.7526, 1.4821],\n",
      "        [0.7417, 1.6657, 1.4282]])\n",
      "sub :\n",
      "tensor([[ 0.0896, -0.3357, -0.4347],\n",
      "        [ 0.1864, -0.1022,  0.2357],\n",
      "        [ 0.0047,  0.0475,  0.3590]])\n",
      "mul :\n",
      "tensor([[0.0097, 0.1354, 0.4267],\n",
      "        [0.0485, 0.7653, 0.5353],\n",
      "        [0.1375, 0.6931, 0.4777]])\n",
      "div :\n",
      "tensor([[2.4132, 0.4134, 0.5201],\n",
      "        [2.2776, 0.8898, 1.3782],\n",
      "        [1.0128, 1.0587, 1.6715]])\n"
     ]
    }
   ],
   "source": [
    "# 여기에 코드를 작성합니다\n",
    "c = torch.tensor([[0.1530, 0.2366, 0.4711],\n",
    "                  [0.3323, 0.8252, 0.8589],\n",
    "                  [0.3732, 0.8566, 0.8936]])\n",
    "d = torch.tensor([[0.0634, 0.5723, 0.9058],\n",
    "                  [0.1459, 0.9274, 0.6232],\n",
    "                  [0.3685, 0.8091, 0.5346]])\n",
    "\n",
    "\n",
    "add = torch.add(c, d)\n",
    "sub = torch.sub(c, d)\n",
    "mul = torch.mul(c, d)\n",
    "div = torch.div(c, d)\n",
    "\n",
    "print(f\"add :\\n{add}\")\n",
    "print(f\"sub :\\n{sub}\")\n",
    "print(f\"mul :\\n{mul}\")\n",
    "print(f\"div :\\n{div}\")"
   ]
  },
  {
   "cell_type": "code",
   "execution_count": 53,
   "metadata": {},
   "outputs": [
    {
     "name": "stdout",
     "output_type": "stream",
     "text": [
      "e.add_(f) :\n",
      "tensor([[0.2164, 0.8089, 1.3769],\n",
      "        [0.4782, 1.7526, 1.4821],\n",
      "        [0.7417, 1.6657, 1.4282]])\n",
      "e.sub_(f) :\n",
      "tensor([[ 0.0896, -0.3357, -0.4347],\n",
      "        [ 0.1864, -0.1022,  0.2357],\n",
      "        [ 0.0047,  0.0475,  0.3590]])\n",
      "e.mul_(f) :\n",
      "tensor([[0.0097, 0.1354, 0.4267],\n",
      "        [0.0485, 0.7653, 0.5353],\n",
      "        [0.1375, 0.6931, 0.4777]])\n",
      "e.div_(f) :\n",
      "tensor([[2.4132, 0.4134, 0.5201],\n",
      "        [2.2776, 0.8898, 1.3782],\n",
      "        [1.0128, 1.0587, 1.6715]])\n"
     ]
    }
   ],
   "source": [
    "# 여기에 코드를 작성합니다\n",
    "e = torch.tensor([[0.1530, 0.2366, 0.4711],\n",
    "                  [0.3323, 0.8252, 0.8589],\n",
    "                  [0.3732, 0.8566, 0.8936]])\n",
    "f = torch.tensor([[0.0634, 0.5723, 0.9058],\n",
    "                  [0.1459, 0.9274, 0.6232],\n",
    "                  [0.3685, 0.8091, 0.5346]])\n",
    "e_coppied = e.clone()\n",
    "print(f\"e.add_(f) :\\n{e_coppied.add_(f)}\")\n",
    "e_coppied = e.clone()\n",
    "print(f\"e.sub_(f) :\\n{e_coppied.sub_(f)}\")\n",
    "e_coppied = e.clone()\n",
    "print(f\"e.mul_(f) :\\n{e_coppied.mul_(f)}\")\n",
    "e_coppied = e.clone()\n",
    "print(f\"e.div_(f) :\\n{e_coppied.div_(f)}\")"
   ]
  },
  {
   "cell_type": "markdown",
   "metadata": {},
   "source": [
    "### 3. 행렬의 내적 연산\n",
    "\n",
    "1. 2×3 크기의 Tensor A를 다음 값으로 생성하세요:\n",
    "\n",
    "- `[[1,2,3], [4,5,6]]`\n",
    "\n",
    "2. 3×2 크기의 Tensor B를 다음 값으로 생성하세요:\n",
    "\n",
    "- `[[7,8],[9,10],[11,12]]`\n",
    "\n",
    "3. 두 Tensor의 행렬 내적(행렬 곱) A×B를 계산하여 출력하세요.\n"
   ]
  },
  {
   "cell_type": "code",
   "execution_count": 54,
   "metadata": {},
   "outputs": [
    {
     "name": "stdout",
     "output_type": "stream",
     "text": [
      "result :\n",
      "tensor([[ 58,  64],\n",
      "        [139, 154]])\n"
     ]
    }
   ],
   "source": [
    "# 여기에 코드를 작성합니다\n",
    "\n",
    "A = torch.tensor([[1, 2, 3], [4, 5, 6]])\n",
    "B = torch.tensor([[7, 8], [9, 10], [11, 12]])\n",
    "\n",
    "result = torch.matmul(A, B)\n",
    "\n",
    "print(f\"result :\\n{result}\")"
   ]
  },
  {
   "cell_type": "markdown",
   "metadata": {},
   "source": [
    "### 4. 행렬 연산과 값 제한\n",
    "\n",
    "1. 이전 문제에서 계산된 행렬 R(결과 행렬 A×B)를 사용하세요\n",
    "2. 행렬 R의 각 요소에 10을 더하세요.\n",
    "3. R의 각 요소를 100보다 큰 값은 100으로, 나머지는 그대로 유지하도록 제한하세요.\n"
   ]
  },
  {
   "cell_type": "code",
   "execution_count": 61,
   "metadata": {},
   "outputs": [
    {
     "name": "stdout",
     "output_type": "stream",
     "text": [
      "result :\n",
      "tensor([[ 68,  74],\n",
      "        [100, 100]])\n"
     ]
    }
   ],
   "source": [
    "# 여기에 코드를 작성합니다\n",
    "# A = torch.tensor([[1, 2, 3], [4, 5, 6]])\n",
    "# B = torch.tensor([[7, 8], [9, 10], [11, 12]])\n",
    "\n",
    "R = torch.matmul(A, B)\n",
    "R += 10\n",
    "\n",
    "# result = torch.clamp(R, None, 100)\n",
    "result = torch.clamp(R, None, max=100)\n",
    "print(f\"result :\\n{result}\")"
   ]
  },
  {
   "cell_type": "markdown",
   "metadata": {},
   "source": [
    "### 5. 행렬의 열별 합계 계산\n",
    "\n",
    "#### 1. 5×5 크기의 Tensor M을 다음 값으로 생성하세요\n",
    "\n",
    "   ```\n",
    "   [[1, 2, 3, 4, 5],\n",
    "    [6, 7, 8, 9, 10],\n",
    "    [11, 12, 13, 14, 15],\n",
    "    [16, 17, 18, 19, 20],\n",
    "    [21, 22, 23, 24, 25]]\n",
    "   ```\n",
    "\n",
    "#### 2. 행렬 M의 각 열의 합계를 계산하세요.\n",
    "\n",
    "- 행은 dim=1\n",
    "- 열은 dim=0\n"
   ]
  },
  {
   "cell_type": "code",
   "execution_count": 64,
   "metadata": {},
   "outputs": [
    {
     "name": "stdout",
     "output_type": "stream",
     "text": [
      "result :\n",
      "tensor([55, 60, 65, 70, 75])\n"
     ]
    }
   ],
   "source": [
    "# 여기에 코드를 작성합니다\n",
    "M = torch.tensor([[1, 2, 3, 4, 5],\n",
    "                  [6, 7, 8, 9, 10],\n",
    "                  [11, 12, 13, 14, 15],\n",
    "                  [16, 17, 18, 19, 20],\n",
    "                  [21, 22, 23, 24, 25]])\n",
    "\n",
    "# print(f\"M :\\n{M}\")\n",
    "\n",
    "result = torch.sum(M, dim=0)\n",
    "print(f\"result :\\n{result}\")"
   ]
  }
 ],
 "metadata": {
  "kernelspec": {
   "display_name": "pytorch-env",
   "language": "python",
   "name": "python3"
  },
  "language_info": {
   "codemirror_mode": {
    "name": "ipython",
    "version": 3
   },
   "file_extension": ".py",
   "mimetype": "text/x-python",
   "name": "python",
   "nbconvert_exporter": "python",
   "pygments_lexer": "ipython3",
   "version": "3.12.0"
  }
 },
 "nbformat": 4,
 "nbformat_minor": 2
}
