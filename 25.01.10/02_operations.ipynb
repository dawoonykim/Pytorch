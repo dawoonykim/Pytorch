{
 "cells": [
  {
   "cell_type": "markdown",
   "metadata": {},
   "source": [
    "# 02. Tensor의 연산\n"
   ]
  },
  {
   "cell_type": "code",
   "execution_count": 1,
   "metadata": {},
   "outputs": [],
   "source": [
    "import torch"
   ]
  },
  {
   "cell_type": "markdown",
   "metadata": {},
   "source": [
    "### 2-1. 산술 연산\n"
   ]
  },
  {
   "cell_type": "code",
   "execution_count": 4,
   "metadata": {},
   "outputs": [
    {
     "name": "stdout",
     "output_type": "stream",
     "text": [
      "tensor([[0.0310, 0.0469],\n",
      "        [0.2708, 0.7525]])\n",
      "tensor([[2.0310, 2.0469],\n",
      "        [2.2708, 2.7525]])\n"
     ]
    }
   ],
   "source": [
    "tensor = torch.rand(2, 2)\n",
    "print(tensor)\n",
    "tensor = tensor+2\n",
    "print(tensor)"
   ]
  },
  {
   "cell_type": "code",
   "execution_count": 5,
   "metadata": {},
   "outputs": [
    {
     "name": "stdout",
     "output_type": "stream",
     "text": [
      "tensor([[0.0640, 0.5895],\n",
      "        [0.5613, 0.9822]])\n",
      "tensor([[-1.9360, -1.4105],\n",
      "        [-1.4387, -1.0178]])\n"
     ]
    }
   ],
   "source": [
    "tensor = torch.rand(2, 2)\n",
    "print(tensor)\n",
    "tensor = tensor-2\n",
    "print(tensor)"
   ]
  },
  {
   "cell_type": "code",
   "execution_count": 3,
   "metadata": {},
   "outputs": [
    {
     "name": "stdout",
     "output_type": "stream",
     "text": [
      "tensor([[0.1339, 0.7609],\n",
      "        [0.6478, 0.0612]])\n",
      "tensor([[0.2678, 1.5218],\n",
      "        [1.2956, 0.1224]])\n"
     ]
    }
   ],
   "source": [
    "tensor = torch.rand(2, 2)\n",
    "print(tensor)\n",
    "tensor = tensor*2\n",
    "print(tensor)"
   ]
  },
  {
   "cell_type": "code",
   "execution_count": 6,
   "metadata": {},
   "outputs": [
    {
     "name": "stdout",
     "output_type": "stream",
     "text": [
      "tensor([[0.6507, 0.6296],\n",
      "        [0.9305, 0.9637]])\n",
      "tensor([[0.3253, 0.3148],\n",
      "        [0.4652, 0.4818]])\n"
     ]
    }
   ],
   "source": [
    "tensor = torch.rand(2, 2)\n",
    "print(tensor)\n",
    "tensor = tensor/2\n",
    "print(tensor)"
   ]
  },
  {
   "cell_type": "code",
   "execution_count": 16,
   "metadata": {},
   "outputs": [
    {
     "name": "stdout",
     "output_type": "stream",
     "text": [
      "x :\n",
      "tensor([[0.6995, 0.1723],\n",
      "        [0.6101, 0.8677]])\n",
      "y :\n",
      "tensor([[0.6400, 0.3139],\n",
      "        [0.9852, 0.3318]])\n",
      "\n",
      "tensor([[1.3395, 0.4862],\n",
      "        [1.5953, 1.1995]])\n",
      "add :\n",
      "tensor([[1.3395, 0.4862],\n",
      "        [1.5953, 1.1995]])\n",
      "y :\n",
      "tensor([[1.3395, 0.4862],\n",
      "        [1.5953, 1.1995]])\n"
     ]
    }
   ],
   "source": [
    "# 더하기\n",
    "y = torch.rand(2, 2)\n",
    "y = torch.rand(2, 2)\n",
    "print(f\"x :\\n{y}\\ny :\\n{y}\\n\")\n",
    "print(y+y)\n",
    "\n",
    "add = torch.add(y, y)\n",
    "print(f\"add :\\n{add}\")\n",
    "\n",
    "# in-place 바꿔치기 연산\n",
    "y.add_(y)\n",
    "print(f\"y :\\n{y}\")"
   ]
  },
  {
   "cell_type": "code",
   "execution_count": 25,
   "metadata": {},
   "outputs": [
    {
     "name": "stdout",
     "output_type": "stream",
     "text": [
      "x :\n",
      "tensor([[0.5803, 0.5546],\n",
      "        [0.3818, 0.8436]])\n",
      "y :\n",
      "tensor([[0.0163, 0.1559],\n",
      "        [0.7486, 0.7251]])\n",
      "\n",
      "tensor([[ 0.5640,  0.3987],\n",
      "        [-0.3669,  0.1184]])\n",
      "sub :\n",
      "tensor([[ 0.5640,  0.3987],\n",
      "        [-0.3669,  0.1184]])\n",
      "y :\n",
      "tensor([[-0.5640, -0.3987],\n",
      "        [ 0.3669, -0.1184]])\n"
     ]
    }
   ],
   "source": [
    "# 빼기\n",
    "y = torch.rand(2, 2)\n",
    "y = torch.rand(2, 2)\n",
    "print(f\"x :\\n{y}\\ny :\\n{y}\\n\")\n",
    "print(y-y)\n",
    "\n",
    "sub = torch.sub(y, y)\n",
    "print(f\"sub :\\n{sub}\")\n",
    "\n",
    "# in-place 바꿔치기 연산\n",
    "y.sub_(y)\n",
    "print(f\"y :\\n{y}\")"
   ]
  },
  {
   "cell_type": "code",
   "execution_count": 23,
   "metadata": {},
   "outputs": [
    {
     "name": "stdout",
     "output_type": "stream",
     "text": [
      "x :\n",
      "tensor([[0.6097, 0.8994],\n",
      "        [0.4748, 0.2445]])\n",
      "y :\n",
      "tensor([[0.2689, 0.8959],\n",
      "        [0.0156, 0.7405]])\n",
      "\n",
      "tensor([[0.1639, 0.8058],\n",
      "        [0.0074, 0.1810]])\n",
      "mul :\n",
      "tensor([[0.1639, 0.8058],\n",
      "        [0.0074, 0.1810]])\n",
      "y :\n",
      "tensor([[0.1639, 0.8058],\n",
      "        [0.0074, 0.1810]])\n"
     ]
    }
   ],
   "source": [
    "# 곱하기\n",
    "y = torch.rand(2, 2)\n",
    "y = torch.rand(2, 2)\n",
    "print(f\"x :\\n{y}\\ny :\\n{y}\\n\")\n",
    "print(y*y)\n",
    "\n",
    "mul = torch.mul(y, y)\n",
    "print(f\"mul :\\n{mul}\")\n",
    "\n",
    "# in-place 바꿔치기 연산\n",
    "y.mul_(y)\n",
    "print(f\"y :\\n{y}\")"
   ]
  },
  {
   "cell_type": "code",
   "execution_count": 24,
   "metadata": {},
   "outputs": [
    {
     "name": "stdout",
     "output_type": "stream",
     "text": [
      "x :\n",
      "tensor([[0.3811, 0.6899],\n",
      "        [0.6426, 0.2721]])\n",
      "y :\n",
      "tensor([[0.4205, 0.7194],\n",
      "        [0.1331, 0.5230]])\n",
      "\n",
      "tensor([[0.9065, 0.9589],\n",
      "        [4.8260, 0.5203]])\n",
      "div :\n",
      "tensor([[0.9065, 0.9589],\n",
      "        [4.8260, 0.5203]])\n",
      "y :\n",
      "tensor([[1.1032, 1.0428],\n",
      "        [0.2072, 1.9219]])\n"
     ]
    }
   ],
   "source": [
    "# 나누기\n",
    "y = torch.rand(2, 2)\n",
    "y = torch.rand(2, 2)\n",
    "print(f\"x :\\n{y}\\ny :\\n{y}\\n\")\n",
    "print(y/y)\n",
    "\n",
    "div = torch.div(y, y)\n",
    "print(f\"div :\\n{div}\")\n",
    "\n",
    "# in-place 바꿔치기 연산\n",
    "y.div_(y)\n",
    "print(f\"y :\\n{y}\")"
   ]
  },
  {
   "cell_type": "markdown",
   "metadata": {},
   "source": [
    "## 2-2. 각종 연산\n"
   ]
  },
  {
   "cell_type": "code",
   "execution_count": 7,
   "metadata": {},
   "outputs": [
    {
     "name": "stdout",
     "output_type": "stream",
     "text": [
      "절대값 : 10\n",
      "올림 : 4.0\n",
      "반올림 : 3.0\n",
      "내림 : 3.0\n"
     ]
    }
   ],
   "source": [
    "a = torch.tensor(-10)\n",
    "print(f\"절대값 : {torch.abs(a)}\")\n",
    "\n",
    "b = torch.tensor(3.3)\n",
    "print(f\"올림 : {torch.ceil(b)}\")\n",
    "print(f\"반올림 : {torch.round(b)}\")\n",
    "print(f\"내림 : {torch.floor(b)}\")"
   ]
  },
  {
   "cell_type": "code",
   "execution_count": 15,
   "metadata": {},
   "outputs": [
    {
     "name": "stdout",
     "output_type": "stream",
     "text": [
      "클램프 :\n",
      "tensor([[-0.3059,  0.5000],\n",
      "        [ 0.5000, -0.5000]])\n",
      "클램프 :\n",
      "tensor([[ 0.5000,  0.3000],\n",
      "        [-0.5000,  0.4000]])\n"
     ]
    }
   ],
   "source": [
    "c = torch.randn(2, 2)\n",
    "print(f\"클램프 :\\n{torch.clamp(c, -0.5, 0.5)}\")\n",
    "d = torch.tensor([[0.8, 0.3], [-0.9, 0.4]])\n",
    "print(f\"클램프 :\\n{torch.clamp(d, -0.5, 0.5)}\")"
   ]
  },
  {
   "cell_type": "code",
   "execution_count": 16,
   "metadata": {},
   "outputs": [
    {
     "name": "stdout",
     "output_type": "stream",
     "text": [
      "최소값 :\n",
      "-1.5781131982803345\n",
      "최대값 :\n",
      "1.8651868104934692\n",
      "평균 :\n",
      "0.13418352603912354\n",
      "표준편차 :\n",
      "1.5446454286575317\n",
      "모든 원소의 합 :\n",
      "0.5367341041564941\n",
      "모든 원소의 합 :\n",
      "tensor([0.2871, 0.2497])\n"
     ]
    }
   ],
   "source": [
    "y = torch.randn(2, 2)\n",
    "print(f\"최소값 :\\n{torch.min(y)}\")\n",
    "print(f\"최대값 :\\n{torch.max(y)}\")\n",
    "print(f\"평균 :\\n{torch.mean(y)}\")\n",
    "print(f\"표준편차 :\\n{torch.std(y)}\")\n",
    "print(f\"모든 원소의 합 :\\n{torch.sum(y)}\")\n",
    "print(f\"모든 원소의 합 :\\n{torch.sum(y, dim=0)}\")"
   ]
  },
  {
   "cell_type": "code",
   "execution_count": 31,
   "metadata": {},
   "outputs": [
    {
     "name": "stdout",
     "output_type": "stream",
     "text": [
      "최소값 :\n",
      "1\n",
      "최대값 :\n",
      "4\n",
      "모든 원소의 합 :\n",
      "10\n",
      "모든 원소의 합 :\n",
      "tensor([3, 7])\n",
      "모든 원소의 곲 :\n",
      "24\n",
      "중복된 값 제거 :\n",
      "tensor([1, 2, 3, 4])\n"
     ]
    }
   ],
   "source": [
    "y = torch.tensor([[1, 2], [3, 4]])\n",
    "print(f\"최소값 :\\n{torch.min(y)}\")\n",
    "print(f\"최대값 :\\n{torch.max(y)}\")\n",
    "# print(f\"평균 :\\n{torch.mean(y)}\")\n",
    "# print(f\"표준편차 :\\n{torch.std(y)}\")\n",
    "print(f\"모든 원소의 합 :\\n{torch.sum(y)}\")\n",
    "print(f\"모든 원소의 합 :\\n{torch.sum(y, dim=1)}\")\n",
    "print(f\"모든 원소의 곲 :\\n{torch.prod(y)}\")\n",
    "print(f\"중복된 값 제거 :\\n{torch.unique(torch.tensor(\n",
    "    [1, 1, 2, 2, 2, 3, 3, 3, 3, 3, 4, 4, 4, 4]))}\")"
   ]
  },
  {
   "cell_type": "markdown",
   "metadata": {},
   "source": [
    "## 2-3. 내적(dot product)\n"
   ]
  },
  {
   "cell_type": "code",
   "execution_count": 33,
   "metadata": {},
   "outputs": [
    {
     "name": "stdout",
     "output_type": "stream",
     "text": [
      "tensor([[19, 22],\n",
      "        [43, 50]])\n"
     ]
    }
   ],
   "source": [
    "x = torch.tensor([[1, 2], \n",
    "                  [3, 4]])\n",
    "y = torch.tensor([[5, 6], \n",
    "                  [7, 8]])\n",
    "\n",
    "result = torch.matmul(x, y)\n",
    "print(result)"
   ]
  }
 ],
 "metadata": {
  "kernelspec": {
   "display_name": "pytorch-env",
   "language": "python",
   "name": "python3"
  },
  "language_info": {
   "codemirror_mode": {
    "name": "ipython",
    "version": 3
   },
   "file_extension": ".py",
   "mimetype": "text/x-python",
   "name": "python",
   "nbconvert_exporter": "python",
   "pygments_lexer": "ipython3",
   "version": "3.12.0"
  }
 },
 "nbformat": 4,
 "nbformat_minor": 2
}
