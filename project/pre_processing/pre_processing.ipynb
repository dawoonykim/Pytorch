{
 "cells": [
  {
   "cell_type": "markdown",
   "metadata": {},
   "source": [
    "# 전처리"
   ]
  },
  {
   "cell_type": "code",
   "execution_count": 114,
   "metadata": {},
   "outputs": [],
   "source": [
    "import os\n",
    "import json\n",
    "import csv"
   ]
  },
  {
   "cell_type": "markdown",
   "metadata": {},
   "source": [
    "## bumper 전처리"
   ]
  },
  {
   "cell_type": "code",
   "execution_count": 115,
   "metadata": {},
   "outputs": [],
   "source": [
    "# 특정 폴더의 모든 파일 가져오기\n",
    "def get_all_files(directory):\n",
    "    all_files = []\n",
    "    for root, _, files in os.walk(directory):  # 하위 디렉토리 포함 탐색\n",
    "        for file in files:\n",
    "            all_files.append(os.path.join(root, file))  # 전체 경로 추가\n",
    "    return all_files\n"
   ]
  },
  {
   "cell_type": "markdown",
   "metadata": {},
   "source": [
    "### 파일 경로"
   ]
  },
  {
   "cell_type": "code",
   "execution_count": 117,
   "metadata": {},
   "outputs": [
    {
     "name": "stdout",
     "output_type": "stream",
     "text": [
      "테스트 경로 데이터셋이 성공적으로 저장되었습니다!\n"
     ]
    }
   ],
   "source": [
    "train_path_dataset = []\n",
    "\n",
    "\n",
    "def path_info_to_csv(directory, ouput_csv):\n",
    "    for path in directory:\n",
    "        train_path_dataset.append([path])\n",
    "\n",
    "        # CSV로 저장\n",
    "        with open(ouput_csv, newline=\"\", mode='w', encoding='utf-8') as csvfile:\n",
    "            writer = csv.writer(csvfile)\n",
    "            # 헤더 작성\n",
    "            writer.writerow([\"path\"])\n",
    "            # 데이터 작성\n",
    "            writer.writerows(train_path_dataset)\n",
    "\n",
    "\n",
    "print(\"테스트 경로 데이터셋이 성공적으로 저장되었습니다!\")"
   ]
  },
  {
   "cell_type": "code",
   "execution_count": null,
   "metadata": {},
   "outputs": [],
   "source": [
    "# 대상 디렉토리 경로\n",
    "bumper_source_directory = \"./data/data/source_data/bumper/scratch\"  # 여기에 실제 디렉토리 경로 입력\n",
    "source_files = get_all_files(bumper_source_directory)\n",
    "bumper_label_directory = \"./data/data/label_data/bumper/scratch\"  # 여기에 실제 디렉토리 경로 입력\n",
    "source_labels = get_all_files(bumper_label_directory)"
   ]
  },
  {
   "cell_type": "code",
   "execution_count": 118,
   "metadata": {},
   "outputs": [],
   "source": [
    "# 결과 CSV 파일 경로\n",
    "bumper_source_path = \"./data/data/source_data/bumper/bumper_path.csv\"\n",
    "path_info_to_csv(source_files, bumper_source_path)"
   ]
  },
  {
   "cell_type": "markdown",
   "metadata": {},
   "source": [
    "### 불량 / 양품 이진분류"
   ]
  },
  {
   "cell_type": "code",
   "execution_count": 119,
   "metadata": {},
   "outputs": [
    {
     "name": "stdout",
     "output_type": "stream",
     "text": [
      "테스트 라벨 데이터셋이 성공적으로 저장되었습니다!\n"
     ]
    }
   ],
   "source": [
    "train_json_dataset = []\n",
    "\n",
    "\n",
    "def label_info_to_csv(directory, output_csv):\n",
    "    # JSON 파일에서 'quality'를 숫자로 변환하는 매핑 예시\n",
    "    quality_to_label = {\"불량품\": 0, \"양품\": 1}  # 예시로 매핑, 실제 데이터에 맞게 수정\n",
    "\n",
    "    # 새로운 데이터셋을 저장할 리스트\n",
    "\n",
    "    # json_files = [os.path.join(directory, f)\n",
    "    #               for f in os.listdir(directory) if f.endswith('.json')]\n",
    "\n",
    "    for json_file in directory:\n",
    "        # JSON 파일 경로\n",
    "        json_path = json_file\n",
    "        # JSON 파일 읽기\n",
    "        with open(json_path, 'r', encoding='utf-8-sig') as f:\n",
    "            data = json.load(f)\n",
    "\n",
    "        # 필요한 데이터 추출\n",
    "        for annotation in data['annotations']:\n",
    "            # \"quality\" 데이터 추출\n",
    "            quality = annotation['attributes'].get('quality')\n",
    "\n",
    "            train_json_dataset.append([quality_to_label[quality]])\n",
    "\n",
    "        # CSV로 저장\n",
    "        with open(output_csv, mode='w', newline='', encoding='utf-8') as csvfile:\n",
    "            writer = csv.writer(csvfile)\n",
    "            # 헤더 작성\n",
    "            writer.writerow(['quality'])\n",
    "            # 데이터 작성\n",
    "            writer.writerows(train_json_dataset)\n",
    "\n",
    "print(\"테스트 라벨 데이터셋이 성공적으로 저장되었습니다!\")"
   ]
  },
  {
   "cell_type": "code",
   "execution_count": 120,
   "metadata": {},
   "outputs": [],
   "source": [
    "# 결과 CSV 파일 경로\n",
    "bumper_label = \"./data/data/label_data/bumper/bumper_label.csv\"\n",
    "label_info_to_csv(source_labels, bumper_label)"
   ]
  },
  {
   "cell_type": "markdown",
   "metadata": {},
   "source": [
    "## door 전처리"
   ]
  },
  {
   "cell_type": "code",
   "execution_count": 122,
   "metadata": {},
   "outputs": [
    {
     "name": "stdout",
     "output_type": "stream",
     "text": [
      "테스트 경로 데이터셋이 성공적으로 저장되었습니다!\n",
      "테스트 라벨 데이터셋이 성공적으로 저장되었습니다!\n"
     ]
    }
   ],
   "source": [
    "train_path_dataset = []\n",
    "\n",
    "\n",
    "def path_info_to_csv(directory, ouput_csv):\n",
    "    for path in directory:\n",
    "        train_path_dataset.append([path])\n",
    "\n",
    "        # CSV로 저장\n",
    "        with open(ouput_csv, newline=\"\", mode='w', encoding='utf-8') as csvfile:\n",
    "            writer = csv.writer(csvfile)\n",
    "            # 헤더 작성\n",
    "            writer.writerow([\"path\"])\n",
    "            # 데이터 작성\n",
    "            writer.writerows(train_path_dataset)\n",
    "\n",
    "\n",
    "print(\"테스트 경로 데이터셋이 성공적으로 저장되었습니다!\")\n",
    "\n",
    "train_json_dataset = []\n",
    "\n",
    "\n",
    "def label_info_to_csv(directory, output_csv):\n",
    "    # JSON 파일에서 'quality'를 숫자로 변환하는 매핑 예시\n",
    "    quality_to_label = {\"불량품\": 0, \"양품\": 1}  # 예시로 매핑, 실제 데이터에 맞게 수정\n",
    "\n",
    "    # 새로운 데이터셋을 저장할 리스트\n",
    "\n",
    "    # json_files = [os.path.join(directory, f)\n",
    "    #               for f in os.listdir(directory) if f.endswith('.json')]\n",
    "\n",
    "    for json_file in directory:\n",
    "        # JSON 파일 경로\n",
    "        json_path = json_file\n",
    "        # JSON 파일 읽기\n",
    "        with open(json_path, 'r', encoding='utf-8-sig') as f:\n",
    "            data = json.load(f)\n",
    "\n",
    "        # 필요한 데이터 추출\n",
    "        for annotation in data['annotations']:\n",
    "            # \"quality\" 데이터 추출\n",
    "            quality = annotation['attributes'].get('quality')\n",
    "\n",
    "            train_json_dataset.append([quality_to_label[quality]])\n",
    "\n",
    "        # CSV로 저장\n",
    "        with open(output_csv, mode='w', newline='', encoding='utf-8') as csvfile:\n",
    "            writer = csv.writer(csvfile)\n",
    "            # 헤더 작성\n",
    "            writer.writerow(['quality'])\n",
    "            # 데이터 작성\n",
    "            writer.writerows(train_json_dataset)\n",
    "\n",
    "print(\"테스트 라벨 데이터셋이 성공적으로 저장되었습니다!\")"
   ]
  },
  {
   "cell_type": "code",
   "execution_count": 123,
   "metadata": {},
   "outputs": [],
   "source": [
    "# 스크래치 디렉토리 경로\n",
    "door_scratch_source_directory = \"./data/data/source_data/door/scratch\"  # 여기에 실제 디렉토리 경로 입력\n",
    "door_source_scratch_files = get_all_files(door_scratch_source_directory)\n",
    "door_scratch_label_directory = \"./data/data/label_data/door/scratch\"  # 여기에 실제 디렉토리 경로 입력\n",
    "door_source_cratch_labels = get_all_files(door_scratch_label_directory)\n",
    "\n",
    "# 외관 디렉토리 경로\n",
    "door_ed_source_directory = \"./data/data/source_data/door/Exterior_damage\"  # 여기에 실제 디렉토리 경로 입력\n",
    "door_source_ed_files = get_all_files(door_ed_source_directory)\n",
    "door_ed_label_directory = \"./data/data/label_data/door/Exterior_damage\"  # 여기에 실제 디렉토리 경로 입력\n",
    "door_source_ed_labels = get_all_files(door_ed_label_directory)\n",
    "\n",
    "# 결과 CSV 파일 경로\n",
    "door_scratch_source_path = \"./data/data/source_data/door/door_scratch_path.csv\"\n",
    "door_scratch_label = \"./data/data/label_data/door/door_scratch_label.csv\"\n",
    "path_info_to_csv(door_source_scratch_files, door_scratch_source_path)\n",
    "label_info_to_csv(door_source_cratch_labels, door_scratch_label)\n",
    "\n",
    "door_ed_source_path = \"./data/data/source_data/door/door_ed_path.csv\"\n",
    "door_ed_label = \"./data/data/label_data/door/door_ed_label.csv\"\n",
    "path_info_to_csv(door_source_ed_files, door_ed_source_path)\n",
    "label_info_to_csv(door_source_ed_labels, door_ed_label)\n"
   ]
  },
  {
   "cell_type": "markdown",
   "metadata": {},
   "source": [
    "## fender 전처리"
   ]
  },
  {
   "cell_type": "code",
   "execution_count": 125,
   "metadata": {},
   "outputs": [
    {
     "name": "stdout",
     "output_type": "stream",
     "text": [
      "테스트 경로 데이터셋이 성공적으로 저장되었습니다!\n",
      "테스트 라벨 데이터셋이 성공적으로 저장되었습니다!\n"
     ]
    }
   ],
   "source": [
    "train_path_dataset = []\n",
    "\n",
    "\n",
    "def path_info_to_csv(directory, ouput_csv):\n",
    "    for path in directory:\n",
    "        train_path_dataset.append([path])\n",
    "\n",
    "        # CSV로 저장\n",
    "        with open(ouput_csv, newline=\"\", mode='w', encoding='utf-8') as csvfile:\n",
    "            writer = csv.writer(csvfile)\n",
    "            # 헤더 작성\n",
    "            writer.writerow([\"path\"])\n",
    "            # 데이터 작성\n",
    "            writer.writerows(train_path_dataset)\n",
    "\n",
    "\n",
    "print(\"테스트 경로 데이터셋이 성공적으로 저장되었습니다!\")\n",
    "\n",
    "train_json_dataset = []\n",
    "\n",
    "\n",
    "def label_info_to_csv(directory, output_csv):\n",
    "    # JSON 파일에서 'quality'를 숫자로 변환하는 매핑 예시\n",
    "    quality_to_label = {\"불량품\": 0, \"양품\": 1}  # 예시로 매핑, 실제 데이터에 맞게 수정\n",
    "\n",
    "    # 새로운 데이터셋을 저장할 리스트\n",
    "\n",
    "    # json_files = [os.path.join(directory, f)\n",
    "    #               for f in os.listdir(directory) if f.endswith('.json')]\n",
    "\n",
    "    for json_file in directory:\n",
    "        # JSON 파일 경로\n",
    "        json_path = json_file\n",
    "        # JSON 파일 읽기\n",
    "        with open(json_path, 'r', encoding='utf-8-sig') as f:\n",
    "            data = json.load(f)\n",
    "\n",
    "        # 필요한 데이터 추출\n",
    "        for annotation in data['annotations']:\n",
    "            # \"quality\" 데이터 추출\n",
    "            quality = annotation['attributes'].get('quality')\n",
    "\n",
    "            train_json_dataset.append([quality_to_label[quality]])\n",
    "\n",
    "        # CSV로 저장\n",
    "        with open(output_csv, mode='w', newline='', encoding='utf-8') as csvfile:\n",
    "            writer = csv.writer(csvfile)\n",
    "            # 헤더 작성\n",
    "            writer.writerow(['quality'])\n",
    "            # 데이터 작성\n",
    "            writer.writerows(train_json_dataset)\n",
    "\n",
    "print(\"테스트 라벨 데이터셋이 성공적으로 저장되었습니다!\")"
   ]
  },
  {
   "cell_type": "code",
   "execution_count": 126,
   "metadata": {},
   "outputs": [],
   "source": [
    "# 외관 디렉토리 경로\n",
    "fender_ed_source_directory = \"./data/data/source_data/fender/Exterior_damage\"  # 여기에 실제 디렉토리 경로 입력\n",
    "fender_source_ed_files = get_all_files(fender_ed_source_directory)\n",
    "fender_ed_label_directory = \"./data/data/label_data/fender/Exterior_damage\"  # 여기에 실제 디렉토리 경로 입력\n",
    "fender_source_ed_labels = get_all_files(fender_ed_label_directory)\n",
    "\n",
    "# 결과 CSV 파일 경로\n",
    "fender_ed_source_path = \"./data/data/source_data/fender/fender_ed_path.csv\"\n",
    "fender_ed_label = \"./data/data/label_data/fender/fender_ed_label.csv\"\n",
    "\n",
    "# 함수 실행\n",
    "path_info_to_csv(fender_source_ed_files, fender_ed_source_path)\n",
    "label_info_to_csv(fender_source_ed_labels, fender_ed_label)"
   ]
  },
  {
   "cell_type": "markdown",
   "metadata": {},
   "source": [
    "## frame 전처리"
   ]
  },
  {
   "cell_type": "code",
   "execution_count": 128,
   "metadata": {},
   "outputs": [
    {
     "name": "stdout",
     "output_type": "stream",
     "text": [
      "테스트 경로 데이터셋이 성공적으로 저장되었습니다!\n",
      "테스트 라벨 데이터셋이 성공적으로 저장되었습니다!\n"
     ]
    }
   ],
   "source": [
    "train_path_dataset = []\n",
    "\n",
    "\n",
    "def path_info_to_csv(directory, ouput_csv):\n",
    "    for path in directory:\n",
    "        train_path_dataset.append([path])\n",
    "\n",
    "        # CSV로 저장\n",
    "        with open(ouput_csv, newline=\"\", mode='w', encoding='utf-8') as csvfile:\n",
    "            writer = csv.writer(csvfile)\n",
    "            # 헤더 작성\n",
    "            writer.writerow([\"path\"])\n",
    "            # 데이터 작성\n",
    "            writer.writerows(train_path_dataset)\n",
    "\n",
    "\n",
    "print(\"테스트 경로 데이터셋이 성공적으로 저장되었습니다!\")\n",
    "\n",
    "train_json_dataset = []\n",
    "\n",
    "\n",
    "def label_info_to_csv(directory, output_csv):\n",
    "    # JSON 파일에서 'quality'를 숫자로 변환하는 매핑 예시\n",
    "    quality_to_label = {\"불량품\": 0, \"양품\": 1}  # 예시로 매핑, 실제 데이터에 맞게 수정\n",
    "\n",
    "    # 새로운 데이터셋을 저장할 리스트\n",
    "\n",
    "    # json_files = [os.path.join(directory, f)\n",
    "    #               for f in os.listdir(directory) if f.endswith('.json')]\n",
    "\n",
    "    for json_file in directory:\n",
    "        # JSON 파일 경로\n",
    "        json_path = json_file\n",
    "        # JSON 파일 읽기\n",
    "        with open(json_path, 'r', encoding='utf-8-sig') as f:\n",
    "            data = json.load(f)\n",
    "\n",
    "        # 필요한 데이터 추출\n",
    "        for annotation in data['annotations']:\n",
    "            # \"quality\" 데이터 추출\n",
    "            quality = annotation['attributes'].get('quality')\n",
    "\n",
    "            train_json_dataset.append([quality_to_label[quality]])\n",
    "\n",
    "        # CSV로 저장\n",
    "        with open(output_csv, mode='w', newline='', encoding='utf-8') as csvfile:\n",
    "            writer = csv.writer(csvfile)\n",
    "            # 헤더 작성\n",
    "            writer.writerow(['quality'])\n",
    "            # 데이터 작성\n",
    "            writer.writerows(train_json_dataset)\n",
    "\n",
    "print(\"테스트 라벨 데이터셋이 성공적으로 저장되었습니다!\")"
   ]
  },
  {
   "cell_type": "code",
   "execution_count": 129,
   "metadata": {},
   "outputs": [],
   "source": [
    "# 외관 디렉토리 경로\n",
    "frame_seamf_source_directory = \"./data/data/source_data/frame/Exterior_damage\"  # 여기에 실제 디렉토리 경로 입력\n",
    "frame_source_ed_files = get_all_files(frame_seamf_source_directory)\n",
    "frame_ed_label_directory = \"./data/data/label_data/frame/Exterior_damage\"  # 여기에 실제 디렉토리 경로 입력\n",
    "frame_source_ed_labels = get_all_files(frame_ed_label_directory)\n",
    "\n",
    "# 외관 디렉토리 경로\n",
    "frame_hd_source_directory = \"./data/data/source_data/frame/Hole_distortion\"  # 여기에 실제 디렉토리 경로 입력\n",
    "frame_source_hd_files = get_all_files(frame_hd_source_directory)\n",
    "frame_hd_label_directory = \"./data/data/label_data/frame/Hole_distortion\"  # 여기에 실제 디렉토리 경로 입력\n",
    "frame_source_hd_labels = get_all_files(frame_hd_label_directory)\n",
    "\n",
    "# 외관 디렉토리 경로\n",
    "frame_sealf_source_directory = \"./data/data/source_data/frame/Sealing_failure\"  # 여기에 실제 디렉토리 경로 입력\n",
    "frame_source_sealf_files = get_all_files(frame_sealf_source_directory)\n",
    "frame_sealf_label_directory = \"./data/data/label_data/frame/Sealing_failure\"  # 여기에 실제 디렉토리 경로 입력\n",
    "frame_source_sealf_labels = get_all_files(frame_sealf_label_directory)\n",
    "\n",
    "# 외관 디렉토리 경로\n",
    "frame_seamf_source_directory = \"./data/data/source_data/frame/Seam_failure\"  # 여기에 실제 디렉토리 경로 입력\n",
    "frame_source_seamf_files = get_all_files(frame_seamf_source_directory)\n",
    "frame_seamf_label_directory = \"./data/data/label_data/frame/Seam_failure\"  # 여기에 실제 디렉토리 경로 입력\n",
    "frame_source_seamf_labels = get_all_files(frame_seamf_label_directory)\n",
    "\n",
    "# 결과 CSV 파일 경로\n",
    "frame_ed_source_path = \"./data/data/source_data/frame/frame_ed_path.csv\"\n",
    "frame_ed_label = \"./data/data/label_data/frame/frame_ed_label.csv\"\n",
    "path_info_to_csv(frame_source_ed_files, frame_ed_source_path)\n",
    "label_info_to_csv(frame_source_ed_labels, frame_ed_label)\n",
    "\n",
    "frame_hd_source_path = \"./data/data/source_data/frame/frame_hd_path.csv\"\n",
    "frame_hd_label = \"./data/data/label_data/frame/frame_hd_label.csv\"\n",
    "path_info_to_csv(frame_source_hd_files, frame_hd_source_path)\n",
    "label_info_to_csv(frame_source_hd_labels, frame_hd_label)\n",
    "\n",
    "frame_sealf_source_path = \"./data/data/source_data/frame/frame_sealf__path.csv\"\n",
    "frame_sealf_label = \"./data/data/label_data/frame/frame_sealf__label.csv\"\n",
    "path_info_to_csv(frame_source_sealf_files, frame_sealf_source_path)\n",
    "label_info_to_csv(frame_source_sealf_labels, frame_sealf_label)\n",
    "\n",
    "frame_seamf_source_path = \"./data/data/source_data/frame/frame_seamf_path.csv\"\n",
    "frame_seamf_label = \"./data/data/label_data/frame/frame_seamf_label.csv\"\n",
    "path_info_to_csv(frame_source_seamf_files, frame_seamf_source_path)\n",
    "label_info_to_csv(frame_source_seamf_labels, frame_seamf_label)\n",
    "\n",
    "\n",
    "\n",
    "\n"
   ]
  }
 ],
 "metadata": {
  "kernelspec": {
   "display_name": "pytorch-env",
   "language": "python",
   "name": "python3"
  },
  "language_info": {
   "codemirror_mode": {
    "name": "ipython",
    "version": 3
   },
   "file_extension": ".py",
   "mimetype": "text/x-python",
   "name": "python",
   "nbconvert_exporter": "python",
   "pygments_lexer": "ipython3",
   "version": "3.12.0"
  }
 },
 "nbformat": 4,
 "nbformat_minor": 2
}
