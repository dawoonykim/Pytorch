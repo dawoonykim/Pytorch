{
 "cells": [
  {
   "cell_type": "code",
   "execution_count": 1,
   "metadata": {},
   "outputs": [],
   "source": [
    "\n",
    "import pandas as pd\n",
    "import numpy as np\n",
    "from numpy import random"
   ]
  },
  {
   "cell_type": "markdown",
   "metadata": {},
   "source": [
    "# 이전 코드"
   ]
  },
  {
   "cell_type": "code",
   "execution_count": 2,
   "metadata": {},
   "outputs": [],
   "source": [
    "# def load_data(file_path):\n",
    "#     data = np.genfromtxt(file_path, delimiter=',', dtype=str, encoding='UTF-8')\n",
    "#     return np.delete(data, 0, axis=0)\n",
    "\n",
    "# data_bumper = load_data('./data/data/output/bumper/bumper_data.csv',)\n",
    "# data_door_ed = load_data('./data/data/output/door/door_ed_data.csv')\n",
    "# data_door_scratch = load_data('./data/data/output/door/door_scratch_data.csv')\n",
    "# data_fender = load_data('./data/data/output/fender/fender_ed_data.csv',)\n",
    "# data_frame_ed = load_data('./data/data/output/frame/frame_ed_data.csv')\n",
    "# data_frame_hd = load_data('./data/data/output/frame/frame_hd_data.csv')\n",
    "# data_frame_sealf = load_data('./data/data/output/frame/frame_sealf_data.csv')\n",
    "# data_frame_seamf = load_data('./data/data/output/frame/frame_seamf_data.csv')\n",
    "\n",
    "\n",
    "# data_1 = np.array((data_bumper))\n",
    "# data_2 = np.array((data_door_ed))\n",
    "# data_3 = np.array((data_door_scratch))\n",
    "# data_4 = np.array((data_fender))\n",
    "# data_5 = np.array((data_frame_ed))\n",
    "# data_6 = np.array((data_frame_hd))\n",
    "# data_7 = np.array((data_frame_sealf))\n",
    "# data_8 = np.array((data_frame_seamf))\n",
    "\n",
    "# data = np.concatenate((data_1, data_2, data_3, data_4,\n",
    "#                       data_5, data_6, data_7, data_8), axis=0)  # axis=0: 배치 축\n",
    "# print(len(data))\n",
    "# print(data)"
   ]
  },
  {
   "cell_type": "markdown",
   "metadata": {},
   "source": [
    "# 새로운 데이터 불러오는 코드"
   ]
  },
  {
   "cell_type": "code",
   "execution_count": 3,
   "metadata": {},
   "outputs": [
    {
     "name": "stdout",
     "output_type": "stream",
     "text": [
      "7381\n",
      "                                                   path  quality part  \\\n",
      "0     .\\data\\data\\source_data\\bumper\\scratch\\205_101...        1   범퍼   \n",
      "1     .\\data\\data\\source_data\\bumper\\scratch\\205_101...        1   범퍼   \n",
      "2     .\\data\\data\\source_data\\bumper\\scratch\\205_101...        1   범퍼   \n",
      "3     .\\data\\data\\source_data\\bumper\\scratch\\205_101...        1   범퍼   \n",
      "4     .\\data\\data\\source_data\\bumper\\scratch\\205_101...        1   범퍼   \n",
      "...                                                 ...      ...  ...   \n",
      "1044  .\\data\\data\\source_data\\frame\\Seam_failure\\207...        0  프레임   \n",
      "1045  .\\data\\data\\source_data\\frame\\Seam_failure\\207...        0  프레임   \n",
      "1046  .\\data\\data\\source_data\\frame\\Seam_failure\\207...        0  프레임   \n",
      "1047  .\\data\\data\\source_data\\frame\\Seam_failure\\207...        0  프레임   \n",
      "1048  .\\data\\data\\source_data\\frame\\Seam_failure\\207...        0  프레임   \n",
      "\n",
      "                                                 bboxes  \n",
      "0                                                    []  \n",
      "1                                                    []  \n",
      "2                                                    []  \n",
      "3                                                    []  \n",
      "4                                                    []  \n",
      "...                                                 ...  \n",
      "1044  [[1910.5116279069766, 762.874251497006, 240.27...  \n",
      "1045  [[1857.7674418604647, 991.7365269461079, 205.1...  \n",
      "1046  [[1807.3674060910248, 833.2934131736528, 662.2...  \n",
      "1047  [[2059.367406091025, 657.2455089820359, 287.16...  \n",
      "1048  [[2006.3731264331855, 687.1101077368886, 119.2...  \n",
      "\n",
      "[7381 rows x 4 columns]\n"
     ]
    }
   ],
   "source": [
    "import pandas as pd\n",
    "\n",
    "def load_data_with_pandas(file_path):\n",
    "    data = pd.read_csv(file_path)\n",
    "    return data\n",
    "\n",
    "data_bumper = load_data_with_pandas('./data/data/output/bumper/bumper_data.csv',)\n",
    "data_door_ed = load_data_with_pandas('./data/data/output/door/door_ed_data.csv')\n",
    "data_door_scratch = load_data_with_pandas('./data/data/output/door/door_scratch_data.csv')\n",
    "data_fender = load_data_with_pandas('./data/data/output/fender/fender_ed_data.csv',)\n",
    "data_frame_ed = load_data_with_pandas('./data/data/output/frame/frame_ed_data.csv')\n",
    "data_frame_hd = load_data_with_pandas('./data/data/output/frame/frame_hd_data.csv')\n",
    "data_frame_sealf = load_data_with_pandas('./data/data/output/frame/frame_sealf_data.csv')\n",
    "data_frame_seamf = load_data_with_pandas('./data/data/output/frame/frame_seamf_data.csv')\n",
    "\n",
    "\n",
    "# 데이터를 하나의 데이터프레임으로 결합\n",
    "data = pd.concat([\n",
    "    data_bumper,\n",
    "    data_door_ed,\n",
    "    data_door_scratch,\n",
    "    data_fender,\n",
    "    data_frame_ed,\n",
    "    data_frame_hd,\n",
    "    data_frame_sealf,\n",
    "    data_frame_seamf\n",
    "], axis=0)  # axis=0: 행 방향으로 결합\n",
    "\n",
    "# 결과 출력\n",
    "print(len(data))  # 총 데이터 개수\n",
    "print(data)"
   ]
  },
  {
   "cell_type": "code",
   "execution_count": 4,
   "metadata": {},
   "outputs": [
    {
     "name": "stdout",
     "output_type": "stream",
     "text": [
      "[4087 5464 6352   54 3327 3051 2675 5765 2801 3956 6441 6251 2614 5966\n",
      " 1192  689 3030 1512  674 5693 3139 2657 4919 4312 6906 4648  648 6821\n",
      " 6307 4940  660 6613  311  227 5259 4220  775 3749 4987 2668 3279 6795\n",
      " 2249 4590 3698 2097 1661 1992 7278 5468 4871  146 5578 3708  358 2116\n",
      " 4794 6988 3358  829 5457 4484 6876 2693 7366 4360 1843 5736 3904 2049\n",
      " 3203 6302 5968 6478  993 6985  486 1972 1071 1856 1203 4083 3156 2934\n",
      " 6267 4955 7302 1655 1482 3154 7211 5977 6273 4788 3669 3327 1135 5356\n",
      " 1967 6588  971 5807 2364 2454  961 4557  327 5337 5400 6404 3411 1981\n",
      " 6831 1018 3713 5478 5988 3066 5212 5505 4134 3244 7236 4845 4647 3272\n",
      " 3123 3580 6953 5433 3819 4211  742 2795 7169  281 6521  618  674 2165\n",
      " 7018 4322 5504 3943 1698 6754 4369 5602  455 4688 3604 6111 2385 4258\n",
      " 1732 2550 1730 6094 3065 6583 2482 7093 4144  339 6137 4591 5696  448\n",
      "  916 4537 1230  544 6167 6939 6800 3565 2641 3975 2658 3713 6270 4533\n",
      " 2393 4225  661 1302 5156 4682 2055 1250 4871 3299 2165 3088  445 5014\n",
      " 7085 3224  480 3504]\n"
     ]
    }
   ],
   "source": [
    "data_num=200  #100개당 35초\n",
    "num=random.randint(len(data), size=data_num)\n",
    "print(num)"
   ]
  },
  {
   "cell_type": "code",
   "execution_count": 5,
   "metadata": {},
   "outputs": [
    {
     "name": "stdout",
     "output_type": "stream",
     "text": [
      "진행현황: 0% 완료\n",
      "진행현황: 5% 완료\n",
      "진행현황: 10% 완료\n",
      "진행현황: 15% 완료\n",
      "진행현황: 20% 완료\n",
      "진행현황: 25% 완료\n",
      "진행현황: 30% 완료\n",
      "진행현황: 35% 완료\n",
      "진행현황: 40% 완료\n",
      "진행현황: 45% 완료\n",
      "진행현황: 50% 완료\n",
      "진행현황: 55% 완료\n",
      "진행현황: 60% 완료\n",
      "진행현황: 65% 완료\n",
      "진행현황: 70% 완료\n",
      "진행현황: 75% 완료\n",
      "진행현황: 80% 완료\n",
      "진행현황: 85% 완료\n",
      "진행현황: 90% 완료\n",
      "진행현황: 95% 완료\n",
      "x.shape: (200, 2000, 4000, 3)\n",
      "y.shape: (200, 1)\n"
     ]
    }
   ],
   "source": [
    "from PIL import Image\n",
    "\n",
    "# 이미지 데이터 로드 및 배열 생성\n",
    "first_image_path = data.iloc[0, 0]  # 첫 번째 이미지 경로\n",
    "img_1 = Image.open(first_image_path)\n",
    "a = np.array(img_1)\n",
    "x = np.expand_dims(a, axis=0)  # 첫 번째 이미지 배열 확장\n",
    "y = []  # 라벨을 저장할 리스트\n",
    "\n",
    "# 이미지 데이터 배치 생성\n",
    "for i, idx in enumerate(num):\n",
    "    img_path = data.iloc[idx, 0]  # 이미지 경로\n",
    "    label = data.iloc[idx, 1]    # 라벨\n",
    "    img = Image.open(img_path)   # 이미지 로드\n",
    "    img_array = np.array(img)    # 이미지 배열로 변환\n",
    "    img_expanded = np.expand_dims(img_array, axis=0)  # 차원 확장\n",
    "    x = np.concatenate((x, img_expanded), axis=0)     # 이미지 데이터 결합\n",
    "    y.append(label)                                   # 라벨 추가\n",
    "\n",
    "    # 진행 상황 출력\n",
    "    if i % 10 == 0:\n",
    "        print(f\"진행현황: {int(i / data_num * 100)}% 완료\")\n",
    "\n",
    "# 첫 번째 이미지 제거\n",
    "x = np.delete(x, 0, axis=0)\n",
    "y = np.array(y).reshape(data_num, 1)  # 라벨 배열로 변환\n",
    "\n",
    "# 결과 출력\n",
    "print(f\"x.shape: {x.shape}\")  # 이미지 배열 크기\n",
    "print(f\"y.shape: {y.shape}\")  # 라벨 배열 크기"
   ]
  },
  {
   "cell_type": "code",
   "execution_count": 8,
   "metadata": {},
   "outputs": [
    {
     "name": "stdout",
     "output_type": "stream",
     "text": [
      "데이터가 './data/sampled_data.pkl'에 저장되었습니다.\n",
      "데이터가 './data/sampled_data.pkl'에서 로드되었습니다.\n",
      "x_train.shape: (64, 2000, 4000, 3)\n",
      "x_valid.shape: (16, 2000, 4000, 3)\n",
      "x_test.shape: (20, 2000, 4000, 3)\n",
      "y_train.shape: (64, 1)\n",
      "y_valid.shape: (16, 1)\n",
      "y_test.shape: (20, 1)\n"
     ]
    }
   ],
   "source": [
    "import os\n",
    "import numpy as np\n",
    "import pickle\n",
    "from sklearn.utils import resample\n",
    "from sklearn.model_selection import train_test_split\n",
    "\n",
    "# 저장할 파일 경로\n",
    "data_save_path = './data/sampled_data.pkl'\n",
    "\n",
    "# 데이터 저장 함수\n",
    "def save_data(file_path, x, y):\n",
    "    # 폴더가 없으면 생성\n",
    "    os.makedirs(os.path.dirname(file_path), exist_ok=True)\n",
    "\n",
    "    with open(file_path, 'wb') as f:\n",
    "        pickle.dump({'x': x, 'y': y}, f)\n",
    "    print(f\"데이터가 '{file_path}'에 저장되었습니다.\")\n",
    "\n",
    "# 데이터 로드 함수\n",
    "def load_data(file_path):\n",
    "    with open(file_path, 'rb') as f:\n",
    "        data = pickle.load(f)\n",
    "    print(f\"데이터가 '{file_path}'에서 로드되었습니다.\")\n",
    "    return data['x'], data['y']\n",
    "\n",
    "# 데이터 로드 후 샘플링과 분할 처리 (최초 1회 실행)\n",
    "def process_and_save_data():\n",
    "    # 이미지와 라벨 데이터 생성 (예시 코드 연결)\n",
    "    # x와 y는 이미지를 처리한 결과\n",
    "    x_sampled, y_sampled = resample(x, y, n_samples=100, random_state=42)\n",
    "\n",
    "    # 데이터 저장\n",
    "    save_data(data_save_path, x_sampled, y_sampled)\n",
    "\n",
    "    return x_sampled, y_sampled\n",
    "\n",
    "# 데이터 로드 및 분할\n",
    "def load_and_split_data(file_path):\n",
    "    x_sampled, y_sampled = load_data(file_path)\n",
    "\n",
    "    # 데이터 분할\n",
    "    x_training, x_test, y_training, y_test = train_test_split(\n",
    "        x_sampled, y_sampled, test_size=0.2, shuffle=True, stratify=y_sampled, random_state=34\n",
    "    )\n",
    "    x_train, x_valid, y_train, y_valid = train_test_split(\n",
    "        x_training, y_training, test_size=0.2, shuffle=True, stratify=y_training, random_state=34\n",
    "    )\n",
    "\n",
    "    return x_train, x_valid, x_test, y_train, y_valid, y_test\n",
    "\n",
    "# 최초 실행 시 데이터 처리 및 저장\n",
    "x_sampled, y_sampled = process_and_save_data()\n",
    "\n",
    "# 저장된 데이터 로드 및 분할\n",
    "x_train, x_valid, x_test, y_train, y_valid, y_test = load_and_split_data(data_save_path)\n",
    "\n",
    "# 결과 출력\n",
    "print(f\"x_train.shape: {x_train.shape}\")\n",
    "print(f\"x_valid.shape: {x_valid.shape}\")\n",
    "print(f\"x_test.shape: {x_test.shape}\")\n",
    "print(f\"y_train.shape: {y_train.shape}\")\n",
    "print(f\"y_valid.shape: {y_valid.shape}\")\n",
    "print(f\"y_test.shape: {y_test.shape}\")\n"
   ]
  },
  {
   "cell_type": "markdown",
   "metadata": {},
   "source": [
    "# 데이터 연결"
   ]
  },
  {
   "cell_type": "code",
   "execution_count": null,
   "metadata": {},
   "outputs": [],
   "source": [
    "from sklearn.utils import resample\n",
    "import numpy as np\n",
    "from sklearn.model_selection import train_test_split\n",
    "\n",
    "\n",
    "# data sampling\n",
    "x_sampled, y_sampled = resample(x, y, n_samples=100, random_state=42)\n",
    "\n",
    "print(x_sampled.shape)\n",
    "print(y_sampled.shape)\n",
    "\n",
    "\n",
    "# data split\n",
    "x_training, x_test, y_training, y_test = train_test_split(\n",
    "    x_sampled, y_sampled, test_size=0.2, shuffle=True, stratify=y_sampled, random_state=34)\n",
    "x_train, x_valid, y_train, y_valid = train_test_split(\n",
    "    x_training, y_training, test_size=0.2, shuffle=True, stratify=y_training, random_state=34)"
   ]
  },
  {
   "cell_type": "markdown",
   "metadata": {},
   "source": [
    "## 모델 코드 작성"
   ]
  },
  {
   "cell_type": "markdown",
   "metadata": {},
   "source": [
    "## 손실 그래프"
   ]
  },
  {
   "cell_type": "code",
   "execution_count": null,
   "metadata": {},
   "outputs": [],
   "source": [
    "# loss function\n",
    "import matplotlib.pyplot as plt\n",
    "\n",
    "# 손실 감소 그래프\n",
    "plt.subplot(1, 2, 1)\n",
    "plt.plot(losses)\n",
    "plt.grid()\n",
    "plt.title('Loss over Epochs')\n",
    "plt.xlabel('epoch')\n",
    "plt.ylabel('Loss')"
   ]
  },
  {
   "cell_type": "markdown",
   "metadata": {},
   "source": [
    "## 데이터 검증"
   ]
  },
  {
   "cell_type": "code",
   "execution_count": null,
   "metadata": {},
   "outputs": [],
   "source": [
    "## data evaluation\n",
    "\n",
    "from sklearn.metrics import accuracy_score, precision_score, recall_score, confusion_matrix, roc_curve, roc_auc_score\n",
    "pred=model(y_test)\n",
    "\n",
    "\n",
    "# 혼동 행렬\n",
    "confmat = confusion_matrix(y_true=y_test, y_pred=pred)\n",
    "print('혼동 행렬: ', confmat)\n",
    "\n",
    "\n",
    "# 정확도\n",
    "accuracy=accuracy_score(y_true=y_test, y_pred=pred)\n",
    "print('정확도: ', accuracy)\n",
    "\n",
    "\n",
    "# 정밀도(precision)\n",
    "precision = precision_score(y_true=y_test, y_pred=pred)\n",
    "print('정밀도: ', precision)\n",
    "\n",
    "\n",
    "# 재현율(recall)\n",
    "recall = recall_score(y_true=y_test, y_pred=pred)\n",
    "print('재현율: ', recall)\n",
    "\n",
    "\n",
    "# roc auc\n",
    "fpr, tpr, _ = roc_curve(y_true=y_test, y_pred=pred)\n",
    "\n",
    "plt.plot(fpr, tpr)\n",
    "plt.xlabel('FP Rate')\n",
    "plt.ylabel('TP Rate')\n",
    "\n",
    "plt.show()\n",
    "\n",
    "print('auc 점수: ', roc_auc_score(y_test, pred))"
   ]
  }
 ],
 "metadata": {
  "kernelspec": {
   "display_name": "pytorch-env",
   "language": "python",
   "name": "python3"
  },
  "language_info": {
   "codemirror_mode": {
    "name": "ipython",
    "version": 3
   },
   "file_extension": ".py",
   "mimetype": "text/x-python",
   "name": "python",
   "nbconvert_exporter": "python",
   "pygments_lexer": "ipython3",
   "version": "3.12.0"
  }
 },
 "nbformat": 4,
 "nbformat_minor": 2
}
