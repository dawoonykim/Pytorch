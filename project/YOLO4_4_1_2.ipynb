{
 "cells": [
  {
   "cell_type": "code",
   "execution_count": 1,
   "metadata": {},
   "outputs": [],
   "source": [
    "\n",
    "import pandas as pd\n",
    "import numpy as np\n",
    "from numpy import random\n",
    "from sklearn.model_selection import train_test_split\n",
    "import ast\n",
    "import os\n",
    "from PIL import Image\n",
    "import yaml"
   ]
  },
  {
   "cell_type": "markdown",
   "metadata": {},
   "source": [
    "# 일부 에러 데이터 정규화"
   ]
  },
  {
   "cell_type": "code",
   "execution_count": 2,
   "metadata": {},
   "outputs": [],
   "source": [
    "# import pandas as pd\n",
    "\n",
    "# def modify_csv(input_file, output_file, column_name, new_value, first_zero):\n",
    "#     # CSV 파일 읽기\n",
    "#     df = pd.read_csv(input_file)\n",
    "\n",
    "#     # 조건 설정: 첫 번째 0이 나오기 전까지만\n",
    "#     row_condition = df.index < first_zero_frame_hd\n",
    "\n",
    "#     # 조건에 해당하는 값 수정\n",
    "#     df.loc[row_condition, column_name] = new_value\n",
    "\n",
    "#     # 수정된 데이터 저장\n",
    "#     df.to_csv(output_file, index=False)\n",
    "\n",
    "# # 함수 사용 예시\n",
    "# # modify_csv(\n",
    "# #     \"C:\\\\Users\\\\dawoo\\\\desktop\\\\sf7\\\\coding\\\\pytorch\\\\project\\\\data\\\\data\\\\output\\\\frame\\\\frame_hd_data.csv\", \n",
    "# #     \"./data/data/output/frame/frame_hd_data_modify.csv\", \n",
    "# #     \"bboxes\", \n",
    "# #     \"[]\", \n",
    "# #     first_zero_frame_hd\n",
    "# # )\n",
    "\n",
    "# # modify_csv(\n",
    "# #     \"./data/data/output/frame/frame_sealf_data.csv\", \n",
    "# #     \"./data/data/output/frame/frame_sealf_data_modify.csv\", \n",
    "# #     \"bboxes\", \n",
    "# #     \"[]\", \n",
    "# #     first_zero_frame_sealf\n",
    "# # )\n",
    "\n",
    "# # modify_csv(\n",
    "# #     \"./data/data/output/frame/frame_seamf_data.csv\", \n",
    "# #     \"./data/data/output/frame/frame_seamf_data_modify.csv\", \n",
    "# #     \"bboxes\", \n",
    "# #     \"[]\", \n",
    "# #     first_zero_frame_seamf\n",
    "# # )\n"
   ]
  },
  {
   "cell_type": "markdown",
   "metadata": {},
   "source": [
    "# 데이터 전처리\n",
    "- 양품 : 75 * 4 = 300\n",
    "- 불량품 : 300 * 4 = 1200 랜덤 샘플링"
   ]
  },
  {
   "cell_type": "code",
   "execution_count": 3,
   "metadata": {},
   "outputs": [],
   "source": [
    "from sklearn.model_selection import train_test_split\n",
    "import pandas as pd\n",
    "\n",
    "# CSV 파일 로드 함수\n",
    "def load_data_with_pandas(file_path):\n",
    "    data = pd.read_csv(file_path)\n",
    "    return data\n",
    "\n",
    "# 데이터 로드\n",
    "data_bumper = load_data_with_pandas('./data/data/output/bumper/bumper_data.csv')\n",
    "data_door_ed = load_data_with_pandas('./data/data/output/door/door_ed_data.csv')\n",
    "data_door_scratch = load_data_with_pandas('./data/data/output/door/door_scratch_data.csv')\n",
    "data_fender = load_data_with_pandas('./data/data/output/fender/fender_ed_data.csv')\n",
    "data_frame_ed = load_data_with_pandas('./data/data/output/frame/frame_ed_data.csv')\n",
    "data_frame_hd = load_data_with_pandas('./data/data/output/frame/frame_hd_data_modify.csv')\n",
    "data_frame_sealf = load_data_with_pandas('./data/data/output/frame/frame_sealf_data_modify.csv')\n",
    "data_frame_seamf = load_data_with_pandas('./data/data/output/frame/frame_seamf_data_modify.csv')\n",
    "\n",
    "\n",
    "# 0이 처음 출력되는 index 값 추출\n",
    "first_zero_bumper = data_bumper[data_bumper['quality'] == 0].index[0]\n",
    "\n",
    "first_zero_door_ed = data_door_ed[data_door_ed['quality'] == 0].index[0]\n",
    "first_zero_door_scratch = data_door_scratch[data_door_scratch['quality'] == 0].index[0]\n",
    "\n",
    "first_zero_fender = data_fender[data_fender['quality'] == 0].index[0]\n",
    "\n",
    "first_zero_frame_ed = data_frame_ed[data_frame_ed['quality'] == 0].index[0]\n",
    "first_zero_frame_hd = data_frame_hd[data_frame_hd['quality'] == 0].index[0]\n",
    "first_zero_frame_sealf = data_frame_sealf[data_frame_sealf['quality'] == 0].index[0]\n",
    "first_zero_frame_seamf = data_frame_seamf[data_frame_seamf['quality'] == 0].index[0]\n",
    "\n"
   ]
  },
  {
   "cell_type": "markdown",
   "metadata": {},
   "source": [
    "### index을 통해서 양품과 불량품의 위치를 구분"
   ]
  },
  {
   "cell_type": "code",
   "execution_count": 4,
   "metadata": {},
   "outputs": [],
   "source": [
    "# print(f\"bumper 양품 : {len(data_bumper.iloc[:first_zero_bumper])}\")\n",
    "# print(f\"bumper 불량품 : {len(data_bumper.iloc[first_zero_bumper:])}\")\n",
    "\n",
    "# print(f\"door_ed 양품 : {len(data_door_ed.iloc[:first_zero_door_ed])}\")\n",
    "# print(f\"door_ed 불양품 : {len(data_door_ed.iloc[first_zero_door_ed:])}\")\n",
    "# print(f\"door_scratch 양품 : {len(data_door_scratch.iloc[:first_zero_door_scratch])}\")\n",
    "# print(f\"door_scratch 불양품 : {len(data_door_scratch.iloc[first_zero_door_scratch:])}\")\n",
    "\n",
    "# print(f\"data_fender 양품 : {len(data_fender.iloc[:first_zero_fender])}\")\n",
    "# print(f\"data_fender 불량품 : {len(data_fender.iloc[first_zero_fender:])}\")\n",
    "\n",
    "# print(f\"data_frame_ed 양품 : {len(data_frame_ed.iloc[:first_zero_frame_ed])}\")\n",
    "# print(f\"data_frame_ed 불양품 : {len(data_frame_ed.iloc[first_zero_frame_ed:])}\")\n",
    "# print(f\"data_frame_hd 양품 : {len(data_frame_hd.iloc[:first_zero_frame_hd])}\")\n",
    "# print(f\"data_frame_hd 불양품 : {len(data_frame_hd.iloc[first_zero_frame_hd:])}\")\n",
    "# print(f\"data_frame_sealf 양품 : {len(data_frame_sealf.iloc[:first_zero_frame_sealf])}\")\n",
    "# print(f\"data_frame_sealf 불양품 : {len(data_frame_sealf.iloc[first_zero_frame_sealf:])}\")\n",
    "# print(f\"data_frame_seamf 양품 : {len(data_frame_seamf.iloc[:first_zero_frame_seamf])}\")\n",
    "# print(f\"data_frame_seamf 불양품 : {len(data_frame_seamf.iloc[first_zero_frame_seamf:])}\")\n",
    "\n"
   ]
  },
  {
   "cell_type": "markdown",
   "metadata": {},
   "source": [
    "### 양품 데이터 추출"
   ]
  },
  {
   "cell_type": "code",
   "execution_count": 5,
   "metadata": {},
   "outputs": [],
   "source": [
    "import pandas as pd\n",
    "data_door = pd.concat([data_door_ed.iloc[:first_zero_door_ed],\n",
    "                      data_door_scratch.iloc[:first_zero_door_scratch]], ignore_index=True)\n",
    "data_frame = pd.concat([data_frame_ed.iloc[:first_zero_frame_ed],\n",
    "                        data_frame_hd.iloc[:first_zero_frame_hd], data_frame_sealf.iloc[:first_zero_frame_sealf], data_frame_seamf.iloc[:first_zero_frame_seamf]], ignore_index=True)\n",
    "\n",
    "bumper_before_zero = data_bumper.iloc[:first_zero_bumper]\n",
    "fender_before_zero = data_fender.iloc[:first_zero_fender]\n",
    "\n",
    "\n",
    "# 75개를 무작위로 추출 (복원 추출, random_state 설정)\n",
    "bumper_ok_random_sample = bumper_before_zero.sample(\n",
    "    n=min(75, len(bumper_before_zero)), replace=False, random_state=55)\n",
    "fender_ok_random_sample = fender_before_zero.sample(\n",
    "    n=min(75, len(fender_before_zero)), replace=False, random_state=55)\n",
    "door_ok_random_sample = data_door.sample(n=75, replace=False)\n",
    "frame_ok_random_sample = data_frame.sample(n=75, replace=False)\n",
    "# 결과 출력\n",
    "# print(bumper_ok_random_sample)\n",
    "# print(len(bumper_ok_random_sample))\n",
    "\n",
    "# print(fender_ok_random_sample)\n",
    "# print(len(fender_ok_random_sample))\n",
    "\n",
    "# print(door_ok_random_sample)\n",
    "# print(len(door_ok_random_sample))\n",
    "\n",
    "# print(frame_ok_random_sample)\n",
    "# print(len(frame_ok_random_sample))\n",
    "\n",
    "ok_data = pd.concat([bumper_ok_random_sample, fender_ok_random_sample,\n",
    "                    door_ok_random_sample, frame_ok_random_sample], ignore_index=True, axis=0)\n",
    "\n",
    "# ok_data"
   ]
  },
  {
   "cell_type": "markdown",
   "metadata": {},
   "source": [
    "### 불량품 데이터 추출"
   ]
  },
  {
   "cell_type": "code",
   "execution_count": 6,
   "metadata": {},
   "outputs": [],
   "source": [
    "import pandas as pd\n",
    "data_fault_bumper = data_bumper.iloc[first_zero_bumper:]\n",
    "data_fault_door = pd.concat([data_door_ed.iloc[first_zero_door_ed:],\n",
    "                             data_door_scratch.iloc[first_zero_door_scratch:]], ignore_index=True)\n",
    "data_fault_fender = data_fender.iloc[first_zero_fender:]\n",
    "data_fault_frame = pd.concat([data_frame_ed.iloc[first_zero_frame_ed:],\n",
    "                              data_frame_hd.iloc[first_zero_frame_hd:], data_frame_sealf.iloc[first_zero_frame_sealf:], data_frame_seamf.iloc[first_zero_frame_seamf:]], ignore_index=True)\n",
    "\n",
    "\n",
    "# 300개를 무작위로 추출 (복원 추출, random_state 설정)\n",
    "bumper_fault_random_sample = data_fault_bumper.sample(n=300, replace=False)\n",
    "fender_fault_random_sample = data_fault_fender.sample(n=300, replace=False)\n",
    "door_fault_random_sample = data_fault_door.sample(n=300, replace=False)\n",
    "frame_fault_random_sample = data_fault_frame.sample(n=300, replace=False)\n",
    "# 결과 출력\n",
    "# print(bumper_fault_random_sample)\n",
    "# print(len(bumper_fault_random_sample))\n",
    "\n",
    "# print(fender_fault_random_sample)\n",
    "# print(len(fender_fault_random_sample))\n",
    "\n",
    "# print(door_fault_random_sample)\n",
    "# print(len(door_fault_random_sample))\n",
    "\n",
    "# print(frame_fault_random_sample)\n",
    "# print(len(frame_fault_random_sample))\n",
    "\n",
    "fault_data = pd.concat([bumper_fault_random_sample, fender_fault_random_sample,\n",
    "                        door_fault_random_sample, frame_fault_random_sample], ignore_index=True, axis=0)\n",
    "\n",
    "# fault_data"
   ]
  },
  {
   "cell_type": "code",
   "execution_count": 7,
   "metadata": {},
   "outputs": [
    {
     "name": "stdout",
     "output_type": "stream",
     "text": [
      "y_ok 총 데이터 개수: 300\n",
      "y_fault 총 데이터 개수: 1200\n",
      "train_data_80_ok 학습 데이터 개수: 192\n",
      "train_data_80_fault 학습 데이터 개수: 768\n",
      "test_data_ok 테스트 데이터 개수: 60\n",
      "test_data_fault 테스트 데이터 개수: 240\n",
      "valid_data_ok 검증 데이터 개수: 48\n",
      "valid_data_fault 검증 데이터 개수: 192\n"
     ]
    }
   ],
   "source": [
    "from sklearn.model_selection import train_test_split\n",
    "import pandas as pd\n",
    "\n",
    "# y에는 라벨, x에는 나머지 특성 정보\n",
    "y_ok = ok_data['quality']\n",
    "y_fault = fault_data['quality']\n",
    "\n",
    "# Stratified Split: 학습 데이터와 검증 데이터 비율을 80:20으로 설정, 클래스 비율을 유지\n",
    "train_data_ok, test_data_ok = train_test_split(\n",
    "    ok_data, test_size=0.2, stratify=y_ok, random_state=60\n",
    ")\n",
    "train_data_fault, test_data_fault = train_test_split(\n",
    "    fault_data, test_size=0.2, stratify=y_fault, random_state=60\n",
    ")\n",
    "\n",
    "# 학습 데이터에서 다시 80:20 비율로 나누어 검증 데이터 분리\n",
    "train_data_80_ok, valid_data_ok = train_test_split(\n",
    "    train_data_ok, test_size=0.2, stratify=train_data_ok['quality'], random_state=60)\n",
    "train_data_80_fault, valid_data_fault = train_test_split(\n",
    "    train_data_fault, test_size=0.2, stratify=train_data_fault['quality'], random_state=60)\n",
    "\n",
    "# CSV로 저장\n",
    "train_data_80_ok.to_csv('./data/train_data_80_ok.csv', index=False)\n",
    "train_data_80_fault.to_csv('./data/train_data_80_fault.csv', index=False)\n",
    "test_data_ok.to_csv('./data/test_data_ok.csv', index=False)\n",
    "test_data_fault.to_csv('./data/test_data_fault.csv', index=False)\n",
    "valid_data_ok.to_csv('./data/valid_data_ok.csv', index=False)\n",
    "valid_data_fault.to_csv('./data/valid_data_fault.csv', index=False)\n",
    "\n",
    "# 결과 출력\n",
    "print(f\"y_ok 총 데이터 개수: {len(y_ok)}\")\n",
    "print(f\"y_fault 총 데이터 개수: {len(y_fault)}\")\n",
    "print(f\"train_data_80_ok 학습 데이터 개수: {len(train_data_80_ok)}\")\n",
    "print(f\"train_data_80_fault 학습 데이터 개수: {len(train_data_80_fault)}\")\n",
    "print(f\"test_data_ok 테스트 데이터 개수: {len(test_data_ok)}\")\n",
    "print(f\"test_data_fault 테스트 데이터 개수: {len(test_data_fault)}\")\n",
    "print(f\"valid_data_ok 검증 데이터 개수: {len(valid_data_ok)}\")\n",
    "print(f\"valid_data_fault 검증 데이터 개수: {len(valid_data_fault)}\")\n"
   ]
  },
  {
   "cell_type": "markdown",
   "metadata": {},
   "source": [
    "# 테스트 데이터"
   ]
  },
  {
   "cell_type": "code",
   "execution_count": 8,
   "metadata": {},
   "outputs": [],
   "source": [
    "# # 이미지 복사\n",
    "# import shutil\n",
    "\n",
    "# # 폴더 초기화 함수: 기존 폴더 삭제 후 새로 생성\n",
    "# def prepare_output_dir(output_dir, data):\n",
    "#     if os.path.exists(output_dir):\n",
    "#         shutil.rmtree(output_dir)  # 폴더와 내부 파일 모두 삭제\n",
    "#     os.makedirs(output_dir, exist_ok=True)  # 새로 생성\n",
    "#     copy_images(data, output_dir)\n",
    "\n",
    "\n",
    "# def copy_images(data, output_dir):\n",
    "#     image_dir = os.path.join(output_dir, 'images')\n",
    "#     os.makedirs(image_dir, exist_ok=True)\n",
    "\n",
    "#     for index, row in data.iterrows():\n",
    "#         image_path = row['path']\n",
    "#         shutil.copy(image_path, image_dir)\n",
    "\n",
    "\n",
    "# # 학습 데이터와 검증 데이터를 각각 처리\n",
    "# prepare_output_dir('./train', train_data_80_ok)\n",
    "# prepare_output_dir('./test', test_data_ok)\n",
    "# prepare_output_dir('./valid', valid_data_ok)\n",
    "# prepare_output_dir('./train', train_data_80_fault)\n",
    "# prepare_output_dir('./test', test_data_fault)\n",
    "# prepare_output_dir('./valid', valid_data_fault)\n"
   ]
  },
  {
   "cell_type": "markdown",
   "metadata": {},
   "source": [
    "### bboxes 데이터 추출"
   ]
  },
  {
   "cell_type": "code",
   "execution_count": 9,
   "metadata": {},
   "outputs": [],
   "source": [
    "import ast\n",
    "\n",
    "def parse_bboxes(data):\n",
    "    \"\"\"\n",
    "    문자열 형태의 bounding box 정보를 파싱하여 리스트 형태로 변환하는 함수\n",
    "\n",
    "    Args:\n",
    "        data: 파싱할 데이터셋\n",
    "\n",
    "    Returns:\n",
    "        list: 파싱된 bounding box 리스트\n",
    "    \"\"\"\n",
    "\n",
    "    bboxes_list = []\n",
    "    for bbox_str in data[\"bboxes\"]:\n",
    "        try:\n",
    "            bboxes = ast.literal_eval(bbox_str)\n",
    "            bbox_list = []\n",
    "            for bbox in bboxes:\n",
    "                x, y, w, h = bbox\n",
    "                bbox_list.append([x, y, w, h])\n",
    "            bboxes_list.append(bbox_list)\n",
    "        except (ValueError, SyntaxError) as e:\n",
    "            print(f\"Error parsing bbox: {e}\")\n",
    "    return bboxes_list\n",
    "\n",
    "# 데이터셋별 bounding box 파싱\n",
    "train_ok_bboxes = parse_bboxes(train_data_80_ok)\n",
    "valid_ok_bboxes = parse_bboxes(valid_data_ok)\n",
    "test_ok_bboxes = parse_bboxes(test_data_ok)\n",
    "train_fault_bboxes = parse_bboxes(train_data_80_fault)\n",
    "valid_fault_bboxes = parse_bboxes(valid_data_fault)\n",
    "test_fault_bboxes = parse_bboxes(test_data_fault)\n",
    "\n",
    "# 결과 출력 (예시)\n",
    "# print(train_ok_bboxes[:5])\n",
    "# print(valid_ok_bboxes[:5])\n",
    "# print(test_ok_bboxes[:5])\n",
    "# print(train_fault_bboxes[:5])\n",
    "# print(valid_fault_bboxes[:5])\n",
    "# print(test_fault_bboxes[:5])"
   ]
  },
  {
   "cell_type": "markdown",
   "metadata": {},
   "source": [
    "# .yaml label 데이터 생성"
   ]
  },
  {
   "cell_type": "markdown",
   "metadata": {},
   "source": [
    "### 1. 디렉토리 경로 전처리"
   ]
  },
  {
   "cell_type": "code",
   "execution_count": 10,
   "metadata": {},
   "outputs": [
    {
     "name": "stderr",
     "output_type": "stream",
     "text": [
      "c:\\Users\\dawoo\\Desktop\\SF7\\coding\\PYTORCH\\pytorch-env\\Lib\\site-packages\\PIL\\Image.py:3186: DecompressionBombWarning: Image size (108000000 pixels) exceeds limit of 89478485 pixels, could be decompression bomb DOS attack.\n",
      "  warnings.warn(\n"
     ]
    }
   ],
   "source": [
    "import os\n",
    "from PIL import Image\n",
    "\n",
    "\n",
    "def extract_image_info(image_paths):\n",
    "    \"\"\"\n",
    "    이미지 경로 리스트에서 이미지 크기, 디렉토리 경로, 파일 이름을 추출하는 함수\n",
    "\n",
    "    Args:\n",
    "        image_paths (list): 이미지 경로 리스트\n",
    "\n",
    "    Returns:\n",
    "        tuple: (image_sizes, image_dirs, file_names)\n",
    "            image_sizes (list): 이미지 크기 리스트\n",
    "            image_dirs (list): 이미지 디렉토리 경로 리스트\n",
    "            file_names (list): 이미지 파일 이름 리스트\n",
    "    \"\"\"\n",
    "\n",
    "    image_sizes = []\n",
    "    image_dirs = []\n",
    "    file_names = []\n",
    "\n",
    "    for path in image_paths:\n",
    "        try:\n",
    "            image = Image.open(path)\n",
    "            width, height = image.size\n",
    "            image_sizes.append((width, height))\n",
    "            image_dirs.append(os.path.dirname(path) + os.sep)\n",
    "            file_names.append(os.path.splitext(os.path.basename(path))[0])\n",
    "        except FileNotFoundError:\n",
    "            print(f\"파일을 찾을 수 없습니다: {path}\")\n",
    "\n",
    "    return image_sizes, image_dirs, file_names\n",
    "\n",
    "\n",
    "# 데이터 준비 (예시)\n",
    "train_ok_image_paths = train_data_80_ok.iloc[:, 0].tolist()\n",
    "valid_ok_image_paths = valid_data_ok.iloc[:, 0].tolist()\n",
    "test_ok_image_paths = test_data_ok.iloc[:, 0].tolist()\n",
    "train_fault_image_paths = train_data_80_fault.iloc[:, 0].tolist()\n",
    "valid_fault_image_paths = valid_data_fault.iloc[:, 0].tolist()\n",
    "test_fault_image_paths = test_data_fault.iloc[:, 0].tolist()\n",
    "\n",
    "# 이미지 정보 추출\n",
    "train_sizes_ok, train_dirs_ok, train_names_ok = extract_image_info(train_ok_image_paths)\n",
    "valid_sizes_ok, valid_dirs_ok, valid_names_ok = extract_image_info(valid_ok_image_paths)\n",
    "test_sizes_ok, test_dirs_ok, test_names_ok = extract_image_info(test_ok_image_paths)\n",
    "train_sizes_fault, train_dirs_fault, train_names_fault = extract_image_info(train_fault_image_paths)\n",
    "valid_sizes_fault, valid_dirs_fault, valid_names_fault = extract_image_info(valid_fault_image_paths)\n",
    "test_sizes_fault, test_dirs_fault, test_names_fault = extract_image_info(test_fault_image_paths)\n",
    "\n",
    "# 결과 출력 ok\n",
    "# print(\"train_sizes_ok 이미지 크기:\", train_sizes_ok[:5])\n",
    "# print(\"train_dirs_ok 이미지 디렉토리:\", train_dirs_ok[:5])\n",
    "# print(\"train_names_ok 파일 이름:\", train_names_ok[:5])\n",
    "# print()\n",
    "# print(\"valid_sizes_ok 이미지 크기:\", valid_sizes_ok[:5])\n",
    "# print(\"valid_dirs_ok 이미지 디렉토리:\", valid_dirs_ok[:5])\n",
    "# print(\"valid_names_ok 파일 이름:\", valid_names_ok[:5])\n",
    "# print()\n",
    "# print(\"test_sizes_ok 이미지 크기:\", test_sizes_ok[:5])\n",
    "# print(\"test_dirs_ok 이미지 디렉토리:\", test_dirs_ok[:5])\n",
    "# print(\"test_names_ok 파일 이름:\", test_names_ok[:5])\n",
    "# 결과 출력 fault\n",
    "# print(\"train_sizes_fault 이미지 크기:\", train_sizes_fault[:5])\n",
    "# print(\"train_dirs_fault 이미지 디렉토리:\", train_dirs_fault[:5])\n",
    "# print(\"train_names_fault 파일 이름:\", train_names_fault[:5])\n",
    "# print()\n",
    "# print(\"valid_sizes_fault 이미지 크기:\", valid_sizes_fault[:5])\n",
    "# print(\"valid_dirs_fault 이미지 디렉토리:\", valid_dirs_fault[:5])\n",
    "# print(\"valid_names_fault 파일 이름:\", valid_names_fault[:5])\n",
    "# print()\n",
    "# print(\"test_sizes_fault 이미지 크기:\", test_sizes_fault[:5])\n",
    "# print(\"test_dirs_fault 이미지 디렉토리:\", test_dirs_fault[:5])\n",
    "# print(\"test_names_fault 파일 이름:\", test_names_fault[:5])"
   ]
  },
  {
   "cell_type": "markdown",
   "metadata": {},
   "source": [
    "### 3. 부품 상태 전처리"
   ]
  },
  {
   "cell_type": "code",
   "execution_count": 11,
   "metadata": {},
   "outputs": [],
   "source": [
    "# 부품 상태를 체크하는 함수\n",
    "def get_label(part, status):\n",
    "    if part == \"범퍼\":\n",
    "        if status == 1:\n",
    "            return 0\n",
    "        elif status == 0:\n",
    "            return 1\n",
    "    elif part == \"도어\":\n",
    "        if status == 1:\n",
    "            return 0\n",
    "        elif status == 0:\n",
    "            return 2\n",
    "    elif part == \"휀더\":\n",
    "        if status == 1:\n",
    "            return 0\n",
    "        elif status == 0:\n",
    "            return 3\n",
    "    elif part == \"프레임\":\n",
    "        if status == 1:\n",
    "            return 0\n",
    "        elif status == 0:\n",
    "            return 4\n",
    "    return None  # 기본적으로 반환할 값이 없으면 None\n",
    "\n",
    "# 예시 부품과 상태\n",
    "parts_and_status_train_ok = []\n",
    "parts_and_status_valid_ok = []\n",
    "parts_and_status_test_ok = []\n",
    "for quality, part in zip(train_data_80_ok.iloc[:, 1], train_data_80_ok.iloc[:, 2]):\n",
    "    parts_and_status_train_ok.append({\"part\": part, \"status\": quality})\n",
    "\n",
    "for quality, part in zip(test_data_ok.iloc[:, 1], test_data_ok.iloc[:, 2]):\n",
    "    parts_and_status_test_ok.append({\"part\": part, \"status\": quality})\n",
    "\n",
    "for quality, part in zip(valid_data_ok.iloc[:, 1], valid_data_ok.iloc[:, 2]):\n",
    "    parts_and_status_valid_ok.append({\"part\": part, \"status\": quality})\n",
    "\n",
    "parts_and_status_train_fault = []\n",
    "parts_and_status_valid_fault = []\n",
    "parts_and_status_test_fault = []\n",
    "for quality, part in zip(train_data_80_fault.iloc[:, 1], train_data_80_fault.iloc[:, 2]):\n",
    "    parts_and_status_train_fault.append({\"part\": part, \"status\": quality})\n",
    "\n",
    "for quality, part in zip(test_data_fault.iloc[:, 1], test_data_fault.iloc[:, 2]):\n",
    "    parts_and_status_test_fault.append({\"part\": part, \"status\": quality})\n",
    "\n",
    "for quality, part in zip(valid_data_fault.iloc[:, 1], valid_data_fault.iloc[:, 2]):\n",
    "    parts_and_status_valid_fault.append({\"part\": part, \"status\": quality})\n",
    "\n",
    "# print(f\"parts_and_status_train : {parts_and_status_train_ok}\")\n",
    "# print(f\"parts_and_status_test : {parts_and_status_test_ok}\")\n",
    "# print(f\"parts_and_status_valid : {parts_and_status_valid_ok}\")\n",
    "\n",
    "# print(f\"parts_and_status_train : {parts_and_status_train_fault}\")\n",
    "# print(f\"parts_and_status_test : {parts_and_status_test_fault}\")\n",
    "# print(f\"parts_and_status_valid : {parts_and_status_valid_fault}\")\n",
    "\n",
    "# 라벨링 결과를 저장할 리스트\n",
    "labels_train_ok = []\n",
    "labels_valid_ok = []\n",
    "label_test_ok = []\n",
    "\n",
    "# 각 부품 상태에 대해 라벨을 설정\n",
    "for item in parts_and_status_train_ok:\n",
    "    label = get_label(item[\"part\"], item[\"status\"])\n",
    "    labels_train_ok.append(label)\n",
    "for item in parts_and_status_test_ok:\n",
    "    label = get_label(item[\"part\"], item[\"status\"])\n",
    "    labels_valid_ok.append(label)\n",
    "for item in parts_and_status_valid_ok:\n",
    "    label = get_label(item[\"part\"], item[\"status\"])\n",
    "    label_test_ok.append(label)\n",
    "\n",
    "# # 결과 출력\n",
    "# print(\"labels_train_ok 라벨링 결과 :\", labels_train_ok)\n",
    "# print(\"labels_valid_ok 라벨링 결과 :\", labels_valid_ok)\n",
    "# print(\"label_test_ok 라벨링 결과 :\", label_test_ok)\n",
    "\n",
    "# 라벨링 결과를 저장할 리스트\n",
    "labels_train_fault = []\n",
    "labels_valid_fault = []\n",
    "label_test_fault = []\n",
    "\n",
    "# 각 부품 상태에 대해 라벨을 설정\n",
    "for item in parts_and_status_train_fault:\n",
    "    label = get_label(item[\"part\"], item[\"status\"])\n",
    "    labels_train_fault.append(label)\n",
    "for item in parts_and_status_test_fault:\n",
    "    label = get_label(item[\"part\"], item[\"status\"])\n",
    "    labels_valid_fault.append(label)\n",
    "for item in parts_and_status_valid_fault:\n",
    "    label = get_label(item[\"part\"], item[\"status\"])\n",
    "    label_test_fault.append(label)\n",
    "\n",
    "# # 결과 출력\n",
    "# print(\"labels_train_fault 라벨링 결과 :\", labels_train_fault)\n",
    "# print(\"labels_valid_fault 라벨링 결과 :\", labels_valid_fault)\n",
    "# print(\"label_test_fualt 라벨링 결과 :\", label_test_fault)"
   ]
  },
  {
   "cell_type": "code",
   "execution_count": 12,
   "metadata": {},
   "outputs": [
    {
     "name": "stdout",
     "output_type": "stream",
     "text": [
      "[INFO] Saved YOLO label: .\\train\\labels\\205_101_10_1419f342-b811-454f-a371-57c02c6343c8.txt (bbox count: 0)\n",
      "[INFO] Saved YOLO label: .\\train\\labels\\205_101_10_60da5008-10b2-40b9-a0f6-e7dc22d2f11c.txt (bbox count: 0)\n",
      "[INFO] Saved YOLO label: .\\train\\labels\\209_102_10_319c5ffd-6e52-4711-a74f-bee9f0431a4f.txt (bbox count: 0)\n",
      "[INFO] Saved YOLO label: .\\train\\labels\\207_204_10_fa45f552-bbf7-47b6-b40c-a6cf525c7d2e.txt (bbox count: 0)\n",
      "[INFO] Saved YOLO label: .\\train\\labels\\204_101_10_656af499-f95d-4d32-b8b4-542814a9ce18.txt (bbox count: 0)\n",
      "[INFO] Saved YOLO label: .\\train\\labels\\205_101_10_3e1ba5e1-eaa5-4dcb-a088-67667d32c221.txt (bbox count: 0)\n",
      "[INFO] Saved YOLO label: .\\train\\labels\\204_101_10_395c646b-88fe-433f-ace8-73cd04ac7fa9.txt (bbox count: 0)\n",
      "[INFO] Saved YOLO label: .\\train\\labels\\209_102_10_ec22ac26-687a-4b85-b622-db2ed6b5b45a.txt (bbox count: 0)\n",
      "[INFO] Saved YOLO label: .\\train\\labels\\205_101_10_26291af5-21d5-4e8c-9b03-f5bb04e31da0.txt (bbox count: 0)\n",
      "[INFO] Saved YOLO label: .\\train\\labels\\209_102_10_e4850b34-1fd9-4fb4-955e-bb9bbdc444b8.txt (bbox count: 0)\n",
      "[INFO] Saved YOLO label: .\\train\\labels\\207_102_10_766e6cd5-33cf-42ee-9f8f-89a900caaa7d.txt (bbox count: 0)\n",
      "[INFO] Saved YOLO label: .\\train\\labels\\207_212_10_be1f578a-587d-47de-b01b-03b2a7c4ece4.txt (bbox count: 0)\n",
      "[INFO] Saved YOLO label: .\\train\\labels\\205_101_10_7078ef78-2397-4ae6-af72-38ad4620b222.txt (bbox count: 0)\n",
      "[INFO] Saved YOLO label: .\\train\\labels\\204_102_10_89cfda97-3ff3-411b-8156-33e985031448.txt (bbox count: 0)\n",
      "[INFO] Saved YOLO label: .\\train\\labels\\209_102_10_599959fa-1fbc-4f12-92f4-baff760a28cc.txt (bbox count: 0)\n",
      "[INFO] Saved YOLO label: .\\train\\labels\\205_101_10_53221a11-0235-4271-b9ce-08a3d8e316b8.txt (bbox count: 0)\n",
      "[INFO] Saved YOLO label: .\\train\\labels\\204_101_10_2fd258ed-1654-4579-a530-b85baee6b6f9.txt (bbox count: 0)\n",
      "[INFO] Saved YOLO label: .\\train\\labels\\204_101_10_fb6d3174-f4af-4d30-b679-8a4c99fb2ec0.txt (bbox count: 0)\n",
      "[INFO] Saved YOLO label: .\\train\\labels\\209_102_10_4829b4d0-064f-4e64-93d1-6425dfbaa0b6.txt (bbox count: 0)\n",
      "[INFO] Saved YOLO label: .\\train\\labels\\205_101_10_13737ec9-9526-4428-b72f-7718a24f792c.txt (bbox count: 0)\n",
      "[INFO] Saved YOLO label: .\\train\\labels\\207_213_10_7c67f1a2-c2b2-494f-820f-d08abbe5c799.txt (bbox count: 0)\n",
      "[INFO] Saved YOLO label: .\\train\\labels\\207_212_10_f8d51a16-e703-4146-9358-d59c6361544d.txt (bbox count: 0)\n",
      "[INFO] Saved YOLO label: .\\train\\labels\\205_101_10_9f195ebf-47c7-4648-868a-9e6e77c9af57.txt (bbox count: 0)\n",
      "[INFO] Saved YOLO label: .\\train\\labels\\204_101_10_90d2b2b9-c23f-4bda-9f6a-2a2c1f65be00.txt (bbox count: 0)\n",
      "[INFO] Saved YOLO label: .\\train\\labels\\209_102_10_ae576f6f-aa03-4f7e-ad92-dfb1752fad4e.txt (bbox count: 0)\n",
      "[INFO] Saved YOLO label: .\\train\\labels\\209_102_10_da7dbc90-1c56-4170-9621-b91ca1880dd0.txt (bbox count: 0)\n",
      "[INFO] Saved YOLO label: .\\train\\labels\\207_102_10_301bf27f-5730-4d7e-9efe-73ed8e24049e.txt (bbox count: 0)\n",
      "[INFO] Saved YOLO label: .\\train\\labels\\205_101_10_7ea4da98-4177-4848-842b-1bf270178e37.txt (bbox count: 0)\n",
      "[INFO] Saved YOLO label: .\\train\\labels\\207_102_10_00fa1c19-7436-4935-a174-485039c5b50a.txt (bbox count: 0)\n",
      "[INFO] Saved YOLO label: .\\train\\labels\\209_102_10_7c0834a9-7554-49c1-904c-1cba43a62204.txt (bbox count: 0)\n",
      "[INFO] Saved YOLO label: .\\train\\labels\\209_102_10_3e878853-4869-4461-949c-f58e64d59426.txt (bbox count: 0)\n",
      "[INFO] Saved YOLO label: .\\train\\labels\\205_101_10_d947f82c-d5a1-41ce-aca3-bdf5bbb31e51.txt (bbox count: 0)\n",
      "[INFO] Saved YOLO label: .\\train\\labels\\207_212_10_8a80e4f0-c07a-4669-bd12-4582cf514437.txt (bbox count: 0)\n",
      "[INFO] Saved YOLO label: .\\train\\labels\\209_102_10_4d7c7de0-3700-4249-9a27-5afcb96d3ec5.txt (bbox count: 0)\n",
      "[INFO] Saved YOLO label: .\\train\\labels\\205_101_10_b88751f2-7fcb-4c5d-a7fb-14909c04c8da.txt (bbox count: 0)\n",
      "[INFO] Saved YOLO label: .\\train\\labels\\209_102_10_fb79d769-9bd4-466f-9c52-8f36ec2d2302.txt (bbox count: 0)\n",
      "[INFO] Saved YOLO label: .\\train\\labels\\209_102_10_1ba16c4b-7ef4-4773-8294-bed3c7168fdc.txt (bbox count: 0)\n",
      "[INFO] Saved YOLO label: .\\train\\labels\\207_213_10_c7d3209c-e4a9-449d-a0ea-3bcf25fd28bb.txt (bbox count: 0)\n",
      "[INFO] Saved YOLO label: .\\train\\labels\\209_102_10_02c6d2f8-5158-4a2c-8c34-f8e45dc7d18d.txt (bbox count: 0)\n",
      "[INFO] Saved YOLO label: .\\train\\labels\\207_213_10_7ec17d14-189e-4aac-87d0-ecfe8ab2473e.txt (bbox count: 0)\n",
      "[INFO] Saved YOLO label: .\\train\\labels\\204_101_10_3507f4e0-e4a4-441c-ac77-97ca4cd15e16.txt (bbox count: 0)\n",
      "[INFO] Saved YOLO label: .\\train\\labels\\207_213_10_1ab11e14-0988-4b8e-84a3-a55a1b80d82e.txt (bbox count: 0)\n",
      "[INFO] Saved YOLO label: .\\train\\labels\\205_101_10_0c629b1b-9e2c-475c-831f-819dad04940b.txt (bbox count: 0)\n",
      "[INFO] Saved YOLO label: .\\train\\labels\\207_212_10_6c782bb6-b51d-41cc-acb5-0a577306474c.txt (bbox count: 0)\n",
      "[INFO] Saved YOLO label: .\\train\\labels\\204_101_10_b923ba2f-dd6a-4cad-a46c-d32dc51a487d.txt (bbox count: 0)\n",
      "[INFO] Saved YOLO label: .\\train\\labels\\207_204_10_aee0de2c-5597-418b-87a3-6aa6653a33ff.txt (bbox count: 0)\n",
      "[INFO] Saved YOLO label: .\\train\\labels\\207_213_10_90617da8-3224-48ac-b591-f853d6019d90.txt (bbox count: 0)\n",
      "[INFO] Saved YOLO label: .\\train\\labels\\205_101_10_0398e98c-fd1f-47e2-af49-f3a505525447.txt (bbox count: 0)\n",
      "[INFO] Saved YOLO label: .\\train\\labels\\207_212_10_fb2886a1-19d9-4312-865a-8b034e077dd0.txt (bbox count: 0)\n",
      "[INFO] Saved YOLO label: .\\train\\labels\\204_101_10_9927c319-b11d-4618-933b-2209e60825c0.txt (bbox count: 0)\n",
      "[INFO] Saved YOLO label: .\\train\\labels\\205_101_10_dffc6261-40df-405e-b491-9bcc7068d5b7.txt (bbox count: 0)\n",
      "[INFO] Saved YOLO label: .\\train\\labels\\204_101_10_032ff3cd-e4d5-4198-89d3-e7b7b4d8a930.txt (bbox count: 0)\n",
      "[INFO] Saved YOLO label: .\\train\\labels\\205_101_10_27c201c3-fcbe-418c-af51-92079937fbdf.txt (bbox count: 0)\n",
      "[INFO] Saved YOLO label: .\\train\\labels\\207_213_10_11e771b2-0ded-4dd5-a85a-557383117438.txt (bbox count: 0)\n",
      "[INFO] Saved YOLO label: .\\train\\labels\\204_101_10_ee829800-99a6-4a92-84f4-f055dc964b48.txt (bbox count: 0)\n",
      "[INFO] Saved YOLO label: .\\train\\labels\\204_101_10_93265d92-aafa-424e-959e-01f5d749ff76.txt (bbox count: 0)\n",
      "[INFO] Saved YOLO label: .\\train\\labels\\205_101_10_873e4772-0c61-4436-81d5-28d642ac1546.txt (bbox count: 0)\n",
      "[INFO] Saved YOLO label: .\\train\\labels\\209_102_10_215c9e89-9330-4f52-8185-33529dd7bf20.txt (bbox count: 0)\n",
      "[INFO] Saved YOLO label: .\\train\\labels\\209_102_10_ff24bc2f-065e-4fe3-a5f5-8437312d5c3d.txt (bbox count: 0)\n",
      "[INFO] Saved YOLO label: .\\train\\labels\\205_101_10_e1cdb468-b399-4ba2-a275-94a96c83f0ec.txt (bbox count: 0)\n",
      "[INFO] Saved YOLO label: .\\train\\labels\\204_101_10_3c190529-b423-4948-b974-bfd3e605f9a4.txt (bbox count: 0)\n",
      "[INFO] Saved YOLO label: .\\train\\labels\\205_101_10_c64b70fa-f5c9-4ed3-8b0c-20e6029fb7f0.txt (bbox count: 0)\n",
      "[INFO] Saved YOLO label: .\\train\\labels\\207_212_10_cbf450ce-217c-4a4b-8f26-6684cef40d6e.txt (bbox count: 0)\n",
      "[INFO] Saved YOLO label: .\\train\\labels\\207_213_10_7d1b2932-a7bd-4aec-9ed6-090efc02b1f1.txt (bbox count: 0)\n",
      "[INFO] Saved YOLO label: .\\train\\labels\\205_101_10_91aeabbf-854c-4ff4-b896-3affd4cc7498.txt (bbox count: 0)\n",
      "[INFO] Saved YOLO label: .\\train\\labels\\204_101_10_56e43c51-8523-42db-878c-26e68bd60501.txt (bbox count: 0)\n",
      "[INFO] Saved YOLO label: .\\train\\labels\\204_101_10_95d0ab89-8116-4936-84e7-ce540d34392a.txt (bbox count: 0)\n",
      "[INFO] Saved YOLO label: .\\train\\labels\\204_102_10_40606b9f-4d42-4566-af0a-da4d2be5b4d2.txt (bbox count: 0)\n",
      "[INFO] Saved YOLO label: .\\train\\labels\\209_102_10_3f6b3104-3fdf-4fd4-b252-e18f585facf4.txt (bbox count: 0)\n",
      "[INFO] Saved YOLO label: .\\train\\labels\\204_102_10_635a5215-cf96-463b-8498-d676171ed95f.txt (bbox count: 0)\n",
      "[INFO] Saved YOLO label: .\\train\\labels\\207_204_10_458c05f7-4891-4524-acb4-493e7617d28c.txt (bbox count: 0)\n",
      "[INFO] Saved YOLO label: .\\train\\labels\\209_102_10_0365a1b8-302f-4264-8dff-33e39fce9d6a.txt (bbox count: 0)\n",
      "[INFO] Saved YOLO label: .\\train\\labels\\207_213_10_89f87579-7e76-4ca7-9d48-6f8cc646429b.txt (bbox count: 0)\n",
      "[INFO] Saved YOLO label: .\\train\\labels\\207_102_10_beb7de23-85af-48af-a7ce-346dc8eadadb.txt (bbox count: 0)\n",
      "[INFO] Saved YOLO label: .\\train\\labels\\205_101_10_d13dc21c-a587-44c1-9bcb-e0d50f4d9c30.txt (bbox count: 0)\n",
      "[INFO] Saved YOLO label: .\\train\\labels\\205_101_10_689ec9cb-47f2-4244-b100-3136bd6e3ac5.txt (bbox count: 0)\n",
      "[INFO] Saved YOLO label: .\\train\\labels\\204_102_10_93e78eb3-5655-4530-b7ce-856fbc4fcdda.txt (bbox count: 0)\n",
      "[INFO] Saved YOLO label: .\\train\\labels\\204_101_10_e002c4d2-4a63-4f29-80fd-5865b1b6dc69.txt (bbox count: 0)\n",
      "[INFO] Saved YOLO label: .\\train\\labels\\204_101_10_4eb243ce-5935-43ac-8ba1-d0a775b41892.txt (bbox count: 0)\n",
      "[INFO] Saved YOLO label: .\\train\\labels\\209_102_10_db2d73cb-eeb1-4558-bf24-7c176038b0a4.txt (bbox count: 0)\n",
      "[INFO] Saved YOLO label: .\\train\\labels\\205_101_10_24ef2262-154d-4a4f-8888-7824970cd442.txt (bbox count: 0)\n",
      "[INFO] Saved YOLO label: .\\train\\labels\\209_102_10_c38d0b6b-cacb-4134-89dc-50d4e3339123.txt (bbox count: 0)\n",
      "[INFO] Saved YOLO label: .\\train\\labels\\204_101_10_037c081e-5304-4903-8ef3-82f691f87d30.txt (bbox count: 0)\n",
      "[INFO] Saved YOLO label: .\\train\\labels\\209_102_10_78bb4b68-cbb6-4764-a2d7-64bd74c67128.txt (bbox count: 0)\n",
      "[INFO] Saved YOLO label: .\\train\\labels\\205_101_10_88f9ad15-6a5f-4523-a98e-b5cc5080b070.txt (bbox count: 0)\n",
      "[INFO] Saved YOLO label: .\\train\\labels\\207_102_10_b9dd416b-9f1c-4263-9be5-91a0fc7fc953.txt (bbox count: 0)\n",
      "[INFO] Saved YOLO label: .\\train\\labels\\207_102_10_237a07bc-14f2-4fb4-8844-48d92f69bad7.txt (bbox count: 0)\n",
      "[INFO] Saved YOLO label: .\\train\\labels\\204_102_10_19d01fd3-3461-41a5-a9c4-e00e25045735.txt (bbox count: 0)\n",
      "[INFO] Saved YOLO label: .\\train\\labels\\209_102_10_134f4ad3-6dd8-4a94-a96c-c8ac3dea6024.txt (bbox count: 0)\n",
      "[INFO] Saved YOLO label: .\\train\\labels\\204_101_10_1bddf87a-2fec-45ab-9021-c9c6051939e0.txt (bbox count: 0)\n",
      "[INFO] Saved YOLO label: .\\train\\labels\\207_212_10_257c5db4-2eba-4199-bcd5-28feddfb6469.txt (bbox count: 0)\n",
      "[INFO] Saved YOLO label: .\\train\\labels\\207_213_10_ef8a7a0b-ed6f-4b43-8801-5da8d54c0ad3.txt (bbox count: 0)\n",
      "[INFO] Saved YOLO label: .\\train\\labels\\207_204_10_feca58b6-4406-4db4-b3b6-edbd683af35d.txt (bbox count: 0)\n",
      "[INFO] Saved YOLO label: .\\train\\labels\\207_204_10_e1240d1c-6b5d-4a3b-a2b2-c9f4b365e318.txt (bbox count: 0)\n",
      "[INFO] Saved YOLO label: .\\train\\labels\\209_102_10_25ac590e-99c7-406f-9782-2409045acc66.txt (bbox count: 0)\n",
      "[INFO] Saved YOLO label: .\\train\\labels\\209_102_10_8aac4297-cae0-4143-bab4-032ec004b229.txt (bbox count: 0)\n",
      "[INFO] Saved YOLO label: .\\train\\labels\\207_213_10_354f5276-3a5a-4c65-b2d7-94faac9a6d66.txt (bbox count: 0)\n",
      "[INFO] Saved YOLO label: .\\train\\labels\\207_213_10_dbd91925-f7fd-47fa-8c24-62148dfe21d5.txt (bbox count: 0)\n",
      "[INFO] Saved YOLO label: .\\train\\labels\\204_101_10_39fd14b4-8ce0-417e-a32a-10dbe0e3dbf5.txt (bbox count: 0)\n",
      "[INFO] Saved YOLO label: .\\train\\labels\\205_101_10_bbcec1e2-8fc4-4af0-8e9e-767baff7f6bd.txt (bbox count: 0)\n",
      "[INFO] Saved YOLO label: .\\train\\labels\\204_101_10_0b5ba85a-ac85-4c67-869b-cf9b0c6fa487.txt (bbox count: 0)\n",
      "[INFO] Saved YOLO label: .\\train\\labels\\209_102_10_46d8439e-a7ec-4b08-8db2-e019f75e1573.txt (bbox count: 0)\n",
      "[INFO] Saved YOLO label: .\\train\\labels\\204_101_10_c2189d3a-860b-48ca-a809-f32291d4818a.txt (bbox count: 0)\n",
      "[INFO] Saved YOLO label: .\\train\\labels\\204_101_10_67576e70-c541-4572-a4a4-626b60bf61f6.txt (bbox count: 0)\n",
      "[INFO] Saved YOLO label: .\\train\\labels\\207_213_10_fb0abfb9-829b-4af5-93c8-4f15a3638984.txt (bbox count: 0)\n",
      "[INFO] Saved YOLO label: .\\train\\labels\\205_101_10_1c216083-dbb0-4f4c-ad1a-286b29f3fd26.txt (bbox count: 0)\n",
      "[INFO] Saved YOLO label: .\\train\\labels\\207_204_10_363e0a42-aeaf-43ae-bfba-11bda1978517.txt (bbox count: 0)\n",
      "[INFO] Saved YOLO label: .\\train\\labels\\205_101_10_9f53788b-ff1a-43f8-9de1-e699bc7f1d7a.txt (bbox count: 0)\n",
      "[INFO] Saved YOLO label: .\\train\\labels\\207_102_10_0d6559d0-4de4-4ccd-9e30-4489931e3e6a.txt (bbox count: 0)\n",
      "[INFO] Saved YOLO label: .\\train\\labels\\207_212_10_0d31376a-49af-476f-a417-1a9f137578bc.txt (bbox count: 0)\n",
      "[INFO] Saved YOLO label: .\\train\\labels\\205_101_10_74de25ed-1fb1-404c-b879-4b0a949aebb1.txt (bbox count: 0)\n",
      "[INFO] Saved YOLO label: .\\train\\labels\\207_213_10_5bc883b0-a294-4265-b89d-c9d039df57be.txt (bbox count: 0)\n",
      "[INFO] Saved YOLO label: .\\train\\labels\\209_102_10_062d70cf-de3a-4ba8-9458-64c6d644e8a6.txt (bbox count: 0)\n",
      "[INFO] Saved YOLO label: .\\train\\labels\\207_102_10_b80a51e5-917e-461f-90eb-cc21b9bd81c5.txt (bbox count: 0)\n",
      "[INFO] Saved YOLO label: .\\train\\labels\\205_101_10_ae7cd8d7-9274-4d2d-842a-af9459dce842.txt (bbox count: 0)\n",
      "[INFO] Saved YOLO label: .\\train\\labels\\205_101_10_beb121d6-3dc4-4c62-93f4-42d362d0d645.txt (bbox count: 0)\n",
      "[INFO] Saved YOLO label: .\\train\\labels\\209_102_10_be3adcfa-b371-4e45-b5f1-73d5561713ee.txt (bbox count: 0)\n",
      "[INFO] Saved YOLO label: .\\train\\labels\\209_102_10_08e02e6d-20f0-491d-89aa-5fa5448c216f.txt (bbox count: 0)\n",
      "[INFO] Saved YOLO label: .\\train\\labels\\204_102_10_b4fd3ad6-3ccb-435a-aca0-3c51feb8b705.txt (bbox count: 0)\n",
      "[INFO] Saved YOLO label: .\\train\\labels\\204_101_10_baefec43-20a7-41a6-b588-5c5cc041faeb.txt (bbox count: 0)\n",
      "[INFO] Saved YOLO label: .\\train\\labels\\205_101_10_521350ce-28f1-4364-a499-26d29cb23ade.txt (bbox count: 0)\n",
      "[INFO] Saved YOLO label: .\\train\\labels\\205_101_10_220c7621-5df5-4cba-a356-3707c4cf39db.txt (bbox count: 0)\n",
      "[INFO] Saved YOLO label: .\\train\\labels\\209_102_10_a65390a8-7d8a-4f83-a762-203720bbae7d.txt (bbox count: 0)\n",
      "[INFO] Saved YOLO label: .\\train\\labels\\207_102_10_495c06b1-b46a-48f0-8e4c-a3888ad56cfd.txt (bbox count: 0)\n",
      "[INFO] Saved YOLO label: .\\train\\labels\\205_101_10_31809889-65a7-47eb-be63-7ba60dd4b3d4.txt (bbox count: 0)\n",
      "[INFO] Saved YOLO label: .\\train\\labels\\205_101_10_3420ebd6-da9f-4bd1-a353-590af78eade9.txt (bbox count: 0)\n",
      "[INFO] Saved YOLO label: .\\train\\labels\\207_102_10_183f05fa-6815-4961-815e-2f17df16d7df.txt (bbox count: 0)\n",
      "[INFO] Saved YOLO label: .\\train\\labels\\207_212_10_b6e8bcc1-1a87-4a0f-8da4-e342d7978070.txt (bbox count: 0)\n",
      "[INFO] Saved YOLO label: .\\train\\labels\\207_212_10_1c44be0f-f74c-4728-b1db-6b15dc2165d2.txt (bbox count: 0)\n",
      "[INFO] Saved YOLO label: .\\train\\labels\\204_101_10_b2b9e0a5-1b73-483d-8605-d4a6c6c3b213.txt (bbox count: 0)\n",
      "[INFO] Saved YOLO label: .\\train\\labels\\205_101_10_b8832f35-c814-46c4-b452-77523bb7d538.txt (bbox count: 0)\n",
      "[INFO] Saved YOLO label: .\\train\\labels\\204_102_10_6e615a03-d9c2-4c11-822c-c5195803ad46.txt (bbox count: 0)\n",
      "[INFO] Saved YOLO label: .\\train\\labels\\205_101_10_e3b3e6a8-7678-48ee-8728-9547c3a56113.txt (bbox count: 0)\n",
      "[INFO] Saved YOLO label: .\\train\\labels\\204_101_10_e98c4b9f-8b77-421b-854a-b2f79c833111.txt (bbox count: 0)\n",
      "[INFO] Saved YOLO label: .\\train\\labels\\209_102_10_0c95b607-1dee-4ed7-a248-12b103e39bc5.txt (bbox count: 0)\n",
      "[INFO] Saved YOLO label: .\\train\\labels\\209_102_10_5ec8d1c6-08cd-4c59-9f28-295ef7bf8074.txt (bbox count: 0)\n",
      "[INFO] Saved YOLO label: .\\train\\labels\\207_212_10_3be4b372-8144-4e5f-baf1-329efaa1f2bb.txt (bbox count: 0)\n",
      "[INFO] Saved YOLO label: .\\train\\labels\\204_102_10_72e54d7f-e188-4ffd-af88-0f02c79e5502.txt (bbox count: 0)\n",
      "[INFO] Saved YOLO label: .\\train\\labels\\207_212_10_f0ca18ec-51aa-4587-b319-2e43719b17ee.txt (bbox count: 0)\n",
      "[INFO] Saved YOLO label: .\\train\\labels\\205_101_10_da139e17-36df-4584-9145-44036053cb84.txt (bbox count: 0)\n",
      "[INFO] Saved YOLO label: .\\train\\labels\\209_102_10_92329c3b-fe2f-46e1-9ad9-0eb438960be9.txt (bbox count: 0)\n",
      "[INFO] Saved YOLO label: .\\train\\labels\\209_102_10_9e180f8f-b02c-4377-adf9-f1a81eefa067.txt (bbox count: 0)\n",
      "[INFO] Saved YOLO label: .\\train\\labels\\209_102_10_4c21c0cc-76b2-4ddd-9eae-abafd1b69d0e.txt (bbox count: 0)\n",
      "[INFO] Saved YOLO label: .\\train\\labels\\204_101_10_a115868c-5b27-4ab4-8d83-1dc76012da3a.txt (bbox count: 0)\n",
      "[INFO] Saved YOLO label: .\\train\\labels\\205_101_10_97e21015-b7c9-4d5a-816b-d4f86d79e09d.txt (bbox count: 0)\n",
      "[INFO] Saved YOLO label: .\\train\\labels\\204_101_10_15e5c3e4-e193-46a3-9696-4361415775a1.txt (bbox count: 0)\n",
      "[INFO] Saved YOLO label: .\\train\\labels\\204_101_10_ee7575ea-5431-4b89-a6ac-cbd76f106962.txt (bbox count: 0)\n",
      "[INFO] Saved YOLO label: .\\train\\labels\\209_102_10_ae5eabd0-5706-490f-bb0e-145fa590ec63.txt (bbox count: 0)\n",
      "[INFO] Saved YOLO label: .\\train\\labels\\207_212_10_827906c7-cfc6-4ada-979d-ecd12164e5b2.txt (bbox count: 0)\n",
      "[INFO] Saved YOLO label: .\\train\\labels\\204_101_10_b80d0355-9642-4e2e-a7fe-f97ce1ca742b.txt (bbox count: 0)\n",
      "[INFO] Saved YOLO label: .\\train\\labels\\205_101_10_04de214e-8fa1-40c6-a325-df2e612a893f.txt (bbox count: 0)\n",
      "[INFO] Saved YOLO label: .\\train\\labels\\207_212_10_adab0573-91d2-403d-a740-904340872cec.txt (bbox count: 0)\n",
      "[INFO] Saved YOLO label: .\\train\\labels\\205_101_10_3f660343-b293-4b4e-b581-e32f9c3563d6.txt (bbox count: 0)\n",
      "[INFO] Saved YOLO label: .\\train\\labels\\204_102_10_c33db07f-1b7e-4722-b10f-51de1d24b25a.txt (bbox count: 0)\n",
      "[INFO] Saved YOLO label: .\\train\\labels\\207_212_10_c1f27662-b42c-46e9-b979-43229faa6f5b.txt (bbox count: 0)\n",
      "[INFO] Saved YOLO label: .\\train\\labels\\207_213_10_7e178f11-6500-4c2d-b37b-2b0dc3c20484.txt (bbox count: 0)\n",
      "[INFO] Saved YOLO label: .\\train\\labels\\204_101_10_10c2ed64-da53-41e6-afd5-64d970ad03e3.txt (bbox count: 0)\n",
      "[INFO] Saved YOLO label: .\\train\\labels\\207_212_10_530069e2-56cc-452e-ad92-6085a7cff545.txt (bbox count: 0)\n",
      "[INFO] Saved YOLO label: .\\train\\labels\\207_102_10_db0052a3-9d7a-47ea-bd15-7d99a665b11f.txt (bbox count: 0)\n",
      "[INFO] Saved YOLO label: .\\train\\labels\\205_101_10_59794188-d151-4ec1-b880-7912e5ded057.txt (bbox count: 0)\n",
      "[INFO] Saved YOLO label: .\\train\\labels\\207_213_10_6ffa6229-74a6-4298-ac27-6fe8ecad4493.txt (bbox count: 0)\n",
      "[INFO] Saved YOLO label: .\\train\\labels\\205_101_10_f4433798-6cf7-40ff-98ba-4370eecc5cbc.txt (bbox count: 0)\n",
      "[INFO] Saved YOLO label: .\\train\\labels\\209_102_10_92a7e547-b9d1-4103-803c-e3aa73a92010.txt (bbox count: 0)\n",
      "[INFO] Saved YOLO label: .\\train\\labels\\204_101_10_e8fa652f-b94d-48f1-a50d-fa2d35ecfa9b.txt (bbox count: 0)\n",
      "[INFO] Saved YOLO label: .\\train\\labels\\204_101_10_cfb36ac2-dffc-4282-8b66-a3eebf49b8a8.txt (bbox count: 0)\n",
      "[INFO] Saved YOLO label: .\\train\\labels\\209_102_10_a8492e19-10b9-424f-a643-245abbbfb4ad.txt (bbox count: 0)\n",
      "[INFO] Saved YOLO label: .\\train\\labels\\207_102_10_f4c3af9b-4718-466d-a96a-f72012cfd073.txt (bbox count: 0)\n",
      "[INFO] Saved YOLO label: .\\train\\labels\\204_101_10_dfdaa227-1ec4-4977-8789-b8e998cd06dc.txt (bbox count: 0)\n",
      "[INFO] Saved YOLO label: .\\train\\labels\\205_101_10_375c76af-45f4-4a56-ba61-bdf3a35d1f16.txt (bbox count: 0)\n",
      "[INFO] Saved YOLO label: .\\train\\labels\\204_101_10_71d61811-f345-4b59-9e7a-089c21e1a65e.txt (bbox count: 0)\n",
      "[INFO] Saved YOLO label: .\\train\\labels\\204_101_10_f3256b2e-f0aa-414d-b89d-83975f2807c4.txt (bbox count: 0)\n",
      "[INFO] Saved YOLO label: .\\train\\labels\\204_101_10_95c2b771-4edf-4126-ae73-b73b20d0c239.txt (bbox count: 0)\n",
      "[INFO] Saved YOLO label: .\\train\\labels\\204_101_10_d4b66a4f-06d2-4aba-8161-66d90c179062.txt (bbox count: 0)\n",
      "[INFO] Saved YOLO label: .\\train\\labels\\205_101_10_f36342ea-4cf8-4a05-9d6d-66a8633de660.txt (bbox count: 0)\n",
      "[INFO] Saved YOLO label: .\\train\\labels\\205_101_10_5db122f3-3852-4d1c-a402-7d8a69432086.txt (bbox count: 0)\n",
      "[INFO] Saved YOLO label: .\\train\\labels\\205_101_10_63a20db8-2748-4753-8529-0b9634c1aa09.txt (bbox count: 0)\n",
      "[INFO] Saved YOLO label: .\\train\\labels\\209_102_10_a9ba64f7-0922-474b-a99a-27deccbf2c3f.txt (bbox count: 0)\n",
      "[INFO] Saved YOLO label: .\\train\\labels\\207_212_10_cf619d55-2386-46d8-9ebd-2f3aa1c296e7.txt (bbox count: 0)\n",
      "[INFO] Saved YOLO label: .\\train\\labels\\209_102_10_1e4c9adf-0ee9-40f9-9b2e-c284422d4d1f.txt (bbox count: 0)\n",
      "[INFO] Saved YOLO label: .\\train\\labels\\207_102_10_3fd32de3-ca2a-4f34-902b-73328f140344.txt (bbox count: 0)\n",
      "[INFO] Saved YOLO label: .\\train\\labels\\204_102_10_dc9bfa30-7e0d-4638-a2b7-20a6b20cdca6.txt (bbox count: 0)\n",
      "[INFO] Saved YOLO label: .\\train\\labels\\204_102_10_fd73e6d9-76e3-4e20-9584-865896f40430.txt (bbox count: 0)\n",
      "[INFO] Saved YOLO label: .\\train\\labels\\207_213_10_82eba15c-0399-4927-a76a-1752f7fbdc2c.txt (bbox count: 0)\n",
      "[INFO] Saved YOLO label: .\\train\\labels\\209_102_10_26826186-56d9-4c9f-84a4-303b7a9d3505.txt (bbox count: 0)\n",
      "[INFO] Saved YOLO label: .\\train\\labels\\209_102_10_60ae770d-7274-4993-83c5-6a77dc3f4452.txt (bbox count: 0)\n",
      "[INFO] Saved YOLO label: .\\train\\labels\\204_102_10_36f7ff45-e1aa-4bb1-89ba-3bb39e0596f4.txt (bbox count: 0)\n",
      "[INFO] Saved YOLO label: .\\train\\labels\\204_102_10_fb1b57cd-69d6-46fc-85e5-562d257e051c.txt (bbox count: 0)\n",
      "[INFO] Saved YOLO label: .\\train\\labels\\205_101_10_80320384-4a4e-4379-a34c-4c1efe71deaa.txt (bbox count: 0)\n",
      "[INFO] Saved YOLO label: .\\train\\labels\\204_102_10_59a54f15-5eb5-4e94-a72b-59d2d9875c0b.txt (bbox count: 0)\n",
      "[INFO] Saved YOLO label: .\\train\\labels\\204_101_10_fd1a2481-7656-49e4-92cc-be35c8d51910.txt (bbox count: 0)\n",
      "[INFO] Saved YOLO label: .\\train\\labels\\207_212_10_93a88c31-ad7f-4c0a-baf9-78070f0f37ab.txt (bbox count: 0)\n",
      "[INFO] Saved YOLO label: .\\train\\labels\\209_102_10_56dc4455-1a37-4fb3-8f38-a2d52819c499.txt (bbox count: 0)\n",
      "[INFO] Saved YOLO label: .\\test\\labels\\207_212_10_efebc2fe-26cd-4623-8485-9ceb56c5ded4.txt (bbox count: 0)\n",
      "[INFO] Saved YOLO label: .\\test\\labels\\204_101_10_33c0ce7c-7fad-4364-8954-e5f55fca837c.txt (bbox count: 0)\n",
      "[INFO] Saved YOLO label: .\\test\\labels\\205_101_10_4ee6d443-2ec3-4585-bd4d-76149469a63a.txt (bbox count: 0)\n",
      "[INFO] Saved YOLO label: .\\test\\labels\\209_102_10_47bc2f27-71a1-47c2-8eff-3ee5cb6f5ab2.txt (bbox count: 0)\n",
      "[INFO] Saved YOLO label: .\\test\\labels\\205_101_10_448a630d-f4bf-486a-9849-c5ae68bc81bf.txt (bbox count: 0)\n",
      "[INFO] Saved YOLO label: .\\test\\labels\\205_101_10_0c58cc22-cdd5-4ecb-930c-07a9fe84e0a2.txt (bbox count: 0)\n",
      "[INFO] Saved YOLO label: .\\test\\labels\\209_102_10_c6de6eb3-e8bf-4794-828e-082ce3fa6717.txt (bbox count: 0)\n",
      "[INFO] Saved YOLO label: .\\test\\labels\\205_101_10_821971bd-833b-47ba-b9fc-55f7ccc5cc95.txt (bbox count: 0)\n",
      "[INFO] Saved YOLO label: .\\test\\labels\\209_102_10_9cb1e993-4b7f-45cf-bcb5-08a7eb4894f5.txt (bbox count: 0)\n",
      "[INFO] Saved YOLO label: .\\test\\labels\\209_102_10_0c2a1634-6003-46bd-8fbb-9d449b56f8bc.txt (bbox count: 0)\n",
      "[INFO] Saved YOLO label: .\\test\\labels\\209_102_10_2e95322f-b14b-4247-8ff7-8595b9dae68b.txt (bbox count: 0)\n",
      "[INFO] Saved YOLO label: .\\test\\labels\\207_204_10_366f36f3-b4db-4970-ba7e-b1e4c2b3afa5.txt (bbox count: 0)\n",
      "[INFO] Saved YOLO label: .\\test\\labels\\209_102_10_67665e19-79b5-479a-9167-26a0737036f6.txt (bbox count: 0)\n",
      "[INFO] Saved YOLO label: .\\test\\labels\\207_212_10_c1aece74-3343-4402-b2c0-66fabae3d2ca.txt (bbox count: 0)\n",
      "[INFO] Saved YOLO label: .\\test\\labels\\209_102_10_f66ec1ec-9aeb-4b7c-aa63-21194558b97f.txt (bbox count: 0)\n",
      "[INFO] Saved YOLO label: .\\test\\labels\\204_101_10_1f13f786-cf69-425d-9a8b-0476c0193387.txt (bbox count: 0)\n",
      "[INFO] Saved YOLO label: .\\test\\labels\\205_101_10_9462d520-e8d3-458a-96b2-75fb5e359602.txt (bbox count: 0)\n",
      "[INFO] Saved YOLO label: .\\test\\labels\\209_102_10_467b6ebe-bf0a-492c-abad-853ae114125b.txt (bbox count: 0)\n",
      "[INFO] Saved YOLO label: .\\test\\labels\\207_213_10_a984a645-3553-4d1f-8cc8-7c4b78f7401e.txt (bbox count: 0)\n",
      "[INFO] Saved YOLO label: .\\test\\labels\\209_102_10_47d283ac-e770-4ca4-af6d-260350d6ae34.txt (bbox count: 0)\n",
      "[INFO] Saved YOLO label: .\\test\\labels\\209_102_10_ba4d30b7-b97b-4886-ac39-7c6a7646b490.txt (bbox count: 0)\n",
      "[INFO] Saved YOLO label: .\\test\\labels\\209_102_10_aa444f5f-e26f-409e-a78f-bc08d796dbfd.txt (bbox count: 0)\n",
      "[INFO] Saved YOLO label: .\\test\\labels\\205_101_10_5f0a764d-5559-4ac0-836d-a9dd75b9d8b5.txt (bbox count: 0)\n",
      "[INFO] Saved YOLO label: .\\test\\labels\\204_102_10_a40aaca9-e00a-469a-86be-316098cd07ab.txt (bbox count: 0)\n",
      "[INFO] Saved YOLO label: .\\test\\labels\\205_101_10_bb12f069-c4e3-43cb-a5ad-38d2812f5c58.txt (bbox count: 0)\n",
      "[INFO] Saved YOLO label: .\\test\\labels\\204_101_10_1a001aec-998d-47a9-b5df-a5fcd7b164ae.txt (bbox count: 0)\n",
      "[INFO] Saved YOLO label: .\\test\\labels\\207_212_10_17e673db-5893-4530-8fd8-3c9e9214fa44.txt (bbox count: 0)\n",
      "[INFO] Saved YOLO label: .\\test\\labels\\204_101_10_814f2bff-c85f-40b8-89a6-bae9a47350ff.txt (bbox count: 0)\n",
      "[INFO] Saved YOLO label: .\\test\\labels\\205_101_10_3172a7d2-9799-4985-8e08-2c9d13ac052e.txt (bbox count: 0)\n",
      "[INFO] Saved YOLO label: .\\test\\labels\\209_102_10_7fb60349-a4b8-4820-9ad5-a63aba153add.txt (bbox count: 0)\n",
      "[INFO] Saved YOLO label: .\\test\\labels\\209_102_10_28e2fd20-bdfb-42d0-a9f4-5030657a87b4.txt (bbox count: 0)\n",
      "[INFO] Saved YOLO label: .\\test\\labels\\207_212_10_54992be8-4791-44d3-a064-7f90cccfd6a6.txt (bbox count: 0)\n",
      "[INFO] Saved YOLO label: .\\test\\labels\\205_101_10_0a4032d1-888a-4857-99af-601146fdd784.txt (bbox count: 0)\n",
      "[INFO] Saved YOLO label: .\\test\\labels\\205_101_10_a4b71e7c-cd79-4232-bb2b-338a2e727ac7.txt (bbox count: 0)\n",
      "[INFO] Saved YOLO label: .\\test\\labels\\207_212_10_407e5747-850c-4a19-8344-12d4c21bf8e9.txt (bbox count: 0)\n",
      "[INFO] Saved YOLO label: .\\test\\labels\\204_101_10_37ed497f-91c0-4163-b145-7392934fe398.txt (bbox count: 0)\n",
      "[INFO] Saved YOLO label: .\\test\\labels\\204_101_10_570bf076-516b-4ad2-8352-0ea2a8784079.txt (bbox count: 0)\n",
      "[INFO] Saved YOLO label: .\\test\\labels\\205_101_10_9992b5bb-db40-482f-b9a5-0d4ac315c221.txt (bbox count: 0)\n",
      "[INFO] Saved YOLO label: .\\test\\labels\\209_102_10_802c371b-e576-41f3-951c-5efb98a8f91b.txt (bbox count: 0)\n",
      "[INFO] Saved YOLO label: .\\test\\labels\\204_102_10_b79a262d-a63d-47f3-9b11-6fe0bce179de.txt (bbox count: 0)\n",
      "[INFO] Saved YOLO label: .\\test\\labels\\207_212_10_f9e29bde-9530-4bb5-9b05-139212619729.txt (bbox count: 0)\n",
      "[INFO] Saved YOLO label: .\\test\\labels\\205_101_10_b0b1d9be-12ea-4995-9fa1-8833c5986b78.txt (bbox count: 0)\n",
      "[INFO] Saved YOLO label: .\\test\\labels\\205_101_10_e9657c25-17fd-48ef-a259-569442baa1c4.txt (bbox count: 0)\n",
      "[INFO] Saved YOLO label: .\\test\\labels\\204_102_10_5f2d2e2c-8c60-408c-b023-1ef7aa04c948.txt (bbox count: 0)\n",
      "[INFO] Saved YOLO label: .\\test\\labels\\207_213_10_631f6fdf-f173-428e-9fc8-40631e94e0bf.txt (bbox count: 0)\n",
      "[INFO] Saved YOLO label: .\\test\\labels\\207_212_10_a34b1733-49cc-453e-af60-0e1db0a452e2.txt (bbox count: 0)\n",
      "[INFO] Saved YOLO label: .\\test\\labels\\209_102_10_ec123b3f-b55d-41b1-a003-249557409403.txt (bbox count: 0)\n",
      "[INFO] Saved YOLO label: .\\test\\labels\\204_101_10_4e15e852-4f0c-4eb3-9382-785943894c8c.txt (bbox count: 0)\n",
      "[INFO] Saved YOLO label: .\\valid\\labels\\209_102_10_daa6a829-8dc7-4ac9-ae84-70381e4136e8.txt (bbox count: 0)\n",
      "[INFO] Saved YOLO label: .\\valid\\labels\\205_101_10_a276e504-f00e-4c4c-b600-251575d86114.txt (bbox count: 0)\n",
      "[INFO] Saved YOLO label: .\\valid\\labels\\204_101_10_9b2c225f-e23b-4947-8b41-3d06ebb41019.txt (bbox count: 0)\n",
      "[INFO] Saved YOLO label: .\\valid\\labels\\207_204_10_78a969cc-3d02-40a8-a5a1-e8f25741a9aa.txt (bbox count: 0)\n",
      "[INFO] Saved YOLO label: .\\valid\\labels\\209_102_10_34e058c5-ec8b-428b-8d41-8e1523d74bd8.txt (bbox count: 0)\n",
      "[INFO] Saved YOLO label: .\\valid\\labels\\207_213_10_3a770e39-5c72-45f4-b70f-9f0f89b889b4.txt (bbox count: 0)\n",
      "[INFO] Saved YOLO label: .\\valid\\labels\\209_102_10_934dfe7d-a2e5-4a2e-9fa7-fe5889add5b7.txt (bbox count: 0)\n",
      "[INFO] Saved YOLO label: .\\valid\\labels\\205_101_10_1196582e-786d-4fc6-b600-1cbe90acdec3.txt (bbox count: 0)\n",
      "[INFO] Saved YOLO label: .\\valid\\labels\\204_102_10_6db04eb5-ab46-47a2-a9a1-0d6559445470.txt (bbox count: 0)\n",
      "[INFO] Saved YOLO label: .\\valid\\labels\\209_102_10_903a8675-2b6b-49b5-aff6-7cdf4cf2621b.txt (bbox count: 0)\n",
      "[INFO] Saved YOLO label: .\\valid\\labels\\204_102_10_26e8a22f-a116-421f-8666-4ac41d1eb431.txt (bbox count: 0)\n",
      "[INFO] Saved YOLO label: .\\valid\\labels\\205_101_10_2d0fe052-6dc0-4e75-b4a7-b868d9adda65.txt (bbox count: 0)\n",
      "[INFO] Saved YOLO label: .\\valid\\labels\\204_101_10_df77e0bf-9341-48ff-b3b3-40434e93b226.txt (bbox count: 0)\n",
      "[INFO] Saved YOLO label: .\\valid\\labels\\205_101_10_bfc5f5f2-bc4b-494a-a27d-00276f7ca775.txt (bbox count: 0)\n",
      "[INFO] Saved YOLO label: .\\valid\\labels\\209_102_10_6b297117-ce1d-4c8d-900e-6aac6578483b.txt (bbox count: 0)\n",
      "[INFO] Saved YOLO label: .\\valid\\labels\\207_213_10_ce980219-3f63-4873-b810-db33c66cd642.txt (bbox count: 0)\n",
      "[INFO] Saved YOLO label: .\\valid\\labels\\209_102_10_940bfa8e-03a1-4f78-aa3e-1f45ead6fc5f.txt (bbox count: 0)\n",
      "[INFO] Saved YOLO label: .\\valid\\labels\\204_101_10_3a37d146-1bca-487b-a434-c3351401b28f.txt (bbox count: 0)\n",
      "[INFO] Saved YOLO label: .\\valid\\labels\\205_101_10_9762b299-d27c-4b75-94f9-5d6d62a3215e.txt (bbox count: 0)\n",
      "[INFO] Saved YOLO label: .\\valid\\labels\\205_101_10_6e8f5cc4-5968-4ade-8924-2a9148666f95.txt (bbox count: 0)\n",
      "[INFO] Saved YOLO label: .\\valid\\labels\\204_101_10_ddcf1c85-5ef5-4eea-9b81-f55f0b068aeb.txt (bbox count: 0)\n",
      "[INFO] Saved YOLO label: .\\valid\\labels\\207_212_10_e0578290-4f3e-44b2-a01a-9131468ce9d7.txt (bbox count: 0)\n",
      "[INFO] Saved YOLO label: .\\valid\\labels\\207_204_10_a8ef7042-0fab-439f-899e-a0c0fa3ea9e8.txt (bbox count: 0)\n",
      "[INFO] Saved YOLO label: .\\valid\\labels\\209_102_10_e29a567a-ebbe-4194-bd32-348c084244ec.txt (bbox count: 0)\n",
      "[INFO] Saved YOLO label: .\\valid\\labels\\204_101_10_2cf1b80f-698e-4027-b508-1d524e9597b3.txt (bbox count: 0)\n",
      "[INFO] Saved YOLO label: .\\valid\\labels\\209_102_10_ed738128-9792-45b1-bc20-0a8d1333fb21.txt (bbox count: 0)\n",
      "[INFO] Saved YOLO label: .\\valid\\labels\\205_101_10_e15a72fc-0849-4a79-ab7c-b48561bc9720.txt (bbox count: 0)\n",
      "[INFO] Saved YOLO label: .\\valid\\labels\\209_102_10_843ead2d-7805-4f9c-a93c-66377d47ceb2.txt (bbox count: 0)\n",
      "[INFO] Saved YOLO label: .\\valid\\labels\\207_212_10_11b46f5e-e949-4b00-adf9-4b657c25a771.txt (bbox count: 0)\n",
      "[INFO] Saved YOLO label: .\\valid\\labels\\204_102_10_d1669a8d-c8d6-4481-a1eb-79e00d3a4cb9.txt (bbox count: 0)\n",
      "[INFO] Saved YOLO label: .\\valid\\labels\\205_101_10_220216bc-b949-4b39-8928-e4f0ab4cf2cb.txt (bbox count: 0)\n",
      "[INFO] Saved YOLO label: .\\valid\\labels\\205_101_10_edf3db25-6c15-43a1-a21f-744b59d7a1e5.txt (bbox count: 0)\n",
      "[INFO] Saved YOLO label: .\\valid\\labels\\207_204_10_148b0394-68ac-4f8e-992a-dd4f91248d49.txt (bbox count: 0)\n",
      "[INFO] Saved YOLO label: .\\valid\\labels\\207_204_10_6fb81604-a569-437b-b9da-92ab5decd032.txt (bbox count: 0)\n",
      "[INFO] Saved YOLO label: .\\valid\\labels\\209_102_10_a842c098-bdcc-4b6e-b427-d3c563d29460.txt (bbox count: 0)\n",
      "[INFO] Saved YOLO label: .\\valid\\labels\\209_102_10_6cc5aa34-4b79-45a9-ae6b-8807ca7354b8.txt (bbox count: 0)\n",
      "[INFO] Saved YOLO label: .\\valid\\labels\\204_101_10_35677d63-f7c0-4b50-9480-76549b759983.txt (bbox count: 0)\n",
      "[INFO] Saved YOLO label: .\\valid\\labels\\207_102_10_14f9abca-de07-494d-949f-b84943477ad8.txt (bbox count: 0)\n",
      "[INFO] Saved YOLO label: .\\valid\\labels\\209_102_10_5f1462a9-639c-4c39-80c4-71076927b5a7.txt (bbox count: 0)\n",
      "[INFO] Saved YOLO label: .\\valid\\labels\\209_102_10_71417aa0-e5ed-413f-88b3-b819d7b8c65e.txt (bbox count: 0)\n",
      "[INFO] Saved YOLO label: .\\valid\\labels\\204_101_10_3c8ce008-0120-4f14-8a22-ecab0aed2990.txt (bbox count: 0)\n",
      "[INFO] Saved YOLO label: .\\valid\\labels\\205_101_10_0f8ce033-5697-4b3b-b8f9-3c3f9a12f9e1.txt (bbox count: 0)\n",
      "[INFO] Saved YOLO label: .\\valid\\labels\\205_101_10_baf9b287-8cab-4c33-82c6-5ffc1eb21d8c.txt (bbox count: 0)\n",
      "[INFO] Saved YOLO label: .\\valid\\labels\\209_102_10_a10a8646-28d2-4d82-a63f-1eba18aff7cc.txt (bbox count: 0)\n",
      "[INFO] Saved YOLO label: .\\valid\\labels\\205_101_10_a5160ea8-e51a-4a13-a469-adbd8b311492.txt (bbox count: 0)\n",
      "[INFO] Saved YOLO label: .\\valid\\labels\\204_102_10_64b9081c-413f-4699-85da-51f4ec602189.txt (bbox count: 0)\n",
      "[INFO] Saved YOLO label: .\\valid\\labels\\205_101_10_ba84275a-0005-4a32-9e2b-ce9b1ed1f63c.txt (bbox count: 0)\n",
      "[INFO] Saved YOLO label: .\\valid\\labels\\209_102_10_f1347ade-b2d1-43a4-b445-73a1034c5ada.txt (bbox count: 0)\n",
      "[INFO] Saved YOLO label: .\\train\\labels\\205_101_20_f5859241-49b8-4c57-a24e-d7b63ab0e5aa.txt (bbox count: 2)\n",
      "[INFO] Saved YOLO label: .\\train\\labels\\207_212_20_4ae50985-bd1d-44b9-b51c-7372341780ac.txt (bbox count: 1)\n",
      "[INFO] Saved YOLO label: .\\train\\labels\\207_102_20_87281d5b-ae6e-4077-acb7-192852e35a25.txt (bbox count: 1)\n",
      "[INFO] Saved YOLO label: .\\train\\labels\\205_101_20_6469ed25-00f4-427d-a0ce-0b4cce2f8f75.txt (bbox count: 2)\n",
      "[INFO] Saved YOLO label: .\\train\\labels\\207_212_20_d151183e-38c0-41f2-9e0b-f0cdd42e1e04.txt (bbox count: 1)\n",
      "[INFO] Saved YOLO label: .\\train\\labels\\207_212_20_8d81c211-8fd9-4a12-a791-736c2f11f4ad.txt (bbox count: 1)\n",
      "[INFO] Saved YOLO label: .\\train\\labels\\205_101_20_207c40ab-396b-4e61-b4d7-20b19c40dae6.txt (bbox count: 1)\n",
      "[INFO] Saved YOLO label: .\\train\\labels\\207_102_20_91f88861-bd1d-462e-b6cb-9bb02b7b014f.txt (bbox count: 1)\n",
      "[INFO] Saved YOLO label: .\\train\\labels\\209_102_20_f30be353-bd38-4c1b-840e-5129769082ff.txt (bbox count: 1)\n",
      "[INFO] Saved YOLO label: .\\train\\labels\\209_102_20_b0357027-90ae-49e9-8556-97b54048c687.txt (bbox count: 1)\n",
      "[INFO] Saved YOLO label: .\\train\\labels\\209_102_20_2c26bc15-5ae4-473e-9441-0e178406bc61.txt (bbox count: 1)\n",
      "[INFO] Saved YOLO label: .\\train\\labels\\205_101_20_e83b2ec1-99ae-4131-b9c0-5cad76784e5d.txt (bbox count: 2)\n",
      "[INFO] Saved YOLO label: .\\train\\labels\\205_101_20_25b86574-a1ba-4177-9928-79c870e62662.txt (bbox count: 1)\n",
      "[INFO] Saved YOLO label: .\\train\\labels\\205_101_20_48c6d98b-f323-466b-9e7d-3ebacb83b218.txt (bbox count: 1)\n",
      "[INFO] Saved YOLO label: .\\train\\labels\\209_102_20_c6516523-4bd4-4320-9891-26b4bbbd01a2.txt (bbox count: 1)\n",
      "[INFO] Saved YOLO label: .\\train\\labels\\205_101_20_602b0763-76af-42ec-a1f2-4cef7c7c81b5.txt (bbox count: 2)\n",
      "[INFO] Saved YOLO label: .\\train\\labels\\209_102_20_7d949364-aa7e-44d1-87a2-150eeca74a8f.txt (bbox count: 1)\n",
      "[INFO] Saved YOLO label: .\\train\\labels\\205_101_20_ddafd7d3-8b1c-4d6b-84a2-4b619191f091.txt (bbox count: 2)\n",
      "[INFO] Saved YOLO label: .\\train\\labels\\207_102_20_791f0efe-b5ca-46d5-a5a8-8822ecb76098.txt (bbox count: 1)\n",
      "[INFO] Saved YOLO label: .\\train\\labels\\207_213_20_9dcdd975-f456-4917-84f1-863fa3d44d8b.txt (bbox count: 1)\n",
      "[INFO] Saved YOLO label: .\\train\\labels\\204_101_20_c88af863-1cf6-405f-a673-0366c138f899.txt (bbox count: 1)\n",
      "[INFO] Saved YOLO label: .\\train\\labels\\209_102_20_564e3083-2158-460b-8250-96f354c875d3.txt (bbox count: 1)\n",
      "[INFO] Saved YOLO label: .\\train\\labels\\204_102_20_8a70fb22-600d-4c6b-a481-0261270cffcc.txt (bbox count: 1)\n",
      "[INFO] Saved YOLO label: .\\train\\labels\\207_212_20_38bb2e70-85b0-4227-af09-56dee1e7e477.txt (bbox count: 1)\n",
      "[INFO] Saved YOLO label: .\\train\\labels\\209_102_20_b7000ca7-c0e6-4b35-b7fe-7f422eae236d.txt (bbox count: 1)\n",
      "[INFO] Saved YOLO label: .\\train\\labels\\209_102_20_519d88e6-eb1d-4b96-aa41-92821d072714.txt (bbox count: 1)\n",
      "[INFO] Saved YOLO label: .\\train\\labels\\205_101_20_5c8da6da-85b9-4852-95c9-b0f685a25927.txt (bbox count: 4)\n",
      "[INFO] Saved YOLO label: .\\train\\labels\\209_102_20_43b0f42e-6db6-4398-9f41-166ff397e241.txt (bbox count: 1)\n",
      "[INFO] Saved YOLO label: .\\train\\labels\\209_102_20_a61a8a4e-9f6b-4168-88be-1768ccf885cf.txt (bbox count: 1)\n",
      "[INFO] Saved YOLO label: .\\train\\labels\\204_101_20_9e5864df-8e50-41a5-b044-32dd5710956c.txt (bbox count: 1)\n",
      "[INFO] Saved YOLO label: .\\train\\labels\\209_102_20_75998d0e-0cf4-40c2-a292-df06f2823b97.txt (bbox count: 1)\n",
      "[INFO] Saved YOLO label: .\\train\\labels\\207_212_20_8510d44c-7f16-4742-830a-8dce56bb978e.txt (bbox count: 1)\n",
      "[INFO] Saved YOLO label: .\\train\\labels\\207_204_20_a6a9f3aa-96d1-4733-ade8-bcc7aba8a0f3.txt (bbox count: 1)\n",
      "[INFO] Saved YOLO label: .\\train\\labels\\209_102_20_02d25005-1215-405e-a038-b8f4bf6dcc74.txt (bbox count: 1)\n",
      "[INFO] Saved YOLO label: .\\train\\labels\\207_213_20_63a1bf3f-e991-4407-950b-830a6474392a.txt (bbox count: 1)\n",
      "[INFO] Saved YOLO label: .\\train\\labels\\204_101_20_a0cea2ef-1a8e-44c8-9dea-36a7ce176e9d.txt (bbox count: 1)\n",
      "[INFO] Saved YOLO label: .\\train\\labels\\205_101_20_81e5c95d-35ff-4792-aea8-4b8527d4608c.txt (bbox count: 1)\n",
      "[INFO] Saved YOLO label: .\\train\\labels\\204_102_20_a70b9cff-bd77-4daa-a343-124c660f62df.txt (bbox count: 1)\n",
      "[INFO] Saved YOLO label: .\\train\\labels\\204_102_20_7c3620dd-54f1-47cb-9fb8-e835e371c626.txt (bbox count: 1)\n",
      "[INFO] Saved YOLO label: .\\train\\labels\\207_204_20_aec36187-4219-459a-9051-a8acef3c00c0.txt (bbox count: 1)\n",
      "[INFO] Saved YOLO label: .\\train\\labels\\209_102_20_3dd2bc51-f58c-489a-8aa6-2cfd0629c591.txt (bbox count: 1)\n",
      "[INFO] Saved YOLO label: .\\train\\labels\\205_101_20_046af7b1-c3f1-49b8-a080-7e687f4c17f8.txt (bbox count: 4)\n",
      "[INFO] Saved YOLO label: .\\train\\labels\\209_102_20_a6ed96a4-0833-4ba9-8d71-c532169bf384.txt (bbox count: 1)\n",
      "[INFO] Saved YOLO label: .\\train\\labels\\209_102_20_ef96f2aa-0d24-4b46-809d-feda167ac3f5.txt (bbox count: 1)\n",
      "[INFO] Saved YOLO label: .\\train\\labels\\205_101_20_d390cb1f-5ab6-4e09-b360-5923f84ffff0.txt (bbox count: 3)\n",
      "[INFO] Saved YOLO label: .\\train\\labels\\207_213_20_a8e64b5c-580f-4d06-a912-d00ef06c4520.txt (bbox count: 1)\n",
      "[INFO] Saved YOLO label: .\\train\\labels\\207_212_20_fbdabddd-0474-45a0-b6eb-37b70ad1c0cf.txt (bbox count: 1)\n",
      "[INFO] Saved YOLO label: .\\train\\labels\\207_102_20_48685437-27e8-4042-8b34-97cb3414b00f.txt (bbox count: 1)\n",
      "[INFO] Saved YOLO label: .\\train\\labels\\207_204_20_369c94da-da5a-4b36-abae-172b40736aa1.txt (bbox count: 1)\n",
      "[INFO] Saved YOLO label: .\\train\\labels\\209_102_20_727619c2-69b4-44ee-abd7-afe97a4d754c.txt (bbox count: 1)\n",
      "[INFO] Saved YOLO label: .\\train\\labels\\204_101_20_61dc6078-8205-4d94-9240-ba2a17664880.txt (bbox count: 2)\n",
      "[INFO] Saved YOLO label: .\\train\\labels\\207_102_20_7bdf94cb-2f42-435d-9333-f4153095ec14.txt (bbox count: 1)\n",
      "[INFO] Saved YOLO label: .\\train\\labels\\205_101_20_81fe68a8-0bed-4b32-b20d-79f825b2d2cf.txt (bbox count: 2)\n",
      "[INFO] Saved YOLO label: .\\train\\labels\\207_204_20_a231aff2-bee5-4de7-a289-179fd088a47e.txt (bbox count: 1)\n",
      "[INFO] Saved YOLO label: .\\train\\labels\\209_102_20_3cf3430f-d156-4edc-89b9-e8b68076d47f.txt (bbox count: 1)\n",
      "[INFO] Saved YOLO label: .\\train\\labels\\204_101_20_c46e91c6-ca88-430a-ba4f-e1d4cc0e5a04.txt (bbox count: 1)\n",
      "[INFO] Saved YOLO label: .\\train\\labels\\204_101_20_577ad7a4-17ad-45a1-b4f8-60b75c1b1567.txt (bbox count: 2)\n",
      "[INFO] Saved YOLO label: .\\train\\labels\\207_204_20_b35648c0-9b1d-4194-a230-cec25bfc9158.txt (bbox count: 1)\n",
      "[INFO] Saved YOLO label: .\\train\\labels\\209_102_20_fbddca24-7b0f-4a01-a449-813489562762.txt (bbox count: 1)\n",
      "[INFO] Saved YOLO label: .\\train\\labels\\207_102_20_cf7162f6-0b14-4f92-a0d4-9de973defd06.txt (bbox count: 1)\n",
      "[INFO] Saved YOLO label: .\\train\\labels\\207_212_20_9b7882d3-36cd-4316-9821-c72d501f24f7.txt (bbox count: 1)\n",
      "[INFO] Saved YOLO label: .\\train\\labels\\209_102_20_8a0eeb9b-15cd-4e15-b19e-a27dca918478.txt (bbox count: 1)\n",
      "[INFO] Saved YOLO label: .\\train\\labels\\209_102_20_4cef7ec8-ee81-4cce-9f7b-519d2c45ffbd.txt (bbox count: 1)\n",
      "[INFO] Saved YOLO label: .\\train\\labels\\205_101_20_99d155e0-c42f-48cd-a4c2-a3af048e210d.txt (bbox count: 1)\n",
      "[INFO] Saved YOLO label: .\\train\\labels\\204_102_20_77d71c1a-d671-4b52-a383-ed595bd80eac.txt (bbox count: 1)\n",
      "[INFO] Saved YOLO label: .\\train\\labels\\205_101_20_77e2c35a-0dac-40df-aa1a-fc19cedd1c26.txt (bbox count: 3)\n",
      "[INFO] Saved YOLO label: .\\train\\labels\\207_212_20_f04cd9a5-0a56-40b9-90d1-f1118ba44e2a.txt (bbox count: 1)\n",
      "[INFO] Saved YOLO label: .\\train\\labels\\207_213_20_bd7ad1c9-e60d-4091-98ac-85afee1f0082.txt (bbox count: 1)\n",
      "[INFO] Saved YOLO label: .\\train\\labels\\209_102_20_9c7af6e3-b5ab-4a05-b3cb-a75a2151571b.txt (bbox count: 1)\n",
      "[INFO] Saved YOLO label: .\\train\\labels\\209_102_20_d988a8dc-2567-4798-9361-ee7a9c4b9664.txt (bbox count: 1)\n",
      "[INFO] Saved YOLO label: .\\train\\labels\\207_212_20_d800dc77-aad2-43fb-a7bb-6468c327b376.txt (bbox count: 1)\n",
      "[INFO] Saved YOLO label: .\\train\\labels\\209_102_20_3a4f75e9-40e3-41b8-abb9-f69aff6404ce.txt (bbox count: 1)\n",
      "[INFO] Saved YOLO label: .\\train\\labels\\205_101_20_154be667-19b3-4edf-943e-5ee414663142.txt (bbox count: 2)\n",
      "[INFO] Saved YOLO label: .\\train\\labels\\207_204_20_4e93927f-128f-4bb3-abf4-f44c81465f54.txt (bbox count: 1)\n",
      "[INFO] Saved YOLO label: .\\train\\labels\\207_204_20_a1683e17-3f43-4fda-a423-66f9c8633139.txt (bbox count: 1)\n",
      "[INFO] Saved YOLO label: .\\train\\labels\\204_101_20_21f833f9-1eb8-4358-bae6-86538cf1af05.txt (bbox count: 1)\n",
      "[INFO] Saved YOLO label: .\\train\\labels\\209_102_20_46e6e144-5e66-418c-87b8-fe2976a96c10.txt (bbox count: 1)\n",
      "[INFO] Saved YOLO label: .\\train\\labels\\209_102_20_baefbac6-8cd3-4742-b10c-57ad5460b464.txt (bbox count: 1)\n",
      "[INFO] Saved YOLO label: .\\train\\labels\\204_101_20_cc7eb577-958f-4878-9e84-22326db17d67.txt (bbox count: 1)\n",
      "[INFO] Saved YOLO label: .\\train\\labels\\205_101_20_e414c589-f3dc-457a-a6fb-6f83d5394797.txt (bbox count: 1)\n",
      "[INFO] Saved YOLO label: .\\train\\labels\\209_102_20_13b1424e-f117-4925-84af-68e4865fc6b1.txt (bbox count: 1)\n",
      "[INFO] Saved YOLO label: .\\train\\labels\\207_204_20_4ad7b417-0a61-4e6d-8907-b02aa09589ff.txt (bbox count: 1)\n",
      "[INFO] Saved YOLO label: .\\train\\labels\\205_101_20_3cf90e2e-4413-49ce-907a-9f8529962b19.txt (bbox count: 2)\n",
      "[INFO] Saved YOLO label: .\\train\\labels\\204_101_20_0cfc5ba2-809e-4031-a9db-cc95cd393bd0.txt (bbox count: 2)\n",
      "[INFO] Saved YOLO label: .\\train\\labels\\207_212_20_7446a509-0f31-4d4b-bb2d-2de0414baf43.txt (bbox count: 1)\n",
      "[INFO] Saved YOLO label: .\\train\\labels\\204_101_20_fa31b1cc-5d90-4f6d-a211-07f473f97575.txt (bbox count: 1)\n",
      "[INFO] Saved YOLO label: .\\train\\labels\\205_101_20_a095c500-ba02-4b3c-864e-7bfb8005f9d9.txt (bbox count: 1)\n",
      "[INFO] Saved YOLO label: .\\train\\labels\\209_102_20_51c599f7-9f94-4fb2-ab75-e657d9608d9c.txt (bbox count: 1)\n",
      "[INFO] Saved YOLO label: .\\train\\labels\\209_102_20_a198ff77-d7a8-4f75-8024-a9fad2ef4d06.txt (bbox count: 1)\n",
      "[INFO] Saved YOLO label: .\\train\\labels\\205_101_20_884b45c9-4a18-4707-a7a1-745fb557b2f3.txt (bbox count: 3)\n",
      "[INFO] Saved YOLO label: .\\train\\labels\\207_102_20_11a8538b-38e3-49f7-a407-c441d2321e0a.txt (bbox count: 1)\n",
      "[INFO] Saved YOLO label: .\\train\\labels\\207_213_20_ec941cda-63f3-4d79-8e1c-07d42bcef2c4.txt (bbox count: 1)\n",
      "[INFO] Saved YOLO label: .\\train\\labels\\205_101_20_5e49eb02-4a42-44cc-a280-b24c25f28a06.txt (bbox count: 1)\n",
      "[INFO] Saved YOLO label: .\\train\\labels\\209_102_20_d10aefb7-8214-4535-93f7-934f24d9a0d7.txt (bbox count: 1)\n",
      "[INFO] Saved YOLO label: .\\train\\labels\\207_204_20_e3b9cdab-3009-41dc-914d-395452dc25b2.txt (bbox count: 1)\n",
      "[INFO] Saved YOLO label: .\\train\\labels\\205_101_20_2357cef1-a62e-485d-b5c9-c5ce678c59f8.txt (bbox count: 1)\n",
      "[INFO] Saved YOLO label: .\\train\\labels\\204_101_20_1bf6a4a7-ef91-4efb-aee4-965af8326c49.txt (bbox count: 1)\n",
      "[INFO] Saved YOLO label: .\\train\\labels\\204_101_20_823cdc01-fb16-482c-898d-588bce49af23.txt (bbox count: 2)\n",
      "[INFO] Saved YOLO label: .\\train\\labels\\204_102_20_00483b79-2c7d-4553-8dc8-faa93fce5fc3.txt (bbox count: 1)\n",
      "[INFO] Saved YOLO label: .\\train\\labels\\209_102_20_29da388d-2713-407e-a600-80ea38902c77.txt (bbox count: 1)\n",
      "[INFO] Saved YOLO label: .\\train\\labels\\205_101_20_57020242-6795-490e-bd42-f6bfaf8a9b9b.txt (bbox count: 1)\n",
      "[INFO] Saved YOLO label: .\\train\\labels\\209_102_20_54ed04e2-6734-4a41-b5a4-713124f0018b.txt (bbox count: 1)\n",
      "[INFO] Saved YOLO label: .\\train\\labels\\204_101_20_cca67659-093d-4a39-b395-0ad7539b5e20.txt (bbox count: 1)\n",
      "[INFO] Saved YOLO label: .\\train\\labels\\204_101_20_202f1caf-f0ab-43e6-a839-05b97cfd41fe.txt (bbox count: 1)\n",
      "[INFO] Saved YOLO label: .\\train\\labels\\205_101_20_41a49b9a-67a4-4a1f-b068-1765ae875227.txt (bbox count: 1)\n",
      "[INFO] Saved YOLO label: .\\train\\labels\\207_212_20_d72a4ade-4c23-4464-a548-555d4097ce3d.txt (bbox count: 1)\n",
      "[INFO] Saved YOLO label: .\\train\\labels\\205_101_20_d5d78723-63a2-4d5b-a37b-e360294f284a.txt (bbox count: 3)\n",
      "[INFO] Saved YOLO label: .\\train\\labels\\204_101_20_eadeed4d-3910-48ee-b241-026657dd2190.txt (bbox count: 1)\n",
      "[INFO] Saved YOLO label: .\\train\\labels\\207_102_20_faa1eb3e-4ab0-47de-b146-13ed2a392185.txt (bbox count: 1)\n",
      "[INFO] Saved YOLO label: .\\train\\labels\\207_204_20_d0c63b6c-bced-48d9-a425-9c0116c9e29e.txt (bbox count: 1)\n",
      "[INFO] Saved YOLO label: .\\train\\labels\\204_101_20_0129e8b7-7b97-459c-8fe1-0681460f5a34.txt (bbox count: 1)\n",
      "[INFO] Saved YOLO label: .\\train\\labels\\207_213_20_b708ebaa-f050-4418-825c-c77de2761a0e.txt (bbox count: 1)\n",
      "[INFO] Saved YOLO label: .\\train\\labels\\204_102_20_314c4105-fa46-44db-9002-edcd0d0ab7db.txt (bbox count: 1)\n",
      "[INFO] Saved YOLO label: .\\train\\labels\\204_101_20_64d2db67-7102-4832-8d59-399e0adb7329.txt (bbox count: 2)\n",
      "[INFO] Saved YOLO label: .\\train\\labels\\209_102_20_3f526ddb-1263-46b8-87b6-b06fd482e235.txt (bbox count: 1)\n",
      "[INFO] Saved YOLO label: .\\train\\labels\\207_102_20_50dc534a-2271-4087-9ea8-b555594e2186.txt (bbox count: 1)\n",
      "[INFO] Saved YOLO label: .\\train\\labels\\204_101_20_b9e69f31-80b6-4354-b22a-fdb90d4669e5.txt (bbox count: 4)\n",
      "[INFO] Saved YOLO label: .\\train\\labels\\209_102_20_3ae39ff3-5cc6-49a8-979b-abe33bcbd6e9.txt (bbox count: 1)\n",
      "[INFO] Saved YOLO label: .\\train\\labels\\209_102_20_7a268115-75c8-4567-9f28-2aa1ba4b7d57.txt (bbox count: 1)\n",
      "[INFO] Saved YOLO label: .\\train\\labels\\204_102_20_066a0380-f8ac-441a-89b3-90aed5e34ffa.txt (bbox count: 1)\n",
      "[INFO] Saved YOLO label: .\\train\\labels\\204_101_20_e77a7567-ad74-46a1-b675-60e732ea091b.txt (bbox count: 1)\n",
      "[INFO] Saved YOLO label: .\\train\\labels\\204_101_20_def947a9-f64f-4f1f-b2f6-192b944db2ed.txt (bbox count: 1)\n",
      "[INFO] Saved YOLO label: .\\train\\labels\\209_102_20_e58d0d08-d4d0-4bb3-b33d-bcc5cf0d1038.txt (bbox count: 1)\n",
      "[INFO] Saved YOLO label: .\\train\\labels\\209_102_20_abb15384-d9bc-4525-abf7-aad55d4306ba.txt (bbox count: 1)\n",
      "[INFO] Saved YOLO label: .\\train\\labels\\207_102_20_c1a1df2a-3901-452f-89a5-cd0cd51528ea.txt (bbox count: 1)\n",
      "[INFO] Saved YOLO label: .\\train\\labels\\205_101_20_8daf9a40-036e-4a8a-8a09-0d59d4d99327.txt (bbox count: 3)\n",
      "[INFO] Saved YOLO label: .\\train\\labels\\205_101_20_b308b18f-721c-4ac9-837e-1358e9f51d7d.txt (bbox count: 1)\n",
      "[INFO] Saved YOLO label: .\\train\\labels\\205_101_20_21fa8d39-dc4a-4c2b-b0a1-8370595dbada.txt (bbox count: 1)\n",
      "[INFO] Saved YOLO label: .\\train\\labels\\205_101_20_4e852fb6-aa3b-4128-8460-178fb4e8663a.txt (bbox count: 1)\n",
      "[INFO] Saved YOLO label: .\\train\\labels\\205_101_20_23aedb0c-2398-4a0e-91e3-87853ab03756.txt (bbox count: 3)\n",
      "[INFO] Saved YOLO label: .\\train\\labels\\209_102_20_a31ea2ac-bd65-4a13-9391-38c56ad6d483.txt (bbox count: 1)\n",
      "[INFO] Saved YOLO label: .\\train\\labels\\209_102_20_9921229e-06c3-458a-ad8e-7c4109177e94.txt (bbox count: 1)\n",
      "[INFO] Saved YOLO label: .\\train\\labels\\209_102_20_fd699278-0170-430e-a87f-5779d6f9deea.txt (bbox count: 1)\n",
      "[INFO] Saved YOLO label: .\\train\\labels\\207_102_20_67add425-c68a-4f83-b645-31280957941c.txt (bbox count: 1)\n",
      "[INFO] Saved YOLO label: .\\train\\labels\\205_101_20_bca683dd-196e-4fdd-8d0d-9afe7197b49d.txt (bbox count: 1)\n",
      "[INFO] Saved YOLO label: .\\train\\labels\\204_101_20_0baee9e0-db4b-413c-bc0d-f0ca69cc201c.txt (bbox count: 1)\n",
      "[INFO] Saved YOLO label: .\\train\\labels\\205_101_20_0a5e204f-eeec-4c5e-84be-438c0d31652b.txt (bbox count: 2)\n",
      "[INFO] Saved YOLO label: .\\train\\labels\\209_102_20_e747596e-2e5e-418e-bdcb-535da2cc6427.txt (bbox count: 1)\n",
      "[INFO] Saved YOLO label: .\\train\\labels\\204_102_20_f5f52262-632a-4ce1-acda-eb2349d5ae26.txt (bbox count: 1)\n",
      "[INFO] Saved YOLO label: .\\train\\labels\\204_101_20_a0f7f6dc-16ff-4627-8401-04da351c4778.txt (bbox count: 2)\n",
      "[INFO] Saved YOLO label: .\\train\\labels\\204_102_20_fb0473b8-3d81-4ef6-95ee-6a431b6bebf2.txt (bbox count: 1)\n",
      "[INFO] Saved YOLO label: .\\train\\labels\\204_101_20_bd88f35e-b391-4c66-8dae-2b41ce0ae6de.txt (bbox count: 2)\n",
      "[INFO] Saved YOLO label: .\\train\\labels\\209_102_20_6cdfd565-e0f5-400a-bcb2-c72cecf00365.txt (bbox count: 1)\n",
      "[INFO] Saved YOLO label: .\\train\\labels\\209_102_20_c200990e-9c34-4ee3-9f44-69db473370f4.txt (bbox count: 1)\n",
      "[INFO] Saved YOLO label: .\\train\\labels\\209_102_20_621915bb-42c1-4a6e-9374-d102b0d38f8d.txt (bbox count: 1)\n",
      "[INFO] Saved YOLO label: .\\train\\labels\\209_102_20_82d6d8f4-6a96-4e23-9adf-4e1bd18366f8.txt (bbox count: 1)\n",
      "[INFO] Saved YOLO label: .\\train\\labels\\207_213_20_76eecd57-52ff-40f7-bdd7-633a566c81df.txt (bbox count: 1)\n",
      "[INFO] Saved YOLO label: .\\train\\labels\\205_101_20_eebd1309-9740-4e85-b49e-7e6d5646750d.txt (bbox count: 1)\n",
      "[INFO] Saved YOLO label: .\\train\\labels\\209_102_20_e4e6d282-b3ad-4d76-b395-815442edfdf0.txt (bbox count: 1)\n",
      "[INFO] Saved YOLO label: .\\train\\labels\\204_101_20_60fcc0c2-4bdc-467b-8d78-789cf964fcf7.txt (bbox count: 3)\n",
      "[INFO] Saved YOLO label: .\\train\\labels\\205_101_20_fa15b154-54d9-41c3-a6bb-2a3b6e7df6cc.txt (bbox count: 4)\n",
      "[INFO] Saved YOLO label: .\\train\\labels\\207_204_20_f954d596-065d-4bec-ab17-39a02c076beb.txt (bbox count: 1)\n",
      "[INFO] Saved YOLO label: .\\train\\labels\\205_101_20_1e3a9c8e-b02b-4b60-a564-20504bcffa35.txt (bbox count: 2)\n",
      "[INFO] Saved YOLO label: .\\train\\labels\\205_101_20_0d611a33-0b63-4d69-87d4-6ac59ccfea9d.txt (bbox count: 2)\n",
      "[INFO] Saved YOLO label: .\\train\\labels\\209_102_20_ed76167c-05eb-42da-a23b-7840a921e735.txt (bbox count: 1)\n",
      "[INFO] Saved YOLO label: .\\train\\labels\\209_102_20_352d9d9a-d3dd-49f6-9f19-5b9a6d4eda16.txt (bbox count: 1)\n",
      "[INFO] Saved YOLO label: .\\train\\labels\\205_101_20_09d28ab8-8b6a-452c-a052-747464da1804.txt (bbox count: 1)\n",
      "[INFO] Saved YOLO label: .\\train\\labels\\204_101_20_d21f4ccb-ef6d-4c2a-98b8-806a4c68a7d8.txt (bbox count: 1)\n",
      "[INFO] Saved YOLO label: .\\train\\labels\\205_101_20_848215e0-79a1-4a73-bfb1-552211e681cf.txt (bbox count: 2)\n",
      "[INFO] Saved YOLO label: .\\train\\labels\\204_101_20_83852ce3-4f07-4dee-afb4-e690358280cc.txt (bbox count: 1)\n",
      "[INFO] Saved YOLO label: .\\train\\labels\\207_204_20_c35712cf-6211-4224-9223-85f3f5d1c9fe.txt (bbox count: 1)\n",
      "[INFO] Saved YOLO label: .\\train\\labels\\205_101_20_187bc8b0-a807-44b9-8752-865b535c08b2.txt (bbox count: 2)\n",
      "[INFO] Saved YOLO label: .\\train\\labels\\207_212_20_b693a36c-815d-40fd-930c-2a8dccf31c93.txt (bbox count: 1)\n",
      "[INFO] Saved YOLO label: .\\train\\labels\\207_213_20_eb6aa666-b80c-4034-8fea-3983f77e375a.txt (bbox count: 1)\n",
      "[INFO] Saved YOLO label: .\\train\\labels\\209_102_20_3f2de313-d935-4bd2-85f7-801246c435f5.txt (bbox count: 1)\n",
      "[INFO] Saved YOLO label: .\\train\\labels\\204_101_20_fc8cd8da-5ba0-4a8e-9133-85ca3663c57d.txt (bbox count: 1)\n",
      "[INFO] Saved YOLO label: .\\train\\labels\\204_102_20_4fadff47-7253-4ec9-9a3a-a5ace4efd48e.txt (bbox count: 1)\n",
      "[INFO] Saved YOLO label: .\\train\\labels\\205_101_20_f9a48ae3-af87-4ca3-99d3-98ee4b78b154.txt (bbox count: 1)\n",
      "[INFO] Saved YOLO label: .\\train\\labels\\209_102_20_97679982-de21-4592-b503-d0e51403c661.txt (bbox count: 1)\n",
      "[INFO] Saved YOLO label: .\\train\\labels\\204_101_20_6f9de552-6543-4450-b07d-b2b17defa07a.txt (bbox count: 1)\n",
      "[INFO] Saved YOLO label: .\\train\\labels\\209_102_20_f0b1bad2-7b72-48bf-b305-4d30c8ce256a.txt (bbox count: 1)\n",
      "[INFO] Saved YOLO label: .\\train\\labels\\209_102_20_09fb7d9d-10de-4789-9bf1-8d88100986f0.txt (bbox count: 1)\n",
      "[INFO] Saved YOLO label: .\\train\\labels\\207_212_20_81738531-b427-46b8-ab31-7367eaadf855.txt (bbox count: 1)\n",
      "[INFO] Saved YOLO label: .\\train\\labels\\205_101_20_3d498afd-97f8-44de-b062-0f8b16fc9d85.txt (bbox count: 1)\n",
      "[INFO] Saved YOLO label: .\\train\\labels\\205_101_20_59924ee2-aad9-4197-abf5-5199919f97a0.txt (bbox count: 1)\n",
      "[INFO] Saved YOLO label: .\\train\\labels\\204_101_20_85659138-1408-4938-8304-6a69c47eb7ce.txt (bbox count: 1)\n",
      "[INFO] Saved YOLO label: .\\train\\labels\\209_102_20_9ca4bfec-0463-4554-a0b0-c27e34da176f.txt (bbox count: 1)\n",
      "[INFO] Saved YOLO label: .\\train\\labels\\205_101_20_2d997edd-b11d-44e2-b6ab-f5535e40331e.txt (bbox count: 1)\n",
      "[INFO] Saved YOLO label: .\\train\\labels\\209_102_20_8a0371b1-8bc3-4fc3-8213-dd2e40d38c05.txt (bbox count: 1)\n",
      "[INFO] Saved YOLO label: .\\train\\labels\\205_101_20_f085171b-ed13-45ea-bed8-bc7a6c3a96bb.txt (bbox count: 2)\n",
      "[INFO] Saved YOLO label: .\\train\\labels\\205_101_20_70036b4c-edc3-458c-8718-564f1b36a090.txt (bbox count: 2)\n",
      "[INFO] Saved YOLO label: .\\train\\labels\\204_102_20_bb8d8cd9-7c7b-47a2-906d-d278c02e72b5.txt (bbox count: 1)\n",
      "[INFO] Saved YOLO label: .\\train\\labels\\204_101_20_843e72af-bee9-404e-834f-3b94c4d3f19a.txt (bbox count: 1)\n",
      "[INFO] Saved YOLO label: .\\train\\labels\\204_101_20_40f854b3-1e16-4eda-870e-7ff34f5f54d9.txt (bbox count: 1)\n",
      "[INFO] Saved YOLO label: .\\train\\labels\\205_101_20_f8aa5628-9edc-427e-93c3-520f3aa5d298.txt (bbox count: 1)\n",
      "[INFO] Saved YOLO label: .\\train\\labels\\205_101_20_ec15c34f-bf6a-4818-9aa4-a9945d7421dd.txt (bbox count: 2)\n",
      "[INFO] Saved YOLO label: .\\train\\labels\\205_101_20_373d73cd-0136-4471-b476-caa839d2ec86.txt (bbox count: 1)\n",
      "[INFO] Saved YOLO label: .\\train\\labels\\204_101_20_548864b0-30e4-4e7c-8a67-922549e5d51e.txt (bbox count: 2)\n",
      "[INFO] Saved YOLO label: .\\train\\labels\\204_102_20_e1dfc0ed-e28a-4e71-9c97-afd6126ea269.txt (bbox count: 1)\n",
      "[INFO] Saved YOLO label: .\\train\\labels\\204_102_20_ad35fbdd-3501-4359-8d33-517a7f742519.txt (bbox count: 1)\n",
      "[INFO] Saved YOLO label: .\\train\\labels\\207_204_20_ca58be5f-47cc-44cd-bb39-776247af396d.txt (bbox count: 1)\n",
      "[INFO] Saved YOLO label: .\\train\\labels\\207_204_20_da036929-ce9a-48d2-8ff9-93b7a5b412e5.txt (bbox count: 1)\n",
      "[INFO] Saved YOLO label: .\\train\\labels\\205_101_20_d9ba7385-ade1-4c34-9b5c-a499a16c5b70.txt (bbox count: 4)\n",
      "[INFO] Saved YOLO label: .\\train\\labels\\204_101_20_cf7034c6-d727-48f7-b74b-4a05a39c05b2.txt (bbox count: 1)\n",
      "[INFO] Saved YOLO label: .\\train\\labels\\209_102_20_5aa07072-20e4-4267-96be-7965187cf8d8.txt (bbox count: 1)\n",
      "[INFO] Saved YOLO label: .\\train\\labels\\204_101_20_58625c6c-1055-4c30-8047-78e876382869.txt (bbox count: 1)\n",
      "[INFO] Saved YOLO label: .\\train\\labels\\209_102_20_129e877d-1310-406e-b5c0-309296e29b4f.txt (bbox count: 1)\n",
      "[INFO] Saved YOLO label: .\\train\\labels\\205_101_20_716160f5-a777-4bc0-9829-b007db9308e0.txt (bbox count: 1)\n",
      "[INFO] Saved YOLO label: .\\train\\labels\\209_102_20_395c03a4-9d36-409e-b6e8-2fa22ae381e0.txt (bbox count: 1)\n",
      "[INFO] Saved YOLO label: .\\train\\labels\\204_102_20_ad81e380-cb7b-4d38-80a0-79435fb2cc8a.txt (bbox count: 1)\n",
      "[INFO] Saved YOLO label: .\\train\\labels\\205_101_20_ac334092-136d-48ad-a002-498a299674a0.txt (bbox count: 1)\n",
      "[INFO] Saved YOLO label: .\\train\\labels\\209_102_20_6ab00f19-bc9b-424d-aa5e-b5b9057d45ff.txt (bbox count: 1)\n",
      "[INFO] Saved YOLO label: .\\train\\labels\\207_212_20_01cee918-f107-4e51-a6ac-13ee5bfedd09.txt (bbox count: 1)\n",
      "[INFO] Saved YOLO label: .\\train\\labels\\205_101_20_fd2ebfe0-3446-471b-866f-3ea1aeee91c4.txt (bbox count: 1)\n",
      "[INFO] Saved YOLO label: .\\train\\labels\\207_204_20_72607e77-5bf8-4142-80c4-2e4a28804b3d.txt (bbox count: 1)\n",
      "[INFO] Saved YOLO label: .\\train\\labels\\204_101_20_1c65599f-3bc1-4297-9179-fc6f5fb8c0ea.txt (bbox count: 3)\n",
      "[INFO] Saved YOLO label: .\\train\\labels\\204_101_20_f13791c9-1673-4de5-9740-b0d2fcd379d8.txt (bbox count: 2)\n",
      "[INFO] Saved YOLO label: .\\train\\labels\\207_102_20_1ed3b7ab-81ed-4760-bd6c-4c796482ea4a.txt (bbox count: 1)\n",
      "[INFO] Saved YOLO label: .\\train\\labels\\204_101_20_de99e21c-8c48-4fb1-95ca-0e03472342e2.txt (bbox count: 4)\n",
      "[INFO] Saved YOLO label: .\\train\\labels\\205_101_20_26cbe1eb-5aec-4ba2-a1d2-9e87c8e1ef2c.txt (bbox count: 3)\n",
      "[INFO] Saved YOLO label: .\\train\\labels\\207_212_20_a8d03ffb-db2f-4d7d-855a-859c41c3bd31.txt (bbox count: 1)\n",
      "[INFO] Saved YOLO label: .\\train\\labels\\204_101_20_83cf806a-bb2a-4f3d-8703-b1aac489e3ad.txt (bbox count: 5)\n",
      "[INFO] Saved YOLO label: .\\train\\labels\\204_101_20_f291e63c-b59a-4e2b-90b0-cb1576083628.txt (bbox count: 3)\n",
      "[INFO] Saved YOLO label: .\\train\\labels\\209_102_20_62899bda-a861-4225-b592-75272d5f5d41.txt (bbox count: 1)\n",
      "[INFO] Saved YOLO label: .\\train\\labels\\209_102_20_d802441f-e235-4edd-acef-0c673f1f232e.txt (bbox count: 1)\n",
      "[INFO] Saved YOLO label: .\\train\\labels\\205_101_20_529e81c5-176b-47e5-8566-71afdae0dacd.txt (bbox count: 2)\n",
      "[INFO] Saved YOLO label: .\\train\\labels\\207_204_20_944533f4-86aa-42dc-8897-55c214f45f0f.txt (bbox count: 1)\n",
      "[INFO] Saved YOLO label: .\\train\\labels\\209_102_20_eddc907d-efa8-452e-bf86-e60e373e0342.txt (bbox count: 1)\n",
      "[INFO] Saved YOLO label: .\\train\\labels\\205_101_20_88e88695-5e8e-40ca-99fc-684fe2aa6ed3.txt (bbox count: 2)\n",
      "[INFO] Saved YOLO label: .\\train\\labels\\207_204_20_59bd4079-cf8d-4061-8b77-902af6f214f6.txt (bbox count: 1)\n",
      "[INFO] Saved YOLO label: .\\train\\labels\\207_213_20_f00fb774-6b13-4992-9bea-0afb99becc1f.txt (bbox count: 1)\n",
      "[INFO] Saved YOLO label: .\\train\\labels\\207_213_20_15df868b-1ab5-4f61-9d51-5092dbacb74d.txt (bbox count: 1)\n",
      "[INFO] Saved YOLO label: .\\train\\labels\\207_102_20_3da70a39-f349-44e9-86f6-25787e7fe854.txt (bbox count: 1)\n",
      "[INFO] Saved YOLO label: .\\train\\labels\\204_102_20_7af765d1-dcfa-4404-91cd-76067266b181.txt (bbox count: 1)\n",
      "[INFO] Saved YOLO label: .\\train\\labels\\209_102_20_55b406f4-f360-4b2c-94f8-8bde52391e6a.txt (bbox count: 1)\n",
      "[INFO] Saved YOLO label: .\\train\\labels\\205_101_20_fa056f09-e8df-4228-89c1-e145137b50ae.txt (bbox count: 2)\n",
      "[INFO] Saved YOLO label: .\\train\\labels\\207_102_20_f25ea522-fc01-4926-a83e-a03b57802eb5.txt (bbox count: 1)\n",
      "[INFO] Saved YOLO label: .\\train\\labels\\207_102_20_ae90af43-0df2-4195-a6c7-623a4cfac910.txt (bbox count: 1)\n",
      "[INFO] Saved YOLO label: .\\train\\labels\\205_101_20_0ad1be6b-06d6-4a47-bd0b-e3bb89d5a79c.txt (bbox count: 1)\n",
      "[INFO] Saved YOLO label: .\\train\\labels\\204_101_20_a8f6510b-18bb-44c0-9a4b-1ec75d6df581.txt (bbox count: 1)\n",
      "[INFO] Saved YOLO label: .\\train\\labels\\204_101_20_47dc1289-80f1-4b21-a2db-dc3a1c598210.txt (bbox count: 3)\n",
      "[INFO] Saved YOLO label: .\\train\\labels\\209_102_20_63fc45b0-f77b-4394-8072-0100343a1f0d.txt (bbox count: 1)\n",
      "[INFO] Saved YOLO label: .\\train\\labels\\207_212_20_907342e6-001c-4d7b-bca4-7d23499734f3.txt (bbox count: 1)\n",
      "[INFO] Saved YOLO label: .\\train\\labels\\207_212_20_d572edbe-b850-40f3-90d0-d69ec12f0da9.txt (bbox count: 1)\n",
      "[INFO] Saved YOLO label: .\\train\\labels\\204_102_20_885fc20e-388e-42fe-a11c-e48778594ddf.txt (bbox count: 1)\n",
      "[INFO] Saved YOLO label: .\\train\\labels\\205_101_20_6f7485d3-bece-4bf6-9ab6-457213096d75.txt (bbox count: 2)\n",
      "[INFO] Saved YOLO label: .\\train\\labels\\209_102_20_0b4840b9-4535-4875-8178-a1f9fef3fa16.txt (bbox count: 1)\n",
      "[INFO] Saved YOLO label: .\\train\\labels\\209_102_20_1dd29f73-0c98-4ef8-8e67-3bd614617846.txt (bbox count: 1)\n",
      "[INFO] Saved YOLO label: .\\train\\labels\\207_212_20_2a63d854-34fb-4cbe-bb48-6d6021b6a537.txt (bbox count: 1)\n",
      "[INFO] Saved YOLO label: .\\train\\labels\\204_101_20_a4c0fd08-2e5b-4966-a4c4-2f14372a9763.txt (bbox count: 1)\n",
      "[INFO] Saved YOLO label: .\\train\\labels\\205_101_20_79dede96-8e69-4c32-8663-95094ae187fb.txt (bbox count: 2)\n",
      "[INFO] Saved YOLO label: .\\train\\labels\\207_204_20_fbc1c08a-595b-4f67-8e2b-9711a13a75a7.txt (bbox count: 1)\n",
      "[INFO] Saved YOLO label: .\\train\\labels\\207_213_20_29674f5c-acb6-4425-a36d-19b28dca364b.txt (bbox count: 1)\n",
      "[INFO] Saved YOLO label: .\\train\\labels\\205_101_20_845a32f2-f5d8-4f1e-8195-40eea1a39c0e.txt (bbox count: 1)\n",
      "[INFO] Saved YOLO label: .\\train\\labels\\207_212_20_53e9a32f-8e98-40df-81b2-d19775d66b8a.txt (bbox count: 1)\n",
      "[INFO] Saved YOLO label: .\\train\\labels\\205_101_20_fba2c485-8da2-4267-9ec0-386967a90a9a.txt (bbox count: 1)\n",
      "[INFO] Saved YOLO label: .\\train\\labels\\209_102_20_e47f306a-f84a-43a9-89b1-50e32ad0ce6d.txt (bbox count: 1)\n",
      "[INFO] Saved YOLO label: .\\train\\labels\\204_101_20_0cf86505-63df-457b-9bde-7cdc11a021d5.txt (bbox count: 4)\n",
      "[INFO] Saved YOLO label: .\\train\\labels\\209_102_20_c5b8b1f0-966a-4f5e-87a2-922e46e0d6ae.txt (bbox count: 1)\n",
      "[INFO] Saved YOLO label: .\\train\\labels\\209_102_20_11d84c9b-1dc4-488a-be2a-58d89230f6f0.txt (bbox count: 1)\n",
      "[INFO] Saved YOLO label: .\\train\\labels\\205_101_20_acd07672-e110-40eb-bee0-452c9929bc65.txt (bbox count: 2)\n",
      "[INFO] Saved YOLO label: .\\train\\labels\\209_102_20_2e16b5e3-88ac-4d97-9b08-0e65f2b22217.txt (bbox count: 1)\n",
      "[INFO] Saved YOLO label: .\\train\\labels\\204_101_20_ea6651aa-71bc-43a0-b6dd-69d371c6d29c.txt (bbox count: 2)\n",
      "[INFO] Saved YOLO label: .\\train\\labels\\207_212_20_dc8608c9-6c57-47b2-a6a6-6498758ea06a.txt (bbox count: 1)\n",
      "[INFO] Saved YOLO label: .\\train\\labels\\205_101_20_b4696f4a-35f6-4ad6-9a92-835490d00bda.txt (bbox count: 1)\n",
      "[INFO] Saved YOLO label: .\\train\\labels\\205_101_20_f839f8cb-8bfe-4925-aca7-2c3c8bec7e24.txt (bbox count: 1)\n",
      "[INFO] Saved YOLO label: .\\train\\labels\\207_212_20_5b23eeda-b118-4204-aa1f-6d3fdbcf4c09.txt (bbox count: 1)\n",
      "[INFO] Saved YOLO label: .\\train\\labels\\205_101_20_162890ea-6472-40e4-8490-60415a990831.txt (bbox count: 3)\n",
      "[INFO] Saved YOLO label: .\\train\\labels\\209_102_20_277ff32e-1727-4af4-87ec-6edabbef7b80.txt (bbox count: 1)\n",
      "[INFO] Saved YOLO label: .\\train\\labels\\209_102_20_c24153a1-3f42-43d4-97bd-b71f9e630e24.txt (bbox count: 1)\n",
      "[INFO] Saved YOLO label: .\\train\\labels\\205_101_20_64d25251-b07e-4bcb-a319-a0caf5516e94.txt (bbox count: 1)\n",
      "[INFO] Saved YOLO label: .\\train\\labels\\207_204_20_6491bedf-1f42-43ce-bbcd-ccb2af5f0482.txt (bbox count: 1)\n",
      "[INFO] Saved YOLO label: .\\train\\labels\\205_101_20_db868cb4-c546-4281-9622-0b5c9e42252e.txt (bbox count: 3)\n",
      "[INFO] Saved YOLO label: .\\train\\labels\\207_213_20_618d6ec3-7c0f-48c8-adff-8975ac81ca8e.txt (bbox count: 1)\n",
      "[INFO] Saved YOLO label: .\\train\\labels\\204_102_20_07c73576-3062-44ff-99a6-0532115359d2.txt (bbox count: 1)\n",
      "[INFO] Saved YOLO label: .\\train\\labels\\205_101_20_a2f15d84-cdbf-4668-bc16-a1b22d156c5d.txt (bbox count: 2)\n",
      "[INFO] Saved YOLO label: .\\train\\labels\\204_102_20_99a7c239-c906-4995-a81c-9caf182da5bf.txt (bbox count: 1)\n",
      "[INFO] Saved YOLO label: .\\train\\labels\\205_101_20_09e8e3a2-a976-49dc-be05-243bd1dd8f67.txt (bbox count: 1)\n",
      "[INFO] Saved YOLO label: .\\train\\labels\\209_102_20_e52c5094-2a77-4aa6-a1ee-e02e4ac9ce78.txt (bbox count: 1)\n",
      "[INFO] Saved YOLO label: .\\train\\labels\\209_102_20_d1b7e6f1-6559-46ff-80de-72c28b2562a2.txt (bbox count: 1)\n",
      "[INFO] Saved YOLO label: .\\train\\labels\\207_213_20_d5fd8884-e3d5-4e6f-8fba-15f9647400b2.txt (bbox count: 1)\n",
      "[INFO] Saved YOLO label: .\\train\\labels\\204_102_20_3333e5a1-7ccc-49aa-abb4-0193d8bdcbc9.txt (bbox count: 1)\n",
      "[INFO] Saved YOLO label: .\\train\\labels\\205_101_20_3839cf57-4b8f-470d-b473-112e4e7a8daa.txt (bbox count: 1)\n",
      "[INFO] Saved YOLO label: .\\train\\labels\\209_102_20_e12168d9-939c-4ce1-b952-716564b49dab.txt (bbox count: 1)\n",
      "[INFO] Saved YOLO label: .\\train\\labels\\205_101_20_8dc86e91-730d-40aa-9092-5f192ad78815.txt (bbox count: 1)\n",
      "[INFO] Saved YOLO label: .\\train\\labels\\205_101_20_f236b852-4e82-4388-ad3f-fbdde791e7ac.txt (bbox count: 2)\n",
      "[INFO] Saved YOLO label: .\\train\\labels\\204_102_20_3eceaeec-5352-4dc3-b06a-2317fd3d9fe0.txt (bbox count: 1)\n",
      "[INFO] Saved YOLO label: .\\train\\labels\\209_102_20_b40fd0d7-83bc-460d-83a4-7c899de6682e.txt (bbox count: 1)\n",
      "[INFO] Saved YOLO label: .\\train\\labels\\209_102_20_7ea9eae9-b7ee-4e0a-aa74-072e5aa919a9.txt (bbox count: 1)\n",
      "[INFO] Saved YOLO label: .\\train\\labels\\209_102_20_68172511-7b1f-467b-b7a3-f4bc53171630.txt (bbox count: 1)\n",
      "[INFO] Saved YOLO label: .\\train\\labels\\207_213_20_4102fa64-f793-43a4-b949-77ed9e0f01b9.txt (bbox count: 1)\n",
      "[INFO] Saved YOLO label: .\\train\\labels\\207_212_20_bc493a21-9f5f-4330-85c4-8becc87f2ea6.txt (bbox count: 1)\n",
      "[INFO] Saved YOLO label: .\\train\\labels\\205_101_20_7958a516-3192-4f03-a53e-6d184f9da540.txt (bbox count: 3)\n",
      "[INFO] Saved YOLO label: .\\train\\labels\\209_102_20_9ce038b1-079b-43a6-9763-cd36c8133f82.txt (bbox count: 1)\n",
      "[INFO] Saved YOLO label: .\\train\\labels\\204_101_20_5c3f470a-6216-4985-abfc-f7d351b876ee.txt (bbox count: 1)\n",
      "[INFO] Saved YOLO label: .\\train\\labels\\204_101_20_67eb6f36-c26e-4a6c-b149-679d80a70a9c.txt (bbox count: 2)\n",
      "[INFO] Saved YOLO label: .\\train\\labels\\207_102_20_5c4aa637-cf3a-4277-8a2d-b48ff94e7405.txt (bbox count: 1)\n",
      "[INFO] Saved YOLO label: .\\train\\labels\\209_102_20_eddc85a0-df84-4c4e-877e-30b0381e0974.txt (bbox count: 1)\n",
      "[INFO] Saved YOLO label: .\\train\\labels\\207_212_20_32f7730b-e39c-4602-831f-94c27e6183d0.txt (bbox count: 1)\n",
      "[INFO] Saved YOLO label: .\\train\\labels\\205_101_20_c3aaefff-931d-41d6-a413-f5dcdfb3151f.txt (bbox count: 1)\n",
      "[INFO] Saved YOLO label: .\\train\\labels\\207_204_20_54ab80f0-da92-463e-b775-1bdeef5e1fa1.txt (bbox count: 1)\n",
      "[INFO] Saved YOLO label: .\\train\\labels\\207_204_20_d2efd180-4ac7-432a-8d1d-1d5aa60c6bba.txt (bbox count: 1)\n",
      "[INFO] Saved YOLO label: .\\train\\labels\\205_101_20_996f6b1d-4859-4246-b0f7-3be5a521e28a.txt (bbox count: 2)\n",
      "[INFO] Saved YOLO label: .\\train\\labels\\205_101_20_152c1750-fdc5-4138-a323-f879be8de39e.txt (bbox count: 1)\n",
      "[INFO] Saved YOLO label: .\\train\\labels\\209_102_20_60b40873-13a3-4cd9-8b76-5526e50a2483.txt (bbox count: 1)\n",
      "[INFO] Saved YOLO label: .\\train\\labels\\207_212_20_0a7c77b6-46d6-409f-8d46-a0647b5770d5.txt (bbox count: 1)\n",
      "[INFO] Saved YOLO label: .\\train\\labels\\207_102_20_b9572cba-a987-47c9-a203-ea227677cc43.txt (bbox count: 1)\n",
      "[INFO] Saved YOLO label: .\\train\\labels\\207_102_20_a9274f9c-ce66-497c-88a2-3621af1d9786.txt (bbox count: 1)\n",
      "[INFO] Saved YOLO label: .\\train\\labels\\209_102_20_36eb24d1-8b83-4ecc-bb2a-fbc6ac7cca6f.txt (bbox count: 1)\n",
      "[INFO] Saved YOLO label: .\\train\\labels\\205_101_20_daf42349-88f2-4196-92a5-b85187d8aab2.txt (bbox count: 2)\n",
      "[INFO] Saved YOLO label: .\\train\\labels\\204_101_20_b0657208-5a2d-48ce-9a74-f00e90b366f4.txt (bbox count: 2)\n",
      "[INFO] Saved YOLO label: .\\train\\labels\\209_102_20_f2981d08-670b-40a9-8e5f-f3677997488d.txt (bbox count: 1)\n",
      "[INFO] Saved YOLO label: .\\train\\labels\\205_101_20_ccca8b22-255d-40a9-9511-7ed5cd00a54c.txt (bbox count: 2)\n",
      "[INFO] Saved YOLO label: .\\train\\labels\\205_101_20_1bc3e6dd-286e-4737-aeb9-28bb33bd5075.txt (bbox count: 2)\n",
      "[INFO] Saved YOLO label: .\\train\\labels\\204_102_20_fd27fdaa-2a87-4950-987b-0a4a18040619.txt (bbox count: 1)\n",
      "[INFO] Saved YOLO label: .\\train\\labels\\204_101_20_febbbe55-4b16-4988-ab97-4054b49a365d.txt (bbox count: 1)\n",
      "[INFO] Saved YOLO label: .\\train\\labels\\207_212_20_441d897a-2a18-4dec-911c-742e55bc5a83.txt (bbox count: 1)\n",
      "[INFO] Saved YOLO label: .\\train\\labels\\207_212_20_f91ac717-5ff3-47aa-8e9d-eead1d7decd2.txt (bbox count: 1)\n",
      "[INFO] Saved YOLO label: .\\train\\labels\\205_101_20_c563bcb8-d2bc-4fc9-881d-a6c0dc38c42e.txt (bbox count: 1)\n",
      "[INFO] Saved YOLO label: .\\train\\labels\\207_102_20_44c1f639-5b6b-4c27-9883-9240e0bd4cf0.txt (bbox count: 1)\n",
      "[INFO] Saved YOLO label: .\\train\\labels\\209_102_20_04b4a584-90c6-41db-8d4c-c69b104540d6.txt (bbox count: 1)\n",
      "[INFO] Saved YOLO label: .\\train\\labels\\207_212_20_63bfff7d-4606-4a76-8d50-6b05b26300cf.txt (bbox count: 1)\n",
      "[INFO] Saved YOLO label: .\\train\\labels\\204_102_20_84117b0b-1282-4c5d-9c46-7ea2fbb97210.txt (bbox count: 1)\n",
      "[INFO] Saved YOLO label: .\\train\\labels\\204_101_20_2d4c945c-5457-4528-a0aa-70f4bf2db5d5.txt (bbox count: 1)\n",
      "[INFO] Saved YOLO label: .\\train\\labels\\209_102_20_0e4517e7-d666-4879-b850-7ded04081100.txt (bbox count: 1)\n",
      "[INFO] Saved YOLO label: .\\train\\labels\\209_102_20_4ea5686d-f161-4fa2-83a5-cca7a5f752e2.txt (bbox count: 1)\n",
      "[INFO] Saved YOLO label: .\\train\\labels\\209_102_20_f4733e07-07bf-4ce0-80d9-5c22ad808ed2.txt (bbox count: 1)\n",
      "[INFO] Saved YOLO label: .\\train\\labels\\205_101_20_843b9d03-4bee-44a0-928d-8af2f103c499.txt (bbox count: 3)\n",
      "[INFO] Saved YOLO label: .\\train\\labels\\205_101_20_865cbd76-ce04-4961-9503-c755a75cc6d0.txt (bbox count: 2)\n",
      "[INFO] Saved YOLO label: .\\train\\labels\\209_102_20_886d3bd1-3dc6-4de7-a599-4279934624b0.txt (bbox count: 1)\n",
      "[INFO] Saved YOLO label: .\\train\\labels\\207_212_20_d3cd926b-e3d3-482e-85bb-7fcf05760345.txt (bbox count: 1)\n",
      "[INFO] Saved YOLO label: .\\train\\labels\\207_213_20_6d357eed-1d6a-440c-a176-41b2982af851.txt (bbox count: 1)\n",
      "[INFO] Saved YOLO label: .\\train\\labels\\205_101_20_edcf1a13-d753-4e44-8c37-0ae5c3cf7748.txt (bbox count: 1)\n",
      "[INFO] Saved YOLO label: .\\train\\labels\\205_101_20_31dfeb96-3224-4b7e-a1eb-ff98a053dc37.txt (bbox count: 1)\n",
      "[INFO] Saved YOLO label: .\\train\\labels\\209_102_20_2928b697-7d0f-4052-914a-00e21a04de2f.txt (bbox count: 1)\n",
      "[INFO] Saved YOLO label: .\\train\\labels\\204_101_20_5df5bdbf-d1f1-4ff8-9e7d-23776cd111a2.txt (bbox count: 2)\n",
      "[INFO] Saved YOLO label: .\\train\\labels\\204_101_20_6dd075bd-1fbe-4236-8653-57d36b744c00.txt (bbox count: 1)\n",
      "[INFO] Saved YOLO label: .\\train\\labels\\207_204_20_000733ee-de1c-4483-a8fd-9c1afe985a38.txt (bbox count: 1)\n",
      "[INFO] Saved YOLO label: .\\train\\labels\\204_101_20_a530b291-61fb-4183-b377-070cd23aa01f.txt (bbox count: 2)\n",
      "[INFO] Saved YOLO label: .\\train\\labels\\205_101_20_e798323e-6424-484e-80a5-929aca0dfb77.txt (bbox count: 2)\n",
      "[INFO] Saved YOLO label: .\\train\\labels\\207_204_20_9e64248a-8a59-47a4-993c-127be54fbbd4.txt (bbox count: 1)\n",
      "[INFO] Saved YOLO label: .\\train\\labels\\209_102_20_34a7279f-9f87-4e94-981e-9b48120ef2f2.txt (bbox count: 1)\n",
      "[INFO] Saved YOLO label: .\\train\\labels\\207_102_20_4aa160a7-76e6-4a7b-a9a5-ff18e971e452.txt (bbox count: 1)\n",
      "[INFO] Saved YOLO label: .\\train\\labels\\204_101_20_c80a1d1a-b68f-4788-bc4c-ef1324bf1439.txt (bbox count: 1)\n",
      "[INFO] Saved YOLO label: .\\train\\labels\\205_101_20_c060ff17-4676-4301-b6dd-4857d1f9e96c.txt (bbox count: 1)\n",
      "[INFO] Saved YOLO label: .\\train\\labels\\207_204_20_bd79b275-130d-40aa-a489-95d1df2aaa96.txt (bbox count: 1)\n",
      "[INFO] Saved YOLO label: .\\train\\labels\\209_102_20_fc9b7090-7e5e-479d-9166-9a31a7f30284.txt (bbox count: 1)\n",
      "[INFO] Saved YOLO label: .\\train\\labels\\209_102_20_f7e3390d-db5b-4faa-a57f-7764426151d6.txt (bbox count: 1)\n",
      "[INFO] Saved YOLO label: .\\train\\labels\\207_212_20_e096fbcf-153f-4550-8b7a-4feede6b3ee0.txt (bbox count: 1)\n",
      "[INFO] Saved YOLO label: .\\train\\labels\\207_102_20_b5d7da1a-7e3e-4868-bdf8-616481feb096.txt (bbox count: 1)\n",
      "[INFO] Saved YOLO label: .\\train\\labels\\205_101_20_f7383b06-10bb-42c2-9408-9a2efb0da235.txt (bbox count: 2)\n",
      "[INFO] Saved YOLO label: .\\train\\labels\\205_101_20_8cd76f7f-606c-4dc4-9b97-7d9b02d72084.txt (bbox count: 2)\n",
      "[INFO] Saved YOLO label: .\\train\\labels\\205_101_20_c2ad43f8-2a64-4bd5-8899-bb3d944b7bf1.txt (bbox count: 1)\n",
      "[INFO] Saved YOLO label: .\\train\\labels\\207_204_20_ef21f057-5c64-44a4-a961-b92da367e1cc.txt (bbox count: 1)\n",
      "[INFO] Saved YOLO label: .\\train\\labels\\204_102_20_a521011f-0630-4ebc-b86d-aa140b77ffae.txt (bbox count: 1)\n",
      "[INFO] Saved YOLO label: .\\train\\labels\\209_102_20_95097130-caa8-4c72-97a4-a36faeca8872.txt (bbox count: 1)\n",
      "[INFO] Saved YOLO label: .\\train\\labels\\204_101_20_cb38bfcb-31c8-4e6d-9c38-81004b887eae.txt (bbox count: 1)\n",
      "[INFO] Saved YOLO label: .\\train\\labels\\204_101_20_f12c252a-8851-4f5b-91b9-60bd57778b33.txt (bbox count: 3)\n",
      "[INFO] Saved YOLO label: .\\train\\labels\\207_204_20_02572284-e1b4-4cf8-8e77-4d599cb86968.txt (bbox count: 1)\n",
      "[INFO] Saved YOLO label: .\\train\\labels\\205_101_20_131ef0b9-36ec-493e-bae4-b95c3f2d5f4f.txt (bbox count: 4)\n",
      "[INFO] Saved YOLO label: .\\train\\labels\\204_101_20_624d5300-29d5-4683-873f-06348c049ef0.txt (bbox count: 1)\n",
      "[INFO] Saved YOLO label: .\\train\\labels\\207_213_20_daad2f4f-d08b-41a8-a8ec-f0a5025ce128.txt (bbox count: 1)\n",
      "[INFO] Saved YOLO label: .\\train\\labels\\209_102_20_f76cf9fd-c7e8-4d92-a251-5b02322f35d6.txt (bbox count: 1)\n",
      "[INFO] Saved YOLO label: .\\train\\labels\\209_102_20_9d91a80b-1e23-4522-8182-d67e93d81545.txt (bbox count: 1)\n",
      "[INFO] Saved YOLO label: .\\train\\labels\\205_101_20_9dad8ca4-162e-4c57-85d0-42599d0e68ab.txt (bbox count: 1)\n",
      "[INFO] Saved YOLO label: .\\train\\labels\\207_213_20_00f18c64-6177-4aac-ae68-811204476c71.txt (bbox count: 1)\n",
      "[INFO] Saved YOLO label: .\\train\\labels\\207_213_20_7b2ccd39-8061-480a-b76f-b5346979073f.txt (bbox count: 1)\n",
      "[INFO] Saved YOLO label: .\\train\\labels\\209_102_20_12bd1875-a7e2-4c27-a147-8a8cd99a71a9.txt (bbox count: 1)\n",
      "[INFO] Saved YOLO label: .\\train\\labels\\207_212_20_8cb98de9-f23b-4450-a449-4f2019070595.txt (bbox count: 1)\n",
      "[INFO] Saved YOLO label: .\\train\\labels\\205_101_20_5b13fa34-9f7d-414d-9dd6-612f477f1b44.txt (bbox count: 1)\n",
      "[INFO] Saved YOLO label: .\\train\\labels\\209_102_20_19aeac1f-1190-402e-bdc9-ecf5f7f87c64.txt (bbox count: 1)\n",
      "[INFO] Saved YOLO label: .\\train\\labels\\204_101_20_93a3da09-67bc-409a-914e-5626e14860c6.txt (bbox count: 2)\n",
      "[INFO] Saved YOLO label: .\\train\\labels\\209_102_20_ee982067-6609-4f9e-a0ab-58007c37b7ad.txt (bbox count: 1)\n",
      "[INFO] Saved YOLO label: .\\train\\labels\\204_102_20_2a96cb94-0de7-48fd-9d85-5414d83f6e84.txt (bbox count: 1)\n",
      "[INFO] Saved YOLO label: .\\train\\labels\\205_101_20_8cf65690-223a-47d6-9af5-2cb895897532.txt (bbox count: 1)\n",
      "[INFO] Saved YOLO label: .\\train\\labels\\209_102_20_6a6ed752-ef97-4a5c-9b21-5db1ca55f67d.txt (bbox count: 1)\n",
      "[INFO] Saved YOLO label: .\\train\\labels\\205_101_20_9da388e0-09c3-4975-8b9a-16bfa9320bb5.txt (bbox count: 1)\n",
      "[INFO] Saved YOLO label: .\\train\\labels\\207_213_20_3094da98-15c5-4580-8e67-3ffb88cc002f.txt (bbox count: 1)\n",
      "[INFO] Saved YOLO label: .\\train\\labels\\207_102_20_a7049d4e-57b9-46a9-bea2-28a2b0a0f519.txt (bbox count: 1)\n",
      "[INFO] Saved YOLO label: .\\train\\labels\\205_101_20_292850e5-2e05-4a61-922b-e8532fa79e28.txt (bbox count: 3)\n",
      "[INFO] Saved YOLO label: .\\train\\labels\\205_101_20_014a5e33-ff16-48fa-931f-bcb525e26031.txt (bbox count: 1)\n",
      "[INFO] Saved YOLO label: .\\train\\labels\\209_102_20_e0966333-fa2c-4024-8163-454e739b105c.txt (bbox count: 1)\n",
      "[INFO] Saved YOLO label: .\\train\\labels\\204_101_20_82ee3efc-aa38-4f6e-950f-c95951ad454a.txt (bbox count: 1)\n",
      "[INFO] Saved YOLO label: .\\train\\labels\\204_101_20_0f8ef468-cc8d-4330-a62a-03e1bd7659b2.txt (bbox count: 3)\n",
      "[INFO] Saved YOLO label: .\\train\\labels\\207_212_20_dc261a1c-417d-4404-93e1-18a09397b503.txt (bbox count: 1)\n",
      "[INFO] Saved YOLO label: .\\train\\labels\\204_101_20_9d6b4cd8-cdf2-4df9-87b2-e224efcc0148.txt (bbox count: 1)\n",
      "[INFO] Saved YOLO label: .\\train\\labels\\207_213_20_1472d7ad-dcdb-426e-8693-951f9952bf44.txt (bbox count: 1)\n",
      "[INFO] Saved YOLO label: .\\train\\labels\\207_204_20_09d72378-d682-4881-bbaf-9fb709ec5690.txt (bbox count: 1)\n",
      "[INFO] Saved YOLO label: .\\train\\labels\\204_102_20_8c55dbef-7e97-4e66-8a2c-69ae40f23734.txt (bbox count: 1)\n",
      "[INFO] Saved YOLO label: .\\train\\labels\\205_101_20_e26e0def-7058-4933-935b-0b681adea9b0.txt (bbox count: 1)\n",
      "[INFO] Saved YOLO label: .\\train\\labels\\207_212_20_6a95d860-be29-4937-a4fd-af7e34afbf78.txt (bbox count: 1)\n",
      "[INFO] Saved YOLO label: .\\train\\labels\\209_102_20_2d3ff59e-0d36-4174-b849-72983d26b413.txt (bbox count: 1)\n",
      "[INFO] Saved YOLO label: .\\train\\labels\\204_102_20_79e4e759-c3ae-46b3-a427-53a6b19ba6a7.txt (bbox count: 1)\n",
      "[INFO] Saved YOLO label: .\\train\\labels\\205_101_20_c7943649-a3f9-4852-9820-4ee457aa9d83.txt (bbox count: 1)\n",
      "[INFO] Saved YOLO label: .\\train\\labels\\204_101_20_88dd7a9c-22c8-4d8e-bdb3-73428e866104.txt (bbox count: 1)\n",
      "[INFO] Saved YOLO label: .\\train\\labels\\205_101_20_307af0b6-998f-4acc-b04e-795f83feaaba.txt (bbox count: 1)\n",
      "[INFO] Saved YOLO label: .\\train\\labels\\204_101_20_bad682a3-4911-4969-b5fd-54598dfcf847.txt (bbox count: 3)\n",
      "[INFO] Saved YOLO label: .\\train\\labels\\205_101_20_43f07ea0-4a68-488f-a24f-ff55ceb1df7e.txt (bbox count: 1)\n",
      "[INFO] Saved YOLO label: .\\train\\labels\\204_101_20_47bbafef-493a-4500-bcd7-eca509044d39.txt (bbox count: 1)\n",
      "[INFO] Saved YOLO label: .\\train\\labels\\204_101_20_fabee001-37eb-4892-ad4d-32e8e531066a.txt (bbox count: 2)\n",
      "[INFO] Saved YOLO label: .\\train\\labels\\204_101_20_9dddca91-99e9-4f55-b90f-f55c88d0ee99.txt (bbox count: 3)\n",
      "[INFO] Saved YOLO label: .\\train\\labels\\204_102_20_8f86431d-eb55-40ff-b6ee-6b199b8129f8.txt (bbox count: 1)\n",
      "[INFO] Saved YOLO label: .\\train\\labels\\207_102_20_419bb7a0-c273-4179-b4c4-a63079f516c4.txt (bbox count: 1)\n",
      "[INFO] Saved YOLO label: .\\train\\labels\\209_102_20_4c9bae38-18e4-43a5-a9c5-a32ad544829a.txt (bbox count: 1)\n",
      "[INFO] Saved YOLO label: .\\train\\labels\\207_102_20_1d454865-791d-4e5a-942d-c76d6ec2b007.txt (bbox count: 1)\n",
      "[INFO] Saved YOLO label: .\\train\\labels\\205_101_20_237d38a5-589a-409d-82e3-495705c61988.txt (bbox count: 2)\n",
      "[INFO] Saved YOLO label: .\\train\\labels\\209_102_20_13c15d72-080e-47b3-b30c-78ff8331c81e.txt (bbox count: 1)\n",
      "[INFO] Saved YOLO label: .\\train\\labels\\204_101_20_98e7c167-b6e5-4a9f-9957-4f4c209d9173.txt (bbox count: 2)\n",
      "[INFO] Saved YOLO label: .\\train\\labels\\204_101_20_5ae54a38-7da7-4658-bf93-00ba8bcfcce4.txt (bbox count: 2)\n",
      "[INFO] Saved YOLO label: .\\train\\labels\\204_102_20_4cdf1295-12bb-4c08-95dc-54751a96b1d1.txt (bbox count: 1)\n",
      "[INFO] Saved YOLO label: .\\train\\labels\\209_102_20_8d2c83a9-9d0b-466e-ab06-ac70bd54b49d.txt (bbox count: 1)\n",
      "[INFO] Saved YOLO label: .\\train\\labels\\205_101_20_1fe0d862-424f-4111-975c-de0e697c78ae.txt (bbox count: 3)\n",
      "[INFO] Saved YOLO label: .\\train\\labels\\205_101_20_84cd3bc2-daa3-48cb-aba0-a01330059f66.txt (bbox count: 1)\n",
      "[INFO] Saved YOLO label: .\\train\\labels\\207_102_20_790bedb5-be63-45b8-bf21-cba83fb7a11c.txt (bbox count: 1)\n",
      "[INFO] Saved YOLO label: .\\train\\labels\\209_102_20_6b5ce549-7ec2-480e-95d2-e015bffae6b6.txt (bbox count: 1)\n",
      "[INFO] Saved YOLO label: .\\train\\labels\\209_102_20_3952258d-7ef4-4b1d-822a-692cdf790302.txt (bbox count: 1)\n",
      "[INFO] Saved YOLO label: .\\train\\labels\\204_101_20_1f680c8c-f8c7-4694-bdb8-6e71629adaf2.txt (bbox count: 1)\n",
      "[INFO] Saved YOLO label: .\\train\\labels\\209_102_20_6537a158-56d9-4ee1-bed1-298ec41b25db.txt (bbox count: 1)\n",
      "[INFO] Saved YOLO label: .\\train\\labels\\204_101_20_6fb5ba39-965b-408f-9d35-ad4814ee8c5b.txt (bbox count: 2)\n",
      "[INFO] Saved YOLO label: .\\train\\labels\\207_102_20_4c730963-e6aa-4a22-8756-f6ad154c687e.txt (bbox count: 1)\n",
      "[INFO] Saved YOLO label: .\\train\\labels\\204_101_20_eb88d519-a81d-4b4e-ab92-f57ebb9f8358.txt (bbox count: 2)\n",
      "[INFO] Saved YOLO label: .\\train\\labels\\204_101_20_4003f8be-33fc-47cb-b1d8-bbb9f6df47a8.txt (bbox count: 1)\n",
      "[INFO] Saved YOLO label: .\\train\\labels\\205_101_20_b4e4d126-6b12-45d6-89c6-915c8509cb5e.txt (bbox count: 1)\n",
      "[INFO] Saved YOLO label: .\\train\\labels\\209_102_20_ac7b10e6-2063-4567-b6e0-53e63533aab2.txt (bbox count: 1)\n",
      "[INFO] Saved YOLO label: .\\train\\labels\\207_212_20_11f94812-9964-4ec7-ac18-89adce1d33e1.txt (bbox count: 1)\n",
      "[INFO] Saved YOLO label: .\\train\\labels\\204_101_20_68e6095b-7ff2-4894-b1ab-34312ed188b5.txt (bbox count: 1)\n",
      "[INFO] Saved YOLO label: .\\train\\labels\\207_213_20_606ea199-dbdd-4891-8247-ef9942e45ede.txt (bbox count: 1)\n",
      "[INFO] Saved YOLO label: .\\train\\labels\\207_102_20_2c76c745-7c56-44c2-93db-5ef1470c38dc.txt (bbox count: 1)\n",
      "[INFO] Saved YOLO label: .\\train\\labels\\207_204_20_4809fb1f-31b1-4627-8bcb-ada2fd17b129.txt (bbox count: 1)\n",
      "[INFO] Saved YOLO label: .\\train\\labels\\204_101_20_895e4e0c-4239-4fef-b8e3-b250e2c9722d.txt (bbox count: 1)\n",
      "[INFO] Saved YOLO label: .\\train\\labels\\207_102_20_f17f4634-46dd-4981-afe2-6a9454393d1c.txt (bbox count: 1)\n",
      "[INFO] Saved YOLO label: .\\train\\labels\\204_102_20_4b7c7372-3890-47db-affb-865cb0035792.txt (bbox count: 1)\n",
      "[INFO] Saved YOLO label: .\\train\\labels\\209_102_20_22c9fdfe-4ea2-49d9-a114-10cc90ccb921.txt (bbox count: 1)\n",
      "[INFO] Saved YOLO label: .\\train\\labels\\204_102_20_70be334e-278a-403f-8c0d-17d71d85598c.txt (bbox count: 1)\n",
      "[INFO] Saved YOLO label: .\\train\\labels\\209_102_20_94f2d770-82cd-40d2-8c45-d89c921134cd.txt (bbox count: 1)\n",
      "[INFO] Saved YOLO label: .\\train\\labels\\209_102_20_eda0e37c-2371-4e61-b51c-dd7922886188.txt (bbox count: 1)\n",
      "[INFO] Saved YOLO label: .\\train\\labels\\204_102_20_6f76066c-0a38-4dd5-a11e-939ee62cc88a.txt (bbox count: 1)\n",
      "[INFO] Saved YOLO label: .\\train\\labels\\209_102_20_ce4b29c9-196b-4f69-ae02-a87c3dc1bd68.txt (bbox count: 1)\n",
      "[INFO] Saved YOLO label: .\\train\\labels\\204_101_20_bb553ac9-58b6-4acf-86e0-8533a640777a.txt (bbox count: 1)\n",
      "[INFO] Saved YOLO label: .\\train\\labels\\205_101_20_1cb1aae9-3552-44e9-822a-f89c6e424d3b.txt (bbox count: 3)\n",
      "[INFO] Saved YOLO label: .\\train\\labels\\207_213_20_b0e9b0cf-e19a-44ef-bc9e-9cb0d97a5da2.txt (bbox count: 1)\n",
      "[INFO] Saved YOLO label: .\\train\\labels\\209_102_20_fc8da8d6-a49e-4da0-ba32-1b40cc461863.txt (bbox count: 1)\n",
      "[INFO] Saved YOLO label: .\\train\\labels\\207_102_20_af9e3525-2ef6-4e55-8436-291fd8555611.txt (bbox count: 1)\n",
      "[INFO] Saved YOLO label: .\\train\\labels\\207_213_20_343a72bd-63a5-487b-8659-21615b63683f.txt (bbox count: 1)\n",
      "[INFO] Saved YOLO label: .\\train\\labels\\205_101_20_2cf382f1-642e-4766-b2e5-914f62e4fbc7.txt (bbox count: 2)\n",
      "[INFO] Saved YOLO label: .\\train\\labels\\207_102_20_3c61e0ad-1df8-43ce-8106-703ef184c7b7.txt (bbox count: 1)\n",
      "[INFO] Saved YOLO label: .\\train\\labels\\204_101_20_d1c2a521-035e-46a5-a18e-40996c0ac686.txt (bbox count: 3)\n",
      "[INFO] Saved YOLO label: .\\train\\labels\\207_204_20_2ef29802-76f6-4fea-9444-3069c4916b8e.txt (bbox count: 1)\n",
      "[INFO] Saved YOLO label: .\\train\\labels\\204_101_20_e527d451-deeb-4c2e-a36b-a7093d9796b5.txt (bbox count: 1)\n",
      "[INFO] Saved YOLO label: .\\train\\labels\\205_101_20_91eed014-2855-4f76-b1be-277823911c11.txt (bbox count: 1)\n",
      "[INFO] Saved YOLO label: .\\train\\labels\\204_102_20_9f1880d7-a915-4387-bc09-9c42b91f217c.txt (bbox count: 1)\n",
      "[INFO] Saved YOLO label: .\\train\\labels\\207_102_20_ade2ddf5-3a21-4417-a4c8-73443bf184a1.txt (bbox count: 1)\n",
      "[INFO] Saved YOLO label: .\\train\\labels\\207_213_20_7de79f7e-348f-4123-932e-8425ffb29a81.txt (bbox count: 1)\n",
      "[INFO] Saved YOLO label: .\\train\\labels\\207_212_20_acbdffa6-09cb-45c2-9098-25d1a55eab4c.txt (bbox count: 1)\n",
      "[INFO] Saved YOLO label: .\\train\\labels\\209_102_20_5a80a7ed-4d70-4f62-81b5-6e62f2408955.txt (bbox count: 1)\n",
      "[INFO] Saved YOLO label: .\\train\\labels\\209_102_20_6e816d4a-9b7e-4d8b-b2ea-b44ae6c6e3fb.txt (bbox count: 1)\n",
      "[INFO] Saved YOLO label: .\\train\\labels\\205_101_20_c4a27906-fe22-4397-9440-b90e54726be7.txt (bbox count: 1)\n",
      "[INFO] Saved YOLO label: .\\train\\labels\\204_101_20_7accca3d-4da6-4be2-88a7-b989bc2be1f7.txt (bbox count: 3)\n",
      "[INFO] Saved YOLO label: .\\train\\labels\\209_102_20_f9d2de3c-3c8d-4ffe-b317-d50947a26c6d.txt (bbox count: 1)\n",
      "[INFO] Saved YOLO label: .\\train\\labels\\204_102_20_bb6ff305-7693-4d32-abb5-ba70894dc322.txt (bbox count: 1)\n",
      "[INFO] Saved YOLO label: .\\train\\labels\\207_212_20_24e21798-5b32-4e9a-8f75-25574b61666d.txt (bbox count: 1)\n",
      "[INFO] Saved YOLO label: .\\train\\labels\\205_101_20_1a679d1c-1097-4823-83ae-af692fdebbc8.txt (bbox count: 1)\n",
      "[INFO] Saved YOLO label: .\\train\\labels\\209_102_20_2d20ecea-7276-4831-bb54-9ce34239002e.txt (bbox count: 1)\n",
      "[INFO] Saved YOLO label: .\\train\\labels\\205_101_20_3ce6d95f-2ed2-4614-a863-266b267372dd.txt (bbox count: 1)\n",
      "[INFO] Saved YOLO label: .\\train\\labels\\209_102_20_f3d9ad23-3741-4379-9d5b-977d6f5304b0.txt (bbox count: 1)\n",
      "[INFO] Saved YOLO label: .\\train\\labels\\204_102_20_4918fb9c-0a7d-44ba-b3c6-ab0de4d498a9.txt (bbox count: 1)\n",
      "[INFO] Saved YOLO label: .\\train\\labels\\205_101_20_2681b978-6752-430e-9a6e-9328126a38d7.txt (bbox count: 3)\n",
      "[INFO] Saved YOLO label: .\\train\\labels\\205_101_20_8b358c46-20bb-4785-b4df-f0ae7fbbd9e8.txt (bbox count: 4)\n",
      "[INFO] Saved YOLO label: .\\train\\labels\\207_212_20_b683c846-c2f9-40e7-82f0-c49c328621a7.txt (bbox count: 1)\n",
      "[INFO] Saved YOLO label: .\\train\\labels\\207_212_20_c1ed0c00-d7b6-490a-a882-4aec9efd43c6.txt (bbox count: 1)\n",
      "[INFO] Saved YOLO label: .\\train\\labels\\207_212_20_fb7cfd91-fe8c-4a24-8132-8058fe63ff46.txt (bbox count: 1)\n",
      "[INFO] Saved YOLO label: .\\train\\labels\\207_212_20_20c8dfd7-4339-4ccc-a0ae-31a31c23fe63.txt (bbox count: 1)\n",
      "[INFO] Saved YOLO label: .\\train\\labels\\209_102_20_890b54bf-863c-4bd9-a4a9-6c53a4276003.txt (bbox count: 1)\n",
      "[INFO] Saved YOLO label: .\\train\\labels\\204_101_20_f0cfa853-cf42-4c06-b6b3-38746f0e6cf4.txt (bbox count: 1)\n",
      "[INFO] Saved YOLO label: .\\train\\labels\\205_101_20_c80eb5eb-89d0-4516-a7bb-3bff5f4e0dfc.txt (bbox count: 3)\n",
      "[INFO] Saved YOLO label: .\\train\\labels\\204_102_20_362ec388-f953-49a1-9a09-0568c4fc48c9.txt (bbox count: 1)\n",
      "[INFO] Saved YOLO label: .\\train\\labels\\205_101_20_dc4f32c8-a6f3-4230-9c1e-83eb21ac6ce8.txt (bbox count: 2)\n",
      "[INFO] Saved YOLO label: .\\train\\labels\\205_101_20_4b052f4f-28dd-467a-accf-4af92f661c06.txt (bbox count: 2)\n",
      "[INFO] Saved YOLO label: .\\train\\labels\\207_204_20_d40c769d-bd83-476f-b44d-6a028b6f0c7f.txt (bbox count: 1)\n",
      "[INFO] Saved YOLO label: .\\train\\labels\\209_102_20_6355e7b8-d19d-406a-9a62-b879f2222c41.txt (bbox count: 1)\n",
      "[INFO] Saved YOLO label: .\\train\\labels\\204_101_20_2c43e8d4-0c66-4414-b1eb-6d3df277ae3b.txt (bbox count: 1)\n",
      "[INFO] Saved YOLO label: .\\train\\labels\\205_101_20_b413979d-53ac-4ada-b9b2-b4b34fa27a16.txt (bbox count: 1)\n",
      "[INFO] Saved YOLO label: .\\train\\labels\\209_102_20_586ba65b-f85b-4479-b96e-80245ead9276.txt (bbox count: 1)\n",
      "[INFO] Saved YOLO label: .\\train\\labels\\209_102_20_96060b2b-7767-4e86-8d46-0b2e396c3828.txt (bbox count: 1)\n",
      "[INFO] Saved YOLO label: .\\train\\labels\\207_212_20_3d9c7836-2c95-4d56-bede-82cae92dc585.txt (bbox count: 1)\n",
      "[INFO] Saved YOLO label: .\\train\\labels\\207_212_20_8d9b8192-c67b-48bd-bea4-9cb8fab50437.txt (bbox count: 1)\n",
      "[INFO] Saved YOLO label: .\\train\\labels\\205_101_20_f32ec97c-7ba9-4a26-aa4a-7fca6b8bf9d6.txt (bbox count: 2)\n",
      "[INFO] Saved YOLO label: .\\train\\labels\\205_101_20_0914b3a7-f7f9-4790-a0b9-9d339003995d.txt (bbox count: 3)\n",
      "[INFO] Saved YOLO label: .\\train\\labels\\204_101_20_e0eff5ac-22fc-4040-9f62-6510f4b52df0.txt (bbox count: 1)\n",
      "[INFO] Saved YOLO label: .\\train\\labels\\207_204_20_b4516d75-e6fc-434e-97b2-b5f6bb5a6354.txt (bbox count: 1)\n",
      "[INFO] Saved YOLO label: .\\train\\labels\\204_101_20_f2498d2e-186d-48d0-b59f-9a5b85e8fd8a.txt (bbox count: 1)\n",
      "[INFO] Saved YOLO label: .\\train\\labels\\209_102_20_125d7d6a-533f-46b3-b965-f5afb762da1c.txt (bbox count: 1)\n",
      "[INFO] Saved YOLO label: .\\train\\labels\\205_101_20_b101b40a-09bf-44c2-a506-39da0e668eb5.txt (bbox count: 1)\n",
      "[INFO] Saved YOLO label: .\\train\\labels\\209_102_20_266289d4-7f58-4402-b14c-111c11ad8488.txt (bbox count: 1)\n",
      "[INFO] Saved YOLO label: .\\train\\labels\\204_102_20_93556313-a00b-45b9-a3e7-0b3a8c3c2b3b.txt (bbox count: 1)\n",
      "[INFO] Saved YOLO label: .\\train\\labels\\209_102_20_6178778d-1e29-44cd-99cd-24ddf2833478.txt (bbox count: 1)\n",
      "[INFO] Saved YOLO label: .\\train\\labels\\205_101_20_541c51d4-895a-4835-b451-361b8d81d59c.txt (bbox count: 2)\n",
      "[INFO] Saved YOLO label: .\\train\\labels\\204_102_20_283effb0-4633-4614-b801-1963fdaeb6bf.txt (bbox count: 1)\n",
      "[INFO] Saved YOLO label: .\\train\\labels\\204_101_20_ad5b7519-3b78-4065-b360-d364879e073e.txt (bbox count: 2)\n",
      "[INFO] Saved YOLO label: .\\train\\labels\\207_213_20_69facea4-5460-450d-b557-90abca43bb24.txt (bbox count: 1)\n",
      "[INFO] Saved YOLO label: .\\train\\labels\\204_101_20_0a700083-2020-468f-86ec-a8483755330a.txt (bbox count: 2)\n",
      "[INFO] Saved YOLO label: .\\train\\labels\\209_102_20_c48d4caf-13b9-42c5-922d-10a0101d13ba.txt (bbox count: 1)\n",
      "[INFO] Saved YOLO label: .\\train\\labels\\204_102_20_e87e0f45-8209-4f74-8e56-6d060eb7ef60.txt (bbox count: 1)\n",
      "[INFO] Saved YOLO label: .\\train\\labels\\204_101_20_ddddef13-a6ec-485c-a4f5-183c58632904.txt (bbox count: 1)\n",
      "[INFO] Saved YOLO label: .\\train\\labels\\207_102_20_42a6787c-02a1-43f9-b0de-a7e85fdc83ca.txt (bbox count: 1)\n",
      "[INFO] Saved YOLO label: .\\train\\labels\\209_102_20_9c386df5-4ff7-4fc0-a8b7-78d03688ec16.txt (bbox count: 1)\n",
      "[INFO] Saved YOLO label: .\\train\\labels\\209_102_20_abfe2593-c0b7-4b48-b372-67d026060d0a.txt (bbox count: 1)\n",
      "[INFO] Saved YOLO label: .\\train\\labels\\209_102_20_72d1c2e3-0ef2-475f-a5ba-1feae3c870a6.txt (bbox count: 1)\n",
      "[INFO] Saved YOLO label: .\\train\\labels\\205_101_20_dc86338d-445a-4d8d-bc55-e7b5024a374c.txt (bbox count: 3)\n",
      "[INFO] Saved YOLO label: .\\train\\labels\\207_213_20_c63bedb1-c637-4fc4-9946-6d7fe54baa56.txt (bbox count: 1)\n",
      "[INFO] Saved YOLO label: .\\train\\labels\\205_101_20_35a450d8-bff6-41e3-a321-6553ba950a03.txt (bbox count: 1)\n",
      "[INFO] Saved YOLO label: .\\train\\labels\\205_101_20_d8bc0cff-da42-40ff-8a60-81aea0a79529.txt (bbox count: 3)\n",
      "[INFO] Saved YOLO label: .\\train\\labels\\205_101_20_e9d02f3d-6ed0-4e38-844d-ca89a47db0e3.txt (bbox count: 1)\n",
      "[INFO] Saved YOLO label: .\\train\\labels\\207_204_20_95964fd7-1054-4281-b1ac-90bbd9ef97dd.txt (bbox count: 1)\n",
      "[INFO] Saved YOLO label: .\\train\\labels\\207_102_20_24826869-25ab-4d26-9c67-c4a003c78e2f.txt (bbox count: 1)\n",
      "[INFO] Saved YOLO label: .\\train\\labels\\204_101_20_677f1848-1a08-4df7-a364-62b183f4cde5.txt (bbox count: 1)\n",
      "[INFO] Saved YOLO label: .\\train\\labels\\205_101_20_b8ba30e0-86c4-49be-bc45-9f7ef1411603.txt (bbox count: 2)\n",
      "[INFO] Saved YOLO label: .\\train\\labels\\209_102_20_ce7ad297-eab7-4dfa-852a-83718f0b264e.txt (bbox count: 1)\n",
      "[INFO] Saved YOLO label: .\\train\\labels\\209_102_20_321babd9-2aab-4298-962d-c3c347535af6.txt (bbox count: 1)\n",
      "[INFO] Saved YOLO label: .\\train\\labels\\207_213_20_51c900f2-fab1-4603-b224-2655ef899d12.txt (bbox count: 1)\n",
      "[INFO] Saved YOLO label: .\\train\\labels\\205_101_20_bec616dc-86fd-4494-9537-8e02a4622fb8.txt (bbox count: 1)\n",
      "[INFO] Saved YOLO label: .\\train\\labels\\205_101_20_266f1358-86b5-431f-ad18-79747375e10c.txt (bbox count: 2)\n",
      "[INFO] Saved YOLO label: .\\train\\labels\\205_101_20_b48aeba4-4927-44a4-82ad-f0eeda00cd76.txt (bbox count: 2)\n",
      "[INFO] Saved YOLO label: .\\train\\labels\\204_101_20_5e76892c-a944-4d82-aaa3-b42bd25fe171.txt (bbox count: 2)\n",
      "[INFO] Saved YOLO label: .\\train\\labels\\209_102_20_0dc6a379-b2ba-4c40-b0c7-ee90f9cd469c.txt (bbox count: 1)\n",
      "[INFO] Saved YOLO label: .\\train\\labels\\207_213_20_74b971f2-fbda-450a-bab6-fe5b4b49046a.txt (bbox count: 1)\n",
      "[INFO] Saved YOLO label: .\\train\\labels\\205_101_20_d6ed70de-a576-4a20-bf47-568372117dc4.txt (bbox count: 3)\n",
      "[INFO] Saved YOLO label: .\\train\\labels\\209_102_20_576d582e-f3b7-483c-ab15-b3ab37ba2101.txt (bbox count: 1)\n",
      "[INFO] Saved YOLO label: .\\train\\labels\\204_101_20_338e3f06-b56d-4539-9c08-4f23ac1e7885.txt (bbox count: 1)\n",
      "[INFO] Saved YOLO label: .\\train\\labels\\207_212_20_755315be-5e66-4bea-b7cc-e710e5904779.txt (bbox count: 1)\n",
      "[INFO] Saved YOLO label: .\\train\\labels\\207_212_20_b81e0866-f392-46ac-901c-7330e2415593.txt (bbox count: 1)\n",
      "[INFO] Saved YOLO label: .\\train\\labels\\204_101_20_2a1f0c50-b623-402c-adc7-03ae7ad29305.txt (bbox count: 1)\n",
      "[INFO] Saved YOLO label: .\\train\\labels\\205_101_20_55cb57b3-e1fb-4c08-aa34-8d96feb1685e.txt (bbox count: 2)\n",
      "[INFO] Saved YOLO label: .\\train\\labels\\205_101_20_9345907c-9bae-48d8-9cdd-b4a6d903fb69.txt (bbox count: 2)\n",
      "[INFO] Saved YOLO label: .\\train\\labels\\207_102_20_56fd0593-c8c2-4c7e-828b-4ab201f62272.txt (bbox count: 1)\n",
      "[INFO] Saved YOLO label: .\\train\\labels\\209_102_20_9e71518a-4d27-4b26-acdc-ed57ce926f40.txt (bbox count: 1)\n",
      "[INFO] Saved YOLO label: .\\train\\labels\\207_212_20_0ffd8f64-d51c-4faa-8438-26b1db7ef35a.txt (bbox count: 1)\n",
      "[INFO] Saved YOLO label: .\\train\\labels\\205_101_20_f2e0bbb7-3113-4696-8e67-b361e6eb53ca.txt (bbox count: 4)\n",
      "[INFO] Saved YOLO label: .\\train\\labels\\207_213_20_697784f4-d82f-43f3-b314-b9a60c8ad225.txt (bbox count: 1)\n",
      "[INFO] Saved YOLO label: .\\train\\labels\\205_101_20_021287b5-7f95-4ce0-a9db-8a4b847a0fb4.txt (bbox count: 1)\n",
      "[INFO] Saved YOLO label: .\\train\\labels\\209_102_20_3a893f70-1e89-4570-b1ec-51fd3c03d263.txt (bbox count: 1)\n",
      "[INFO] Saved YOLO label: .\\train\\labels\\209_102_20_d9da9e1a-d80b-4e42-8181-b8eb9a765f77.txt (bbox count: 1)\n",
      "[INFO] Saved YOLO label: .\\train\\labels\\204_101_20_98443bed-44e2-4099-a42c-92ff913b4c63.txt (bbox count: 2)\n",
      "[INFO] Saved YOLO label: .\\train\\labels\\205_101_20_5ad24091-7537-4199-9788-ebca64e357aa.txt (bbox count: 1)\n",
      "[INFO] Saved YOLO label: .\\train\\labels\\209_102_20_e4492948-62cc-4df9-be36-fb6dfce96d56.txt (bbox count: 1)\n",
      "[INFO] Saved YOLO label: .\\train\\labels\\205_101_20_49ad6f0b-5f84-468b-a866-cf061ace40a6.txt (bbox count: 1)\n",
      "[INFO] Saved YOLO label: .\\train\\labels\\204_102_20_7970a7bd-5911-4a5f-9f04-afbcd3f62cf2.txt (bbox count: 1)\n",
      "[INFO] Saved YOLO label: .\\train\\labels\\205_101_20_ca76e0cb-2d1c-4a53-a9d6-4bc1c5376ef9.txt (bbox count: 2)\n",
      "[INFO] Saved YOLO label: .\\train\\labels\\207_213_20_f1551098-f013-4f36-824b-0925aa77efe5.txt (bbox count: 1)\n",
      "[INFO] Saved YOLO label: .\\train\\labels\\204_101_20_ad60db34-3c8d-4b4c-95ca-84311bacea57.txt (bbox count: 2)\n",
      "[INFO] Saved YOLO label: .\\train\\labels\\205_101_20_5d78328c-1f7d-452e-be84-cd700b6ecf82.txt (bbox count: 1)\n",
      "[INFO] Saved YOLO label: .\\train\\labels\\209_102_20_2a65d4a8-7fc2-4900-b20a-b5b3e1fc2c2d.txt (bbox count: 1)\n",
      "[INFO] Saved YOLO label: .\\train\\labels\\209_102_20_5118706e-537e-4572-827c-b413f87e7e26.txt (bbox count: 1)\n",
      "[INFO] Saved YOLO label: .\\train\\labels\\205_101_20_123ee3ef-11f0-4b1d-8a58-e34fc45f279f.txt (bbox count: 1)\n",
      "[INFO] Saved YOLO label: .\\train\\labels\\207_212_20_ff60575c-e8ea-4308-99ba-9ab01930c37a.txt (bbox count: 1)\n",
      "[INFO] Saved YOLO label: .\\train\\labels\\207_102_20_4f7ccef0-5e12-4bac-9df8-81bc33b3f204.txt (bbox count: 1)\n",
      "[INFO] Saved YOLO label: .\\train\\labels\\209_102_20_cb5d996e-0961-43fe-aff0-378e7dc838f9.txt (bbox count: 1)\n",
      "[INFO] Saved YOLO label: .\\train\\labels\\207_212_20_ec627abe-8d04-4a74-90b3-e04b27306983.txt (bbox count: 1)\n",
      "[INFO] Saved YOLO label: .\\train\\labels\\204_101_20_bd35d478-ea34-46a5-838f-3ac0b1736022.txt (bbox count: 1)\n",
      "[INFO] Saved YOLO label: .\\train\\labels\\209_102_20_171ba128-c2f9-4c88-97d8-b5f81e305c3d.txt (bbox count: 1)\n",
      "[INFO] Saved YOLO label: .\\train\\labels\\204_101_20_0380990b-093c-4041-b5e7-9e90158d3d5c.txt (bbox count: 2)\n",
      "[INFO] Saved YOLO label: .\\train\\labels\\205_101_20_d08fdddb-54ff-474e-85af-1d40ad8d3f5f.txt (bbox count: 2)\n",
      "[INFO] Saved YOLO label: .\\train\\labels\\205_101_20_a7cf9a9d-d4f3-4efd-9c68-c24e4dee7ed6.txt (bbox count: 3)\n",
      "[INFO] Saved YOLO label: .\\train\\labels\\205_101_20_26154094-2f2b-4dbd-b673-ab2b787b08ce.txt (bbox count: 2)\n",
      "[INFO] Saved YOLO label: .\\train\\labels\\209_102_20_e1926a94-11c3-4355-8814-3e3035041860.txt (bbox count: 1)\n",
      "[INFO] Saved YOLO label: .\\train\\labels\\209_102_20_022c86cc-08c1-4895-94e3-20824cb26909.txt (bbox count: 1)\n",
      "[INFO] Saved YOLO label: .\\train\\labels\\205_101_20_00474950-ce70-4fc8-98a0-bb29012a8fc6.txt (bbox count: 1)\n",
      "[INFO] Saved YOLO label: .\\train\\labels\\204_102_20_7c253775-9404-49a7-b073-fac272f9ba8a.txt (bbox count: 1)\n",
      "[INFO] Saved YOLO label: .\\train\\labels\\204_102_20_e22e9a4b-a640-448d-844e-f17e5c7cf478.txt (bbox count: 1)\n",
      "[INFO] Saved YOLO label: .\\train\\labels\\209_102_20_ca829c1f-0a5d-41eb-a3a6-de3cf0e2df05.txt (bbox count: 1)\n",
      "[INFO] Saved YOLO label: .\\train\\labels\\204_101_20_7b5712cd-eccc-4904-8eb2-90a2d9512a67.txt (bbox count: 1)\n",
      "[INFO] Saved YOLO label: .\\train\\labels\\207_213_20_e1c903a6-d396-40ce-b979-ba8891b1bd0d.txt (bbox count: 1)\n",
      "[INFO] Saved YOLO label: .\\train\\labels\\207_204_20_c3b22f80-1846-4fb3-b946-a899c93d96f9.txt (bbox count: 1)\n",
      "[INFO] Saved YOLO label: .\\train\\labels\\205_101_20_d91af9ca-03c2-4f21-9a41-68392d1575ca.txt (bbox count: 5)\n",
      "[INFO] Saved YOLO label: .\\train\\labels\\207_102_20_f6f40039-c37d-4e48-be5a-6ac07727b3e2.txt (bbox count: 1)\n",
      "[INFO] Saved YOLO label: .\\train\\labels\\207_213_20_f88fb80a-d759-488b-8349-482dc7f4da5b.txt (bbox count: 1)\n",
      "[INFO] Saved YOLO label: .\\train\\labels\\207_212_20_c899defb-4dfd-4ca8-81cf-7692ca48243e.txt (bbox count: 1)\n",
      "[INFO] Saved YOLO label: .\\train\\labels\\207_204_20_b6568052-cece-4f4c-9f14-a84824f31c55.txt (bbox count: 1)\n",
      "[INFO] Saved YOLO label: .\\train\\labels\\209_102_20_2b2927df-4437-4028-9054-b4565cd98fc9.txt (bbox count: 1)\n",
      "[INFO] Saved YOLO label: .\\train\\labels\\209_102_20_da5be44e-cd42-4efa-8778-a41d7586538a.txt (bbox count: 1)\n",
      "[INFO] Saved YOLO label: .\\train\\labels\\204_102_20_cabd56d6-54d8-4a85-83d5-0ec27e1819ea.txt (bbox count: 1)\n",
      "[INFO] Saved YOLO label: .\\train\\labels\\205_101_20_815105a7-b1b2-41c7-a58f-79f8afe3c9ac.txt (bbox count: 3)\n",
      "[INFO] Saved YOLO label: .\\train\\labels\\209_102_20_7c7db6bc-5c4d-44e7-8696-5fef842e5862.txt (bbox count: 1)\n",
      "[INFO] Saved YOLO label: .\\train\\labels\\205_101_20_64a85172-4a6c-4991-b12a-992aa4581a6e.txt (bbox count: 2)\n",
      "[INFO] Saved YOLO label: .\\train\\labels\\207_212_20_2e26d277-a0d4-4cc1-86b3-95e5ce9bec7b.txt (bbox count: 1)\n",
      "[INFO] Saved YOLO label: .\\train\\labels\\204_101_20_cf575e10-fa12-467f-9afe-cd86c01a9b01.txt (bbox count: 2)\n",
      "[INFO] Saved YOLO label: .\\train\\labels\\209_102_20_b8d61756-2e87-4a59-bf44-50b7b1f6c6f5.txt (bbox count: 1)\n",
      "[INFO] Saved YOLO label: .\\train\\labels\\209_102_20_91061386-32e8-4f73-ab87-63c2bdb4209b.txt (bbox count: 1)\n",
      "[INFO] Saved YOLO label: .\\train\\labels\\209_102_20_3af55747-8cf6-460b-8bcd-f2f90768dcc0.txt (bbox count: 1)\n",
      "[INFO] Saved YOLO label: .\\train\\labels\\205_101_20_391a1bb6-b396-4d9d-a892-96557f567c51.txt (bbox count: 1)\n",
      "[INFO] Saved YOLO label: .\\train\\labels\\207_212_20_5b542870-b269-49c9-a505-d7ce162f41d8.txt (bbox count: 1)\n",
      "[INFO] Saved YOLO label: .\\train\\labels\\204_101_20_1850ecbb-7653-4289-8839-8757e278475f.txt (bbox count: 1)\n",
      "[INFO] Saved YOLO label: .\\train\\labels\\204_101_20_30c96de3-2091-45a8-8f6c-154a60211a6d.txt (bbox count: 1)\n",
      "[INFO] Saved YOLO label: .\\train\\labels\\207_102_20_ff06f604-7e6c-4eb8-86a0-8ae9635f1088.txt (bbox count: 1)\n",
      "[INFO] Saved YOLO label: .\\train\\labels\\204_101_20_b07e22e9-5f78-4c94-95f3-94a3afb917ec.txt (bbox count: 1)\n",
      "[INFO] Saved YOLO label: .\\train\\labels\\209_102_20_f0a7edf1-01dc-4e03-b0d0-9a454ac817d0.txt (bbox count: 1)\n",
      "[INFO] Saved YOLO label: .\\train\\labels\\204_101_20_e472c8cd-8a2a-4d28-ba01-9be28185eb16.txt (bbox count: 1)\n",
      "[INFO] Saved YOLO label: .\\train\\labels\\209_102_20_069c4b8c-5e08-4f11-8670-80243335389f.txt (bbox count: 1)\n",
      "[INFO] Saved YOLO label: .\\train\\labels\\207_213_20_0aa9c1b9-3f31-4ecc-9ecb-27463fc7fa37.txt (bbox count: 1)\n",
      "[INFO] Saved YOLO label: .\\train\\labels\\209_102_20_d3e914cf-04ad-405f-964c-fd2ed6194482.txt (bbox count: 1)\n",
      "[INFO] Saved YOLO label: .\\train\\labels\\205_101_20_a93023e6-38c2-4b49-adf1-7e6cc8560f79.txt (bbox count: 5)\n",
      "[INFO] Saved YOLO label: .\\train\\labels\\209_102_20_5adf3865-6d04-4ae8-9000-43273174d061.txt (bbox count: 1)\n",
      "[INFO] Saved YOLO label: .\\train\\labels\\205_101_20_50a1ae7e-8bd9-4017-8853-e86e6dc949ad.txt (bbox count: 1)\n",
      "[INFO] Saved YOLO label: .\\train\\labels\\209_102_20_a560035c-2884-40fe-9bba-67e34e0f9b53.txt (bbox count: 1)\n",
      "[INFO] Saved YOLO label: .\\train\\labels\\209_102_20_c74a1a9e-682f-4bc5-9f29-ed69c5a06e35.txt (bbox count: 1)\n",
      "[INFO] Saved YOLO label: .\\train\\labels\\209_102_20_a95b695b-af5b-45f3-8047-5259377b96e8.txt (bbox count: 1)\n",
      "[INFO] Saved YOLO label: .\\train\\labels\\204_101_20_d6cd1796-cabd-4692-a01a-fe0374179b46.txt (bbox count: 3)\n",
      "[INFO] Saved YOLO label: .\\train\\labels\\207_102_20_5218cdb9-e2c9-4961-8b3c-4b454c0e0fff.txt (bbox count: 1)\n",
      "[INFO] Saved YOLO label: .\\train\\labels\\207_212_20_4686d94b-cb43-4e13-8e14-d68feca7f3ff.txt (bbox count: 1)\n",
      "[INFO] Saved YOLO label: .\\train\\labels\\209_102_20_6fe90b90-a8b2-4acc-8573-ea7e2b18d2db.txt (bbox count: 1)\n",
      "[INFO] Saved YOLO label: .\\train\\labels\\207_212_20_eac37dc2-dbf2-4c6d-a6c3-bb11aa8dcdb7.txt (bbox count: 1)\n",
      "[INFO] Saved YOLO label: .\\train\\labels\\209_102_20_ed444b5a-8346-48f5-80f9-8a55b3e0d784.txt (bbox count: 1)\n",
      "[INFO] Saved YOLO label: .\\train\\labels\\205_101_20_69c970a7-b42b-45b7-a1c9-3c1a85b91b1e.txt (bbox count: 3)\n",
      "[INFO] Saved YOLO label: .\\train\\labels\\205_101_20_dc2a51ea-febc-4176-935f-4a7b8071e989.txt (bbox count: 2)\n",
      "[INFO] Saved YOLO label: .\\train\\labels\\207_204_20_42df7d3c-42ef-4f05-920f-532208b2d025.txt (bbox count: 1)\n",
      "[INFO] Saved YOLO label: .\\train\\labels\\209_102_20_d20441c0-8a87-4eeb-a884-01d0a98723ad.txt (bbox count: 1)\n",
      "[INFO] Saved YOLO label: .\\train\\labels\\204_101_20_f90f2457-4fdd-4fb5-afa0-6c9a71591971.txt (bbox count: 1)\n",
      "[INFO] Saved YOLO label: .\\train\\labels\\205_101_20_fd140f66-5672-4afc-aba9-a2da253c340b.txt (bbox count: 1)\n",
      "[INFO] Saved YOLO label: .\\train\\labels\\204_101_20_db1a5f8d-a0e4-4306-9a1d-1ce94b8cb7b5.txt (bbox count: 1)\n",
      "[INFO] Saved YOLO label: .\\train\\labels\\209_102_20_232fba3b-c1da-47fa-8aa9-e6121ceb881f.txt (bbox count: 1)\n",
      "[INFO] Saved YOLO label: .\\train\\labels\\209_102_20_bcb9f268-60b9-47d5-8a50-dc7171f5e2e7.txt (bbox count: 1)\n",
      "[INFO] Saved YOLO label: .\\train\\labels\\205_101_20_d62ebda6-3a35-4557-8072-6de84d057cee.txt (bbox count: 3)\n",
      "[INFO] Saved YOLO label: .\\train\\labels\\205_101_20_48e19a64-9294-4b5a-9048-3e358cabd770.txt (bbox count: 2)\n",
      "[INFO] Saved YOLO label: .\\train\\labels\\209_102_20_e1ba3490-89cd-4c3a-9404-d7ca3cdea0d1.txt (bbox count: 1)\n",
      "[INFO] Saved YOLO label: .\\train\\labels\\204_101_20_751d6293-d7de-4593-84ff-683fa400263c.txt (bbox count: 1)\n",
      "[INFO] Saved YOLO label: .\\train\\labels\\209_102_20_d6ea4bb8-921b-4509-a25a-28b9f633f570.txt (bbox count: 1)\n",
      "[INFO] Saved YOLO label: .\\train\\labels\\204_101_20_fff6a1f8-4b54-4295-a62f-b479e0bea824.txt (bbox count: 1)\n",
      "[INFO] Saved YOLO label: .\\train\\labels\\207_204_20_34ae3ace-cfc0-43a2-880f-3e7dc745e5ac.txt (bbox count: 1)\n",
      "[INFO] Saved YOLO label: .\\train\\labels\\209_102_20_d3d5de71-3ab3-4195-be70-ca14bb8a7715.txt (bbox count: 1)\n",
      "[INFO] Saved YOLO label: .\\train\\labels\\204_101_20_15db74ff-1ecd-40e9-bd06-f8f559db3725.txt (bbox count: 2)\n",
      "[INFO] Saved YOLO label: .\\train\\labels\\209_102_20_13271f47-ebf7-47e0-95a4-b978416a1c62.txt (bbox count: 1)\n",
      "[INFO] Saved YOLO label: .\\train\\labels\\209_102_20_341a1c43-f356-43a0-b651-3cbf100a8352.txt (bbox count: 1)\n",
      "[INFO] Saved YOLO label: .\\train\\labels\\204_101_20_b36a73a4-5360-4330-ac9e-b84de3415606.txt (bbox count: 2)\n",
      "[INFO] Saved YOLO label: .\\train\\labels\\209_102_20_a61cb988-09f0-4e1d-8ccf-e084e076dd26.txt (bbox count: 1)\n",
      "[INFO] Saved YOLO label: .\\train\\labels\\209_102_20_ad2150e1-d3f3-41e4-87d9-83fc06961ae4.txt (bbox count: 1)\n",
      "[INFO] Saved YOLO label: .\\train\\labels\\204_101_20_65f1591f-fe84-49af-8517-8fbe4788a7d9.txt (bbox count: 2)\n",
      "[INFO] Saved YOLO label: .\\train\\labels\\204_101_20_17523dde-e8fa-4390-ac5e-b0736988c8c5.txt (bbox count: 2)\n",
      "[INFO] Saved YOLO label: .\\train\\labels\\207_213_20_a3344279-15cf-4984-b8a2-0e74f974bfa0.txt (bbox count: 1)\n",
      "[INFO] Saved YOLO label: .\\train\\labels\\207_204_20_6a0bef3c-a353-492f-a8e0-e38d2b020bef.txt (bbox count: 1)\n",
      "[INFO] Saved YOLO label: .\\train\\labels\\204_102_20_73f815a3-e138-4f96-8d86-0a0d67d86407.txt (bbox count: 1)\n",
      "[INFO] Saved YOLO label: .\\train\\labels\\205_101_20_96196bf0-1341-45b0-87ad-3e55ef3afe4f.txt (bbox count: 1)\n",
      "[INFO] Saved YOLO label: .\\train\\labels\\205_101_20_c8b7809c-d0ac-4baa-8a98-563cc6390f48.txt (bbox count: 2)\n",
      "[INFO] Saved YOLO label: .\\train\\labels\\204_102_20_bef213d6-1f4c-43ae-802c-f6998b7b1b95.txt (bbox count: 1)\n",
      "[INFO] Saved YOLO label: .\\train\\labels\\205_101_20_8955fd64-e635-445b-8c7f-b59925598769.txt (bbox count: 2)\n",
      "[INFO] Saved YOLO label: .\\train\\labels\\209_102_20_580d8f79-06d2-4af9-9ea3-512575bf2ecd.txt (bbox count: 1)\n",
      "[INFO] Saved YOLO label: .\\train\\labels\\205_101_20_717f9b76-0e83-4176-b85c-940c1fb24945.txt (bbox count: 1)\n",
      "[INFO] Saved YOLO label: .\\train\\labels\\205_101_20_a9fde0ee-0100-4fa1-8f35-696420b80d7a.txt (bbox count: 1)\n",
      "[INFO] Saved YOLO label: .\\train\\labels\\204_102_20_869ba16a-1ee9-415d-b880-64496601ab24.txt (bbox count: 1)\n",
      "[INFO] Saved YOLO label: .\\train\\labels\\204_101_20_c872900c-f1af-4f02-8b54-bdcdf00e1df4.txt (bbox count: 1)\n",
      "[INFO] Saved YOLO label: .\\train\\labels\\204_101_20_850e9cc3-3e70-4f9c-a9c9-34878c62cc2d.txt (bbox count: 1)\n",
      "[INFO] Saved YOLO label: .\\train\\labels\\209_102_20_8662e4f5-43a9-4182-9093-e224f3e013ee.txt (bbox count: 1)\n",
      "[INFO] Saved YOLO label: .\\train\\labels\\207_212_20_82857b72-3cf8-40bd-853b-02080bb218f3.txt (bbox count: 1)\n",
      "[INFO] Saved YOLO label: .\\train\\labels\\205_101_20_c48d5b71-a86c-46e3-89e4-5e008648562b.txt (bbox count: 3)\n",
      "[INFO] Saved YOLO label: .\\train\\labels\\209_102_20_ec171b4f-511b-4310-aadb-8013d37b2dc4.txt (bbox count: 1)\n",
      "[INFO] Saved YOLO label: .\\train\\labels\\209_102_20_f65a2d22-80f7-4416-9166-da1249d57e53.txt (bbox count: 1)\n",
      "[INFO] Saved YOLO label: .\\train\\labels\\209_102_20_094704eb-651e-4d75-8e1b-98da43295816.txt (bbox count: 1)\n",
      "[INFO] Saved YOLO label: .\\train\\labels\\209_102_20_36e25537-a538-4457-aac0-0f0b1a32f032.txt (bbox count: 1)\n",
      "[INFO] Saved YOLO label: .\\train\\labels\\207_102_20_111c723d-2471-47a9-8f3b-62f8ec6340d0.txt (bbox count: 1)\n",
      "[INFO] Saved YOLO label: .\\train\\labels\\204_101_20_2c923e14-1b23-4e89-9416-50b239176cf0.txt (bbox count: 1)\n",
      "[INFO] Saved YOLO label: .\\train\\labels\\205_101_20_72839ebe-994c-41cd-a0ea-6d21b4136e94.txt (bbox count: 2)\n",
      "[INFO] Saved YOLO label: .\\train\\labels\\205_101_20_a7ba597e-eac4-4351-bf09-43e6a878eb1a.txt (bbox count: 1)\n",
      "[INFO] Saved YOLO label: .\\train\\labels\\209_102_20_7831e126-7391-46b0-8afc-2564f7d77356.txt (bbox count: 1)\n",
      "[INFO] Saved YOLO label: .\\train\\labels\\205_101_20_ae9f85c6-51b6-465c-86c6-d1d5c4756a71.txt (bbox count: 2)\n",
      "[INFO] Saved YOLO label: .\\train\\labels\\204_102_20_bdfa165d-5e07-4fe9-af8f-abf600a252ea.txt (bbox count: 1)\n",
      "[INFO] Saved YOLO label: .\\train\\labels\\205_101_20_d68ee394-141e-412f-a57a-624ddf065cf2.txt (bbox count: 1)\n",
      "[INFO] Saved YOLO label: .\\train\\labels\\204_101_20_322008bd-4176-41f2-865f-940cb27f0d15.txt (bbox count: 1)\n",
      "[INFO] Saved YOLO label: .\\train\\labels\\204_101_20_06448ca7-3ce8-4306-bd40-06ce9c815651.txt (bbox count: 1)\n",
      "[INFO] Saved YOLO label: .\\train\\labels\\207_102_20_9cf04e4e-a031-4f69-80b1-974ffe229bbf.txt (bbox count: 1)\n",
      "[INFO] Saved YOLO label: .\\train\\labels\\204_101_20_087f3a29-7692-46db-b576-6f2490870d4b.txt (bbox count: 2)\n",
      "[INFO] Saved YOLO label: .\\train\\labels\\209_102_20_41c1b9f9-33f6-4229-98a6-2bb7cc3ec0d9.txt (bbox count: 1)\n",
      "[INFO] Saved YOLO label: .\\train\\labels\\207_102_20_a46760ba-9511-4e48-97e9-9d2c3bf3ce9a.txt (bbox count: 1)\n",
      "[INFO] Saved YOLO label: .\\train\\labels\\209_102_20_1ccce3e0-3714-4130-b9fe-d2e2c4375d9b.txt (bbox count: 1)\n",
      "[INFO] Saved YOLO label: .\\train\\labels\\204_101_20_2865b057-2e2e-48c9-8661-130c287fa17a.txt (bbox count: 4)\n",
      "[INFO] Saved YOLO label: .\\train\\labels\\204_102_20_3e717c3d-0488-4a0c-8b27-23c0338af0ad.txt (bbox count: 1)\n",
      "[INFO] Saved YOLO label: .\\train\\labels\\205_101_20_11d9266c-1900-4997-86ec-abbcb7112f93.txt (bbox count: 1)\n",
      "[INFO] Saved YOLO label: .\\train\\labels\\204_101_20_494f454a-3d27-4540-ad80-156b466411af.txt (bbox count: 2)\n",
      "[INFO] Saved YOLO label: .\\train\\labels\\209_102_20_c84cd344-22e5-439a-8ccd-cfb62e8646b7.txt (bbox count: 1)\n",
      "[INFO] Saved YOLO label: .\\train\\labels\\209_102_20_4ee4504e-d700-484e-8a31-d7bcb48f08b6.txt (bbox count: 1)\n",
      "[INFO] Saved YOLO label: .\\train\\labels\\204_102_20_aef9adfd-2b20-4354-b238-907cfac1bd96.txt (bbox count: 1)\n",
      "[INFO] Saved YOLO label: .\\train\\labels\\209_102_20_498e4c53-ecd2-42f2-9d27-5a2439cae147.txt (bbox count: 1)\n",
      "[INFO] Saved YOLO label: .\\train\\labels\\209_102_20_9208f185-e2f9-497b-bc4c-39758926123b.txt (bbox count: 1)\n",
      "[INFO] Saved YOLO label: .\\train\\labels\\204_102_20_afac5bba-f9ab-4abc-992f-a434cf36eee5.txt (bbox count: 1)\n",
      "[INFO] Saved YOLO label: .\\train\\labels\\209_102_20_d892a04b-fcd8-42ba-a1e4-c58bf93e297e.txt (bbox count: 1)\n",
      "[INFO] Saved YOLO label: .\\train\\labels\\209_102_20_f6f2b973-4ea2-4a99-a660-44e68f4c8f96.txt (bbox count: 1)\n",
      "[INFO] Saved YOLO label: .\\train\\labels\\209_102_20_a35f1f5a-8ad8-47c0-92dd-c54effbbde25.txt (bbox count: 1)\n",
      "[INFO] Saved YOLO label: .\\train\\labels\\207_204_20_ef5678fc-4f73-4af6-91f3-5a5cd54d169f.txt (bbox count: 1)\n",
      "[INFO] Saved YOLO label: .\\train\\labels\\207_204_20_17e2bf2d-76e5-4160-a79b-44d6f595f551.txt (bbox count: 1)\n",
      "[INFO] Saved YOLO label: .\\train\\labels\\205_101_20_f67c7ad4-433c-406a-96ca-02012a0d225a.txt (bbox count: 2)\n",
      "[INFO] Saved YOLO label: .\\train\\labels\\204_101_20_c997f09c-617e-4aaf-9961-fa1853c32716.txt (bbox count: 1)\n",
      "[INFO] Saved YOLO label: .\\train\\labels\\204_102_20_1ce4a27f-f487-4170-8856-314a6c533660.txt (bbox count: 1)\n",
      "[INFO] Saved YOLO label: .\\train\\labels\\205_101_20_3e560de4-fd15-4681-a493-bbd6ec2627c1.txt (bbox count: 1)\n",
      "[INFO] Saved YOLO label: .\\train\\labels\\209_102_20_8deb6205-d590-4b88-b8ad-3a9b102b9348.txt (bbox count: 1)\n",
      "[INFO] Saved YOLO label: .\\train\\labels\\205_101_20_c173e70b-55f5-4501-a264-3e4b8267feb4.txt (bbox count: 1)\n",
      "[INFO] Saved YOLO label: .\\train\\labels\\204_102_20_4aaacec0-78ab-4251-bcce-90b4fcce7107.txt (bbox count: 1)\n",
      "[INFO] Saved YOLO label: .\\train\\labels\\204_101_20_cbf0be37-67af-48f7-98c2-212eae50de62.txt (bbox count: 2)\n",
      "[INFO] Saved YOLO label: .\\train\\labels\\207_213_20_e49c3786-40cc-4c98-9d50-779dab94cf7c.txt (bbox count: 1)\n",
      "[INFO] Saved YOLO label: .\\train\\labels\\207_213_20_25efea8b-2585-4840-99e1-90149795eaa1.txt (bbox count: 1)\n",
      "[INFO] Saved YOLO label: .\\train\\labels\\204_101_20_aba03fdc-f2a2-4e92-9cd0-1e040324c626.txt (bbox count: 1)\n",
      "[INFO] Saved YOLO label: .\\train\\labels\\207_102_20_c9dcec84-c926-4b04-b2fa-1f992f5282fc.txt (bbox count: 1)\n",
      "[INFO] Saved YOLO label: .\\train\\labels\\209_102_20_90dfc4d5-331b-4b96-a0cf-08b1e17acc81.txt (bbox count: 1)\n",
      "[INFO] Saved YOLO label: .\\train\\labels\\209_102_20_b38752d6-1663-4636-a737-95e33d705804.txt (bbox count: 1)\n",
      "[INFO] Saved YOLO label: .\\train\\labels\\205_101_20_b051a80f-17fb-40b3-9170-f94751d4b24d.txt (bbox count: 1)\n",
      "[INFO] Saved YOLO label: .\\train\\labels\\204_102_20_37a28be5-d102-4556-ab97-a833e0636344.txt (bbox count: 1)\n",
      "[INFO] Saved YOLO label: .\\train\\labels\\209_102_20_d662a3cd-7205-4a15-87dd-ef8743ee5d1b.txt (bbox count: 1)\n",
      "[INFO] Saved YOLO label: .\\train\\labels\\205_101_20_395449fa-e1c6-4beb-a678-66491227c2d3.txt (bbox count: 2)\n",
      "[INFO] Saved YOLO label: .\\train\\labels\\207_102_20_2210053a-d969-40cf-96f3-037323c7b3d6.txt (bbox count: 1)\n",
      "[INFO] Saved YOLO label: .\\train\\labels\\207_213_20_427e8a05-0be0-4fb3-8adb-704e0639fdf5.txt (bbox count: 1)\n",
      "[INFO] Saved YOLO label: .\\train\\labels\\205_101_20_1ee63588-bdfc-4e02-964a-2e49c02defb9.txt (bbox count: 1)\n",
      "[INFO] Saved YOLO label: .\\train\\labels\\207_212_20_87a5c540-29c9-475e-aa28-6fb60578244e.txt (bbox count: 1)\n",
      "[INFO] Saved YOLO label: .\\train\\labels\\204_101_20_c8ad3588-1d17-4d6b-80ee-1a9d4ce835b8.txt (bbox count: 1)\n",
      "[INFO] Saved YOLO label: .\\train\\labels\\209_102_20_5cd5dc19-cef1-4bed-b144-efd4c777a4b9.txt (bbox count: 1)\n",
      "[INFO] Saved YOLO label: .\\train\\labels\\209_102_20_aefc63f8-48e3-46a4-afce-23532b197d51.txt (bbox count: 1)\n",
      "[INFO] Saved YOLO label: .\\train\\labels\\204_102_20_9ea698e4-ea3d-4f2f-9916-93f3091964cc.txt (bbox count: 1)\n",
      "[INFO] Saved YOLO label: .\\train\\labels\\204_101_20_2e3d969f-a661-401d-9aca-043b67d4d150.txt (bbox count: 1)\n",
      "[INFO] Saved YOLO label: .\\train\\labels\\205_101_20_b3658b25-492b-49b0-9481-5dbf0f17510b.txt (bbox count: 2)\n",
      "[INFO] Saved YOLO label: .\\train\\labels\\204_101_20_0e556ff0-34e3-453a-abcf-9e991f2fc138.txt (bbox count: 1)\n",
      "[INFO] Saved YOLO label: .\\train\\labels\\204_101_20_a88eebae-aea6-4cfb-bcce-ceb33af2bdea.txt (bbox count: 2)\n",
      "[INFO] Saved YOLO label: .\\train\\labels\\204_101_20_922c0029-c743-4f13-93c7-c183d20e98e4.txt (bbox count: 1)\n",
      "[INFO] Saved YOLO label: .\\train\\labels\\205_101_20_e68cd676-36db-4960-a502-480ba31484c4.txt (bbox count: 2)\n",
      "[INFO] Saved YOLO label: .\\train\\labels\\205_101_20_a30c0db4-0df4-463c-80d5-3fec712561ce.txt (bbox count: 2)\n",
      "[INFO] Saved YOLO label: .\\train\\labels\\205_101_20_3023aa40-a4bc-4aa4-9d45-e6991d12644e.txt (bbox count: 3)\n",
      "[INFO] Saved YOLO label: .\\train\\labels\\207_102_20_bd016d21-eb8c-4221-8bb1-0b788c95665f.txt (bbox count: 1)\n",
      "[INFO] Saved YOLO label: .\\train\\labels\\204_101_20_97e07b2a-6a33-4188-bea8-cb10a3f7475a.txt (bbox count: 2)\n",
      "[INFO] Saved YOLO label: .\\train\\labels\\207_213_20_25f22bd5-f4c5-457b-aeb5-12f19c25f80f.txt (bbox count: 1)\n",
      "[INFO] Saved YOLO label: .\\train\\labels\\207_102_20_c8bcb900-a005-487f-b993-742d24e0e059.txt (bbox count: 1)\n",
      "[INFO] Saved YOLO label: .\\train\\labels\\209_102_20_7ef6c970-d0d0-413d-9262-1af1b5bc2a5c.txt (bbox count: 1)\n",
      "[INFO] Saved YOLO label: .\\train\\labels\\204_101_20_9310000e-9057-4218-899f-a9852d3a0ee7.txt (bbox count: 1)\n",
      "[INFO] Saved YOLO label: .\\train\\labels\\209_102_20_a0551980-2fe9-4af3-a9c6-1b605fd8b41a.txt (bbox count: 1)\n",
      "[INFO] Saved YOLO label: .\\train\\labels\\204_101_20_2eed9533-67fa-4d9e-b77b-eb07202b81d7.txt (bbox count: 2)\n",
      "[INFO] Saved YOLO label: .\\train\\labels\\209_102_20_fcbd6944-7bf4-4e30-bcd5-add502f0dae2.txt (bbox count: 1)\n",
      "[INFO] Saved YOLO label: .\\train\\labels\\207_102_20_da93b7e0-569d-4383-bd10-d9564d1303a7.txt (bbox count: 1)\n",
      "[INFO] Saved YOLO label: .\\train\\labels\\205_101_20_4d85baa7-4474-4c18-ae5d-10024c017991.txt (bbox count: 2)\n",
      "[INFO] Saved YOLO label: .\\train\\labels\\205_101_20_7d11fe51-5ef6-4c80-8105-76056ec5821e.txt (bbox count: 1)\n",
      "[INFO] Saved YOLO label: .\\train\\labels\\207_204_20_18106a7d-1f3c-49da-9746-bfd04afdceda.txt (bbox count: 1)\n",
      "[INFO] Saved YOLO label: .\\train\\labels\\204_102_20_952bfccb-8aa6-4007-80fb-960f235d5d08.txt (bbox count: 1)\n",
      "[INFO] Saved YOLO label: .\\train\\labels\\204_101_20_78ffabd2-26b5-4dc1-9088-b395bd858ca2.txt (bbox count: 2)\n",
      "[INFO] Saved YOLO label: .\\train\\labels\\205_101_20_81059f47-5f21-4ad9-b74e-f994d768c5b2.txt (bbox count: 3)\n",
      "[INFO] Saved YOLO label: .\\train\\labels\\207_213_20_09836168-fe72-4819-bff5-48f170d50237.txt (bbox count: 1)\n",
      "[INFO] Saved YOLO label: .\\train\\labels\\209_102_20_49ac6185-5dfc-4f7f-b675-2f23bcc727d1.txt (bbox count: 1)\n",
      "[INFO] Saved YOLO label: .\\train\\labels\\204_102_20_88aec479-f458-4cea-99ae-a9197e72dc5a.txt (bbox count: 1)\n",
      "[INFO] Saved YOLO label: .\\train\\labels\\209_102_20_66868d3b-a1ad-49b5-b397-477f1822b190.txt (bbox count: 1)\n",
      "[INFO] Saved YOLO label: .\\train\\labels\\204_102_20_d02a39f4-a5ff-4dd4-8225-c50345370cca.txt (bbox count: 1)\n",
      "[INFO] Saved YOLO label: .\\train\\labels\\207_102_20_c009d211-3c86-4868-ace0-a4a1caaff8b7.txt (bbox count: 1)\n",
      "[INFO] Saved YOLO label: .\\train\\labels\\204_101_20_dc9f7b8d-d8fe-4ed9-8496-afedd4bede18.txt (bbox count: 1)\n",
      "[INFO] Saved YOLO label: .\\train\\labels\\209_102_20_6cf71e28-730d-4449-b97b-8d03d3cdfeb4.txt (bbox count: 1)\n",
      "[INFO] Saved YOLO label: .\\train\\labels\\209_102_20_9e08f914-95b5-4de3-9354-7f463501c48e.txt (bbox count: 1)\n",
      "[INFO] Saved YOLO label: .\\train\\labels\\209_102_20_c85080a3-cec5-4656-86a6-f124a8b41ab1.txt (bbox count: 1)\n",
      "[INFO] Saved YOLO label: .\\train\\labels\\205_101_20_12aa1149-d5ea-43ff-b3c5-c96c36fe14d7.txt (bbox count: 1)\n",
      "[INFO] Saved YOLO label: .\\train\\labels\\207_213_20_e4fc7836-75a6-4765-a263-c1787ea7ac56.txt (bbox count: 1)\n",
      "[INFO] Saved YOLO label: .\\train\\labels\\207_213_20_ae7a9056-8bf2-4f15-b01d-0bf7afacdadc.txt (bbox count: 1)\n",
      "[INFO] Saved YOLO label: .\\train\\labels\\207_212_20_833c7dac-0c46-434e-8ccd-a0a4e5dd1203.txt (bbox count: 1)\n",
      "[INFO] Saved YOLO label: .\\train\\labels\\204_101_20_e3cc3770-9cf7-4fd8-8e46-0414518bebee.txt (bbox count: 1)\n",
      "[INFO] Saved YOLO label: .\\train\\labels\\204_101_20_77def2bc-7e02-4ed6-b544-2d8080a2c794.txt (bbox count: 2)\n",
      "[INFO] Saved YOLO label: .\\train\\labels\\205_101_20_1a18c766-447b-462b-9c9d-eaeca023f208.txt (bbox count: 1)\n",
      "[INFO] Saved YOLO label: .\\train\\labels\\209_102_20_e8312caf-461f-4446-a861-cad220ce8096.txt (bbox count: 1)\n",
      "[INFO] Saved YOLO label: .\\train\\labels\\204_102_20_6c0efe9f-bff6-4516-bf22-b359e23de96a.txt (bbox count: 1)\n",
      "[INFO] Saved YOLO label: .\\train\\labels\\204_101_20_df893db2-f486-4cb7-9664-1897590cdb61.txt (bbox count: 3)\n",
      "[INFO] Saved YOLO label: .\\train\\labels\\209_102_20_bc3e1c1a-18b1-4a7c-a39a-8a43e4fa807d.txt (bbox count: 1)\n",
      "[INFO] Saved YOLO label: .\\train\\labels\\204_101_20_49b31289-535a-422f-9fcc-7b7aafd3fa8f.txt (bbox count: 2)\n",
      "[INFO] Saved YOLO label: .\\train\\labels\\207_204_20_3b69f00e-e1ba-4afd-8d7a-c3a34699f184.txt (bbox count: 1)\n",
      "[INFO] Saved YOLO label: .\\train\\labels\\207_102_20_dc448e5b-54a8-46ba-93e1-b2b5fd359fa2.txt (bbox count: 1)\n",
      "[INFO] Saved YOLO label: .\\train\\labels\\209_102_20_4e7f3583-7067-45c3-bc8b-5fe0021e8feb.txt (bbox count: 1)\n",
      "[INFO] Saved YOLO label: .\\train\\labels\\204_102_20_83939f22-136c-492b-8a5d-30ddd37132ce.txt (bbox count: 1)\n",
      "[INFO] Saved YOLO label: .\\train\\labels\\205_101_20_71218e9b-2ab2-4f2a-ab66-f4eacd2a274b.txt (bbox count: 2)\n",
      "[INFO] Saved YOLO label: .\\train\\labels\\209_102_20_028d0c1d-e8c0-4bad-bc92-92040fefeb81.txt (bbox count: 1)\n",
      "[INFO] Saved YOLO label: .\\train\\labels\\207_212_20_c8978c3f-8880-47a6-8c2b-3d50fe8449b5.txt (bbox count: 1)\n",
      "[INFO] Saved YOLO label: .\\train\\labels\\207_102_20_20b10ae0-6eb1-4659-b303-a1a135190d58.txt (bbox count: 1)\n",
      "[INFO] Saved YOLO label: .\\train\\labels\\205_101_20_551a9b8a-c4a7-4e6e-bba2-88563b2981c6.txt (bbox count: 2)\n",
      "[INFO] Saved YOLO label: .\\train\\labels\\207_102_20_1827d0ba-48ca-4f84-b94f-438f9c7bf806.txt (bbox count: 1)\n",
      "[INFO] Saved YOLO label: .\\train\\labels\\209_102_20_3e6281d8-a454-422a-9710-a21937c4e7c1.txt (bbox count: 1)\n",
      "[INFO] Saved YOLO label: .\\train\\labels\\207_102_20_6e43f983-8f80-40bc-baa0-dd2eaa6f846a.txt (bbox count: 1)\n",
      "[INFO] Saved YOLO label: .\\train\\labels\\209_102_20_5bcc3fb3-4e4d-47b2-889b-a3ea27b60215.txt (bbox count: 1)\n",
      "[INFO] Saved YOLO label: .\\train\\labels\\204_102_20_c98ea69a-7f34-4ae4-ae24-e8dd417b9cfe.txt (bbox count: 1)\n",
      "[INFO] Saved YOLO label: .\\train\\labels\\204_101_20_68ae2de8-588a-4971-8326-703067ab2871.txt (bbox count: 2)\n",
      "[INFO] Saved YOLO label: .\\train\\labels\\205_101_20_a3556099-a30a-4302-90af-dc4544a11124.txt (bbox count: 1)\n",
      "[INFO] Saved YOLO label: .\\train\\labels\\209_102_20_ce45a257-9f96-4b52-b80d-a0d6edd0540a.txt (bbox count: 1)\n",
      "[INFO] Saved YOLO label: .\\train\\labels\\204_101_20_3db6c720-1ee8-47f4-9be5-05aeda37507c.txt (bbox count: 1)\n",
      "[INFO] Saved YOLO label: .\\train\\labels\\209_102_20_d8848b0e-bbc4-4b7c-abff-7515f89fa343.txt (bbox count: 1)\n",
      "[INFO] Saved YOLO label: .\\test\\labels\\204_102_20_46b2633d-e3fe-420a-b3e9-0dcc04651116.txt (bbox count: 1)\n",
      "[INFO] Saved YOLO label: .\\test\\labels\\205_101_20_22138ef5-1a5c-42ed-bcaa-4ed95b2e63c3.txt (bbox count: 1)\n",
      "[INFO] Saved YOLO label: .\\test\\labels\\207_213_20_7ed5821c-9b54-4f82-a8bd-74369a51090d.txt (bbox count: 1)\n",
      "[INFO] Saved YOLO label: .\\test\\labels\\209_102_20_9f088cc5-a8c3-47f6-97c8-67029bbbb5a0.txt (bbox count: 1)\n",
      "[INFO] Saved YOLO label: .\\test\\labels\\207_212_20_0953d589-fac6-4e66-9855-4fce705aa2a0.txt (bbox count: 1)\n",
      "[INFO] Saved YOLO label: .\\test\\labels\\207_212_20_3f16cc14-c8af-4810-84c9-8032e7981d54.txt (bbox count: 1)\n",
      "[INFO] Saved YOLO label: .\\test\\labels\\204_102_20_6d626717-3eac-4d1b-a980-266e510dfd15.txt (bbox count: 1)\n",
      "[INFO] Saved YOLO label: .\\test\\labels\\207_102_20_1b203dfd-a9e7-44e1-a099-f34b74fa2144.txt (bbox count: 1)\n",
      "[INFO] Saved YOLO label: .\\test\\labels\\204_101_20_e58d7aea-ed33-4564-991a-b36da5b4aaa9.txt (bbox count: 1)\n",
      "[INFO] Saved YOLO label: .\\test\\labels\\209_102_20_a3ae4aa8-f0a8-4376-b848-219073709c9b.txt (bbox count: 1)\n",
      "[INFO] Saved YOLO label: .\\test\\labels\\209_102_20_55fc4188-c071-4b53-9a7d-cb890595ed82.txt (bbox count: 1)\n",
      "[INFO] Saved YOLO label: .\\test\\labels\\209_102_20_d7d7a24f-8964-4116-8231-8401c84de99f.txt (bbox count: 1)\n",
      "[INFO] Saved YOLO label: .\\test\\labels\\207_102_20_c9e7b41f-75b5-483a-a06e-25cc938015f5.txt (bbox count: 1)\n",
      "[INFO] Saved YOLO label: .\\test\\labels\\207_102_20_d804c93b-df56-4cb9-9638-59e319a97c4f.txt (bbox count: 1)\n",
      "[INFO] Saved YOLO label: .\\test\\labels\\209_102_20_55757cf6-8f60-408f-8fa4-85e814206ae2.txt (bbox count: 1)\n",
      "[INFO] Saved YOLO label: .\\test\\labels\\207_212_20_90ffbe26-b05c-4673-a6c3-4d4a68470733.txt (bbox count: 1)\n",
      "[INFO] Saved YOLO label: .\\test\\labels\\204_102_20_caa95157-f7d6-4987-a8fb-9b08e8f49385.txt (bbox count: 1)\n",
      "[INFO] Saved YOLO label: .\\test\\labels\\209_102_20_794a4114-83f0-4a2a-82a8-8c1eaed3215e.txt (bbox count: 1)\n",
      "[INFO] Saved YOLO label: .\\test\\labels\\205_101_20_c66de6f4-0bb3-4222-b4d4-3c141ba14ffe.txt (bbox count: 1)\n",
      "[INFO] Saved YOLO label: .\\test\\labels\\204_101_20_c8e1f5f7-78ec-4422-961f-2ba8b39dce54.txt (bbox count: 2)\n",
      "[INFO] Saved YOLO label: .\\test\\labels\\205_101_20_b0f357b6-f42d-408e-ad50-8cf1c11fc070.txt (bbox count: 3)\n",
      "[INFO] Saved YOLO label: .\\test\\labels\\205_101_20_cc6dc992-3b24-43d2-9b58-d64f4fe5f6e0.txt (bbox count: 3)\n",
      "[INFO] Saved YOLO label: .\\test\\labels\\209_102_20_089b0ac6-4407-4eee-85ff-ba163ad847e3.txt (bbox count: 1)\n",
      "[INFO] Saved YOLO label: .\\test\\labels\\204_101_20_b3099278-3c6b-4b51-b094-0a5638f13790.txt (bbox count: 3)\n",
      "[INFO] Saved YOLO label: .\\test\\labels\\207_102_20_c9f3b6b4-66c7-41ae-99d5-a6171cd72144.txt (bbox count: 1)\n",
      "[INFO] Saved YOLO label: .\\test\\labels\\207_204_20_cf05926c-93f5-47e7-afa7-6f36c69c72dc.txt (bbox count: 1)\n",
      "[INFO] Saved YOLO label: .\\test\\labels\\207_213_20_e683b334-966a-4dae-9388-206e09dfe61f.txt (bbox count: 1)\n",
      "[INFO] Saved YOLO label: .\\test\\labels\\207_204_20_71399f05-b087-4229-aac3-b24f1aea0856.txt (bbox count: 1)\n",
      "[INFO] Saved YOLO label: .\\test\\labels\\204_101_20_28bb6856-e9cd-4c5a-97db-eaf19581461b.txt (bbox count: 2)\n",
      "[INFO] Saved YOLO label: .\\test\\labels\\205_101_20_b01eac4d-53b0-4459-97c9-3e5399ba901b.txt (bbox count: 1)\n",
      "[INFO] Saved YOLO label: .\\test\\labels\\205_101_20_7f2995c0-d4bc-497e-a25b-238acd3ffe18.txt (bbox count: 1)\n",
      "[INFO] Saved YOLO label: .\\test\\labels\\205_101_20_e8165eaa-ac50-4fdf-8d5b-dcd5a6e6acb2.txt (bbox count: 1)\n",
      "[INFO] Saved YOLO label: .\\test\\labels\\205_101_20_1e762bf8-18e1-4bd4-8840-2881f83e53c5.txt (bbox count: 1)\n",
      "[INFO] Saved YOLO label: .\\test\\labels\\204_102_20_7acf32cd-113b-4d11-b6a9-6087528666b4.txt (bbox count: 1)\n",
      "[INFO] Saved YOLO label: .\\test\\labels\\209_102_20_1fbb6cf2-f3e2-4561-8450-3f5bc1b66f87.txt (bbox count: 1)\n",
      "[INFO] Saved YOLO label: .\\test\\labels\\207_204_20_094c2f83-4cd5-42a9-b00a-32256ec1ac04.txt (bbox count: 1)\n",
      "[INFO] Saved YOLO label: .\\test\\labels\\205_101_20_681cb866-4334-46fb-bf1c-2df11ffecaa8.txt (bbox count: 1)\n",
      "[INFO] Saved YOLO label: .\\test\\labels\\204_101_20_1945d826-3ff0-4703-8cdc-486add0bb18c.txt (bbox count: 1)\n",
      "[INFO] Saved YOLO label: .\\test\\labels\\205_101_20_195c0c6c-69fb-4acc-ae8d-27227b6ea1a1.txt (bbox count: 4)\n",
      "[INFO] Saved YOLO label: .\\test\\labels\\205_101_20_da5bb7c3-f004-459e-b4fc-a0ee3f161a2d.txt (bbox count: 1)\n",
      "[INFO] Saved YOLO label: .\\test\\labels\\207_204_20_5652a9e9-3331-4971-8bd6-85624bfae6c5.txt (bbox count: 1)\n",
      "[INFO] Saved YOLO label: .\\test\\labels\\204_101_20_6eab3567-9e16-41ab-b2aa-a6bdc221d5f1.txt (bbox count: 1)\n",
      "[INFO] Saved YOLO label: .\\test\\labels\\209_102_20_73dc6593-d1d1-4f6f-bed4-4197d8be3483.txt (bbox count: 1)\n",
      "[INFO] Saved YOLO label: .\\test\\labels\\205_101_20_ee43fe3e-380b-4e00-bd91-c5e00d472d70.txt (bbox count: 1)\n",
      "[INFO] Saved YOLO label: .\\test\\labels\\207_212_20_26510f9e-b8ae-4a89-8733-bf658ff159a2.txt (bbox count: 1)\n",
      "[INFO] Saved YOLO label: .\\test\\labels\\205_101_20_0d6a2dc0-10d2-4816-b9ce-70de96a99a73.txt (bbox count: 3)\n",
      "[INFO] Saved YOLO label: .\\test\\labels\\207_204_20_a9ebedf9-8bd5-4e43-ba61-62d2446d5417.txt (bbox count: 1)\n",
      "[INFO] Saved YOLO label: .\\test\\labels\\204_102_20_e46bc3a4-0cad-448d-9f97-1fea8e76f8e4.txt (bbox count: 1)\n",
      "[INFO] Saved YOLO label: .\\test\\labels\\204_101_20_19b761b5-715f-45c1-9bd8-f25df3fea0bd.txt (bbox count: 1)\n",
      "[INFO] Saved YOLO label: .\\test\\labels\\207_212_20_da4ba5e7-93a9-4d9e-8576-477902384bbd.txt (bbox count: 1)\n",
      "[INFO] Saved YOLO label: .\\test\\labels\\209_102_20_c5ffc8e0-7342-4031-af5d-50485af0749c.txt (bbox count: 1)\n",
      "[INFO] Saved YOLO label: .\\test\\labels\\205_101_20_797f5d81-2cce-4e60-960b-9d79448c8936.txt (bbox count: 2)\n",
      "[INFO] Saved YOLO label: .\\test\\labels\\209_102_20_5184e784-78bb-4c3f-9a49-03217ff760a6.txt (bbox count: 1)\n",
      "[INFO] Saved YOLO label: .\\test\\labels\\205_101_20_c1f52da3-9132-4c7a-a34f-d3a7da5d7271.txt (bbox count: 3)\n",
      "[INFO] Saved YOLO label: .\\test\\labels\\209_102_20_3e849a0c-ac4e-4ad9-8fa7-f91bd1d3231e.txt (bbox count: 1)\n",
      "[INFO] Saved YOLO label: .\\test\\labels\\204_101_20_779afb97-a441-4d0f-87b0-ffa63f652d3b.txt (bbox count: 3)\n",
      "[INFO] Saved YOLO label: .\\test\\labels\\205_101_20_98544049-f391-4c40-a4f9-10c1a56dd17c.txt (bbox count: 1)\n",
      "[INFO] Saved YOLO label: .\\test\\labels\\205_101_20_e15ea0e8-6df6-4eff-ac3a-b3450f5876be.txt (bbox count: 1)\n",
      "[INFO] Saved YOLO label: .\\test\\labels\\209_102_20_ea521adb-7442-436d-a885-8f4c275920bc.txt (bbox count: 1)\n",
      "[INFO] Saved YOLO label: .\\test\\labels\\204_102_20_04ab829d-a113-4d39-b0b1-d9434008d672.txt (bbox count: 1)\n",
      "[INFO] Saved YOLO label: .\\test\\labels\\207_102_20_3bff27fb-c000-47c1-a301-5d651c6103cf.txt (bbox count: 1)\n",
      "[INFO] Saved YOLO label: .\\test\\labels\\209_102_20_e90493f7-5244-4ef0-a0b3-6dd4d9c0cbf4.txt (bbox count: 1)\n",
      "[INFO] Saved YOLO label: .\\test\\labels\\205_101_20_75e81a2d-8fba-46e7-8e3b-5ab895fe9e60.txt (bbox count: 2)\n",
      "[INFO] Saved YOLO label: .\\test\\labels\\209_102_20_e584e70d-4c11-4748-9966-a976184af370.txt (bbox count: 1)\n",
      "[INFO] Saved YOLO label: .\\test\\labels\\205_101_20_ea21bc9c-fa65-49fa-840c-47f52d3dc25e.txt (bbox count: 2)\n",
      "[INFO] Saved YOLO label: .\\test\\labels\\209_102_20_5791e8af-e79b-41b5-90ef-76eb517c2816.txt (bbox count: 1)\n",
      "[INFO] Saved YOLO label: .\\test\\labels\\205_101_20_92691c19-0dae-41f1-bea8-b71d6671c3a4.txt (bbox count: 1)\n",
      "[INFO] Saved YOLO label: .\\test\\labels\\209_102_20_e09a66c5-1131-44b9-872b-790c6050864e.txt (bbox count: 1)\n",
      "[INFO] Saved YOLO label: .\\test\\labels\\204_102_20_0edfabdb-3d30-4b46-9ea2-2f858ec738a2.txt (bbox count: 1)\n",
      "[INFO] Saved YOLO label: .\\test\\labels\\209_102_20_a34ad505-f949-4e70-8e02-640e2cedc1ab.txt (bbox count: 1)\n",
      "[INFO] Saved YOLO label: .\\test\\labels\\207_204_20_11d2b9b0-6583-4483-bae5-bdb669c8ca47.txt (bbox count: 1)\n",
      "[INFO] Saved YOLO label: .\\test\\labels\\209_102_20_08ac0abe-8ecb-47f0-8992-11d6c8bbbd7e.txt (bbox count: 1)\n",
      "[INFO] Saved YOLO label: .\\test\\labels\\204_102_20_559076e1-8e65-4a4f-b934-7efa4e3eeb29.txt (bbox count: 1)\n",
      "[INFO] Saved YOLO label: .\\test\\labels\\204_101_20_bfdc6077-6b00-4e0f-bcfc-dd413f5575de.txt (bbox count: 2)\n",
      "[INFO] Saved YOLO label: .\\test\\labels\\205_101_20_10c12573-2715-4235-af78-ee8827971cdf.txt (bbox count: 2)\n",
      "[INFO] Saved YOLO label: .\\test\\labels\\209_102_20_db97835e-8f30-4162-b4bc-4e417ad55ef7.txt (bbox count: 1)\n",
      "[INFO] Saved YOLO label: .\\test\\labels\\204_101_20_ca62ad7e-3311-40ab-b32c-1539d3a81dbc.txt (bbox count: 2)\n",
      "[INFO] Saved YOLO label: .\\test\\labels\\205_101_20_d883545a-0f72-4479-ada9-6e5ef9cea178.txt (bbox count: 1)\n",
      "[INFO] Saved YOLO label: .\\test\\labels\\209_102_20_1560becb-9b6b-444c-92ef-1e00d243a585.txt (bbox count: 1)\n",
      "[INFO] Saved YOLO label: .\\test\\labels\\204_102_20_ec504279-3734-4132-babe-15f005e9acc0.txt (bbox count: 1)\n",
      "[INFO] Saved YOLO label: .\\test\\labels\\207_212_20_edc6f986-aed9-4797-8833-9f3222c715a9.txt (bbox count: 1)\n",
      "[INFO] Saved YOLO label: .\\test\\labels\\205_101_20_1801294d-4d23-4432-856e-218e61446a1f.txt (bbox count: 3)\n",
      "[INFO] Saved YOLO label: .\\test\\labels\\205_101_20_bedd6dad-0c52-4850-acf8-6e91b1ecff41.txt (bbox count: 2)\n",
      "[INFO] Saved YOLO label: .\\test\\labels\\207_204_20_d3532af8-6160-4fa5-ac49-53d015139694.txt (bbox count: 1)\n",
      "[INFO] Saved YOLO label: .\\test\\labels\\205_101_20_456c9803-f22a-499e-8efc-9da316c7db32.txt (bbox count: 2)\n",
      "[INFO] Saved YOLO label: .\\test\\labels\\205_101_20_8ae71814-b913-4dae-a536-503b8752dcbe.txt (bbox count: 2)\n",
      "[INFO] Saved YOLO label: .\\test\\labels\\209_102_20_af2c26be-cb0d-4d37-9acb-3d4201c11828.txt (bbox count: 1)\n",
      "[INFO] Saved YOLO label: .\\test\\labels\\205_101_20_7b2353a0-dbd5-4ea4-811d-933621c21712.txt (bbox count: 1)\n",
      "[INFO] Saved YOLO label: .\\test\\labels\\207_213_20_2c99267d-f03a-4b38-9e56-b0439e7fa074.txt (bbox count: 1)\n",
      "[INFO] Saved YOLO label: .\\test\\labels\\209_102_20_03efa120-f38b-4b75-a3e3-947f69c63753.txt (bbox count: 1)\n",
      "[INFO] Saved YOLO label: .\\test\\labels\\207_212_20_a3427944-8db8-48c2-b3aa-332cc496b72e.txt (bbox count: 1)\n",
      "[INFO] Saved YOLO label: .\\test\\labels\\204_101_20_af9e8414-92f1-474f-a5e5-d842b8a2dfaf.txt (bbox count: 1)\n",
      "[INFO] Saved YOLO label: .\\test\\labels\\204_101_20_e4758eb9-a8ca-4792-bcaa-cbc564e13c6c.txt (bbox count: 3)\n",
      "[INFO] Saved YOLO label: .\\test\\labels\\207_213_20_003f493a-db86-46ad-96d0-3586e4e34841.txt (bbox count: 1)\n",
      "[INFO] Saved YOLO label: .\\test\\labels\\207_213_20_79ba92bb-3d13-4119-9bc9-5c0f8ee5a6cf.txt (bbox count: 1)\n",
      "[INFO] Saved YOLO label: .\\test\\labels\\205_101_20_918912e5-e3fa-438f-b4ca-d899b5834e07.txt (bbox count: 1)\n",
      "[INFO] Saved YOLO label: .\\test\\labels\\207_213_20_f4f2ee14-2220-475c-8d85-5926d57c4bc3.txt (bbox count: 1)\n",
      "[INFO] Saved YOLO label: .\\test\\labels\\207_213_20_c5e0f452-4eaa-4109-9b70-3c5fd1fe88d0.txt (bbox count: 1)\n",
      "[INFO] Saved YOLO label: .\\test\\labels\\204_101_20_9c3e5a33-ae43-4c59-a251-a991e4f69c88.txt (bbox count: 3)\n",
      "[INFO] Saved YOLO label: .\\test\\labels\\207_204_20_77fbc084-8b6a-46f7-a9f8-d7dc340c42e8.txt (bbox count: 1)\n",
      "[INFO] Saved YOLO label: .\\test\\labels\\209_102_20_cf69d23b-332d-495e-a9ea-f71182615a79.txt (bbox count: 1)\n",
      "[INFO] Saved YOLO label: .\\test\\labels\\204_101_20_99bb0c1e-732a-4710-9fcc-1032056a3f7c.txt (bbox count: 1)\n",
      "[INFO] Saved YOLO label: .\\test\\labels\\207_213_20_c1cd93fd-b536-442b-aa05-58b82aacfb2a.txt (bbox count: 1)\n",
      "[INFO] Saved YOLO label: .\\test\\labels\\204_101_20_c051d092-52d7-4fa3-9e96-0e06f05831b2.txt (bbox count: 3)\n",
      "[INFO] Saved YOLO label: .\\test\\labels\\207_213_20_8fc867ba-f7fc-46fc-8179-93aa767237f1.txt (bbox count: 1)\n",
      "[INFO] Saved YOLO label: .\\test\\labels\\209_102_20_1fecb91a-5d28-4722-b9c9-a03db9ea80a3.txt (bbox count: 1)\n",
      "[INFO] Saved YOLO label: .\\test\\labels\\204_101_20_333f7355-18a7-4457-bdf7-6eeff0420126.txt (bbox count: 1)\n",
      "[INFO] Saved YOLO label: .\\test\\labels\\207_102_20_28ffef45-75c1-49ab-9e23-bad53b42a38d.txt (bbox count: 1)\n",
      "[INFO] Saved YOLO label: .\\test\\labels\\209_102_20_ff2b1ba7-cba6-4408-9762-99be02a03543.txt (bbox count: 1)\n",
      "[INFO] Saved YOLO label: .\\test\\labels\\204_102_20_060132a6-a65a-46a4-8dab-2ad297d2e347.txt (bbox count: 1)\n",
      "[INFO] Saved YOLO label: .\\test\\labels\\205_101_20_d7504074-f53e-4c44-84ec-636e61f902ac.txt (bbox count: 1)\n",
      "[INFO] Saved YOLO label: .\\test\\labels\\207_204_20_6e77affe-cf3e-45fc-8672-f037c0a1efe9.txt (bbox count: 1)\n",
      "[INFO] Saved YOLO label: .\\test\\labels\\209_102_20_3bc1badf-b2dd-4a87-bfa0-7d97b3db536c.txt (bbox count: 1)\n",
      "[INFO] Saved YOLO label: .\\test\\labels\\209_102_20_be29a65d-e49e-4361-b10f-442a7c5993a7.txt (bbox count: 1)\n",
      "[INFO] Saved YOLO label: .\\test\\labels\\205_101_20_222b9735-3843-4812-b3ad-b9037205440b.txt (bbox count: 1)\n",
      "[INFO] Saved YOLO label: .\\test\\labels\\207_213_20_4b1aaef5-ae06-4d89-b2ca-cc287e78ce1f.txt (bbox count: 1)\n",
      "[INFO] Saved YOLO label: .\\test\\labels\\205_101_20_b7bbb077-367e-428d-833c-5f4685222fc9.txt (bbox count: 1)\n",
      "[INFO] Saved YOLO label: .\\test\\labels\\204_101_20_23d910d8-30cf-4ad4-bdc5-dad0155aa629.txt (bbox count: 1)\n",
      "[INFO] Saved YOLO label: .\\test\\labels\\207_212_20_ca4e32be-b210-4554-9fef-36997c8cca9f.txt (bbox count: 1)\n",
      "[INFO] Saved YOLO label: .\\test\\labels\\204_101_20_8429ceb0-5743-4639-9998-01856e8e189c.txt (bbox count: 1)\n",
      "[INFO] Saved YOLO label: .\\test\\labels\\204_102_20_c19435eb-479d-4b3e-b685-17f49f629bc2.txt (bbox count: 1)\n",
      "[INFO] Saved YOLO label: .\\test\\labels\\205_101_20_0f7e8b6d-11ee-4ab0-9b18-27a0e33b4bf8.txt (bbox count: 2)\n",
      "[INFO] Saved YOLO label: .\\test\\labels\\207_212_20_4e9c3224-f70e-42fd-ab3c-12b2865d9d81.txt (bbox count: 1)\n",
      "[INFO] Saved YOLO label: .\\test\\labels\\204_101_20_13e91180-40bc-47be-8490-01105a34d1e8.txt (bbox count: 1)\n",
      "[INFO] Saved YOLO label: .\\test\\labels\\204_102_20_1c9b8f1c-795c-4d5a-8793-64fcc9d9bca7.txt (bbox count: 1)\n",
      "[INFO] Saved YOLO label: .\\test\\labels\\209_102_20_ac47af8a-87b8-4575-8b74-3f8451954cd0.txt (bbox count: 1)\n",
      "[INFO] Saved YOLO label: .\\test\\labels\\207_204_20_ef8e8077-4724-44bb-9c47-10c19c5ab3dc.txt (bbox count: 1)\n",
      "[INFO] Saved YOLO label: .\\test\\labels\\209_102_20_b297de89-fc1f-4e52-bdec-bab9f9a4a1de.txt (bbox count: 1)\n",
      "[INFO] Saved YOLO label: .\\test\\labels\\205_101_20_d7401bb8-5fc3-4ebf-9230-c22d4a963a24.txt (bbox count: 1)\n",
      "[INFO] Saved YOLO label: .\\test\\labels\\204_101_20_02fc9c73-4646-43a3-bd19-468e188ad9d5.txt (bbox count: 2)\n",
      "[INFO] Saved YOLO label: .\\test\\labels\\205_101_20_37b62452-edb8-4140-8170-fa287b42ae30.txt (bbox count: 2)\n",
      "[INFO] Saved YOLO label: .\\test\\labels\\204_101_20_7124d72f-6061-4a4d-a9e4-49016ca14d6d.txt (bbox count: 1)\n",
      "[INFO] Saved YOLO label: .\\test\\labels\\209_102_20_50b3d4a7-773f-4659-a69b-0b158c91e043.txt (bbox count: 1)\n",
      "[INFO] Saved YOLO label: .\\test\\labels\\207_102_20_70f1ff21-9f8b-4749-866e-46f77fbc729f.txt (bbox count: 1)\n",
      "[INFO] Saved YOLO label: .\\test\\labels\\205_101_20_fd85d45d-a85c-4f17-9f98-2cdc7def12b9.txt (bbox count: 2)\n",
      "[INFO] Saved YOLO label: .\\test\\labels\\209_102_20_1c53991d-919b-4bb0-8e85-4cd97aa5df21.txt (bbox count: 1)\n",
      "[INFO] Saved YOLO label: .\\test\\labels\\205_101_20_7d8a2cc1-99b7-4b95-ace2-e562986a8383.txt (bbox count: 1)\n",
      "[INFO] Saved YOLO label: .\\test\\labels\\207_102_20_2de5d3c6-7183-4366-bf4b-a812bbdc625e.txt (bbox count: 1)\n",
      "[INFO] Saved YOLO label: .\\test\\labels\\205_101_20_c0ad00ef-c332-4d65-ad7f-bfcae20146a7.txt (bbox count: 3)\n",
      "[INFO] Saved YOLO label: .\\test\\labels\\204_101_20_5d4c8028-8673-43d4-a242-0d1d4dff29e8.txt (bbox count: 3)\n",
      "[INFO] Saved YOLO label: .\\test\\labels\\205_101_20_bb13741d-772d-4ccd-8265-c2f67ad22ad2.txt (bbox count: 3)\n",
      "[INFO] Saved YOLO label: .\\test\\labels\\207_212_20_b106e185-3f9c-4419-af51-7fc6ece4eb8f.txt (bbox count: 1)\n",
      "[INFO] Saved YOLO label: .\\test\\labels\\204_101_20_d46cf98f-0c03-4cbb-8c9e-e1c9f3a4a4c4.txt (bbox count: 3)\n",
      "[INFO] Saved YOLO label: .\\test\\labels\\204_101_20_8e31d818-6e37-44cf-a09b-9d96c8d0fa9a.txt (bbox count: 1)\n",
      "[INFO] Saved YOLO label: .\\test\\labels\\204_101_20_2948e867-f84b-49ba-9aca-e6b65f1ba10d.txt (bbox count: 1)\n",
      "[INFO] Saved YOLO label: .\\test\\labels\\205_101_20_132445b3-1d7e-4b08-81b3-15aba31eeca3.txt (bbox count: 2)\n",
      "[INFO] Saved YOLO label: .\\test\\labels\\207_213_20_f98f6e11-3174-4265-9729-3b0690ef8add.txt (bbox count: 1)\n",
      "[INFO] Saved YOLO label: .\\test\\labels\\209_102_20_108195fd-2379-4eb9-a3c2-64e22fa59c12.txt (bbox count: 1)\n",
      "[INFO] Saved YOLO label: .\\test\\labels\\207_212_20_1835853e-6f71-46ed-8719-c40fa81259e0.txt (bbox count: 1)\n",
      "[INFO] Saved YOLO label: .\\test\\labels\\209_102_20_9feb16b6-71a7-493e-a261-65db69aa2a20.txt (bbox count: 1)\n",
      "[INFO] Saved YOLO label: .\\test\\labels\\209_102_20_9aae75f9-e6ba-451e-ab74-c58913a9a361.txt (bbox count: 1)\n",
      "[INFO] Saved YOLO label: .\\test\\labels\\207_102_20_1eca9bc5-268b-47c8-b2b8-a96add8e4216.txt (bbox count: 1)\n",
      "[INFO] Saved YOLO label: .\\test\\labels\\209_102_20_425dcf02-9d40-495d-8cd8-94eca1c7aeaa.txt (bbox count: 1)\n",
      "[INFO] Saved YOLO label: .\\test\\labels\\205_101_20_e6a5f318-d9d0-4967-b68c-72fe63cd336b.txt (bbox count: 1)\n",
      "[INFO] Saved YOLO label: .\\test\\labels\\207_204_20_9dccff46-5e07-4786-9dd0-9a214ec6442b.txt (bbox count: 1)\n",
      "[INFO] Saved YOLO label: .\\test\\labels\\207_212_20_17604d73-34be-4f30-b809-263770ca6cc8.txt (bbox count: 1)\n",
      "[INFO] Saved YOLO label: .\\test\\labels\\205_101_20_ecdbfc7f-e502-4adb-bb3f-540d3662d21d.txt (bbox count: 1)\n",
      "[INFO] Saved YOLO label: .\\test\\labels\\205_101_20_b72d3d48-93f9-4995-bf5c-c3e105d9dd02.txt (bbox count: 2)\n",
      "[INFO] Saved YOLO label: .\\test\\labels\\204_101_20_3f49ccf9-3e3c-4be4-b524-50590b87bcc3.txt (bbox count: 3)\n",
      "[INFO] Saved YOLO label: .\\test\\labels\\204_101_20_cc6d836d-dda8-4818-887c-55f422d205a5.txt (bbox count: 2)\n",
      "[INFO] Saved YOLO label: .\\test\\labels\\205_101_20_bbcbd831-a2b2-4041-8d80-a3a283bdc806.txt (bbox count: 1)\n",
      "[INFO] Saved YOLO label: .\\test\\labels\\207_102_20_739cb4ae-c563-473a-ab8f-acf4c2908e2b.txt (bbox count: 1)\n",
      "[INFO] Saved YOLO label: .\\test\\labels\\205_101_20_8f96d9b9-055a-432f-9212-7a4ad38011ea.txt (bbox count: 1)\n",
      "[INFO] Saved YOLO label: .\\test\\labels\\204_102_20_6cd19d33-a5d0-4468-a12b-be9228a02284.txt (bbox count: 1)\n",
      "[INFO] Saved YOLO label: .\\test\\labels\\205_101_20_148b47e2-a1c8-4729-bba0-1683e5d3d4f9.txt (bbox count: 3)\n",
      "[INFO] Saved YOLO label: .\\test\\labels\\204_101_20_02988387-46e4-4d0e-9ab0-bbede09fd62c.txt (bbox count: 2)\n",
      "[INFO] Saved YOLO label: .\\test\\labels\\205_101_20_76bd8642-2fec-4dae-a963-69924bf9e566.txt (bbox count: 1)\n",
      "[INFO] Saved YOLO label: .\\test\\labels\\204_101_20_cb2264b0-edff-4ea0-be12-3146f7c03655.txt (bbox count: 1)\n",
      "[INFO] Saved YOLO label: .\\test\\labels\\205_101_20_d62403fc-1c11-400e-a360-c7f1dde3b275.txt (bbox count: 2)\n",
      "[INFO] Saved YOLO label: .\\test\\labels\\205_101_20_4b8c05ca-5367-4af4-a52e-cf1a4dbb45f8.txt (bbox count: 3)\n",
      "[INFO] Saved YOLO label: .\\test\\labels\\207_204_20_3bad5400-c1d1-4c31-b033-653fee2230ee.txt (bbox count: 1)\n",
      "[INFO] Saved YOLO label: .\\test\\labels\\209_102_20_8dec289b-3800-4346-88ba-6a1af8a6bd5f.txt (bbox count: 1)\n",
      "[INFO] Saved YOLO label: .\\test\\labels\\205_101_20_c0c3bec9-c650-431e-b451-58ee1f940ef6.txt (bbox count: 1)\n",
      "[INFO] Saved YOLO label: .\\test\\labels\\204_101_20_bdedc509-4f73-40c3-864b-fa547c5740a9.txt (bbox count: 2)\n",
      "[INFO] Saved YOLO label: .\\test\\labels\\205_101_20_9767b740-611f-41c2-b5a2-d6b778f238a2.txt (bbox count: 1)\n",
      "[INFO] Saved YOLO label: .\\test\\labels\\209_102_20_e181303e-8650-448d-aea9-1377def62e75.txt (bbox count: 1)\n",
      "[INFO] Saved YOLO label: .\\test\\labels\\204_102_20_e1ffc3a6-3fbe-419b-8399-db9eed0e2d7e.txt (bbox count: 1)\n",
      "[INFO] Saved YOLO label: .\\test\\labels\\204_102_20_1edadd07-2aee-4f08-bfb9-36dbc6c21628.txt (bbox count: 1)\n",
      "[INFO] Saved YOLO label: .\\test\\labels\\209_102_20_287787e6-f66e-43f9-b86d-39604bad6fa8.txt (bbox count: 1)\n",
      "[INFO] Saved YOLO label: .\\test\\labels\\209_102_20_59af1cd2-19ce-4b3d-bc51-53ea554f4663.txt (bbox count: 1)\n",
      "[INFO] Saved YOLO label: .\\test\\labels\\204_102_20_95b6a695-ff30-47bd-9857-746cd0228a78.txt (bbox count: 1)\n",
      "[INFO] Saved YOLO label: .\\test\\labels\\207_204_20_53376b7f-dfaf-4fc5-a1aa-2c5814ab7a28.txt (bbox count: 1)\n",
      "[INFO] Saved YOLO label: .\\test\\labels\\204_101_20_e562470c-a48b-45ec-8eda-856fae823f44.txt (bbox count: 1)\n",
      "[INFO] Saved YOLO label: .\\test\\labels\\204_101_20_8738532c-46dc-467d-a282-7f5620ce3039.txt (bbox count: 2)\n",
      "[INFO] Saved YOLO label: .\\test\\labels\\207_102_20_1ff96145-6e1f-45cf-9e63-8d566d62f05d.txt (bbox count: 1)\n",
      "[INFO] Saved YOLO label: .\\test\\labels\\205_101_20_b9f510d8-1195-4050-b3e2-8aecf0002251.txt (bbox count: 1)\n",
      "[INFO] Saved YOLO label: .\\test\\labels\\204_101_20_426dd292-5ea2-4d56-8248-3bf78f254dfb.txt (bbox count: 1)\n",
      "[INFO] Saved YOLO label: .\\test\\labels\\207_213_20_210ac8cf-aa5d-4a79-b347-f4ff1c94f1ee.txt (bbox count: 1)\n",
      "[INFO] Saved YOLO label: .\\test\\labels\\205_101_20_960e8273-f5f3-4a30-baf6-e3a445f2535d.txt (bbox count: 1)\n",
      "[INFO] Saved YOLO label: .\\test\\labels\\204_102_20_cb2c0412-0e78-427d-a01a-771ff025d17f.txt (bbox count: 1)\n",
      "[INFO] Saved YOLO label: .\\test\\labels\\205_101_20_936f6332-7ba4-4a35-8487-3fc0aa3aa422.txt (bbox count: 2)\n",
      "[INFO] Saved YOLO label: .\\test\\labels\\204_101_20_941ca400-32ed-4500-a207-3d249cc1bcd9.txt (bbox count: 1)\n",
      "[INFO] Saved YOLO label: .\\valid\\labels\\204_101_20_f3ae0a03-ab03-4d55-8c72-ad7a5c8055b2.txt (bbox count: 1)\n",
      "[INFO] Saved YOLO label: .\\valid\\labels\\207_213_20_346d4426-b8e1-409e-bf51-436970c737ec.txt (bbox count: 1)\n",
      "[INFO] Saved YOLO label: .\\valid\\labels\\205_101_20_b0d79412-7403-470d-a97c-26961ae8262e.txt (bbox count: 2)\n",
      "[INFO] Saved YOLO label: .\\valid\\labels\\204_102_20_3a4a14d3-e80c-45b4-9ee8-422f910e062c.txt (bbox count: 1)\n",
      "[INFO] Saved YOLO label: .\\valid\\labels\\209_102_20_6aee2ec1-0baa-4188-860f-40d01425741b.txt (bbox count: 1)\n",
      "[INFO] Saved YOLO label: .\\valid\\labels\\207_212_20_f945b808-c092-43b5-85e3-4375723432ab.txt (bbox count: 1)\n",
      "[INFO] Saved YOLO label: .\\valid\\labels\\209_102_20_0a5d6837-85cd-4e03-a376-f461d343175e.txt (bbox count: 1)\n",
      "[INFO] Saved YOLO label: .\\valid\\labels\\207_212_20_8705eb22-90e0-47e9-b942-13f4a7e307a7.txt (bbox count: 1)\n",
      "[INFO] Saved YOLO label: .\\valid\\labels\\205_101_20_b51fae81-1bff-436e-91a8-60ed6a3db231.txt (bbox count: 2)\n",
      "[INFO] Saved YOLO label: .\\valid\\labels\\205_101_20_87fd01b5-6c2f-4217-b75a-b61d78684990.txt (bbox count: 1)\n",
      "[INFO] Saved YOLO label: .\\valid\\labels\\204_101_20_82fb7411-44ad-4e8a-ac55-c7de8338f0ed.txt (bbox count: 2)\n",
      "[INFO] Saved YOLO label: .\\valid\\labels\\207_212_20_3d23492d-b732-4dbb-afb3-2365fab69c80.txt (bbox count: 1)\n",
      "[INFO] Saved YOLO label: .\\valid\\labels\\204_102_20_f1d60f93-5bf9-4f1a-853f-20de3ce8dbab.txt (bbox count: 1)\n",
      "[INFO] Saved YOLO label: .\\valid\\labels\\207_213_20_30b7cd59-7b85-4a9e-98af-15c4d7fa88b3.txt (bbox count: 1)\n",
      "[INFO] Saved YOLO label: .\\valid\\labels\\205_101_20_1fc4ded0-52ed-4017-aeba-258d8c87ead7.txt (bbox count: 2)\n",
      "[INFO] Saved YOLO label: .\\valid\\labels\\204_101_20_ef6d7f89-6904-47a1-8720-9be53dc88848.txt (bbox count: 2)\n",
      "[INFO] Saved YOLO label: .\\valid\\labels\\205_101_20_450e3abc-eff8-4f06-9b91-de57b46d57f4.txt (bbox count: 2)\n",
      "[INFO] Saved YOLO label: .\\valid\\labels\\207_212_20_618a3e74-f203-47f4-a3c7-713853f6062b.txt (bbox count: 1)\n",
      "[INFO] Saved YOLO label: .\\valid\\labels\\207_102_20_86491006-1301-4ffc-b4e8-069f21ce21d4.txt (bbox count: 1)\n",
      "[INFO] Saved YOLO label: .\\valid\\labels\\209_102_20_da2a2dbd-c401-4b63-bd17-aa1f008c137a.txt (bbox count: 1)\n",
      "[INFO] Saved YOLO label: .\\valid\\labels\\205_101_20_bad638de-0ddf-48ea-a1c6-9e613c5a2ee9.txt (bbox count: 2)\n",
      "[INFO] Saved YOLO label: .\\valid\\labels\\207_204_20_ee629be2-c6fe-419f-a140-f24fb0b9ff7d.txt (bbox count: 1)\n",
      "[INFO] Saved YOLO label: .\\valid\\labels\\205_101_20_20c345c1-e147-4445-b298-e1611c6683dd.txt (bbox count: 1)\n",
      "[INFO] Saved YOLO label: .\\valid\\labels\\205_101_20_6af24df1-7a6c-423c-8d8e-ed6168d6d835.txt (bbox count: 3)\n",
      "[INFO] Saved YOLO label: .\\valid\\labels\\209_102_20_ae8dac83-8973-4708-acea-a99e65c9c490.txt (bbox count: 1)\n",
      "[INFO] Saved YOLO label: .\\valid\\labels\\207_212_20_6262bcf5-9a00-4ce5-bb02-ae98f85ba845.txt (bbox count: 1)\n",
      "[INFO] Saved YOLO label: .\\valid\\labels\\204_102_20_f37ea539-00ee-4b16-8a1f-9906796cb4f8.txt (bbox count: 1)\n",
      "[INFO] Saved YOLO label: .\\valid\\labels\\205_101_20_7200783d-eca1-48a5-9284-7006359cea47.txt (bbox count: 4)\n",
      "[INFO] Saved YOLO label: .\\valid\\labels\\204_101_20_eb80f4f8-fe61-4df3-bb2c-95913af00f20.txt (bbox count: 1)\n",
      "[INFO] Saved YOLO label: .\\valid\\labels\\209_102_20_b424e74f-2a3a-472e-8a07-c956b5b0017f.txt (bbox count: 1)\n",
      "[INFO] Saved YOLO label: .\\valid\\labels\\207_212_20_a473f61a-6489-42ad-a1d6-16a5e3247472.txt (bbox count: 1)\n",
      "[INFO] Saved YOLO label: .\\valid\\labels\\207_102_20_f3a606d1-5d5e-40d9-bb04-252542c548d8.txt (bbox count: 1)\n",
      "[INFO] Saved YOLO label: .\\valid\\labels\\204_101_20_9c8fd099-46d8-4dd1-b4d7-04f8c7f6dfc3.txt (bbox count: 5)\n",
      "[INFO] Saved YOLO label: .\\valid\\labels\\205_101_20_05b3c0bd-56f5-4f7f-b9cd-ffae79ac1980.txt (bbox count: 1)\n",
      "[INFO] Saved YOLO label: .\\valid\\labels\\205_101_20_01b310ee-67a2-4e23-bcdc-0bb456bb2f88.txt (bbox count: 3)\n",
      "[INFO] Saved YOLO label: .\\valid\\labels\\204_102_20_bc40ba71-e0a2-4c82-9212-e4ed4dc41289.txt (bbox count: 1)\n",
      "[INFO] Saved YOLO label: .\\valid\\labels\\204_101_20_341c1659-0ed4-4c1c-8541-62f92f781c7e.txt (bbox count: 2)\n",
      "[INFO] Saved YOLO label: .\\valid\\labels\\204_101_20_e74cacec-a2d1-4b35-8197-4e1c7814feb5.txt (bbox count: 1)\n",
      "[INFO] Saved YOLO label: .\\valid\\labels\\207_213_20_9096e733-fd6c-419e-b66c-4ac538eb3b6b.txt (bbox count: 1)\n",
      "[INFO] Saved YOLO label: .\\valid\\labels\\205_101_20_43cc39c1-858c-4444-850e-0a761775a914.txt (bbox count: 2)\n",
      "[INFO] Saved YOLO label: .\\valid\\labels\\205_101_20_ba05d36c-61e3-4802-b505-36decdccb362.txt (bbox count: 1)\n",
      "[INFO] Saved YOLO label: .\\valid\\labels\\204_101_20_2df449e4-6879-40a1-bd70-eba93a6c5d68.txt (bbox count: 1)\n",
      "[INFO] Saved YOLO label: .\\valid\\labels\\205_101_20_644b278e-8d28-4de9-846c-f0d6bae57930.txt (bbox count: 2)\n",
      "[INFO] Saved YOLO label: .\\valid\\labels\\207_212_20_ee965277-5c13-49fa-99fe-4c10a7903344.txt (bbox count: 1)\n",
      "[INFO] Saved YOLO label: .\\valid\\labels\\205_101_20_4e571e02-a23d-4b5f-a324-42fbcedd6479.txt (bbox count: 2)\n",
      "[INFO] Saved YOLO label: .\\valid\\labels\\209_102_20_58501b7b-a6f3-4f64-a01f-fc4ac8f13fec.txt (bbox count: 1)\n",
      "[INFO] Saved YOLO label: .\\valid\\labels\\209_102_20_7a5d08b8-a04c-448c-96a6-8172c4eb8be6.txt (bbox count: 1)\n",
      "[INFO] Saved YOLO label: .\\valid\\labels\\207_212_20_8b0e8863-1d04-407c-b64d-c012ef8f750b.txt (bbox count: 1)\n",
      "[INFO] Saved YOLO label: .\\valid\\labels\\207_212_20_d73a5890-a639-4232-8236-efd0a0e87ad5.txt (bbox count: 1)\n",
      "[INFO] Saved YOLO label: .\\valid\\labels\\209_102_20_a9823ce7-c943-455f-b677-ce171a5939cf.txt (bbox count: 1)\n",
      "[INFO] Saved YOLO label: .\\valid\\labels\\205_101_20_a9ff5dc2-b9db-445b-9ab0-91e309a88a5c.txt (bbox count: 2)\n",
      "[INFO] Saved YOLO label: .\\valid\\labels\\205_101_20_2f9af7c2-8ca0-440f-ada1-20f199203753.txt (bbox count: 1)\n",
      "[INFO] Saved YOLO label: .\\valid\\labels\\207_212_20_3a432e31-7e95-40c1-8d67-2b5d9cd46cb1.txt (bbox count: 1)\n",
      "[INFO] Saved YOLO label: .\\valid\\labels\\209_102_20_877d4ce1-3cef-4ed0-913a-9b41a373e724.txt (bbox count: 1)\n",
      "[INFO] Saved YOLO label: .\\valid\\labels\\209_102_20_1380d136-cc3a-46cd-96cd-6a8e80d4a6de.txt (bbox count: 1)\n",
      "[INFO] Saved YOLO label: .\\valid\\labels\\207_212_20_869cb188-398e-4202-bdb6-22f00ba592ce.txt (bbox count: 1)\n",
      "[INFO] Saved YOLO label: .\\valid\\labels\\204_102_20_51c0367d-6877-4934-9b4c-da1fec852f68.txt (bbox count: 1)\n",
      "[INFO] Saved YOLO label: .\\valid\\labels\\204_101_20_fb8b4a03-92ef-4e99-bd0f-7196e211be88.txt (bbox count: 1)\n",
      "[INFO] Saved YOLO label: .\\valid\\labels\\205_101_20_46f0736a-6995-4761-bea5-2565b2c94f10.txt (bbox count: 2)\n",
      "[INFO] Saved YOLO label: .\\valid\\labels\\205_101_20_db748d3d-33ae-40a6-b6bb-9d135b0b68b3.txt (bbox count: 1)\n",
      "[INFO] Saved YOLO label: .\\valid\\labels\\207_204_20_13e09fcc-368d-42e1-94c8-4d513bb0a70f.txt (bbox count: 1)\n",
      "[INFO] Saved YOLO label: .\\valid\\labels\\209_102_20_d187afe3-02fb-4bfd-8a8e-b1b939f1c519.txt (bbox count: 1)\n",
      "[INFO] Saved YOLO label: .\\valid\\labels\\204_101_20_8567da01-1186-4966-9934-ba1de65a994f.txt (bbox count: 2)\n",
      "[INFO] Saved YOLO label: .\\valid\\labels\\205_101_20_1ade9cb2-e9d1-4bac-9d7e-a1812cf6b073.txt (bbox count: 2)\n",
      "[INFO] Saved YOLO label: .\\valid\\labels\\207_204_20_64fbe50c-fa1d-4654-9063-8cdaccb636da.txt (bbox count: 1)\n",
      "[INFO] Saved YOLO label: .\\valid\\labels\\209_102_20_a7dc13ea-7399-4526-a7d8-6c214924a254.txt (bbox count: 1)\n",
      "[INFO] Saved YOLO label: .\\valid\\labels\\209_102_20_203f8d87-8bb7-41a2-83ce-49a28b7b9bfe.txt (bbox count: 1)\n",
      "[INFO] Saved YOLO label: .\\valid\\labels\\205_101_20_f6f5c2e8-db88-4609-ac8c-335d845ffda7.txt (bbox count: 3)\n",
      "[INFO] Saved YOLO label: .\\valid\\labels\\209_102_20_bd1da5cb-c68e-4142-a094-e878ea77a00c.txt (bbox count: 1)\n",
      "[INFO] Saved YOLO label: .\\valid\\labels\\205_101_20_8c6902bc-0e69-4aa7-9400-12e1078887f8.txt (bbox count: 1)\n",
      "[INFO] Saved YOLO label: .\\valid\\labels\\204_101_20_a7b69be9-32cd-429d-bd50-03b6d6edbc5c.txt (bbox count: 2)\n",
      "[INFO] Saved YOLO label: .\\valid\\labels\\209_102_20_50c3d70b-cbde-4444-98e1-aa591c518bf3.txt (bbox count: 1)\n",
      "[INFO] Saved YOLO label: .\\valid\\labels\\207_102_20_5608be95-50d0-4dbf-92e4-b7e54c655570.txt (bbox count: 1)\n",
      "[INFO] Saved YOLO label: .\\valid\\labels\\205_101_20_e7b95228-c0bc-45ec-a902-5f3eb486229a.txt (bbox count: 4)\n",
      "[INFO] Saved YOLO label: .\\valid\\labels\\204_101_20_a6227dc7-2392-4032-bd0a-2082257921f1.txt (bbox count: 1)\n",
      "[INFO] Saved YOLO label: .\\valid\\labels\\204_102_20_1973c23a-3cd3-4fe8-8d36-f1c5044c1bf7.txt (bbox count: 1)\n",
      "[INFO] Saved YOLO label: .\\valid\\labels\\209_102_20_b576382c-4e54-4535-ad01-3df153582e3b.txt (bbox count: 1)\n",
      "[INFO] Saved YOLO label: .\\valid\\labels\\204_101_20_3165450e-7e6a-4bc0-be1a-492ea1e580ae.txt (bbox count: 1)\n",
      "[INFO] Saved YOLO label: .\\valid\\labels\\204_101_20_25e3c3c7-e078-4332-8bc1-730a1e18dab9.txt (bbox count: 2)\n",
      "[INFO] Saved YOLO label: .\\valid\\labels\\207_102_20_26295b2d-6429-478a-b180-062033e03bfd.txt (bbox count: 1)\n",
      "[INFO] Saved YOLO label: .\\valid\\labels\\209_102_20_dcf45dd8-9fa4-49f2-b44b-168f6656fa4b.txt (bbox count: 1)\n",
      "[INFO] Saved YOLO label: .\\valid\\labels\\205_101_20_da27feb8-de81-4a62-9769-fb1db2e92e9e.txt (bbox count: 2)\n",
      "[INFO] Saved YOLO label: .\\valid\\labels\\205_101_20_64059004-f6a7-4fb6-a8b9-31466966a956.txt (bbox count: 1)\n",
      "[INFO] Saved YOLO label: .\\valid\\labels\\205_101_20_cb1a8fd7-96cd-4f5d-b64e-6e57be8ecad3.txt (bbox count: 2)\n",
      "[INFO] Saved YOLO label: .\\valid\\labels\\207_213_20_9716c4da-b894-47aa-810c-54a2fbd9fd42.txt (bbox count: 1)\n",
      "[INFO] Saved YOLO label: .\\valid\\labels\\209_102_20_e475c844-36bc-458d-be44-7bf4e57cdbee.txt (bbox count: 1)\n",
      "[INFO] Saved YOLO label: .\\valid\\labels\\207_212_20_624c0bfb-f341-4d81-aa5e-998ab5eccc79.txt (bbox count: 1)\n",
      "[INFO] Saved YOLO label: .\\valid\\labels\\207_212_20_9ff2536c-4ea9-457b-a073-3cdf79d0c3e5.txt (bbox count: 1)\n",
      "[INFO] Saved YOLO label: .\\valid\\labels\\207_212_20_93021da1-dd84-4704-b5a2-bc6b586d6841.txt (bbox count: 1)\n",
      "[INFO] Saved YOLO label: .\\valid\\labels\\205_101_20_52c060ea-474a-434b-a60e-bba210bf35f0.txt (bbox count: 1)\n",
      "[INFO] Saved YOLO label: .\\valid\\labels\\207_212_20_b1b7d5ed-e16b-42db-a085-533865cee65b.txt (bbox count: 1)\n",
      "[INFO] Saved YOLO label: .\\valid\\labels\\204_101_20_3696e706-ba9f-4645-a0ea-151997eeeca2.txt (bbox count: 1)\n",
      "[INFO] Saved YOLO label: .\\valid\\labels\\204_101_20_db4fb9d3-4d28-4025-bf8d-98a96a7173a7.txt (bbox count: 1)\n",
      "[INFO] Saved YOLO label: .\\valid\\labels\\205_101_20_f6799ae6-5a52-48c6-9fe7-0926e39b9058.txt (bbox count: 2)\n",
      "[INFO] Saved YOLO label: .\\valid\\labels\\205_101_20_a36039aa-d63d-411b-81a6-d00b23cfdd9a.txt (bbox count: 2)\n",
      "[INFO] Saved YOLO label: .\\valid\\labels\\204_102_20_5a8a8353-87ba-4542-9c5c-3b4a8e0ce766.txt (bbox count: 1)\n",
      "[INFO] Saved YOLO label: .\\valid\\labels\\209_102_20_bf019acb-0197-4208-a43b-cd2625bef89e.txt (bbox count: 1)\n",
      "[INFO] Saved YOLO label: .\\valid\\labels\\204_101_20_4e83a171-154c-4f3e-b99e-3b46bc58e1f5.txt (bbox count: 2)\n",
      "[INFO] Saved YOLO label: .\\valid\\labels\\205_101_20_2fb3f89e-cc7e-4401-ad6e-dccdd5ce1ff3.txt (bbox count: 1)\n",
      "[INFO] Saved YOLO label: .\\valid\\labels\\204_101_20_5337b161-f24f-4734-8ee8-9809fa90c4fa.txt (bbox count: 1)\n",
      "[INFO] Saved YOLO label: .\\valid\\labels\\207_212_20_2b6dc8e9-8d7a-4168-9352-a2f6d02f20d7.txt (bbox count: 1)\n",
      "[INFO] Saved YOLO label: .\\valid\\labels\\205_101_20_5ec82d18-6804-4250-ac65-b25f9fb34d0a.txt (bbox count: 3)\n",
      "[INFO] Saved YOLO label: .\\valid\\labels\\207_212_20_07943169-ab2d-487c-8bca-4a9a2b1fffb5.txt (bbox count: 1)\n",
      "[INFO] Saved YOLO label: .\\valid\\labels\\207_212_20_da19666e-b1e7-4b99-a1b5-17e2ee4c88a7.txt (bbox count: 1)\n",
      "[INFO] Saved YOLO label: .\\valid\\labels\\205_101_20_fe312a9e-322a-4da0-b725-76d60d6fa592.txt (bbox count: 2)\n",
      "[INFO] Saved YOLO label: .\\valid\\labels\\205_101_20_1239f072-9cb3-4402-ba87-bda1d177b718.txt (bbox count: 1)\n",
      "[INFO] Saved YOLO label: .\\valid\\labels\\205_101_20_79ad1afb-2fdc-4060-91f4-3f64a6684902.txt (bbox count: 1)\n",
      "[INFO] Saved YOLO label: .\\valid\\labels\\209_102_20_26e97dad-532a-4096-bf9b-fdb5033f0030.txt (bbox count: 1)\n",
      "[INFO] Saved YOLO label: .\\valid\\labels\\205_101_20_0a2f1e10-9d8b-48aa-8c97-f6661570f4ec.txt (bbox count: 1)\n",
      "[INFO] Saved YOLO label: .\\valid\\labels\\209_102_20_fb4df1e5-eca5-41a0-ab19-2cca0a1b1789.txt (bbox count: 1)\n",
      "[INFO] Saved YOLO label: .\\valid\\labels\\209_102_20_06b084f4-9ade-45da-81e3-d06a9cbdb310.txt (bbox count: 1)\n",
      "[INFO] Saved YOLO label: .\\valid\\labels\\209_102_20_8be191cf-121b-49d3-afd7-7c5cf95bdabd.txt (bbox count: 1)\n",
      "[INFO] Saved YOLO label: .\\valid\\labels\\204_101_20_592436e0-9c45-4573-a5ca-f5f3be7a5512.txt (bbox count: 1)\n",
      "[INFO] Saved YOLO label: .\\valid\\labels\\207_204_20_346988fc-3d8d-4e93-a0dc-274aecf4a782.txt (bbox count: 1)\n",
      "[INFO] Saved YOLO label: .\\valid\\labels\\204_102_20_68d544cb-1bb5-4d57-a22b-0cf3aa5ac628.txt (bbox count: 1)\n",
      "[INFO] Saved YOLO label: .\\valid\\labels\\205_101_20_c3ffbb35-b545-4328-95f5-2d836d37e510.txt (bbox count: 1)\n",
      "[INFO] Saved YOLO label: .\\valid\\labels\\204_101_20_766e7a1d-8473-4717-823f-3976deb410e2.txt (bbox count: 1)\n",
      "[INFO] Saved YOLO label: .\\valid\\labels\\205_101_20_393b1a01-4eb1-47ef-8cca-3323409224a6.txt (bbox count: 1)\n",
      "[INFO] Saved YOLO label: .\\valid\\labels\\209_102_20_170439fc-307d-4ad3-b3d2-5efe65ccf282.txt (bbox count: 1)\n",
      "[INFO] Saved YOLO label: .\\valid\\labels\\204_102_20_7ac85ec2-e653-42f0-b311-d042a50dff76.txt (bbox count: 1)\n",
      "[INFO] Saved YOLO label: .\\valid\\labels\\207_212_20_102b5e99-a581-46ae-b072-aee232d3cb3f.txt (bbox count: 1)\n",
      "[INFO] Saved YOLO label: .\\valid\\labels\\209_102_20_b2f3af67-f1f5-483a-9501-01e96df9ec29.txt (bbox count: 1)\n",
      "[INFO] Saved YOLO label: .\\valid\\labels\\205_101_20_44388f55-4d05-4715-b061-411b08c863b9.txt (bbox count: 2)\n",
      "[INFO] Saved YOLO label: .\\valid\\labels\\207_204_20_99f6d85b-f7ce-47f9-a4be-1280cae00d70.txt (bbox count: 1)\n",
      "[INFO] Saved YOLO label: .\\valid\\labels\\205_101_20_e6bc26c9-03fe-41a2-9036-5413e93627ac.txt (bbox count: 1)\n",
      "[INFO] Saved YOLO label: .\\valid\\labels\\207_102_20_565e4b7c-3d6a-4c2b-91ef-a7b7b220ac9b.txt (bbox count: 1)\n",
      "[INFO] Saved YOLO label: .\\valid\\labels\\207_212_20_3e601976-2099-4ac2-8494-5bb2d36e4c94.txt (bbox count: 1)\n",
      "[INFO] Saved YOLO label: .\\valid\\labels\\205_101_20_7cb5ba18-7c66-4eb0-b97c-ff80846ad043.txt (bbox count: 1)\n",
      "[INFO] Saved YOLO label: .\\valid\\labels\\209_102_20_22ab5a0d-d0fe-4b50-a094-767b69b01889.txt (bbox count: 1)\n",
      "[INFO] Saved YOLO label: .\\valid\\labels\\207_102_20_e555e64e-ca1a-4a74-af8a-f092cebd0d1d.txt (bbox count: 1)\n",
      "[INFO] Saved YOLO label: .\\valid\\labels\\209_102_20_1fc02b7a-a128-4a93-8b20-b677d0f234b7.txt (bbox count: 1)\n",
      "[INFO] Saved YOLO label: .\\valid\\labels\\204_101_20_0adcca94-1790-4ca5-ab8a-63ec12898512.txt (bbox count: 1)\n",
      "[INFO] Saved YOLO label: .\\valid\\labels\\204_102_20_a4412c6c-4a04-44a1-8c20-5bf3006431ff.txt (bbox count: 1)\n",
      "[INFO] Saved YOLO label: .\\valid\\labels\\204_101_20_35d67daa-8a33-44d5-9de3-1ae28aa613c7.txt (bbox count: 1)\n",
      "[INFO] Saved YOLO label: .\\valid\\labels\\207_204_20_b562ecb8-dad3-4cdd-80ed-b31bd987f8c2.txt (bbox count: 1)\n",
      "[INFO] Saved YOLO label: .\\valid\\labels\\209_102_20_18a1caee-f6c6-432f-a282-2df7800cd26c.txt (bbox count: 1)\n",
      "[INFO] Saved YOLO label: .\\valid\\labels\\207_204_20_6888f51e-6418-4cb4-9b55-48a60b4318c5.txt (bbox count: 1)\n",
      "[INFO] Saved YOLO label: .\\valid\\labels\\204_101_20_fa5ac26b-2077-444e-a0c1-1f8b2d2779c1.txt (bbox count: 2)\n",
      "[INFO] Saved YOLO label: .\\valid\\labels\\209_102_20_e71d1af3-b802-429a-afc3-072a50302cf8.txt (bbox count: 1)\n",
      "[INFO] Saved YOLO label: .\\valid\\labels\\207_102_20_64685d15-48f1-4c01-b018-73fb225e2094.txt (bbox count: 1)\n",
      "[INFO] Saved YOLO label: .\\valid\\labels\\204_102_20_045f9645-bd6b-401d-9a74-ef4aeb1b0442.txt (bbox count: 1)\n",
      "[INFO] Saved YOLO label: .\\valid\\labels\\207_204_20_8f53d9e4-9cbf-4427-a48b-12daba014989.txt (bbox count: 1)\n",
      "[INFO] Saved YOLO label: .\\valid\\labels\\204_101_20_0b8da273-b509-40d0-b0a6-83e52819b408.txt (bbox count: 1)\n",
      "[INFO] Saved YOLO label: .\\valid\\labels\\204_102_20_1d057aab-da14-456b-a76c-d9859300d29d.txt (bbox count: 1)\n",
      "[INFO] Saved YOLO label: .\\valid\\labels\\204_101_20_cc5172c3-71d7-4810-adf1-2fc39ae38fe6.txt (bbox count: 1)\n",
      "[INFO] Saved YOLO label: .\\valid\\labels\\205_101_20_c924a6d2-f203-4dfa-9dc4-0419d363a744.txt (bbox count: 2)\n",
      "[INFO] Saved YOLO label: .\\valid\\labels\\205_101_20_1a09f732-02fb-4c59-9603-9b8993e72a18.txt (bbox count: 2)\n",
      "[INFO] Saved YOLO label: .\\valid\\labels\\205_101_20_0bf37978-c2c5-4756-9d24-b608c2e9f93b.txt (bbox count: 2)\n",
      "[INFO] Saved YOLO label: .\\valid\\labels\\209_102_20_5c9eed1b-c07e-4fbf-bfd9-ad6960c5b7e6.txt (bbox count: 1)\n",
      "[INFO] Saved YOLO label: .\\valid\\labels\\209_102_20_22f6c0ad-9ba3-4628-887c-51090b9ef798.txt (bbox count: 1)\n",
      "[INFO] Saved YOLO label: .\\valid\\labels\\204_101_20_9866eb7b-c9c8-4cf2-a9c4-ccd806437236.txt (bbox count: 2)\n",
      "[INFO] Saved YOLO label: .\\valid\\labels\\209_102_20_e2f00b45-0092-418f-bef1-e562a23826ef.txt (bbox count: 1)\n",
      "[INFO] Saved YOLO label: .\\valid\\labels\\204_101_20_80bd64ca-d0c9-4555-9c4f-ca03030522c3.txt (bbox count: 3)\n",
      "[INFO] Saved YOLO label: .\\valid\\labels\\205_101_20_d0a4726b-1776-4a21-89ca-d3bc9e5e495a.txt (bbox count: 1)\n",
      "[INFO] Saved YOLO label: .\\valid\\labels\\205_101_20_62ccdfac-bea5-4c55-a3ab-a55eabb6379e.txt (bbox count: 1)\n",
      "[INFO] Saved YOLO label: .\\valid\\labels\\209_102_20_2e9c9996-5c67-428b-a108-145686b0f001.txt (bbox count: 1)\n",
      "[INFO] Saved YOLO label: .\\valid\\labels\\207_212_20_b40732df-3eeb-4c82-a8c9-77ed82e54b54.txt (bbox count: 1)\n",
      "[INFO] Saved YOLO label: .\\valid\\labels\\204_102_20_8e4d126f-5dd3-4033-9fc8-2a972741f9b6.txt (bbox count: 1)\n",
      "[INFO] Saved YOLO label: .\\valid\\labels\\207_212_20_efae4d2b-c796-4c38-9fcf-3b70b626d0a1.txt (bbox count: 1)\n",
      "[INFO] Saved YOLO label: .\\valid\\labels\\207_212_20_c763ae5c-d54f-4511-8afc-034598fa4c2c.txt (bbox count: 1)\n",
      "[INFO] Saved YOLO label: .\\valid\\labels\\205_101_20_e126c308-4a62-4f00-b203-8cb9caed8e84.txt (bbox count: 2)\n",
      "[INFO] Saved YOLO label: .\\valid\\labels\\209_102_20_8ac6d3ee-9f33-4773-a99a-70fccf1a2563.txt (bbox count: 1)\n",
      "[INFO] Saved YOLO label: .\\valid\\labels\\207_204_20_296125cb-edce-422d-8b98-1e365bc626be.txt (bbox count: 1)\n",
      "[INFO] Saved YOLO label: .\\valid\\labels\\207_204_20_2b05cb6c-772c-4003-b2f1-3db3e523a93f.txt (bbox count: 1)\n",
      "[INFO] Saved YOLO label: .\\valid\\labels\\207_204_20_f003f505-7f74-4c45-a9f7-8871ad418d4e.txt (bbox count: 1)\n",
      "[INFO] Saved YOLO label: .\\valid\\labels\\209_102_20_0ccc1481-9812-4a0c-b8fd-f70396bd7b6e.txt (bbox count: 1)\n",
      "[INFO] Saved YOLO label: .\\valid\\labels\\204_102_20_d7723b53-9951-4fcb-b342-e4807e25d128.txt (bbox count: 1)\n",
      "[INFO] Saved YOLO label: .\\valid\\labels\\204_102_20_eac7aab3-30a9-4ea9-8865-874d8186b104.txt (bbox count: 1)\n",
      "[INFO] Saved YOLO label: .\\valid\\labels\\205_101_20_51147219-a82d-4541-8434-34d1b323f410.txt (bbox count: 1)\n",
      "[INFO] Saved YOLO label: .\\valid\\labels\\204_101_20_6657800c-dab2-4f0d-b2a2-9c545c2a4fa6.txt (bbox count: 1)\n",
      "[INFO] Saved YOLO label: .\\valid\\labels\\209_102_20_9b528d3f-91e7-40ee-abbb-e9719c140322.txt (bbox count: 1)\n",
      "[INFO] Saved YOLO label: .\\valid\\labels\\205_101_20_7811afcb-2bec-4702-80ba-fa6f84214efb.txt (bbox count: 3)\n",
      "[INFO] Saved YOLO label: .\\valid\\labels\\209_102_20_60dbd4c4-848d-469b-9683-d193f61db4b9.txt (bbox count: 1)\n",
      "[INFO] Saved YOLO label: .\\valid\\labels\\204_101_20_d08d01a6-0967-4e0c-bf17-d1510ec07698.txt (bbox count: 1)\n",
      "[INFO] Saved YOLO label: .\\valid\\labels\\204_101_20_b88d4c3c-4dc3-43ab-a3a0-30436784dbac.txt (bbox count: 1)\n",
      "[INFO] Saved YOLO label: .\\valid\\labels\\204_101_20_cfba0875-c97d-4399-a18b-829a5e31001f.txt (bbox count: 1)\n",
      "[INFO] Saved YOLO label: .\\valid\\labels\\209_102_20_ba47bc05-dc29-4147-a03a-bb3f28e93570.txt (bbox count: 1)\n",
      "[INFO] Saved YOLO label: .\\valid\\labels\\205_101_20_4ffac3d0-9c93-4b8f-8a9a-6344713f7e1c.txt (bbox count: 1)\n",
      "[INFO] Saved YOLO label: .\\valid\\labels\\209_102_20_baa6890a-bb5f-48bf-965c-3494a250414f.txt (bbox count: 1)\n",
      "[INFO] Saved YOLO label: .\\valid\\labels\\209_102_20_b4fe20ce-f40f-476a-bafe-9d0e6dc53fe3.txt (bbox count: 1)\n",
      "[INFO] Saved YOLO label: .\\valid\\labels\\204_101_20_fea269bc-4330-4659-9405-db7124571a4a.txt (bbox count: 1)\n",
      "[INFO] Saved YOLO label: .\\valid\\labels\\207_204_20_658e0039-98b8-44f3-aba9-aab9d1fb51aa.txt (bbox count: 1)\n",
      "[INFO] Saved YOLO label: .\\valid\\labels\\205_101_20_37bcf28e-2bea-44ee-813a-1fa8d88fc174.txt (bbox count: 2)\n",
      "[INFO] Saved YOLO label: .\\valid\\labels\\209_102_20_610ce5c4-b09d-4ef0-b2da-a7952b135fd5.txt (bbox count: 1)\n",
      "[INFO] Saved YOLO label: .\\valid\\labels\\209_102_20_6eb2dc79-0b3e-431e-b433-ea6e605a6b6b.txt (bbox count: 1)\n",
      "[INFO] Saved YOLO label: .\\valid\\labels\\207_204_20_17045fec-bf35-4274-83cc-f7f6d460cdd3.txt (bbox count: 1)\n",
      "[INFO] Saved YOLO label: .\\valid\\labels\\207_102_20_3d68d91e-bd6f-47ed-a179-90eb9652f949.txt (bbox count: 1)\n",
      "[INFO] Saved YOLO label: .\\valid\\labels\\207_204_20_f1fb1760-bc61-4933-875d-84778df44a48.txt (bbox count: 1)\n",
      "[INFO] Saved YOLO label: .\\valid\\labels\\204_101_20_0cc0e04a-b015-4483-9cda-60157336d7d9.txt (bbox count: 1)\n",
      "[INFO] Saved YOLO label: .\\valid\\labels\\207_212_20_0a267e4b-41c3-493d-a437-20f18650951c.txt (bbox count: 1)\n",
      "[INFO] Saved YOLO label: .\\valid\\labels\\205_101_20_aa7970e5-431b-455b-a4b4-f0fc366fe58a.txt (bbox count: 1)\n",
      "[INFO] Saved YOLO label: .\\valid\\labels\\205_101_20_05b4b1a5-6a7a-4e68-bdb5-17316ae94eb4.txt (bbox count: 1)\n"
     ]
    }
   ],
   "source": [
    "import os\n",
    "import shutil\n",
    "\n",
    "# 폴더 초기화 함수\n",
    "def prepare_output_dir(output_dir):\n",
    "    if os.path.exists(output_dir):\n",
    "        shutil.rmtree(output_dir)  # 기존 폴더 삭제\n",
    "    os.makedirs(output_dir, exist_ok=True)  # 새 폴더 생성\n",
    "\n",
    "# 이미지 복사 함수\n",
    "def copy_images(output_dir, data):\n",
    "    image_dir = os.path.join(output_dir, 'images')\n",
    "    \n",
    "    # 이미지 폴더가 존재하는지 확인하고, 없으면 새로 생성\n",
    "    if not os.path.exists(image_dir):\n",
    "        os.makedirs(image_dir)\n",
    "\n",
    "    for index, row in data.iterrows():\n",
    "        image_path = row['path']\n",
    "        if os.path.exists(image_path):  # 이미지 경로 확인\n",
    "            shutil.copy(image_path, image_dir)\n",
    "        else:\n",
    "            print(f\"[WARNING] Image not found: {image_path}\")\n",
    "\n",
    "# YOLO 형식 변환 함수\n",
    "def convert_to_yolo_format(bbox, label, image_width, image_height):\n",
    "    yolo_labels = []\n",
    "\n",
    "    if not bbox or len(bbox) == 0:  # 바운딩 박스가 없을 경우\n",
    "        yolo_labels.append(f\"{label} 0.0 0.0 0.0 0.0\")\n",
    "    else:\n",
    "        for x_min, y_min, width, height in bbox:\n",
    "            x_center = (x_min + width / 2) / image_width\n",
    "            y_center = (y_min + height / 2) / image_height\n",
    "            norm_width = width / image_width\n",
    "            norm_height = height / image_height\n",
    "            yolo_labels.append(f\"{label} {x_center:.6f} {y_center:.6f} {norm_width:.6f} {norm_height:.6f}\")\n",
    "\n",
    "    return yolo_labels\n",
    "\n",
    "# YOLO 라벨 저장 함수\n",
    "def save_yolo_labels(output_dir, bboxes, labels, size, names):\n",
    "    label_dir = os.path.join(output_dir, 'labels')\n",
    "\n",
    "    # 라벨 폴더가 존재하는지 확인하고, 없으면 새로 생성\n",
    "    if not os.path.exists(label_dir):\n",
    "        os.makedirs(label_dir)\n",
    "\n",
    "    for bbox, label, (w, h), name in zip(bboxes, labels, size, names):\n",
    "        yolo_labels = convert_to_yolo_format(bbox, label, w, h)\n",
    "\n",
    "        txt_file_path = os.path.join(label_dir, f\"{name}.txt\")\n",
    "        with open(txt_file_path, 'w') as txt_file:\n",
    "            for yolo_data in yolo_labels:\n",
    "                txt_file.write(f\"{yolo_data}\\n\")\n",
    "\n",
    "        # 디버깅 로그 추가\n",
    "        print(f\"[INFO] Saved YOLO label: {txt_file_path} (bbox count: {len(bbox)})\")\n",
    "\n",
    "# 이미지 복사 및 라벨 저장 작업을 한 번만 처리하도록 수정\n",
    "def process_data(output_dir, data, bboxes, labels, sizes, names):\n",
    "    \n",
    "    copy_images(output_dir, data)  # 이미지 복사\n",
    "    save_yolo_labels(output_dir, bboxes, labels, sizes, names)  # YOLO 라벨 저장\n",
    "\n",
    "# 디렉토리 설정\n",
    "train_output_dir = '.\\\\train'\n",
    "valid_output_dir = '.\\\\valid'\n",
    "test_output_dir = '.\\\\test'\n",
    "prepare_output_dir(train_output_dir)\n",
    "prepare_output_dir(valid_output_dir)\n",
    "prepare_output_dir(test_output_dir)\n",
    "\n",
    "# 이미지 및 라벨 처리\n",
    "process_data(train_output_dir, train_data_80_ok, train_ok_bboxes, labels_train_ok, train_sizes_ok, train_names_ok)\n",
    "process_data(test_output_dir, test_data_ok, test_ok_bboxes, label_test_ok, test_sizes_ok, test_names_ok)\n",
    "process_data(valid_output_dir, valid_data_ok, valid_ok_bboxes, labels_valid_ok, valid_sizes_ok, valid_names_ok)\n",
    "\n",
    "process_data(train_output_dir, train_data_80_fault, train_fault_bboxes, labels_train_fault, train_sizes_fault, train_names_fault)\n",
    "process_data(test_output_dir, test_data_fault, test_fault_bboxes, label_test_fault, test_sizes_fault, test_names_fault)\n",
    "process_data(valid_output_dir, valid_data_fault, valid_fault_bboxes, labels_valid_fault, valid_sizes_fault, valid_names_fault)\n"
   ]
  },
  {
   "cell_type": "code",
   "execution_count": 13,
   "metadata": {},
   "outputs": [],
   "source": [
    "# import yaml\n",
    "\n",
    "# # YAML 파일에 저장\n",
    "# yaml_data = {\n",
    "#     \"train\": \"C:/Users/dawoo/desktop/sf7/coding/pytorch/project/train/images\",\n",
    "#     \"test\": \"C:/Users/dawoo/desktop/sf7/coding/pytorch/project/test/images\",\n",
    "#     \"val\": \"C:/Users/dawoo/desktop/sf7/coding/pytorch/project/valid/images\",\n",
    "#     \"nc\": 5,\n",
    "#     \"names\": [\"ok\",\n",
    "#               \"bumper_faulty\",\n",
    "#               \"door_faulty\",\n",
    "#               \"fender_faulty\",\n",
    "#               \"frame_faulty\"],\n",
    "#     \"augment\": {\n",
    "#         \"flipud\": 0.5,  # 상하 반전 확률\n",
    "#         \"fliplr\": 0.5,  # 좌우 반전 확률\n",
    "#         \"hsv_h\": 0.015,  # Hue 변화 범위\n",
    "#         \"hsv_s\": 0.7,   # 채도 변화 범위\n",
    "#         \"hsv_v\": 0.4,   # 밝기 변화 범위\n",
    "#         \"translate\": 0.1,  # 번역 범위\n",
    "#         \"scale\": 0.5,  # 크기 조정 범위\n",
    "#         \"rotate\": 30,   # 회전 범위 (degrees)\n",
    "#         \"mosaic\": 1.0,  # Mosaic 증강 비율\n",
    "#         \"mixup\": 0.2,  # MixUp 증강 비율\n",
    "#         \"cutmix\": 0.2,  # CutMix 증강 비율\n",
    "\n",
    "#         # 추가 증강 옵션\n",
    "#         \"motion_blur\": 0.3,  # 모션 블러 추가 (확률)\n",
    "#         \"gauss_noise\": 0.3,  # 가우시안 노이즈 추가 (확률)\n",
    "#         \"random_shadow\": 0.3,  # 랜덤 그림자 추가 (확률)\n",
    "#         \"random_fog\": 0.2,  # 랜덤 안개 효과 추가 (확률)\n",
    "#         \"perspective\": 0.2,  # 원근 변환 (확률)\n",
    "#         \"shear\": 15,  # 전단 변환 (degree)\n",
    "#         \"crop\": 0.3,  # 랜덤 크롭 (확률)\n",
    "#         \"brightness\": 0.2,  # 밝기 조정 (확률)\n",
    "#         \"contrast\": 0.2,  # 대비 조정 (확률)\n",
    "#         \"sharpen\": 0.3  # 샤프닝 효과 (확률)\n",
    "#     }\n",
    "# }\n",
    "\n",
    "# with open(\"data.yaml\", \"w\") as yaml_file:\n",
    "#     yaml.dump(yaml_data, yaml_file, default_flow_style=False, sort_keys=False)\n",
    "\n",
    "# print(\"YAML 파일이 생성되었습니다.\")\n"
   ]
  },
  {
   "cell_type": "markdown",
   "metadata": {},
   "source": [
    "## 모델 코드 작성"
   ]
  },
  {
   "cell_type": "code",
   "execution_count": 14,
   "metadata": {},
   "outputs": [],
   "source": [
    "# from ultralytics import YOLO\n",
    "\n",
    "# # YOLO 모델 객체 생성\n",
    "# model = YOLO(\"yolov8s.pt\")  # 사전 학습된 YOLOv8 모델 로드\n",
    "\n",
    "# # 모델 학습 시작\n",
    "# results = model.train(\n",
    "#     data=\"data.yaml\",       # YAML 파일 경로\n",
    "#     epochs=50,              # 학습 에포크 수\n",
    "#     imgsz=640,              # 입력 이미지 크기 (기본값: 640)\n",
    "#     batch=16,               # 배치 크기\n",
    "#     project=\"C:\\\\Users\\\\dawoo\\\\Desktop\\\\SF7\\\\coding\\\\PYTORCH\\\\project\\\\YOLO\", # 학습 결과를 저장할 프로젝트 이름\n",
    "#     name=\"part_damage_detection\",   # 저장될 실행 이름\n",
    "#     workers=4,              # 데이터 로드 병렬 처리 수\n",
    "#     device=0                # GPU ID (0은 첫 번째 GPU를 의미, -1은 CPU)\n",
    "# )\n",
    "\n",
    "# model.save('part_damage_detection.pt')"
   ]
  },
  {
   "cell_type": "code",
   "execution_count": 15,
   "metadata": {},
   "outputs": [],
   "source": [
    "# import os\n",
    "# from ultralytics import YOLO\n",
    "\n",
    "# # 데이터 설정 파일 경로\n",
    "# data_yaml = \"data.yaml\"\n",
    "\n",
    "# # YOLO 모델 정의 (랜덤 초기화로 학습 시작)\n",
    "# model = YOLO(\"yolov8s.pt\")\n",
    "\n",
    "# # 학습 설정\n",
    "# model.train(\n",
    "#     data=data_yaml,          # 데이터 설정 파일 경로\n",
    "#     epochs=60,               # 학습 에폭 수\n",
    "#     batch=16,                # 배치 크기\n",
    "#     imgsz=640,               # 입력 이미지 크기\n",
    "#     device=0,                # GPU 사용\n",
    "#     workers=4,               # 데이터 로드 병렬 처리 워커 수\n",
    "#     project=\"C:\\\\Users\\\\dawoo\\\\Desktop\\\\SF7\\\\coding\\\\PYTORCH\\\\project\\\\YOLO\",     # 결과 저장 디렉토리\n",
    "#     name=\"part_damage_detection\",       # 실험 이름\n",
    "#     conf=0.35,\n",
    "#     lr0=0.005,  # 초기 학습률\n",
    "#     lrf=0.1,                # 학습률 감소율 설정\n",
    "#     optimizer='Adamw',  # 옵티마이저 설정 (SGD, Adam, AdamW 등)\n",
    "#     weight_decay=0.001,   # 가중치 감소 설정\n",
    "#     patience=20,\n",
    "# )\n",
    "# model.save('model_8_s_60_16_960.pt')"
   ]
  },
  {
   "cell_type": "code",
   "execution_count": 16,
   "metadata": {},
   "outputs": [],
   "source": [
    "# import os\n",
    "# from ultralytics import YOLO\n",
    "\n",
    "# # 데이터 설정 파일 경로\n",
    "# data_yaml = \"data.yaml\"\n",
    "\n",
    "# # YOLO 모델 정의 (Medium 모델로 변경)\n",
    "# model = YOLO(\"yolov8m.pt\")\n",
    "\n",
    "# # 학습 설정\n",
    "# model.train(\n",
    "#     data=data_yaml,  # 데이터 설정 파일 경로\n",
    "#     epochs=80,  # 학습 에폭 수 조정\n",
    "#     batch=8,  # 배치 크기를 줄여 안정적인 학습 유도\n",
    "#     imgsz=640,  # 입력 이미지 크기\n",
    "#     device=0,  # GPU 사용\n",
    "#     workers=4,  # 데이터 로드 병렬 처리 워커 수\n",
    "#     project=\"C:\\\\Users\\\\dawoo\\\\Desktop\\\\SF7\\\\coding\\\\PYTORCH\\\\project\\\\YOLO\",\n",
    "#     name=\"part_damage_detection_v2\",\n",
    "#     conf=0.35,  # Confidence threshold\n",
    "#     lr0=0.003,  # 낮은 초기 학습률\n",
    "#     lrf=0.2,  # 학습률 감소율 증가\n",
    "#     optimizer='Adamw',  # 옵티마이저 설정\n",
    "#     weight_decay=0.0005,  # 가중치 감소 설정\n",
    "#     patience=15,  # Early stopping 설정\n",
    "#     warmup_epochs=5,  # Warmup 에폭 증가\n",
    "#     cos_lr=True,  # 코사인 스케줄링 사용\n",
    "#     augment=True,  # 데이터 증강 활성화\n",
    "#     hsv_h=0.015,  # Hue variation\n",
    "#     hsv_s=0.7,  # Saturation variation\n",
    "#     hsv_v=0.4,  # Value variation\n",
    "#     flipud=0.5,  # 수직 뒤집기 확률\n",
    "#     fliplr=0.5,  # 수평 뒤집기 확률\n",
    "#     mosaic=0.5,  # 모자이크 증강 비율 감소\n",
    "#     mixup=0.2,  # Mixup 증강\n",
    "# )\n",
    "# # 학습 완료 후 모델 저장\n",
    "# model.save('model_8_m_80_8_640.pt')\n"
   ]
  },
  {
   "cell_type": "code",
   "execution_count": 17,
   "metadata": {},
   "outputs": [],
   "source": [
    "# import os\n",
    "# from ultralytics import YOLO\n",
    "\n",
    "# # 데이터 설정 파일 경로\n",
    "# data_yaml = \"data.yaml\"\n",
    "\n",
    "# # YOLO 모델 정의 (Medium 모델 사용)\n",
    "# model = YOLO(\"yolov8s.pt\")\n",
    "\n",
    "# # 학습 설정\n",
    "# model.train(\n",
    "#     data=data_yaml,  # 데이터 설정 파일 경로\n",
    "#     epochs=50,  # 학습 에폭 수\n",
    "#     batch=16,  # 배치 크기 조정 (메모리 초과 방지)\n",
    "#     imgsz=640,  # 입력 이미지 크기\n",
    "#     device=0,  # GPU 사용\n",
    "#     workers=4,  # 데이터 로드 병렬 처리 워커 수\n",
    "#     project=\"C:\\\\Users\\\\dawoo\\\\Desktop\\\\SF7\\\\coding\\\\PYTORCH\\\\project\\\\YOLO\",\n",
    "#     name=\"part_damage_detection_v2\",\n",
    "#     conf=0.4,  # Confidence threshold\n",
    "#     optimizer='Adamw',  # 옵티마이저 설정\n",
    "#     weight_decay=0.0005,  # 가중치 감소 설정\n",
    "#     patience=15,  # Early stopping 여유 증대\n",
    "#     cos_lr=True,  # 코사인 스케줄링 활성화\n",
    "#     augment=True,  # 기본 데이터 증강 활성화\n",
    "#     # 데이터 증강 추가\n",
    "#     hsv_h=0.015,  # Hue variation\n",
    "#     hsv_s=0.7,  # Saturation variation\n",
    "#     hsv_v=0.4,  # Value variation\n",
    "#     flipud=0.5,  # 수직 뒤집기 확률\n",
    "#     fliplr=0.5,  # 수평 뒤집기 확률\n",
    "#     mosaic=0.5,  # 모자이크 증강 비율 감소\n",
    "#     mixup=0.2,  # Mixup 증강\n",
    "#     cache=True,  # 데이터 로딩 속도를 높이기 위해 데이터 캐싱\n",
    "# )\n",
    "# # 학습 완료 후 모델 저장\n",
    "# model.save('model_8_s_50_16_960.pt')\n"
   ]
  },
  {
   "cell_type": "code",
   "execution_count": 18,
   "metadata": {},
   "outputs": [],
   "source": [
    "# import cv2\n",
    "# import os\n",
    "# from ultralytics import YOLO\n",
    "# import numpy as np\n",
    "\n",
    "# # 이미지 전처리 함수 (노이즈 제거)\n",
    "\n",
    "\n",
    "# def denoise_image(image):\n",
    "#     # 이미지에서 Gaussian Blur 적용 (노이즈 제거)\n",
    "#     return cv2.GaussianBlur(image, (5, 5), 0)\n",
    "\n",
    "\n",
    "\n",
    "# # 데이터셋 경로\n",
    "# train_images_dir = \"./train/images\"\n",
    "# vaild_images_dir = \"./valid/images\"\n",
    "\n",
    "# def preprocess_images(image_dir):\n",
    "#     image_paths = [os.path.join(image_dir, f) for f in os.listdir(\n",
    "#         image_dir) if f.endswith('.jpg') or f.endswith('.png') or f.endswith(\".jpeg\")]\n",
    "#     for image_path in image_paths:\n",
    "#         image = cv2.imread(image_path)\n",
    "#         denoised_image = denoise_image(image)\n",
    "#         cv2.imwrite(image_path, denoised_image)  # 덮어쓰기 (또는 다른 디렉토리에 저장)\n",
    "\n",
    "\n",
    "# # 이미지 전처리 실행\n",
    "# preprocess_images(train_images_dir)\n",
    "# preprocess_images(vaild_images_dir)"
   ]
  },
  {
   "cell_type": "code",
   "execution_count": 19,
   "metadata": {},
   "outputs": [],
   "source": [
    "# import cv2\n",
    "# import os\n",
    "# from ultralytics import YOLO\n",
    "# import numpy as np\n",
    "\n",
    "# # 학습할 이미지에 노이즈 제거 적용\n",
    "\n",
    "\n",
    "# # 데이터 설정 파일 경로\n",
    "# data_yaml = \"data.yaml\"\n",
    "\n",
    "# # YOLO 모델 정의 (Small 모델 사용)\n",
    "# model = YOLO(\"yolov8s.pt\")\n",
    "\n",
    "\n",
    "# # 학습 설정\n",
    "# model.train(\n",
    "#     data=data_yaml,  # 데이터 설정 파일 경로\n",
    "#     epochs=50,  # 학습 에폭 수\n",
    "#     batch=16,  # 배치 크기 조정 (메모리 초과 방지)\n",
    "#     imgsz=640,  # 입력 이미지 크기\n",
    "#     device=0,  # GPU 사용\n",
    "#     workers=4,  # 데이터 로드 병렬 처리 워커 수\n",
    "#     project=\"C:\\\\Users\\\\dawoo\\\\Desktop\\\\SF7\\\\coding\\\\PYTORCH\\\\project\\\\YOLO\",\n",
    "#     name=\"part_damage_detection_v2\",\n",
    "#     conf=0.4,  # Confidence threshold\n",
    "#     optimizer='Adamw',  # 옵티마이저 설정\n",
    "#     weight_decay=0.0005,  # 가중치 감소 설정\n",
    "#     patience=15,  # Early stopping 여유 증대\n",
    "#     cos_lr=True,  # 코사인 스케줄링 활성화\n",
    "#     augment=True,  # 기본 데이터 증강 활성화\n",
    "#     # 데이터 증강 추가\n",
    "#     hsv_h=0.015,  # Hue variation\n",
    "#     hsv_s=0.7,  # Saturation variation\n",
    "#     hsv_v=0.4,  # Value variation\n",
    "#     flipud=0.5,  # 수직 뒤집기 확률\n",
    "#     fliplr=0.5,  # 수평 뒤집기 확률\n",
    "#     mosaic=0.5,  # 모자이크 증강 비율 감소\n",
    "#     mixup=0.2,  # Mixup 증강\n",
    "#     cache=True,  # 데이터 로딩 속도를 높이기 위해 데이터 캐싱\n",
    "# )\n",
    "\n",
    "# # 학습 완료 후 모델 저장\n",
    "# model.save('model_8_s_50_16_960.pt')"
   ]
  },
  {
   "cell_type": "code",
   "execution_count": 20,
   "metadata": {},
   "outputs": [],
   "source": [
    "# import os\n",
    "# from ultralytics import YOLO\n",
    "\n",
    "# # 데이터 설정 파일 경로\n",
    "# data_yaml = \"data.yaml\"\n",
    "\n",
    "# # YOLO 모델 정의 (Medium 모델로 변경)\n",
    "# model = YOLO(\"yolov8m.pt\")\n",
    "\n",
    "# # 학습 설정\n",
    "# model.train(\n",
    "#     data=data_yaml,  # 데이터 설정 파일 경로\n",
    "#     epochs=10,  # 학습 에폭 수 조정\n",
    "#     batch=8,  # 배치 크기를 줄여 안정적인 학습 유도\n",
    "#     imgsz=640,  # 입력 이미지 크기\n",
    "#     device=0,  # GPU 사용\n",
    "#     workers=4,  # 데이터 로드 병렬 처리 워커 수\n",
    "#     project=\"C:\\\\Users\\\\dawoo\\\\Desktop\\\\SF7\\\\coding\\\\PYTORCH\\\\project\\\\YOLO\",\n",
    "#     name=\"part_damage_detection_v2\",\n",
    "#     conf=0.4,  # Confidence threshold\n",
    "#     optimizer='Adamw',  # 옵티마이저 설정\n",
    "#     weight_decay=0.0005,  # 가중치 감소 설정\n",
    "#     augment=True,  # 데이터 증강 활성화\n",
    "#     hsv_h=0.015,  # Hue variation\n",
    "#     hsv_s=0.7,  # Saturation variation\n",
    "#     hsv_v=0.4,  # Value variation\n",
    "#     flipud=0.5,  # 수직 뒤집기 확률\n",
    "#     fliplr=0.5,  # 수평 뒤집기 확률\n",
    "#     mosaic=0.5,  # 모자이크 증강 비율 감소\n",
    "#     mixup=0.2,  # Mixup 증강\n",
    "#     cache=True,  # 데이터 로딩 속도를 높이기 위해 데이터 캐싱\n",
    "# )\n",
    "# # 학습 완료 후 모델 저장\n",
    "# model.save('model_8_m_10_8_640.pt')\n"
   ]
  },
  {
   "cell_type": "code",
   "execution_count": 21,
   "metadata": {},
   "outputs": [],
   "source": [
    "# import os\n",
    "# from ultralytics import YOLO\n",
    "\n",
    "# # 데이터 설정 파일 경로\n",
    "# data_yaml = \"data.yaml\"\n",
    "\n",
    "# # YOLO 모델 정의 (yolov8m.pt 사용)\n",
    "# model = YOLO(\"yolov8n.pt\")\n",
    "\n",
    "# # 학습 설정\n",
    "# model.train(\n",
    "#     data=data_yaml,\n",
    "#     epochs=70,\n",
    "#     batch=8,  # 배치 크기 감소\n",
    "#     imgsz=640,  # 이미지 크기\n",
    "#     device=0,\n",
    "#     workers=3,\n",
    "#     project=\"YOLO1\",\n",
    "#     name=\"part_damage_detection\",\n",
    "#     conf=0.5,\n",
    "#     lr0=0.0001,\n",
    "#     optimizer='AdamW',\n",
    "#     weight_decay=0.01,\n",
    "#     patience=10,\n",
    "# )\n",
    "\n",
    "# model.save('part_damage_detection2.pt')"
   ]
  },
  {
   "cell_type": "code",
   "execution_count": 22,
   "metadata": {},
   "outputs": [],
   "source": [
    "# import os\n",
    "# from ultralytics import YOLO\n",
    "\n",
    "# # 데이터 설정 파일 경로\n",
    "# data_yaml = \"data.yaml\"\n",
    "\n",
    "# # YOLO 모델 정의 (yolov8m.pt 사용)\n",
    "# model = YOLO(\"yolov8s.pt\")\n",
    "\n",
    "# # 학습 설정\n",
    "# model.train(\n",
    "#     data=data_yaml,\n",
    "#     epochs=50,\n",
    "#     batch=8,  # 배치 크기 감소\n",
    "#     imgsz=640,  # 이미지 크기 줄이기\n",
    "#     device=0,\n",
    "#     workers=4,\n",
    "#     project=\"YOLO2\",\n",
    "#     name=\"part_damage_detection\",\n",
    "#     conf=0.5,\n",
    "#     lr0=0.0005,\n",
    "#     optimizer='AdamW',\n",
    "#     weight_decay=0.005,\n",
    "#     patience=10,\n",
    "# )\n",
    "\n",
    "# model.save('part_damage_detection3.pt')"
   ]
  },
  {
   "cell_type": "code",
   "execution_count": 23,
   "metadata": {},
   "outputs": [],
   "source": [
    "# import cv2\n",
    "# import os\n",
    "# from ultralytics import YOLO\n",
    "# import numpy as np\n",
    "\n",
    "# # 학습할 이미지에 노이즈 제거 적용\n",
    "\n",
    "\n",
    "# # 데이터 설정 파일 경로\n",
    "# data_yaml = \"data.yaml\"\n",
    "\n",
    "# # YOLO 모델 정의 (Small 모델 사용)\n",
    "# model = YOLO(\"yolov8s.pt\")\n",
    "\n",
    "\n",
    "# # 학습 설정\n",
    "# model.train(\n",
    "#     data=data_yaml,  # 데이터 설정 파일 경로\n",
    "#     epochs=80,  # 학습 에폭 수\n",
    "#     batch=16,  # 배치 크기 조정 (메모리 초과 방지)\n",
    "#     imgsz=640,  # 입력 이미지 크기\n",
    "#     device=0,  # GPU 사용\n",
    "#     workers=4,  # 데이터 로드 병렬 처리 워커 수\n",
    "#     project=\"C:\\\\Users\\\\dawoo\\\\Desktop\\\\SF7\\\\coding\\\\PYTORCH\\\\project\\\\YOLO\",\n",
    "#     name=\"part_damage_detection_v2\",\n",
    "#     conf=0.3,  # Confidence threshold\n",
    "#     optimizer='Adamw',  # 옵티마이저 설정\n",
    "#     weight_decay=0.0005,  # 가중치 감소 설정\n",
    "#     cos_lr=True,  # 코사인 스케줄링 활성화\n",
    "#     augment=True,  # 기본 데이터 증강 활성화\n",
    "#     cache=True,  # 데이터 로딩 속도를 높이기 위해 데이터 캐싱\n",
    "# )\n",
    "\n",
    "# # 학습 완료 후 모델 저장\n",
    "# model.save('model_8_s_80_16_960.pt')"
   ]
  },
  {
   "cell_type": "code",
   "execution_count": 24,
   "metadata": {},
   "outputs": [],
   "source": [
    "# import yaml\n",
    "# from ultralytics import YOLO\n",
    "\n",
    "# # YAML 파일에 저장\n",
    "# yaml_data = {\n",
    "#     \"train\": \"C:/Users/dawoo/desktop/sf7/coding/pytorch/project/train/images\",\n",
    "#     \"test\": \"C:/Users/dawoo/desktop/sf7/coding/pytorch/project/test/images\",\n",
    "#     \"val\": \"C:/Users/dawoo/desktop/sf7/coding/pytorch/project/valid/images\",\n",
    "#     \"nc\": 5,\n",
    "#     \"names\": [\"ok\", \"bumper_faulty\", \"door_faulty\", \"fender_faulty\", \"frame_faulty\"],\n",
    "#     \"augment\": {\n",
    "#         \"flipud\": 0.5,\n",
    "#         \"fliplr\": 0.5,\n",
    "#         \"hsv_h\": 0.015,\n",
    "#         \"hsv_s\": 0.7,\n",
    "#         \"hsv_v\": 0.4,\n",
    "#         \"translate\": 0.1,\n",
    "#         \"scale\": 0.5,\n",
    "#         \"rotate\": 15,  # 회전 범위 수정\n",
    "#         \"mosaic\": 0.8,  # 모자이크 증강 비율 수정\n",
    "#         \"mixup\": 0.2,\n",
    "#         \"cutmix\": 0.1,\n",
    "#         \"motion_blur\": 0.2,\n",
    "#         \"gauss_noise\": 0.2,\n",
    "#         \"random_shadow\": 0.2,\n",
    "#         \"random_fog\": 0.1,\n",
    "#         \"shear\": 10,  # 전단 변환 (degree)\n",
    "#         \"crop\": 0.2,\n",
    "#         \"brightness\": 0.2,\n",
    "#         \"contrast\": 0.2,\n",
    "#         \"sharpen\": 0.2\n",
    "#     }\n",
    "# }\n",
    "\n",
    "# with open(\"data.yaml\", \"w\") as yaml_file:\n",
    "#     yaml.dump(yaml_data, yaml_file, default_flow_style=False, sort_keys=False)\n",
    "#     print(\"YAML 파일이 생성되었습니다.\")"
   ]
  },
  {
   "cell_type": "code",
   "execution_count": 25,
   "metadata": {},
   "outputs": [],
   "source": [
    "# # 모델 로드\n",
    "# model = YOLO(\"yolov8s.pt\")\n",
    "\n",
    "# # 학습 설정\n",
    "# model.train(\n",
    "#     data=\"data.yaml\",  # 데이터 설정 파일 경로\n",
    "#     epochs=80,  # 학습 에폭 수\n",
    "#     batch=16,  # 배치 크기\n",
    "#     imgsz=640,  # 입력 이미지 크기\n",
    "#     device=0,  # GPU 사용\n",
    "#     workers=4,  # 데이터 로드 병렬 처리 워커 수\n",
    "#     project=\"C:\\\\Users\\\\dawoo\\\\Desktop\\\\SF7\\\\coding\\\\PYTORCH\\\\project\\\\YOLO\",\n",
    "#     name=\"part_damage_detection_v2\",\n",
    "#     conf=0.3,  # Confidence threshold\n",
    "#     optimizer='Adamw',  # AdamW 옵티마이저\n",
    "#     weight_decay=0.0005,  # 가중치 감소 설정\n",
    "#     cos_lr=True,  # 코사인 스케줄링 활성화\n",
    "#     augment=True,  # 기본 데이터 증강 활성화\n",
    "#     cache=True,  # 데이터 로딩 속도 개선\n",
    "#     patience=25,  # Early Stopping 여유 증대\n",
    "#     lr0=0.001,  # 초기 학습률 설정\n",
    "#     lrf=0.1,  # 학습률 스케줄링 비율\n",
    "#     momentum=0.937,  # 모멘텀 설정\n",
    "# )\n",
    "\n",
    "# # 학습 완료 후 모델 저장\n",
    "# model.save('model_8_s_80_16_960.pt')"
   ]
  },
  {
   "cell_type": "code",
   "execution_count": 26,
   "metadata": {},
   "outputs": [],
   "source": [
    "# import yaml\n",
    "# from ultralytics import YOLO\n",
    "\n",
    "# # YAML 파일에 저장\n",
    "# yaml_data = {\n",
    "#     \"train\": \"C:/Users/dawoo/desktop/sf7/coding/pytorch/project/train/images\",\n",
    "#     \"test\": \"C:/Users/dawoo/desktop/sf7/coding/pytorch/project/test/images\",\n",
    "#     \"val\": \"C:/Users/dawoo/desktop/sf7/coding/pytorch/project/valid/images\",\n",
    "#     \"nc\": 5,\n",
    "#     \"names\": [\"ok\", \"bumper_faulty\", \"door_faulty\", \"fender_faulty\", \"frame_faulty\"],\n",
    "#     \"augment\": {\n",
    "#         \"flipud\": 0.5,\n",
    "#         \"fliplr\": 0.5,\n",
    "#         \"hsv_h\": 0.015,\n",
    "#         \"hsv_s\": 0.7,\n",
    "#         \"hsv_v\": 0.4,\n",
    "#         \"translate\": 0.1,\n",
    "#         \"scale\": 0.5,\n",
    "#         \"rotate\": 10,  # 회전 범위를 조금 줄임\n",
    "#         \"mosaic\": 0.7,  # 모자이크 증강 비율을 줄여서 안정성 강화\n",
    "#         \"mixup\": 0.2,\n",
    "#         \"cutmix\": 0.1,\n",
    "#         \"motion_blur\": 0.2,\n",
    "#         \"gauss_noise\": 0.2,\n",
    "#         \"random_shadow\": 0.2,\n",
    "#         \"random_fog\": 0.1,\n",
    "#         \"shear\": 10,\n",
    "#         \"crop\": 0.2,\n",
    "#         \"brightness\": 0.2,\n",
    "#         \"contrast\": 0.2,\n",
    "#         \"sharpen\": 0.2\n",
    "#     }\n",
    "# }\n",
    "\n",
    "# with open(\"data.yaml\", \"w\") as yaml_file:\n",
    "#     yaml.dump(yaml_data, yaml_file, default_flow_style=False, sort_keys=False)\n",
    "#     print(\"YAML 파일이 생성되었습니다.\")"
   ]
  },
  {
   "cell_type": "code",
   "execution_count": 27,
   "metadata": {},
   "outputs": [],
   "source": [
    "# # 모델 로드\n",
    "# model = YOLO(\"yolov8s.pt\")\n",
    "\n",
    "# # 학습 설정\n",
    "# model.train(\n",
    "#     data=\"data.yaml\",  # 데이터 설정 파일 경로\n",
    "#     epochs=100,  # 에폭을 100으로 늘려서 더 충분히 학습\n",
    "#     batch=16,  # 배치 크기\n",
    "#     imgsz=640,  # 입력 이미지 크기\n",
    "#     device=0,  # GPU 사용\n",
    "#     workers=4,  # 데이터 로드 병렬 처리 워커 수\n",
    "#     project=\"C:\\\\Users\\\\dawoo\\\\Desktop\\\\SF7\\\\coding\\\\PYTORCH\\\\project\\\\YOLO\",\n",
    "#     name=\"part_damage_detection_v2\",\n",
    "#     conf=0.3,  # Confidence threshold\n",
    "#     optimizer='AdamW',  # AdamW 옵티마이저 사용\n",
    "#     weight_decay=0.0005,  # 가중치 감소 설정\n",
    "#     cos_lr=True,  # 코사인 스케줄링 활성화\n",
    "#     augment=True,  # 기본 데이터 증강 활성화\n",
    "#     cache=True,  # 데이터 로딩 속도 개선\n",
    "#     patience=25,  # Early Stopping 여유 증대\n",
    "#     lr0=0.0005,  # 초기 학습률을 낮춤\n",
    "#     lrf=0.1,  # 학습률 스케줄링 비율\n",
    "#     momentum=0.85,  # 모멘텀 설정\n",
    "# )\n",
    "\n",
    "# # 학습 완료 후 모델 저장\n",
    "# model.save('model_8_s_80_16_960.pt')"
   ]
  },
  {
   "cell_type": "code",
   "execution_count": 28,
   "metadata": {},
   "outputs": [],
   "source": [
    "# import yaml\n",
    "# from ultralytics import YOLO\n",
    "\n",
    "# # YAML 파일에 저장\n",
    "# yaml_data = {\n",
    "#     \"train\": \"C:/Users/dawoo/desktop/sf7/coding/pytorch/project/train/images\",\n",
    "#     \"test\": \"C:/Users/dawoo/desktop/sf7/coding/pytorch/project/test/images\",\n",
    "#     \"val\": \"C:/Users/dawoo/desktop/sf7/coding/pytorch/project/valid/images\",\n",
    "#     \"nc\": 5,\n",
    "#     \"names\": [\"ok\", \"bumper_faulty\", \"door_faulty\", \"fender_faulty\", \"frame_faulty\"],\n",
    "#     \"augment\": {\n",
    "#         \"flipud\": 0.5,\n",
    "#         \"fliplr\": 0.5,\n",
    "#         \"hsv_h\": 0.015,\n",
    "#         \"hsv_s\": 0.7,\n",
    "#         \"hsv_v\": 0.4,\n",
    "#         \"translate\": 0.1,\n",
    "#         \"scale\": 0.5,\n",
    "#         \"rotate\": 15,  # 회전 범위를 늘려서 다양한 방향에 대해 학습\n",
    "#         \"mosaic\": 0.8,  # 모자이크 증강 비율을 높여서 더 많은 변형 데이터 생성\n",
    "#         \"mixup\": 0.3,  # mixup 비율을 증가시켜 다양한 이미지 결합\n",
    "#         \"cutmix\": 0.15,  # cutmix 비율을 살짝 증가\n",
    "#         \"motion_blur\": 0.25,  # motion blur를 강하게 적용\n",
    "#         \"gauss_noise\": 0.25,  # 노이즈를 더 많이 추가\n",
    "#         \"random_shadow\": 0.3,  # 그림자 효과를 증가시켜 밝기 변화에 강하게\n",
    "#         \"random_fog\": 0.2,  # 안개 효과를 늘려서 다양한 시나리오 학습\n",
    "#         \"shear\": 20,  # 전단 변환 정도를 더 강하게\n",
    "#         \"crop\": 0.3,  # 잘라내기 영역을 증가시켜 모델의 일반화 성능 향상\n",
    "#         \"brightness\": 0.3,  # 밝기 변화 범위 증가\n",
    "#         \"contrast\": 0.3,  # 대비 범위 증가\n",
    "#         \"sharpen\": 0.3  # 이미지 샤프닝 강도를 높임\n",
    "#     }\n",
    "# }\n",
    "\n",
    "# with open(\"data.yaml\", \"w\") as yaml_file:\n",
    "#     yaml.dump(yaml_data, yaml_file, default_flow_style=False, sort_keys=False)\n",
    "#     print(\"YAML 파일이 생성되었습니다.\")\n"
   ]
  },
  {
   "cell_type": "code",
   "execution_count": 29,
   "metadata": {},
   "outputs": [],
   "source": [
    "# # 모델 로드\n",
    "# model = YOLO(\"yolov8s.pt\")\n",
    "\n",
    "# # 학습 설정\n",
    "# model.train(\n",
    "#     data=\"data.yaml\",  # 데이터 설정 파일 경로\n",
    "#     epochs=100,  # 에폭 수를 늘려서 더 많은 학습 진행\n",
    "#     batch=16,  # 배치 크기\n",
    "#     imgsz=640,  # 입력 이미지 크기\n",
    "#     device=0,  # GPU 사용\n",
    "#     workers=4,  # 데이터 로드 병렬 처리 워커 수\n",
    "#     project=\"C:\\\\Users\\\\dawoo\\\\Desktop\\\\SF7\\\\coding\\\\PYTORCH\\\\project\\\\YOLO\",\n",
    "#     name=\"part_damage_detection_v2\",\n",
    "#     conf=0.3,  # Confidence threshold\n",
    "#     optimizer='Adamw',  # AdamW 옵티마이저\n",
    "#     weight_decay=0.0005,  # 가중치 감소 설정\n",
    "#     cos_lr=True,  # 코사인 스케줄링 활성화\n",
    "#     augment=True,  # 기본 데이터 증강 활성화\n",
    "#     cache=True,  # 데이터 로딩 속도 개선\n",
    "#     patience=25,  # Early Stopping 여유 증대\n",
    "#     lr0=0.001,  # 초기 학습률 설정\n",
    "#     lrf=0.1,  # 학습률 스케줄링 비율\n",
    "#     momentum=0.85,  # 모멘텀을 증가시켜 더 빠른 수렴\n",
    "# )\n",
    "\n",
    "# # 학습 완료 후 모델 저장\n",
    "# model.save('model_8_s_100_16_960.pt')"
   ]
  },
  {
   "cell_type": "code",
   "execution_count": 30,
   "metadata": {},
   "outputs": [],
   "source": [
    "# # # 모델 평가\n",
    "# metrics = model.val()"
   ]
  },
  {
   "cell_type": "code",
   "execution_count": 31,
   "metadata": {},
   "outputs": [
    {
     "name": "stdout",
     "output_type": "stream",
     "text": [
      "YAML 파일이 성공적으로 생성되었습니다.\n"
     ]
    }
   ],
   "source": [
    "import yaml\n",
    "\n",
    "# YAML 파일에 저장할 데이터\n",
    "yaml_data = {\n",
    "    \"train\": \"C:/Users/dawoo/desktop/sf7/coding/pytorch/project/train/images\",\n",
    "    \"test\": \"C:/Users/dawoo/desktop/sf7/coding/pytorch/project/test/images\",\n",
    "    \"val\": \"C:/Users/dawoo/desktop/sf7/coding/pytorch/project/valid/images\",\n",
    "    \"nc\": 5,\n",
    "    \"names\": [\"ok\", \"bumper_faulty\", \"door_faulty\", \"fender_faulty\", \"frame_faulty\"],\n",
    "}\n",
    "\n",
    "# YAML 파일 생성\n",
    "with open(\"data.yaml\", \"w\") as yaml_file:\n",
    "    yaml.dump(yaml_data, yaml_file, default_flow_style=False, sort_keys=False)\n",
    "\n",
    "print(\"YAML 파일이 성공적으로 생성되었습니다.\")\n"
   ]
  },
  {
   "cell_type": "code",
   "execution_count": 32,
   "metadata": {},
   "outputs": [
    {
     "name": "stdout",
     "output_type": "stream",
     "text": [
      "New https://pypi.org/project/ultralytics/8.3.65 available  Update with 'pip install -U ultralytics'\n",
      "Ultralytics 8.3.63  Python-3.12.0 torch-2.5.1+cu118 CUDA:0 (NVIDIA GeForce RTX 3050 Laptop GPU, 4096MiB)\n",
      "\u001b[34m\u001b[1mengine\\trainer: \u001b[0mtask=detect, mode=train, model=yolov8s.pt, data=data.yaml, epochs=120, time=None, patience=100, batch=8, imgsz=640, save=True, save_period=-1, cache=True, device=0, workers=4, project=C:\\Users\\dawoo\\Desktop\\SF7\\coding\\PYTORCH\\project\\detect, name=part_damage_detection, exist_ok=False, pretrained=True, optimizer=Adamw, verbose=True, seed=0, deterministic=True, single_cls=False, rect=False, cos_lr=False, close_mosaic=10, resume=False, amp=True, fraction=1.0, profile=False, freeze=None, multi_scale=False, overlap_mask=True, mask_ratio=4, dropout=0.0, val=True, split=val, save_json=False, save_hybrid=False, conf=None, iou=0.7, max_det=300, half=False, dnn=False, plots=True, source=None, vid_stride=1, stream_buffer=False, visualize=False, augment=False, agnostic_nms=False, classes=None, retina_masks=False, embed=None, show=False, save_frames=False, save_txt=False, save_conf=False, save_crop=False, show_labels=True, show_conf=True, show_boxes=True, line_width=None, format=torchscript, keras=False, optimize=False, int8=False, dynamic=False, simplify=True, opset=None, workspace=None, nms=False, lr0=0.01, lrf=0.01, momentum=0.937, weight_decay=0.0005, warmup_epochs=3.0, warmup_momentum=0.8, warmup_bias_lr=0.1, box=7.5, cls=0.5, dfl=1.5, pose=12.0, kobj=1.0, nbs=64, hsv_h=0.015, hsv_s=0.7, hsv_v=0.4, degrees=0.0, translate=0.1, scale=0.5, shear=0.0, perspective=0.0, flipud=0.0, fliplr=0.5, bgr=0.0, mosaic=1.0, mixup=0.0, copy_paste=0.0, copy_paste_mode=flip, auto_augment=randaugment, erasing=0.4, crop_fraction=1.0, cfg=None, tracker=botsort.yaml, save_dir=C:\\Users\\dawoo\\Desktop\\SF7\\coding\\PYTORCH\\project\\detect\\part_damage_detection\n",
      "Overriding model.yaml nc=80 with nc=5\n",
      "\n",
      "                   from  n    params  module                                       arguments                     \n",
      "  0                  -1  1       928  ultralytics.nn.modules.conv.Conv             [3, 32, 3, 2]                 \n",
      "  1                  -1  1     18560  ultralytics.nn.modules.conv.Conv             [32, 64, 3, 2]                \n",
      "  2                  -1  1     29056  ultralytics.nn.modules.block.C2f             [64, 64, 1, True]             \n",
      "  3                  -1  1     73984  ultralytics.nn.modules.conv.Conv             [64, 128, 3, 2]               \n",
      "  4                  -1  2    197632  ultralytics.nn.modules.block.C2f             [128, 128, 2, True]           \n",
      "  5                  -1  1    295424  ultralytics.nn.modules.conv.Conv             [128, 256, 3, 2]              \n",
      "  6                  -1  2    788480  ultralytics.nn.modules.block.C2f             [256, 256, 2, True]           \n",
      "  7                  -1  1   1180672  ultralytics.nn.modules.conv.Conv             [256, 512, 3, 2]              \n",
      "  8                  -1  1   1838080  ultralytics.nn.modules.block.C2f             [512, 512, 1, True]           \n",
      "  9                  -1  1    656896  ultralytics.nn.modules.block.SPPF            [512, 512, 5]                 \n",
      " 10                  -1  1         0  torch.nn.modules.upsampling.Upsample         [None, 2, 'nearest']          \n",
      " 11             [-1, 6]  1         0  ultralytics.nn.modules.conv.Concat           [1]                           \n",
      " 12                  -1  1    591360  ultralytics.nn.modules.block.C2f             [768, 256, 1]                 \n",
      " 13                  -1  1         0  torch.nn.modules.upsampling.Upsample         [None, 2, 'nearest']          \n",
      " 14             [-1, 4]  1         0  ultralytics.nn.modules.conv.Concat           [1]                           \n",
      " 15                  -1  1    148224  ultralytics.nn.modules.block.C2f             [384, 128, 1]                 \n",
      " 16                  -1  1    147712  ultralytics.nn.modules.conv.Conv             [128, 128, 3, 2]              \n",
      " 17            [-1, 12]  1         0  ultralytics.nn.modules.conv.Concat           [1]                           \n",
      " 18                  -1  1    493056  ultralytics.nn.modules.block.C2f             [384, 256, 1]                 \n",
      " 19                  -1  1    590336  ultralytics.nn.modules.conv.Conv             [256, 256, 3, 2]              \n",
      " 20             [-1, 9]  1         0  ultralytics.nn.modules.conv.Concat           [1]                           \n",
      " 21                  -1  1   1969152  ultralytics.nn.modules.block.C2f             [768, 512, 1]                 \n",
      " 22        [15, 18, 21]  1   2117983  ultralytics.nn.modules.head.Detect           [5, [128, 256, 512]]          \n",
      "Model summary: 225 layers, 11,137,535 parameters, 11,137,519 gradients, 28.7 GFLOPs\n",
      "\n",
      "Transferred 349/355 items from pretrained weights\n",
      "Freezing layer 'model.22.dfl.conv.weight'\n",
      "\u001b[34m\u001b[1mAMP: \u001b[0mrunning Automatic Mixed Precision (AMP) checks...\n",
      "\u001b[34m\u001b[1mAMP: \u001b[0mchecks passed \n"
     ]
    },
    {
     "name": "stderr",
     "output_type": "stream",
     "text": [
      "\u001b[34m\u001b[1mtrain: \u001b[0mScanning C:\\Users\\dawoo\\Desktop\\SF7\\coding\\PYTORCH\\project\\train\\labels... 102 images, 0 backgrounds, 0 corrupt:  11%|█         | 102/960 [00:02<00:20, 42.62it/s]c:\\Users\\dawoo\\Desktop\\SF7\\coding\\PYTORCH\\pytorch-env\\Lib\\site-packages\\PIL\\Image.py:3186: DecompressionBombWarning: Image size (108000000 pixels) exceeds limit of 89478485 pixels, could be decompression bomb DOS attack.\n",
      "  warnings.warn(\n",
      "\u001b[34m\u001b[1mtrain: \u001b[0mScanning C:\\Users\\dawoo\\Desktop\\SF7\\coding\\PYTORCH\\project\\train\\labels... 960 images, 0 backgrounds, 0 corrupt: 100%|██████████| 960/960 [00:17<00:00, 54.13it/s] "
     ]
    },
    {
     "name": "stdout",
     "output_type": "stream",
     "text": [
      "\u001b[34m\u001b[1mtrain: \u001b[0mWARNING  C:\\Users\\dawoo\\Desktop\\SF7\\coding\\PYTORCH\\project\\train\\images\\204_101_10_037c081e-5304-4903-8ef3-82f691f87d30.jpg: corrupt JPEG restored and saved\n",
      "\u001b[34m\u001b[1mtrain: \u001b[0mWARNING  C:\\Users\\dawoo\\Desktop\\SF7\\coding\\PYTORCH\\project\\train\\images\\204_101_10_0b5ba85a-ac85-4c67-869b-cf9b0c6fa487.jpg: corrupt JPEG restored and saved\n",
      "\u001b[34m\u001b[1mtrain: \u001b[0mWARNING  C:\\Users\\dawoo\\Desktop\\SF7\\coding\\PYTORCH\\project\\train\\images\\204_101_10_10c2ed64-da53-41e6-afd5-64d970ad03e3.jpg: corrupt JPEG restored and saved\n",
      "\u001b[34m\u001b[1mtrain: \u001b[0mWARNING  C:\\Users\\dawoo\\Desktop\\SF7\\coding\\PYTORCH\\project\\train\\images\\204_101_10_1bddf87a-2fec-45ab-9021-c9c6051939e0.jpg: corrupt JPEG restored and saved\n",
      "\u001b[34m\u001b[1mtrain: \u001b[0mWARNING  C:\\Users\\dawoo\\Desktop\\SF7\\coding\\PYTORCH\\project\\train\\images\\204_101_10_3507f4e0-e4a4-441c-ac77-97ca4cd15e16.jpg: corrupt JPEG restored and saved\n",
      "\u001b[34m\u001b[1mtrain: \u001b[0mWARNING  C:\\Users\\dawoo\\Desktop\\SF7\\coding\\PYTORCH\\project\\train\\images\\204_101_10_395c646b-88fe-433f-ace8-73cd04ac7fa9.jpg: corrupt JPEG restored and saved\n",
      "\u001b[34m\u001b[1mtrain: \u001b[0mWARNING  C:\\Users\\dawoo\\Desktop\\SF7\\coding\\PYTORCH\\project\\train\\images\\204_101_10_39fd14b4-8ce0-417e-a32a-10dbe0e3dbf5.jpg: corrupt JPEG restored and saved\n",
      "\u001b[34m\u001b[1mtrain: \u001b[0mWARNING  C:\\Users\\dawoo\\Desktop\\SF7\\coding\\PYTORCH\\project\\train\\images\\204_101_10_3c190529-b423-4948-b974-bfd3e605f9a4.jpg: corrupt JPEG restored and saved\n",
      "\u001b[34m\u001b[1mtrain: \u001b[0mWARNING  C:\\Users\\dawoo\\Desktop\\SF7\\coding\\PYTORCH\\project\\train\\images\\204_101_10_4eb243ce-5935-43ac-8ba1-d0a775b41892.jpg: corrupt JPEG restored and saved\n",
      "\u001b[34m\u001b[1mtrain: \u001b[0mWARNING  C:\\Users\\dawoo\\Desktop\\SF7\\coding\\PYTORCH\\project\\train\\images\\204_101_10_56e43c51-8523-42db-878c-26e68bd60501.jpg: corrupt JPEG restored and saved\n",
      "\u001b[34m\u001b[1mtrain: \u001b[0mWARNING  C:\\Users\\dawoo\\Desktop\\SF7\\coding\\PYTORCH\\project\\train\\images\\204_101_10_67576e70-c541-4572-a4a4-626b60bf61f6.jpg: corrupt JPEG restored and saved\n",
      "\u001b[34m\u001b[1mtrain: \u001b[0mWARNING  C:\\Users\\dawoo\\Desktop\\SF7\\coding\\PYTORCH\\project\\train\\images\\204_101_10_95d0ab89-8116-4936-84e7-ce540d34392a.jpg: corrupt JPEG restored and saved\n",
      "\u001b[34m\u001b[1mtrain: \u001b[0mWARNING  C:\\Users\\dawoo\\Desktop\\SF7\\coding\\PYTORCH\\project\\train\\images\\204_101_10_c2189d3a-860b-48ca-a809-f32291d4818a.jpg: corrupt JPEG restored and saved\n",
      "\u001b[34m\u001b[1mtrain: \u001b[0mWARNING  C:\\Users\\dawoo\\Desktop\\SF7\\coding\\PYTORCH\\project\\train\\images\\204_101_10_cfb36ac2-dffc-4282-8b66-a3eebf49b8a8.jpg: corrupt JPEG restored and saved\n",
      "\u001b[34m\u001b[1mtrain: \u001b[0mWARNING  C:\\Users\\dawoo\\Desktop\\SF7\\coding\\PYTORCH\\project\\train\\images\\204_101_10_d4b66a4f-06d2-4aba-8161-66d90c179062.jpg: corrupt JPEG restored and saved\n",
      "\u001b[34m\u001b[1mtrain: \u001b[0mWARNING  C:\\Users\\dawoo\\Desktop\\SF7\\coding\\PYTORCH\\project\\train\\images\\204_101_10_dfdaa227-1ec4-4977-8789-b8e998cd06dc.jpg: corrupt JPEG restored and saved\n",
      "\u001b[34m\u001b[1mtrain: \u001b[0mWARNING  C:\\Users\\dawoo\\Desktop\\SF7\\coding\\PYTORCH\\project\\train\\images\\204_101_10_e002c4d2-4a63-4f29-80fd-5865b1b6dc69.jpg: corrupt JPEG restored and saved\n",
      "\u001b[34m\u001b[1mtrain: \u001b[0mWARNING  C:\\Users\\dawoo\\Desktop\\SF7\\coding\\PYTORCH\\project\\train\\images\\204_101_10_e98c4b9f-8b77-421b-854a-b2f79c833111.jpg: corrupt JPEG restored and saved\n",
      "\u001b[34m\u001b[1mtrain: \u001b[0mWARNING  C:\\Users\\dawoo\\Desktop\\SF7\\coding\\PYTORCH\\project\\train\\images\\204_101_10_f3256b2e-f0aa-414d-b89d-83975f2807c4.jpg: corrupt JPEG restored and saved\n",
      "\u001b[34m\u001b[1mtrain: \u001b[0mWARNING  C:\\Users\\dawoo\\Desktop\\SF7\\coding\\PYTORCH\\project\\train\\images\\204_101_10_fb6d3174-f4af-4d30-b679-8a4c99fb2ec0.jpg: corrupt JPEG restored and saved\n",
      "\u001b[34m\u001b[1mtrain: \u001b[0mWARNING  C:\\Users\\dawoo\\Desktop\\SF7\\coding\\PYTORCH\\project\\train\\images\\204_101_10_fd1a2481-7656-49e4-92cc-be35c8d51910.jpg: corrupt JPEG restored and saved\n",
      "\u001b[34m\u001b[1mtrain: \u001b[0mWARNING  C:\\Users\\dawoo\\Desktop\\SF7\\coding\\PYTORCH\\project\\train\\images\\204_101_20_0380990b-093c-4041-b5e7-9e90158d3d5c.jpg: corrupt JPEG restored and saved\n",
      "\u001b[34m\u001b[1mtrain: \u001b[0mWARNING  C:\\Users\\dawoo\\Desktop\\SF7\\coding\\PYTORCH\\project\\train\\images\\204_101_20_06448ca7-3ce8-4306-bd40-06ce9c815651.jpg: corrupt JPEG restored and saved\n",
      "\u001b[34m\u001b[1mtrain: \u001b[0mWARNING  C:\\Users\\dawoo\\Desktop\\SF7\\coding\\PYTORCH\\project\\train\\images\\204_101_20_0baee9e0-db4b-413c-bc0d-f0ca69cc201c.jpg: corrupt JPEG restored and saved\n",
      "\u001b[34m\u001b[1mtrain: \u001b[0mWARNING  C:\\Users\\dawoo\\Desktop\\SF7\\coding\\PYTORCH\\project\\train\\images\\204_101_20_0cf86505-63df-457b-9bde-7cdc11a021d5.jpg: corrupt JPEG restored and saved\n",
      "\u001b[34m\u001b[1mtrain: \u001b[0mWARNING  C:\\Users\\dawoo\\Desktop\\SF7\\coding\\PYTORCH\\project\\train\\images\\204_101_20_0e556ff0-34e3-453a-abcf-9e991f2fc138.jpg: corrupt JPEG restored and saved\n",
      "\u001b[34m\u001b[1mtrain: \u001b[0mWARNING  C:\\Users\\dawoo\\Desktop\\SF7\\coding\\PYTORCH\\project\\train\\images\\204_101_20_15db74ff-1ecd-40e9-bd06-f8f559db3725.jpg: corrupt JPEG restored and saved\n",
      "\u001b[34m\u001b[1mtrain: \u001b[0mWARNING  C:\\Users\\dawoo\\Desktop\\SF7\\coding\\PYTORCH\\project\\train\\images\\204_101_20_17523dde-e8fa-4390-ac5e-b0736988c8c5.jpg: corrupt JPEG restored and saved\n",
      "\u001b[34m\u001b[1mtrain: \u001b[0mWARNING  C:\\Users\\dawoo\\Desktop\\SF7\\coding\\PYTORCH\\project\\train\\images\\204_101_20_1850ecbb-7653-4289-8839-8757e278475f.jpg: corrupt JPEG restored and saved\n",
      "\u001b[34m\u001b[1mtrain: \u001b[0mWARNING  C:\\Users\\dawoo\\Desktop\\SF7\\coding\\PYTORCH\\project\\train\\images\\204_101_20_202f1caf-f0ab-43e6-a839-05b97cfd41fe.jpg: corrupt JPEG restored and saved\n",
      "\u001b[34m\u001b[1mtrain: \u001b[0mWARNING  C:\\Users\\dawoo\\Desktop\\SF7\\coding\\PYTORCH\\project\\train\\images\\204_101_20_2c43e8d4-0c66-4414-b1eb-6d3df277ae3b.jpg: corrupt JPEG restored and saved\n",
      "\u001b[34m\u001b[1mtrain: \u001b[0mWARNING  C:\\Users\\dawoo\\Desktop\\SF7\\coding\\PYTORCH\\project\\train\\images\\204_101_20_322008bd-4176-41f2-865f-940cb27f0d15.jpg: corrupt JPEG restored and saved\n",
      "\u001b[34m\u001b[1mtrain: \u001b[0mWARNING  C:\\Users\\dawoo\\Desktop\\SF7\\coding\\PYTORCH\\project\\train\\images\\204_101_20_4003f8be-33fc-47cb-b1d8-bbb9f6df47a8.jpg: corrupt JPEG restored and saved\n",
      "\u001b[34m\u001b[1mtrain: \u001b[0mWARNING  C:\\Users\\dawoo\\Desktop\\SF7\\coding\\PYTORCH\\project\\train\\images\\204_101_20_47bbafef-493a-4500-bcd7-eca509044d39.jpg: corrupt JPEG restored and saved\n",
      "\u001b[34m\u001b[1mtrain: \u001b[0mWARNING  C:\\Users\\dawoo\\Desktop\\SF7\\coding\\PYTORCH\\project\\train\\images\\204_101_20_49b31289-535a-422f-9fcc-7b7aafd3fa8f.jpg: corrupt JPEG restored and saved\n",
      "\u001b[34m\u001b[1mtrain: \u001b[0mWARNING  C:\\Users\\dawoo\\Desktop\\SF7\\coding\\PYTORCH\\project\\train\\images\\204_101_20_548864b0-30e4-4e7c-8a67-922549e5d51e.jpg: corrupt JPEG restored and saved\n",
      "\u001b[34m\u001b[1mtrain: \u001b[0mWARNING  C:\\Users\\dawoo\\Desktop\\SF7\\coding\\PYTORCH\\project\\train\\images\\204_101_20_5c3f470a-6216-4985-abfc-f7d351b876ee.jpg: corrupt JPEG restored and saved\n",
      "\u001b[34m\u001b[1mtrain: \u001b[0mWARNING  C:\\Users\\dawoo\\Desktop\\SF7\\coding\\PYTORCH\\project\\train\\images\\204_101_20_5df5bdbf-d1f1-4ff8-9e7d-23776cd111a2.jpg: corrupt JPEG restored and saved\n",
      "\u001b[34m\u001b[1mtrain: \u001b[0mWARNING  C:\\Users\\dawoo\\Desktop\\SF7\\coding\\PYTORCH\\project\\train\\images\\204_101_20_65f1591f-fe84-49af-8517-8fbe4788a7d9.jpg: corrupt JPEG restored and saved\n",
      "\u001b[34m\u001b[1mtrain: \u001b[0mWARNING  C:\\Users\\dawoo\\Desktop\\SF7\\coding\\PYTORCH\\project\\train\\images\\204_101_20_677f1848-1a08-4df7-a364-62b183f4cde5.jpg: corrupt JPEG restored and saved\n",
      "\u001b[34m\u001b[1mtrain: \u001b[0mWARNING  C:\\Users\\dawoo\\Desktop\\SF7\\coding\\PYTORCH\\project\\train\\images\\204_101_20_67eb6f36-c26e-4a6c-b149-679d80a70a9c.jpg: corrupt JPEG restored and saved\n",
      "\u001b[34m\u001b[1mtrain: \u001b[0mWARNING  C:\\Users\\dawoo\\Desktop\\SF7\\coding\\PYTORCH\\project\\train\\images\\204_101_20_6dd075bd-1fbe-4236-8653-57d36b744c00.jpg: corrupt JPEG restored and saved\n",
      "\u001b[34m\u001b[1mtrain: \u001b[0mWARNING  C:\\Users\\dawoo\\Desktop\\SF7\\coding\\PYTORCH\\project\\train\\images\\204_101_20_751d6293-d7de-4593-84ff-683fa400263c.jpg: corrupt JPEG restored and saved\n",
      "\u001b[34m\u001b[1mtrain: \u001b[0mWARNING  C:\\Users\\dawoo\\Desktop\\SF7\\coding\\PYTORCH\\project\\train\\images\\204_101_20_78ffabd2-26b5-4dc1-9088-b395bd858ca2.jpg: corrupt JPEG restored and saved\n",
      "\u001b[34m\u001b[1mtrain: \u001b[0mWARNING  C:\\Users\\dawoo\\Desktop\\SF7\\coding\\PYTORCH\\project\\train\\images\\204_101_20_7accca3d-4da6-4be2-88a7-b989bc2be1f7.jpg: corrupt JPEG restored and saved\n",
      "\u001b[34m\u001b[1mtrain: \u001b[0mWARNING  C:\\Users\\dawoo\\Desktop\\SF7\\coding\\PYTORCH\\project\\train\\images\\204_101_20_83852ce3-4f07-4dee-afb4-e690358280cc.jpg: corrupt JPEG restored and saved\n",
      "\u001b[34m\u001b[1mtrain: \u001b[0mWARNING  C:\\Users\\dawoo\\Desktop\\SF7\\coding\\PYTORCH\\project\\train\\images\\204_101_20_83cf806a-bb2a-4f3d-8703-b1aac489e3ad.jpg: corrupt JPEG restored and saved\n",
      "\u001b[34m\u001b[1mtrain: \u001b[0mWARNING  C:\\Users\\dawoo\\Desktop\\SF7\\coding\\PYTORCH\\project\\train\\images\\204_101_20_85659138-1408-4938-8304-6a69c47eb7ce.jpg: corrupt JPEG restored and saved\n",
      "\u001b[34m\u001b[1mtrain: \u001b[0mWARNING  C:\\Users\\dawoo\\Desktop\\SF7\\coding\\PYTORCH\\project\\train\\images\\204_101_20_93a3da09-67bc-409a-914e-5626e14860c6.jpg: corrupt JPEG restored and saved\n",
      "\u001b[34m\u001b[1mtrain: \u001b[0mWARNING  C:\\Users\\dawoo\\Desktop\\SF7\\coding\\PYTORCH\\project\\train\\images\\204_101_20_97e07b2a-6a33-4188-bea8-cb10a3f7475a.jpg: corrupt JPEG restored and saved\n",
      "\u001b[34m\u001b[1mtrain: \u001b[0mWARNING  C:\\Users\\dawoo\\Desktop\\SF7\\coding\\PYTORCH\\project\\train\\images\\204_101_20_98e7c167-b6e5-4a9f-9957-4f4c209d9173.jpg: corrupt JPEG restored and saved\n",
      "\u001b[34m\u001b[1mtrain: \u001b[0mWARNING  C:\\Users\\dawoo\\Desktop\\SF7\\coding\\PYTORCH\\project\\train\\images\\204_101_20_9dddca91-99e9-4f55-b90f-f55c88d0ee99.jpg: corrupt JPEG restored and saved\n",
      "\u001b[34m\u001b[1mtrain: \u001b[0mWARNING  C:\\Users\\dawoo\\Desktop\\SF7\\coding\\PYTORCH\\project\\train\\images\\204_101_20_9e5864df-8e50-41a5-b044-32dd5710956c.jpg: corrupt JPEG restored and saved\n",
      "\u001b[34m\u001b[1mtrain: \u001b[0mWARNING  C:\\Users\\dawoo\\Desktop\\SF7\\coding\\PYTORCH\\project\\train\\images\\204_101_20_a0cea2ef-1a8e-44c8-9dea-36a7ce176e9d.jpg: corrupt JPEG restored and saved\n",
      "\u001b[34m\u001b[1mtrain: \u001b[0mWARNING  C:\\Users\\dawoo\\Desktop\\SF7\\coding\\PYTORCH\\project\\train\\images\\204_101_20_a4c0fd08-2e5b-4966-a4c4-2f14372a9763.jpg: corrupt JPEG restored and saved\n",
      "\u001b[34m\u001b[1mtrain: \u001b[0mWARNING  C:\\Users\\dawoo\\Desktop\\SF7\\coding\\PYTORCH\\project\\train\\images\\204_101_20_a530b291-61fb-4183-b377-070cd23aa01f.jpg: corrupt JPEG restored and saved\n",
      "\u001b[34m\u001b[1mtrain: \u001b[0mWARNING  C:\\Users\\dawoo\\Desktop\\SF7\\coding\\PYTORCH\\project\\train\\images\\204_101_20_a8f6510b-18bb-44c0-9a4b-1ec75d6df581.jpg: corrupt JPEG restored and saved\n",
      "\u001b[34m\u001b[1mtrain: \u001b[0mWARNING  C:\\Users\\dawoo\\Desktop\\SF7\\coding\\PYTORCH\\project\\train\\images\\204_101_20_b07e22e9-5f78-4c94-95f3-94a3afb917ec.jpg: corrupt JPEG restored and saved\n",
      "\u001b[34m\u001b[1mtrain: \u001b[0mWARNING  C:\\Users\\dawoo\\Desktop\\SF7\\coding\\PYTORCH\\project\\train\\images\\204_101_20_b36a73a4-5360-4330-ac9e-b84de3415606.jpg: corrupt JPEG restored and saved\n",
      "\u001b[34m\u001b[1mtrain: \u001b[0mWARNING  C:\\Users\\dawoo\\Desktop\\SF7\\coding\\PYTORCH\\project\\train\\images\\204_101_20_b9e69f31-80b6-4354-b22a-fdb90d4669e5.jpg: corrupt JPEG restored and saved\n",
      "\u001b[34m\u001b[1mtrain: \u001b[0mWARNING  C:\\Users\\dawoo\\Desktop\\SF7\\coding\\PYTORCH\\project\\train\\images\\204_101_20_bb553ac9-58b6-4acf-86e0-8533a640777a.jpg: corrupt JPEG restored and saved\n",
      "\u001b[34m\u001b[1mtrain: \u001b[0mWARNING  C:\\Users\\dawoo\\Desktop\\SF7\\coding\\PYTORCH\\project\\train\\images\\204_101_20_c46e91c6-ca88-430a-ba4f-e1d4cc0e5a04.jpg: corrupt JPEG restored and saved\n",
      "\u001b[34m\u001b[1mtrain: \u001b[0mWARNING  C:\\Users\\dawoo\\Desktop\\SF7\\coding\\PYTORCH\\project\\train\\images\\204_101_20_c88af863-1cf6-405f-a673-0366c138f899.jpg: corrupt JPEG restored and saved\n",
      "\u001b[34m\u001b[1mtrain: \u001b[0mWARNING  C:\\Users\\dawoo\\Desktop\\SF7\\coding\\PYTORCH\\project\\train\\images\\204_101_20_c8ad3588-1d17-4d6b-80ee-1a9d4ce835b8.jpg: corrupt JPEG restored and saved\n",
      "\u001b[34m\u001b[1mtrain: \u001b[0mWARNING  C:\\Users\\dawoo\\Desktop\\SF7\\coding\\PYTORCH\\project\\train\\images\\204_101_20_cf575e10-fa12-467f-9afe-cd86c01a9b01.jpg: corrupt JPEG restored and saved\n",
      "\u001b[34m\u001b[1mtrain: \u001b[0mWARNING  C:\\Users\\dawoo\\Desktop\\SF7\\coding\\PYTORCH\\project\\train\\images\\204_101_20_cf7034c6-d727-48f7-b74b-4a05a39c05b2.jpeg: corrupt JPEG restored and saved\n",
      "\u001b[34m\u001b[1mtrain: \u001b[0mWARNING  C:\\Users\\dawoo\\Desktop\\SF7\\coding\\PYTORCH\\project\\train\\images\\204_101_20_d6cd1796-cabd-4692-a01a-fe0374179b46.jpg: corrupt JPEG restored and saved\n",
      "\u001b[34m\u001b[1mtrain: \u001b[0mWARNING  C:\\Users\\dawoo\\Desktop\\SF7\\coding\\PYTORCH\\project\\train\\images\\204_101_20_db1a5f8d-a0e4-4306-9a1d-1ce94b8cb7b5.jpg: corrupt JPEG restored and saved\n",
      "\u001b[34m\u001b[1mtrain: \u001b[0mWARNING  C:\\Users\\dawoo\\Desktop\\SF7\\coding\\PYTORCH\\project\\train\\images\\204_101_20_e0eff5ac-22fc-4040-9f62-6510f4b52df0.jpg: corrupt JPEG restored and saved\n",
      "\u001b[34m\u001b[1mtrain: \u001b[0mWARNING  C:\\Users\\dawoo\\Desktop\\SF7\\coding\\PYTORCH\\project\\train\\images\\204_101_20_e3cc3770-9cf7-4fd8-8e46-0414518bebee.jpg: corrupt JPEG restored and saved\n",
      "\u001b[34m\u001b[1mtrain: \u001b[0mWARNING  C:\\Users\\dawoo\\Desktop\\SF7\\coding\\PYTORCH\\project\\train\\images\\204_101_20_e472c8cd-8a2a-4d28-ba01-9be28185eb16.jpg: corrupt JPEG restored and saved\n",
      "\u001b[34m\u001b[1mtrain: \u001b[0mWARNING  C:\\Users\\dawoo\\Desktop\\SF7\\coding\\PYTORCH\\project\\train\\images\\204_101_20_e527d451-deeb-4c2e-a36b-a7093d9796b5.jpg: corrupt JPEG restored and saved\n",
      "\u001b[34m\u001b[1mtrain: \u001b[0mWARNING  C:\\Users\\dawoo\\Desktop\\SF7\\coding\\PYTORCH\\project\\train\\images\\204_101_20_e77a7567-ad74-46a1-b675-60e732ea091b.jpg: corrupt JPEG restored and saved\n",
      "\u001b[34m\u001b[1mtrain: \u001b[0mWARNING  C:\\Users\\dawoo\\Desktop\\SF7\\coding\\PYTORCH\\project\\train\\images\\204_101_20_eadeed4d-3910-48ee-b241-026657dd2190.jpg: corrupt JPEG restored and saved\n",
      "\u001b[34m\u001b[1mtrain: \u001b[0mWARNING  C:\\Users\\dawoo\\Desktop\\SF7\\coding\\PYTORCH\\project\\train\\images\\204_101_20_eb88d519-a81d-4b4e-ab92-f57ebb9f8358.jpg: corrupt JPEG restored and saved\n",
      "\u001b[34m\u001b[1mtrain: \u001b[0mWARNING  C:\\Users\\dawoo\\Desktop\\SF7\\coding\\PYTORCH\\project\\train\\images\\204_101_20_f291e63c-b59a-4e2b-90b0-cb1576083628.jpg: corrupt JPEG restored and saved\n",
      "\u001b[34m\u001b[1mtrain: \u001b[0mWARNING  C:\\Users\\dawoo\\Desktop\\SF7\\coding\\PYTORCH\\project\\train\\images\\204_101_20_fabee001-37eb-4892-ad4d-32e8e531066a.jpg: corrupt JPEG restored and saved\n",
      "\u001b[34m\u001b[1mtrain: \u001b[0mWARNING  C:\\Users\\dawoo\\Desktop\\SF7\\coding\\PYTORCH\\project\\train\\images\\204_101_20_fff6a1f8-4b54-4295-a62f-b479e0bea824.jpg: corrupt JPEG restored and saved\n",
      "\u001b[34m\u001b[1mtrain: \u001b[0mWARNING  C:\\Users\\dawoo\\Desktop\\SF7\\coding\\PYTORCH\\project\\train\\images\\204_102_10_19d01fd3-3461-41a5-a9c4-e00e25045735.jpg: corrupt JPEG restored and saved\n",
      "\u001b[34m\u001b[1mtrain: \u001b[0mWARNING  C:\\Users\\dawoo\\Desktop\\SF7\\coding\\PYTORCH\\project\\train\\images\\204_102_10_36f7ff45-e1aa-4bb1-89ba-3bb39e0596f4.jpg: corrupt JPEG restored and saved\n",
      "\u001b[34m\u001b[1mtrain: \u001b[0mWARNING  C:\\Users\\dawoo\\Desktop\\SF7\\coding\\PYTORCH\\project\\train\\images\\204_102_10_40606b9f-4d42-4566-af0a-da4d2be5b4d2.jpg: corrupt JPEG restored and saved\n",
      "\u001b[34m\u001b[1mtrain: \u001b[0mWARNING  C:\\Users\\dawoo\\Desktop\\SF7\\coding\\PYTORCH\\project\\train\\images\\204_102_10_59a54f15-5eb5-4e94-a72b-59d2d9875c0b.jpg: corrupt JPEG restored and saved\n",
      "\u001b[34m\u001b[1mtrain: \u001b[0mWARNING  C:\\Users\\dawoo\\Desktop\\SF7\\coding\\PYTORCH\\project\\train\\images\\204_102_10_635a5215-cf96-463b-8498-d676171ed95f.jpg: corrupt JPEG restored and saved\n",
      "\u001b[34m\u001b[1mtrain: \u001b[0mWARNING  C:\\Users\\dawoo\\Desktop\\SF7\\coding\\PYTORCH\\project\\train\\images\\204_102_10_72e54d7f-e188-4ffd-af88-0f02c79e5502.jpg: corrupt JPEG restored and saved\n",
      "\u001b[34m\u001b[1mtrain: \u001b[0mWARNING  C:\\Users\\dawoo\\Desktop\\SF7\\coding\\PYTORCH\\project\\train\\images\\204_102_10_89cfda97-3ff3-411b-8156-33e985031448.jpg: corrupt JPEG restored and saved\n",
      "\u001b[34m\u001b[1mtrain: \u001b[0mWARNING  C:\\Users\\dawoo\\Desktop\\SF7\\coding\\PYTORCH\\project\\train\\images\\204_102_10_b4fd3ad6-3ccb-435a-aca0-3c51feb8b705.jpg: corrupt JPEG restored and saved\n",
      "\u001b[34m\u001b[1mtrain: \u001b[0mWARNING  C:\\Users\\dawoo\\Desktop\\SF7\\coding\\PYTORCH\\project\\train\\images\\204_102_10_c33db07f-1b7e-4722-b10f-51de1d24b25a.jpg: corrupt JPEG restored and saved\n",
      "\u001b[34m\u001b[1mtrain: \u001b[0mWARNING  C:\\Users\\dawoo\\Desktop\\SF7\\coding\\PYTORCH\\project\\train\\images\\204_102_10_dc9bfa30-7e0d-4638-a2b7-20a6b20cdca6.jpg: corrupt JPEG restored and saved\n",
      "\u001b[34m\u001b[1mtrain: \u001b[0mWARNING  C:\\Users\\dawoo\\Desktop\\SF7\\coding\\PYTORCH\\project\\train\\images\\204_102_10_fb1b57cd-69d6-46fc-85e5-562d257e051c.jpg: corrupt JPEG restored and saved\n",
      "\u001b[34m\u001b[1mtrain: \u001b[0mWARNING  C:\\Users\\dawoo\\Desktop\\SF7\\coding\\PYTORCH\\project\\train\\images\\204_102_10_fd73e6d9-76e3-4e20-9584-865896f40430.jpg: corrupt JPEG restored and saved\n",
      "\u001b[34m\u001b[1mtrain: \u001b[0mWARNING  C:\\Users\\dawoo\\Desktop\\SF7\\coding\\PYTORCH\\project\\train\\images\\204_102_20_066a0380-f8ac-441a-89b3-90aed5e34ffa.jpg: corrupt JPEG restored and saved\n",
      "\u001b[34m\u001b[1mtrain: \u001b[0mWARNING  C:\\Users\\dawoo\\Desktop\\SF7\\coding\\PYTORCH\\project\\train\\images\\204_102_20_1ce4a27f-f487-4170-8856-314a6c533660.jpg: corrupt JPEG restored and saved\n",
      "\u001b[34m\u001b[1mtrain: \u001b[0mWARNING  C:\\Users\\dawoo\\Desktop\\SF7\\coding\\PYTORCH\\project\\train\\images\\204_102_20_314c4105-fa46-44db-9002-edcd0d0ab7db.jpg: corrupt JPEG restored and saved\n",
      "\u001b[34m\u001b[1mtrain: \u001b[0mWARNING  C:\\Users\\dawoo\\Desktop\\SF7\\coding\\PYTORCH\\project\\train\\images\\204_102_20_3333e5a1-7ccc-49aa-abb4-0193d8bdcbc9.jpg: corrupt JPEG restored and saved\n",
      "\u001b[34m\u001b[1mtrain: \u001b[0mWARNING  C:\\Users\\dawoo\\Desktop\\SF7\\coding\\PYTORCH\\project\\train\\images\\204_102_20_362ec388-f953-49a1-9a09-0568c4fc48c9.jpg: corrupt JPEG restored and saved\n",
      "\u001b[34m\u001b[1mtrain: \u001b[0mWARNING  C:\\Users\\dawoo\\Desktop\\SF7\\coding\\PYTORCH\\project\\train\\images\\204_102_20_4b7c7372-3890-47db-affb-865cb0035792.jpg: corrupt JPEG restored and saved\n",
      "\u001b[34m\u001b[1mtrain: \u001b[0mWARNING  C:\\Users\\dawoo\\Desktop\\SF7\\coding\\PYTORCH\\project\\train\\images\\204_102_20_4cdf1295-12bb-4c08-95dc-54751a96b1d1.jpg: corrupt JPEG restored and saved\n",
      "\u001b[34m\u001b[1mtrain: \u001b[0mWARNING  C:\\Users\\dawoo\\Desktop\\SF7\\coding\\PYTORCH\\project\\train\\images\\204_102_20_73f815a3-e138-4f96-8d86-0a0d67d86407.jpg: corrupt JPEG restored and saved\n",
      "\u001b[34m\u001b[1mtrain: \u001b[0mWARNING  C:\\Users\\dawoo\\Desktop\\SF7\\coding\\PYTORCH\\project\\train\\images\\204_102_20_77d71c1a-d671-4b52-a383-ed595bd80eac.jpg: corrupt JPEG restored and saved\n",
      "\u001b[34m\u001b[1mtrain: \u001b[0mWARNING  C:\\Users\\dawoo\\Desktop\\SF7\\coding\\PYTORCH\\project\\train\\images\\204_102_20_7970a7bd-5911-4a5f-9f04-afbcd3f62cf2.jpg: corrupt JPEG restored and saved\n",
      "\u001b[34m\u001b[1mtrain: \u001b[0mWARNING  C:\\Users\\dawoo\\Desktop\\SF7\\coding\\PYTORCH\\project\\train\\images\\204_102_20_869ba16a-1ee9-415d-b880-64496601ab24.jpg: corrupt JPEG restored and saved\n",
      "\u001b[34m\u001b[1mtrain: \u001b[0mWARNING  C:\\Users\\dawoo\\Desktop\\SF7\\coding\\PYTORCH\\project\\train\\images\\204_102_20_8a70fb22-600d-4c6b-a481-0261270cffcc.jpg: corrupt JPEG restored and saved\n",
      "\u001b[34m\u001b[1mtrain: \u001b[0mWARNING  C:\\Users\\dawoo\\Desktop\\SF7\\coding\\PYTORCH\\project\\train\\images\\204_102_20_8f86431d-eb55-40ff-b6ee-6b199b8129f8.jpg: corrupt JPEG restored and saved\n",
      "\u001b[34m\u001b[1mtrain: \u001b[0mWARNING  C:\\Users\\dawoo\\Desktop\\SF7\\coding\\PYTORCH\\project\\train\\images\\204_102_20_9ea698e4-ea3d-4f2f-9916-93f3091964cc.jpg: corrupt JPEG restored and saved\n",
      "\u001b[34m\u001b[1mtrain: \u001b[0mWARNING  C:\\Users\\dawoo\\Desktop\\SF7\\coding\\PYTORCH\\project\\train\\images\\204_102_20_a521011f-0630-4ebc-b86d-aa140b77ffae.jpg: corrupt JPEG restored and saved\n",
      "\u001b[34m\u001b[1mtrain: \u001b[0mWARNING  C:\\Users\\dawoo\\Desktop\\SF7\\coding\\PYTORCH\\project\\train\\images\\204_102_20_d02a39f4-a5ff-4dd4-8225-c50345370cca.jpg: corrupt JPEG restored and saved\n",
      "\u001b[34m\u001b[1mtrain: \u001b[0mWARNING  C:\\Users\\dawoo\\Desktop\\SF7\\coding\\PYTORCH\\project\\train\\images\\204_102_20_fb0473b8-3d81-4ef6-95ee-6a431b6bebf2.jpg: corrupt JPEG restored and saved\n",
      "\u001b[34m\u001b[1mtrain: \u001b[0mWARNING  C:\\Users\\dawoo\\Desktop\\SF7\\coding\\PYTORCH\\project\\train\\images\\204_102_20_fd27fdaa-2a87-4950-987b-0a4a18040619.jpg: corrupt JPEG restored and saved\n",
      "\u001b[34m\u001b[1mtrain: \u001b[0mWARNING  C:\\Users\\dawoo\\Desktop\\SF7\\coding\\PYTORCH\\project\\train\\images\\205_101_10_04de214e-8fa1-40c6-a325-df2e612a893f.jpg: corrupt JPEG restored and saved\n",
      "\u001b[34m\u001b[1mtrain: \u001b[0mWARNING  C:\\Users\\dawoo\\Desktop\\SF7\\coding\\PYTORCH\\project\\train\\images\\205_101_10_0c629b1b-9e2c-475c-831f-819dad04940b.jpg: corrupt JPEG restored and saved\n",
      "\u001b[34m\u001b[1mtrain: \u001b[0mWARNING  C:\\Users\\dawoo\\Desktop\\SF7\\coding\\PYTORCH\\project\\train\\images\\205_101_10_13737ec9-9526-4428-b72f-7718a24f792c.jpg: corrupt JPEG restored and saved\n",
      "\u001b[34m\u001b[1mtrain: \u001b[0mWARNING  C:\\Users\\dawoo\\Desktop\\SF7\\coding\\PYTORCH\\project\\train\\images\\205_101_10_1c216083-dbb0-4f4c-ad1a-286b29f3fd26.jpg: corrupt JPEG restored and saved\n",
      "\u001b[34m\u001b[1mtrain: \u001b[0mWARNING  C:\\Users\\dawoo\\Desktop\\SF7\\coding\\PYTORCH\\project\\train\\images\\205_101_10_220c7621-5df5-4cba-a356-3707c4cf39db.jpg: corrupt JPEG restored and saved\n",
      "\u001b[34m\u001b[1mtrain: \u001b[0mWARNING  C:\\Users\\dawoo\\Desktop\\SF7\\coding\\PYTORCH\\project\\train\\images\\205_101_10_26291af5-21d5-4e8c-9b03-f5bb04e31da0.jpg: corrupt JPEG restored and saved\n",
      "\u001b[34m\u001b[1mtrain: \u001b[0mWARNING  C:\\Users\\dawoo\\Desktop\\SF7\\coding\\PYTORCH\\project\\train\\images\\205_101_10_27c201c3-fcbe-418c-af51-92079937fbdf.jpg: corrupt JPEG restored and saved\n",
      "\u001b[34m\u001b[1mtrain: \u001b[0mWARNING  C:\\Users\\dawoo\\Desktop\\SF7\\coding\\PYTORCH\\project\\train\\images\\205_101_10_375c76af-45f4-4a56-ba61-bdf3a35d1f16.jpg: corrupt JPEG restored and saved\n",
      "\u001b[34m\u001b[1mtrain: \u001b[0mWARNING  C:\\Users\\dawoo\\Desktop\\SF7\\coding\\PYTORCH\\project\\train\\images\\205_101_10_3e1ba5e1-eaa5-4dcb-a088-67667d32c221.jpg: corrupt JPEG restored and saved\n",
      "\u001b[34m\u001b[1mtrain: \u001b[0mWARNING  C:\\Users\\dawoo\\Desktop\\SF7\\coding\\PYTORCH\\project\\train\\images\\205_101_10_521350ce-28f1-4364-a499-26d29cb23ade.jpg: corrupt JPEG restored and saved\n",
      "\u001b[34m\u001b[1mtrain: \u001b[0mWARNING  C:\\Users\\dawoo\\Desktop\\SF7\\coding\\PYTORCH\\project\\train\\images\\205_101_10_53221a11-0235-4271-b9ce-08a3d8e316b8.jpg: corrupt JPEG restored and saved\n",
      "\u001b[34m\u001b[1mtrain: \u001b[0mWARNING  C:\\Users\\dawoo\\Desktop\\SF7\\coding\\PYTORCH\\project\\train\\images\\205_101_10_59794188-d151-4ec1-b880-7912e5ded057.jpg: corrupt JPEG restored and saved\n",
      "\u001b[34m\u001b[1mtrain: \u001b[0mWARNING  C:\\Users\\dawoo\\Desktop\\SF7\\coding\\PYTORCH\\project\\train\\images\\205_101_10_5db122f3-3852-4d1c-a402-7d8a69432086.jpg: corrupt JPEG restored and saved\n",
      "\u001b[34m\u001b[1mtrain: \u001b[0mWARNING  C:\\Users\\dawoo\\Desktop\\SF7\\coding\\PYTORCH\\project\\train\\images\\205_101_10_60da5008-10b2-40b9-a0f6-e7dc22d2f11c.jpg: corrupt JPEG restored and saved\n",
      "\u001b[34m\u001b[1mtrain: \u001b[0mWARNING  C:\\Users\\dawoo\\Desktop\\SF7\\coding\\PYTORCH\\project\\train\\images\\205_101_10_7078ef78-2397-4ae6-af72-38ad4620b222.jpg: corrupt JPEG restored and saved\n",
      "\u001b[34m\u001b[1mtrain: \u001b[0mWARNING  C:\\Users\\dawoo\\Desktop\\SF7\\coding\\PYTORCH\\project\\train\\images\\205_101_10_7ea4da98-4177-4848-842b-1bf270178e37.jpg: corrupt JPEG restored and saved\n",
      "\u001b[34m\u001b[1mtrain: \u001b[0mWARNING  C:\\Users\\dawoo\\Desktop\\SF7\\coding\\PYTORCH\\project\\train\\images\\205_101_10_80320384-4a4e-4379-a34c-4c1efe71deaa.jpg: corrupt JPEG restored and saved\n",
      "\u001b[34m\u001b[1mtrain: \u001b[0mWARNING  C:\\Users\\dawoo\\Desktop\\SF7\\coding\\PYTORCH\\project\\train\\images\\205_101_10_873e4772-0c61-4436-81d5-28d642ac1546.jpg: corrupt JPEG restored and saved\n",
      "\u001b[34m\u001b[1mtrain: \u001b[0mWARNING  C:\\Users\\dawoo\\Desktop\\SF7\\coding\\PYTORCH\\project\\train\\images\\205_101_10_88f9ad15-6a5f-4523-a98e-b5cc5080b070.jpg: corrupt JPEG restored and saved\n",
      "\u001b[34m\u001b[1mtrain: \u001b[0mWARNING  C:\\Users\\dawoo\\Desktop\\SF7\\coding\\PYTORCH\\project\\train\\images\\205_101_10_91aeabbf-854c-4ff4-b896-3affd4cc7498.jpg: corrupt JPEG restored and saved\n",
      "\u001b[34m\u001b[1mtrain: \u001b[0mWARNING  C:\\Users\\dawoo\\Desktop\\SF7\\coding\\PYTORCH\\project\\train\\images\\205_101_10_9f195ebf-47c7-4648-868a-9e6e77c9af57.jpeg: corrupt JPEG restored and saved\n",
      "\u001b[34m\u001b[1mtrain: \u001b[0mWARNING  C:\\Users\\dawoo\\Desktop\\SF7\\coding\\PYTORCH\\project\\train\\images\\205_101_10_b8832f35-c814-46c4-b452-77523bb7d538.jpg: corrupt JPEG restored and saved\n",
      "\u001b[34m\u001b[1mtrain: \u001b[0mWARNING  C:\\Users\\dawoo\\Desktop\\SF7\\coding\\PYTORCH\\project\\train\\images\\205_101_10_b88751f2-7fcb-4c5d-a7fb-14909c04c8da.jpg: corrupt JPEG restored and saved\n",
      "\u001b[34m\u001b[1mtrain: \u001b[0mWARNING  C:\\Users\\dawoo\\Desktop\\SF7\\coding\\PYTORCH\\project\\train\\images\\205_101_10_bbcec1e2-8fc4-4af0-8e9e-767baff7f6bd.jpg: corrupt JPEG restored and saved\n",
      "\u001b[34m\u001b[1mtrain: \u001b[0mWARNING  C:\\Users\\dawoo\\Desktop\\SF7\\coding\\PYTORCH\\project\\train\\images\\205_101_10_beb121d6-3dc4-4c62-93f4-42d362d0d645.jpg: corrupt JPEG restored and saved\n",
      "\u001b[34m\u001b[1mtrain: \u001b[0mWARNING  C:\\Users\\dawoo\\Desktop\\SF7\\coding\\PYTORCH\\project\\train\\images\\205_101_10_c64b70fa-f5c9-4ed3-8b0c-20e6029fb7f0.jpg: corrupt JPEG restored and saved\n",
      "\u001b[34m\u001b[1mtrain: \u001b[0mWARNING  C:\\Users\\dawoo\\Desktop\\SF7\\coding\\PYTORCH\\project\\train\\images\\205_101_10_d947f82c-d5a1-41ce-aca3-bdf5bbb31e51.jpg: corrupt JPEG restored and saved\n",
      "\u001b[34m\u001b[1mtrain: \u001b[0mWARNING  C:\\Users\\dawoo\\Desktop\\SF7\\coding\\PYTORCH\\project\\train\\images\\205_101_10_da139e17-36df-4584-9145-44036053cb84.jpg: corrupt JPEG restored and saved\n",
      "\u001b[34m\u001b[1mtrain: \u001b[0mWARNING  C:\\Users\\dawoo\\Desktop\\SF7\\coding\\PYTORCH\\project\\train\\images\\205_101_10_dffc6261-40df-405e-b491-9bcc7068d5b7.jpg: corrupt JPEG restored and saved\n",
      "\u001b[34m\u001b[1mtrain: \u001b[0mWARNING  C:\\Users\\dawoo\\Desktop\\SF7\\coding\\PYTORCH\\project\\train\\images\\205_101_10_e1cdb468-b399-4ba2-a275-94a96c83f0ec.jpg: corrupt JPEG restored and saved\n",
      "\u001b[34m\u001b[1mtrain: \u001b[0mWARNING  C:\\Users\\dawoo\\Desktop\\SF7\\coding\\PYTORCH\\project\\train\\images\\205_101_10_e3b3e6a8-7678-48ee-8728-9547c3a56113.jpg: corrupt JPEG restored and saved\n",
      "\u001b[34m\u001b[1mtrain: \u001b[0mWARNING  C:\\Users\\dawoo\\Desktop\\SF7\\coding\\PYTORCH\\project\\train\\images\\205_101_10_f36342ea-4cf8-4a05-9d6d-66a8633de660.jpg: corrupt JPEG restored and saved\n",
      "\u001b[34m\u001b[1mtrain: \u001b[0mWARNING  C:\\Users\\dawoo\\Desktop\\SF7\\coding\\PYTORCH\\project\\train\\images\\205_101_10_f4433798-6cf7-40ff-98ba-4370eecc5cbc.jpg: corrupt JPEG restored and saved\n",
      "\u001b[34m\u001b[1mtrain: \u001b[0mWARNING  C:\\Users\\dawoo\\Desktop\\SF7\\coding\\PYTORCH\\project\\train\\images\\205_101_20_021287b5-7f95-4ce0-a9db-8a4b847a0fb4.jpg: corrupt JPEG restored and saved\n",
      "\u001b[34m\u001b[1mtrain: \u001b[0mWARNING  C:\\Users\\dawoo\\Desktop\\SF7\\coding\\PYTORCH\\project\\train\\images\\205_101_20_0914b3a7-f7f9-4790-a0b9-9d339003995d.jpg: corrupt JPEG restored and saved\n",
      "\u001b[34m\u001b[1mtrain: \u001b[0mWARNING  C:\\Users\\dawoo\\Desktop\\SF7\\coding\\PYTORCH\\project\\train\\images\\205_101_20_09d28ab8-8b6a-452c-a052-747464da1804.jpg: corrupt JPEG restored and saved\n",
      "\u001b[34m\u001b[1mtrain: \u001b[0mWARNING  C:\\Users\\dawoo\\Desktop\\SF7\\coding\\PYTORCH\\project\\train\\images\\205_101_20_09e8e3a2-a976-49dc-be05-243bd1dd8f67.jpg: corrupt JPEG restored and saved\n",
      "\u001b[34m\u001b[1mtrain: \u001b[0mWARNING  C:\\Users\\dawoo\\Desktop\\SF7\\coding\\PYTORCH\\project\\train\\images\\205_101_20_0ad1be6b-06d6-4a47-bd0b-e3bb89d5a79c.jpg: corrupt JPEG restored and saved\n",
      "\u001b[34m\u001b[1mtrain: \u001b[0mWARNING  C:\\Users\\dawoo\\Desktop\\SF7\\coding\\PYTORCH\\project\\train\\images\\205_101_20_0d611a33-0b63-4d69-87d4-6ac59ccfea9d.jpg: corrupt JPEG restored and saved\n",
      "\u001b[34m\u001b[1mtrain: \u001b[0mWARNING  C:\\Users\\dawoo\\Desktop\\SF7\\coding\\PYTORCH\\project\\train\\images\\205_101_20_123ee3ef-11f0-4b1d-8a58-e34fc45f279f.jpg: corrupt JPEG restored and saved\n",
      "\u001b[34m\u001b[1mtrain: \u001b[0mWARNING  C:\\Users\\dawoo\\Desktop\\SF7\\coding\\PYTORCH\\project\\train\\images\\205_101_20_12aa1149-d5ea-43ff-b3c5-c96c36fe14d7.jpg: corrupt JPEG restored and saved\n",
      "\u001b[34m\u001b[1mtrain: \u001b[0mWARNING  C:\\Users\\dawoo\\Desktop\\SF7\\coding\\PYTORCH\\project\\train\\images\\205_101_20_154be667-19b3-4edf-943e-5ee414663142.jpg: corrupt JPEG restored and saved\n",
      "\u001b[34m\u001b[1mtrain: \u001b[0mWARNING  C:\\Users\\dawoo\\Desktop\\SF7\\coding\\PYTORCH\\project\\train\\images\\205_101_20_162890ea-6472-40e4-8490-60415a990831.jpg: corrupt JPEG restored and saved\n",
      "\u001b[34m\u001b[1mtrain: \u001b[0mWARNING  C:\\Users\\dawoo\\Desktop\\SF7\\coding\\PYTORCH\\project\\train\\images\\205_101_20_187bc8b0-a807-44b9-8752-865b535c08b2.jpg: corrupt JPEG restored and saved\n",
      "\u001b[34m\u001b[1mtrain: \u001b[0mWARNING  C:\\Users\\dawoo\\Desktop\\SF7\\coding\\PYTORCH\\project\\train\\images\\205_101_20_1a18c766-447b-462b-9c9d-eaeca023f208.jpg: corrupt JPEG restored and saved\n",
      "\u001b[34m\u001b[1mtrain: \u001b[0mWARNING  C:\\Users\\dawoo\\Desktop\\SF7\\coding\\PYTORCH\\project\\train\\images\\205_101_20_1a679d1c-1097-4823-83ae-af692fdebbc8.jpg: corrupt JPEG restored and saved\n",
      "\u001b[34m\u001b[1mtrain: \u001b[0mWARNING  C:\\Users\\dawoo\\Desktop\\SF7\\coding\\PYTORCH\\project\\train\\images\\205_101_20_1bc3e6dd-286e-4737-aeb9-28bb33bd5075.jpg: corrupt JPEG restored and saved\n",
      "\u001b[34m\u001b[1mtrain: \u001b[0mWARNING  C:\\Users\\dawoo\\Desktop\\SF7\\coding\\PYTORCH\\project\\train\\images\\205_101_20_1cb1aae9-3552-44e9-822a-f89c6e424d3b.jpg: corrupt JPEG restored and saved\n",
      "\u001b[34m\u001b[1mtrain: \u001b[0mWARNING  C:\\Users\\dawoo\\Desktop\\SF7\\coding\\PYTORCH\\project\\train\\images\\205_101_20_1e3a9c8e-b02b-4b60-a564-20504bcffa35.jpg: corrupt JPEG restored and saved\n",
      "\u001b[34m\u001b[1mtrain: \u001b[0mWARNING  C:\\Users\\dawoo\\Desktop\\SF7\\coding\\PYTORCH\\project\\train\\images\\205_101_20_1ee63588-bdfc-4e02-964a-2e49c02defb9.jpg: corrupt JPEG restored and saved\n",
      "\u001b[34m\u001b[1mtrain: \u001b[0mWARNING  C:\\Users\\dawoo\\Desktop\\SF7\\coding\\PYTORCH\\project\\train\\images\\205_101_20_1fe0d862-424f-4111-975c-de0e697c78ae.jpg: corrupt JPEG restored and saved\n",
      "\u001b[34m\u001b[1mtrain: \u001b[0mWARNING  C:\\Users\\dawoo\\Desktop\\SF7\\coding\\PYTORCH\\project\\train\\images\\205_101_20_207c40ab-396b-4e61-b4d7-20b19c40dae6.jpg: corrupt JPEG restored and saved\n",
      "\u001b[34m\u001b[1mtrain: \u001b[0mWARNING  C:\\Users\\dawoo\\Desktop\\SF7\\coding\\PYTORCH\\project\\train\\images\\205_101_20_21fa8d39-dc4a-4c2b-b0a1-8370595dbada.jpg: corrupt JPEG restored and saved\n",
      "\u001b[34m\u001b[1mtrain: \u001b[0mWARNING  C:\\Users\\dawoo\\Desktop\\SF7\\coding\\PYTORCH\\project\\train\\images\\205_101_20_2357cef1-a62e-485d-b5c9-c5ce678c59f8.jpg: corrupt JPEG restored and saved\n",
      "\u001b[34m\u001b[1mtrain: \u001b[0mWARNING  C:\\Users\\dawoo\\Desktop\\SF7\\coding\\PYTORCH\\project\\train\\images\\205_101_20_237d38a5-589a-409d-82e3-495705c61988.jpg: corrupt JPEG restored and saved\n",
      "\u001b[34m\u001b[1mtrain: \u001b[0mWARNING  C:\\Users\\dawoo\\Desktop\\SF7\\coding\\PYTORCH\\project\\train\\images\\205_101_20_23aedb0c-2398-4a0e-91e3-87853ab03756.jpg: corrupt JPEG restored and saved\n",
      "\u001b[34m\u001b[1mtrain: \u001b[0mWARNING  C:\\Users\\dawoo\\Desktop\\SF7\\coding\\PYTORCH\\project\\train\\images\\205_101_20_25b86574-a1ba-4177-9928-79c870e62662.jpg: corrupt JPEG restored and saved\n",
      "\u001b[34m\u001b[1mtrain: \u001b[0mWARNING  C:\\Users\\dawoo\\Desktop\\SF7\\coding\\PYTORCH\\project\\train\\images\\205_101_20_266f1358-86b5-431f-ad18-79747375e10c.jpg: corrupt JPEG restored and saved\n",
      "\u001b[34m\u001b[1mtrain: \u001b[0mWARNING  C:\\Users\\dawoo\\Desktop\\SF7\\coding\\PYTORCH\\project\\train\\images\\205_101_20_292850e5-2e05-4a61-922b-e8532fa79e28.jpg: corrupt JPEG restored and saved\n",
      "\u001b[34m\u001b[1mtrain: \u001b[0mWARNING  C:\\Users\\dawoo\\Desktop\\SF7\\coding\\PYTORCH\\project\\train\\images\\205_101_20_2cf382f1-642e-4766-b2e5-914f62e4fbc7.jpg: corrupt JPEG restored and saved\n",
      "\u001b[34m\u001b[1mtrain: \u001b[0mWARNING  C:\\Users\\dawoo\\Desktop\\SF7\\coding\\PYTORCH\\project\\train\\images\\205_101_20_2d997edd-b11d-44e2-b6ab-f5535e40331e.jpg: corrupt JPEG restored and saved\n",
      "\u001b[34m\u001b[1mtrain: \u001b[0mWARNING  C:\\Users\\dawoo\\Desktop\\SF7\\coding\\PYTORCH\\project\\train\\images\\205_101_20_307af0b6-998f-4acc-b04e-795f83feaaba.jpg: corrupt JPEG restored and saved\n",
      "\u001b[34m\u001b[1mtrain: \u001b[0mWARNING  C:\\Users\\dawoo\\Desktop\\SF7\\coding\\PYTORCH\\project\\train\\images\\205_101_20_31dfeb96-3224-4b7e-a1eb-ff98a053dc37.jpg: corrupt JPEG restored and saved\n",
      "\u001b[34m\u001b[1mtrain: \u001b[0mWARNING  C:\\Users\\dawoo\\Desktop\\SF7\\coding\\PYTORCH\\project\\train\\images\\205_101_20_35a450d8-bff6-41e3-a321-6553ba950a03.jpg: corrupt JPEG restored and saved\n",
      "\u001b[34m\u001b[1mtrain: \u001b[0mWARNING  C:\\Users\\dawoo\\Desktop\\SF7\\coding\\PYTORCH\\project\\train\\images\\205_101_20_373d73cd-0136-4471-b476-caa839d2ec86.jpg: corrupt JPEG restored and saved\n",
      "\u001b[34m\u001b[1mtrain: \u001b[0mWARNING  C:\\Users\\dawoo\\Desktop\\SF7\\coding\\PYTORCH\\project\\train\\images\\205_101_20_3839cf57-4b8f-470d-b473-112e4e7a8daa.jpg: corrupt JPEG restored and saved\n",
      "\u001b[34m\u001b[1mtrain: \u001b[0mWARNING  C:\\Users\\dawoo\\Desktop\\SF7\\coding\\PYTORCH\\project\\train\\images\\205_101_20_391a1bb6-b396-4d9d-a892-96557f567c51.jpg: corrupt JPEG restored and saved\n",
      "\u001b[34m\u001b[1mtrain: \u001b[0mWARNING  C:\\Users\\dawoo\\Desktop\\SF7\\coding\\PYTORCH\\project\\train\\images\\205_101_20_395449fa-e1c6-4beb-a678-66491227c2d3.jpg: corrupt JPEG restored and saved\n",
      "\u001b[34m\u001b[1mtrain: \u001b[0mWARNING  C:\\Users\\dawoo\\Desktop\\SF7\\coding\\PYTORCH\\project\\train\\images\\205_101_20_3cf90e2e-4413-49ce-907a-9f8529962b19.jpg: corrupt JPEG restored and saved\n",
      "\u001b[34m\u001b[1mtrain: \u001b[0mWARNING  C:\\Users\\dawoo\\Desktop\\SF7\\coding\\PYTORCH\\project\\train\\images\\205_101_20_3e560de4-fd15-4681-a493-bbd6ec2627c1.jpg: corrupt JPEG restored and saved\n",
      "\u001b[34m\u001b[1mtrain: \u001b[0mWARNING  C:\\Users\\dawoo\\Desktop\\SF7\\coding\\PYTORCH\\project\\train\\images\\205_101_20_41a49b9a-67a4-4a1f-b068-1765ae875227.jpg: corrupt JPEG restored and saved\n",
      "\u001b[34m\u001b[1mtrain: \u001b[0mWARNING  C:\\Users\\dawoo\\Desktop\\SF7\\coding\\PYTORCH\\project\\train\\images\\205_101_20_48c6d98b-f323-466b-9e7d-3ebacb83b218.jpg: corrupt JPEG restored and saved\n",
      "\u001b[34m\u001b[1mtrain: \u001b[0mWARNING  C:\\Users\\dawoo\\Desktop\\SF7\\coding\\PYTORCH\\project\\train\\images\\205_101_20_48e19a64-9294-4b5a-9048-3e358cabd770.jpg: corrupt JPEG restored and saved\n",
      "\u001b[34m\u001b[1mtrain: \u001b[0mWARNING  C:\\Users\\dawoo\\Desktop\\SF7\\coding\\PYTORCH\\project\\train\\images\\205_101_20_4e852fb6-aa3b-4128-8460-178fb4e8663a.jpg: corrupt JPEG restored and saved\n",
      "\u001b[34m\u001b[1mtrain: \u001b[0mWARNING  C:\\Users\\dawoo\\Desktop\\SF7\\coding\\PYTORCH\\project\\train\\images\\205_101_20_50a1ae7e-8bd9-4017-8853-e86e6dc949ad.jpg: corrupt JPEG restored and saved\n",
      "\u001b[34m\u001b[1mtrain: \u001b[0mWARNING  C:\\Users\\dawoo\\Desktop\\SF7\\coding\\PYTORCH\\project\\train\\images\\205_101_20_541c51d4-895a-4835-b451-361b8d81d59c.jpg: corrupt JPEG restored and saved\n",
      "\u001b[34m\u001b[1mtrain: \u001b[0mWARNING  C:\\Users\\dawoo\\Desktop\\SF7\\coding\\PYTORCH\\project\\train\\images\\205_101_20_551a9b8a-c4a7-4e6e-bba2-88563b2981c6.jpeg: corrupt JPEG restored and saved\n",
      "\u001b[34m\u001b[1mtrain: \u001b[0mWARNING  C:\\Users\\dawoo\\Desktop\\SF7\\coding\\PYTORCH\\project\\train\\images\\205_101_20_57020242-6795-490e-bd42-f6bfaf8a9b9b.jpg: corrupt JPEG restored and saved\n",
      "\u001b[34m\u001b[1mtrain: \u001b[0mWARNING  C:\\Users\\dawoo\\Desktop\\SF7\\coding\\PYTORCH\\project\\train\\images\\205_101_20_59924ee2-aad9-4197-abf5-5199919f97a0.jpg: corrupt JPEG restored and saved\n",
      "\u001b[34m\u001b[1mtrain: \u001b[0mWARNING  C:\\Users\\dawoo\\Desktop\\SF7\\coding\\PYTORCH\\project\\train\\images\\205_101_20_5c8da6da-85b9-4852-95c9-b0f685a25927.jpg: corrupt JPEG restored and saved\n",
      "\u001b[34m\u001b[1mtrain: \u001b[0mWARNING  C:\\Users\\dawoo\\Desktop\\SF7\\coding\\PYTORCH\\project\\train\\images\\205_101_20_5d78328c-1f7d-452e-be84-cd700b6ecf82.jpg: corrupt JPEG restored and saved\n",
      "\u001b[34m\u001b[1mtrain: \u001b[0mWARNING  C:\\Users\\dawoo\\Desktop\\SF7\\coding\\PYTORCH\\project\\train\\images\\205_101_20_5e49eb02-4a42-44cc-a280-b24c25f28a06.jpg: corrupt JPEG restored and saved\n",
      "\u001b[34m\u001b[1mtrain: \u001b[0mWARNING  C:\\Users\\dawoo\\Desktop\\SF7\\coding\\PYTORCH\\project\\train\\images\\205_101_20_64a85172-4a6c-4991-b12a-992aa4581a6e.jpg: corrupt JPEG restored and saved\n",
      "\u001b[34m\u001b[1mtrain: \u001b[0mWARNING  C:\\Users\\dawoo\\Desktop\\SF7\\coding\\PYTORCH\\project\\train\\images\\205_101_20_64d25251-b07e-4bcb-a319-a0caf5516e94.jpg: corrupt JPEG restored and saved\n",
      "\u001b[34m\u001b[1mtrain: \u001b[0mWARNING  C:\\Users\\dawoo\\Desktop\\SF7\\coding\\PYTORCH\\project\\train\\images\\205_101_20_69c970a7-b42b-45b7-a1c9-3c1a85b91b1e.jpg: corrupt JPEG restored and saved\n",
      "\u001b[34m\u001b[1mtrain: \u001b[0mWARNING  C:\\Users\\dawoo\\Desktop\\SF7\\coding\\PYTORCH\\project\\train\\images\\205_101_20_71218e9b-2ab2-4f2a-ab66-f4eacd2a274b.jpg: corrupt JPEG restored and saved\n",
      "\u001b[34m\u001b[1mtrain: \u001b[0mWARNING  C:\\Users\\dawoo\\Desktop\\SF7\\coding\\PYTORCH\\project\\train\\images\\205_101_20_716160f5-a777-4bc0-9829-b007db9308e0.jpg: corrupt JPEG restored and saved\n",
      "\u001b[34m\u001b[1mtrain: \u001b[0mWARNING  C:\\Users\\dawoo\\Desktop\\SF7\\coding\\PYTORCH\\project\\train\\images\\205_101_20_72839ebe-994c-41cd-a0ea-6d21b4136e94.jpg: corrupt JPEG restored and saved\n",
      "\u001b[34m\u001b[1mtrain: \u001b[0mWARNING  C:\\Users\\dawoo\\Desktop\\SF7\\coding\\PYTORCH\\project\\train\\images\\205_101_20_77e2c35a-0dac-40df-aa1a-fc19cedd1c26.jpg: corrupt JPEG restored and saved\n",
      "\u001b[34m\u001b[1mtrain: \u001b[0mWARNING  C:\\Users\\dawoo\\Desktop\\SF7\\coding\\PYTORCH\\project\\train\\images\\205_101_20_7958a516-3192-4f03-a53e-6d184f9da540.jpg: corrupt JPEG restored and saved\n",
      "\u001b[34m\u001b[1mtrain: \u001b[0mWARNING  C:\\Users\\dawoo\\Desktop\\SF7\\coding\\PYTORCH\\project\\train\\images\\205_101_20_79dede96-8e69-4c32-8663-95094ae187fb.jpg: corrupt JPEG restored and saved\n",
      "\u001b[34m\u001b[1mtrain: \u001b[0mWARNING  C:\\Users\\dawoo\\Desktop\\SF7\\coding\\PYTORCH\\project\\train\\images\\205_101_20_7d11fe51-5ef6-4c80-8105-76056ec5821e.jpg: corrupt JPEG restored and saved\n",
      "\u001b[34m\u001b[1mtrain: \u001b[0mWARNING  C:\\Users\\dawoo\\Desktop\\SF7\\coding\\PYTORCH\\project\\train\\images\\205_101_20_815105a7-b1b2-41c7-a58f-79f8afe3c9ac.jpg: corrupt JPEG restored and saved\n",
      "\u001b[34m\u001b[1mtrain: \u001b[0mWARNING  C:\\Users\\dawoo\\Desktop\\SF7\\coding\\PYTORCH\\project\\train\\images\\205_101_20_81fe68a8-0bed-4b32-b20d-79f825b2d2cf.jpg: corrupt JPEG restored and saved\n",
      "\u001b[34m\u001b[1mtrain: \u001b[0mWARNING  C:\\Users\\dawoo\\Desktop\\SF7\\coding\\PYTORCH\\project\\train\\images\\205_101_20_843b9d03-4bee-44a0-928d-8af2f103c499.jpg: corrupt JPEG restored and saved\n",
      "\u001b[34m\u001b[1mtrain: \u001b[0mWARNING  C:\\Users\\dawoo\\Desktop\\SF7\\coding\\PYTORCH\\project\\train\\images\\205_101_20_845a32f2-f5d8-4f1e-8195-40eea1a39c0e.jpg: corrupt JPEG restored and saved\n",
      "\u001b[34m\u001b[1mtrain: \u001b[0mWARNING  C:\\Users\\dawoo\\Desktop\\SF7\\coding\\PYTORCH\\project\\train\\images\\205_101_20_848215e0-79a1-4a73-bfb1-552211e681cf.jpg: corrupt JPEG restored and saved\n",
      "\u001b[34m\u001b[1mtrain: \u001b[0mWARNING  C:\\Users\\dawoo\\Desktop\\SF7\\coding\\PYTORCH\\project\\train\\images\\205_101_20_84cd3bc2-daa3-48cb-aba0-a01330059f66.jpg: corrupt JPEG restored and saved\n",
      "\u001b[34m\u001b[1mtrain: \u001b[0mWARNING  C:\\Users\\dawoo\\Desktop\\SF7\\coding\\PYTORCH\\project\\train\\images\\205_101_20_884b45c9-4a18-4707-a7a1-745fb557b2f3.jpg: corrupt JPEG restored and saved\n",
      "\u001b[34m\u001b[1mtrain: \u001b[0mWARNING  C:\\Users\\dawoo\\Desktop\\SF7\\coding\\PYTORCH\\project\\train\\images\\205_101_20_88e88695-5e8e-40ca-99fc-684fe2aa6ed3.jpg: corrupt JPEG restored and saved\n",
      "\u001b[34m\u001b[1mtrain: \u001b[0mWARNING  C:\\Users\\dawoo\\Desktop\\SF7\\coding\\PYTORCH\\project\\train\\images\\205_101_20_8955fd64-e635-445b-8c7f-b59925598769.jpg: corrupt JPEG restored and saved\n",
      "\u001b[34m\u001b[1mtrain: \u001b[0mWARNING  C:\\Users\\dawoo\\Desktop\\SF7\\coding\\PYTORCH\\project\\train\\images\\205_101_20_8cd76f7f-606c-4dc4-9b97-7d9b02d72084.jpg: corrupt JPEG restored and saved\n",
      "\u001b[34m\u001b[1mtrain: \u001b[0mWARNING  C:\\Users\\dawoo\\Desktop\\SF7\\coding\\PYTORCH\\project\\train\\images\\205_101_20_8daf9a40-036e-4a8a-8a09-0d59d4d99327.jpg: corrupt JPEG restored and saved\n",
      "\u001b[34m\u001b[1mtrain: \u001b[0mWARNING  C:\\Users\\dawoo\\Desktop\\SF7\\coding\\PYTORCH\\project\\train\\images\\205_101_20_91eed014-2855-4f76-b1be-277823911c11.jpg: corrupt JPEG restored and saved\n",
      "\u001b[34m\u001b[1mtrain: \u001b[0mWARNING  C:\\Users\\dawoo\\Desktop\\SF7\\coding\\PYTORCH\\project\\train\\images\\205_101_20_9345907c-9bae-48d8-9cdd-b4a6d903fb69.jpg: corrupt JPEG restored and saved\n",
      "\u001b[34m\u001b[1mtrain: \u001b[0mWARNING  C:\\Users\\dawoo\\Desktop\\SF7\\coding\\PYTORCH\\project\\train\\images\\205_101_20_996f6b1d-4859-4246-b0f7-3be5a521e28a.jpg: corrupt JPEG restored and saved\n",
      "\u001b[34m\u001b[1mtrain: \u001b[0mWARNING  C:\\Users\\dawoo\\Desktop\\SF7\\coding\\PYTORCH\\project\\train\\images\\205_101_20_99d155e0-c42f-48cd-a4c2-a3af048e210d.jpg: corrupt JPEG restored and saved\n",
      "\u001b[34m\u001b[1mtrain: \u001b[0mWARNING  C:\\Users\\dawoo\\Desktop\\SF7\\coding\\PYTORCH\\project\\train\\images\\205_101_20_9da388e0-09c3-4975-8b9a-16bfa9320bb5.jpg: corrupt JPEG restored and saved\n",
      "\u001b[34m\u001b[1mtrain: \u001b[0mWARNING  C:\\Users\\dawoo\\Desktop\\SF7\\coding\\PYTORCH\\project\\train\\images\\205_101_20_9dad8ca4-162e-4c57-85d0-42599d0e68ab.jpg: corrupt JPEG restored and saved\n",
      "\u001b[34m\u001b[1mtrain: \u001b[0mWARNING  C:\\Users\\dawoo\\Desktop\\SF7\\coding\\PYTORCH\\project\\train\\images\\205_101_20_a095c500-ba02-4b3c-864e-7bfb8005f9d9.jpg: corrupt JPEG restored and saved\n",
      "\u001b[34m\u001b[1mtrain: \u001b[0mWARNING  C:\\Users\\dawoo\\Desktop\\SF7\\coding\\PYTORCH\\project\\train\\images\\205_101_20_a2f15d84-cdbf-4668-bc16-a1b22d156c5d.jpg: corrupt JPEG restored and saved\n",
      "\u001b[34m\u001b[1mtrain: \u001b[0mWARNING  C:\\Users\\dawoo\\Desktop\\SF7\\coding\\PYTORCH\\project\\train\\images\\205_101_20_a30c0db4-0df4-463c-80d5-3fec712561ce.jpg: corrupt JPEG restored and saved\n",
      "\u001b[34m\u001b[1mtrain: \u001b[0mWARNING  C:\\Users\\dawoo\\Desktop\\SF7\\coding\\PYTORCH\\project\\train\\images\\205_101_20_a7ba597e-eac4-4351-bf09-43e6a878eb1a.jpg: corrupt JPEG restored and saved\n",
      "\u001b[34m\u001b[1mtrain: \u001b[0mWARNING  C:\\Users\\dawoo\\Desktop\\SF7\\coding\\PYTORCH\\project\\train\\images\\205_101_20_a7cf9a9d-d4f3-4efd-9c68-c24e4dee7ed6.jpg: corrupt JPEG restored and saved\n",
      "\u001b[34m\u001b[1mtrain: \u001b[0mWARNING  C:\\Users\\dawoo\\Desktop\\SF7\\coding\\PYTORCH\\project\\train\\images\\205_101_20_a9fde0ee-0100-4fa1-8f35-696420b80d7a.jpg: corrupt JPEG restored and saved\n",
      "\u001b[34m\u001b[1mtrain: \u001b[0mWARNING  C:\\Users\\dawoo\\Desktop\\SF7\\coding\\PYTORCH\\project\\train\\images\\205_101_20_ac334092-136d-48ad-a002-498a299674a0.jpg: corrupt JPEG restored and saved\n",
      "\u001b[34m\u001b[1mtrain: \u001b[0mWARNING  C:\\Users\\dawoo\\Desktop\\SF7\\coding\\PYTORCH\\project\\train\\images\\205_101_20_acd07672-e110-40eb-bee0-452c9929bc65.jpg: corrupt JPEG restored and saved\n",
      "\u001b[34m\u001b[1mtrain: \u001b[0mWARNING  C:\\Users\\dawoo\\Desktop\\SF7\\coding\\PYTORCH\\project\\train\\images\\205_101_20_ae9f85c6-51b6-465c-86c6-d1d5c4756a71.jpg: corrupt JPEG restored and saved\n",
      "\u001b[34m\u001b[1mtrain: \u001b[0mWARNING  C:\\Users\\dawoo\\Desktop\\SF7\\coding\\PYTORCH\\project\\train\\images\\205_101_20_b051a80f-17fb-40b3-9170-f94751d4b24d.jpg: corrupt JPEG restored and saved\n",
      "\u001b[34m\u001b[1mtrain: \u001b[0mWARNING  C:\\Users\\dawoo\\Desktop\\SF7\\coding\\PYTORCH\\project\\train\\images\\205_101_20_b101b40a-09bf-44c2-a506-39da0e668eb5.jpg: corrupt JPEG restored and saved\n",
      "\u001b[34m\u001b[1mtrain: \u001b[0mWARNING  C:\\Users\\dawoo\\Desktop\\SF7\\coding\\PYTORCH\\project\\train\\images\\205_101_20_b3658b25-492b-49b0-9481-5dbf0f17510b.jpg: corrupt JPEG restored and saved\n",
      "\u001b[34m\u001b[1mtrain: \u001b[0mWARNING  C:\\Users\\dawoo\\Desktop\\SF7\\coding\\PYTORCH\\project\\train\\images\\205_101_20_b413979d-53ac-4ada-b9b2-b4b34fa27a16.jpg: corrupt JPEG restored and saved\n",
      "\u001b[34m\u001b[1mtrain: \u001b[0mWARNING  C:\\Users\\dawoo\\Desktop\\SF7\\coding\\PYTORCH\\project\\train\\images\\205_101_20_b4696f4a-35f6-4ad6-9a92-835490d00bda.jpg: corrupt JPEG restored and saved\n",
      "\u001b[34m\u001b[1mtrain: \u001b[0mWARNING  C:\\Users\\dawoo\\Desktop\\SF7\\coding\\PYTORCH\\project\\train\\images\\205_101_20_b48aeba4-4927-44a4-82ad-f0eeda00cd76.jpg: corrupt JPEG restored and saved\n",
      "\u001b[34m\u001b[1mtrain: \u001b[0mWARNING  C:\\Users\\dawoo\\Desktop\\SF7\\coding\\PYTORCH\\project\\train\\images\\205_101_20_b4e4d126-6b12-45d6-89c6-915c8509cb5e.jpg: corrupt JPEG restored and saved\n",
      "\u001b[34m\u001b[1mtrain: \u001b[0mWARNING  C:\\Users\\dawoo\\Desktop\\SF7\\coding\\PYTORCH\\project\\train\\images\\205_101_20_b8ba30e0-86c4-49be-bc45-9f7ef1411603.jpg: corrupt JPEG restored and saved\n",
      "\u001b[34m\u001b[1mtrain: \u001b[0mWARNING  C:\\Users\\dawoo\\Desktop\\SF7\\coding\\PYTORCH\\project\\train\\images\\205_101_20_bca683dd-196e-4fdd-8d0d-9afe7197b49d.jpg: corrupt JPEG restored and saved\n",
      "\u001b[34m\u001b[1mtrain: \u001b[0mWARNING  C:\\Users\\dawoo\\Desktop\\SF7\\coding\\PYTORCH\\project\\train\\images\\205_101_20_c060ff17-4676-4301-b6dd-4857d1f9e96c.jpg: corrupt JPEG restored and saved\n",
      "\u001b[34m\u001b[1mtrain: \u001b[0mWARNING  C:\\Users\\dawoo\\Desktop\\SF7\\coding\\PYTORCH\\project\\train\\images\\205_101_20_c173e70b-55f5-4501-a264-3e4b8267feb4.jpg: corrupt JPEG restored and saved\n",
      "\u001b[34m\u001b[1mtrain: \u001b[0mWARNING  C:\\Users\\dawoo\\Desktop\\SF7\\coding\\PYTORCH\\project\\train\\images\\205_101_20_c2ad43f8-2a64-4bd5-8899-bb3d944b7bf1.jpg: corrupt JPEG restored and saved\n",
      "\u001b[34m\u001b[1mtrain: \u001b[0mWARNING  C:\\Users\\dawoo\\Desktop\\SF7\\coding\\PYTORCH\\project\\train\\images\\205_101_20_c3aaefff-931d-41d6-a413-f5dcdfb3151f.jpg: corrupt JPEG restored and saved\n",
      "\u001b[34m\u001b[1mtrain: \u001b[0mWARNING  C:\\Users\\dawoo\\Desktop\\SF7\\coding\\PYTORCH\\project\\train\\images\\205_101_20_c48d5b71-a86c-46e3-89e4-5e008648562b.jpg: corrupt JPEG restored and saved\n",
      "\u001b[34m\u001b[1mtrain: \u001b[0mWARNING  C:\\Users\\dawoo\\Desktop\\SF7\\coding\\PYTORCH\\project\\train\\images\\205_101_20_c4a27906-fe22-4397-9440-b90e54726be7.jpg: corrupt JPEG restored and saved\n",
      "\u001b[34m\u001b[1mtrain: \u001b[0mWARNING  C:\\Users\\dawoo\\Desktop\\SF7\\coding\\PYTORCH\\project\\train\\images\\205_101_20_c563bcb8-d2bc-4fc9-881d-a6c0dc38c42e.jpg: corrupt JPEG restored and saved\n",
      "\u001b[34m\u001b[1mtrain: \u001b[0mWARNING  C:\\Users\\dawoo\\Desktop\\SF7\\coding\\PYTORCH\\project\\train\\images\\205_101_20_ccca8b22-255d-40a9-9511-7ed5cd00a54c.jpg: corrupt JPEG restored and saved\n",
      "\u001b[34m\u001b[1mtrain: \u001b[0mWARNING  C:\\Users\\dawoo\\Desktop\\SF7\\coding\\PYTORCH\\project\\train\\images\\205_101_20_d390cb1f-5ab6-4e09-b360-5923f84ffff0.jpg: corrupt JPEG restored and saved\n",
      "\u001b[34m\u001b[1mtrain: \u001b[0mWARNING  C:\\Users\\dawoo\\Desktop\\SF7\\coding\\PYTORCH\\project\\train\\images\\205_101_20_d5d78723-63a2-4d5b-a37b-e360294f284a.jpg: corrupt JPEG restored and saved\n",
      "\u001b[34m\u001b[1mtrain: \u001b[0mWARNING  C:\\Users\\dawoo\\Desktop\\SF7\\coding\\PYTORCH\\project\\train\\images\\205_101_20_d62ebda6-3a35-4557-8072-6de84d057cee.jpg: corrupt JPEG restored and saved\n",
      "\u001b[34m\u001b[1mtrain: \u001b[0mWARNING  C:\\Users\\dawoo\\Desktop\\SF7\\coding\\PYTORCH\\project\\train\\images\\205_101_20_d68ee394-141e-412f-a57a-624ddf065cf2.jpg: corrupt JPEG restored and saved\n",
      "\u001b[34m\u001b[1mtrain: \u001b[0mWARNING  C:\\Users\\dawoo\\Desktop\\SF7\\coding\\PYTORCH\\project\\train\\images\\205_101_20_d8bc0cff-da42-40ff-8a60-81aea0a79529.jpg: corrupt JPEG restored and saved\n",
      "\u001b[34m\u001b[1mtrain: \u001b[0mWARNING  C:\\Users\\dawoo\\Desktop\\SF7\\coding\\PYTORCH\\project\\train\\images\\205_101_20_d9ba7385-ade1-4c34-9b5c-a499a16c5b70.jpg: corrupt JPEG restored and saved\n",
      "\u001b[34m\u001b[1mtrain: \u001b[0mWARNING  C:\\Users\\dawoo\\Desktop\\SF7\\coding\\PYTORCH\\project\\train\\images\\205_101_20_daf42349-88f2-4196-92a5-b85187d8aab2.jpg: corrupt JPEG restored and saved\n",
      "\u001b[34m\u001b[1mtrain: \u001b[0mWARNING  C:\\Users\\dawoo\\Desktop\\SF7\\coding\\PYTORCH\\project\\train\\images\\205_101_20_dc4f32c8-a6f3-4230-9c1e-83eb21ac6ce8.jpg: corrupt JPEG restored and saved\n",
      "\u001b[34m\u001b[1mtrain: \u001b[0mWARNING  C:\\Users\\dawoo\\Desktop\\SF7\\coding\\PYTORCH\\project\\train\\images\\205_101_20_dc86338d-445a-4d8d-bc55-e7b5024a374c.jpg: corrupt JPEG restored and saved\n",
      "\u001b[34m\u001b[1mtrain: \u001b[0mWARNING  C:\\Users\\dawoo\\Desktop\\SF7\\coding\\PYTORCH\\project\\train\\images\\205_101_20_ddafd7d3-8b1c-4d6b-84a2-4b619191f091.jpg: corrupt JPEG restored and saved\n",
      "\u001b[34m\u001b[1mtrain: \u001b[0mWARNING  C:\\Users\\dawoo\\Desktop\\SF7\\coding\\PYTORCH\\project\\train\\images\\205_101_20_e26e0def-7058-4933-935b-0b681adea9b0.jpg: corrupt JPEG restored and saved\n",
      "\u001b[34m\u001b[1mtrain: \u001b[0mWARNING  C:\\Users\\dawoo\\Desktop\\SF7\\coding\\PYTORCH\\project\\train\\images\\205_101_20_e414c589-f3dc-457a-a6fb-6f83d5394797.jpg: corrupt JPEG restored and saved\n",
      "\u001b[34m\u001b[1mtrain: \u001b[0mWARNING  C:\\Users\\dawoo\\Desktop\\SF7\\coding\\PYTORCH\\project\\train\\images\\205_101_20_e68cd676-36db-4960-a502-480ba31484c4.jpg: corrupt JPEG restored and saved\n",
      "\u001b[34m\u001b[1mtrain: \u001b[0mWARNING  C:\\Users\\dawoo\\Desktop\\SF7\\coding\\PYTORCH\\project\\train\\images\\205_101_20_edcf1a13-d753-4e44-8c37-0ae5c3cf7748.jpg: corrupt JPEG restored and saved\n",
      "\u001b[34m\u001b[1mtrain: \u001b[0mWARNING  C:\\Users\\dawoo\\Desktop\\SF7\\coding\\PYTORCH\\project\\train\\images\\205_101_20_eebd1309-9740-4e85-b49e-7e6d5646750d.jpg: corrupt JPEG restored and saved\n",
      "\u001b[34m\u001b[1mtrain: \u001b[0mWARNING  C:\\Users\\dawoo\\Desktop\\SF7\\coding\\PYTORCH\\project\\train\\images\\205_101_20_f085171b-ed13-45ea-bed8-bc7a6c3a96bb.jpg: corrupt JPEG restored and saved\n",
      "\u001b[34m\u001b[1mtrain: \u001b[0mWARNING  C:\\Users\\dawoo\\Desktop\\SF7\\coding\\PYTORCH\\project\\train\\images\\205_101_20_f236b852-4e82-4388-ad3f-fbdde791e7ac.jpg: corrupt JPEG restored and saved\n",
      "\u001b[34m\u001b[1mtrain: \u001b[0mWARNING  C:\\Users\\dawoo\\Desktop\\SF7\\coding\\PYTORCH\\project\\train\\images\\205_101_20_f2e0bbb7-3113-4696-8e67-b361e6eb53ca.jpg: corrupt JPEG restored and saved\n",
      "\u001b[34m\u001b[1mtrain: \u001b[0mWARNING  C:\\Users\\dawoo\\Desktop\\SF7\\coding\\PYTORCH\\project\\train\\images\\205_101_20_f5859241-49b8-4c57-a24e-d7b63ab0e5aa.jpg: corrupt JPEG restored and saved\n",
      "\u001b[34m\u001b[1mtrain: \u001b[0mWARNING  C:\\Users\\dawoo\\Desktop\\SF7\\coding\\PYTORCH\\project\\train\\images\\205_101_20_f67c7ad4-433c-406a-96ca-02012a0d225a.jpg: corrupt JPEG restored and saved\n",
      "\u001b[34m\u001b[1mtrain: \u001b[0mWARNING  C:\\Users\\dawoo\\Desktop\\SF7\\coding\\PYTORCH\\project\\train\\images\\205_101_20_f8aa5628-9edc-427e-93c3-520f3aa5d298.jpg: corrupt JPEG restored and saved\n",
      "\u001b[34m\u001b[1mtrain: \u001b[0mWARNING  C:\\Users\\dawoo\\Desktop\\SF7\\coding\\PYTORCH\\project\\train\\images\\205_101_20_f9a48ae3-af87-4ca3-99d3-98ee4b78b154.jpg: corrupt JPEG restored and saved\n",
      "\u001b[34m\u001b[1mtrain: \u001b[0mWARNING  C:\\Users\\dawoo\\Desktop\\SF7\\coding\\PYTORCH\\project\\train\\images\\205_101_20_fa056f09-e8df-4228-89c1-e145137b50ae.jpg: corrupt JPEG restored and saved\n",
      "\u001b[34m\u001b[1mtrain: \u001b[0mWARNING  C:\\Users\\dawoo\\Desktop\\SF7\\coding\\PYTORCH\\project\\train\\images\\205_101_20_fa15b154-54d9-41c3-a6bb-2a3b6e7df6cc.jpg: corrupt JPEG restored and saved\n",
      "\u001b[34m\u001b[1mtrain: \u001b[0mWARNING  C:\\Users\\dawoo\\Desktop\\SF7\\coding\\PYTORCH\\project\\train\\images\\205_101_20_fba2c485-8da2-4267-9ec0-386967a90a9a.jpg: corrupt JPEG restored and saved\n",
      "\u001b[34m\u001b[1mtrain: \u001b[0mWARNING  C:\\Users\\dawoo\\Desktop\\SF7\\coding\\PYTORCH\\project\\train\\images\\205_101_20_fd140f66-5672-4afc-aba9-a2da253c340b.jpg: corrupt JPEG restored and saved\n",
      "\u001b[34m\u001b[1mtrain: \u001b[0mWARNING  C:\\Users\\dawoo\\Desktop\\SF7\\coding\\PYTORCH\\project\\train\\images\\205_101_20_fd2ebfe0-3446-471b-866f-3ea1aeee91c4.jpg: corrupt JPEG restored and saved\n",
      "\u001b[34m\u001b[1mtrain: \u001b[0mWARNING  C:\\Users\\dawoo\\Desktop\\SF7\\coding\\PYTORCH\\project\\train\\images\\207_102_10_00fa1c19-7436-4935-a174-485039c5b50a.jpg: corrupt JPEG restored and saved\n",
      "\u001b[34m\u001b[1mtrain: \u001b[0mWARNING  C:\\Users\\dawoo\\Desktop\\SF7\\coding\\PYTORCH\\project\\train\\images\\207_102_10_183f05fa-6815-4961-815e-2f17df16d7df.jpg: corrupt JPEG restored and saved\n",
      "\u001b[34m\u001b[1mtrain: \u001b[0mWARNING  C:\\Users\\dawoo\\Desktop\\SF7\\coding\\PYTORCH\\project\\train\\images\\207_102_10_3fd32de3-ca2a-4f34-902b-73328f140344.jpg: corrupt JPEG restored and saved\n",
      "\u001b[34m\u001b[1mtrain: \u001b[0mWARNING  C:\\Users\\dawoo\\Desktop\\SF7\\coding\\PYTORCH\\project\\train\\images\\207_102_10_495c06b1-b46a-48f0-8e4c-a3888ad56cfd.jpg: corrupt JPEG restored and saved\n",
      "\u001b[34m\u001b[1mtrain: \u001b[0mWARNING  C:\\Users\\dawoo\\Desktop\\SF7\\coding\\PYTORCH\\project\\train\\images\\207_102_10_766e6cd5-33cf-42ee-9f8f-89a900caaa7d.jpg: corrupt JPEG restored and saved\n",
      "\u001b[34m\u001b[1mtrain: \u001b[0mWARNING  C:\\Users\\dawoo\\Desktop\\SF7\\coding\\PYTORCH\\project\\train\\images\\207_102_10_b80a51e5-917e-461f-90eb-cc21b9bd81c5.jpg: corrupt JPEG restored and saved\n",
      "\u001b[34m\u001b[1mtrain: \u001b[0mWARNING  C:\\Users\\dawoo\\Desktop\\SF7\\coding\\PYTORCH\\project\\train\\images\\207_102_10_b9dd416b-9f1c-4263-9be5-91a0fc7fc953.jpg: corrupt JPEG restored and saved\n",
      "\u001b[34m\u001b[1mtrain: \u001b[0mWARNING  C:\\Users\\dawoo\\Desktop\\SF7\\coding\\PYTORCH\\project\\train\\images\\207_102_10_beb7de23-85af-48af-a7ce-346dc8eadadb.jpg: corrupt JPEG restored and saved\n",
      "\u001b[34m\u001b[1mtrain: \u001b[0mWARNING  C:\\Users\\dawoo\\Desktop\\SF7\\coding\\PYTORCH\\project\\train\\images\\207_102_20_111c723d-2471-47a9-8f3b-62f8ec6340d0.jpg: corrupt JPEG restored and saved\n",
      "\u001b[34m\u001b[1mtrain: \u001b[0mWARNING  C:\\Users\\dawoo\\Desktop\\SF7\\coding\\PYTORCH\\project\\train\\images\\207_102_20_11a8538b-38e3-49f7-a407-c441d2321e0a.jpg: corrupt JPEG restored and saved\n",
      "\u001b[34m\u001b[1mtrain: \u001b[0mWARNING  C:\\Users\\dawoo\\Desktop\\SF7\\coding\\PYTORCH\\project\\train\\images\\207_102_20_1827d0ba-48ca-4f84-b94f-438f9c7bf806.jpg: corrupt JPEG restored and saved\n",
      "\u001b[34m\u001b[1mtrain: \u001b[0mWARNING  C:\\Users\\dawoo\\Desktop\\SF7\\coding\\PYTORCH\\project\\train\\images\\207_102_20_1d454865-791d-4e5a-942d-c76d6ec2b007.jpg: corrupt JPEG restored and saved\n",
      "\u001b[34m\u001b[1mtrain: \u001b[0mWARNING  C:\\Users\\dawoo\\Desktop\\SF7\\coding\\PYTORCH\\project\\train\\images\\207_102_20_1ed3b7ab-81ed-4760-bd6c-4c796482ea4a.jpg: corrupt JPEG restored and saved\n",
      "\u001b[34m\u001b[1mtrain: \u001b[0mWARNING  C:\\Users\\dawoo\\Desktop\\SF7\\coding\\PYTORCH\\project\\train\\images\\207_102_20_20b10ae0-6eb1-4659-b303-a1a135190d58.jpg: corrupt JPEG restored and saved\n",
      "\u001b[34m\u001b[1mtrain: \u001b[0mWARNING  C:\\Users\\dawoo\\Desktop\\SF7\\coding\\PYTORCH\\project\\train\\images\\207_102_20_2210053a-d969-40cf-96f3-037323c7b3d6.jpg: corrupt JPEG restored and saved\n",
      "\u001b[34m\u001b[1mtrain: \u001b[0mWARNING  C:\\Users\\dawoo\\Desktop\\SF7\\coding\\PYTORCH\\project\\train\\images\\207_102_20_24826869-25ab-4d26-9c67-c4a003c78e2f.jpg: corrupt JPEG restored and saved\n",
      "\u001b[34m\u001b[1mtrain: \u001b[0mWARNING  C:\\Users\\dawoo\\Desktop\\SF7\\coding\\PYTORCH\\project\\train\\images\\207_102_20_2c76c745-7c56-44c2-93db-5ef1470c38dc.jpg: corrupt JPEG restored and saved\n",
      "\u001b[34m\u001b[1mtrain: \u001b[0mWARNING  C:\\Users\\dawoo\\Desktop\\SF7\\coding\\PYTORCH\\project\\train\\images\\207_102_20_3c61e0ad-1df8-43ce-8106-703ef184c7b7.jpg: corrupt JPEG restored and saved\n",
      "\u001b[34m\u001b[1mtrain: \u001b[0mWARNING  C:\\Users\\dawoo\\Desktop\\SF7\\coding\\PYTORCH\\project\\train\\images\\207_102_20_3da70a39-f349-44e9-86f6-25787e7fe854.jpg: corrupt JPEG restored and saved\n",
      "\u001b[34m\u001b[1mtrain: \u001b[0mWARNING  C:\\Users\\dawoo\\Desktop\\SF7\\coding\\PYTORCH\\project\\train\\images\\207_102_20_419bb7a0-c273-4179-b4c4-a63079f516c4.jpg: corrupt JPEG restored and saved\n",
      "\u001b[34m\u001b[1mtrain: \u001b[0mWARNING  C:\\Users\\dawoo\\Desktop\\SF7\\coding\\PYTORCH\\project\\train\\images\\207_102_20_42a6787c-02a1-43f9-b0de-a7e85fdc83ca.jpg: corrupt JPEG restored and saved\n",
      "\u001b[34m\u001b[1mtrain: \u001b[0mWARNING  C:\\Users\\dawoo\\Desktop\\SF7\\coding\\PYTORCH\\project\\train\\images\\207_102_20_44c1f639-5b6b-4c27-9883-9240e0bd4cf0.jpg: corrupt JPEG restored and saved\n",
      "\u001b[34m\u001b[1mtrain: \u001b[0mWARNING  C:\\Users\\dawoo\\Desktop\\SF7\\coding\\PYTORCH\\project\\train\\images\\207_102_20_48685437-27e8-4042-8b34-97cb3414b00f.jpg: corrupt JPEG restored and saved\n",
      "\u001b[34m\u001b[1mtrain: \u001b[0mWARNING  C:\\Users\\dawoo\\Desktop\\SF7\\coding\\PYTORCH\\project\\train\\images\\207_102_20_4aa160a7-76e6-4a7b-a9a5-ff18e971e452.jpg: corrupt JPEG restored and saved\n",
      "\u001b[34m\u001b[1mtrain: \u001b[0mWARNING  C:\\Users\\dawoo\\Desktop\\SF7\\coding\\PYTORCH\\project\\train\\images\\207_102_20_4c730963-e6aa-4a22-8756-f6ad154c687e.jpg: corrupt JPEG restored and saved\n",
      "\u001b[34m\u001b[1mtrain: \u001b[0mWARNING  C:\\Users\\dawoo\\Desktop\\SF7\\coding\\PYTORCH\\project\\train\\images\\207_102_20_4f7ccef0-5e12-4bac-9df8-81bc33b3f204.jpg: corrupt JPEG restored and saved\n",
      "\u001b[34m\u001b[1mtrain: \u001b[0mWARNING  C:\\Users\\dawoo\\Desktop\\SF7\\coding\\PYTORCH\\project\\train\\images\\207_102_20_50dc534a-2271-4087-9ea8-b555594e2186.jpg: corrupt JPEG restored and saved\n",
      "\u001b[34m\u001b[1mtrain: \u001b[0mWARNING  C:\\Users\\dawoo\\Desktop\\SF7\\coding\\PYTORCH\\project\\train\\images\\207_102_20_5218cdb9-e2c9-4961-8b3c-4b454c0e0fff.jpg: corrupt JPEG restored and saved\n",
      "\u001b[34m\u001b[1mtrain: \u001b[0mWARNING  C:\\Users\\dawoo\\Desktop\\SF7\\coding\\PYTORCH\\project\\train\\images\\207_102_20_56fd0593-c8c2-4c7e-828b-4ab201f62272.jpg: corrupt JPEG restored and saved\n",
      "\u001b[34m\u001b[1mtrain: \u001b[0mWARNING  C:\\Users\\dawoo\\Desktop\\SF7\\coding\\PYTORCH\\project\\train\\images\\207_102_20_5c4aa637-cf3a-4277-8a2d-b48ff94e7405.jpg: corrupt JPEG restored and saved\n",
      "\u001b[34m\u001b[1mtrain: \u001b[0mWARNING  C:\\Users\\dawoo\\Desktop\\SF7\\coding\\PYTORCH\\project\\train\\images\\207_102_20_67add425-c68a-4f83-b645-31280957941c.jpg: corrupt JPEG restored and saved\n",
      "\u001b[34m\u001b[1mtrain: \u001b[0mWARNING  C:\\Users\\dawoo\\Desktop\\SF7\\coding\\PYTORCH\\project\\train\\images\\207_102_20_6e43f983-8f80-40bc-baa0-dd2eaa6f846a.jpg: corrupt JPEG restored and saved\n",
      "\u001b[34m\u001b[1mtrain: \u001b[0mWARNING  C:\\Users\\dawoo\\Desktop\\SF7\\coding\\PYTORCH\\project\\train\\images\\207_102_20_790bedb5-be63-45b8-bf21-cba83fb7a11c.jpg: corrupt JPEG restored and saved\n",
      "\u001b[34m\u001b[1mtrain: \u001b[0mWARNING  C:\\Users\\dawoo\\Desktop\\SF7\\coding\\PYTORCH\\project\\train\\images\\207_102_20_791f0efe-b5ca-46d5-a5a8-8822ecb76098.jpg: corrupt JPEG restored and saved\n",
      "\u001b[34m\u001b[1mtrain: \u001b[0mWARNING  C:\\Users\\dawoo\\Desktop\\SF7\\coding\\PYTORCH\\project\\train\\images\\207_102_20_7bdf94cb-2f42-435d-9333-f4153095ec14.jpg: corrupt JPEG restored and saved\n",
      "\u001b[34m\u001b[1mtrain: \u001b[0mWARNING  C:\\Users\\dawoo\\Desktop\\SF7\\coding\\PYTORCH\\project\\train\\images\\207_102_20_87281d5b-ae6e-4077-acb7-192852e35a25.jpg: corrupt JPEG restored and saved\n",
      "\u001b[34m\u001b[1mtrain: \u001b[0mWARNING  C:\\Users\\dawoo\\Desktop\\SF7\\coding\\PYTORCH\\project\\train\\images\\207_102_20_91f88861-bd1d-462e-b6cb-9bb02b7b014f.jpg: corrupt JPEG restored and saved\n",
      "\u001b[34m\u001b[1mtrain: \u001b[0mWARNING  C:\\Users\\dawoo\\Desktop\\SF7\\coding\\PYTORCH\\project\\train\\images\\207_102_20_9cf04e4e-a031-4f69-80b1-974ffe229bbf.jpg: corrupt JPEG restored and saved\n",
      "\u001b[34m\u001b[1mtrain: \u001b[0mWARNING  C:\\Users\\dawoo\\Desktop\\SF7\\coding\\PYTORCH\\project\\train\\images\\207_102_20_a7049d4e-57b9-46a9-bea2-28a2b0a0f519.jpg: corrupt JPEG restored and saved\n",
      "\u001b[34m\u001b[1mtrain: \u001b[0mWARNING  C:\\Users\\dawoo\\Desktop\\SF7\\coding\\PYTORCH\\project\\train\\images\\207_102_20_a9274f9c-ce66-497c-88a2-3621af1d9786.jpg: corrupt JPEG restored and saved\n",
      "\u001b[34m\u001b[1mtrain: \u001b[0mWARNING  C:\\Users\\dawoo\\Desktop\\SF7\\coding\\PYTORCH\\project\\train\\images\\207_102_20_ade2ddf5-3a21-4417-a4c8-73443bf184a1.jpg: corrupt JPEG restored and saved\n",
      "\u001b[34m\u001b[1mtrain: \u001b[0mWARNING  C:\\Users\\dawoo\\Desktop\\SF7\\coding\\PYTORCH\\project\\train\\images\\207_102_20_ae90af43-0df2-4195-a6c7-623a4cfac910.jpg: corrupt JPEG restored and saved\n",
      "\u001b[34m\u001b[1mtrain: \u001b[0mWARNING  C:\\Users\\dawoo\\Desktop\\SF7\\coding\\PYTORCH\\project\\train\\images\\207_102_20_af9e3525-2ef6-4e55-8436-291fd8555611.jpg: corrupt JPEG restored and saved\n",
      "\u001b[34m\u001b[1mtrain: \u001b[0mWARNING  C:\\Users\\dawoo\\Desktop\\SF7\\coding\\PYTORCH\\project\\train\\images\\207_102_20_b5d7da1a-7e3e-4868-bdf8-616481feb096.jpg: corrupt JPEG restored and saved\n",
      "\u001b[34m\u001b[1mtrain: \u001b[0mWARNING  C:\\Users\\dawoo\\Desktop\\SF7\\coding\\PYTORCH\\project\\train\\images\\207_102_20_b9572cba-a987-47c9-a203-ea227677cc43.jpg: corrupt JPEG restored and saved\n",
      "\u001b[34m\u001b[1mtrain: \u001b[0mWARNING  C:\\Users\\dawoo\\Desktop\\SF7\\coding\\PYTORCH\\project\\train\\images\\207_102_20_bd016d21-eb8c-4221-8bb1-0b788c95665f.jpg: corrupt JPEG restored and saved\n",
      "\u001b[34m\u001b[1mtrain: \u001b[0mWARNING  C:\\Users\\dawoo\\Desktop\\SF7\\coding\\PYTORCH\\project\\train\\images\\207_102_20_c009d211-3c86-4868-ace0-a4a1caaff8b7.jpg: corrupt JPEG restored and saved\n",
      "\u001b[34m\u001b[1mtrain: \u001b[0mWARNING  C:\\Users\\dawoo\\Desktop\\SF7\\coding\\PYTORCH\\project\\train\\images\\207_102_20_c1a1df2a-3901-452f-89a5-cd0cd51528ea.jpg: corrupt JPEG restored and saved\n",
      "\u001b[34m\u001b[1mtrain: \u001b[0mWARNING  C:\\Users\\dawoo\\Desktop\\SF7\\coding\\PYTORCH\\project\\train\\images\\207_102_20_c8bcb900-a005-487f-b993-742d24e0e059.jpg: corrupt JPEG restored and saved\n",
      "\u001b[34m\u001b[1mtrain: \u001b[0mWARNING  C:\\Users\\dawoo\\Desktop\\SF7\\coding\\PYTORCH\\project\\train\\images\\207_102_20_c9dcec84-c926-4b04-b2fa-1f992f5282fc.jpg: corrupt JPEG restored and saved\n",
      "\u001b[34m\u001b[1mtrain: \u001b[0mWARNING  C:\\Users\\dawoo\\Desktop\\SF7\\coding\\PYTORCH\\project\\train\\images\\207_102_20_cf7162f6-0b14-4f92-a0d4-9de973defd06.jpg: corrupt JPEG restored and saved\n",
      "\u001b[34m\u001b[1mtrain: \u001b[0mWARNING  C:\\Users\\dawoo\\Desktop\\SF7\\coding\\PYTORCH\\project\\train\\images\\207_102_20_da93b7e0-569d-4383-bd10-d9564d1303a7.jpg: corrupt JPEG restored and saved\n",
      "\u001b[34m\u001b[1mtrain: \u001b[0mWARNING  C:\\Users\\dawoo\\Desktop\\SF7\\coding\\PYTORCH\\project\\train\\images\\207_102_20_dc448e5b-54a8-46ba-93e1-b2b5fd359fa2.jpg: corrupt JPEG restored and saved\n",
      "\u001b[34m\u001b[1mtrain: \u001b[0mWARNING  C:\\Users\\dawoo\\Desktop\\SF7\\coding\\PYTORCH\\project\\train\\images\\207_102_20_f17f4634-46dd-4981-afe2-6a9454393d1c.jpg: corrupt JPEG restored and saved\n",
      "\u001b[34m\u001b[1mtrain: \u001b[0mWARNING  C:\\Users\\dawoo\\Desktop\\SF7\\coding\\PYTORCH\\project\\train\\images\\207_102_20_f25ea522-fc01-4926-a83e-a03b57802eb5.jpg: corrupt JPEG restored and saved\n",
      "\u001b[34m\u001b[1mtrain: \u001b[0mWARNING  C:\\Users\\dawoo\\Desktop\\SF7\\coding\\PYTORCH\\project\\train\\images\\207_102_20_faa1eb3e-4ab0-47de-b146-13ed2a392185.jpg: corrupt JPEG restored and saved\n",
      "\u001b[34m\u001b[1mtrain: \u001b[0mWARNING  C:\\Users\\dawoo\\Desktop\\SF7\\coding\\PYTORCH\\project\\train\\images\\207_102_20_ff06f604-7e6c-4eb8-86a0-8ae9635f1088.jpg: corrupt JPEG restored and saved\n",
      "\u001b[34m\u001b[1mtrain: \u001b[0mWARNING  C:\\Users\\dawoo\\Desktop\\SF7\\coding\\PYTORCH\\project\\train\\images\\207_204_10_363e0a42-aeaf-43ae-bfba-11bda1978517.jpg: corrupt JPEG restored and saved\n",
      "\u001b[34m\u001b[1mtrain: \u001b[0mWARNING  C:\\Users\\dawoo\\Desktop\\SF7\\coding\\PYTORCH\\project\\train\\images\\207_204_10_458c05f7-4891-4524-acb4-493e7617d28c.jpg: corrupt JPEG restored and saved\n",
      "\u001b[34m\u001b[1mtrain: \u001b[0mWARNING  C:\\Users\\dawoo\\Desktop\\SF7\\coding\\PYTORCH\\project\\train\\images\\207_204_10_aee0de2c-5597-418b-87a3-6aa6653a33ff.jpg: corrupt JPEG restored and saved\n",
      "\u001b[34m\u001b[1mtrain: \u001b[0mWARNING  C:\\Users\\dawoo\\Desktop\\SF7\\coding\\PYTORCH\\project\\train\\images\\207_204_10_e1240d1c-6b5d-4a3b-a2b2-c9f4b365e318.jpg: corrupt JPEG restored and saved\n",
      "\u001b[34m\u001b[1mtrain: \u001b[0mWARNING  C:\\Users\\dawoo\\Desktop\\SF7\\coding\\PYTORCH\\project\\train\\images\\207_204_10_fa45f552-bbf7-47b6-b40c-a6cf525c7d2e.jpg: corrupt JPEG restored and saved\n",
      "\u001b[34m\u001b[1mtrain: \u001b[0mWARNING  C:\\Users\\dawoo\\Desktop\\SF7\\coding\\PYTORCH\\project\\train\\images\\207_204_10_feca58b6-4406-4db4-b3b6-edbd683af35d.jpg: corrupt JPEG restored and saved\n",
      "\u001b[34m\u001b[1mtrain: \u001b[0mWARNING  C:\\Users\\dawoo\\Desktop\\SF7\\coding\\PYTORCH\\project\\train\\images\\207_204_20_000733ee-de1c-4483-a8fd-9c1afe985a38.jpg: corrupt JPEG restored and saved\n",
      "\u001b[34m\u001b[1mtrain: \u001b[0mWARNING  C:\\Users\\dawoo\\Desktop\\SF7\\coding\\PYTORCH\\project\\train\\images\\207_204_20_02572284-e1b4-4cf8-8e77-4d599cb86968.jpg: corrupt JPEG restored and saved\n",
      "\u001b[34m\u001b[1mtrain: \u001b[0mWARNING  C:\\Users\\dawoo\\Desktop\\SF7\\coding\\PYTORCH\\project\\train\\images\\207_204_20_09d72378-d682-4881-bbaf-9fb709ec5690.jpg: corrupt JPEG restored and saved\n",
      "\u001b[34m\u001b[1mtrain: \u001b[0mWARNING  C:\\Users\\dawoo\\Desktop\\SF7\\coding\\PYTORCH\\project\\train\\images\\207_204_20_17e2bf2d-76e5-4160-a79b-44d6f595f551.jpg: corrupt JPEG restored and saved\n",
      "\u001b[34m\u001b[1mtrain: \u001b[0mWARNING  C:\\Users\\dawoo\\Desktop\\SF7\\coding\\PYTORCH\\project\\train\\images\\207_204_20_18106a7d-1f3c-49da-9746-bfd04afdceda.jpg: corrupt JPEG restored and saved\n",
      "\u001b[34m\u001b[1mtrain: \u001b[0mWARNING  C:\\Users\\dawoo\\Desktop\\SF7\\coding\\PYTORCH\\project\\train\\images\\207_204_20_2ef29802-76f6-4fea-9444-3069c4916b8e.jpg: corrupt JPEG restored and saved\n",
      "\u001b[34m\u001b[1mtrain: \u001b[0mWARNING  C:\\Users\\dawoo\\Desktop\\SF7\\coding\\PYTORCH\\project\\train\\images\\207_204_20_34ae3ace-cfc0-43a2-880f-3e7dc745e5ac.jpg: corrupt JPEG restored and saved\n",
      "\u001b[34m\u001b[1mtrain: \u001b[0mWARNING  C:\\Users\\dawoo\\Desktop\\SF7\\coding\\PYTORCH\\project\\train\\images\\207_204_20_369c94da-da5a-4b36-abae-172b40736aa1.jpg: corrupt JPEG restored and saved\n",
      "\u001b[34m\u001b[1mtrain: \u001b[0mWARNING  C:\\Users\\dawoo\\Desktop\\SF7\\coding\\PYTORCH\\project\\train\\images\\207_204_20_3b69f00e-e1ba-4afd-8d7a-c3a34699f184.jpg: corrupt JPEG restored and saved\n",
      "\u001b[34m\u001b[1mtrain: \u001b[0mWARNING  C:\\Users\\dawoo\\Desktop\\SF7\\coding\\PYTORCH\\project\\train\\images\\207_204_20_42df7d3c-42ef-4f05-920f-532208b2d025.jpg: corrupt JPEG restored and saved\n",
      "\u001b[34m\u001b[1mtrain: \u001b[0mWARNING  C:\\Users\\dawoo\\Desktop\\SF7\\coding\\PYTORCH\\project\\train\\images\\207_204_20_4809fb1f-31b1-4627-8bcb-ada2fd17b129.jpg: corrupt JPEG restored and saved\n",
      "\u001b[34m\u001b[1mtrain: \u001b[0mWARNING  C:\\Users\\dawoo\\Desktop\\SF7\\coding\\PYTORCH\\project\\train\\images\\207_204_20_4ad7b417-0a61-4e6d-8907-b02aa09589ff.jpg: corrupt JPEG restored and saved\n",
      "\u001b[34m\u001b[1mtrain: \u001b[0mWARNING  C:\\Users\\dawoo\\Desktop\\SF7\\coding\\PYTORCH\\project\\train\\images\\207_204_20_4e93927f-128f-4bb3-abf4-f44c81465f54.jpg: corrupt JPEG restored and saved\n",
      "\u001b[34m\u001b[1mtrain: \u001b[0mWARNING  C:\\Users\\dawoo\\Desktop\\SF7\\coding\\PYTORCH\\project\\train\\images\\207_204_20_54ab80f0-da92-463e-b775-1bdeef5e1fa1.jpg: corrupt JPEG restored and saved\n",
      "\u001b[34m\u001b[1mtrain: \u001b[0mWARNING  C:\\Users\\dawoo\\Desktop\\SF7\\coding\\PYTORCH\\project\\train\\images\\207_204_20_59bd4079-cf8d-4061-8b77-902af6f214f6.jpg: corrupt JPEG restored and saved\n",
      "\u001b[34m\u001b[1mtrain: \u001b[0mWARNING  C:\\Users\\dawoo\\Desktop\\SF7\\coding\\PYTORCH\\project\\train\\images\\207_204_20_6491bedf-1f42-43ce-bbcd-ccb2af5f0482.jpg: corrupt JPEG restored and saved\n",
      "\u001b[34m\u001b[1mtrain: \u001b[0mWARNING  C:\\Users\\dawoo\\Desktop\\SF7\\coding\\PYTORCH\\project\\train\\images\\207_204_20_6a0bef3c-a353-492f-a8e0-e38d2b020bef.jpg: corrupt JPEG restored and saved\n",
      "\u001b[34m\u001b[1mtrain: \u001b[0mWARNING  C:\\Users\\dawoo\\Desktop\\SF7\\coding\\PYTORCH\\project\\train\\images\\207_204_20_72607e77-5bf8-4142-80c4-2e4a28804b3d.jpg: corrupt JPEG restored and saved\n",
      "\u001b[34m\u001b[1mtrain: \u001b[0mWARNING  C:\\Users\\dawoo\\Desktop\\SF7\\coding\\PYTORCH\\project\\train\\images\\207_204_20_944533f4-86aa-42dc-8897-55c214f45f0f.jpg: corrupt JPEG restored and saved\n",
      "\u001b[34m\u001b[1mtrain: \u001b[0mWARNING  C:\\Users\\dawoo\\Desktop\\SF7\\coding\\PYTORCH\\project\\train\\images\\207_204_20_95964fd7-1054-4281-b1ac-90bbd9ef97dd.jpg: corrupt JPEG restored and saved\n",
      "\u001b[34m\u001b[1mtrain: \u001b[0mWARNING  C:\\Users\\dawoo\\Desktop\\SF7\\coding\\PYTORCH\\project\\train\\images\\207_204_20_9e64248a-8a59-47a4-993c-127be54fbbd4.jpg: corrupt JPEG restored and saved\n",
      "\u001b[34m\u001b[1mtrain: \u001b[0mWARNING  C:\\Users\\dawoo\\Desktop\\SF7\\coding\\PYTORCH\\project\\train\\images\\207_204_20_a1683e17-3f43-4fda-a423-66f9c8633139.jpg: corrupt JPEG restored and saved\n",
      "\u001b[34m\u001b[1mtrain: \u001b[0mWARNING  C:\\Users\\dawoo\\Desktop\\SF7\\coding\\PYTORCH\\project\\train\\images\\207_204_20_a231aff2-bee5-4de7-a289-179fd088a47e.jpg: corrupt JPEG restored and saved\n",
      "\u001b[34m\u001b[1mtrain: \u001b[0mWARNING  C:\\Users\\dawoo\\Desktop\\SF7\\coding\\PYTORCH\\project\\train\\images\\207_204_20_a6a9f3aa-96d1-4733-ade8-bcc7aba8a0f3.jpg: corrupt JPEG restored and saved\n",
      "\u001b[34m\u001b[1mtrain: \u001b[0mWARNING  C:\\Users\\dawoo\\Desktop\\SF7\\coding\\PYTORCH\\project\\train\\images\\207_204_20_aec36187-4219-459a-9051-a8acef3c00c0.jpg: corrupt JPEG restored and saved\n",
      "\u001b[34m\u001b[1mtrain: \u001b[0mWARNING  C:\\Users\\dawoo\\Desktop\\SF7\\coding\\PYTORCH\\project\\train\\images\\207_204_20_b35648c0-9b1d-4194-a230-cec25bfc9158.jpg: corrupt JPEG restored and saved\n",
      "\u001b[34m\u001b[1mtrain: \u001b[0mWARNING  C:\\Users\\dawoo\\Desktop\\SF7\\coding\\PYTORCH\\project\\train\\images\\207_204_20_b4516d75-e6fc-434e-97b2-b5f6bb5a6354.jpg: corrupt JPEG restored and saved\n",
      "\u001b[34m\u001b[1mtrain: \u001b[0mWARNING  C:\\Users\\dawoo\\Desktop\\SF7\\coding\\PYTORCH\\project\\train\\images\\207_204_20_b6568052-cece-4f4c-9f14-a84824f31c55.jpg: corrupt JPEG restored and saved\n",
      "\u001b[34m\u001b[1mtrain: \u001b[0mWARNING  C:\\Users\\dawoo\\Desktop\\SF7\\coding\\PYTORCH\\project\\train\\images\\207_204_20_bd79b275-130d-40aa-a489-95d1df2aaa96.jpg: corrupt JPEG restored and saved\n",
      "\u001b[34m\u001b[1mtrain: \u001b[0mWARNING  C:\\Users\\dawoo\\Desktop\\SF7\\coding\\PYTORCH\\project\\train\\images\\207_204_20_c35712cf-6211-4224-9223-85f3f5d1c9fe.jpg: corrupt JPEG restored and saved\n",
      "\u001b[34m\u001b[1mtrain: \u001b[0mWARNING  C:\\Users\\dawoo\\Desktop\\SF7\\coding\\PYTORCH\\project\\train\\images\\207_204_20_c3b22f80-1846-4fb3-b946-a899c93d96f9.jpg: corrupt JPEG restored and saved\n",
      "\u001b[34m\u001b[1mtrain: \u001b[0mWARNING  C:\\Users\\dawoo\\Desktop\\SF7\\coding\\PYTORCH\\project\\train\\images\\207_204_20_ca58be5f-47cc-44cd-bb39-776247af396d.jpg: corrupt JPEG restored and saved\n",
      "\u001b[34m\u001b[1mtrain: \u001b[0mWARNING  C:\\Users\\dawoo\\Desktop\\SF7\\coding\\PYTORCH\\project\\train\\images\\207_204_20_d0c63b6c-bced-48d9-a425-9c0116c9e29e.jpg: corrupt JPEG restored and saved\n",
      "\u001b[34m\u001b[1mtrain: \u001b[0mWARNING  C:\\Users\\dawoo\\Desktop\\SF7\\coding\\PYTORCH\\project\\train\\images\\207_204_20_d2efd180-4ac7-432a-8d1d-1d5aa60c6bba.jpg: corrupt JPEG restored and saved\n",
      "\u001b[34m\u001b[1mtrain: \u001b[0mWARNING  C:\\Users\\dawoo\\Desktop\\SF7\\coding\\PYTORCH\\project\\train\\images\\207_204_20_d40c769d-bd83-476f-b44d-6a028b6f0c7f.jpg: corrupt JPEG restored and saved\n",
      "\u001b[34m\u001b[1mtrain: \u001b[0mWARNING  C:\\Users\\dawoo\\Desktop\\SF7\\coding\\PYTORCH\\project\\train\\images\\207_204_20_da036929-ce9a-48d2-8ff9-93b7a5b412e5.jpg: corrupt JPEG restored and saved\n",
      "\u001b[34m\u001b[1mtrain: \u001b[0mWARNING  C:\\Users\\dawoo\\Desktop\\SF7\\coding\\PYTORCH\\project\\train\\images\\207_204_20_e3b9cdab-3009-41dc-914d-395452dc25b2.jpg: corrupt JPEG restored and saved\n",
      "\u001b[34m\u001b[1mtrain: \u001b[0mWARNING  C:\\Users\\dawoo\\Desktop\\SF7\\coding\\PYTORCH\\project\\train\\images\\207_204_20_ef21f057-5c64-44a4-a961-b92da367e1cc.jpg: corrupt JPEG restored and saved\n",
      "\u001b[34m\u001b[1mtrain: \u001b[0mWARNING  C:\\Users\\dawoo\\Desktop\\SF7\\coding\\PYTORCH\\project\\train\\images\\207_204_20_ef5678fc-4f73-4af6-91f3-5a5cd54d169f.jpg: corrupt JPEG restored and saved\n",
      "\u001b[34m\u001b[1mtrain: \u001b[0mWARNING  C:\\Users\\dawoo\\Desktop\\SF7\\coding\\PYTORCH\\project\\train\\images\\207_204_20_f954d596-065d-4bec-ab17-39a02c076beb.jpg: corrupt JPEG restored and saved\n",
      "\u001b[34m\u001b[1mtrain: \u001b[0mWARNING  C:\\Users\\dawoo\\Desktop\\SF7\\coding\\PYTORCH\\project\\train\\images\\207_204_20_fbc1c08a-595b-4f67-8e2b-9711a13a75a7.jpg: corrupt JPEG restored and saved\n",
      "\u001b[34m\u001b[1mtrain: \u001b[0mWARNING  C:\\Users\\dawoo\\Desktop\\SF7\\coding\\PYTORCH\\project\\train\\images\\207_212_20_01cee918-f107-4e51-a6ac-13ee5bfedd09.jpg: corrupt JPEG restored and saved\n",
      "\u001b[34m\u001b[1mtrain: \u001b[0mWARNING  C:\\Users\\dawoo\\Desktop\\SF7\\coding\\PYTORCH\\project\\train\\images\\207_212_20_0a7c77b6-46d6-409f-8d46-a0647b5770d5.jpg: corrupt JPEG restored and saved\n",
      "\u001b[34m\u001b[1mtrain: \u001b[0mWARNING  C:\\Users\\dawoo\\Desktop\\SF7\\coding\\PYTORCH\\project\\train\\images\\207_212_20_0ffd8f64-d51c-4faa-8438-26b1db7ef35a.jpg: corrupt JPEG restored and saved\n",
      "\u001b[34m\u001b[1mtrain: \u001b[0mWARNING  C:\\Users\\dawoo\\Desktop\\SF7\\coding\\PYTORCH\\project\\train\\images\\207_212_20_11f94812-9964-4ec7-ac18-89adce1d33e1.jpg: corrupt JPEG restored and saved\n",
      "\u001b[34m\u001b[1mtrain: \u001b[0mWARNING  C:\\Users\\dawoo\\Desktop\\SF7\\coding\\PYTORCH\\project\\train\\images\\207_212_20_20c8dfd7-4339-4ccc-a0ae-31a31c23fe63.jpg: corrupt JPEG restored and saved\n",
      "\u001b[34m\u001b[1mtrain: \u001b[0mWARNING  C:\\Users\\dawoo\\Desktop\\SF7\\coding\\PYTORCH\\project\\train\\images\\207_212_20_24e21798-5b32-4e9a-8f75-25574b61666d.jpg: corrupt JPEG restored and saved\n",
      "\u001b[34m\u001b[1mtrain: \u001b[0mWARNING  C:\\Users\\dawoo\\Desktop\\SF7\\coding\\PYTORCH\\project\\train\\images\\207_212_20_2a63d854-34fb-4cbe-bb48-6d6021b6a537.jpg: corrupt JPEG restored and saved\n",
      "\u001b[34m\u001b[1mtrain: \u001b[0mWARNING  C:\\Users\\dawoo\\Desktop\\SF7\\coding\\PYTORCH\\project\\train\\images\\207_212_20_2e26d277-a0d4-4cc1-86b3-95e5ce9bec7b.jpg: corrupt JPEG restored and saved\n",
      "\u001b[34m\u001b[1mtrain: \u001b[0mWARNING  C:\\Users\\dawoo\\Desktop\\SF7\\coding\\PYTORCH\\project\\train\\images\\207_212_20_32f7730b-e39c-4602-831f-94c27e6183d0.jpg: corrupt JPEG restored and saved\n",
      "\u001b[34m\u001b[1mtrain: \u001b[0mWARNING  C:\\Users\\dawoo\\Desktop\\SF7\\coding\\PYTORCH\\project\\train\\images\\207_212_20_38bb2e70-85b0-4227-af09-56dee1e7e477.jpg: corrupt JPEG restored and saved\n",
      "\u001b[34m\u001b[1mtrain: \u001b[0mWARNING  C:\\Users\\dawoo\\Desktop\\SF7\\coding\\PYTORCH\\project\\train\\images\\207_212_20_3d9c7836-2c95-4d56-bede-82cae92dc585.jpg: corrupt JPEG restored and saved\n",
      "\u001b[34m\u001b[1mtrain: \u001b[0mWARNING  C:\\Users\\dawoo\\Desktop\\SF7\\coding\\PYTORCH\\project\\train\\images\\207_212_20_441d897a-2a18-4dec-911c-742e55bc5a83.jpg: corrupt JPEG restored and saved\n",
      "\u001b[34m\u001b[1mtrain: \u001b[0mWARNING  C:\\Users\\dawoo\\Desktop\\SF7\\coding\\PYTORCH\\project\\train\\images\\207_212_20_4686d94b-cb43-4e13-8e14-d68feca7f3ff.jpg: corrupt JPEG restored and saved\n",
      "\u001b[34m\u001b[1mtrain: \u001b[0mWARNING  C:\\Users\\dawoo\\Desktop\\SF7\\coding\\PYTORCH\\project\\train\\images\\207_212_20_4ae50985-bd1d-44b9-b51c-7372341780ac.jpg: corrupt JPEG restored and saved\n",
      "\u001b[34m\u001b[1mtrain: \u001b[0mWARNING  C:\\Users\\dawoo\\Desktop\\SF7\\coding\\PYTORCH\\project\\train\\images\\207_212_20_53e9a32f-8e98-40df-81b2-d19775d66b8a.jpg: corrupt JPEG restored and saved\n",
      "\u001b[34m\u001b[1mtrain: \u001b[0mWARNING  C:\\Users\\dawoo\\Desktop\\SF7\\coding\\PYTORCH\\project\\train\\images\\207_212_20_5b23eeda-b118-4204-aa1f-6d3fdbcf4c09.jpg: corrupt JPEG restored and saved\n",
      "\u001b[34m\u001b[1mtrain: \u001b[0mWARNING  C:\\Users\\dawoo\\Desktop\\SF7\\coding\\PYTORCH\\project\\train\\images\\207_212_20_5b542870-b269-49c9-a505-d7ce162f41d8.jpg: corrupt JPEG restored and saved\n",
      "\u001b[34m\u001b[1mtrain: \u001b[0mWARNING  C:\\Users\\dawoo\\Desktop\\SF7\\coding\\PYTORCH\\project\\train\\images\\207_212_20_63bfff7d-4606-4a76-8d50-6b05b26300cf.jpg: corrupt JPEG restored and saved\n",
      "\u001b[34m\u001b[1mtrain: \u001b[0mWARNING  C:\\Users\\dawoo\\Desktop\\SF7\\coding\\PYTORCH\\project\\train\\images\\207_212_20_6a95d860-be29-4937-a4fd-af7e34afbf78.jpg: corrupt JPEG restored and saved\n",
      "\u001b[34m\u001b[1mtrain: \u001b[0mWARNING  C:\\Users\\dawoo\\Desktop\\SF7\\coding\\PYTORCH\\project\\train\\images\\207_212_20_7446a509-0f31-4d4b-bb2d-2de0414baf43.jpg: corrupt JPEG restored and saved\n",
      "\u001b[34m\u001b[1mtrain: \u001b[0mWARNING  C:\\Users\\dawoo\\Desktop\\SF7\\coding\\PYTORCH\\project\\train\\images\\207_212_20_755315be-5e66-4bea-b7cc-e710e5904779.jpg: corrupt JPEG restored and saved\n",
      "\u001b[34m\u001b[1mtrain: \u001b[0mWARNING  C:\\Users\\dawoo\\Desktop\\SF7\\coding\\PYTORCH\\project\\train\\images\\207_212_20_81738531-b427-46b8-ab31-7367eaadf855.jpg: corrupt JPEG restored and saved\n",
      "\u001b[34m\u001b[1mtrain: \u001b[0mWARNING  C:\\Users\\dawoo\\Desktop\\SF7\\coding\\PYTORCH\\project\\train\\images\\207_212_20_82857b72-3cf8-40bd-853b-02080bb218f3.jpg: corrupt JPEG restored and saved\n",
      "\u001b[34m\u001b[1mtrain: \u001b[0mWARNING  C:\\Users\\dawoo\\Desktop\\SF7\\coding\\PYTORCH\\project\\train\\images\\207_212_20_833c7dac-0c46-434e-8ccd-a0a4e5dd1203.jpg: corrupt JPEG restored and saved\n",
      "\u001b[34m\u001b[1mtrain: \u001b[0mWARNING  C:\\Users\\dawoo\\Desktop\\SF7\\coding\\PYTORCH\\project\\train\\images\\207_212_20_8510d44c-7f16-4742-830a-8dce56bb978e.jpg: corrupt JPEG restored and saved\n",
      "\u001b[34m\u001b[1mtrain: \u001b[0mWARNING  C:\\Users\\dawoo\\Desktop\\SF7\\coding\\PYTORCH\\project\\train\\images\\207_212_20_87a5c540-29c9-475e-aa28-6fb60578244e.jpg: corrupt JPEG restored and saved\n",
      "\u001b[34m\u001b[1mtrain: \u001b[0mWARNING  C:\\Users\\dawoo\\Desktop\\SF7\\coding\\PYTORCH\\project\\train\\images\\207_212_20_8cb98de9-f23b-4450-a449-4f2019070595.jpg: corrupt JPEG restored and saved\n",
      "\u001b[34m\u001b[1mtrain: \u001b[0mWARNING  C:\\Users\\dawoo\\Desktop\\SF7\\coding\\PYTORCH\\project\\train\\images\\207_212_20_8d81c211-8fd9-4a12-a791-736c2f11f4ad.jpg: corrupt JPEG restored and saved\n",
      "\u001b[34m\u001b[1mtrain: \u001b[0mWARNING  C:\\Users\\dawoo\\Desktop\\SF7\\coding\\PYTORCH\\project\\train\\images\\207_212_20_8d9b8192-c67b-48bd-bea4-9cb8fab50437.jpg: corrupt JPEG restored and saved\n",
      "\u001b[34m\u001b[1mtrain: \u001b[0mWARNING  C:\\Users\\dawoo\\Desktop\\SF7\\coding\\PYTORCH\\project\\train\\images\\207_212_20_907342e6-001c-4d7b-bca4-7d23499734f3.jpg: corrupt JPEG restored and saved\n",
      "\u001b[34m\u001b[1mtrain: \u001b[0mWARNING  C:\\Users\\dawoo\\Desktop\\SF7\\coding\\PYTORCH\\project\\train\\images\\207_212_20_9b7882d3-36cd-4316-9821-c72d501f24f7.jpg: corrupt JPEG restored and saved\n",
      "\u001b[34m\u001b[1mtrain: \u001b[0mWARNING  C:\\Users\\dawoo\\Desktop\\SF7\\coding\\PYTORCH\\project\\train\\images\\207_212_20_a8d03ffb-db2f-4d7d-855a-859c41c3bd31.jpg: corrupt JPEG restored and saved\n",
      "\u001b[34m\u001b[1mtrain: \u001b[0mWARNING  C:\\Users\\dawoo\\Desktop\\SF7\\coding\\PYTORCH\\project\\train\\images\\207_212_20_acbdffa6-09cb-45c2-9098-25d1a55eab4c.jpg: corrupt JPEG restored and saved\n",
      "\u001b[34m\u001b[1mtrain: \u001b[0mWARNING  C:\\Users\\dawoo\\Desktop\\SF7\\coding\\PYTORCH\\project\\train\\images\\207_212_20_b683c846-c2f9-40e7-82f0-c49c328621a7.jpg: corrupt JPEG restored and saved\n",
      "\u001b[34m\u001b[1mtrain: \u001b[0mWARNING  C:\\Users\\dawoo\\Desktop\\SF7\\coding\\PYTORCH\\project\\train\\images\\207_212_20_b693a36c-815d-40fd-930c-2a8dccf31c93.jpg: corrupt JPEG restored and saved\n",
      "\u001b[34m\u001b[1mtrain: \u001b[0mWARNING  C:\\Users\\dawoo\\Desktop\\SF7\\coding\\PYTORCH\\project\\train\\images\\207_212_20_b81e0866-f392-46ac-901c-7330e2415593.jpg: corrupt JPEG restored and saved\n",
      "\u001b[34m\u001b[1mtrain: \u001b[0mWARNING  C:\\Users\\dawoo\\Desktop\\SF7\\coding\\PYTORCH\\project\\train\\images\\207_212_20_bc493a21-9f5f-4330-85c4-8becc87f2ea6.jpg: corrupt JPEG restored and saved\n",
      "\u001b[34m\u001b[1mtrain: \u001b[0mWARNING  C:\\Users\\dawoo\\Desktop\\SF7\\coding\\PYTORCH\\project\\train\\images\\207_212_20_c1ed0c00-d7b6-490a-a882-4aec9efd43c6.jpg: corrupt JPEG restored and saved\n",
      "\u001b[34m\u001b[1mtrain: \u001b[0mWARNING  C:\\Users\\dawoo\\Desktop\\SF7\\coding\\PYTORCH\\project\\train\\images\\207_212_20_c8978c3f-8880-47a6-8c2b-3d50fe8449b5.jpg: corrupt JPEG restored and saved\n",
      "\u001b[34m\u001b[1mtrain: \u001b[0mWARNING  C:\\Users\\dawoo\\Desktop\\SF7\\coding\\PYTORCH\\project\\train\\images\\207_212_20_c899defb-4dfd-4ca8-81cf-7692ca48243e.jpg: corrupt JPEG restored and saved\n",
      "\u001b[34m\u001b[1mtrain: \u001b[0mWARNING  C:\\Users\\dawoo\\Desktop\\SF7\\coding\\PYTORCH\\project\\train\\images\\207_212_20_d151183e-38c0-41f2-9e0b-f0cdd42e1e04.jpg: corrupt JPEG restored and saved\n",
      "\u001b[34m\u001b[1mtrain: \u001b[0mWARNING  C:\\Users\\dawoo\\Desktop\\SF7\\coding\\PYTORCH\\project\\train\\images\\207_212_20_d3cd926b-e3d3-482e-85bb-7fcf05760345.jpg: corrupt JPEG restored and saved\n",
      "\u001b[34m\u001b[1mtrain: \u001b[0mWARNING  C:\\Users\\dawoo\\Desktop\\SF7\\coding\\PYTORCH\\project\\train\\images\\207_212_20_d72a4ade-4c23-4464-a548-555d4097ce3d.jpg: corrupt JPEG restored and saved\n",
      "\u001b[34m\u001b[1mtrain: \u001b[0mWARNING  C:\\Users\\dawoo\\Desktop\\SF7\\coding\\PYTORCH\\project\\train\\images\\207_212_20_d800dc77-aad2-43fb-a7bb-6468c327b376.jpg: corrupt JPEG restored and saved\n",
      "\u001b[34m\u001b[1mtrain: \u001b[0mWARNING  C:\\Users\\dawoo\\Desktop\\SF7\\coding\\PYTORCH\\project\\train\\images\\207_212_20_dc261a1c-417d-4404-93e1-18a09397b503.jpg: corrupt JPEG restored and saved\n",
      "\u001b[34m\u001b[1mtrain: \u001b[0mWARNING  C:\\Users\\dawoo\\Desktop\\SF7\\coding\\PYTORCH\\project\\train\\images\\207_212_20_dc8608c9-6c57-47b2-a6a6-6498758ea06a.jpg: corrupt JPEG restored and saved\n",
      "\u001b[34m\u001b[1mtrain: \u001b[0mWARNING  C:\\Users\\dawoo\\Desktop\\SF7\\coding\\PYTORCH\\project\\train\\images\\207_212_20_e096fbcf-153f-4550-8b7a-4feede6b3ee0.jpg: corrupt JPEG restored and saved\n",
      "\u001b[34m\u001b[1mtrain: \u001b[0mWARNING  C:\\Users\\dawoo\\Desktop\\SF7\\coding\\PYTORCH\\project\\train\\images\\207_212_20_eac37dc2-dbf2-4c6d-a6c3-bb11aa8dcdb7.jpg: corrupt JPEG restored and saved\n",
      "\u001b[34m\u001b[1mtrain: \u001b[0mWARNING  C:\\Users\\dawoo\\Desktop\\SF7\\coding\\PYTORCH\\project\\train\\images\\207_212_20_ec627abe-8d04-4a74-90b3-e04b27306983.jpg: corrupt JPEG restored and saved\n",
      "\u001b[34m\u001b[1mtrain: \u001b[0mWARNING  C:\\Users\\dawoo\\Desktop\\SF7\\coding\\PYTORCH\\project\\train\\images\\207_212_20_f04cd9a5-0a56-40b9-90d1-f1118ba44e2a.jpg: corrupt JPEG restored and saved\n",
      "\u001b[34m\u001b[1mtrain: \u001b[0mWARNING  C:\\Users\\dawoo\\Desktop\\SF7\\coding\\PYTORCH\\project\\train\\images\\207_212_20_f91ac717-5ff3-47aa-8e9d-eead1d7decd2.jpg: corrupt JPEG restored and saved\n",
      "\u001b[34m\u001b[1mtrain: \u001b[0mWARNING  C:\\Users\\dawoo\\Desktop\\SF7\\coding\\PYTORCH\\project\\train\\images\\207_212_20_fb7cfd91-fe8c-4a24-8132-8058fe63ff46.jpg: corrupt JPEG restored and saved\n",
      "\u001b[34m\u001b[1mtrain: \u001b[0mWARNING  C:\\Users\\dawoo\\Desktop\\SF7\\coding\\PYTORCH\\project\\train\\images\\207_212_20_fbdabddd-0474-45a0-b6eb-37b70ad1c0cf.jpg: corrupt JPEG restored and saved\n",
      "\u001b[34m\u001b[1mtrain: \u001b[0mWARNING  C:\\Users\\dawoo\\Desktop\\SF7\\coding\\PYTORCH\\project\\train\\images\\207_212_20_ff60575c-e8ea-4308-99ba-9ab01930c37a.jpg: corrupt JPEG restored and saved\n",
      "\u001b[34m\u001b[1mtrain: \u001b[0mWARNING  C:\\Users\\dawoo\\Desktop\\SF7\\coding\\PYTORCH\\project\\train\\images\\207_213_10_1ab11e14-0988-4b8e-84a3-a55a1b80d82e.jpg: corrupt JPEG restored and saved\n",
      "\u001b[34m\u001b[1mtrain: \u001b[0mWARNING  C:\\Users\\dawoo\\Desktop\\SF7\\coding\\PYTORCH\\project\\train\\images\\207_213_10_7d1b2932-a7bd-4aec-9ed6-090efc02b1f1.jpg: corrupt JPEG restored and saved\n",
      "\u001b[34m\u001b[1mtrain: \u001b[0mWARNING  C:\\Users\\dawoo\\Desktop\\SF7\\coding\\PYTORCH\\project\\train\\images\\207_213_10_89f87579-7e76-4ca7-9d48-6f8cc646429b.jpg: corrupt JPEG restored and saved\n",
      "\u001b[34m\u001b[1mtrain: \u001b[0mWARNING  C:\\Users\\dawoo\\Desktop\\SF7\\coding\\PYTORCH\\project\\train\\images\\207_213_10_90617da8-3224-48ac-b591-f853d6019d90.jpg: corrupt JPEG restored and saved\n",
      "\u001b[34m\u001b[1mtrain: \u001b[0mWARNING  C:\\Users\\dawoo\\Desktop\\SF7\\coding\\PYTORCH\\project\\train\\images\\207_213_10_dbd91925-f7fd-47fa-8c24-62148dfe21d5.jpg: corrupt JPEG restored and saved\n",
      "\u001b[34m\u001b[1mtrain: \u001b[0mWARNING  C:\\Users\\dawoo\\Desktop\\SF7\\coding\\PYTORCH\\project\\train\\images\\207_213_10_fb0abfb9-829b-4af5-93c8-4f15a3638984.jpg: corrupt JPEG restored and saved\n",
      "\u001b[34m\u001b[1mtrain: \u001b[0mWARNING  C:\\Users\\dawoo\\Desktop\\SF7\\coding\\PYTORCH\\project\\train\\images\\207_213_20_00f18c64-6177-4aac-ae68-811204476c71.jpg: corrupt JPEG restored and saved\n",
      "\u001b[34m\u001b[1mtrain: \u001b[0mWARNING  C:\\Users\\dawoo\\Desktop\\SF7\\coding\\PYTORCH\\project\\train\\images\\207_213_20_09836168-fe72-4819-bff5-48f170d50237.jpg: corrupt JPEG restored and saved\n",
      "\u001b[34m\u001b[1mtrain: \u001b[0mWARNING  C:\\Users\\dawoo\\Desktop\\SF7\\coding\\PYTORCH\\project\\train\\images\\207_213_20_0aa9c1b9-3f31-4ecc-9ecb-27463fc7fa37.jpg: corrupt JPEG restored and saved\n",
      "\u001b[34m\u001b[1mtrain: \u001b[0mWARNING  C:\\Users\\dawoo\\Desktop\\SF7\\coding\\PYTORCH\\project\\train\\images\\207_213_20_1472d7ad-dcdb-426e-8693-951f9952bf44.jpg: corrupt JPEG restored and saved\n",
      "\u001b[34m\u001b[1mtrain: \u001b[0mWARNING  C:\\Users\\dawoo\\Desktop\\SF7\\coding\\PYTORCH\\project\\train\\images\\207_213_20_15df868b-1ab5-4f61-9d51-5092dbacb74d.jpg: corrupt JPEG restored and saved\n",
      "\u001b[34m\u001b[1mtrain: \u001b[0mWARNING  C:\\Users\\dawoo\\Desktop\\SF7\\coding\\PYTORCH\\project\\train\\images\\207_213_20_25efea8b-2585-4840-99e1-90149795eaa1.jpg: corrupt JPEG restored and saved\n",
      "\u001b[34m\u001b[1mtrain: \u001b[0mWARNING  C:\\Users\\dawoo\\Desktop\\SF7\\coding\\PYTORCH\\project\\train\\images\\207_213_20_25f22bd5-f4c5-457b-aeb5-12f19c25f80f.jpg: corrupt JPEG restored and saved\n",
      "\u001b[34m\u001b[1mtrain: \u001b[0mWARNING  C:\\Users\\dawoo\\Desktop\\SF7\\coding\\PYTORCH\\project\\train\\images\\207_213_20_29674f5c-acb6-4425-a36d-19b28dca364b.jpg: corrupt JPEG restored and saved\n",
      "\u001b[34m\u001b[1mtrain: \u001b[0mWARNING  C:\\Users\\dawoo\\Desktop\\SF7\\coding\\PYTORCH\\project\\train\\images\\207_213_20_3094da98-15c5-4580-8e67-3ffb88cc002f.jpg: corrupt JPEG restored and saved\n",
      "\u001b[34m\u001b[1mtrain: \u001b[0mWARNING  C:\\Users\\dawoo\\Desktop\\SF7\\coding\\PYTORCH\\project\\train\\images\\207_213_20_343a72bd-63a5-487b-8659-21615b63683f.jpg: corrupt JPEG restored and saved\n",
      "\u001b[34m\u001b[1mtrain: \u001b[0mWARNING  C:\\Users\\dawoo\\Desktop\\SF7\\coding\\PYTORCH\\project\\train\\images\\207_213_20_4102fa64-f793-43a4-b949-77ed9e0f01b9.jpg: corrupt JPEG restored and saved\n",
      "\u001b[34m\u001b[1mtrain: \u001b[0mWARNING  C:\\Users\\dawoo\\Desktop\\SF7\\coding\\PYTORCH\\project\\train\\images\\207_213_20_427e8a05-0be0-4fb3-8adb-704e0639fdf5.jpg: corrupt JPEG restored and saved\n",
      "\u001b[34m\u001b[1mtrain: \u001b[0mWARNING  C:\\Users\\dawoo\\Desktop\\SF7\\coding\\PYTORCH\\project\\train\\images\\207_213_20_51c900f2-fab1-4603-b224-2655ef899d12.jpg: corrupt JPEG restored and saved\n",
      "\u001b[34m\u001b[1mtrain: \u001b[0mWARNING  C:\\Users\\dawoo\\Desktop\\SF7\\coding\\PYTORCH\\project\\train\\images\\207_213_20_606ea199-dbdd-4891-8247-ef9942e45ede.jpg: corrupt JPEG restored and saved\n",
      "\u001b[34m\u001b[1mtrain: \u001b[0mWARNING  C:\\Users\\dawoo\\Desktop\\SF7\\coding\\PYTORCH\\project\\train\\images\\207_213_20_618d6ec3-7c0f-48c8-adff-8975ac81ca8e.jpg: corrupt JPEG restored and saved\n",
      "\u001b[34m\u001b[1mtrain: \u001b[0mWARNING  C:\\Users\\dawoo\\Desktop\\SF7\\coding\\PYTORCH\\project\\train\\images\\207_213_20_63a1bf3f-e991-4407-950b-830a6474392a.jpg: corrupt JPEG restored and saved\n",
      "\u001b[34m\u001b[1mtrain: \u001b[0mWARNING  C:\\Users\\dawoo\\Desktop\\SF7\\coding\\PYTORCH\\project\\train\\images\\207_213_20_697784f4-d82f-43f3-b314-b9a60c8ad225.jpg: corrupt JPEG restored and saved\n",
      "\u001b[34m\u001b[1mtrain: \u001b[0mWARNING  C:\\Users\\dawoo\\Desktop\\SF7\\coding\\PYTORCH\\project\\train\\images\\207_213_20_69facea4-5460-450d-b557-90abca43bb24.jpg: corrupt JPEG restored and saved\n",
      "\u001b[34m\u001b[1mtrain: \u001b[0mWARNING  C:\\Users\\dawoo\\Desktop\\SF7\\coding\\PYTORCH\\project\\train\\images\\207_213_20_6d357eed-1d6a-440c-a176-41b2982af851.jpg: corrupt JPEG restored and saved\n",
      "\u001b[34m\u001b[1mtrain: \u001b[0mWARNING  C:\\Users\\dawoo\\Desktop\\SF7\\coding\\PYTORCH\\project\\train\\images\\207_213_20_74b971f2-fbda-450a-bab6-fe5b4b49046a.jpg: corrupt JPEG restored and saved\n",
      "\u001b[34m\u001b[1mtrain: \u001b[0mWARNING  C:\\Users\\dawoo\\Desktop\\SF7\\coding\\PYTORCH\\project\\train\\images\\207_213_20_76eecd57-52ff-40f7-bdd7-633a566c81df.jpg: corrupt JPEG restored and saved\n",
      "\u001b[34m\u001b[1mtrain: \u001b[0mWARNING  C:\\Users\\dawoo\\Desktop\\SF7\\coding\\PYTORCH\\project\\train\\images\\207_213_20_7b2ccd39-8061-480a-b76f-b5346979073f.jpg: corrupt JPEG restored and saved\n",
      "\u001b[34m\u001b[1mtrain: \u001b[0mWARNING  C:\\Users\\dawoo\\Desktop\\SF7\\coding\\PYTORCH\\project\\train\\images\\207_213_20_7de79f7e-348f-4123-932e-8425ffb29a81.jpg: corrupt JPEG restored and saved\n",
      "\u001b[34m\u001b[1mtrain: \u001b[0mWARNING  C:\\Users\\dawoo\\Desktop\\SF7\\coding\\PYTORCH\\project\\train\\images\\207_213_20_9dcdd975-f456-4917-84f1-863fa3d44d8b.jpg: corrupt JPEG restored and saved\n",
      "\u001b[34m\u001b[1mtrain: \u001b[0mWARNING  C:\\Users\\dawoo\\Desktop\\SF7\\coding\\PYTORCH\\project\\train\\images\\207_213_20_a3344279-15cf-4984-b8a2-0e74f974bfa0.jpg: corrupt JPEG restored and saved\n",
      "\u001b[34m\u001b[1mtrain: \u001b[0mWARNING  C:\\Users\\dawoo\\Desktop\\SF7\\coding\\PYTORCH\\project\\train\\images\\207_213_20_a8e64b5c-580f-4d06-a912-d00ef06c4520.jpg: corrupt JPEG restored and saved\n",
      "\u001b[34m\u001b[1mtrain: \u001b[0mWARNING  C:\\Users\\dawoo\\Desktop\\SF7\\coding\\PYTORCH\\project\\train\\images\\207_213_20_ae7a9056-8bf2-4f15-b01d-0bf7afacdadc.jpg: corrupt JPEG restored and saved\n",
      "\u001b[34m\u001b[1mtrain: \u001b[0mWARNING  C:\\Users\\dawoo\\Desktop\\SF7\\coding\\PYTORCH\\project\\train\\images\\207_213_20_b0e9b0cf-e19a-44ef-bc9e-9cb0d97a5da2.jpg: corrupt JPEG restored and saved\n",
      "\u001b[34m\u001b[1mtrain: \u001b[0mWARNING  C:\\Users\\dawoo\\Desktop\\SF7\\coding\\PYTORCH\\project\\train\\images\\207_213_20_b708ebaa-f050-4418-825c-c77de2761a0e.jpg: corrupt JPEG restored and saved\n",
      "\u001b[34m\u001b[1mtrain: \u001b[0mWARNING  C:\\Users\\dawoo\\Desktop\\SF7\\coding\\PYTORCH\\project\\train\\images\\207_213_20_bd7ad1c9-e60d-4091-98ac-85afee1f0082.jpg: corrupt JPEG restored and saved\n",
      "\u001b[34m\u001b[1mtrain: \u001b[0mWARNING  C:\\Users\\dawoo\\Desktop\\SF7\\coding\\PYTORCH\\project\\train\\images\\207_213_20_c63bedb1-c637-4fc4-9946-6d7fe54baa56.jpg: corrupt JPEG restored and saved\n",
      "\u001b[34m\u001b[1mtrain: \u001b[0mWARNING  C:\\Users\\dawoo\\Desktop\\SF7\\coding\\PYTORCH\\project\\train\\images\\207_213_20_d5fd8884-e3d5-4e6f-8fba-15f9647400b2.jpg: corrupt JPEG restored and saved\n",
      "\u001b[34m\u001b[1mtrain: \u001b[0mWARNING  C:\\Users\\dawoo\\Desktop\\SF7\\coding\\PYTORCH\\project\\train\\images\\207_213_20_daad2f4f-d08b-41a8-a8ec-f0a5025ce128.jpg: corrupt JPEG restored and saved\n",
      "\u001b[34m\u001b[1mtrain: \u001b[0mWARNING  C:\\Users\\dawoo\\Desktop\\SF7\\coding\\PYTORCH\\project\\train\\images\\207_213_20_e1c903a6-d396-40ce-b979-ba8891b1bd0d.jpg: corrupt JPEG restored and saved\n",
      "\u001b[34m\u001b[1mtrain: \u001b[0mWARNING  C:\\Users\\dawoo\\Desktop\\SF7\\coding\\PYTORCH\\project\\train\\images\\207_213_20_e49c3786-40cc-4c98-9d50-779dab94cf7c.jpg: corrupt JPEG restored and saved\n",
      "\u001b[34m\u001b[1mtrain: \u001b[0mWARNING  C:\\Users\\dawoo\\Desktop\\SF7\\coding\\PYTORCH\\project\\train\\images\\207_213_20_e4fc7836-75a6-4765-a263-c1787ea7ac56.jpg: corrupt JPEG restored and saved\n",
      "\u001b[34m\u001b[1mtrain: \u001b[0mWARNING  C:\\Users\\dawoo\\Desktop\\SF7\\coding\\PYTORCH\\project\\train\\images\\207_213_20_eb6aa666-b80c-4034-8fea-3983f77e375a.jpg: corrupt JPEG restored and saved\n",
      "\u001b[34m\u001b[1mtrain: \u001b[0mWARNING  C:\\Users\\dawoo\\Desktop\\SF7\\coding\\PYTORCH\\project\\train\\images\\207_213_20_ec941cda-63f3-4d79-8e1c-07d42bcef2c4.jpg: corrupt JPEG restored and saved\n",
      "\u001b[34m\u001b[1mtrain: \u001b[0mWARNING  C:\\Users\\dawoo\\Desktop\\SF7\\coding\\PYTORCH\\project\\train\\images\\207_213_20_f00fb774-6b13-4992-9bea-0afb99becc1f.jpg: corrupt JPEG restored and saved\n",
      "\u001b[34m\u001b[1mtrain: \u001b[0mWARNING  C:\\Users\\dawoo\\Desktop\\SF7\\coding\\PYTORCH\\project\\train\\images\\207_213_20_f1551098-f013-4f36-824b-0925aa77efe5.jpg: corrupt JPEG restored and saved\n",
      "\u001b[34m\u001b[1mtrain: \u001b[0mWARNING  C:\\Users\\dawoo\\Desktop\\SF7\\coding\\PYTORCH\\project\\train\\images\\207_213_20_f88fb80a-d759-488b-8349-482dc7f4da5b.jpg: corrupt JPEG restored and saved\n",
      "\u001b[34m\u001b[1mtrain: \u001b[0mWARNING  C:\\Users\\dawoo\\Desktop\\SF7\\coding\\PYTORCH\\project\\train\\images\\209_102_10_02c6d2f8-5158-4a2c-8c34-f8e45dc7d18d.jpg: corrupt JPEG restored and saved\n",
      "\u001b[34m\u001b[1mtrain: \u001b[0mWARNING  C:\\Users\\dawoo\\Desktop\\SF7\\coding\\PYTORCH\\project\\train\\images\\209_102_10_08e02e6d-20f0-491d-89aa-5fa5448c216f.jpg: corrupt JPEG restored and saved\n",
      "\u001b[34m\u001b[1mtrain: \u001b[0mWARNING  C:\\Users\\dawoo\\Desktop\\SF7\\coding\\PYTORCH\\project\\train\\images\\209_102_10_0c95b607-1dee-4ed7-a248-12b103e39bc5.jpg: corrupt JPEG restored and saved\n",
      "\u001b[34m\u001b[1mtrain: \u001b[0mWARNING  C:\\Users\\dawoo\\Desktop\\SF7\\coding\\PYTORCH\\project\\train\\images\\209_102_10_1ba16c4b-7ef4-4773-8294-bed3c7168fdc.jpg: corrupt JPEG restored and saved\n",
      "\u001b[34m\u001b[1mtrain: \u001b[0mWARNING  C:\\Users\\dawoo\\Desktop\\SF7\\coding\\PYTORCH\\project\\train\\images\\209_102_10_1e4c9adf-0ee9-40f9-9b2e-c284422d4d1f.jpg: corrupt JPEG restored and saved\n",
      "\u001b[34m\u001b[1mtrain: \u001b[0mWARNING  C:\\Users\\dawoo\\Desktop\\SF7\\coding\\PYTORCH\\project\\train\\images\\209_102_10_25ac590e-99c7-406f-9782-2409045acc66.jpg: corrupt JPEG restored and saved\n",
      "\u001b[34m\u001b[1mtrain: \u001b[0mWARNING  C:\\Users\\dawoo\\Desktop\\SF7\\coding\\PYTORCH\\project\\train\\images\\209_102_10_26826186-56d9-4c9f-84a4-303b7a9d3505.jpg: corrupt JPEG restored and saved\n",
      "\u001b[34m\u001b[1mtrain: \u001b[0mWARNING  C:\\Users\\dawoo\\Desktop\\SF7\\coding\\PYTORCH\\project\\train\\images\\209_102_10_3e878853-4869-4461-949c-f58e64d59426.jpg: corrupt JPEG restored and saved\n",
      "\u001b[34m\u001b[1mtrain: \u001b[0mWARNING  C:\\Users\\dawoo\\Desktop\\SF7\\coding\\PYTORCH\\project\\train\\images\\209_102_10_3f6b3104-3fdf-4fd4-b252-e18f585facf4.jpg: corrupt JPEG restored and saved\n",
      "\u001b[34m\u001b[1mtrain: \u001b[0mWARNING  C:\\Users\\dawoo\\Desktop\\SF7\\coding\\PYTORCH\\project\\train\\images\\209_102_10_46d8439e-a7ec-4b08-8db2-e019f75e1573.jpg: corrupt JPEG restored and saved\n",
      "\u001b[34m\u001b[1mtrain: \u001b[0mWARNING  C:\\Users\\dawoo\\Desktop\\SF7\\coding\\PYTORCH\\project\\train\\images\\209_102_10_4829b4d0-064f-4e64-93d1-6425dfbaa0b6.jpg: corrupt JPEG restored and saved\n",
      "\u001b[34m\u001b[1mtrain: \u001b[0mWARNING  C:\\Users\\dawoo\\Desktop\\SF7\\coding\\PYTORCH\\project\\train\\images\\209_102_10_4c21c0cc-76b2-4ddd-9eae-abafd1b69d0e.jpg: corrupt JPEG restored and saved\n",
      "\u001b[34m\u001b[1mtrain: \u001b[0mWARNING  C:\\Users\\dawoo\\Desktop\\SF7\\coding\\PYTORCH\\project\\train\\images\\209_102_10_56dc4455-1a37-4fb3-8f38-a2d52819c499.jpg: corrupt JPEG restored and saved\n",
      "\u001b[34m\u001b[1mtrain: \u001b[0mWARNING  C:\\Users\\dawoo\\Desktop\\SF7\\coding\\PYTORCH\\project\\train\\images\\209_102_10_599959fa-1fbc-4f12-92f4-baff760a28cc.jpg: corrupt JPEG restored and saved\n",
      "\u001b[34m\u001b[1mtrain: \u001b[0mWARNING  C:\\Users\\dawoo\\Desktop\\SF7\\coding\\PYTORCH\\project\\train\\images\\209_102_10_5ec8d1c6-08cd-4c59-9f28-295ef7bf8074.jpg: corrupt JPEG restored and saved\n",
      "\u001b[34m\u001b[1mtrain: \u001b[0mWARNING  C:\\Users\\dawoo\\Desktop\\SF7\\coding\\PYTORCH\\project\\train\\images\\209_102_10_78bb4b68-cbb6-4764-a2d7-64bd74c67128.jpg: corrupt JPEG restored and saved\n",
      "\u001b[34m\u001b[1mtrain: \u001b[0mWARNING  C:\\Users\\dawoo\\Desktop\\SF7\\coding\\PYTORCH\\project\\train\\images\\209_102_10_8aac4297-cae0-4143-bab4-032ec004b229.jpg: corrupt JPEG restored and saved\n",
      "\u001b[34m\u001b[1mtrain: \u001b[0mWARNING  C:\\Users\\dawoo\\Desktop\\SF7\\coding\\PYTORCH\\project\\train\\images\\209_102_10_92a7e547-b9d1-4103-803c-e3aa73a92010.jpg: corrupt JPEG restored and saved\n",
      "\u001b[34m\u001b[1mtrain: \u001b[0mWARNING  C:\\Users\\dawoo\\Desktop\\SF7\\coding\\PYTORCH\\project\\train\\images\\209_102_10_a9ba64f7-0922-474b-a99a-27deccbf2c3f.jpg: corrupt JPEG restored and saved\n",
      "\u001b[34m\u001b[1mtrain: \u001b[0mWARNING  C:\\Users\\dawoo\\Desktop\\SF7\\coding\\PYTORCH\\project\\train\\images\\209_102_10_ae576f6f-aa03-4f7e-ad92-dfb1752fad4e.jpg: corrupt JPEG restored and saved\n",
      "\u001b[34m\u001b[1mtrain: \u001b[0mWARNING  C:\\Users\\dawoo\\Desktop\\SF7\\coding\\PYTORCH\\project\\train\\images\\209_102_10_c38d0b6b-cacb-4134-89dc-50d4e3339123.jpg: corrupt JPEG restored and saved\n",
      "\u001b[34m\u001b[1mtrain: \u001b[0mWARNING  C:\\Users\\dawoo\\Desktop\\SF7\\coding\\PYTORCH\\project\\train\\images\\209_102_10_da7dbc90-1c56-4170-9621-b91ca1880dd0.jpg: corrupt JPEG restored and saved\n",
      "\u001b[34m\u001b[1mtrain: \u001b[0mWARNING  C:\\Users\\dawoo\\Desktop\\SF7\\coding\\PYTORCH\\project\\train\\images\\209_102_10_db2d73cb-eeb1-4558-bf24-7c176038b0a4.jpg: corrupt JPEG restored and saved\n",
      "\u001b[34m\u001b[1mtrain: \u001b[0mWARNING  C:\\Users\\dawoo\\Desktop\\SF7\\coding\\PYTORCH\\project\\train\\images\\209_102_10_ec22ac26-687a-4b85-b622-db2ed6b5b45a.jpg: corrupt JPEG restored and saved\n",
      "\u001b[34m\u001b[1mtrain: \u001b[0mWARNING  C:\\Users\\dawoo\\Desktop\\SF7\\coding\\PYTORCH\\project\\train\\images\\209_102_20_022c86cc-08c1-4895-94e3-20824cb26909.jpg: corrupt JPEG restored and saved\n",
      "\u001b[34m\u001b[1mtrain: \u001b[0mWARNING  C:\\Users\\dawoo\\Desktop\\SF7\\coding\\PYTORCH\\project\\train\\images\\209_102_20_028d0c1d-e8c0-4bad-bc92-92040fefeb81.jpg: corrupt JPEG restored and saved\n",
      "\u001b[34m\u001b[1mtrain: \u001b[0mWARNING  C:\\Users\\dawoo\\Desktop\\SF7\\coding\\PYTORCH\\project\\train\\images\\209_102_20_04b4a584-90c6-41db-8d4c-c69b104540d6.jpg: corrupt JPEG restored and saved\n",
      "\u001b[34m\u001b[1mtrain: \u001b[0mWARNING  C:\\Users\\dawoo\\Desktop\\SF7\\coding\\PYTORCH\\project\\train\\images\\209_102_20_069c4b8c-5e08-4f11-8670-80243335389f.jpg: corrupt JPEG restored and saved\n",
      "\u001b[34m\u001b[1mtrain: \u001b[0mWARNING  C:\\Users\\dawoo\\Desktop\\SF7\\coding\\PYTORCH\\project\\train\\images\\209_102_20_09fb7d9d-10de-4789-9bf1-8d88100986f0.jpg: corrupt JPEG restored and saved\n",
      "\u001b[34m\u001b[1mtrain: \u001b[0mWARNING  C:\\Users\\dawoo\\Desktop\\SF7\\coding\\PYTORCH\\project\\train\\images\\209_102_20_11d84c9b-1dc4-488a-be2a-58d89230f6f0.jpg: corrupt JPEG restored and saved\n",
      "\u001b[34m\u001b[1mtrain: \u001b[0mWARNING  C:\\Users\\dawoo\\Desktop\\SF7\\coding\\PYTORCH\\project\\train\\images\\209_102_20_125d7d6a-533f-46b3-b965-f5afb762da1c.jpg: corrupt JPEG restored and saved\n",
      "\u001b[34m\u001b[1mtrain: \u001b[0mWARNING  C:\\Users\\dawoo\\Desktop\\SF7\\coding\\PYTORCH\\project\\train\\images\\209_102_20_129e877d-1310-406e-b5c0-309296e29b4f.jpg: corrupt JPEG restored and saved\n",
      "\u001b[34m\u001b[1mtrain: \u001b[0mWARNING  C:\\Users\\dawoo\\Desktop\\SF7\\coding\\PYTORCH\\project\\train\\images\\209_102_20_12bd1875-a7e2-4c27-a147-8a8cd99a71a9.jpg: corrupt JPEG restored and saved\n",
      "\u001b[34m\u001b[1mtrain: \u001b[0mWARNING  C:\\Users\\dawoo\\Desktop\\SF7\\coding\\PYTORCH\\project\\train\\images\\209_102_20_13b1424e-f117-4925-84af-68e4865fc6b1.jpg: corrupt JPEG restored and saved\n",
      "\u001b[34m\u001b[1mtrain: \u001b[0mWARNING  C:\\Users\\dawoo\\Desktop\\SF7\\coding\\PYTORCH\\project\\train\\images\\209_102_20_171ba128-c2f9-4c88-97d8-b5f81e305c3d.jpg: corrupt JPEG restored and saved\n",
      "\u001b[34m\u001b[1mtrain: \u001b[0mWARNING  C:\\Users\\dawoo\\Desktop\\SF7\\coding\\PYTORCH\\project\\train\\images\\209_102_20_1dd29f73-0c98-4ef8-8e67-3bd614617846.jpg: corrupt JPEG restored and saved\n",
      "\u001b[34m\u001b[1mtrain: \u001b[0mWARNING  C:\\Users\\dawoo\\Desktop\\SF7\\coding\\PYTORCH\\project\\train\\images\\209_102_20_277ff32e-1727-4af4-87ec-6edabbef7b80.jpg: corrupt JPEG restored and saved\n",
      "\u001b[34m\u001b[1mtrain: \u001b[0mWARNING  C:\\Users\\dawoo\\Desktop\\SF7\\coding\\PYTORCH\\project\\train\\images\\209_102_20_2928b697-7d0f-4052-914a-00e21a04de2f.jpeg: corrupt JPEG restored and saved\n",
      "\u001b[34m\u001b[1mtrain: \u001b[0mWARNING  C:\\Users\\dawoo\\Desktop\\SF7\\coding\\PYTORCH\\project\\train\\images\\209_102_20_29da388d-2713-407e-a600-80ea38902c77.jpg: corrupt JPEG restored and saved\n",
      "\u001b[34m\u001b[1mtrain: \u001b[0mWARNING  C:\\Users\\dawoo\\Desktop\\SF7\\coding\\PYTORCH\\project\\train\\images\\209_102_20_2d3ff59e-0d36-4174-b849-72983d26b413.jpeg: corrupt JPEG restored and saved\n",
      "\u001b[34m\u001b[1mtrain: \u001b[0mWARNING  C:\\Users\\dawoo\\Desktop\\SF7\\coding\\PYTORCH\\project\\train\\images\\209_102_20_2e16b5e3-88ac-4d97-9b08-0e65f2b22217.jpg: corrupt JPEG restored and saved\n",
      "\u001b[34m\u001b[1mtrain: \u001b[0mWARNING  C:\\Users\\dawoo\\Desktop\\SF7\\coding\\PYTORCH\\project\\train\\images\\209_102_20_352d9d9a-d3dd-49f6-9f19-5b9a6d4eda16.jpg: corrupt JPEG restored and saved\n",
      "\u001b[34m\u001b[1mtrain: \u001b[0mWARNING  C:\\Users\\dawoo\\Desktop\\SF7\\coding\\PYTORCH\\project\\train\\images\\209_102_20_36eb24d1-8b83-4ecc-bb2a-fbc6ac7cca6f.jpg: corrupt JPEG restored and saved\n",
      "\u001b[34m\u001b[1mtrain: \u001b[0mWARNING  C:\\Users\\dawoo\\Desktop\\SF7\\coding\\PYTORCH\\project\\train\\images\\209_102_20_3952258d-7ef4-4b1d-822a-692cdf790302.jpg: corrupt JPEG restored and saved\n",
      "\u001b[34m\u001b[1mtrain: \u001b[0mWARNING  C:\\Users\\dawoo\\Desktop\\SF7\\coding\\PYTORCH\\project\\train\\images\\209_102_20_3a893f70-1e89-4570-b1ec-51fd3c03d263.jpg: corrupt JPEG restored and saved\n",
      "\u001b[34m\u001b[1mtrain: \u001b[0mWARNING  C:\\Users\\dawoo\\Desktop\\SF7\\coding\\PYTORCH\\project\\train\\images\\209_102_20_3cf3430f-d156-4edc-89b9-e8b68076d47f.jpg: corrupt JPEG restored and saved\n",
      "\u001b[34m\u001b[1mtrain: \u001b[0mWARNING  C:\\Users\\dawoo\\Desktop\\SF7\\coding\\PYTORCH\\project\\train\\images\\209_102_20_3dd2bc51-f58c-489a-8aa6-2cfd0629c591.jpg: corrupt JPEG restored and saved\n",
      "\u001b[34m\u001b[1mtrain: \u001b[0mWARNING  C:\\Users\\dawoo\\Desktop\\SF7\\coding\\PYTORCH\\project\\train\\images\\209_102_20_41c1b9f9-33f6-4229-98a6-2bb7cc3ec0d9.jpg: corrupt JPEG restored and saved\n",
      "\u001b[34m\u001b[1mtrain: \u001b[0mWARNING  C:\\Users\\dawoo\\Desktop\\SF7\\coding\\PYTORCH\\project\\train\\images\\209_102_20_43b0f42e-6db6-4398-9f41-166ff397e241.jpg: corrupt JPEG restored and saved\n",
      "\u001b[34m\u001b[1mtrain: \u001b[0mWARNING  C:\\Users\\dawoo\\Desktop\\SF7\\coding\\PYTORCH\\project\\train\\images\\209_102_20_46e6e144-5e66-418c-87b8-fe2976a96c10.jpg: corrupt JPEG restored and saved\n",
      "\u001b[34m\u001b[1mtrain: \u001b[0mWARNING  C:\\Users\\dawoo\\Desktop\\SF7\\coding\\PYTORCH\\project\\train\\images\\209_102_20_4ea5686d-f161-4fa2-83a5-cca7a5f752e2.jpeg: corrupt JPEG restored and saved\n",
      "\u001b[34m\u001b[1mtrain: \u001b[0mWARNING  C:\\Users\\dawoo\\Desktop\\SF7\\coding\\PYTORCH\\project\\train\\images\\209_102_20_4ee4504e-d700-484e-8a31-d7bcb48f08b6.jpg: corrupt JPEG restored and saved\n",
      "\u001b[34m\u001b[1mtrain: \u001b[0mWARNING  C:\\Users\\dawoo\\Desktop\\SF7\\coding\\PYTORCH\\project\\train\\images\\209_102_20_5118706e-537e-4572-827c-b413f87e7e26.jpg: corrupt JPEG restored and saved\n",
      "\u001b[34m\u001b[1mtrain: \u001b[0mWARNING  C:\\Users\\dawoo\\Desktop\\SF7\\coding\\PYTORCH\\project\\train\\images\\209_102_20_54ed04e2-6734-4a41-b5a4-713124f0018b.jpg: corrupt JPEG restored and saved\n",
      "\u001b[34m\u001b[1mtrain: \u001b[0mWARNING  C:\\Users\\dawoo\\Desktop\\SF7\\coding\\PYTORCH\\project\\train\\images\\209_102_20_580d8f79-06d2-4af9-9ea3-512575bf2ecd.jpg: corrupt JPEG restored and saved\n",
      "\u001b[34m\u001b[1mtrain: \u001b[0mWARNING  C:\\Users\\dawoo\\Desktop\\SF7\\coding\\PYTORCH\\project\\train\\images\\209_102_20_5adf3865-6d04-4ae8-9000-43273174d061.jpg: corrupt JPEG restored and saved\n",
      "\u001b[34m\u001b[1mtrain: \u001b[0mWARNING  C:\\Users\\dawoo\\Desktop\\SF7\\coding\\PYTORCH\\project\\train\\images\\209_102_20_5bcc3fb3-4e4d-47b2-889b-a3ea27b60215.jpg: corrupt JPEG restored and saved\n",
      "\u001b[34m\u001b[1mtrain: \u001b[0mWARNING  C:\\Users\\dawoo\\Desktop\\SF7\\coding\\PYTORCH\\project\\train\\images\\209_102_20_60b40873-13a3-4cd9-8b76-5526e50a2483.jpg: corrupt JPEG restored and saved\n",
      "\u001b[34m\u001b[1mtrain: \u001b[0mWARNING  C:\\Users\\dawoo\\Desktop\\SF7\\coding\\PYTORCH\\project\\train\\images\\209_102_20_621915bb-42c1-4a6e-9374-d102b0d38f8d.jpg: corrupt JPEG restored and saved\n",
      "\u001b[34m\u001b[1mtrain: \u001b[0mWARNING  C:\\Users\\dawoo\\Desktop\\SF7\\coding\\PYTORCH\\project\\train\\images\\209_102_20_6355e7b8-d19d-406a-9a62-b879f2222c41.jpg: corrupt JPEG restored and saved\n",
      "\u001b[34m\u001b[1mtrain: \u001b[0mWARNING  C:\\Users\\dawoo\\Desktop\\SF7\\coding\\PYTORCH\\project\\train\\images\\209_102_20_63fc45b0-f77b-4394-8072-0100343a1f0d.jpg: corrupt JPEG restored and saved\n",
      "\u001b[34m\u001b[1mtrain: \u001b[0mWARNING  C:\\Users\\dawoo\\Desktop\\SF7\\coding\\PYTORCH\\project\\train\\images\\209_102_20_68172511-7b1f-467b-b7a3-f4bc53171630.jpg: corrupt JPEG restored and saved\n",
      "\u001b[34m\u001b[1mtrain: \u001b[0mWARNING  C:\\Users\\dawoo\\Desktop\\SF7\\coding\\PYTORCH\\project\\train\\images\\209_102_20_6cf71e28-730d-4449-b97b-8d03d3cdfeb4.jpg: corrupt JPEG restored and saved\n",
      "\u001b[34m\u001b[1mtrain: \u001b[0mWARNING  C:\\Users\\dawoo\\Desktop\\SF7\\coding\\PYTORCH\\project\\train\\images\\209_102_20_6e816d4a-9b7e-4d8b-b2ea-b44ae6c6e3fb.jpg: corrupt JPEG restored and saved\n",
      "\u001b[34m\u001b[1mtrain: \u001b[0mWARNING  C:\\Users\\dawoo\\Desktop\\SF7\\coding\\PYTORCH\\project\\train\\images\\209_102_20_7a268115-75c8-4567-9f28-2aa1ba4b7d57.jpg: corrupt JPEG restored and saved\n",
      "\u001b[34m\u001b[1mtrain: \u001b[0mWARNING  C:\\Users\\dawoo\\Desktop\\SF7\\coding\\PYTORCH\\project\\train\\images\\209_102_20_7d949364-aa7e-44d1-87a2-150eeca74a8f.jpg: corrupt JPEG restored and saved\n",
      "\u001b[34m\u001b[1mtrain: \u001b[0mWARNING  C:\\Users\\dawoo\\Desktop\\SF7\\coding\\PYTORCH\\project\\train\\images\\209_102_20_7ea9eae9-b7ee-4e0a-aa74-072e5aa919a9.jpg: corrupt JPEG restored and saved\n",
      "\u001b[34m\u001b[1mtrain: \u001b[0mWARNING  C:\\Users\\dawoo\\Desktop\\SF7\\coding\\PYTORCH\\project\\train\\images\\209_102_20_7ef6c970-d0d0-413d-9262-1af1b5bc2a5c.jpg: corrupt JPEG restored and saved\n",
      "\u001b[34m\u001b[1mtrain: \u001b[0mWARNING  C:\\Users\\dawoo\\Desktop\\SF7\\coding\\PYTORCH\\project\\train\\images\\209_102_20_90dfc4d5-331b-4b96-a0cf-08b1e17acc81.jpg: corrupt JPEG restored and saved\n",
      "\u001b[34m\u001b[1mtrain: \u001b[0mWARNING  C:\\Users\\dawoo\\Desktop\\SF7\\coding\\PYTORCH\\project\\train\\images\\209_102_20_91061386-32e8-4f73-ab87-63c2bdb4209b.jpg: corrupt JPEG restored and saved\n",
      "\u001b[34m\u001b[1mtrain: \u001b[0mWARNING  C:\\Users\\dawoo\\Desktop\\SF7\\coding\\PYTORCH\\project\\train\\images\\209_102_20_9208f185-e2f9-497b-bc4c-39758926123b.jpg: corrupt JPEG restored and saved\n",
      "\u001b[34m\u001b[1mtrain: \u001b[0mWARNING  C:\\Users\\dawoo\\Desktop\\SF7\\coding\\PYTORCH\\project\\train\\images\\209_102_20_94f2d770-82cd-40d2-8c45-d89c921134cd.jpg: corrupt JPEG restored and saved\n",
      "\u001b[34m\u001b[1mtrain: \u001b[0mWARNING  C:\\Users\\dawoo\\Desktop\\SF7\\coding\\PYTORCH\\project\\train\\images\\209_102_20_96060b2b-7767-4e86-8d46-0b2e396c3828.jpg: corrupt JPEG restored and saved\n",
      "\u001b[34m\u001b[1mtrain: \u001b[0mWARNING  C:\\Users\\dawoo\\Desktop\\SF7\\coding\\PYTORCH\\project\\train\\images\\209_102_20_97679982-de21-4592-b503-d0e51403c661.jpg: corrupt JPEG restored and saved\n",
      "\u001b[34m\u001b[1mtrain: \u001b[0mWARNING  C:\\Users\\dawoo\\Desktop\\SF7\\coding\\PYTORCH\\project\\train\\images\\209_102_20_9921229e-06c3-458a-ad8e-7c4109177e94.jpg: corrupt JPEG restored and saved\n",
      "\u001b[34m\u001b[1mtrain: \u001b[0mWARNING  C:\\Users\\dawoo\\Desktop\\SF7\\coding\\PYTORCH\\project\\train\\images\\209_102_20_9c7af6e3-b5ab-4a05-b3cb-a75a2151571b.jpg: corrupt JPEG restored and saved\n",
      "\u001b[34m\u001b[1mtrain: \u001b[0mWARNING  C:\\Users\\dawoo\\Desktop\\SF7\\coding\\PYTORCH\\project\\train\\images\\209_102_20_9ca4bfec-0463-4554-a0b0-c27e34da176f.jpeg: corrupt JPEG restored and saved\n",
      "\u001b[34m\u001b[1mtrain: \u001b[0mWARNING  C:\\Users\\dawoo\\Desktop\\SF7\\coding\\PYTORCH\\project\\train\\images\\209_102_20_9ce038b1-079b-43a6-9763-cd36c8133f82.jpg: corrupt JPEG restored and saved\n",
      "\u001b[34m\u001b[1mtrain: \u001b[0mWARNING  C:\\Users\\dawoo\\Desktop\\SF7\\coding\\PYTORCH\\project\\train\\images\\209_102_20_9e71518a-4d27-4b26-acdc-ed57ce926f40.jpeg: corrupt JPEG restored and saved\n",
      "\u001b[34m\u001b[1mtrain: \u001b[0mWARNING  C:\\Users\\dawoo\\Desktop\\SF7\\coding\\PYTORCH\\project\\train\\images\\209_102_20_a0551980-2fe9-4af3-a9c6-1b605fd8b41a.jpg: corrupt JPEG restored and saved\n",
      "\u001b[34m\u001b[1mtrain: \u001b[0mWARNING  C:\\Users\\dawoo\\Desktop\\SF7\\coding\\PYTORCH\\project\\train\\images\\209_102_20_a61a8a4e-9f6b-4168-88be-1768ccf885cf.jpg: corrupt JPEG restored and saved\n",
      "\u001b[34m\u001b[1mtrain: \u001b[0mWARNING  C:\\Users\\dawoo\\Desktop\\SF7\\coding\\PYTORCH\\project\\train\\images\\209_102_20_a61cb988-09f0-4e1d-8ccf-e084e076dd26.jpg: corrupt JPEG restored and saved\n",
      "\u001b[34m\u001b[1mtrain: \u001b[0mWARNING  C:\\Users\\dawoo\\Desktop\\SF7\\coding\\PYTORCH\\project\\train\\images\\209_102_20_b40fd0d7-83bc-460d-83a4-7c899de6682e.jpg: corrupt JPEG restored and saved\n",
      "\u001b[34m\u001b[1mtrain: \u001b[0mWARNING  C:\\Users\\dawoo\\Desktop\\SF7\\coding\\PYTORCH\\project\\train\\images\\209_102_20_b8d61756-2e87-4a59-bf44-50b7b1f6c6f5.jpg: corrupt JPEG restored and saved\n",
      "\u001b[34m\u001b[1mtrain: \u001b[0mWARNING  C:\\Users\\dawoo\\Desktop\\SF7\\coding\\PYTORCH\\project\\train\\images\\209_102_20_bcb9f268-60b9-47d5-8a50-dc7171f5e2e7.jpg: corrupt JPEG restored and saved\n",
      "\u001b[34m\u001b[1mtrain: \u001b[0mWARNING  C:\\Users\\dawoo\\Desktop\\SF7\\coding\\PYTORCH\\project\\train\\images\\209_102_20_c200990e-9c34-4ee3-9f44-69db473370f4.jpg: corrupt JPEG restored and saved\n",
      "\u001b[34m\u001b[1mtrain: \u001b[0mWARNING  C:\\Users\\dawoo\\Desktop\\SF7\\coding\\PYTORCH\\project\\train\\images\\209_102_20_c24153a1-3f42-43d4-97bd-b71f9e630e24.jpg: corrupt JPEG restored and saved\n",
      "\u001b[34m\u001b[1mtrain: \u001b[0mWARNING  C:\\Users\\dawoo\\Desktop\\SF7\\coding\\PYTORCH\\project\\train\\images\\209_102_20_c85080a3-cec5-4656-86a6-f124a8b41ab1.jpg: corrupt JPEG restored and saved\n",
      "\u001b[34m\u001b[1mtrain: \u001b[0mWARNING  C:\\Users\\dawoo\\Desktop\\SF7\\coding\\PYTORCH\\project\\train\\images\\209_102_20_ce45a257-9f96-4b52-b80d-a0d6edd0540a.jpg: corrupt JPEG restored and saved\n",
      "\u001b[34m\u001b[1mtrain: \u001b[0mWARNING  C:\\Users\\dawoo\\Desktop\\SF7\\coding\\PYTORCH\\project\\train\\images\\209_102_20_d10aefb7-8214-4535-93f7-934f24d9a0d7.jpg: corrupt JPEG restored and saved\n",
      "\u001b[34m\u001b[1mtrain: \u001b[0mWARNING  C:\\Users\\dawoo\\Desktop\\SF7\\coding\\PYTORCH\\project\\train\\images\\209_102_20_d1b7e6f1-6559-46ff-80de-72c28b2562a2.jpg: corrupt JPEG restored and saved\n",
      "\u001b[34m\u001b[1mtrain: \u001b[0mWARNING  C:\\Users\\dawoo\\Desktop\\SF7\\coding\\PYTORCH\\project\\train\\images\\209_102_20_d3e914cf-04ad-405f-964c-fd2ed6194482.jpg: corrupt JPEG restored and saved\n",
      "\u001b[34m\u001b[1mtrain: \u001b[0mWARNING  C:\\Users\\dawoo\\Desktop\\SF7\\coding\\PYTORCH\\project\\train\\images\\209_102_20_d662a3cd-7205-4a15-87dd-ef8743ee5d1b.jpeg: corrupt JPEG restored and saved\n",
      "\u001b[34m\u001b[1mtrain: \u001b[0mWARNING  C:\\Users\\dawoo\\Desktop\\SF7\\coding\\PYTORCH\\project\\train\\images\\209_102_20_d8848b0e-bbc4-4b7c-abff-7515f89fa343.jpg: corrupt JPEG restored and saved\n",
      "\u001b[34m\u001b[1mtrain: \u001b[0mWARNING  C:\\Users\\dawoo\\Desktop\\SF7\\coding\\PYTORCH\\project\\train\\images\\209_102_20_e12168d9-939c-4ce1-b952-716564b49dab.jpg: corrupt JPEG restored and saved\n",
      "\u001b[34m\u001b[1mtrain: \u001b[0mWARNING  C:\\Users\\dawoo\\Desktop\\SF7\\coding\\PYTORCH\\project\\train\\images\\209_102_20_e1ba3490-89cd-4c3a-9404-d7ca3cdea0d1.jpg: corrupt JPEG restored and saved\n",
      "\u001b[34m\u001b[1mtrain: \u001b[0mWARNING  C:\\Users\\dawoo\\Desktop\\SF7\\coding\\PYTORCH\\project\\train\\images\\209_102_20_e4492948-62cc-4df9-be36-fb6dfce96d56.jpg: corrupt JPEG restored and saved\n",
      "\u001b[34m\u001b[1mtrain: \u001b[0mWARNING  C:\\Users\\dawoo\\Desktop\\SF7\\coding\\PYTORCH\\project\\train\\images\\209_102_20_e4e6d282-b3ad-4d76-b395-815442edfdf0.jpg: corrupt JPEG restored and saved\n",
      "\u001b[34m\u001b[1mtrain: \u001b[0mWARNING  C:\\Users\\dawoo\\Desktop\\SF7\\coding\\PYTORCH\\project\\train\\images\\209_102_20_e747596e-2e5e-418e-bdcb-535da2cc6427.jpg: corrupt JPEG restored and saved\n",
      "\u001b[34m\u001b[1mtrain: \u001b[0mWARNING  C:\\Users\\dawoo\\Desktop\\SF7\\coding\\PYTORCH\\project\\train\\images\\209_102_20_e8312caf-461f-4446-a861-cad220ce8096.jpg: corrupt JPEG restored and saved\n",
      "\u001b[34m\u001b[1mtrain: \u001b[0mWARNING  C:\\Users\\dawoo\\Desktop\\SF7\\coding\\PYTORCH\\project\\train\\images\\209_102_20_ef96f2aa-0d24-4b46-809d-feda167ac3f5.jpg: corrupt JPEG restored and saved\n",
      "\u001b[34m\u001b[1mtrain: \u001b[0mWARNING  C:\\Users\\dawoo\\Desktop\\SF7\\coding\\PYTORCH\\project\\train\\images\\209_102_20_f0a7edf1-01dc-4e03-b0d0-9a454ac817d0.jpg: corrupt JPEG restored and saved\n",
      "\u001b[34m\u001b[1mtrain: \u001b[0mWARNING  C:\\Users\\dawoo\\Desktop\\SF7\\coding\\PYTORCH\\project\\train\\images\\209_102_20_f6f2b973-4ea2-4a99-a660-44e68f4c8f96.jpg: corrupt JPEG restored and saved\n",
      "\u001b[34m\u001b[1mtrain: \u001b[0mWARNING  C:\\Users\\dawoo\\Desktop\\SF7\\coding\\PYTORCH\\project\\train\\images\\209_102_20_f76cf9fd-c7e8-4d92-a251-5b02322f35d6.jpg: corrupt JPEG restored and saved\n",
      "\u001b[34m\u001b[1mtrain: \u001b[0mWARNING  C:\\Users\\dawoo\\Desktop\\SF7\\coding\\PYTORCH\\project\\train\\images\\209_102_20_f7e3390d-db5b-4faa-a57f-7764426151d6.jpg: corrupt JPEG restored and saved\n",
      "\u001b[34m\u001b[1mtrain: \u001b[0mWARNING  C:\\Users\\dawoo\\Desktop\\SF7\\coding\\PYTORCH\\project\\train\\images\\209_102_20_f9d2de3c-3c8d-4ffe-b317-d50947a26c6d.jpg: corrupt JPEG restored and saved\n",
      "\u001b[34m\u001b[1mtrain: \u001b[0mWARNING  C:\\Users\\dawoo\\Desktop\\SF7\\coding\\PYTORCH\\project\\train\\images\\209_102_20_fbddca24-7b0f-4a01-a449-813489562762.jpg: corrupt JPEG restored and saved\n",
      "\u001b[34m\u001b[1mtrain: \u001b[0mWARNING  C:\\Users\\dawoo\\Desktop\\SF7\\coding\\PYTORCH\\project\\train\\images\\209_102_20_fc8da8d6-a49e-4da0-ba32-1b40cc461863.jpg: corrupt JPEG restored and saved\n",
      "\u001b[34m\u001b[1mtrain: \u001b[0mWARNING  C:\\Users\\dawoo\\Desktop\\SF7\\coding\\PYTORCH\\project\\train\\images\\209_102_20_fcbd6944-7bf4-4e30-bcd5-add502f0dae2.jpg: corrupt JPEG restored and saved\n"
     ]
    },
    {
     "name": "stderr",
     "output_type": "stream",
     "text": [
      "\n"
     ]
    },
    {
     "name": "stdout",
     "output_type": "stream",
     "text": [
      "\u001b[34m\u001b[1mtrain: \u001b[0mNew cache created: C:\\Users\\dawoo\\Desktop\\SF7\\coding\\PYTORCH\\project\\train\\labels.cache\n",
      "WARNING  cache='ram' may produce non-deterministic training results. Consider cache='disk' as a deterministic alternative if your disk space allows.\n"
     ]
    },
    {
     "name": "stderr",
     "output_type": "stream",
     "text": [
      "\u001b[34m\u001b[1mtrain: \u001b[0mCaching images (0.6GB RAM): 100%|██████████| 960/960 [00:25<00:00, 38.10it/s]\n",
      "\u001b[34m\u001b[1mval: \u001b[0mScanning C:\\Users\\dawoo\\Desktop\\SF7\\coding\\PYTORCH\\project\\valid\\labels... 240 images, 0 backgrounds, 0 corrupt: 100%|██████████| 240/240 [00:05<00:00, 41.84it/s]"
     ]
    },
    {
     "name": "stdout",
     "output_type": "stream",
     "text": [
      "\u001b[34m\u001b[1mval: \u001b[0mWARNING  C:\\Users\\dawoo\\Desktop\\SF7\\coding\\PYTORCH\\project\\valid\\images\\204_101_10_2cf1b80f-698e-4027-b508-1d524e9597b3.jpg: corrupt JPEG restored and saved\n",
      "\u001b[34m\u001b[1mval: \u001b[0mWARNING  C:\\Users\\dawoo\\Desktop\\SF7\\coding\\PYTORCH\\project\\valid\\images\\204_101_10_35677d63-f7c0-4b50-9480-76549b759983.jpg: corrupt JPEG restored and saved\n",
      "\u001b[34m\u001b[1mval: \u001b[0mWARNING  C:\\Users\\dawoo\\Desktop\\SF7\\coding\\PYTORCH\\project\\valid\\images\\204_101_10_3a37d146-1bca-487b-a434-c3351401b28f.jpg: corrupt JPEG restored and saved\n",
      "\u001b[34m\u001b[1mval: \u001b[0mWARNING  C:\\Users\\dawoo\\Desktop\\SF7\\coding\\PYTORCH\\project\\valid\\images\\204_101_10_9b2c225f-e23b-4947-8b41-3d06ebb41019.jpg: corrupt JPEG restored and saved\n",
      "\u001b[34m\u001b[1mval: \u001b[0mWARNING  C:\\Users\\dawoo\\Desktop\\SF7\\coding\\PYTORCH\\project\\valid\\images\\204_101_10_df77e0bf-9341-48ff-b3b3-40434e93b226.jpg: corrupt JPEG restored and saved\n",
      "\u001b[34m\u001b[1mval: \u001b[0mWARNING  C:\\Users\\dawoo\\Desktop\\SF7\\coding\\PYTORCH\\project\\valid\\images\\204_101_20_2df449e4-6879-40a1-bd70-eba93a6c5d68.jpg: corrupt JPEG restored and saved\n",
      "\u001b[34m\u001b[1mval: \u001b[0mWARNING  C:\\Users\\dawoo\\Desktop\\SF7\\coding\\PYTORCH\\project\\valid\\images\\204_101_20_3165450e-7e6a-4bc0-be1a-492ea1e580ae.jpg: corrupt JPEG restored and saved\n",
      "\u001b[34m\u001b[1mval: \u001b[0mWARNING  C:\\Users\\dawoo\\Desktop\\SF7\\coding\\PYTORCH\\project\\valid\\images\\204_101_20_3696e706-ba9f-4645-a0ea-151997eeeca2.jpg: corrupt JPEG restored and saved\n",
      "\u001b[34m\u001b[1mval: \u001b[0mWARNING  C:\\Users\\dawoo\\Desktop\\SF7\\coding\\PYTORCH\\project\\valid\\images\\204_101_20_4e83a171-154c-4f3e-b99e-3b46bc58e1f5.jpg: corrupt JPEG restored and saved\n",
      "\u001b[34m\u001b[1mval: \u001b[0mWARNING  C:\\Users\\dawoo\\Desktop\\SF7\\coding\\PYTORCH\\project\\valid\\images\\204_101_20_6657800c-dab2-4f0d-b2a2-9c545c2a4fa6.jpg: corrupt JPEG restored and saved\n",
      "\u001b[34m\u001b[1mval: \u001b[0mWARNING  C:\\Users\\dawoo\\Desktop\\SF7\\coding\\PYTORCH\\project\\valid\\images\\204_101_20_80bd64ca-d0c9-4555-9c4f-ca03030522c3.jpg: corrupt JPEG restored and saved\n",
      "\u001b[34m\u001b[1mval: \u001b[0mWARNING  C:\\Users\\dawoo\\Desktop\\SF7\\coding\\PYTORCH\\project\\valid\\images\\204_101_20_8567da01-1186-4966-9934-ba1de65a994f.jpg: corrupt JPEG restored and saved\n",
      "\u001b[34m\u001b[1mval: \u001b[0mWARNING  C:\\Users\\dawoo\\Desktop\\SF7\\coding\\PYTORCH\\project\\valid\\images\\204_101_20_9c8fd099-46d8-4dd1-b4d7-04f8c7f6dfc3.jpg: corrupt JPEG restored and saved\n",
      "\u001b[34m\u001b[1mval: \u001b[0mWARNING  C:\\Users\\dawoo\\Desktop\\SF7\\coding\\PYTORCH\\project\\valid\\images\\204_101_20_a6227dc7-2392-4032-bd0a-2082257921f1.jpg: corrupt JPEG restored and saved\n",
      "\u001b[34m\u001b[1mval: \u001b[0mWARNING  C:\\Users\\dawoo\\Desktop\\SF7\\coding\\PYTORCH\\project\\valid\\images\\204_101_20_cc5172c3-71d7-4810-adf1-2fc39ae38fe6.jpg: corrupt JPEG restored and saved\n",
      "\u001b[34m\u001b[1mval: \u001b[0mWARNING  C:\\Users\\dawoo\\Desktop\\SF7\\coding\\PYTORCH\\project\\valid\\images\\204_101_20_e74cacec-a2d1-4b35-8197-4e1c7814feb5.jpg: corrupt JPEG restored and saved\n",
      "\u001b[34m\u001b[1mval: \u001b[0mWARNING  C:\\Users\\dawoo\\Desktop\\SF7\\coding\\PYTORCH\\project\\valid\\images\\204_101_20_eb80f4f8-fe61-4df3-bb2c-95913af00f20.jpg: corrupt JPEG restored and saved\n",
      "\u001b[34m\u001b[1mval: \u001b[0mWARNING  C:\\Users\\dawoo\\Desktop\\SF7\\coding\\PYTORCH\\project\\valid\\images\\204_101_20_ef6d7f89-6904-47a1-8720-9be53dc88848.jpg: corrupt JPEG restored and saved\n",
      "\u001b[34m\u001b[1mval: \u001b[0mWARNING  C:\\Users\\dawoo\\Desktop\\SF7\\coding\\PYTORCH\\project\\valid\\images\\204_101_20_f3ae0a03-ab03-4d55-8c72-ad7a5c8055b2.jpg: corrupt JPEG restored and saved\n",
      "\u001b[34m\u001b[1mval: \u001b[0mWARNING  C:\\Users\\dawoo\\Desktop\\SF7\\coding\\PYTORCH\\project\\valid\\images\\204_101_20_fea269bc-4330-4659-9405-db7124571a4a.jpeg: corrupt JPEG restored and saved\n",
      "\u001b[34m\u001b[1mval: \u001b[0mWARNING  C:\\Users\\dawoo\\Desktop\\SF7\\coding\\PYTORCH\\project\\valid\\images\\204_102_10_26e8a22f-a116-421f-8666-4ac41d1eb431.jpg: corrupt JPEG restored and saved\n",
      "\u001b[34m\u001b[1mval: \u001b[0mWARNING  C:\\Users\\dawoo\\Desktop\\SF7\\coding\\PYTORCH\\project\\valid\\images\\204_102_10_64b9081c-413f-4699-85da-51f4ec602189.jpg: corrupt JPEG restored and saved\n",
      "\u001b[34m\u001b[1mval: \u001b[0mWARNING  C:\\Users\\dawoo\\Desktop\\SF7\\coding\\PYTORCH\\project\\valid\\images\\204_102_10_6db04eb5-ab46-47a2-a9a1-0d6559445470.jpg: corrupt JPEG restored and saved\n",
      "\u001b[34m\u001b[1mval: \u001b[0mWARNING  C:\\Users\\dawoo\\Desktop\\SF7\\coding\\PYTORCH\\project\\valid\\images\\204_102_10_d1669a8d-c8d6-4481-a1eb-79e00d3a4cb9.jpg: corrupt JPEG restored and saved\n",
      "\u001b[34m\u001b[1mval: \u001b[0mWARNING  C:\\Users\\dawoo\\Desktop\\SF7\\coding\\PYTORCH\\project\\valid\\images\\204_102_20_1973c23a-3cd3-4fe8-8d36-f1c5044c1bf7.jpg: corrupt JPEG restored and saved\n",
      "\u001b[34m\u001b[1mval: \u001b[0mWARNING  C:\\Users\\dawoo\\Desktop\\SF7\\coding\\PYTORCH\\project\\valid\\images\\204_102_20_3a4a14d3-e80c-45b4-9ee8-422f910e062c.jpg: corrupt JPEG restored and saved\n",
      "\u001b[34m\u001b[1mval: \u001b[0mWARNING  C:\\Users\\dawoo\\Desktop\\SF7\\coding\\PYTORCH\\project\\valid\\images\\204_102_20_a4412c6c-4a04-44a1-8c20-5bf3006431ff.jpg: corrupt JPEG restored and saved\n",
      "\u001b[34m\u001b[1mval: \u001b[0mWARNING  C:\\Users\\dawoo\\Desktop\\SF7\\coding\\PYTORCH\\project\\valid\\images\\204_102_20_eac7aab3-30a9-4ea9-8865-874d8186b104.jpeg: corrupt JPEG restored and saved\n",
      "\u001b[34m\u001b[1mval: \u001b[0mWARNING  C:\\Users\\dawoo\\Desktop\\SF7\\coding\\PYTORCH\\project\\valid\\images\\205_101_10_0f8ce033-5697-4b3b-b8f9-3c3f9a12f9e1.jpg: corrupt JPEG restored and saved\n",
      "\u001b[34m\u001b[1mval: \u001b[0mWARNING  C:\\Users\\dawoo\\Desktop\\SF7\\coding\\PYTORCH\\project\\valid\\images\\205_101_10_220216bc-b949-4b39-8928-e4f0ab4cf2cb.jpg: corrupt JPEG restored and saved\n",
      "\u001b[34m\u001b[1mval: \u001b[0mWARNING  C:\\Users\\dawoo\\Desktop\\SF7\\coding\\PYTORCH\\project\\valid\\images\\205_101_10_2d0fe052-6dc0-4e75-b4a7-b868d9adda65.jpg: corrupt JPEG restored and saved\n",
      "\u001b[34m\u001b[1mval: \u001b[0mWARNING  C:\\Users\\dawoo\\Desktop\\SF7\\coding\\PYTORCH\\project\\valid\\images\\205_101_10_a276e504-f00e-4c4c-b600-251575d86114.jpg: corrupt JPEG restored and saved\n",
      "\u001b[34m\u001b[1mval: \u001b[0mWARNING  C:\\Users\\dawoo\\Desktop\\SF7\\coding\\PYTORCH\\project\\valid\\images\\205_101_10_a5160ea8-e51a-4a13-a469-adbd8b311492.jpg: corrupt JPEG restored and saved\n",
      "\u001b[34m\u001b[1mval: \u001b[0mWARNING  C:\\Users\\dawoo\\Desktop\\SF7\\coding\\PYTORCH\\project\\valid\\images\\205_101_10_baf9b287-8cab-4c33-82c6-5ffc1eb21d8c.jpg: corrupt JPEG restored and saved\n",
      "\u001b[34m\u001b[1mval: \u001b[0mWARNING  C:\\Users\\dawoo\\Desktop\\SF7\\coding\\PYTORCH\\project\\valid\\images\\205_101_10_edf3db25-6c15-43a1-a21f-744b59d7a1e5.jpg: corrupt JPEG restored and saved\n",
      "\u001b[34m\u001b[1mval: \u001b[0mWARNING  C:\\Users\\dawoo\\Desktop\\SF7\\coding\\PYTORCH\\project\\valid\\images\\205_101_20_01b310ee-67a2-4e23-bcdc-0bb456bb2f88.jpg: corrupt JPEG restored and saved\n",
      "\u001b[34m\u001b[1mval: \u001b[0mWARNING  C:\\Users\\dawoo\\Desktop\\SF7\\coding\\PYTORCH\\project\\valid\\images\\205_101_20_05b4b1a5-6a7a-4e68-bdb5-17316ae94eb4.jpg: corrupt JPEG restored and saved\n",
      "\u001b[34m\u001b[1mval: \u001b[0mWARNING  C:\\Users\\dawoo\\Desktop\\SF7\\coding\\PYTORCH\\project\\valid\\images\\205_101_20_0bf37978-c2c5-4756-9d24-b608c2e9f93b.jpg: corrupt JPEG restored and saved\n",
      "\u001b[34m\u001b[1mval: \u001b[0mWARNING  C:\\Users\\dawoo\\Desktop\\SF7\\coding\\PYTORCH\\project\\valid\\images\\205_101_20_1a09f732-02fb-4c59-9603-9b8993e72a18.jpg: corrupt JPEG restored and saved\n",
      "\u001b[34m\u001b[1mval: \u001b[0mWARNING  C:\\Users\\dawoo\\Desktop\\SF7\\coding\\PYTORCH\\project\\valid\\images\\205_101_20_1fc4ded0-52ed-4017-aeba-258d8c87ead7.jpg: corrupt JPEG restored and saved\n",
      "\u001b[34m\u001b[1mval: \u001b[0mWARNING  C:\\Users\\dawoo\\Desktop\\SF7\\coding\\PYTORCH\\project\\valid\\images\\205_101_20_20c345c1-e147-4445-b298-e1611c6683dd.jpg: corrupt JPEG restored and saved\n",
      "\u001b[34m\u001b[1mval: \u001b[0mWARNING  C:\\Users\\dawoo\\Desktop\\SF7\\coding\\PYTORCH\\project\\valid\\images\\205_101_20_2fb3f89e-cc7e-4401-ad6e-dccdd5ce1ff3.jpg: corrupt JPEG restored and saved\n",
      "\u001b[34m\u001b[1mval: \u001b[0mWARNING  C:\\Users\\dawoo\\Desktop\\SF7\\coding\\PYTORCH\\project\\valid\\images\\205_101_20_37bcf28e-2bea-44ee-813a-1fa8d88fc174.jpg: corrupt JPEG restored and saved\n",
      "\u001b[34m\u001b[1mval: \u001b[0mWARNING  C:\\Users\\dawoo\\Desktop\\SF7\\coding\\PYTORCH\\project\\valid\\images\\205_101_20_393b1a01-4eb1-47ef-8cca-3323409224a6.jpg: corrupt JPEG restored and saved\n",
      "\u001b[34m\u001b[1mval: \u001b[0mWARNING  C:\\Users\\dawoo\\Desktop\\SF7\\coding\\PYTORCH\\project\\valid\\images\\205_101_20_43cc39c1-858c-4444-850e-0a761775a914.jpg: corrupt JPEG restored and saved\n",
      "\u001b[34m\u001b[1mval: \u001b[0mWARNING  C:\\Users\\dawoo\\Desktop\\SF7\\coding\\PYTORCH\\project\\valid\\images\\205_101_20_44388f55-4d05-4715-b061-411b08c863b9.jpg: corrupt JPEG restored and saved\n",
      "\u001b[34m\u001b[1mval: \u001b[0mWARNING  C:\\Users\\dawoo\\Desktop\\SF7\\coding\\PYTORCH\\project\\valid\\images\\205_101_20_450e3abc-eff8-4f06-9b91-de57b46d57f4.jpg: corrupt JPEG restored and saved\n",
      "\u001b[34m\u001b[1mval: \u001b[0mWARNING  C:\\Users\\dawoo\\Desktop\\SF7\\coding\\PYTORCH\\project\\valid\\images\\205_101_20_4ffac3d0-9c93-4b8f-8a9a-6344713f7e1c.jpg: corrupt JPEG restored and saved\n",
      "\u001b[34m\u001b[1mval: \u001b[0mWARNING  C:\\Users\\dawoo\\Desktop\\SF7\\coding\\PYTORCH\\project\\valid\\images\\205_101_20_51147219-a82d-4541-8434-34d1b323f410.jpg: corrupt JPEG restored and saved\n",
      "\u001b[34m\u001b[1mval: \u001b[0mWARNING  C:\\Users\\dawoo\\Desktop\\SF7\\coding\\PYTORCH\\project\\valid\\images\\205_101_20_52c060ea-474a-434b-a60e-bba210bf35f0.jpg: corrupt JPEG restored and saved\n",
      "\u001b[34m\u001b[1mval: \u001b[0mWARNING  C:\\Users\\dawoo\\Desktop\\SF7\\coding\\PYTORCH\\project\\valid\\images\\205_101_20_62ccdfac-bea5-4c55-a3ab-a55eabb6379e.jpg: corrupt JPEG restored and saved\n",
      "\u001b[34m\u001b[1mval: \u001b[0mWARNING  C:\\Users\\dawoo\\Desktop\\SF7\\coding\\PYTORCH\\project\\valid\\images\\205_101_20_644b278e-8d28-4de9-846c-f0d6bae57930.jpg: corrupt JPEG restored and saved\n",
      "\u001b[34m\u001b[1mval: \u001b[0mWARNING  C:\\Users\\dawoo\\Desktop\\SF7\\coding\\PYTORCH\\project\\valid\\images\\205_101_20_6af24df1-7a6c-423c-8d8e-ed6168d6d835.jpg: corrupt JPEG restored and saved\n",
      "\u001b[34m\u001b[1mval: \u001b[0mWARNING  C:\\Users\\dawoo\\Desktop\\SF7\\coding\\PYTORCH\\project\\valid\\images\\205_101_20_7200783d-eca1-48a5-9284-7006359cea47.jpg: corrupt JPEG restored and saved\n",
      "\u001b[34m\u001b[1mval: \u001b[0mWARNING  C:\\Users\\dawoo\\Desktop\\SF7\\coding\\PYTORCH\\project\\valid\\images\\205_101_20_87fd01b5-6c2f-4217-b75a-b61d78684990.jpg: corrupt JPEG restored and saved\n",
      "\u001b[34m\u001b[1mval: \u001b[0mWARNING  C:\\Users\\dawoo\\Desktop\\SF7\\coding\\PYTORCH\\project\\valid\\images\\205_101_20_a36039aa-d63d-411b-81a6-d00b23cfdd9a.jpg: corrupt JPEG restored and saved\n",
      "\u001b[34m\u001b[1mval: \u001b[0mWARNING  C:\\Users\\dawoo\\Desktop\\SF7\\coding\\PYTORCH\\project\\valid\\images\\205_101_20_aa7970e5-431b-455b-a4b4-f0fc366fe58a.jpg: corrupt JPEG restored and saved\n",
      "\u001b[34m\u001b[1mval: \u001b[0mWARNING  C:\\Users\\dawoo\\Desktop\\SF7\\coding\\PYTORCH\\project\\valid\\images\\205_101_20_b51fae81-1bff-436e-91a8-60ed6a3db231.jpg: corrupt JPEG restored and saved\n",
      "\u001b[34m\u001b[1mval: \u001b[0mWARNING  C:\\Users\\dawoo\\Desktop\\SF7\\coding\\PYTORCH\\project\\valid\\images\\205_101_20_ba05d36c-61e3-4802-b505-36decdccb362.jpg: corrupt JPEG restored and saved\n",
      "\u001b[34m\u001b[1mval: \u001b[0mWARNING  C:\\Users\\dawoo\\Desktop\\SF7\\coding\\PYTORCH\\project\\valid\\images\\205_101_20_c3ffbb35-b545-4328-95f5-2d836d37e510.jpg: corrupt JPEG restored and saved\n",
      "\u001b[34m\u001b[1mval: \u001b[0mWARNING  C:\\Users\\dawoo\\Desktop\\SF7\\coding\\PYTORCH\\project\\valid\\images\\205_101_20_c924a6d2-f203-4dfa-9dc4-0419d363a744.jpg: corrupt JPEG restored and saved\n",
      "\u001b[34m\u001b[1mval: \u001b[0mWARNING  C:\\Users\\dawoo\\Desktop\\SF7\\coding\\PYTORCH\\project\\valid\\images\\205_101_20_cb1a8fd7-96cd-4f5d-b64e-6e57be8ecad3.jpg: corrupt JPEG restored and saved\n",
      "\u001b[34m\u001b[1mval: \u001b[0mWARNING  C:\\Users\\dawoo\\Desktop\\SF7\\coding\\PYTORCH\\project\\valid\\images\\205_101_20_d0a4726b-1776-4a21-89ca-d3bc9e5e495a.jpg: corrupt JPEG restored and saved\n",
      "\u001b[34m\u001b[1mval: \u001b[0mWARNING  C:\\Users\\dawoo\\Desktop\\SF7\\coding\\PYTORCH\\project\\valid\\images\\205_101_20_da27feb8-de81-4a62-9769-fb1db2e92e9e.jpg: corrupt JPEG restored and saved\n",
      "\u001b[34m\u001b[1mval: \u001b[0mWARNING  C:\\Users\\dawoo\\Desktop\\SF7\\coding\\PYTORCH\\project\\valid\\images\\205_101_20_db748d3d-33ae-40a6-b6bb-9d135b0b68b3.jpg: corrupt JPEG restored and saved\n",
      "\u001b[34m\u001b[1mval: \u001b[0mWARNING  C:\\Users\\dawoo\\Desktop\\SF7\\coding\\PYTORCH\\project\\valid\\images\\205_101_20_f6f5c2e8-db88-4609-ac8c-335d845ffda7.jpg: corrupt JPEG restored and saved\n",
      "\u001b[34m\u001b[1mval: \u001b[0mWARNING  C:\\Users\\dawoo\\Desktop\\SF7\\coding\\PYTORCH\\project\\valid\\images\\205_101_20_fe312a9e-322a-4da0-b725-76d60d6fa592.jpg: corrupt JPEG restored and saved\n",
      "\u001b[34m\u001b[1mval: \u001b[0mWARNING  C:\\Users\\dawoo\\Desktop\\SF7\\coding\\PYTORCH\\project\\valid\\images\\207_102_10_14f9abca-de07-494d-949f-b84943477ad8.jpg: corrupt JPEG restored and saved\n",
      "\u001b[34m\u001b[1mval: \u001b[0mWARNING  C:\\Users\\dawoo\\Desktop\\SF7\\coding\\PYTORCH\\project\\valid\\images\\207_102_20_26295b2d-6429-478a-b180-062033e03bfd.jpg: corrupt JPEG restored and saved\n",
      "\u001b[34m\u001b[1mval: \u001b[0mWARNING  C:\\Users\\dawoo\\Desktop\\SF7\\coding\\PYTORCH\\project\\valid\\images\\207_102_20_3d68d91e-bd6f-47ed-a179-90eb9652f949.jpg: corrupt JPEG restored and saved\n",
      "\u001b[34m\u001b[1mval: \u001b[0mWARNING  C:\\Users\\dawoo\\Desktop\\SF7\\coding\\PYTORCH\\project\\valid\\images\\207_102_20_5608be95-50d0-4dbf-92e4-b7e54c655570.jpg: corrupt JPEG restored and saved\n",
      "\u001b[34m\u001b[1mval: \u001b[0mWARNING  C:\\Users\\dawoo\\Desktop\\SF7\\coding\\PYTORCH\\project\\valid\\images\\207_102_20_565e4b7c-3d6a-4c2b-91ef-a7b7b220ac9b.jpg: corrupt JPEG restored and saved\n",
      "\u001b[34m\u001b[1mval: \u001b[0mWARNING  C:\\Users\\dawoo\\Desktop\\SF7\\coding\\PYTORCH\\project\\valid\\images\\207_102_20_64685d15-48f1-4c01-b018-73fb225e2094.jpg: corrupt JPEG restored and saved\n",
      "\u001b[34m\u001b[1mval: \u001b[0mWARNING  C:\\Users\\dawoo\\Desktop\\SF7\\coding\\PYTORCH\\project\\valid\\images\\207_102_20_86491006-1301-4ffc-b4e8-069f21ce21d4.jpg: corrupt JPEG restored and saved\n",
      "\u001b[34m\u001b[1mval: \u001b[0mWARNING  C:\\Users\\dawoo\\Desktop\\SF7\\coding\\PYTORCH\\project\\valid\\images\\207_102_20_e555e64e-ca1a-4a74-af8a-f092cebd0d1d.jpg: corrupt JPEG restored and saved\n",
      "\u001b[34m\u001b[1mval: \u001b[0mWARNING  C:\\Users\\dawoo\\Desktop\\SF7\\coding\\PYTORCH\\project\\valid\\images\\207_102_20_f3a606d1-5d5e-40d9-bb04-252542c548d8.jpg: corrupt JPEG restored and saved\n",
      "\u001b[34m\u001b[1mval: \u001b[0mWARNING  C:\\Users\\dawoo\\Desktop\\SF7\\coding\\PYTORCH\\project\\valid\\images\\207_204_10_148b0394-68ac-4f8e-992a-dd4f91248d49.jpg: corrupt JPEG restored and saved\n",
      "\u001b[34m\u001b[1mval: \u001b[0mWARNING  C:\\Users\\dawoo\\Desktop\\SF7\\coding\\PYTORCH\\project\\valid\\images\\207_204_10_6fb81604-a569-437b-b9da-92ab5decd032.jpg: corrupt JPEG restored and saved\n",
      "\u001b[34m\u001b[1mval: \u001b[0mWARNING  C:\\Users\\dawoo\\Desktop\\SF7\\coding\\PYTORCH\\project\\valid\\images\\207_204_10_78a969cc-3d02-40a8-a5a1-e8f25741a9aa.jpg: corrupt JPEG restored and saved\n",
      "\u001b[34m\u001b[1mval: \u001b[0mWARNING  C:\\Users\\dawoo\\Desktop\\SF7\\coding\\PYTORCH\\project\\valid\\images\\207_204_10_a8ef7042-0fab-439f-899e-a0c0fa3ea9e8.jpg: corrupt JPEG restored and saved\n",
      "\u001b[34m\u001b[1mval: \u001b[0mWARNING  C:\\Users\\dawoo\\Desktop\\SF7\\coding\\PYTORCH\\project\\valid\\images\\207_204_20_13e09fcc-368d-42e1-94c8-4d513bb0a70f.jpg: corrupt JPEG restored and saved\n",
      "\u001b[34m\u001b[1mval: \u001b[0mWARNING  C:\\Users\\dawoo\\Desktop\\SF7\\coding\\PYTORCH\\project\\valid\\images\\207_204_20_17045fec-bf35-4274-83cc-f7f6d460cdd3.jpg: corrupt JPEG restored and saved\n",
      "\u001b[34m\u001b[1mval: \u001b[0mWARNING  C:\\Users\\dawoo\\Desktop\\SF7\\coding\\PYTORCH\\project\\valid\\images\\207_204_20_296125cb-edce-422d-8b98-1e365bc626be.jpg: corrupt JPEG restored and saved\n",
      "\u001b[34m\u001b[1mval: \u001b[0mWARNING  C:\\Users\\dawoo\\Desktop\\SF7\\coding\\PYTORCH\\project\\valid\\images\\207_204_20_2b05cb6c-772c-4003-b2f1-3db3e523a93f.jpg: corrupt JPEG restored and saved\n",
      "\u001b[34m\u001b[1mval: \u001b[0mWARNING  C:\\Users\\dawoo\\Desktop\\SF7\\coding\\PYTORCH\\project\\valid\\images\\207_204_20_346988fc-3d8d-4e93-a0dc-274aecf4a782.jpg: corrupt JPEG restored and saved\n",
      "\u001b[34m\u001b[1mval: \u001b[0mWARNING  C:\\Users\\dawoo\\Desktop\\SF7\\coding\\PYTORCH\\project\\valid\\images\\207_204_20_64fbe50c-fa1d-4654-9063-8cdaccb636da.jpg: corrupt JPEG restored and saved\n",
      "\u001b[34m\u001b[1mval: \u001b[0mWARNING  C:\\Users\\dawoo\\Desktop\\SF7\\coding\\PYTORCH\\project\\valid\\images\\207_204_20_658e0039-98b8-44f3-aba9-aab9d1fb51aa.jpg: corrupt JPEG restored and saved\n",
      "\u001b[34m\u001b[1mval: \u001b[0mWARNING  C:\\Users\\dawoo\\Desktop\\SF7\\coding\\PYTORCH\\project\\valid\\images\\207_204_20_6888f51e-6418-4cb4-9b55-48a60b4318c5.jpg: corrupt JPEG restored and saved\n",
      "\u001b[34m\u001b[1mval: \u001b[0mWARNING  C:\\Users\\dawoo\\Desktop\\SF7\\coding\\PYTORCH\\project\\valid\\images\\207_204_20_8f53d9e4-9cbf-4427-a48b-12daba014989.jpg: corrupt JPEG restored and saved\n",
      "\u001b[34m\u001b[1mval: \u001b[0mWARNING  C:\\Users\\dawoo\\Desktop\\SF7\\coding\\PYTORCH\\project\\valid\\images\\207_204_20_99f6d85b-f7ce-47f9-a4be-1280cae00d70.jpg: corrupt JPEG restored and saved\n",
      "\u001b[34m\u001b[1mval: \u001b[0mWARNING  C:\\Users\\dawoo\\Desktop\\SF7\\coding\\PYTORCH\\project\\valid\\images\\207_204_20_b562ecb8-dad3-4cdd-80ed-b31bd987f8c2.jpg: corrupt JPEG restored and saved\n",
      "\u001b[34m\u001b[1mval: \u001b[0mWARNING  C:\\Users\\dawoo\\Desktop\\SF7\\coding\\PYTORCH\\project\\valid\\images\\207_204_20_ee629be2-c6fe-419f-a140-f24fb0b9ff7d.jpg: corrupt JPEG restored and saved\n",
      "\u001b[34m\u001b[1mval: \u001b[0mWARNING  C:\\Users\\dawoo\\Desktop\\SF7\\coding\\PYTORCH\\project\\valid\\images\\207_204_20_f003f505-7f74-4c45-a9f7-8871ad418d4e.jpg: corrupt JPEG restored and saved\n",
      "\u001b[34m\u001b[1mval: \u001b[0mWARNING  C:\\Users\\dawoo\\Desktop\\SF7\\coding\\PYTORCH\\project\\valid\\images\\207_204_20_f1fb1760-bc61-4933-875d-84778df44a48.jpg: corrupt JPEG restored and saved\n",
      "\u001b[34m\u001b[1mval: \u001b[0mWARNING  C:\\Users\\dawoo\\Desktop\\SF7\\coding\\PYTORCH\\project\\valid\\images\\207_212_20_07943169-ab2d-487c-8bca-4a9a2b1fffb5.jpg: corrupt JPEG restored and saved\n",
      "\u001b[34m\u001b[1mval: \u001b[0mWARNING  C:\\Users\\dawoo\\Desktop\\SF7\\coding\\PYTORCH\\project\\valid\\images\\207_212_20_0a267e4b-41c3-493d-a437-20f18650951c.jpg: corrupt JPEG restored and saved\n",
      "\u001b[34m\u001b[1mval: \u001b[0mWARNING  C:\\Users\\dawoo\\Desktop\\SF7\\coding\\PYTORCH\\project\\valid\\images\\207_212_20_102b5e99-a581-46ae-b072-aee232d3cb3f.jpg: corrupt JPEG restored and saved\n",
      "\u001b[34m\u001b[1mval: \u001b[0mWARNING  C:\\Users\\dawoo\\Desktop\\SF7\\coding\\PYTORCH\\project\\valid\\images\\207_212_20_2b6dc8e9-8d7a-4168-9352-a2f6d02f20d7.jpg: corrupt JPEG restored and saved\n",
      "\u001b[34m\u001b[1mval: \u001b[0mWARNING  C:\\Users\\dawoo\\Desktop\\SF7\\coding\\PYTORCH\\project\\valid\\images\\207_212_20_3a432e31-7e95-40c1-8d67-2b5d9cd46cb1.jpg: corrupt JPEG restored and saved\n",
      "\u001b[34m\u001b[1mval: \u001b[0mWARNING  C:\\Users\\dawoo\\Desktop\\SF7\\coding\\PYTORCH\\project\\valid\\images\\207_212_20_3d23492d-b732-4dbb-afb3-2365fab69c80.jpg: corrupt JPEG restored and saved\n",
      "\u001b[34m\u001b[1mval: \u001b[0mWARNING  C:\\Users\\dawoo\\Desktop\\SF7\\coding\\PYTORCH\\project\\valid\\images\\207_212_20_3e601976-2099-4ac2-8494-5bb2d36e4c94.jpg: corrupt JPEG restored and saved\n",
      "\u001b[34m\u001b[1mval: \u001b[0mWARNING  C:\\Users\\dawoo\\Desktop\\SF7\\coding\\PYTORCH\\project\\valid\\images\\207_212_20_618a3e74-f203-47f4-a3c7-713853f6062b.jpg: corrupt JPEG restored and saved\n",
      "\u001b[34m\u001b[1mval: \u001b[0mWARNING  C:\\Users\\dawoo\\Desktop\\SF7\\coding\\PYTORCH\\project\\valid\\images\\207_212_20_624c0bfb-f341-4d81-aa5e-998ab5eccc79.jpg: corrupt JPEG restored and saved\n",
      "\u001b[34m\u001b[1mval: \u001b[0mWARNING  C:\\Users\\dawoo\\Desktop\\SF7\\coding\\PYTORCH\\project\\valid\\images\\207_212_20_6262bcf5-9a00-4ce5-bb02-ae98f85ba845.jpg: corrupt JPEG restored and saved\n",
      "\u001b[34m\u001b[1mval: \u001b[0mWARNING  C:\\Users\\dawoo\\Desktop\\SF7\\coding\\PYTORCH\\project\\valid\\images\\207_212_20_869cb188-398e-4202-bdb6-22f00ba592ce.jpg: corrupt JPEG restored and saved\n",
      "\u001b[34m\u001b[1mval: \u001b[0mWARNING  C:\\Users\\dawoo\\Desktop\\SF7\\coding\\PYTORCH\\project\\valid\\images\\207_212_20_8705eb22-90e0-47e9-b942-13f4a7e307a7.jpg: corrupt JPEG restored and saved\n",
      "\u001b[34m\u001b[1mval: \u001b[0mWARNING  C:\\Users\\dawoo\\Desktop\\SF7\\coding\\PYTORCH\\project\\valid\\images\\207_212_20_8b0e8863-1d04-407c-b64d-c012ef8f750b.jpg: corrupt JPEG restored and saved\n",
      "\u001b[34m\u001b[1mval: \u001b[0mWARNING  C:\\Users\\dawoo\\Desktop\\SF7\\coding\\PYTORCH\\project\\valid\\images\\207_212_20_93021da1-dd84-4704-b5a2-bc6b586d6841.jpg: corrupt JPEG restored and saved\n",
      "\u001b[34m\u001b[1mval: \u001b[0mWARNING  C:\\Users\\dawoo\\Desktop\\SF7\\coding\\PYTORCH\\project\\valid\\images\\207_212_20_9ff2536c-4ea9-457b-a073-3cdf79d0c3e5.jpg: corrupt JPEG restored and saved\n",
      "\u001b[34m\u001b[1mval: \u001b[0mWARNING  C:\\Users\\dawoo\\Desktop\\SF7\\coding\\PYTORCH\\project\\valid\\images\\207_212_20_a473f61a-6489-42ad-a1d6-16a5e3247472.jpg: corrupt JPEG restored and saved\n",
      "\u001b[34m\u001b[1mval: \u001b[0mWARNING  C:\\Users\\dawoo\\Desktop\\SF7\\coding\\PYTORCH\\project\\valid\\images\\207_212_20_b1b7d5ed-e16b-42db-a085-533865cee65b.jpg: corrupt JPEG restored and saved\n",
      "\u001b[34m\u001b[1mval: \u001b[0mWARNING  C:\\Users\\dawoo\\Desktop\\SF7\\coding\\PYTORCH\\project\\valid\\images\\207_212_20_b40732df-3eeb-4c82-a8c9-77ed82e54b54.jpg: corrupt JPEG restored and saved\n",
      "\u001b[34m\u001b[1mval: \u001b[0mWARNING  C:\\Users\\dawoo\\Desktop\\SF7\\coding\\PYTORCH\\project\\valid\\images\\207_212_20_c763ae5c-d54f-4511-8afc-034598fa4c2c.jpg: corrupt JPEG restored and saved\n",
      "\u001b[34m\u001b[1mval: \u001b[0mWARNING  C:\\Users\\dawoo\\Desktop\\SF7\\coding\\PYTORCH\\project\\valid\\images\\207_212_20_d73a5890-a639-4232-8236-efd0a0e87ad5.jpg: corrupt JPEG restored and saved\n",
      "\u001b[34m\u001b[1mval: \u001b[0mWARNING  C:\\Users\\dawoo\\Desktop\\SF7\\coding\\PYTORCH\\project\\valid\\images\\207_212_20_da19666e-b1e7-4b99-a1b5-17e2ee4c88a7.jpg: corrupt JPEG restored and saved\n",
      "\u001b[34m\u001b[1mval: \u001b[0mWARNING  C:\\Users\\dawoo\\Desktop\\SF7\\coding\\PYTORCH\\project\\valid\\images\\207_212_20_ee965277-5c13-49fa-99fe-4c10a7903344.jpg: corrupt JPEG restored and saved\n",
      "\u001b[34m\u001b[1mval: \u001b[0mWARNING  C:\\Users\\dawoo\\Desktop\\SF7\\coding\\PYTORCH\\project\\valid\\images\\207_212_20_efae4d2b-c796-4c38-9fcf-3b70b626d0a1.jpg: corrupt JPEG restored and saved\n",
      "\u001b[34m\u001b[1mval: \u001b[0mWARNING  C:\\Users\\dawoo\\Desktop\\SF7\\coding\\PYTORCH\\project\\valid\\images\\207_212_20_f945b808-c092-43b5-85e3-4375723432ab.jpg: corrupt JPEG restored and saved\n",
      "\u001b[34m\u001b[1mval: \u001b[0mWARNING  C:\\Users\\dawoo\\Desktop\\SF7\\coding\\PYTORCH\\project\\valid\\images\\207_213_20_30b7cd59-7b85-4a9e-98af-15c4d7fa88b3.jpg: corrupt JPEG restored and saved\n",
      "\u001b[34m\u001b[1mval: \u001b[0mWARNING  C:\\Users\\dawoo\\Desktop\\SF7\\coding\\PYTORCH\\project\\valid\\images\\207_213_20_346d4426-b8e1-409e-bf51-436970c737ec.jpg: corrupt JPEG restored and saved\n",
      "\u001b[34m\u001b[1mval: \u001b[0mWARNING  C:\\Users\\dawoo\\Desktop\\SF7\\coding\\PYTORCH\\project\\valid\\images\\207_213_20_9096e733-fd6c-419e-b66c-4ac538eb3b6b.jpg: corrupt JPEG restored and saved\n",
      "\u001b[34m\u001b[1mval: \u001b[0mWARNING  C:\\Users\\dawoo\\Desktop\\SF7\\coding\\PYTORCH\\project\\valid\\images\\207_213_20_9716c4da-b894-47aa-810c-54a2fbd9fd42.jpg: corrupt JPEG restored and saved\n",
      "\u001b[34m\u001b[1mval: \u001b[0mWARNING  C:\\Users\\dawoo\\Desktop\\SF7\\coding\\PYTORCH\\project\\valid\\images\\209_102_10_34e058c5-ec8b-428b-8d41-8e1523d74bd8.jpg: corrupt JPEG restored and saved\n",
      "\u001b[34m\u001b[1mval: \u001b[0mWARNING  C:\\Users\\dawoo\\Desktop\\SF7\\coding\\PYTORCH\\project\\valid\\images\\209_102_10_5f1462a9-639c-4c39-80c4-71076927b5a7.jpg: corrupt JPEG restored and saved\n",
      "\u001b[34m\u001b[1mval: \u001b[0mWARNING  C:\\Users\\dawoo\\Desktop\\SF7\\coding\\PYTORCH\\project\\valid\\images\\209_102_10_6b297117-ce1d-4c8d-900e-6aac6578483b.jpg: corrupt JPEG restored and saved\n",
      "\u001b[34m\u001b[1mval: \u001b[0mWARNING  C:\\Users\\dawoo\\Desktop\\SF7\\coding\\PYTORCH\\project\\valid\\images\\209_102_10_6cc5aa34-4b79-45a9-ae6b-8807ca7354b8.jpg: corrupt JPEG restored and saved\n",
      "\u001b[34m\u001b[1mval: \u001b[0mWARNING  C:\\Users\\dawoo\\Desktop\\SF7\\coding\\PYTORCH\\project\\valid\\images\\209_102_10_71417aa0-e5ed-413f-88b3-b819d7b8c65e.jpg: corrupt JPEG restored and saved\n",
      "\u001b[34m\u001b[1mval: \u001b[0mWARNING  C:\\Users\\dawoo\\Desktop\\SF7\\coding\\PYTORCH\\project\\valid\\images\\209_102_10_843ead2d-7805-4f9c-a93c-66377d47ceb2.jpg: corrupt JPEG restored and saved\n",
      "\u001b[34m\u001b[1mval: \u001b[0mWARNING  C:\\Users\\dawoo\\Desktop\\SF7\\coding\\PYTORCH\\project\\valid\\images\\209_102_10_903a8675-2b6b-49b5-aff6-7cdf4cf2621b.jpg: corrupt JPEG restored and saved\n",
      "\u001b[34m\u001b[1mval: \u001b[0mWARNING  C:\\Users\\dawoo\\Desktop\\SF7\\coding\\PYTORCH\\project\\valid\\images\\209_102_10_934dfe7d-a2e5-4a2e-9fa7-fe5889add5b7.jpg: corrupt JPEG restored and saved\n",
      "\u001b[34m\u001b[1mval: \u001b[0mWARNING  C:\\Users\\dawoo\\Desktop\\SF7\\coding\\PYTORCH\\project\\valid\\images\\209_102_10_a842c098-bdcc-4b6e-b427-d3c563d29460.jpg: corrupt JPEG restored and saved\n",
      "\u001b[34m\u001b[1mval: \u001b[0mWARNING  C:\\Users\\dawoo\\Desktop\\SF7\\coding\\PYTORCH\\project\\valid\\images\\209_102_10_daa6a829-8dc7-4ac9-ae84-70381e4136e8.jpg: corrupt JPEG restored and saved\n",
      "\u001b[34m\u001b[1mval: \u001b[0mWARNING  C:\\Users\\dawoo\\Desktop\\SF7\\coding\\PYTORCH\\project\\valid\\images\\209_102_10_ed738128-9792-45b1-bc20-0a8d1333fb21.jpg: corrupt JPEG restored and saved\n",
      "\u001b[34m\u001b[1mval: \u001b[0mWARNING  C:\\Users\\dawoo\\Desktop\\SF7\\coding\\PYTORCH\\project\\valid\\images\\209_102_10_f1347ade-b2d1-43a4-b445-73a1034c5ada.jpg: corrupt JPEG restored and saved\n",
      "\u001b[34m\u001b[1mval: \u001b[0mWARNING  C:\\Users\\dawoo\\Desktop\\SF7\\coding\\PYTORCH\\project\\valid\\images\\209_102_20_0ccc1481-9812-4a0c-b8fd-f70396bd7b6e.jpg: corrupt JPEG restored and saved\n",
      "\u001b[34m\u001b[1mval: \u001b[0mWARNING  C:\\Users\\dawoo\\Desktop\\SF7\\coding\\PYTORCH\\project\\valid\\images\\209_102_20_203f8d87-8bb7-41a2-83ce-49a28b7b9bfe.jpg: corrupt JPEG restored and saved\n",
      "\u001b[34m\u001b[1mval: \u001b[0mWARNING  C:\\Users\\dawoo\\Desktop\\SF7\\coding\\PYTORCH\\project\\valid\\images\\209_102_20_22ab5a0d-d0fe-4b50-a094-767b69b01889.jpeg: corrupt JPEG restored and saved\n",
      "\u001b[34m\u001b[1mval: \u001b[0mWARNING  C:\\Users\\dawoo\\Desktop\\SF7\\coding\\PYTORCH\\project\\valid\\images\\209_102_20_22f6c0ad-9ba3-4628-887c-51090b9ef798.jpg: corrupt JPEG restored and saved\n",
      "\u001b[34m\u001b[1mval: \u001b[0mWARNING  C:\\Users\\dawoo\\Desktop\\SF7\\coding\\PYTORCH\\project\\valid\\images\\209_102_20_26e97dad-532a-4096-bf9b-fdb5033f0030.jpg: corrupt JPEG restored and saved\n",
      "\u001b[34m\u001b[1mval: \u001b[0mWARNING  C:\\Users\\dawoo\\Desktop\\SF7\\coding\\PYTORCH\\project\\valid\\images\\209_102_20_50c3d70b-cbde-4444-98e1-aa591c518bf3.jpg: corrupt JPEG restored and saved\n",
      "\u001b[34m\u001b[1mval: \u001b[0mWARNING  C:\\Users\\dawoo\\Desktop\\SF7\\coding\\PYTORCH\\project\\valid\\images\\209_102_20_58501b7b-a6f3-4f64-a01f-fc4ac8f13fec.jpg: corrupt JPEG restored and saved\n",
      "\u001b[34m\u001b[1mval: \u001b[0mWARNING  C:\\Users\\dawoo\\Desktop\\SF7\\coding\\PYTORCH\\project\\valid\\images\\209_102_20_5c9eed1b-c07e-4fbf-bfd9-ad6960c5b7e6.jpg: corrupt JPEG restored and saved\n",
      "\u001b[34m\u001b[1mval: \u001b[0mWARNING  C:\\Users\\dawoo\\Desktop\\SF7\\coding\\PYTORCH\\project\\valid\\images\\209_102_20_610ce5c4-b09d-4ef0-b2da-a7952b135fd5.jpg: corrupt JPEG restored and saved\n",
      "\u001b[34m\u001b[1mval: \u001b[0mWARNING  C:\\Users\\dawoo\\Desktop\\SF7\\coding\\PYTORCH\\project\\valid\\images\\209_102_20_6eb2dc79-0b3e-431e-b433-ea6e605a6b6b.jpg: corrupt JPEG restored and saved\n",
      "\u001b[34m\u001b[1mval: \u001b[0mWARNING  C:\\Users\\dawoo\\Desktop\\SF7\\coding\\PYTORCH\\project\\valid\\images\\209_102_20_7a5d08b8-a04c-448c-96a6-8172c4eb8be6.jpg: corrupt JPEG restored and saved\n",
      "\u001b[34m\u001b[1mval: \u001b[0mWARNING  C:\\Users\\dawoo\\Desktop\\SF7\\coding\\PYTORCH\\project\\valid\\images\\209_102_20_8ac6d3ee-9f33-4773-a99a-70fccf1a2563.jpg: corrupt JPEG restored and saved\n",
      "\u001b[34m\u001b[1mval: \u001b[0mWARNING  C:\\Users\\dawoo\\Desktop\\SF7\\coding\\PYTORCH\\project\\valid\\images\\209_102_20_ae8dac83-8973-4708-acea-a99e65c9c490.jpg: corrupt JPEG restored and saved\n",
      "\u001b[34m\u001b[1mval: \u001b[0mWARNING  C:\\Users\\dawoo\\Desktop\\SF7\\coding\\PYTORCH\\project\\valid\\images\\209_102_20_b2f3af67-f1f5-483a-9501-01e96df9ec29.jpeg: corrupt JPEG restored and saved\n",
      "\u001b[34m\u001b[1mval: \u001b[0mWARNING  C:\\Users\\dawoo\\Desktop\\SF7\\coding\\PYTORCH\\project\\valid\\images\\209_102_20_ba47bc05-dc29-4147-a03a-bb3f28e93570.jpg: corrupt JPEG restored and saved\n",
      "\u001b[34m\u001b[1mval: \u001b[0mWARNING  C:\\Users\\dawoo\\Desktop\\SF7\\coding\\PYTORCH\\project\\valid\\images\\209_102_20_baa6890a-bb5f-48bf-965c-3494a250414f.jpg: corrupt JPEG restored and saved\n",
      "\u001b[34m\u001b[1mval: \u001b[0mWARNING  C:\\Users\\dawoo\\Desktop\\SF7\\coding\\PYTORCH\\project\\valid\\images\\209_102_20_bd1da5cb-c68e-4142-a094-e878ea77a00c.jpg: corrupt JPEG restored and saved\n",
      "\u001b[34m\u001b[1mval: \u001b[0mWARNING  C:\\Users\\dawoo\\Desktop\\SF7\\coding\\PYTORCH\\project\\valid\\images\\209_102_20_da2a2dbd-c401-4b63-bd17-aa1f008c137a.jpg: corrupt JPEG restored and saved\n",
      "\u001b[34m\u001b[1mval: \u001b[0mWARNING  C:\\Users\\dawoo\\Desktop\\SF7\\coding\\PYTORCH\\project\\valid\\images\\209_102_20_dcf45dd8-9fa4-49f2-b44b-168f6656fa4b.jpg: corrupt JPEG restored and saved\n",
      "\u001b[34m\u001b[1mval: \u001b[0mWARNING  C:\\Users\\dawoo\\Desktop\\SF7\\coding\\PYTORCH\\project\\valid\\images\\209_102_20_e2f00b45-0092-418f-bef1-e562a23826ef.jpg: corrupt JPEG restored and saved\n",
      "\u001b[34m\u001b[1mval: \u001b[0mWARNING  C:\\Users\\dawoo\\Desktop\\SF7\\coding\\PYTORCH\\project\\valid\\images\\209_102_20_e475c844-36bc-458d-be44-7bf4e57cdbee.jpg: corrupt JPEG restored and saved\n",
      "\u001b[34m\u001b[1mval: \u001b[0mWARNING  C:\\Users\\dawoo\\Desktop\\SF7\\coding\\PYTORCH\\project\\valid\\images\\209_102_20_fb4df1e5-eca5-41a0-ab19-2cca0a1b1789.jpg: corrupt JPEG restored and saved\n"
     ]
    },
    {
     "name": "stderr",
     "output_type": "stream",
     "text": [
      "\n"
     ]
    },
    {
     "name": "stdout",
     "output_type": "stream",
     "text": [
      "\u001b[34m\u001b[1mval: \u001b[0mNew cache created: C:\\Users\\dawoo\\Desktop\\SF7\\coding\\PYTORCH\\project\\valid\\labels.cache\n",
      "WARNING  cache='ram' may produce non-deterministic training results. Consider cache='disk' as a deterministic alternative if your disk space allows.\n"
     ]
    },
    {
     "name": "stderr",
     "output_type": "stream",
     "text": [
      "\u001b[34m\u001b[1mval: \u001b[0mCaching images (0.2GB RAM): 100%|██████████| 240/240 [00:06<00:00, 36.64it/s]\n"
     ]
    },
    {
     "name": "stdout",
     "output_type": "stream",
     "text": [
      "Plotting labels to C:\\Users\\dawoo\\Desktop\\SF7\\coding\\PYTORCH\\project\\detect\\part_damage_detection\\labels.jpg... \n",
      "\u001b[34m\u001b[1moptimizer:\u001b[0m AdamW(lr=0.01, momentum=0.937) with parameter groups 57 weight(decay=0.0), 64 weight(decay=0.0005), 63 bias(decay=0.0)\n",
      "Image sizes 640 train, 640 val\n",
      "Using 4 dataloader workers\n",
      "Logging results to \u001b[1mC:\\Users\\dawoo\\Desktop\\SF7\\coding\\PYTORCH\\project\\detect\\part_damage_detection\u001b[0m\n",
      "Starting training for 120 epochs...\n",
      "\n",
      "      Epoch    GPU_mem   box_loss   cls_loss   dfl_loss  Instances       Size\n"
     ]
    },
    {
     "name": "stderr",
     "output_type": "stream",
     "text": [
      "      1/120      2.08G      2.671      3.835      2.598         17        640: 100%|██████████| 120/120 [00:30<00:00,  3.91it/s]\n",
      "                 Class     Images  Instances      Box(P          R      mAP50  mAP50-95): 100%|██████████| 15/15 [00:02<00:00,  5.45it/s]"
     ]
    },
    {
     "name": "stdout",
     "output_type": "stream",
     "text": [
      "                   all        240        293          0          0          0          0\n"
     ]
    },
    {
     "name": "stderr",
     "output_type": "stream",
     "text": [
      "\n"
     ]
    },
    {
     "name": "stdout",
     "output_type": "stream",
     "text": [
      "\n",
      "      Epoch    GPU_mem   box_loss   cls_loss   dfl_loss  Instances       Size\n"
     ]
    },
    {
     "name": "stderr",
     "output_type": "stream",
     "text": [
      "      2/120      2.16G      2.622      3.181      2.595         12        640: 100%|██████████| 120/120 [00:26<00:00,  4.57it/s]\n",
      "                 Class     Images  Instances      Box(P          R      mAP50  mAP50-95): 100%|██████████| 15/15 [00:02<00:00,  6.04it/s]"
     ]
    },
    {
     "name": "stdout",
     "output_type": "stream",
     "text": [
      "                   all        240        293    0.00589     0.0376    0.00312    0.00117\n"
     ]
    },
    {
     "name": "stderr",
     "output_type": "stream",
     "text": [
      "\n"
     ]
    },
    {
     "name": "stdout",
     "output_type": "stream",
     "text": [
      "\n",
      "      Epoch    GPU_mem   box_loss   cls_loss   dfl_loss  Instances       Size\n"
     ]
    },
    {
     "name": "stderr",
     "output_type": "stream",
     "text": [
      "      3/120      2.18G      2.517      2.981      2.492         16        640: 100%|██████████| 120/120 [00:25<00:00,  4.80it/s]\n",
      "                 Class     Images  Instances      Box(P          R      mAP50  mAP50-95): 100%|██████████| 15/15 [00:02<00:00,  6.58it/s]"
     ]
    },
    {
     "name": "stdout",
     "output_type": "stream",
     "text": [
      "                   all        240        293   0.000905     0.0724   0.000544    8.4e-05\n"
     ]
    },
    {
     "name": "stderr",
     "output_type": "stream",
     "text": [
      "\n"
     ]
    },
    {
     "name": "stdout",
     "output_type": "stream",
     "text": [
      "\n",
      "      Epoch    GPU_mem   box_loss   cls_loss   dfl_loss  Instances       Size\n"
     ]
    },
    {
     "name": "stderr",
     "output_type": "stream",
     "text": [
      "      4/120      2.08G      2.435      2.831      2.422         14        640: 100%|██████████| 120/120 [00:24<00:00,  4.82it/s]\n",
      "                 Class     Images  Instances      Box(P          R      mAP50  mAP50-95): 100%|██████████| 15/15 [00:02<00:00,  7.05it/s]"
     ]
    },
    {
     "name": "stdout",
     "output_type": "stream",
     "text": [
      "                   all        240        293      0.408     0.0105   0.000956   0.000278\n"
     ]
    },
    {
     "name": "stderr",
     "output_type": "stream",
     "text": [
      "\n"
     ]
    },
    {
     "name": "stdout",
     "output_type": "stream",
     "text": [
      "\n",
      "      Epoch    GPU_mem   box_loss   cls_loss   dfl_loss  Instances       Size\n"
     ]
    },
    {
     "name": "stderr",
     "output_type": "stream",
     "text": [
      "      5/120       2.1G      2.337      2.733      2.374         11        640: 100%|██████████| 120/120 [00:25<00:00,  4.79it/s]\n",
      "                 Class     Images  Instances      Box(P          R      mAP50  mAP50-95): 100%|██████████| 15/15 [00:02<00:00,  7.12it/s]"
     ]
    },
    {
     "name": "stdout",
     "output_type": "stream",
     "text": [
      "                   all        240        293      0.625    0.00702    0.00307   0.000855\n"
     ]
    },
    {
     "name": "stderr",
     "output_type": "stream",
     "text": [
      "\n"
     ]
    },
    {
     "name": "stdout",
     "output_type": "stream",
     "text": [
      "\n",
      "      Epoch    GPU_mem   box_loss   cls_loss   dfl_loss  Instances       Size\n"
     ]
    },
    {
     "name": "stderr",
     "output_type": "stream",
     "text": [
      "      6/120      2.17G      2.295       2.65      2.301         16        640: 100%|██████████| 120/120 [00:24<00:00,  4.81it/s]\n",
      "                 Class     Images  Instances      Box(P          R      mAP50  mAP50-95): 100%|██████████| 15/15 [00:02<00:00,  7.14it/s]"
     ]
    },
    {
     "name": "stdout",
     "output_type": "stream",
     "text": [
      "                   all        240        293       0.61    0.00702    0.00214   0.000857\n"
     ]
    },
    {
     "name": "stderr",
     "output_type": "stream",
     "text": [
      "\n"
     ]
    },
    {
     "name": "stdout",
     "output_type": "stream",
     "text": [
      "\n",
      "      Epoch    GPU_mem   box_loss   cls_loss   dfl_loss  Instances       Size\n"
     ]
    },
    {
     "name": "stderr",
     "output_type": "stream",
     "text": [
      "      7/120      2.08G      2.243      2.613      2.264         18        640: 100%|██████████| 120/120 [00:24<00:00,  4.81it/s]\n",
      "                 Class     Images  Instances      Box(P          R      mAP50  mAP50-95): 100%|██████████| 15/15 [00:02<00:00,  7.06it/s]"
     ]
    },
    {
     "name": "stdout",
     "output_type": "stream",
     "text": [
      "                   all        240        293      0.614    0.00702    0.00203   0.000534\n"
     ]
    },
    {
     "name": "stderr",
     "output_type": "stream",
     "text": [
      "\n"
     ]
    },
    {
     "name": "stdout",
     "output_type": "stream",
     "text": [
      "\n",
      "      Epoch    GPU_mem   box_loss   cls_loss   dfl_loss  Instances       Size\n"
     ]
    },
    {
     "name": "stderr",
     "output_type": "stream",
     "text": [
      "      8/120      2.08G      2.162      2.505       2.23         15        640: 100%|██████████| 120/120 [00:24<00:00,  4.83it/s]\n",
      "                 Class     Images  Instances      Box(P          R      mAP50  mAP50-95): 100%|██████████| 15/15 [00:02<00:00,  5.65it/s]"
     ]
    },
    {
     "name": "stdout",
     "output_type": "stream",
     "text": [
      "                   all        240        293      0.201      0.091   0.000469   0.000174\n"
     ]
    },
    {
     "name": "stderr",
     "output_type": "stream",
     "text": [
      "\n"
     ]
    },
    {
     "name": "stdout",
     "output_type": "stream",
     "text": [
      "\n",
      "      Epoch    GPU_mem   box_loss   cls_loss   dfl_loss  Instances       Size\n"
     ]
    },
    {
     "name": "stderr",
     "output_type": "stream",
     "text": [
      "      9/120      2.16G      2.114      2.431      2.184         17        640: 100%|██████████| 120/120 [00:25<00:00,  4.80it/s]\n",
      "                 Class     Images  Instances      Box(P          R      mAP50  mAP50-95): 100%|██████████| 15/15 [00:02<00:00,  7.01it/s]\n"
     ]
    },
    {
     "name": "stdout",
     "output_type": "stream",
     "text": [
      "                   all        240        293       0.61    0.00702    0.00486    0.00187\n",
      "\n",
      "      Epoch    GPU_mem   box_loss   cls_loss   dfl_loss  Instances       Size\n"
     ]
    },
    {
     "name": "stderr",
     "output_type": "stream",
     "text": [
      "     10/120      2.18G      2.095      2.399      2.121         21        640: 100%|██████████| 120/120 [00:25<00:00,  4.80it/s]\n",
      "                 Class     Images  Instances      Box(P          R      mAP50  mAP50-95): 100%|██████████| 15/15 [00:02<00:00,  6.78it/s]"
     ]
    },
    {
     "name": "stdout",
     "output_type": "stream",
     "text": [
      "                   all        240        293      0.631     0.0105    0.00741    0.00195\n"
     ]
    },
    {
     "name": "stderr",
     "output_type": "stream",
     "text": [
      "\n"
     ]
    },
    {
     "name": "stdout",
     "output_type": "stream",
     "text": [
      "\n",
      "      Epoch    GPU_mem   box_loss   cls_loss   dfl_loss  Instances       Size\n"
     ]
    },
    {
     "name": "stderr",
     "output_type": "stream",
     "text": [
      "     11/120      2.08G      2.066      2.286      2.102         16        640: 100%|██████████| 120/120 [00:24<00:00,  4.82it/s]\n",
      "                 Class     Images  Instances      Box(P          R      mAP50  mAP50-95): 100%|██████████| 15/15 [00:02<00:00,  6.99it/s]"
     ]
    },
    {
     "name": "stdout",
     "output_type": "stream",
     "text": [
      "                   all        240        293       0.61     0.0105    0.00365    0.00127\n"
     ]
    },
    {
     "name": "stderr",
     "output_type": "stream",
     "text": [
      "\n"
     ]
    },
    {
     "name": "stdout",
     "output_type": "stream",
     "text": [
      "\n",
      "      Epoch    GPU_mem   box_loss   cls_loss   dfl_loss  Instances       Size\n"
     ]
    },
    {
     "name": "stderr",
     "output_type": "stream",
     "text": [
      "     12/120       2.1G      2.048      2.228      2.095         14        640: 100%|██████████| 120/120 [00:24<00:00,  4.82it/s]\n",
      "                 Class     Images  Instances      Box(P          R      mAP50  mAP50-95): 100%|██████████| 15/15 [00:02<00:00,  6.48it/s]\n"
     ]
    },
    {
     "name": "stdout",
     "output_type": "stream",
     "text": [
      "                   all        240        293       0.65    0.00351     0.0037    0.00134\n",
      "\n",
      "      Epoch    GPU_mem   box_loss   cls_loss   dfl_loss  Instances       Size\n"
     ]
    },
    {
     "name": "stderr",
     "output_type": "stream",
     "text": [
      "     13/120      2.08G      1.977      2.164       2.04         21        640: 100%|██████████| 120/120 [00:25<00:00,  4.79it/s]\n",
      "                 Class     Images  Instances      Box(P          R      mAP50  mAP50-95): 100%|██████████| 15/15 [00:02<00:00,  7.08it/s]"
     ]
    },
    {
     "name": "stdout",
     "output_type": "stream",
     "text": [
      "                   all        240        293      0.691    0.00702    0.00753    0.00191\n"
     ]
    },
    {
     "name": "stderr",
     "output_type": "stream",
     "text": [
      "\n"
     ]
    },
    {
     "name": "stdout",
     "output_type": "stream",
     "text": [
      "\n",
      "      Epoch    GPU_mem   box_loss   cls_loss   dfl_loss  Instances       Size\n"
     ]
    },
    {
     "name": "stderr",
     "output_type": "stream",
     "text": [
      "     14/120      2.08G       1.95       2.17      2.034         19        640: 100%|██████████| 120/120 [00:24<00:00,  4.80it/s]\n",
      "                 Class     Images  Instances      Box(P          R      mAP50  mAP50-95): 100%|██████████| 15/15 [00:02<00:00,  7.17it/s]"
     ]
    },
    {
     "name": "stdout",
     "output_type": "stream",
     "text": [
      "                   all        240        293      0.607     0.0105    0.00241   0.000722\n"
     ]
    },
    {
     "name": "stderr",
     "output_type": "stream",
     "text": [
      "\n"
     ]
    },
    {
     "name": "stdout",
     "output_type": "stream",
     "text": [
      "\n",
      "      Epoch    GPU_mem   box_loss   cls_loss   dfl_loss  Instances       Size\n"
     ]
    },
    {
     "name": "stderr",
     "output_type": "stream",
     "text": [
      "     15/120      2.08G      1.955      2.102      2.013         21        640: 100%|██████████| 120/120 [00:24<00:00,  4.81it/s]\n",
      "                 Class     Images  Instances      Box(P          R      mAP50  mAP50-95): 100%|██████████| 15/15 [00:02<00:00,  6.97it/s]"
     ]
    },
    {
     "name": "stdout",
     "output_type": "stream",
     "text": [
      "                   all        240        293      0.421     0.0175    0.00557    0.00137\n"
     ]
    },
    {
     "name": "stderr",
     "output_type": "stream",
     "text": [
      "\n"
     ]
    },
    {
     "name": "stdout",
     "output_type": "stream",
     "text": [
      "\n",
      "      Epoch    GPU_mem   box_loss   cls_loss   dfl_loss  Instances       Size\n"
     ]
    },
    {
     "name": "stderr",
     "output_type": "stream",
     "text": [
      "     16/120      2.08G      1.896      1.999      1.948         15        640: 100%|██████████| 120/120 [00:24<00:00,  4.80it/s]\n",
      "                 Class     Images  Instances      Box(P          R      mAP50  mAP50-95): 100%|██████████| 15/15 [00:02<00:00,  7.00it/s]\n"
     ]
    },
    {
     "name": "stdout",
     "output_type": "stream",
     "text": [
      "                   all        240        293      0.403      0.014    0.00208   0.000638\n",
      "\n",
      "      Epoch    GPU_mem   box_loss   cls_loss   dfl_loss  Instances       Size\n"
     ]
    },
    {
     "name": "stderr",
     "output_type": "stream",
     "text": [
      "     17/120      2.08G      1.863      1.988      1.942         19        640: 100%|██████████| 120/120 [00:25<00:00,  4.77it/s]\n",
      "                 Class     Images  Instances      Box(P          R      mAP50  mAP50-95): 100%|██████████| 15/15 [00:02<00:00,  6.50it/s]\n"
     ]
    },
    {
     "name": "stdout",
     "output_type": "stream",
     "text": [
      "                   all        240        293      0.207     0.0172    0.00624    0.00238\n",
      "\n",
      "      Epoch    GPU_mem   box_loss   cls_loss   dfl_loss  Instances       Size\n"
     ]
    },
    {
     "name": "stderr",
     "output_type": "stream",
     "text": [
      "     18/120      2.08G      1.817      1.908      1.857         14        640: 100%|██████████| 120/120 [00:26<00:00,  4.59it/s]\n",
      "                 Class     Images  Instances      Box(P          R      mAP50  mAP50-95): 100%|██████████| 15/15 [00:02<00:00,  6.11it/s]"
     ]
    },
    {
     "name": "stdout",
     "output_type": "stream",
     "text": [
      "                   all        240        293      0.207     0.0203    0.00385    0.00142\n"
     ]
    },
    {
     "name": "stderr",
     "output_type": "stream",
     "text": [
      "\n"
     ]
    },
    {
     "name": "stdout",
     "output_type": "stream",
     "text": [
      "\n",
      "      Epoch    GPU_mem   box_loss   cls_loss   dfl_loss  Instances       Size\n"
     ]
    },
    {
     "name": "stderr",
     "output_type": "stream",
     "text": [
      "     19/120      2.08G      1.792      1.868      1.868         22        640: 100%|██████████| 120/120 [00:25<00:00,  4.67it/s]\n",
      "                 Class     Images  Instances      Box(P          R      mAP50  mAP50-95): 100%|██████████| 15/15 [00:02<00:00,  7.27it/s]"
     ]
    },
    {
     "name": "stdout",
     "output_type": "stream",
     "text": [
      "                   all        240        293      0.423     0.0105    0.00397    0.00174\n"
     ]
    },
    {
     "name": "stderr",
     "output_type": "stream",
     "text": [
      "\n"
     ]
    },
    {
     "name": "stdout",
     "output_type": "stream",
     "text": [
      "\n",
      "      Epoch    GPU_mem   box_loss   cls_loss   dfl_loss  Instances       Size\n"
     ]
    },
    {
     "name": "stderr",
     "output_type": "stream",
     "text": [
      "     20/120      2.18G      1.831      1.894      1.889         15        640: 100%|██████████| 120/120 [00:25<00:00,  4.79it/s]\n",
      "                 Class     Images  Instances      Box(P          R      mAP50  mAP50-95): 100%|██████████| 15/15 [00:02<00:00,  7.00it/s]"
     ]
    },
    {
     "name": "stdout",
     "output_type": "stream",
     "text": [
      "                   all        240        293      0.411      0.014     0.0044    0.00133\n"
     ]
    },
    {
     "name": "stderr",
     "output_type": "stream",
     "text": [
      "\n"
     ]
    },
    {
     "name": "stdout",
     "output_type": "stream",
     "text": [
      "\n",
      "      Epoch    GPU_mem   box_loss   cls_loss   dfl_loss  Instances       Size\n"
     ]
    },
    {
     "name": "stderr",
     "output_type": "stream",
     "text": [
      "     21/120      2.17G      1.829      1.846      1.897         18        640: 100%|██████████| 120/120 [00:24<00:00,  4.86it/s]\n",
      "                 Class     Images  Instances      Box(P          R      mAP50  mAP50-95): 100%|██████████| 15/15 [00:02<00:00,  7.18it/s]"
     ]
    },
    {
     "name": "stdout",
     "output_type": "stream",
     "text": [
      "                   all        240        293      0.418      0.014    0.00509    0.00151\n"
     ]
    },
    {
     "name": "stderr",
     "output_type": "stream",
     "text": [
      "\n"
     ]
    },
    {
     "name": "stdout",
     "output_type": "stream",
     "text": [
      "\n",
      "      Epoch    GPU_mem   box_loss   cls_loss   dfl_loss  Instances       Size\n"
     ]
    },
    {
     "name": "stderr",
     "output_type": "stream",
     "text": [
      "     22/120      2.07G       1.76      1.862      1.868         13        640: 100%|██████████| 120/120 [00:24<00:00,  4.86it/s]\n",
      "                 Class     Images  Instances      Box(P          R      mAP50  mAP50-95): 100%|██████████| 15/15 [00:02<00:00,  7.31it/s]"
     ]
    },
    {
     "name": "stdout",
     "output_type": "stream",
     "text": [
      "                   all        240        293      0.608      0.014    0.00389    0.00107\n"
     ]
    },
    {
     "name": "stderr",
     "output_type": "stream",
     "text": [
      "\n"
     ]
    },
    {
     "name": "stdout",
     "output_type": "stream",
     "text": [
      "\n",
      "      Epoch    GPU_mem   box_loss   cls_loss   dfl_loss  Instances       Size\n"
     ]
    },
    {
     "name": "stderr",
     "output_type": "stream",
     "text": [
      "     23/120      2.18G      1.711      1.765      1.815         14        640: 100%|██████████| 120/120 [00:24<00:00,  4.85it/s]\n",
      "                 Class     Images  Instances      Box(P          R      mAP50  mAP50-95): 100%|██████████| 15/15 [00:02<00:00,  7.16it/s]"
     ]
    },
    {
     "name": "stdout",
     "output_type": "stream",
     "text": [
      "                   all        240        293    0.00692      0.027    0.00391    0.00146\n"
     ]
    },
    {
     "name": "stderr",
     "output_type": "stream",
     "text": [
      "\n"
     ]
    },
    {
     "name": "stdout",
     "output_type": "stream",
     "text": [
      "\n",
      "      Epoch    GPU_mem   box_loss   cls_loss   dfl_loss  Instances       Size\n"
     ]
    },
    {
     "name": "stderr",
     "output_type": "stream",
     "text": [
      "     24/120      2.08G      1.631      1.696      1.739         13        640: 100%|██████████| 120/120 [00:24<00:00,  4.83it/s]\n",
      "                 Class     Images  Instances      Box(P          R      mAP50  mAP50-95): 100%|██████████| 15/15 [00:02<00:00,  6.88it/s]"
     ]
    },
    {
     "name": "stdout",
     "output_type": "stream",
     "text": [
      "                   all        240        293     0.0279     0.0437    0.00643    0.00197\n"
     ]
    },
    {
     "name": "stderr",
     "output_type": "stream",
     "text": [
      "\n"
     ]
    },
    {
     "name": "stdout",
     "output_type": "stream",
     "text": [
      "\n",
      "      Epoch    GPU_mem   box_loss   cls_loss   dfl_loss  Instances       Size\n"
     ]
    },
    {
     "name": "stderr",
     "output_type": "stream",
     "text": [
      "     25/120      2.08G      1.686      1.738      1.774         17        640: 100%|██████████| 120/120 [00:24<00:00,  4.83it/s]\n",
      "                 Class     Images  Instances      Box(P          R      mAP50  mAP50-95): 100%|██████████| 15/15 [00:02<00:00,  7.23it/s]"
     ]
    },
    {
     "name": "stdout",
     "output_type": "stream",
     "text": [
      "                   all        240        293      0.221       0.02    0.00558    0.00171\n"
     ]
    },
    {
     "name": "stderr",
     "output_type": "stream",
     "text": [
      "\n"
     ]
    },
    {
     "name": "stdout",
     "output_type": "stream",
     "text": [
      "\n",
      "      Epoch    GPU_mem   box_loss   cls_loss   dfl_loss  Instances       Size\n"
     ]
    },
    {
     "name": "stderr",
     "output_type": "stream",
     "text": [
      "     26/120      2.18G      1.595      1.613      1.705         19        640: 100%|██████████| 120/120 [00:24<00:00,  4.84it/s]\n",
      "                 Class     Images  Instances      Box(P          R      mAP50  mAP50-95): 100%|██████████| 15/15 [00:02<00:00,  7.16it/s]\n"
     ]
    },
    {
     "name": "stdout",
     "output_type": "stream",
     "text": [
      "                   all        240        293     0.0128     0.0271     0.0066    0.00241\n",
      "\n",
      "      Epoch    GPU_mem   box_loss   cls_loss   dfl_loss  Instances       Size\n"
     ]
    },
    {
     "name": "stderr",
     "output_type": "stream",
     "text": [
      "     27/120      2.18G      1.532      1.575      1.662         18        640: 100%|██████████| 120/120 [00:24<00:00,  4.84it/s]\n",
      "                 Class     Images  Instances      Box(P          R      mAP50  mAP50-95): 100%|██████████| 15/15 [00:02<00:00,  7.15it/s]"
     ]
    },
    {
     "name": "stdout",
     "output_type": "stream",
     "text": [
      "                   all        240        293      0.219     0.0232    0.00539    0.00132\n"
     ]
    },
    {
     "name": "stderr",
     "output_type": "stream",
     "text": [
      "\n"
     ]
    },
    {
     "name": "stdout",
     "output_type": "stream",
     "text": [
      "\n",
      "      Epoch    GPU_mem   box_loss   cls_loss   dfl_loss  Instances       Size\n"
     ]
    },
    {
     "name": "stderr",
     "output_type": "stream",
     "text": [
      "     28/120      2.08G      1.497      1.522      1.623         16        640: 100%|██████████| 120/120 [00:24<00:00,  4.84it/s]\n",
      "                 Class     Images  Instances      Box(P          R      mAP50  mAP50-95): 100%|██████████| 15/15 [00:02<00:00,  7.05it/s]"
     ]
    },
    {
     "name": "stdout",
     "output_type": "stream",
     "text": [
      "                   all        240        293       0.41      0.014    0.00543    0.00186\n"
     ]
    },
    {
     "name": "stderr",
     "output_type": "stream",
     "text": [
      "\n"
     ]
    },
    {
     "name": "stdout",
     "output_type": "stream",
     "text": [
      "\n",
      "      Epoch    GPU_mem   box_loss   cls_loss   dfl_loss  Instances       Size\n"
     ]
    },
    {
     "name": "stderr",
     "output_type": "stream",
     "text": [
      "     29/120      2.08G      1.533      1.549      1.652         19        640: 100%|██████████| 120/120 [00:24<00:00,  4.83it/s]\n",
      "                 Class     Images  Instances      Box(P          R      mAP50  mAP50-95): 100%|██████████| 15/15 [00:02<00:00,  7.25it/s]"
     ]
    },
    {
     "name": "stdout",
     "output_type": "stream",
     "text": [
      "                   all        240        293      0.217     0.0302    0.00918    0.00246\n"
     ]
    },
    {
     "name": "stderr",
     "output_type": "stream",
     "text": [
      "\n"
     ]
    },
    {
     "name": "stdout",
     "output_type": "stream",
     "text": [
      "\n",
      "      Epoch    GPU_mem   box_loss   cls_loss   dfl_loss  Instances       Size\n"
     ]
    },
    {
     "name": "stderr",
     "output_type": "stream",
     "text": [
      "     30/120      2.08G      1.496      1.497      1.628         21        640: 100%|██████████| 120/120 [00:24<00:00,  4.82it/s]\n",
      "                 Class     Images  Instances      Box(P          R      mAP50  mAP50-95): 100%|██████████| 15/15 [00:02<00:00,  7.10it/s]"
     ]
    },
    {
     "name": "stdout",
     "output_type": "stream",
     "text": [
      "                   all        240        293       0.42     0.0334    0.00671     0.0015\n"
     ]
    },
    {
     "name": "stderr",
     "output_type": "stream",
     "text": [
      "\n"
     ]
    },
    {
     "name": "stdout",
     "output_type": "stream",
     "text": [
      "\n",
      "      Epoch    GPU_mem   box_loss   cls_loss   dfl_loss  Instances       Size\n"
     ]
    },
    {
     "name": "stderr",
     "output_type": "stream",
     "text": [
      "     31/120      2.08G      1.513      1.463      1.642         15        640: 100%|██████████| 120/120 [00:24<00:00,  4.85it/s]\n",
      "                 Class     Images  Instances      Box(P          R      mAP50  mAP50-95): 100%|██████████| 15/15 [00:02<00:00,  7.23it/s]"
     ]
    },
    {
     "name": "stdout",
     "output_type": "stream",
     "text": [
      "                   all        240        293     0.0144     0.0298    0.00526    0.00145\n"
     ]
    },
    {
     "name": "stderr",
     "output_type": "stream",
     "text": [
      "\n"
     ]
    },
    {
     "name": "stdout",
     "output_type": "stream",
     "text": [
      "\n",
      "      Epoch    GPU_mem   box_loss   cls_loss   dfl_loss  Instances       Size\n"
     ]
    },
    {
     "name": "stderr",
     "output_type": "stream",
     "text": [
      "     32/120       2.1G      1.583      1.574      1.684         19        640: 100%|██████████| 120/120 [00:24<00:00,  4.83it/s]\n",
      "                 Class     Images  Instances      Box(P          R      mAP50  mAP50-95): 100%|██████████| 15/15 [00:02<00:00,  7.14it/s]"
     ]
    },
    {
     "name": "stdout",
     "output_type": "stream",
     "text": [
      "                   all        240        293    0.00871       0.02    0.00591    0.00236\n"
     ]
    },
    {
     "name": "stderr",
     "output_type": "stream",
     "text": [
      "\n"
     ]
    },
    {
     "name": "stdout",
     "output_type": "stream",
     "text": [
      "\n",
      "      Epoch    GPU_mem   box_loss   cls_loss   dfl_loss  Instances       Size\n"
     ]
    },
    {
     "name": "stderr",
     "output_type": "stream",
     "text": [
      "     33/120      2.07G      1.595       1.61      1.689         16        640: 100%|██████████| 120/120 [00:24<00:00,  4.85it/s]\n",
      "                 Class     Images  Instances      Box(P          R      mAP50  mAP50-95): 100%|██████████| 15/15 [00:02<00:00,  7.21it/s]"
     ]
    },
    {
     "name": "stdout",
     "output_type": "stream",
     "text": [
      "                   all        240        293      0.221     0.0238    0.00562    0.00198\n"
     ]
    },
    {
     "name": "stderr",
     "output_type": "stream",
     "text": [
      "\n"
     ]
    },
    {
     "name": "stdout",
     "output_type": "stream",
     "text": [
      "\n",
      "      Epoch    GPU_mem   box_loss   cls_loss   dfl_loss  Instances       Size\n"
     ]
    },
    {
     "name": "stderr",
     "output_type": "stream",
     "text": [
      "     34/120      2.18G      1.532      1.535      1.656         12        640: 100%|██████████| 120/120 [00:24<00:00,  4.85it/s]\n",
      "                 Class     Images  Instances      Box(P          R      mAP50  mAP50-95): 100%|██████████| 15/15 [00:02<00:00,  7.13it/s]"
     ]
    },
    {
     "name": "stdout",
     "output_type": "stream",
     "text": [
      "                   all        240        293      0.615     0.0105    0.00531    0.00189\n"
     ]
    },
    {
     "name": "stderr",
     "output_type": "stream",
     "text": [
      "\n"
     ]
    },
    {
     "name": "stdout",
     "output_type": "stream",
     "text": [
      "\n",
      "      Epoch    GPU_mem   box_loss   cls_loss   dfl_loss  Instances       Size\n"
     ]
    },
    {
     "name": "stderr",
     "output_type": "stream",
     "text": [
      "     35/120      2.18G       1.46      1.438      1.593         19        640: 100%|██████████| 120/120 [00:24<00:00,  4.83it/s]\n",
      "                 Class     Images  Instances      Box(P          R      mAP50  mAP50-95): 100%|██████████| 15/15 [00:02<00:00,  7.10it/s]\n"
     ]
    },
    {
     "name": "stdout",
     "output_type": "stream",
     "text": [
      "                   all        240        293      0.418     0.0165    0.00605    0.00248\n",
      "\n",
      "      Epoch    GPU_mem   box_loss   cls_loss   dfl_loss  Instances       Size\n"
     ]
    },
    {
     "name": "stderr",
     "output_type": "stream",
     "text": [
      "     36/120       2.1G      1.504      1.448      1.618         17        640: 100%|██████████| 120/120 [00:24<00:00,  4.84it/s]\n",
      "                 Class     Images  Instances      Box(P          R      mAP50  mAP50-95): 100%|██████████| 15/15 [00:02<00:00,  7.32it/s]"
     ]
    },
    {
     "name": "stdout",
     "output_type": "stream",
     "text": [
      "                   all        240        293      0.249       0.02    0.00557    0.00181\n"
     ]
    },
    {
     "name": "stderr",
     "output_type": "stream",
     "text": [
      "\n"
     ]
    },
    {
     "name": "stdout",
     "output_type": "stream",
     "text": [
      "\n",
      "      Epoch    GPU_mem   box_loss   cls_loss   dfl_loss  Instances       Size\n"
     ]
    },
    {
     "name": "stderr",
     "output_type": "stream",
     "text": [
      "     37/120      2.09G      1.442      1.411      1.585         13        640: 100%|██████████| 120/120 [00:24<00:00,  4.81it/s]\n",
      "                 Class     Images  Instances      Box(P          R      mAP50  mAP50-95): 100%|██████████| 15/15 [00:02<00:00,  7.09it/s]"
     ]
    },
    {
     "name": "stdout",
     "output_type": "stream",
     "text": [
      "                   all        240        293     0.0173     0.0268    0.00582    0.00177\n"
     ]
    },
    {
     "name": "stderr",
     "output_type": "stream",
     "text": [
      "\n"
     ]
    },
    {
     "name": "stdout",
     "output_type": "stream",
     "text": [
      "\n",
      "      Epoch    GPU_mem   box_loss   cls_loss   dfl_loss  Instances       Size\n"
     ]
    },
    {
     "name": "stderr",
     "output_type": "stream",
     "text": [
      "     38/120      2.07G      1.432      1.342      1.569         14        640: 100%|██████████| 120/120 [00:24<00:00,  4.85it/s]\n",
      "                 Class     Images  Instances      Box(P          R      mAP50  mAP50-95): 100%|██████████| 15/15 [00:02<00:00,  7.12it/s]"
     ]
    },
    {
     "name": "stdout",
     "output_type": "stream",
     "text": [
      "                   all        240        293      0.225     0.0432    0.00945      0.003\n"
     ]
    },
    {
     "name": "stderr",
     "output_type": "stream",
     "text": [
      "\n"
     ]
    },
    {
     "name": "stdout",
     "output_type": "stream",
     "text": [
      "\n",
      "      Epoch    GPU_mem   box_loss   cls_loss   dfl_loss  Instances       Size\n"
     ]
    },
    {
     "name": "stderr",
     "output_type": "stream",
     "text": [
      "     39/120       2.1G      1.372      1.288      1.525         15        640: 100%|██████████| 120/120 [00:24<00:00,  4.83it/s]\n",
      "                 Class     Images  Instances      Box(P          R      mAP50  mAP50-95): 100%|██████████| 15/15 [00:02<00:00,  6.79it/s]"
     ]
    },
    {
     "name": "stdout",
     "output_type": "stream",
     "text": [
      "                   all        240        293     0.0131     0.0267    0.00387    0.00139\n"
     ]
    },
    {
     "name": "stderr",
     "output_type": "stream",
     "text": [
      "\n"
     ]
    },
    {
     "name": "stdout",
     "output_type": "stream",
     "text": [
      "\n",
      "      Epoch    GPU_mem   box_loss   cls_loss   dfl_loss  Instances       Size\n"
     ]
    },
    {
     "name": "stderr",
     "output_type": "stream",
     "text": [
      "     40/120      2.07G      1.392      1.356      1.544         10        640: 100%|██████████| 120/120 [00:25<00:00,  4.64it/s]\n",
      "                 Class     Images  Instances      Box(P          R      mAP50  mAP50-95): 100%|██████████| 15/15 [00:02<00:00,  6.79it/s]"
     ]
    },
    {
     "name": "stdout",
     "output_type": "stream",
     "text": [
      "                   all        240        293     0.0721      0.033     0.0157    0.00459\n"
     ]
    },
    {
     "name": "stderr",
     "output_type": "stream",
     "text": [
      "\n"
     ]
    },
    {
     "name": "stdout",
     "output_type": "stream",
     "text": [
      "\n",
      "      Epoch    GPU_mem   box_loss   cls_loss   dfl_loss  Instances       Size\n"
     ]
    },
    {
     "name": "stderr",
     "output_type": "stream",
     "text": [
      "     41/120      2.18G      1.344      1.317      1.506         16        640: 100%|██████████| 120/120 [00:25<00:00,  4.74it/s]\n",
      "                 Class     Images  Instances      Box(P          R      mAP50  mAP50-95): 100%|██████████| 15/15 [00:02<00:00,  6.67it/s]"
     ]
    },
    {
     "name": "stdout",
     "output_type": "stream",
     "text": [
      "                   all        240        293      0.121     0.0335    0.00858    0.00353\n"
     ]
    },
    {
     "name": "stderr",
     "output_type": "stream",
     "text": [
      "\n"
     ]
    },
    {
     "name": "stdout",
     "output_type": "stream",
     "text": [
      "\n",
      "      Epoch    GPU_mem   box_loss   cls_loss   dfl_loss  Instances       Size\n"
     ]
    },
    {
     "name": "stderr",
     "output_type": "stream",
     "text": [
      "     42/120       2.1G      1.325      1.254      1.494         16        640: 100%|██████████| 120/120 [00:25<00:00,  4.75it/s]\n",
      "                 Class     Images  Instances      Box(P          R      mAP50  mAP50-95): 100%|██████████| 15/15 [00:02<00:00,  7.02it/s]\n"
     ]
    },
    {
     "name": "stdout",
     "output_type": "stream",
     "text": [
      "                   all        240        293      0.216      0.034     0.0121    0.00443\n",
      "\n",
      "      Epoch    GPU_mem   box_loss   cls_loss   dfl_loss  Instances       Size\n"
     ]
    },
    {
     "name": "stderr",
     "output_type": "stream",
     "text": [
      "     43/120      2.09G      1.305      1.258      1.468         20        640: 100%|██████████| 120/120 [00:25<00:00,  4.72it/s]\n",
      "                 Class     Images  Instances      Box(P          R      mAP50  mAP50-95): 100%|██████████| 15/15 [00:02<00:00,  6.93it/s]"
     ]
    },
    {
     "name": "stdout",
     "output_type": "stream",
     "text": [
      "                   all        240        293      0.038       0.04     0.0116    0.00372\n"
     ]
    },
    {
     "name": "stderr",
     "output_type": "stream",
     "text": [
      "\n"
     ]
    },
    {
     "name": "stdout",
     "output_type": "stream",
     "text": [
      "\n",
      "      Epoch    GPU_mem   box_loss   cls_loss   dfl_loss  Instances       Size\n"
     ]
    },
    {
     "name": "stderr",
     "output_type": "stream",
     "text": [
      "     44/120      2.06G       1.36      1.277      1.524         16        640: 100%|██████████| 120/120 [00:25<00:00,  4.75it/s]\n",
      "                 Class     Images  Instances      Box(P          R      mAP50  mAP50-95): 100%|██████████| 15/15 [00:02<00:00,  6.91it/s]"
     ]
    },
    {
     "name": "stdout",
     "output_type": "stream",
     "text": [
      "                   all        240        293     0.0469     0.0267    0.00811    0.00291\n"
     ]
    },
    {
     "name": "stderr",
     "output_type": "stream",
     "text": [
      "\n"
     ]
    },
    {
     "name": "stdout",
     "output_type": "stream",
     "text": [
      "\n",
      "      Epoch    GPU_mem   box_loss   cls_loss   dfl_loss  Instances       Size\n"
     ]
    },
    {
     "name": "stderr",
     "output_type": "stream",
     "text": [
      "     45/120       2.1G      1.313       1.25      1.459         21        640: 100%|██████████| 120/120 [00:25<00:00,  4.75it/s]\n",
      "                 Class     Images  Instances      Box(P          R      mAP50  mAP50-95): 100%|██████████| 15/15 [00:02<00:00,  6.78it/s]\n"
     ]
    },
    {
     "name": "stdout",
     "output_type": "stream",
     "text": [
      "                   all        240        293      0.155     0.0265     0.0121    0.00456\n",
      "\n",
      "      Epoch    GPU_mem   box_loss   cls_loss   dfl_loss  Instances       Size\n"
     ]
    },
    {
     "name": "stderr",
     "output_type": "stream",
     "text": [
      "     46/120      2.18G      1.319      1.257      1.493         18        640: 100%|██████████| 120/120 [00:25<00:00,  4.74it/s]\n",
      "                 Class     Images  Instances      Box(P          R      mAP50  mAP50-95): 100%|██████████| 15/15 [00:02<00:00,  6.92it/s]"
     ]
    },
    {
     "name": "stdout",
     "output_type": "stream",
     "text": [
      "                   all        240        293     0.0195     0.0397     0.0066    0.00225\n"
     ]
    },
    {
     "name": "stderr",
     "output_type": "stream",
     "text": [
      "\n"
     ]
    },
    {
     "name": "stdout",
     "output_type": "stream",
     "text": [
      "\n",
      "      Epoch    GPU_mem   box_loss   cls_loss   dfl_loss  Instances       Size\n"
     ]
    },
    {
     "name": "stderr",
     "output_type": "stream",
     "text": [
      "     47/120       2.1G      1.247      1.161      1.413         23        640: 100%|██████████| 120/120 [00:25<00:00,  4.76it/s]\n",
      "                 Class     Images  Instances      Box(P          R      mAP50  mAP50-95): 100%|██████████| 15/15 [00:02<00:00,  7.03it/s]"
     ]
    },
    {
     "name": "stdout",
     "output_type": "stream",
     "text": [
      "                   all        240        293      0.421     0.0207    0.00618    0.00183\n"
     ]
    },
    {
     "name": "stderr",
     "output_type": "stream",
     "text": [
      "\n"
     ]
    },
    {
     "name": "stdout",
     "output_type": "stream",
     "text": [
      "\n",
      "      Epoch    GPU_mem   box_loss   cls_loss   dfl_loss  Instances       Size\n"
     ]
    },
    {
     "name": "stderr",
     "output_type": "stream",
     "text": [
      "     48/120      2.16G      1.373       1.26      1.505         19        640: 100%|██████████| 120/120 [00:25<00:00,  4.74it/s]\n",
      "                 Class     Images  Instances      Box(P          R      mAP50  mAP50-95): 100%|██████████| 15/15 [00:02<00:00,  6.79it/s]"
     ]
    },
    {
     "name": "stdout",
     "output_type": "stream",
     "text": [
      "                   all        240        293      0.036      0.027       0.01    0.00245\n"
     ]
    },
    {
     "name": "stderr",
     "output_type": "stream",
     "text": [
      "\n"
     ]
    },
    {
     "name": "stdout",
     "output_type": "stream",
     "text": [
      "\n",
      "      Epoch    GPU_mem   box_loss   cls_loss   dfl_loss  Instances       Size\n"
     ]
    },
    {
     "name": "stderr",
     "output_type": "stream",
     "text": [
      "     49/120      2.08G      1.287      1.221      1.481         10        640: 100%|██████████| 120/120 [00:25<00:00,  4.73it/s]\n",
      "                 Class     Images  Instances      Box(P          R      mAP50  mAP50-95): 100%|██████████| 15/15 [00:02<00:00,  7.08it/s]"
     ]
    },
    {
     "name": "stdout",
     "output_type": "stream",
     "text": [
      "                   all        240        293     0.0266     0.0267    0.00835    0.00221\n"
     ]
    },
    {
     "name": "stderr",
     "output_type": "stream",
     "text": [
      "\n"
     ]
    },
    {
     "name": "stdout",
     "output_type": "stream",
     "text": [
      "\n",
      "      Epoch    GPU_mem   box_loss   cls_loss   dfl_loss  Instances       Size\n"
     ]
    },
    {
     "name": "stderr",
     "output_type": "stream",
     "text": [
      "     50/120      2.18G      1.235      1.143      1.416         18        640: 100%|██████████| 120/120 [00:25<00:00,  4.74it/s]\n",
      "                 Class     Images  Instances      Box(P          R      mAP50  mAP50-95): 100%|██████████| 15/15 [00:02<00:00,  6.77it/s]"
     ]
    },
    {
     "name": "stdout",
     "output_type": "stream",
     "text": [
      "                   all        240        293      0.305     0.0228     0.0154    0.00432\n"
     ]
    },
    {
     "name": "stderr",
     "output_type": "stream",
     "text": [
      "\n"
     ]
    },
    {
     "name": "stdout",
     "output_type": "stream",
     "text": [
      "\n",
      "      Epoch    GPU_mem   box_loss   cls_loss   dfl_loss  Instances       Size\n"
     ]
    },
    {
     "name": "stderr",
     "output_type": "stream",
     "text": [
      "     51/120      2.08G      1.208      1.173      1.423         14        640: 100%|██████████| 120/120 [00:25<00:00,  4.72it/s]\n",
      "                 Class     Images  Instances      Box(P          R      mAP50  mAP50-95): 100%|██████████| 15/15 [00:02<00:00,  6.69it/s]"
     ]
    },
    {
     "name": "stdout",
     "output_type": "stream",
     "text": [
      "                   all        240        293     0.0242      0.037     0.0119    0.00316\n"
     ]
    },
    {
     "name": "stderr",
     "output_type": "stream",
     "text": [
      "\n"
     ]
    },
    {
     "name": "stdout",
     "output_type": "stream",
     "text": [
      "\n",
      "      Epoch    GPU_mem   box_loss   cls_loss   dfl_loss  Instances       Size\n"
     ]
    },
    {
     "name": "stderr",
     "output_type": "stream",
     "text": [
      "     52/120      2.07G      1.197      1.124      1.405         22        640: 100%|██████████| 120/120 [00:25<00:00,  4.71it/s]\n",
      "                 Class     Images  Instances      Box(P          R      mAP50  mAP50-95): 100%|██████████| 15/15 [00:02<00:00,  6.88it/s]"
     ]
    },
    {
     "name": "stdout",
     "output_type": "stream",
     "text": [
      "                   all        240        293     0.0241     0.0526    0.00835    0.00223\n"
     ]
    },
    {
     "name": "stderr",
     "output_type": "stream",
     "text": [
      "\n"
     ]
    },
    {
     "name": "stdout",
     "output_type": "stream",
     "text": [
      "\n",
      "      Epoch    GPU_mem   box_loss   cls_loss   dfl_loss  Instances       Size\n"
     ]
    },
    {
     "name": "stderr",
     "output_type": "stream",
     "text": [
      "     53/120      2.08G      1.175      1.116      1.377         13        640: 100%|██████████| 120/120 [00:25<00:00,  4.74it/s]\n",
      "                 Class     Images  Instances      Box(P          R      mAP50  mAP50-95): 100%|██████████| 15/15 [00:02<00:00,  6.82it/s]"
     ]
    },
    {
     "name": "stdout",
     "output_type": "stream",
     "text": [
      "                   all        240        293     0.0226     0.0456     0.0106    0.00345\n"
     ]
    },
    {
     "name": "stderr",
     "output_type": "stream",
     "text": [
      "\n"
     ]
    },
    {
     "name": "stdout",
     "output_type": "stream",
     "text": [
      "\n",
      "      Epoch    GPU_mem   box_loss   cls_loss   dfl_loss  Instances       Size\n"
     ]
    },
    {
     "name": "stderr",
     "output_type": "stream",
     "text": [
      "     54/120      2.08G      1.129      1.032      1.345         21        640: 100%|██████████| 120/120 [00:25<00:00,  4.74it/s]\n",
      "                 Class     Images  Instances      Box(P          R      mAP50  mAP50-95): 100%|██████████| 15/15 [00:02<00:00,  6.85it/s]"
     ]
    },
    {
     "name": "stdout",
     "output_type": "stream",
     "text": [
      "                   all        240        293     0.0373     0.0423     0.0132     0.0038\n"
     ]
    },
    {
     "name": "stderr",
     "output_type": "stream",
     "text": [
      "\n"
     ]
    },
    {
     "name": "stdout",
     "output_type": "stream",
     "text": [
      "\n",
      "      Epoch    GPU_mem   box_loss   cls_loss   dfl_loss  Instances       Size\n"
     ]
    },
    {
     "name": "stderr",
     "output_type": "stream",
     "text": [
      "     55/120      2.18G      1.155        1.1       1.36         16        640: 100%|██████████| 120/120 [00:25<00:00,  4.69it/s]\n",
      "                 Class     Images  Instances      Box(P          R      mAP50  mAP50-95): 100%|██████████| 15/15 [00:02<00:00,  6.65it/s]"
     ]
    },
    {
     "name": "stdout",
     "output_type": "stream",
     "text": [
      "                   all        240        293     0.0368      0.039     0.0074    0.00241\n"
     ]
    },
    {
     "name": "stderr",
     "output_type": "stream",
     "text": [
      "\n"
     ]
    },
    {
     "name": "stdout",
     "output_type": "stream",
     "text": [
      "\n",
      "      Epoch    GPU_mem   box_loss   cls_loss   dfl_loss  Instances       Size\n"
     ]
    },
    {
     "name": "stderr",
     "output_type": "stream",
     "text": [
      "     56/120      2.08G      1.189      1.094      1.385         18        640: 100%|██████████| 120/120 [00:25<00:00,  4.72it/s]\n",
      "                 Class     Images  Instances      Box(P          R      mAP50  mAP50-95): 100%|██████████| 15/15 [00:02<00:00,  6.75it/s]\n"
     ]
    },
    {
     "name": "stdout",
     "output_type": "stream",
     "text": [
      "                   all        240        293      0.423     0.0197     0.0074    0.00246\n",
      "\n",
      "      Epoch    GPU_mem   box_loss   cls_loss   dfl_loss  Instances       Size\n"
     ]
    },
    {
     "name": "stderr",
     "output_type": "stream",
     "text": [
      "     57/120      2.09G      1.126      1.051       1.35         15        640: 100%|██████████| 120/120 [00:25<00:00,  4.74it/s]\n",
      "                 Class     Images  Instances      Box(P          R      mAP50  mAP50-95): 100%|██████████| 15/15 [00:02<00:00,  6.94it/s]"
     ]
    },
    {
     "name": "stdout",
     "output_type": "stream",
     "text": [
      "                   all        240        293     0.0502     0.0427    0.00941     0.0029\n"
     ]
    },
    {
     "name": "stderr",
     "output_type": "stream",
     "text": [
      "\n"
     ]
    },
    {
     "name": "stdout",
     "output_type": "stream",
     "text": [
      "\n",
      "      Epoch    GPU_mem   box_loss   cls_loss   dfl_loss  Instances       Size\n"
     ]
    },
    {
     "name": "stderr",
     "output_type": "stream",
     "text": [
      "     58/120      2.08G      1.121      1.032      1.338         20        640: 100%|██████████| 120/120 [00:25<00:00,  4.78it/s]\n",
      "                 Class     Images  Instances      Box(P          R      mAP50  mAP50-95): 100%|██████████| 15/15 [00:02<00:00,  7.08it/s]"
     ]
    },
    {
     "name": "stdout",
     "output_type": "stream",
     "text": [
      "                   all        240        293     0.0338     0.0263    0.00716     0.0024\n"
     ]
    },
    {
     "name": "stderr",
     "output_type": "stream",
     "text": [
      "\n"
     ]
    },
    {
     "name": "stdout",
     "output_type": "stream",
     "text": [
      "\n",
      "      Epoch    GPU_mem   box_loss   cls_loss   dfl_loss  Instances       Size\n"
     ]
    },
    {
     "name": "stderr",
     "output_type": "stream",
     "text": [
      "     59/120      2.07G      1.109      1.026      1.334         19        640: 100%|██████████| 120/120 [00:25<00:00,  4.77it/s]\n",
      "                 Class     Images  Instances      Box(P          R      mAP50  mAP50-95): 100%|██████████| 15/15 [00:02<00:00,  6.90it/s]"
     ]
    },
    {
     "name": "stdout",
     "output_type": "stream",
     "text": [
      "                   all        240        293     0.0365     0.0427      0.012    0.00372\n"
     ]
    },
    {
     "name": "stderr",
     "output_type": "stream",
     "text": [
      "\n"
     ]
    },
    {
     "name": "stdout",
     "output_type": "stream",
     "text": [
      "\n",
      "      Epoch    GPU_mem   box_loss   cls_loss   dfl_loss  Instances       Size\n"
     ]
    },
    {
     "name": "stderr",
     "output_type": "stream",
     "text": [
      "     60/120      2.07G      1.097      1.017      1.324         17        640: 100%|██████████| 120/120 [00:25<00:00,  4.76it/s]\n",
      "                 Class     Images  Instances      Box(P          R      mAP50  mAP50-95): 100%|██████████| 15/15 [00:02<00:00,  6.86it/s]"
     ]
    },
    {
     "name": "stdout",
     "output_type": "stream",
     "text": [
      "                   all        240        293     0.0648     0.0361     0.0122    0.00456\n"
     ]
    },
    {
     "name": "stderr",
     "output_type": "stream",
     "text": [
      "\n"
     ]
    },
    {
     "name": "stdout",
     "output_type": "stream",
     "text": [
      "\n",
      "      Epoch    GPU_mem   box_loss   cls_loss   dfl_loss  Instances       Size\n"
     ]
    },
    {
     "name": "stderr",
     "output_type": "stream",
     "text": [
      "     61/120      2.18G      1.108      1.037      1.349         16        640: 100%|██████████| 120/120 [00:25<00:00,  4.72it/s]\n",
      "                 Class     Images  Instances      Box(P          R      mAP50  mAP50-95): 100%|██████████| 15/15 [00:02<00:00,  7.11it/s]"
     ]
    },
    {
     "name": "stdout",
     "output_type": "stream",
     "text": [
      "                   all        240        293     0.0184     0.0235    0.00728    0.00223\n"
     ]
    },
    {
     "name": "stderr",
     "output_type": "stream",
     "text": [
      "\n"
     ]
    },
    {
     "name": "stdout",
     "output_type": "stream",
     "text": [
      "\n",
      "      Epoch    GPU_mem   box_loss   cls_loss   dfl_loss  Instances       Size\n"
     ]
    },
    {
     "name": "stderr",
     "output_type": "stream",
     "text": [
      "     62/120      2.18G      1.089     0.9885      1.314         21        640: 100%|██████████| 120/120 [00:25<00:00,  4.75it/s]\n",
      "                 Class     Images  Instances      Box(P          R      mAP50  mAP50-95): 100%|██████████| 15/15 [00:02<00:00,  6.78it/s]"
     ]
    },
    {
     "name": "stdout",
     "output_type": "stream",
     "text": [
      "                   all        240        293     0.0505     0.0183    0.00834    0.00301\n"
     ]
    },
    {
     "name": "stderr",
     "output_type": "stream",
     "text": [
      "\n"
     ]
    },
    {
     "name": "stdout",
     "output_type": "stream",
     "text": [
      "\n",
      "      Epoch    GPU_mem   box_loss   cls_loss   dfl_loss  Instances       Size\n"
     ]
    },
    {
     "name": "stderr",
     "output_type": "stream",
     "text": [
      "     63/120      2.08G      1.052     0.9537      1.297         19        640: 100%|██████████| 120/120 [00:25<00:00,  4.74it/s]\n",
      "                 Class     Images  Instances      Box(P          R      mAP50  mAP50-95): 100%|██████████| 15/15 [00:02<00:00,  7.17it/s]"
     ]
    },
    {
     "name": "stdout",
     "output_type": "stream",
     "text": [
      "                   all        240        293     0.0264      0.049    0.00915    0.00293\n"
     ]
    },
    {
     "name": "stderr",
     "output_type": "stream",
     "text": [
      "\n"
     ]
    },
    {
     "name": "stdout",
     "output_type": "stream",
     "text": [
      "\n",
      "      Epoch    GPU_mem   box_loss   cls_loss   dfl_loss  Instances       Size\n"
     ]
    },
    {
     "name": "stderr",
     "output_type": "stream",
     "text": [
      "     64/120       2.1G      1.081      1.015      1.316         14        640: 100%|██████████| 120/120 [00:25<00:00,  4.77it/s]\n",
      "                 Class     Images  Instances      Box(P          R      mAP50  mAP50-95): 100%|██████████| 15/15 [00:02<00:00,  6.71it/s]\n"
     ]
    },
    {
     "name": "stdout",
     "output_type": "stream",
     "text": [
      "                   all        240        293     0.0676     0.0294     0.0117     0.0038\n",
      "\n",
      "      Epoch    GPU_mem   box_loss   cls_loss   dfl_loss  Instances       Size\n"
     ]
    },
    {
     "name": "stderr",
     "output_type": "stream",
     "text": [
      "     65/120      2.08G      1.024     0.9335      1.264         14        640: 100%|██████████| 120/120 [00:25<00:00,  4.75it/s]\n",
      "                 Class     Images  Instances      Box(P          R      mAP50  mAP50-95): 100%|██████████| 15/15 [00:02<00:00,  6.88it/s]"
     ]
    },
    {
     "name": "stdout",
     "output_type": "stream",
     "text": [
      "                   all        240        293     0.0443     0.0298     0.0103    0.00321\n"
     ]
    },
    {
     "name": "stderr",
     "output_type": "stream",
     "text": [
      "\n"
     ]
    },
    {
     "name": "stdout",
     "output_type": "stream",
     "text": [
      "\n",
      "      Epoch    GPU_mem   box_loss   cls_loss   dfl_loss  Instances       Size\n"
     ]
    },
    {
     "name": "stderr",
     "output_type": "stream",
     "text": [
      "     66/120      2.08G      1.019     0.9432      1.275         17        640: 100%|██████████| 120/120 [00:25<00:00,  4.74it/s]\n",
      "                 Class     Images  Instances      Box(P          R      mAP50  mAP50-95): 100%|██████████| 15/15 [00:02<00:00,  6.90it/s]\n"
     ]
    },
    {
     "name": "stdout",
     "output_type": "stream",
     "text": [
      "                   all        240        293     0.0221     0.0232    0.00758    0.00245\n",
      "\n",
      "      Epoch    GPU_mem   box_loss   cls_loss   dfl_loss  Instances       Size\n"
     ]
    },
    {
     "name": "stderr",
     "output_type": "stream",
     "text": [
      "     67/120      2.09G     0.9905     0.9337      1.248         20        640: 100%|██████████| 120/120 [00:25<00:00,  4.75it/s]\n",
      "                 Class     Images  Instances      Box(P          R      mAP50  mAP50-95): 100%|██████████| 15/15 [00:02<00:00,  6.91it/s]"
     ]
    },
    {
     "name": "stdout",
     "output_type": "stream",
     "text": [
      "                   all        240        293     0.0223     0.0291    0.00851    0.00309\n"
     ]
    },
    {
     "name": "stderr",
     "output_type": "stream",
     "text": [
      "\n"
     ]
    },
    {
     "name": "stdout",
     "output_type": "stream",
     "text": [
      "\n",
      "      Epoch    GPU_mem   box_loss   cls_loss   dfl_loss  Instances       Size\n"
     ]
    },
    {
     "name": "stderr",
     "output_type": "stream",
     "text": [
      "     68/120      2.08G      1.026     0.9392      1.268         20        640: 100%|██████████| 120/120 [00:25<00:00,  4.75it/s]\n",
      "                 Class     Images  Instances      Box(P          R      mAP50  mAP50-95): 100%|██████████| 15/15 [00:02<00:00,  6.95it/s]"
     ]
    },
    {
     "name": "stdout",
     "output_type": "stream",
     "text": [
      "                   all        240        293     0.0372     0.0287    0.00856    0.00222\n"
     ]
    },
    {
     "name": "stderr",
     "output_type": "stream",
     "text": [
      "\n"
     ]
    },
    {
     "name": "stdout",
     "output_type": "stream",
     "text": [
      "\n",
      "      Epoch    GPU_mem   box_loss   cls_loss   dfl_loss  Instances       Size\n"
     ]
    },
    {
     "name": "stderr",
     "output_type": "stream",
     "text": [
      "     69/120      2.08G      1.035     0.9328      1.273         15        640: 100%|██████████| 120/120 [00:25<00:00,  4.76it/s]\n",
      "                 Class     Images  Instances      Box(P          R      mAP50  mAP50-95): 100%|██████████| 15/15 [00:02<00:00,  6.69it/s]"
     ]
    },
    {
     "name": "stdout",
     "output_type": "stream",
     "text": [
      "                   all        240        293     0.0197     0.0291     0.0123    0.00501\n"
     ]
    },
    {
     "name": "stderr",
     "output_type": "stream",
     "text": [
      "\n"
     ]
    },
    {
     "name": "stdout",
     "output_type": "stream",
     "text": [
      "\n",
      "      Epoch    GPU_mem   box_loss   cls_loss   dfl_loss  Instances       Size\n"
     ]
    },
    {
     "name": "stderr",
     "output_type": "stream",
     "text": [
      "     70/120      2.18G     0.9904     0.9187      1.258         23        640: 100%|██████████| 120/120 [00:25<00:00,  4.78it/s]\n",
      "                 Class     Images  Instances      Box(P          R      mAP50  mAP50-95): 100%|██████████| 15/15 [00:02<00:00,  6.71it/s]\n"
     ]
    },
    {
     "name": "stdout",
     "output_type": "stream",
     "text": [
      "                   all        240        293     0.0243     0.0548    0.00853    0.00261\n",
      "\n",
      "      Epoch    GPU_mem   box_loss   cls_loss   dfl_loss  Instances       Size\n"
     ]
    },
    {
     "name": "stderr",
     "output_type": "stream",
     "text": [
      "     71/120      2.08G     0.9942     0.9083      1.254         21        640: 100%|██████████| 120/120 [00:25<00:00,  4.73it/s]\n",
      "                 Class     Images  Instances      Box(P          R      mAP50  mAP50-95): 100%|██████████| 15/15 [00:02<00:00,  6.64it/s]"
     ]
    },
    {
     "name": "stdout",
     "output_type": "stream",
     "text": [
      "                   all        240        293     0.0244     0.0324    0.00894    0.00301\n"
     ]
    },
    {
     "name": "stderr",
     "output_type": "stream",
     "text": [
      "\n"
     ]
    },
    {
     "name": "stdout",
     "output_type": "stream",
     "text": [
      "\n",
      "      Epoch    GPU_mem   box_loss   cls_loss   dfl_loss  Instances       Size\n"
     ]
    },
    {
     "name": "stderr",
     "output_type": "stream",
     "text": [
      "     72/120       2.1G     0.9981     0.8801      1.243         13        640: 100%|██████████| 120/120 [00:25<00:00,  4.74it/s]\n",
      "                 Class     Images  Instances      Box(P          R      mAP50  mAP50-95): 100%|██████████| 15/15 [00:02<00:00,  6.84it/s]"
     ]
    },
    {
     "name": "stdout",
     "output_type": "stream",
     "text": [
      "                   all        240        293     0.0285     0.0395    0.00727    0.00242\n"
     ]
    },
    {
     "name": "stderr",
     "output_type": "stream",
     "text": [
      "\n"
     ]
    },
    {
     "name": "stdout",
     "output_type": "stream",
     "text": [
      "\n",
      "      Epoch    GPU_mem   box_loss   cls_loss   dfl_loss  Instances       Size\n"
     ]
    },
    {
     "name": "stderr",
     "output_type": "stream",
     "text": [
      "     73/120      2.07G     0.9553     0.8799      1.231         10        640: 100%|██████████| 120/120 [00:25<00:00,  4.70it/s]\n",
      "                 Class     Images  Instances      Box(P          R      mAP50  mAP50-95): 100%|██████████| 15/15 [00:02<00:00,  6.83it/s]"
     ]
    },
    {
     "name": "stdout",
     "output_type": "stream",
     "text": [
      "                   all        240        293     0.0207     0.0256    0.00525    0.00173\n"
     ]
    },
    {
     "name": "stderr",
     "output_type": "stream",
     "text": [
      "\n"
     ]
    },
    {
     "name": "stdout",
     "output_type": "stream",
     "text": [
      "\n",
      "      Epoch    GPU_mem   box_loss   cls_loss   dfl_loss  Instances       Size\n"
     ]
    },
    {
     "name": "stderr",
     "output_type": "stream",
     "text": [
      "     74/120      2.17G     0.9454     0.8672      1.216         18        640: 100%|██████████| 120/120 [00:25<00:00,  4.75it/s]\n",
      "                 Class     Images  Instances      Box(P          R      mAP50  mAP50-95): 100%|██████████| 15/15 [00:02<00:00,  6.78it/s]\n"
     ]
    },
    {
     "name": "stdout",
     "output_type": "stream",
     "text": [
      "                   all        240        293     0.0145     0.0324    0.00528    0.00182\n",
      "\n",
      "      Epoch    GPU_mem   box_loss   cls_loss   dfl_loss  Instances       Size\n"
     ]
    },
    {
     "name": "stderr",
     "output_type": "stream",
     "text": [
      "     75/120      2.08G     0.9312     0.8711      1.219         12        640: 100%|██████████| 120/120 [00:25<00:00,  4.75it/s]\n",
      "                 Class     Images  Instances      Box(P          R      mAP50  mAP50-95): 100%|██████████| 15/15 [00:02<00:00,  6.90it/s]\n"
     ]
    },
    {
     "name": "stdout",
     "output_type": "stream",
     "text": [
      "                   all        240        293     0.0477     0.0612     0.0133    0.00444\n",
      "\n",
      "      Epoch    GPU_mem   box_loss   cls_loss   dfl_loss  Instances       Size\n"
     ]
    },
    {
     "name": "stderr",
     "output_type": "stream",
     "text": [
      "     76/120      2.17G     0.9652     0.8716      1.213         15        640: 100%|██████████| 120/120 [00:25<00:00,  4.70it/s]\n",
      "                 Class     Images  Instances      Box(P          R      mAP50  mAP50-95): 100%|██████████| 15/15 [00:02<00:00,  6.84it/s]"
     ]
    },
    {
     "name": "stdout",
     "output_type": "stream",
     "text": [
      "                   all        240        293     0.0351     0.0484    0.00944    0.00392\n"
     ]
    },
    {
     "name": "stderr",
     "output_type": "stream",
     "text": [
      "\n"
     ]
    },
    {
     "name": "stdout",
     "output_type": "stream",
     "text": [
      "\n",
      "      Epoch    GPU_mem   box_loss   cls_loss   dfl_loss  Instances       Size\n"
     ]
    },
    {
     "name": "stderr",
     "output_type": "stream",
     "text": [
      "     77/120      2.07G     0.9359     0.8418      1.208         21        640: 100%|██████████| 120/120 [00:25<00:00,  4.74it/s]\n",
      "                 Class     Images  Instances      Box(P          R      mAP50  mAP50-95): 100%|██████████| 15/15 [00:02<00:00,  6.70it/s]\n"
     ]
    },
    {
     "name": "stdout",
     "output_type": "stream",
     "text": [
      "                   all        240        293     0.0332     0.0656    0.00943    0.00363\n",
      "\n",
      "      Epoch    GPU_mem   box_loss   cls_loss   dfl_loss  Instances       Size\n"
     ]
    },
    {
     "name": "stderr",
     "output_type": "stream",
     "text": [
      "     78/120      2.08G     0.9095      0.837      1.193         11        640: 100%|██████████| 120/120 [00:25<00:00,  4.76it/s]\n",
      "                 Class     Images  Instances      Box(P          R      mAP50  mAP50-95): 100%|██████████| 15/15 [00:02<00:00,  6.94it/s]"
     ]
    },
    {
     "name": "stdout",
     "output_type": "stream",
     "text": [
      "                   all        240        293      0.248     0.0361     0.0135    0.00634\n"
     ]
    },
    {
     "name": "stderr",
     "output_type": "stream",
     "text": [
      "\n"
     ]
    },
    {
     "name": "stdout",
     "output_type": "stream",
     "text": [
      "\n",
      "      Epoch    GPU_mem   box_loss   cls_loss   dfl_loss  Instances       Size\n"
     ]
    },
    {
     "name": "stderr",
     "output_type": "stream",
     "text": [
      "     79/120      2.09G      0.888     0.8041      1.181         18        640: 100%|██████████| 120/120 [00:25<00:00,  4.77it/s]\n",
      "                 Class     Images  Instances      Box(P          R      mAP50  mAP50-95): 100%|██████████| 15/15 [00:02<00:00,  6.64it/s]"
     ]
    },
    {
     "name": "stdout",
     "output_type": "stream",
     "text": [
      "                   all        240        293     0.0435     0.0611     0.0123    0.00417\n"
     ]
    },
    {
     "name": "stderr",
     "output_type": "stream",
     "text": [
      "\n"
     ]
    },
    {
     "name": "stdout",
     "output_type": "stream",
     "text": [
      "\n",
      "      Epoch    GPU_mem   box_loss   cls_loss   dfl_loss  Instances       Size\n"
     ]
    },
    {
     "name": "stderr",
     "output_type": "stream",
     "text": [
      "     80/120      2.17G      0.894     0.7919      1.182         14        640: 100%|██████████| 120/120 [00:25<00:00,  4.72it/s]\n",
      "                 Class     Images  Instances      Box(P          R      mAP50  mAP50-95): 100%|██████████| 15/15 [00:02<00:00,  6.89it/s]\n"
     ]
    },
    {
     "name": "stdout",
     "output_type": "stream",
     "text": [
      "                   all        240        293      0.245     0.0421      0.015     0.0052\n",
      "\n",
      "      Epoch    GPU_mem   box_loss   cls_loss   dfl_loss  Instances       Size\n"
     ]
    },
    {
     "name": "stderr",
     "output_type": "stream",
     "text": [
      "     81/120      2.18G     0.9031     0.7914      1.191         16        640: 100%|██████████| 120/120 [00:25<00:00,  4.75it/s]\n",
      "                 Class     Images  Instances      Box(P          R      mAP50  mAP50-95): 100%|██████████| 15/15 [00:02<00:00,  7.01it/s]"
     ]
    },
    {
     "name": "stdout",
     "output_type": "stream",
     "text": [
      "                   all        240        293      0.226     0.0263    0.00957    0.00319\n"
     ]
    },
    {
     "name": "stderr",
     "output_type": "stream",
     "text": [
      "\n"
     ]
    },
    {
     "name": "stdout",
     "output_type": "stream",
     "text": [
      "\n",
      "      Epoch    GPU_mem   box_loss   cls_loss   dfl_loss  Instances       Size\n"
     ]
    },
    {
     "name": "stderr",
     "output_type": "stream",
     "text": [
      "     82/120      2.17G     0.8867     0.8205      1.187         21        640: 100%|██████████| 120/120 [00:25<00:00,  4.79it/s]\n",
      "                 Class     Images  Instances      Box(P          R      mAP50  mAP50-95): 100%|██████████| 15/15 [00:02<00:00,  6.94it/s]"
     ]
    },
    {
     "name": "stdout",
     "output_type": "stream",
     "text": [
      "                   all        240        293     0.0342     0.0543    0.00987    0.00372\n"
     ]
    },
    {
     "name": "stderr",
     "output_type": "stream",
     "text": [
      "\n"
     ]
    },
    {
     "name": "stdout",
     "output_type": "stream",
     "text": [
      "\n",
      "      Epoch    GPU_mem   box_loss   cls_loss   dfl_loss  Instances       Size\n"
     ]
    },
    {
     "name": "stderr",
     "output_type": "stream",
     "text": [
      "     83/120      2.07G     0.8818     0.7952      1.183         18        640: 100%|██████████| 120/120 [00:25<00:00,  4.79it/s]\n",
      "                 Class     Images  Instances      Box(P          R      mAP50  mAP50-95): 100%|██████████| 15/15 [00:02<00:00,  7.11it/s]\n"
     ]
    },
    {
     "name": "stdout",
     "output_type": "stream",
     "text": [
      "                   all        240        293     0.0347     0.0616     0.0132    0.00481\n",
      "\n",
      "      Epoch    GPU_mem   box_loss   cls_loss   dfl_loss  Instances       Size\n"
     ]
    },
    {
     "name": "stderr",
     "output_type": "stream",
     "text": [
      "     84/120      2.07G      0.868     0.7959      1.179         13        640: 100%|██████████| 120/120 [00:24<00:00,  4.82it/s]\n",
      "                 Class     Images  Instances      Box(P          R      mAP50  mAP50-95): 100%|██████████| 15/15 [00:02<00:00,  7.02it/s]"
     ]
    },
    {
     "name": "stdout",
     "output_type": "stream",
     "text": [
      "                   all        240        293     0.0559     0.0326      0.013    0.00518\n"
     ]
    },
    {
     "name": "stderr",
     "output_type": "stream",
     "text": [
      "\n"
     ]
    },
    {
     "name": "stdout",
     "output_type": "stream",
     "text": [
      "\n",
      "      Epoch    GPU_mem   box_loss   cls_loss   dfl_loss  Instances       Size\n"
     ]
    },
    {
     "name": "stderr",
     "output_type": "stream",
     "text": [
      "     85/120      2.08G     0.8615     0.7877      1.155         21        640: 100%|██████████| 120/120 [00:24<00:00,  4.82it/s]\n",
      "                 Class     Images  Instances      Box(P          R      mAP50  mAP50-95): 100%|██████████| 15/15 [00:02<00:00,  7.18it/s]"
     ]
    },
    {
     "name": "stdout",
     "output_type": "stream",
     "text": [
      "                   all        240        293     0.0349     0.0357     0.0143    0.00472\n"
     ]
    },
    {
     "name": "stderr",
     "output_type": "stream",
     "text": [
      "\n"
     ]
    },
    {
     "name": "stdout",
     "output_type": "stream",
     "text": [
      "\n",
      "      Epoch    GPU_mem   box_loss   cls_loss   dfl_loss  Instances       Size\n"
     ]
    },
    {
     "name": "stderr",
     "output_type": "stream",
     "text": [
      "     86/120       2.1G     0.8586      0.792      1.171         22        640: 100%|██████████| 120/120 [00:24<00:00,  4.81it/s]\n",
      "                 Class     Images  Instances      Box(P          R      mAP50  mAP50-95): 100%|██████████| 15/15 [00:02<00:00,  7.09it/s]"
     ]
    },
    {
     "name": "stdout",
     "output_type": "stream",
     "text": [
      "                   all        240        293     0.0393     0.0613     0.0112      0.005\n"
     ]
    },
    {
     "name": "stderr",
     "output_type": "stream",
     "text": [
      "\n"
     ]
    },
    {
     "name": "stdout",
     "output_type": "stream",
     "text": [
      "\n",
      "      Epoch    GPU_mem   box_loss   cls_loss   dfl_loss  Instances       Size\n"
     ]
    },
    {
     "name": "stderr",
     "output_type": "stream",
     "text": [
      "     87/120       2.1G     0.8359       0.77      1.153         20        640: 100%|██████████| 120/120 [00:24<00:00,  4.81it/s]\n",
      "                 Class     Images  Instances      Box(P          R      mAP50  mAP50-95): 100%|██████████| 15/15 [00:02<00:00,  7.04it/s]"
     ]
    },
    {
     "name": "stdout",
     "output_type": "stream",
     "text": [
      "                   all        240        293     0.0285     0.0292     0.0092    0.00342\n"
     ]
    },
    {
     "name": "stderr",
     "output_type": "stream",
     "text": [
      "\n"
     ]
    },
    {
     "name": "stdout",
     "output_type": "stream",
     "text": [
      "\n",
      "      Epoch    GPU_mem   box_loss   cls_loss   dfl_loss  Instances       Size\n"
     ]
    },
    {
     "name": "stderr",
     "output_type": "stream",
     "text": [
      "     88/120      2.08G     0.8293     0.7506      1.143         19        640: 100%|██████████| 120/120 [00:24<00:00,  4.82it/s]\n",
      "                 Class     Images  Instances      Box(P          R      mAP50  mAP50-95): 100%|██████████| 15/15 [00:02<00:00,  6.87it/s]\n"
     ]
    },
    {
     "name": "stdout",
     "output_type": "stream",
     "text": [
      "                   all        240        293     0.0227     0.0637     0.0107    0.00408\n",
      "\n",
      "      Epoch    GPU_mem   box_loss   cls_loss   dfl_loss  Instances       Size\n"
     ]
    },
    {
     "name": "stderr",
     "output_type": "stream",
     "text": [
      "     89/120      2.07G     0.8126     0.7474      1.142         17        640: 100%|██████████| 120/120 [00:25<00:00,  4.79it/s]\n",
      "                 Class     Images  Instances      Box(P          R      mAP50  mAP50-95): 100%|██████████| 15/15 [00:02<00:00,  6.60it/s]"
     ]
    },
    {
     "name": "stdout",
     "output_type": "stream",
     "text": [
      "                   all        240        293     0.0736     0.0323     0.0147    0.00523\n"
     ]
    },
    {
     "name": "stderr",
     "output_type": "stream",
     "text": [
      "\n"
     ]
    },
    {
     "name": "stdout",
     "output_type": "stream",
     "text": [
      "\n",
      "      Epoch    GPU_mem   box_loss   cls_loss   dfl_loss  Instances       Size\n"
     ]
    },
    {
     "name": "stderr",
     "output_type": "stream",
     "text": [
      "     90/120      2.08G     0.8315     0.7719      1.156         20        640: 100%|██████████| 120/120 [00:26<00:00,  4.48it/s]\n",
      "                 Class     Images  Instances      Box(P          R      mAP50  mAP50-95): 100%|██████████| 15/15 [00:02<00:00,  5.93it/s]"
     ]
    },
    {
     "name": "stdout",
     "output_type": "stream",
     "text": [
      "                   all        240        293      0.255     0.0259     0.0146    0.00546\n"
     ]
    },
    {
     "name": "stderr",
     "output_type": "stream",
     "text": [
      "\n"
     ]
    },
    {
     "name": "stdout",
     "output_type": "stream",
     "text": [
      "\n",
      "      Epoch    GPU_mem   box_loss   cls_loss   dfl_loss  Instances       Size\n"
     ]
    },
    {
     "name": "stderr",
     "output_type": "stream",
     "text": [
      "     91/120      2.07G     0.8282     0.7644      1.162         21        640: 100%|██████████| 120/120 [00:27<00:00,  4.42it/s]\n",
      "                 Class     Images  Instances      Box(P          R      mAP50  mAP50-95): 100%|██████████| 15/15 [00:02<00:00,  6.02it/s]"
     ]
    },
    {
     "name": "stdout",
     "output_type": "stream",
     "text": [
      "                   all        240        293     0.0345     0.0409     0.0123    0.00411\n"
     ]
    },
    {
     "name": "stderr",
     "output_type": "stream",
     "text": [
      "\n"
     ]
    },
    {
     "name": "stdout",
     "output_type": "stream",
     "text": [
      "\n",
      "      Epoch    GPU_mem   box_loss   cls_loss   dfl_loss  Instances       Size\n"
     ]
    },
    {
     "name": "stderr",
     "output_type": "stream",
     "text": [
      "     92/120      2.08G     0.8018     0.7417      1.128         22        640: 100%|██████████| 120/120 [00:26<00:00,  4.46it/s]\n",
      "                 Class     Images  Instances      Box(P          R      mAP50  mAP50-95): 100%|██████████| 15/15 [00:02<00:00,  6.07it/s]"
     ]
    },
    {
     "name": "stdout",
     "output_type": "stream",
     "text": [
      "                   all        240        293        0.3     0.0298     0.0156    0.00472\n"
     ]
    },
    {
     "name": "stderr",
     "output_type": "stream",
     "text": [
      "\n"
     ]
    },
    {
     "name": "stdout",
     "output_type": "stream",
     "text": [
      "\n",
      "      Epoch    GPU_mem   box_loss   cls_loss   dfl_loss  Instances       Size\n"
     ]
    },
    {
     "name": "stderr",
     "output_type": "stream",
     "text": [
      "     93/120      2.07G     0.8009     0.7356      1.129         15        640: 100%|██████████| 120/120 [00:26<00:00,  4.56it/s]\n",
      "                 Class     Images  Instances      Box(P          R      mAP50  mAP50-95): 100%|██████████| 15/15 [00:02<00:00,  6.32it/s]"
     ]
    },
    {
     "name": "stdout",
     "output_type": "stream",
     "text": [
      "                   all        240        293     0.0476     0.0675      0.014    0.00502\n"
     ]
    },
    {
     "name": "stderr",
     "output_type": "stream",
     "text": [
      "\n"
     ]
    },
    {
     "name": "stdout",
     "output_type": "stream",
     "text": [
      "\n",
      "      Epoch    GPU_mem   box_loss   cls_loss   dfl_loss  Instances       Size\n"
     ]
    },
    {
     "name": "stderr",
     "output_type": "stream",
     "text": [
      "     94/120      2.08G     0.7703      0.714      1.126         10        640: 100%|██████████| 120/120 [00:25<00:00,  4.62it/s]\n",
      "                 Class     Images  Instances      Box(P          R      mAP50  mAP50-95): 100%|██████████| 15/15 [00:02<00:00,  6.77it/s]\n"
     ]
    },
    {
     "name": "stdout",
     "output_type": "stream",
     "text": [
      "                   all        240        293     0.0206      0.051     0.0116    0.00412\n",
      "\n",
      "      Epoch    GPU_mem   box_loss   cls_loss   dfl_loss  Instances       Size\n"
     ]
    },
    {
     "name": "stderr",
     "output_type": "stream",
     "text": [
      "     95/120      2.08G     0.8266      0.736      1.148         18        640: 100%|██████████| 120/120 [00:26<00:00,  4.61it/s]\n",
      "                 Class     Images  Instances      Box(P          R      mAP50  mAP50-95): 100%|██████████| 15/15 [00:02<00:00,  6.94it/s]"
     ]
    },
    {
     "name": "stdout",
     "output_type": "stream",
     "text": [
      "                   all        240        293     0.0272     0.0386     0.0148    0.00564\n"
     ]
    },
    {
     "name": "stderr",
     "output_type": "stream",
     "text": [
      "\n"
     ]
    },
    {
     "name": "stdout",
     "output_type": "stream",
     "text": [
      "\n",
      "      Epoch    GPU_mem   box_loss   cls_loss   dfl_loss  Instances       Size\n"
     ]
    },
    {
     "name": "stderr",
     "output_type": "stream",
     "text": [
      "     96/120      2.08G     0.8189     0.7476      1.144         13        640: 100%|██████████| 120/120 [00:25<00:00,  4.71it/s]\n",
      "                 Class     Images  Instances      Box(P          R      mAP50  mAP50-95): 100%|██████████| 15/15 [00:02<00:00,  7.08it/s]"
     ]
    },
    {
     "name": "stdout",
     "output_type": "stream",
     "text": [
      "                   all        240        293     0.0442     0.0389     0.0128    0.00466\n"
     ]
    },
    {
     "name": "stderr",
     "output_type": "stream",
     "text": [
      "\n"
     ]
    },
    {
     "name": "stdout",
     "output_type": "stream",
     "text": [
      "\n",
      "      Epoch    GPU_mem   box_loss   cls_loss   dfl_loss  Instances       Size\n"
     ]
    },
    {
     "name": "stderr",
     "output_type": "stream",
     "text": [
      "     97/120      2.17G     0.7746     0.7195      1.123         23        640: 100%|██████████| 120/120 [00:25<00:00,  4.77it/s]\n",
      "                 Class     Images  Instances      Box(P          R      mAP50  mAP50-95): 100%|██████████| 15/15 [00:02<00:00,  6.95it/s]"
     ]
    },
    {
     "name": "stdout",
     "output_type": "stream",
     "text": [
      "                   all        240        293     0.0498     0.0325     0.0159    0.00615\n"
     ]
    },
    {
     "name": "stderr",
     "output_type": "stream",
     "text": [
      "\n"
     ]
    },
    {
     "name": "stdout",
     "output_type": "stream",
     "text": [
      "\n",
      "      Epoch    GPU_mem   box_loss   cls_loss   dfl_loss  Instances       Size\n"
     ]
    },
    {
     "name": "stderr",
     "output_type": "stream",
     "text": [
      "     98/120      2.18G      0.754     0.6771      1.098         16        640: 100%|██████████| 120/120 [00:25<00:00,  4.78it/s]\n",
      "                 Class     Images  Instances      Box(P          R      mAP50  mAP50-95): 100%|██████████| 15/15 [00:02<00:00,  7.09it/s]"
     ]
    },
    {
     "name": "stdout",
     "output_type": "stream",
     "text": [
      "                   all        240        293      0.044     0.0322     0.0123    0.00458\n"
     ]
    },
    {
     "name": "stderr",
     "output_type": "stream",
     "text": [
      "\n"
     ]
    },
    {
     "name": "stdout",
     "output_type": "stream",
     "text": [
      "\n",
      "      Epoch    GPU_mem   box_loss   cls_loss   dfl_loss  Instances       Size\n"
     ]
    },
    {
     "name": "stderr",
     "output_type": "stream",
     "text": [
      "     99/120      2.07G     0.7694      0.679      1.114         15        640: 100%|██████████| 120/120 [00:24<00:00,  4.80it/s]\n",
      "                 Class     Images  Instances      Box(P          R      mAP50  mAP50-95): 100%|██████████| 15/15 [00:02<00:00,  7.05it/s]"
     ]
    },
    {
     "name": "stdout",
     "output_type": "stream",
     "text": [
      "                   all        240        293     0.0403     0.0415     0.0111    0.00434\n"
     ]
    },
    {
     "name": "stderr",
     "output_type": "stream",
     "text": [
      "\n"
     ]
    },
    {
     "name": "stdout",
     "output_type": "stream",
     "text": [
      "\n",
      "      Epoch    GPU_mem   box_loss   cls_loss   dfl_loss  Instances       Size\n"
     ]
    },
    {
     "name": "stderr",
     "output_type": "stream",
     "text": [
      "    100/120      2.08G      0.776     0.7159      1.119         17        640: 100%|██████████| 120/120 [00:25<00:00,  4.79it/s]\n",
      "                 Class     Images  Instances      Box(P          R      mAP50  mAP50-95): 100%|██████████| 15/15 [00:02<00:00,  7.09it/s]\n"
     ]
    },
    {
     "name": "stdout",
     "output_type": "stream",
     "text": [
      "                   all        240        293     0.0276      0.045     0.0132    0.00407\n",
      "\n",
      "      Epoch    GPU_mem   box_loss   cls_loss   dfl_loss  Instances       Size\n"
     ]
    },
    {
     "name": "stderr",
     "output_type": "stream",
     "text": [
      "    101/120      2.09G     0.7523     0.6866      1.107         21        640: 100%|██████████| 120/120 [00:24<00:00,  4.82it/s]\n",
      "                 Class     Images  Instances      Box(P          R      mAP50  mAP50-95): 100%|██████████| 15/15 [00:02<00:00,  6.94it/s]"
     ]
    },
    {
     "name": "stdout",
     "output_type": "stream",
     "text": [
      "                   all        240        293     0.0452     0.0447     0.0129    0.00417\n"
     ]
    },
    {
     "name": "stderr",
     "output_type": "stream",
     "text": [
      "\n"
     ]
    },
    {
     "name": "stdout",
     "output_type": "stream",
     "text": [
      "\n",
      "      Epoch    GPU_mem   box_loss   cls_loss   dfl_loss  Instances       Size\n"
     ]
    },
    {
     "name": "stderr",
     "output_type": "stream",
     "text": [
      "    102/120      2.08G     0.7249     0.6598      1.091         15        640: 100%|██████████| 120/120 [00:25<00:00,  4.79it/s]\n",
      "                 Class     Images  Instances      Box(P          R      mAP50  mAP50-95): 100%|██████████| 15/15 [00:02<00:00,  6.79it/s]"
     ]
    },
    {
     "name": "stdout",
     "output_type": "stream",
     "text": [
      "                   all        240        293     0.0763     0.0328     0.0132    0.00434\n"
     ]
    },
    {
     "name": "stderr",
     "output_type": "stream",
     "text": [
      "\n"
     ]
    },
    {
     "name": "stdout",
     "output_type": "stream",
     "text": [
      "\n",
      "      Epoch    GPU_mem   box_loss   cls_loss   dfl_loss  Instances       Size\n"
     ]
    },
    {
     "name": "stderr",
     "output_type": "stream",
     "text": [
      "    103/120      2.08G     0.7491     0.6832      1.109         12        640: 100%|██████████| 120/120 [00:25<00:00,  4.74it/s]\n",
      "                 Class     Images  Instances      Box(P          R      mAP50  mAP50-95): 100%|██████████| 15/15 [00:02<00:00,  7.07it/s]"
     ]
    },
    {
     "name": "stdout",
     "output_type": "stream",
     "text": [
      "                   all        240        293     0.0885     0.0451      0.013    0.00504\n"
     ]
    },
    {
     "name": "stderr",
     "output_type": "stream",
     "text": [
      "\n"
     ]
    },
    {
     "name": "stdout",
     "output_type": "stream",
     "text": [
      "\n",
      "      Epoch    GPU_mem   box_loss   cls_loss   dfl_loss  Instances       Size\n"
     ]
    },
    {
     "name": "stderr",
     "output_type": "stream",
     "text": [
      "    104/120      2.08G     0.7244     0.6572      1.089         17        640: 100%|██████████| 120/120 [00:26<00:00,  4.53it/s]\n",
      "                 Class     Images  Instances      Box(P          R      mAP50  mAP50-95): 100%|██████████| 15/15 [00:02<00:00,  5.48it/s]"
     ]
    },
    {
     "name": "stdout",
     "output_type": "stream",
     "text": [
      "                   all        240        293     0.0853      0.038     0.0126    0.00501\n"
     ]
    },
    {
     "name": "stderr",
     "output_type": "stream",
     "text": [
      "\n"
     ]
    },
    {
     "name": "stdout",
     "output_type": "stream",
     "text": [
      "\n",
      "      Epoch    GPU_mem   box_loss   cls_loss   dfl_loss  Instances       Size\n"
     ]
    },
    {
     "name": "stderr",
     "output_type": "stream",
     "text": [
      "    105/120      2.09G     0.7159      0.649      1.091         14        640: 100%|██████████| 120/120 [00:27<00:00,  4.34it/s]\n",
      "                 Class     Images  Instances      Box(P          R      mAP50  mAP50-95): 100%|██████████| 15/15 [00:02<00:00,  5.85it/s]"
     ]
    },
    {
     "name": "stdout",
     "output_type": "stream",
     "text": [
      "                   all        240        293     0.0993     0.0414     0.0138    0.00522\n"
     ]
    },
    {
     "name": "stderr",
     "output_type": "stream",
     "text": [
      "\n"
     ]
    },
    {
     "name": "stdout",
     "output_type": "stream",
     "text": [
      "\n",
      "      Epoch    GPU_mem   box_loss   cls_loss   dfl_loss  Instances       Size\n"
     ]
    },
    {
     "name": "stderr",
     "output_type": "stream",
     "text": [
      "    106/120      2.07G     0.7158     0.6518      1.092         12        640: 100%|██████████| 120/120 [00:26<00:00,  4.51it/s]\n",
      "                 Class     Images  Instances      Box(P          R      mAP50  mAP50-95): 100%|██████████| 15/15 [00:02<00:00,  7.12it/s]\n"
     ]
    },
    {
     "name": "stdout",
     "output_type": "stream",
     "text": [
      "                   all        240        293     0.0464     0.0485     0.0156    0.00503\n",
      "\n",
      "      Epoch    GPU_mem   box_loss   cls_loss   dfl_loss  Instances       Size\n"
     ]
    },
    {
     "name": "stderr",
     "output_type": "stream",
     "text": [
      "    107/120      2.07G     0.7077     0.6393      1.081         25        640: 100%|██████████| 120/120 [00:24<00:00,  4.80it/s]\n",
      "                 Class     Images  Instances      Box(P          R      mAP50  mAP50-95): 100%|██████████| 15/15 [00:02<00:00,  7.07it/s]"
     ]
    },
    {
     "name": "stdout",
     "output_type": "stream",
     "text": [
      "                   all        240        293      0.257     0.0246     0.0139    0.00535\n"
     ]
    },
    {
     "name": "stderr",
     "output_type": "stream",
     "text": [
      "\n"
     ]
    },
    {
     "name": "stdout",
     "output_type": "stream",
     "text": [
      "\n",
      "      Epoch    GPU_mem   box_loss   cls_loss   dfl_loss  Instances       Size\n"
     ]
    },
    {
     "name": "stderr",
     "output_type": "stream",
     "text": [
      "    108/120      2.08G     0.6987     0.6325      1.073         15        640: 100%|██████████| 120/120 [00:24<00:00,  4.81it/s]\n",
      "                 Class     Images  Instances      Box(P          R      mAP50  mAP50-95): 100%|██████████| 15/15 [00:02<00:00,  7.01it/s]"
     ]
    },
    {
     "name": "stdout",
     "output_type": "stream",
     "text": [
      "                   all        240        293     0.0311     0.0863      0.013     0.0043\n"
     ]
    },
    {
     "name": "stderr",
     "output_type": "stream",
     "text": [
      "\n"
     ]
    },
    {
     "name": "stdout",
     "output_type": "stream",
     "text": [
      "\n",
      "      Epoch    GPU_mem   box_loss   cls_loss   dfl_loss  Instances       Size\n"
     ]
    },
    {
     "name": "stderr",
     "output_type": "stream",
     "text": [
      "    109/120      2.07G     0.6808     0.6156      1.067         13        640: 100%|██████████| 120/120 [00:25<00:00,  4.79it/s]\n",
      "                 Class     Images  Instances      Box(P          R      mAP50  mAP50-95): 100%|██████████| 15/15 [00:02<00:00,  7.01it/s]"
     ]
    },
    {
     "name": "stdout",
     "output_type": "stream",
     "text": [
      "                   all        240        293     0.0337     0.0738     0.0147    0.00538\n"
     ]
    },
    {
     "name": "stderr",
     "output_type": "stream",
     "text": [
      "\n"
     ]
    },
    {
     "name": "stdout",
     "output_type": "stream",
     "text": [
      "\n",
      "      Epoch    GPU_mem   box_loss   cls_loss   dfl_loss  Instances       Size\n"
     ]
    },
    {
     "name": "stderr",
     "output_type": "stream",
     "text": [
      "    110/120      2.17G     0.6878     0.6436      1.068         15        640: 100%|██████████| 120/120 [00:25<00:00,  4.80it/s]\n",
      "                 Class     Images  Instances      Box(P          R      mAP50  mAP50-95): 100%|██████████| 15/15 [00:02<00:00,  7.05it/s]"
     ]
    },
    {
     "name": "stdout",
     "output_type": "stream",
     "text": [
      "                   all        240        293     0.0508      0.071      0.016    0.00524\n"
     ]
    },
    {
     "name": "stderr",
     "output_type": "stream",
     "text": [
      "\n"
     ]
    },
    {
     "name": "stdout",
     "output_type": "stream",
     "text": [
      "Closing dataloader mosaic\n",
      "\n",
      "      Epoch    GPU_mem   box_loss   cls_loss   dfl_loss  Instances       Size\n"
     ]
    },
    {
     "name": "stderr",
     "output_type": "stream",
     "text": [
      "    111/120      2.08G      1.934      2.285      2.045         11        640: 100%|██████████| 120/120 [00:25<00:00,  4.63it/s]\n",
      "                 Class     Images  Instances      Box(P          R      mAP50  mAP50-95): 100%|██████████| 15/15 [00:02<00:00,  6.42it/s]\n"
     ]
    },
    {
     "name": "stdout",
     "output_type": "stream",
     "text": [
      "                   all        240        293     0.0423     0.0485     0.0126    0.00394\n",
      "\n",
      "      Epoch    GPU_mem   box_loss   cls_loss   dfl_loss  Instances       Size\n"
     ]
    },
    {
     "name": "stderr",
     "output_type": "stream",
     "text": [
      "    112/120      2.07G      1.841      2.123      1.939         13        640: 100%|██████████| 120/120 [00:24<00:00,  4.80it/s]\n",
      "                 Class     Images  Instances      Box(P          R      mAP50  mAP50-95): 100%|██████████| 15/15 [00:02<00:00,  6.81it/s]"
     ]
    },
    {
     "name": "stdout",
     "output_type": "stream",
     "text": [
      "                   all        240        293     0.0457     0.0576     0.0124    0.00444\n"
     ]
    },
    {
     "name": "stderr",
     "output_type": "stream",
     "text": [
      "\n"
     ]
    },
    {
     "name": "stdout",
     "output_type": "stream",
     "text": [
      "\n",
      "      Epoch    GPU_mem   box_loss   cls_loss   dfl_loss  Instances       Size\n"
     ]
    },
    {
     "name": "stderr",
     "output_type": "stream",
     "text": [
      "    113/120      2.18G      1.849      2.065      1.947         14        640: 100%|██████████| 120/120 [00:25<00:00,  4.77it/s]\n",
      "                 Class     Images  Instances      Box(P          R      mAP50  mAP50-95): 100%|██████████| 15/15 [00:02<00:00,  5.33it/s]"
     ]
    },
    {
     "name": "stdout",
     "output_type": "stream",
     "text": [
      "                   all        240        293     0.0608     0.0523     0.0139      0.005\n"
     ]
    },
    {
     "name": "stderr",
     "output_type": "stream",
     "text": [
      "\n"
     ]
    },
    {
     "name": "stdout",
     "output_type": "stream",
     "text": [
      "\n",
      "      Epoch    GPU_mem   box_loss   cls_loss   dfl_loss  Instances       Size\n"
     ]
    },
    {
     "name": "stderr",
     "output_type": "stream",
     "text": [
      "    114/120      2.08G      1.809      1.986      1.891          9        640: 100%|██████████| 120/120 [00:27<00:00,  4.34it/s]\n",
      "                 Class     Images  Instances      Box(P          R      mAP50  mAP50-95): 100%|██████████| 15/15 [00:02<00:00,  5.72it/s]"
     ]
    },
    {
     "name": "stdout",
     "output_type": "stream",
     "text": [
      "                   all        240        293      0.071     0.0444     0.0161    0.00548\n"
     ]
    },
    {
     "name": "stderr",
     "output_type": "stream",
     "text": [
      "\n"
     ]
    },
    {
     "name": "stdout",
     "output_type": "stream",
     "text": [
      "\n",
      "      Epoch    GPU_mem   box_loss   cls_loss   dfl_loss  Instances       Size\n"
     ]
    },
    {
     "name": "stderr",
     "output_type": "stream",
     "text": [
      "    115/120      2.07G      1.784      1.945      1.893         12        640: 100%|██████████| 120/120 [00:25<00:00,  4.73it/s]\n",
      "                 Class     Images  Instances      Box(P          R      mAP50  mAP50-95): 100%|██████████| 15/15 [00:02<00:00,  7.14it/s]"
     ]
    },
    {
     "name": "stdout",
     "output_type": "stream",
     "text": [
      "                   all        240        293     0.0703     0.0615      0.019    0.00744\n"
     ]
    },
    {
     "name": "stderr",
     "output_type": "stream",
     "text": [
      "\n"
     ]
    },
    {
     "name": "stdout",
     "output_type": "stream",
     "text": [
      "\n",
      "      Epoch    GPU_mem   box_loss   cls_loss   dfl_loss  Instances       Size\n"
     ]
    },
    {
     "name": "stderr",
     "output_type": "stream",
     "text": [
      "    116/120      2.08G      1.771      1.914      1.858          9        640: 100%|██████████| 120/120 [00:24<00:00,  4.81it/s]\n",
      "                 Class     Images  Instances      Box(P          R      mAP50  mAP50-95): 100%|██████████| 15/15 [00:02<00:00,  6.97it/s]"
     ]
    },
    {
     "name": "stdout",
     "output_type": "stream",
     "text": [
      "                   all        240        293     0.0522     0.0747     0.0187    0.00734\n"
     ]
    },
    {
     "name": "stderr",
     "output_type": "stream",
     "text": [
      "\n"
     ]
    },
    {
     "name": "stdout",
     "output_type": "stream",
     "text": [
      "\n",
      "      Epoch    GPU_mem   box_loss   cls_loss   dfl_loss  Instances       Size\n"
     ]
    },
    {
     "name": "stderr",
     "output_type": "stream",
     "text": [
      "    117/120      2.08G      1.803      1.937      1.899          8        640: 100%|██████████| 120/120 [00:24<00:00,  4.84it/s]\n",
      "                 Class     Images  Instances      Box(P          R      mAP50  mAP50-95): 100%|██████████| 15/15 [00:02<00:00,  7.03it/s]"
     ]
    },
    {
     "name": "stdout",
     "output_type": "stream",
     "text": [
      "                   all        240        293     0.0398     0.0688      0.019    0.00764\n"
     ]
    },
    {
     "name": "stderr",
     "output_type": "stream",
     "text": [
      "\n"
     ]
    },
    {
     "name": "stdout",
     "output_type": "stream",
     "text": [
      "\n",
      "      Epoch    GPU_mem   box_loss   cls_loss   dfl_loss  Instances       Size\n"
     ]
    },
    {
     "name": "stderr",
     "output_type": "stream",
     "text": [
      "    118/120      2.18G      1.725      1.833       1.83          7        640: 100%|██████████| 120/120 [00:25<00:00,  4.77it/s]\n",
      "                 Class     Images  Instances      Box(P          R      mAP50  mAP50-95): 100%|██████████| 15/15 [00:02<00:00,  6.94it/s]"
     ]
    },
    {
     "name": "stdout",
     "output_type": "stream",
     "text": [
      "                   all        240        293     0.0547     0.0709     0.0188    0.00765\n"
     ]
    },
    {
     "name": "stderr",
     "output_type": "stream",
     "text": [
      "\n"
     ]
    },
    {
     "name": "stdout",
     "output_type": "stream",
     "text": [
      "\n",
      "      Epoch    GPU_mem   box_loss   cls_loss   dfl_loss  Instances       Size\n"
     ]
    },
    {
     "name": "stderr",
     "output_type": "stream",
     "text": [
      "    119/120      2.17G      1.738      1.851      1.847         10        640: 100%|██████████| 120/120 [00:24<00:00,  4.81it/s]\n",
      "                 Class     Images  Instances      Box(P          R      mAP50  mAP50-95): 100%|██████████| 15/15 [00:02<00:00,  7.14it/s]\n"
     ]
    },
    {
     "name": "stdout",
     "output_type": "stream",
     "text": [
      "                   all        240        293      0.059     0.0647     0.0219     0.0093\n",
      "\n",
      "      Epoch    GPU_mem   box_loss   cls_loss   dfl_loss  Instances       Size\n"
     ]
    },
    {
     "name": "stderr",
     "output_type": "stream",
     "text": [
      "    120/120       2.1G      1.716      1.845      1.829         13        640: 100%|██████████| 120/120 [00:25<00:00,  4.76it/s]\n",
      "                 Class     Images  Instances      Box(P          R      mAP50  mAP50-95): 100%|██████████| 15/15 [00:02<00:00,  5.83it/s]"
     ]
    },
    {
     "name": "stdout",
     "output_type": "stream",
     "text": [
      "                   all        240        293     0.0607     0.0809     0.0229    0.00842\n"
     ]
    },
    {
     "name": "stderr",
     "output_type": "stream",
     "text": [
      "\n"
     ]
    },
    {
     "name": "stdout",
     "output_type": "stream",
     "text": [
      "\n",
      "120 epochs completed in 0.954 hours.\n",
      "Optimizer stripped from C:\\Users\\dawoo\\Desktop\\SF7\\coding\\PYTORCH\\project\\detect\\part_damage_detection\\weights\\last.pt, 22.5MB\n",
      "Optimizer stripped from C:\\Users\\dawoo\\Desktop\\SF7\\coding\\PYTORCH\\project\\detect\\part_damage_detection\\weights\\best.pt, 22.5MB\n",
      "\n",
      "Validating C:\\Users\\dawoo\\Desktop\\SF7\\coding\\PYTORCH\\project\\detect\\part_damage_detection\\weights\\best.pt...\n",
      "Ultralytics 8.3.63  Python-3.12.0 torch-2.5.1+cu118 CUDA:0 (NVIDIA GeForce RTX 3050 Laptop GPU, 4096MiB)\n",
      "Model summary (fused): 168 layers, 11,127,519 parameters, 0 gradients, 28.4 GFLOPs\n"
     ]
    },
    {
     "name": "stderr",
     "output_type": "stream",
     "text": [
      "                 Class     Images  Instances      Box(P          R      mAP50  mAP50-95): 100%|██████████| 15/15 [00:02<00:00,  5.71it/s]\n"
     ]
    },
    {
     "name": "stdout",
     "output_type": "stream",
     "text": [
      "                   all        240        293      0.059     0.0647     0.0221    0.00935\n",
      "                    ok         48         48          0          0          0          0\n",
      "         bumper_faulty         53         64     0.0627      0.125     0.0245    0.00997\n",
      "           door_faulty         51         61      0.111     0.0492     0.0499     0.0232\n",
      "         fender_faulty         40         57     0.0792     0.0702     0.0209    0.00818\n",
      "          frame_faulty         48         63     0.0423     0.0794     0.0151    0.00541\n",
      "Speed: 0.5ms preprocess, 4.9ms inference, 0.0ms loss, 1.8ms postprocess per image\n",
      "Results saved to \u001b[1mC:\\Users\\dawoo\\Desktop\\SF7\\coding\\PYTORCH\\project\\detect\\part_damage_detection\u001b[0m\n"
     ]
    }
   ],
   "source": [
    "from ultralytics import YOLO\n",
    "# 모델 로드\n",
    "model = YOLO(\"yolov8s.pt\")\n",
    "\n",
    "# 학습 설정\n",
    "model.train(\n",
    "    data=\"data.yaml\",  # 데이터 설정 파일 경로\n",
    "    epochs=200,  # 에폭 수를 늘려서 더 많은 학습 진행\n",
    "    batch=4,  # 배치 크기 늘리기\n",
    "    imgsz=640,  # 입력 이미지 크기\n",
    "    device=0,  # GPU 사용\n",
    "    workers=3,  # 데이터 로드 병렬 처리 워커 수\n",
    "    project=\"C:\\\\Users\\\\dawoo\\\\Desktop\\\\SF7\\\\coding\\\\PYTORCH\\\\project\\\\detect\",\n",
    "    name=\"part_damage_detection\",\n",
    ")\n",
    "\n",
    "# 학습 완료 후 모델 저장\n",
    "model.save('model_8_s_200_4_958.pt')"
   ]
  },
  {
   "cell_type": "code",
   "execution_count": 39,
   "metadata": {},
   "outputs": [
    {
     "name": "stdout",
     "output_type": "stream",
     "text": [
      "\n",
      "image 1/300 C:\\Users\\dawoo\\desktop\\sf7\\coding\\pytorch\\project\\test\\images\\204_101_10_156cdb63-215b-4855-96b6-67fbc146b609.jpg: 320x640 (no detections), 75.1ms\n",
      "image 2/300 C:\\Users\\dawoo\\desktop\\sf7\\coding\\pytorch\\project\\test\\images\\204_101_10_1a001aec-998d-47a9-b5df-a5fcd7b164ae.jpg: 320x640 (no detections), 11.0ms\n",
      "image 3/300 C:\\Users\\dawoo\\desktop\\sf7\\coding\\pytorch\\project\\test\\images\\204_101_10_1f13f786-cf69-425d-9a8b-0476c0193387.jpg: 288x640 (no detections), 65.0ms\n",
      "image 4/300 C:\\Users\\dawoo\\desktop\\sf7\\coding\\pytorch\\project\\test\\images\\204_101_10_33c0ce7c-7fad-4364-8954-e5f55fca837c.jpg: 320x640 (no detections), 18.0ms\n",
      "image 5/300 C:\\Users\\dawoo\\desktop\\sf7\\coding\\pytorch\\project\\test\\images\\204_101_10_37ed497f-91c0-4163-b145-7392934fe398.jpg: 288x640 (no detections), 12.9ms\n",
      "image 6/300 C:\\Users\\dawoo\\desktop\\sf7\\coding\\pytorch\\project\\test\\images\\204_101_10_4e15e852-4f0c-4eb3-9382-785943894c8c.jpg: 480x640 (no detections), 62.4ms\n",
      "image 7/300 C:\\Users\\dawoo\\desktop\\sf7\\coding\\pytorch\\project\\test\\images\\204_101_10_570bf076-516b-4ad2-8352-0ea2a8784079.jpg: 384x640 (no detections), 105.1ms\n",
      "image 8/300 C:\\Users\\dawoo\\desktop\\sf7\\coding\\pytorch\\project\\test\\images\\204_101_10_814f2bff-c85f-40b8-89a6-bae9a47350ff.jpg: 320x640 (no detections), 42.5ms\n",
      "image 9/300 C:\\Users\\dawoo\\desktop\\sf7\\coding\\pytorch\\project\\test\\images\\204_101_10_95944231-2e8a-46ac-9691-5018a7b28e05.jpg: 320x640 (no detections), 76.0ms\n",
      "image 10/300 C:\\Users\\dawoo\\desktop\\sf7\\coding\\pytorch\\project\\test\\images\\204_101_20_02988387-46e4-4d0e-9ab0-bbede09fd62c.JPG: 384x640 (no detections), 88.4ms\n",
      "image 11/300 C:\\Users\\dawoo\\desktop\\sf7\\coding\\pytorch\\project\\test\\images\\204_101_20_02fc9c73-4646-43a3-bd19-468e188ad9d5.jpg: 320x640 (no detections), 75.0ms\n",
      "image 12/300 C:\\Users\\dawoo\\desktop\\sf7\\coding\\pytorch\\project\\test\\images\\204_101_20_13e91180-40bc-47be-8490-01105a34d1e8.jpg: 288x640 (no detections), 65.5ms\n",
      "image 13/300 C:\\Users\\dawoo\\desktop\\sf7\\coding\\pytorch\\project\\test\\images\\204_101_20_1945d826-3ff0-4703-8cdc-486add0bb18c.jpg: 384x640 (no detections), 86.0ms\n",
      "image 14/300 C:\\Users\\dawoo\\desktop\\sf7\\coding\\pytorch\\project\\test\\images\\204_101_20_19b761b5-715f-45c1-9bd8-f25df3fea0bd.JPG: 384x640 (no detections), 85.3ms\n",
      "image 15/300 C:\\Users\\dawoo\\desktop\\sf7\\coding\\pytorch\\project\\test\\images\\204_101_20_23d910d8-30cf-4ad4-bdc5-dad0155aa629.jpg: 480x640 (no detections), 113.5ms\n",
      "image 16/300 C:\\Users\\dawoo\\desktop\\sf7\\coding\\pytorch\\project\\test\\images\\204_101_20_28bb6856-e9cd-4c5a-97db-eaf19581461b.jpg: 480x640 (no detections), 52.1ms\n",
      "image 17/300 C:\\Users\\dawoo\\desktop\\sf7\\coding\\pytorch\\project\\test\\images\\204_101_20_2948e867-f84b-49ba-9aca-e6b65f1ba10d.jpg: 384x640 (no detections), 40.0ms\n",
      "image 18/300 C:\\Users\\dawoo\\desktop\\sf7\\coding\\pytorch\\project\\test\\images\\204_101_20_333f7355-18a7-4457-bdf7-6eeff0420126.JPG: 384x640 (no detections), 39.0ms\n",
      "image 19/300 C:\\Users\\dawoo\\desktop\\sf7\\coding\\pytorch\\project\\test\\images\\204_101_20_3764c7c3-cc30-4aac-a7f5-335bb0614c72.jpg: 320x640 (no detections), 36.9ms\n",
      "image 20/300 C:\\Users\\dawoo\\desktop\\sf7\\coding\\pytorch\\project\\test\\images\\204_101_20_3c85bab8-cfc4-4561-91c3-d5e1099a4d16.jpg: 384x640 (no detections), 40.0ms\n",
      "image 21/300 C:\\Users\\dawoo\\desktop\\sf7\\coding\\pytorch\\project\\test\\images\\204_101_20_3f49ccf9-3e3c-4be4-b524-50590b87bcc3.jpg: 384x640 (no detections), 86.3ms\n",
      "image 22/300 C:\\Users\\dawoo\\desktop\\sf7\\coding\\pytorch\\project\\test\\images\\204_101_20_426dd292-5ea2-4d56-8248-3bf78f254dfb.jpg: 384x640 (no detections), 84.7ms\n",
      "image 23/300 C:\\Users\\dawoo\\desktop\\sf7\\coding\\pytorch\\project\\test\\images\\204_101_20_5d4c8028-8673-43d4-a242-0d1d4dff29e8.jpg: 480x640 2 bumper_faultys, 114.2ms\n",
      "image 24/300 C:\\Users\\dawoo\\desktop\\sf7\\coding\\pytorch\\project\\test\\images\\204_101_20_6eab3567-9e16-41ab-b2aa-a6bdc221d5f1.jpg: 480x640 (no detections), 52.5ms\n",
      "image 25/300 C:\\Users\\dawoo\\desktop\\sf7\\coding\\pytorch\\project\\test\\images\\204_101_20_7124d72f-6061-4a4d-a9e4-49016ca14d6d.jpg: 384x640 (no detections), 94.4ms\n",
      "image 26/300 C:\\Users\\dawoo\\desktop\\sf7\\coding\\pytorch\\project\\test\\images\\204_101_20_779afb97-a441-4d0f-87b0-ffa63f652d3b.jpg: 384x640 (no detections), 90.0ms\n",
      "image 27/300 C:\\Users\\dawoo\\desktop\\sf7\\coding\\pytorch\\project\\test\\images\\204_101_20_77f7dbc1-4ef9-4ba3-8072-7599a5d801f3.jpg: 384x640 (no detections), 88.0ms\n",
      "image 28/300 C:\\Users\\dawoo\\desktop\\sf7\\coding\\pytorch\\project\\test\\images\\204_101_20_7c181ecf-0304-4035-b872-190c77f6731f.JPG: 384x640 (no detections), 86.0ms\n",
      "image 29/300 C:\\Users\\dawoo\\desktop\\sf7\\coding\\pytorch\\project\\test\\images\\204_101_20_8429ceb0-5743-4639-9998-01856e8e189c.jpg: 480x640 (no detections), 114.3ms\n",
      "image 30/300 C:\\Users\\dawoo\\desktop\\sf7\\coding\\pytorch\\project\\test\\images\\204_101_20_8738532c-46dc-467d-a282-7f5620ce3039.jpg: 480x640 (no detections), 52.6ms\n",
      "image 31/300 C:\\Users\\dawoo\\desktop\\sf7\\coding\\pytorch\\project\\test\\images\\204_101_20_8e31d818-6e37-44cf-a09b-9d96c8d0fa9a.jpg: 384x640 (no detections), 40.0ms\n",
      "image 32/300 C:\\Users\\dawoo\\desktop\\sf7\\coding\\pytorch\\project\\test\\images\\204_101_20_941ca400-32ed-4500-a207-3d249cc1bcd9.jpg: 384x640 (no detections), 39.0ms\n",
      "image 33/300 C:\\Users\\dawoo\\desktop\\sf7\\coding\\pytorch\\project\\test\\images\\204_101_20_99bb0c1e-732a-4710-9fcc-1032056a3f7c.jpg: 480x640 (no detections), 54.0ms\n",
      "image 34/300 C:\\Users\\dawoo\\desktop\\sf7\\coding\\pytorch\\project\\test\\images\\204_101_20_9c3e5a33-ae43-4c59-a251-a991e4f69c88.jpg: 480x640 (no detections), 52.2ms\n",
      "image 35/300 C:\\Users\\dawoo\\desktop\\sf7\\coding\\pytorch\\project\\test\\images\\204_101_20_af9e8414-92f1-474f-a5e5-d842b8a2dfaf.jpg: 384x640 (no detections), 86.0ms\n",
      "image 36/300 C:\\Users\\dawoo\\desktop\\sf7\\coding\\pytorch\\project\\test\\images\\204_101_20_b3099278-3c6b-4b51-b094-0a5638f13790.JPG: 384x640 (no detections), 85.4ms\n",
      "image 37/300 C:\\Users\\dawoo\\desktop\\sf7\\coding\\pytorch\\project\\test\\images\\204_101_20_bdedc509-4f73-40c3-864b-fa547c5740a9.jpg: 384x640 (no detections), 86.0ms\n",
      "image 38/300 C:\\Users\\dawoo\\desktop\\sf7\\coding\\pytorch\\project\\test\\images\\204_101_20_bfdc6077-6b00-4e0f-bcfc-dd413f5575de.jpg: 320x640 (no detections), 74.3ms\n",
      "image 39/300 C:\\Users\\dawoo\\desktop\\sf7\\coding\\pytorch\\project\\test\\images\\204_101_20_c051d092-52d7-4fa3-9e96-0e06f05831b2.jpg: 480x640 (no detections), 114.1ms\n",
      "image 40/300 C:\\Users\\dawoo\\desktop\\sf7\\coding\\pytorch\\project\\test\\images\\204_101_20_c8e1f5f7-78ec-4422-961f-2ba8b39dce54.jpg: 320x640 (no detections), 38.5ms\n",
      "image 41/300 C:\\Users\\dawoo\\desktop\\sf7\\coding\\pytorch\\project\\test\\images\\204_101_20_ca62ad7e-3311-40ab-b32c-1539d3a81dbc.jpg: 480x640 (no detections), 54.2ms\n",
      "image 42/300 C:\\Users\\dawoo\\desktop\\sf7\\coding\\pytorch\\project\\test\\images\\204_101_20_cb2264b0-edff-4ea0-be12-3146f7c03655.jpg: 480x640 (no detections), 112.0ms\n",
      "image 43/300 C:\\Users\\dawoo\\desktop\\sf7\\coding\\pytorch\\project\\test\\images\\204_101_20_cc6d836d-dda8-4818-887c-55f422d205a5.jpg: 320x640 (no detections), 75.0ms\n",
      "image 44/300 C:\\Users\\dawoo\\desktop\\sf7\\coding\\pytorch\\project\\test\\images\\204_101_20_d46cf98f-0c03-4cbb-8c9e-e1c9f3a4a4c4.jpg: 384x640 1 bumper_faulty, 85.4ms\n",
      "image 45/300 C:\\Users\\dawoo\\desktop\\sf7\\coding\\pytorch\\project\\test\\images\\204_101_20_e4758eb9-a8ca-4792-bcaa-cbc564e13c6c.jpg: 320x640 (no detections), 74.2ms\n",
      "image 46/300 C:\\Users\\dawoo\\desktop\\sf7\\coding\\pytorch\\project\\test\\images\\204_101_20_e562470c-a48b-45ec-8eda-856fae823f44.jpg: 384x640 (no detections), 85.0ms\n",
      "image 47/300 C:\\Users\\dawoo\\desktop\\sf7\\coding\\pytorch\\project\\test\\images\\204_101_20_e58d7aea-ed33-4564-991a-b36da5b4aaa9.JPG: 384x640 (no detections), 84.0ms\n",
      "image 48/300 C:\\Users\\dawoo\\desktop\\sf7\\coding\\pytorch\\project\\test\\images\\204_102_10_5f2d2e2c-8c60-408c-b023-1ef7aa04c948.jpg: 320x640 (no detections), 72.3ms\n",
      "image 49/300 C:\\Users\\dawoo\\desktop\\sf7\\coding\\pytorch\\project\\test\\images\\204_102_10_a40aaca9-e00a-469a-86be-316098cd07ab.jpg: 320x640 (no detections), 70.9ms\n",
      "image 50/300 C:\\Users\\dawoo\\desktop\\sf7\\coding\\pytorch\\project\\test\\images\\204_102_10_b79a262d-a63d-47f3-9b11-6fe0bce179de.jpg: 320x640 (no detections), 70.9ms\n",
      "image 51/300 C:\\Users\\dawoo\\desktop\\sf7\\coding\\pytorch\\project\\test\\images\\204_102_20_04ab829d-a113-4d39-b0b1-d9434008d672.jpg: 448x640 (no detections), 106.7ms\n",
      "image 52/300 C:\\Users\\dawoo\\desktop\\sf7\\coding\\pytorch\\project\\test\\images\\204_102_20_060132a6-a65a-46a4-8dab-2ad297d2e347.jpg: 320x640 (no detections), 36.0ms\n",
      "image 53/300 C:\\Users\\dawoo\\desktop\\sf7\\coding\\pytorch\\project\\test\\images\\204_102_20_0ae2dd2d-5da9-44de-a942-2c7f2eaf321d.JPG: 480x640 1 fender_faulty, 52.1ms\n",
      "image 54/300 C:\\Users\\dawoo\\desktop\\sf7\\coding\\pytorch\\project\\test\\images\\204_102_20_0edfabdb-3d30-4b46-9ea2-2f858ec738a2.jpg: 384x640 (no detections), 41.0ms\n",
      "image 55/300 C:\\Users\\dawoo\\desktop\\sf7\\coding\\pytorch\\project\\test\\images\\204_102_20_1c9b8f1c-795c-4d5a-8793-64fcc9d9bca7.jpg: 384x640 1 fender_faulty, 39.2ms\n",
      "image 56/300 C:\\Users\\dawoo\\desktop\\sf7\\coding\\pytorch\\project\\test\\images\\204_102_20_1edadd07-2aee-4f08-bfb9-36dbc6c21628.jpg: 384x640 (no detections), 86.1ms\n",
      "image 57/300 C:\\Users\\dawoo\\desktop\\sf7\\coding\\pytorch\\project\\test\\images\\204_102_20_46b2633d-e3fe-420a-b3e9-0dcc04651116.jpg: 480x640 (no detections), 117.2ms\n",
      "image 58/300 C:\\Users\\dawoo\\desktop\\sf7\\coding\\pytorch\\project\\test\\images\\204_102_20_559076e1-8e65-4a4f-b934-7efa4e3eeb29.jpg: 480x640 (no detections), 118.5ms\n",
      "image 59/300 C:\\Users\\dawoo\\desktop\\sf7\\coding\\pytorch\\project\\test\\images\\204_102_20_6cd19d33-a5d0-4468-a12b-be9228a02284.JPG: 480x640 (no detections), 114.4ms\n",
      "image 60/300 C:\\Users\\dawoo\\desktop\\sf7\\coding\\pytorch\\project\\test\\images\\204_102_20_6d626717-3eac-4d1b-a980-266e510dfd15.JPG: 384x640 (no detections), 41.2ms\n",
      "image 61/300 C:\\Users\\dawoo\\desktop\\sf7\\coding\\pytorch\\project\\test\\images\\204_102_20_7acf32cd-113b-4d11-b6a9-6087528666b4.jpg: 384x640 (no detections), 40.0ms\n",
      "image 62/300 C:\\Users\\dawoo\\desktop\\sf7\\coding\\pytorch\\project\\test\\images\\204_102_20_8b2e629a-403d-49ec-97f3-67c71683685b.JPG: 384x640 (no detections), 40.5ms\n",
      "image 63/300 C:\\Users\\dawoo\\desktop\\sf7\\coding\\pytorch\\project\\test\\images\\204_102_20_95b6a695-ff30-47bd-9857-746cd0228a78.jpg: 384x640 (no detections), 40.0ms\n",
      "image 64/300 C:\\Users\\dawoo\\desktop\\sf7\\coding\\pytorch\\project\\test\\images\\204_102_20_c19435eb-479d-4b3e-b685-17f49f629bc2.jpg: 480x640 (no detections), 55.1ms\n",
      "image 65/300 C:\\Users\\dawoo\\desktop\\sf7\\coding\\pytorch\\project\\test\\images\\204_102_20_caa95157-f7d6-4987-a8fb-9b08e8f49385.jpg: 384x640 (no detections), 87.1ms\n",
      "image 66/300 C:\\Users\\dawoo\\desktop\\sf7\\coding\\pytorch\\project\\test\\images\\204_102_20_cb2c0412-0e78-427d-a01a-771ff025d17f.jpg: 288x640 (no detections), 67.0ms\n",
      "image 67/300 C:\\Users\\dawoo\\desktop\\sf7\\coding\\pytorch\\project\\test\\images\\204_102_20_db2da8b1-1e7e-4b49-a915-9ce6422cafa0.jpg: 480x640 (no detections), 120.1ms\n",
      "image 68/300 C:\\Users\\dawoo\\desktop\\sf7\\coding\\pytorch\\project\\test\\images\\204_102_20_e1ffc3a6-3fbe-419b-8399-db9eed0e2d7e.JPEG: 384x640 (no detections), 92.1ms\n",
      "image 69/300 C:\\Users\\dawoo\\desktop\\sf7\\coding\\pytorch\\project\\test\\images\\204_102_20_e46bc3a4-0cad-448d-9f97-1fea8e76f8e4.JPG: 480x640 (no detections), 119.4ms\n",
      "image 70/300 C:\\Users\\dawoo\\desktop\\sf7\\coding\\pytorch\\project\\test\\images\\204_102_20_ec504279-3734-4132-babe-15f005e9acc0.jpg: 480x640 (no detections), 111.7ms\n",
      "image 71/300 C:\\Users\\dawoo\\desktop\\sf7\\coding\\pytorch\\project\\test\\images\\204_102_20_f21e3fca-441a-470d-b4c6-7f19dfb19160.jpg: 320x640 (no detections), 74.0ms\n",
      "image 72/300 C:\\Users\\dawoo\\desktop\\sf7\\coding\\pytorch\\project\\test\\images\\205_101_10_0a4032d1-888a-4857-99af-601146fdd784.jpg: 480x640 (no detections), 113.1ms\n",
      "image 73/300 C:\\Users\\dawoo\\desktop\\sf7\\coding\\pytorch\\project\\test\\images\\205_101_10_0c58cc22-cdd5-4ecb-930c-07a9fe84e0a2.jpg: 320x640 (no detections), 36.1ms\n",
      "image 74/300 C:\\Users\\dawoo\\desktop\\sf7\\coding\\pytorch\\project\\test\\images\\205_101_10_31117839-200a-4bbc-95de-5f1038a82222.jpg: 288x640 (no detections), 30.9ms\n",
      "image 75/300 C:\\Users\\dawoo\\desktop\\sf7\\coding\\pytorch\\project\\test\\images\\205_101_10_3172a7d2-9799-4985-8e08-2c9d13ac052e.jpg: 320x640 (no detections), 36.1ms\n",
      "image 76/300 C:\\Users\\dawoo\\desktop\\sf7\\coding\\pytorch\\project\\test\\images\\205_101_10_448a630d-f4bf-486a-9849-c5ae68bc81bf.jpg: 384x640 (no detections), 40.0ms\n",
      "image 77/300 C:\\Users\\dawoo\\desktop\\sf7\\coding\\pytorch\\project\\test\\images\\205_101_10_4ee6d443-2ec3-4585-bd4d-76149469a63a.jpg: 384x640 1 bumper_faulty, 39.0ms\n",
      "image 78/300 C:\\Users\\dawoo\\desktop\\sf7\\coding\\pytorch\\project\\test\\images\\205_101_10_5f0a764d-5559-4ac0-836d-a9dd75b9d8b5.jpg: 320x640 (no detections), 37.0ms\n",
      "image 79/300 C:\\Users\\dawoo\\desktop\\sf7\\coding\\pytorch\\project\\test\\images\\205_101_10_821971bd-833b-47ba-b9fc-55f7ccc5cc95.jpg: 480x640 (no detections), 88.0ms\n",
      "image 80/300 C:\\Users\\dawoo\\desktop\\sf7\\coding\\pytorch\\project\\test\\images\\205_101_10_9462d520-e8d3-458a-96b2-75fb5e359602.jpg: 320x640 (no detections), 76.2ms\n",
      "image 81/300 C:\\Users\\dawoo\\desktop\\sf7\\coding\\pytorch\\project\\test\\images\\205_101_10_95adca26-d577-4b9e-8921-7591b63ad410.jpg: 384x640 (no detections), 91.1ms\n",
      "image 82/300 C:\\Users\\dawoo\\desktop\\sf7\\coding\\pytorch\\project\\test\\images\\205_101_10_9992b5bb-db40-482f-b9a5-0d4ac315c221.jpg: 288x640 (no detections), 66.1ms\n",
      "image 83/300 C:\\Users\\dawoo\\desktop\\sf7\\coding\\pytorch\\project\\test\\images\\205_101_10_a4b71e7c-cd79-4232-bb2b-338a2e727ac7.jpg: 384x640 (no detections), 86.0ms\n",
      "image 84/300 C:\\Users\\dawoo\\desktop\\sf7\\coding\\pytorch\\project\\test\\images\\205_101_10_b0b1d9be-12ea-4995-9fa1-8833c5986b78.jpg: 480x640 (no detections), 114.5ms\n",
      "image 85/300 C:\\Users\\dawoo\\desktop\\sf7\\coding\\pytorch\\project\\test\\images\\205_101_10_bb12f069-c4e3-43cb-a5ad-38d2812f5c58.jpg: 288x640 (no detections), 63.8ms\n",
      "image 86/300 C:\\Users\\dawoo\\desktop\\sf7\\coding\\pytorch\\project\\test\\images\\205_101_10_e9657c25-17fd-48ef-a259-569442baa1c4.jpg: 320x640 (no detections), 74.5ms\n",
      "image 87/300 C:\\Users\\dawoo\\desktop\\sf7\\coding\\pytorch\\project\\test\\images\\205_101_10_f95ca14b-6adb-496d-bac8-9f51697f1228.jpg: 384x640 (no detections), 85.0ms\n",
      "image 88/300 C:\\Users\\dawoo\\desktop\\sf7\\coding\\pytorch\\project\\test\\images\\205_101_20_0d6a2dc0-10d2-4816-b9ce-70de96a99a73.jpg: 480x640 (no detections), 113.0ms\n",
      "image 89/300 C:\\Users\\dawoo\\desktop\\sf7\\coding\\pytorch\\project\\test\\images\\205_101_20_0f7e8b6d-11ee-4ab0-9b18-27a0e33b4bf8.jpg: 384x640 2 bumper_faultys, 57.0ms\n",
      "image 90/300 C:\\Users\\dawoo\\desktop\\sf7\\coding\\pytorch\\project\\test\\images\\205_101_20_10c12573-2715-4235-af78-ee8827971cdf.jpg: 320x640 (no detections), 36.0ms\n",
      "image 91/300 C:\\Users\\dawoo\\desktop\\sf7\\coding\\pytorch\\project\\test\\images\\205_101_20_132445b3-1d7e-4b08-81b3-15aba31eeca3.JPG: 480x640 (no detections), 52.0ms\n",
      "image 92/300 C:\\Users\\dawoo\\desktop\\sf7\\coding\\pytorch\\project\\test\\images\\205_101_20_148b47e2-a1c8-4729-bba0-1683e5d3d4f9.jpg: 480x640 1 bumper_faulty, 52.0ms\n",
      "image 93/300 C:\\Users\\dawoo\\desktop\\sf7\\coding\\pytorch\\project\\test\\images\\205_101_20_1801294d-4d23-4432-856e-218e61446a1f.jpg: 288x640 (no detections), 31.9ms\n",
      "image 94/300 C:\\Users\\dawoo\\desktop\\sf7\\coding\\pytorch\\project\\test\\images\\205_101_20_195c0c6c-69fb-4acc-ae8d-27227b6ea1a1.jpg: 320x640 (no detections), 74.1ms\n",
      "image 95/300 C:\\Users\\dawoo\\desktop\\sf7\\coding\\pytorch\\project\\test\\images\\205_101_20_1e762bf8-18e1-4bd4-8840-2881f83e53c5.jpg: 288x640 (no detections), 64.2ms\n",
      "image 96/300 C:\\Users\\dawoo\\desktop\\sf7\\coding\\pytorch\\project\\test\\images\\205_101_20_208aa976-6094-4f5c-8147-008f3cb02571.jpg: 320x640 3 bumper_faultys, 75.9ms\n",
      "image 97/300 C:\\Users\\dawoo\\desktop\\sf7\\coding\\pytorch\\project\\test\\images\\205_101_20_22138ef5-1a5c-42ed-bcaa-4ed95b2e63c3.jpg: 320x640 (no detections), 74.0ms\n",
      "image 98/300 C:\\Users\\dawoo\\desktop\\sf7\\coding\\pytorch\\project\\test\\images\\205_101_20_222b9735-3843-4812-b3ad-b9037205440b.jpg: 320x640 1 bumper_faulty, 74.0ms\n",
      "image 99/300 C:\\Users\\dawoo\\desktop\\sf7\\coding\\pytorch\\project\\test\\images\\205_101_20_236ec723-af3c-491c-a2dd-974524fa889a.jpg: 320x640 (no detections), 74.4ms\n",
      "image 100/300 C:\\Users\\dawoo\\desktop\\sf7\\coding\\pytorch\\project\\test\\images\\205_101_20_332b21dd-fa08-4d93-9f75-2bfd90949744.jpg: 288x640 (no detections), 64.0ms\n",
      "image 101/300 C:\\Users\\dawoo\\desktop\\sf7\\coding\\pytorch\\project\\test\\images\\205_101_20_37b62452-edb8-4140-8170-fa287b42ae30.jpg: 480x640 (no detections), 117.0ms\n",
      "image 102/300 C:\\Users\\dawoo\\desktop\\sf7\\coding\\pytorch\\project\\test\\images\\205_101_20_456c9803-f22a-499e-8efc-9da316c7db32.JPG: 384x640 (no detections), 88.1ms\n",
      "image 103/300 C:\\Users\\dawoo\\desktop\\sf7\\coding\\pytorch\\project\\test\\images\\205_101_20_4b8c05ca-5367-4af4-a52e-cf1a4dbb45f8.jpg: 288x640 (no detections), 66.2ms\n",
      "image 104/300 C:\\Users\\dawoo\\desktop\\sf7\\coding\\pytorch\\project\\test\\images\\205_101_20_4e0bfc5b-8945-45cd-bb75-d237beb2f9b3.jpg: 384x640 (no detections), 87.4ms\n",
      "image 105/300 C:\\Users\\dawoo\\desktop\\sf7\\coding\\pytorch\\project\\test\\images\\205_101_20_681cb866-4334-46fb-bf1c-2df11ffecaa8.jpg: 480x640 1 bumper_faulty, 118.0ms\n",
      "image 106/300 C:\\Users\\dawoo\\desktop\\sf7\\coding\\pytorch\\project\\test\\images\\205_101_20_6ed1f52a-6546-4784-9f4f-3ec1cdade1b0.jpg: 480x640 (no detections), 53.0ms\n",
      "image 107/300 C:\\Users\\dawoo\\desktop\\sf7\\coding\\pytorch\\project\\test\\images\\205_101_20_75e81a2d-8fba-46e7-8e3b-5ab895fe9e60.jpg: 480x640 (no detections), 53.1ms\n",
      "image 108/300 C:\\Users\\dawoo\\desktop\\sf7\\coding\\pytorch\\project\\test\\images\\205_101_20_76bd8642-2fec-4dae-a963-69924bf9e566.JPEG: 384x640 (no detections), 42.0ms\n",
      "image 109/300 C:\\Users\\dawoo\\desktop\\sf7\\coding\\pytorch\\project\\test\\images\\205_101_20_791b44fb-7eaa-4590-918c-5379027680c7.jpg: 288x640 (no detections), 33.5ms\n",
      "image 110/300 C:\\Users\\dawoo\\desktop\\sf7\\coding\\pytorch\\project\\test\\images\\205_101_20_797f5d81-2cce-4e60-960b-9d79448c8936.jpg: 480x640 (no detections), 56.0ms\n",
      "image 111/300 C:\\Users\\dawoo\\desktop\\sf7\\coding\\pytorch\\project\\test\\images\\205_101_20_7b2353a0-dbd5-4ea4-811d-933621c21712.jpg: 288x640 1 bumper_faulty, 69.1ms\n",
      "image 112/300 C:\\Users\\dawoo\\desktop\\sf7\\coding\\pytorch\\project\\test\\images\\205_101_20_7d8a2cc1-99b7-4b95-ace2-e562986a8383.jpg: 288x640 (no detections), 69.0ms\n",
      "image 113/300 C:\\Users\\dawoo\\desktop\\sf7\\coding\\pytorch\\project\\test\\images\\205_101_20_7f2995c0-d4bc-497e-a25b-238acd3ffe18.jpg: 320x640 (no detections), 82.0ms\n",
      "image 114/300 C:\\Users\\dawoo\\desktop\\sf7\\coding\\pytorch\\project\\test\\images\\205_101_20_7fea19e6-69f4-402d-8d39-7c9f89ea0055.jpg: 320x640 (no detections), 80.0ms\n",
      "image 115/300 C:\\Users\\dawoo\\desktop\\sf7\\coding\\pytorch\\project\\test\\images\\205_101_20_8ae71814-b913-4dae-a536-503b8752dcbe.jpg: 320x640 (no detections), 79.7ms\n",
      "image 116/300 C:\\Users\\dawoo\\desktop\\sf7\\coding\\pytorch\\project\\test\\images\\205_101_20_8f96d9b9-055a-432f-9212-7a4ad38011ea.jpg: 480x640 (no detections), 122.2ms\n",
      "image 117/300 C:\\Users\\dawoo\\desktop\\sf7\\coding\\pytorch\\project\\test\\images\\205_101_20_918912e5-e3fa-438f-b4ca-d899b5834e07.jpg: 320x640 (no detections), 73.3ms\n",
      "image 118/300 C:\\Users\\dawoo\\desktop\\sf7\\coding\\pytorch\\project\\test\\images\\205_101_20_92691c19-0dae-41f1-bea8-b71d6671c3a4.jpg: 288x640 (no detections), 65.5ms\n",
      "image 119/300 C:\\Users\\dawoo\\desktop\\sf7\\coding\\pytorch\\project\\test\\images\\205_101_20_936f6332-7ba4-4a35-8487-3fc0aa3aa422.jpg: 288x640 (no detections), 62.2ms\n",
      "image 120/300 C:\\Users\\dawoo\\desktop\\sf7\\coding\\pytorch\\project\\test\\images\\205_101_20_960e8273-f5f3-4a30-baf6-e3a445f2535d.jpg: 320x640 (no detections), 74.0ms\n",
      "image 121/300 C:\\Users\\dawoo\\desktop\\sf7\\coding\\pytorch\\project\\test\\images\\205_101_20_9767b740-611f-41c2-b5a2-d6b778f238a2.jpg: 288x640 2 bumper_faultys, 70.0ms\n",
      "image 122/300 C:\\Users\\dawoo\\desktop\\sf7\\coding\\pytorch\\project\\test\\images\\205_101_20_98544049-f391-4c40-a4f9-10c1a56dd17c.JPG: 480x640 (no detections), 123.1ms\n",
      "image 123/300 C:\\Users\\dawoo\\desktop\\sf7\\coding\\pytorch\\project\\test\\images\\205_101_20_a008af73-d2e4-452f-b431-62ca843c15bf.jpg: 320x640 1 bumper_faulty, 74.4ms\n",
      "image 124/300 C:\\Users\\dawoo\\desktop\\sf7\\coding\\pytorch\\project\\test\\images\\205_101_20_b01eac4d-53b0-4459-97c9-3e5399ba901b.jpg: 384x640 (no detections), 86.4ms\n",
      "image 125/300 C:\\Users\\dawoo\\desktop\\sf7\\coding\\pytorch\\project\\test\\images\\205_101_20_b0f357b6-f42d-408e-ad50-8cf1c11fc070.JPG: 384x640 (no detections), 84.2ms\n",
      "image 126/300 C:\\Users\\dawoo\\desktop\\sf7\\coding\\pytorch\\project\\test\\images\\205_101_20_b3900ac1-2562-47db-a216-0301bf23eac9.JPG: 480x640 (no detections), 113.5ms\n",
      "image 127/300 C:\\Users\\dawoo\\desktop\\sf7\\coding\\pytorch\\project\\test\\images\\205_101_20_b72d3d48-93f9-4995-bf5c-c3e105d9dd02.JPG: 480x640 (no detections), 144.9ms\n",
      "image 128/300 C:\\Users\\dawoo\\desktop\\sf7\\coding\\pytorch\\project\\test\\images\\205_101_20_b7bbb077-367e-428d-833c-5f4685222fc9.jpg: 384x640 1 bumper_faulty, 40.0ms\n",
      "image 129/300 C:\\Users\\dawoo\\desktop\\sf7\\coding\\pytorch\\project\\test\\images\\205_101_20_b9f510d8-1195-4050-b3e2-8aecf0002251.jpg: 288x640 (no detections), 31.0ms\n",
      "image 130/300 C:\\Users\\dawoo\\desktop\\sf7\\coding\\pytorch\\project\\test\\images\\205_101_20_bb13741d-772d-4ccd-8265-c2f67ad22ad2.jpg: 320x640 1 bumper_faulty, 40.1ms\n",
      "image 131/300 C:\\Users\\dawoo\\desktop\\sf7\\coding\\pytorch\\project\\test\\images\\205_101_20_bbcbd831-a2b2-4041-8d80-a3a283bdc806.jpg: 320x640 1 bumper_faulty, 76.0ms\n",
      "image 132/300 C:\\Users\\dawoo\\desktop\\sf7\\coding\\pytorch\\project\\test\\images\\205_101_20_bda0a9c0-c029-4b8f-a144-92004814c046.jpg: 384x640 1 bumper_faulty, 87.5ms\n",
      "image 133/300 C:\\Users\\dawoo\\desktop\\sf7\\coding\\pytorch\\project\\test\\images\\205_101_20_bedd6dad-0c52-4850-acf8-6e91b1ecff41.jpg: 384x640 (no detections), 87.1ms\n",
      "image 134/300 C:\\Users\\dawoo\\desktop\\sf7\\coding\\pytorch\\project\\test\\images\\205_101_20_c0ad00ef-c332-4d65-ad7f-bfcae20146a7.jpg: 320x640 1 bumper_faulty, 76.3ms\n",
      "image 135/300 C:\\Users\\dawoo\\desktop\\sf7\\coding\\pytorch\\project\\test\\images\\205_101_20_c0c3bec9-c650-431e-b451-58ee1f940ef6.jpg: 320x640 (no detections), 75.1ms\n",
      "image 136/300 C:\\Users\\dawoo\\desktop\\sf7\\coding\\pytorch\\project\\test\\images\\205_101_20_c1f52da3-9132-4c7a-a34f-d3a7da5d7271.jpg: 480x640 1 bumper_faulty, 121.6ms\n",
      "image 137/300 C:\\Users\\dawoo\\desktop\\sf7\\coding\\pytorch\\project\\test\\images\\205_101_20_c66de6f4-0bb3-4222-b4d4-3c141ba14ffe.jpg: 384x640 (no detections), 83.1ms\n",
      "image 138/300 C:\\Users\\dawoo\\desktop\\sf7\\coding\\pytorch\\project\\test\\images\\205_101_20_cc6dc992-3b24-43d2-9b58-d64f4fe5f6e0.jpg: 384x640 (no detections), 40.0ms\n",
      "image 139/300 C:\\Users\\dawoo\\desktop\\sf7\\coding\\pytorch\\project\\test\\images\\205_101_20_d62403fc-1c11-400e-a360-c7f1dde3b275.JPG: 480x640 2 bumper_faultys, 54.0ms\n",
      "image 140/300 C:\\Users\\dawoo\\desktop\\sf7\\coding\\pytorch\\project\\test\\images\\205_101_20_d7401bb8-5fc3-4ebf-9230-c22d4a963a24.jpg: 320x640 (no detections), 36.0ms\n",
      "image 141/300 C:\\Users\\dawoo\\desktop\\sf7\\coding\\pytorch\\project\\test\\images\\205_101_20_d7504074-f53e-4c44-84ec-636e61f902ac.jpg: 320x640 2 bumper_faultys, 36.0ms\n",
      "image 142/300 C:\\Users\\dawoo\\desktop\\sf7\\coding\\pytorch\\project\\test\\images\\205_101_20_d883545a-0f72-4479-ada9-6e5ef9cea178.jpg: 288x640 (no detections), 32.0ms\n",
      "image 143/300 C:\\Users\\dawoo\\desktop\\sf7\\coding\\pytorch\\project\\test\\images\\205_101_20_d940e72f-6541-425c-be8f-351ce89bcc75.jpg: 480x640 1 bumper_faulty, 119.5ms\n",
      "image 144/300 C:\\Users\\dawoo\\desktop\\sf7\\coding\\pytorch\\project\\test\\images\\205_101_20_da5bb7c3-f004-459e-b4fc-a0ee3f161a2d.jpg: 480x640 (no detections), 109.6ms\n",
      "image 145/300 C:\\Users\\dawoo\\desktop\\sf7\\coding\\pytorch\\project\\test\\images\\205_101_20_e15ea0e8-6df6-4eff-ac3a-b3450f5876be.jpg: 480x640 1 frame_faulty, 108.1ms\n",
      "image 146/300 C:\\Users\\dawoo\\desktop\\sf7\\coding\\pytorch\\project\\test\\images\\205_101_20_e254a0d2-0d92-44b6-89fa-abf34fe49af9.jpg: 320x640 (no detections), 34.0ms\n",
      "image 147/300 C:\\Users\\dawoo\\desktop\\sf7\\coding\\pytorch\\project\\test\\images\\205_101_20_e6a5f318-d9d0-4967-b68c-72fe63cd336b.jpg: 384x640 (no detections), 41.0ms\n",
      "image 148/300 C:\\Users\\dawoo\\desktop\\sf7\\coding\\pytorch\\project\\test\\images\\205_101_20_e8165eaa-ac50-4fdf-8d5b-dcd5a6e6acb2.jpg: 384x640 (no detections), 37.0ms\n",
      "image 149/300 C:\\Users\\dawoo\\desktop\\sf7\\coding\\pytorch\\project\\test\\images\\205_101_20_ea21bc9c-fa65-49fa-840c-47f52d3dc25e.jpg: 480x640 2 bumper_faultys, 124.0ms\n",
      "image 150/300 C:\\Users\\dawoo\\desktop\\sf7\\coding\\pytorch\\project\\test\\images\\205_101_20_ecdbfc7f-e502-4adb-bb3f-540d3662d21d.jpg: 480x640 (no detections), 119.6ms\n",
      "image 151/300 C:\\Users\\dawoo\\desktop\\sf7\\coding\\pytorch\\project\\test\\images\\205_101_20_ee43fe3e-380b-4e00-bd91-c5e00d472d70.jpg: 480x640 1 bumper_faulty, 118.4ms\n",
      "image 152/300 C:\\Users\\dawoo\\desktop\\sf7\\coding\\pytorch\\project\\test\\images\\205_101_20_fca5a6d8-e0e9-429f-ac18-740e3cf3f891.jpg: 288x640 4 bumper_faultys, 65.3ms\n",
      "image 153/300 C:\\Users\\dawoo\\desktop\\sf7\\coding\\pytorch\\project\\test\\images\\205_101_20_fd85d45d-a85c-4f17-9f98-2cdc7def12b9.jpg: 288x640 3 bumper_faultys, 61.4ms\n",
      "image 154/300 C:\\Users\\dawoo\\desktop\\sf7\\coding\\pytorch\\project\\test\\images\\207_102_10_68585959-1d64-43c6-9c67-9446b98d7666.jpg: 320x640 (no detections), 75.2ms\n",
      "image 155/300 C:\\Users\\dawoo\\desktop\\sf7\\coding\\pytorch\\project\\test\\images\\207_102_20_1b203dfd-a9e7-44e1-a099-f34b74fa2144.jpg: 320x640 (no detections), 71.0ms\n",
      "image 156/300 C:\\Users\\dawoo\\desktop\\sf7\\coding\\pytorch\\project\\test\\images\\207_102_20_1eca9bc5-268b-47c8-b2b8-a96add8e4216.jpg: 320x640 (no detections), 70.7ms\n",
      "image 157/300 C:\\Users\\dawoo\\desktop\\sf7\\coding\\pytorch\\project\\test\\images\\207_102_20_1ff96145-6e1f-45cf-9e63-8d566d62f05d.jpg: 320x640 2 frame_faultys, 73.6ms\n",
      "image 158/300 C:\\Users\\dawoo\\desktop\\sf7\\coding\\pytorch\\project\\test\\images\\207_102_20_28ffef45-75c1-49ab-9e23-bad53b42a38d.jpg: 320x640 (no detections), 74.3ms\n",
      "image 159/300 C:\\Users\\dawoo\\desktop\\sf7\\coding\\pytorch\\project\\test\\images\\207_102_20_2de5d3c6-7183-4366-bf4b-a812bbdc625e.jpg: 320x640 1 frame_faulty, 75.0ms\n",
      "image 160/300 C:\\Users\\dawoo\\desktop\\sf7\\coding\\pytorch\\project\\test\\images\\207_102_20_3bff27fb-c000-47c1-a301-5d651c6103cf.jpg: 320x640 (no detections), 77.5ms\n",
      "image 161/300 C:\\Users\\dawoo\\desktop\\sf7\\coding\\pytorch\\project\\test\\images\\207_102_20_70f1ff21-9f8b-4749-866e-46f77fbc729f.jpg: 320x640 1 frame_faulty, 77.0ms\n",
      "image 162/300 C:\\Users\\dawoo\\desktop\\sf7\\coding\\pytorch\\project\\test\\images\\207_102_20_739cb4ae-c563-473a-ab8f-acf4c2908e2b.jpg: 320x640 (no detections), 77.2ms\n",
      "image 163/300 C:\\Users\\dawoo\\desktop\\sf7\\coding\\pytorch\\project\\test\\images\\207_102_20_7535418f-3f5c-44d5-8dc5-ba5b12a9fbdb.jpg: 320x640 (no detections), 77.7ms\n",
      "image 164/300 C:\\Users\\dawoo\\desktop\\sf7\\coding\\pytorch\\project\\test\\images\\207_102_20_c9e7b41f-75b5-483a-a06e-25cc938015f5.jpg: 320x640 (no detections), 78.3ms\n",
      "image 165/300 C:\\Users\\dawoo\\desktop\\sf7\\coding\\pytorch\\project\\test\\images\\207_102_20_c9f3b6b4-66c7-41ae-99d5-a6171cd72144.jpg: 320x640 (no detections), 78.5ms\n",
      "image 166/300 C:\\Users\\dawoo\\desktop\\sf7\\coding\\pytorch\\project\\test\\images\\207_102_20_d804c93b-df56-4cb9-9638-59e319a97c4f.jpg: 320x640 (no detections), 78.0ms\n",
      "image 167/300 C:\\Users\\dawoo\\desktop\\sf7\\coding\\pytorch\\project\\test\\images\\207_204_10_366f36f3-b4db-4970-ba7e-b1e4c2b3afa5.jpg: 320x640 (no detections), 78.0ms\n",
      "image 168/300 C:\\Users\\dawoo\\desktop\\sf7\\coding\\pytorch\\project\\test\\images\\207_204_20_08fe26a2-c6c0-4960-8f45-3c951e5028e9.jpg: 320x640 1 frame_faulty, 77.0ms\n",
      "image 169/300 C:\\Users\\dawoo\\desktop\\sf7\\coding\\pytorch\\project\\test\\images\\207_204_20_094c2f83-4cd5-42a9-b00a-32256ec1ac04.jpg: 320x640 (no detections), 78.1ms\n",
      "image 170/300 C:\\Users\\dawoo\\desktop\\sf7\\coding\\pytorch\\project\\test\\images\\207_204_20_11d2b9b0-6583-4483-bae5-bdb669c8ca47.jpg: 320x640 1 frame_faulty, 77.2ms\n",
      "image 171/300 C:\\Users\\dawoo\\desktop\\sf7\\coding\\pytorch\\project\\test\\images\\207_204_20_37488617-aca9-4321-b999-b26895f0512c.jpg: 320x640 1 frame_faulty, 78.1ms\n",
      "image 172/300 C:\\Users\\dawoo\\desktop\\sf7\\coding\\pytorch\\project\\test\\images\\207_204_20_381f6c8d-9f6a-4310-b070-6bb876b45bda.jpg: 320x640 (no detections), 77.6ms\n",
      "image 173/300 C:\\Users\\dawoo\\desktop\\sf7\\coding\\pytorch\\project\\test\\images\\207_204_20_3bad5400-c1d1-4c31-b033-653fee2230ee.jpg: 320x640 (no detections), 77.5ms\n",
      "image 174/300 C:\\Users\\dawoo\\desktop\\sf7\\coding\\pytorch\\project\\test\\images\\207_204_20_53376b7f-dfaf-4fc5-a1aa-2c5814ab7a28.jpg: 320x640 (no detections), 78.3ms\n",
      "image 175/300 C:\\Users\\dawoo\\desktop\\sf7\\coding\\pytorch\\project\\test\\images\\207_204_20_5652a9e9-3331-4971-8bd6-85624bfae6c5.jpg: 320x640 (no detections), 77.1ms\n",
      "image 176/300 C:\\Users\\dawoo\\desktop\\sf7\\coding\\pytorch\\project\\test\\images\\207_204_20_5ca05524-cf13-446f-80c8-16f35c41f6c7.jpg: 320x640 (no detections), 77.9ms\n",
      "image 177/300 C:\\Users\\dawoo\\desktop\\sf7\\coding\\pytorch\\project\\test\\images\\207_204_20_6e77affe-cf3e-45fc-8672-f037c0a1efe9.jpg: 320x640 1 frame_faulty, 78.0ms\n",
      "image 178/300 C:\\Users\\dawoo\\desktop\\sf7\\coding\\pytorch\\project\\test\\images\\207_204_20_71399f05-b087-4229-aac3-b24f1aea0856.jpg: 320x640 (no detections), 77.5ms\n",
      "image 179/300 C:\\Users\\dawoo\\desktop\\sf7\\coding\\pytorch\\project\\test\\images\\207_204_20_77fbc084-8b6a-46f7-a9f8-d7dc340c42e8.jpg: 320x640 (no detections), 77.0ms\n",
      "image 180/300 C:\\Users\\dawoo\\desktop\\sf7\\coding\\pytorch\\project\\test\\images\\207_204_20_9b25d273-aa2b-4840-9e64-79ef0a0c3bc9.jpg: 320x640 (no detections), 77.8ms\n",
      "image 181/300 C:\\Users\\dawoo\\desktop\\sf7\\coding\\pytorch\\project\\test\\images\\207_204_20_9dccff46-5e07-4786-9dd0-9a214ec6442b.jpg: 320x640 (no detections), 77.0ms\n",
      "image 182/300 C:\\Users\\dawoo\\desktop\\sf7\\coding\\pytorch\\project\\test\\images\\207_204_20_a9ebedf9-8bd5-4e43-ba61-62d2446d5417.jpg: 320x640 (no detections), 77.6ms\n",
      "image 183/300 C:\\Users\\dawoo\\desktop\\sf7\\coding\\pytorch\\project\\test\\images\\207_204_20_b60c31f9-ba7e-4cf5-9d5f-16def72e02cd.jpg: 320x640 3 frame_faultys, 77.8ms\n",
      "image 184/300 C:\\Users\\dawoo\\desktop\\sf7\\coding\\pytorch\\project\\test\\images\\207_204_20_cf05926c-93f5-47e7-afa7-6f36c69c72dc.jpg: 320x640 (no detections), 78.0ms\n",
      "image 185/300 C:\\Users\\dawoo\\desktop\\sf7\\coding\\pytorch\\project\\test\\images\\207_204_20_d3532af8-6160-4fa5-ac49-53d015139694.jpg: 320x640 (no detections), 77.3ms\n",
      "image 186/300 C:\\Users\\dawoo\\desktop\\sf7\\coding\\pytorch\\project\\test\\images\\207_204_20_d8c4fcda-9b6e-40ce-9014-228cfae3855e.jpg: 320x640 (no detections), 77.8ms\n",
      "image 187/300 C:\\Users\\dawoo\\desktop\\sf7\\coding\\pytorch\\project\\test\\images\\207_204_20_ef8e8077-4724-44bb-9c47-10c19c5ab3dc.jpg: 320x640 (no detections), 77.6ms\n",
      "image 188/300 C:\\Users\\dawoo\\desktop\\sf7\\coding\\pytorch\\project\\test\\images\\207_212_10_17e673db-5893-4530-8fd8-3c9e9214fa44.png: 544x640 (no detections), 144.7ms\n",
      "image 189/300 C:\\Users\\dawoo\\desktop\\sf7\\coding\\pytorch\\project\\test\\images\\207_212_10_407e5747-850c-4a19-8344-12d4c21bf8e9.png: 544x640 (no detections), 133.5ms\n",
      "image 190/300 C:\\Users\\dawoo\\desktop\\sf7\\coding\\pytorch\\project\\test\\images\\207_212_10_54992be8-4791-44d3-a064-7f90cccfd6a6.jpg: 320x640 (no detections), 78.4ms\n",
      "image 191/300 C:\\Users\\dawoo\\desktop\\sf7\\coding\\pytorch\\project\\test\\images\\207_212_10_699ec7aa-b515-4ba9-885b-5663d26dbae7.jpg: 320x640 (no detections), 77.6ms\n",
      "image 192/300 C:\\Users\\dawoo\\desktop\\sf7\\coding\\pytorch\\project\\test\\images\\207_212_10_a34b1733-49cc-453e-af60-0e1db0a452e2.png: 544x640 (no detections), 133.5ms\n",
      "image 193/300 C:\\Users\\dawoo\\desktop\\sf7\\coding\\pytorch\\project\\test\\images\\207_212_10_c1aece74-3343-4402-b2c0-66fabae3d2ca.png: 544x640 (no detections), 133.2ms\n",
      "image 194/300 C:\\Users\\dawoo\\desktop\\sf7\\coding\\pytorch\\project\\test\\images\\207_212_10_efebc2fe-26cd-4623-8485-9ceb56c5ded4.png: 544x640 (no detections), 131.4ms\n",
      "image 195/300 C:\\Users\\dawoo\\desktop\\sf7\\coding\\pytorch\\project\\test\\images\\207_212_10_f9e29bde-9530-4bb5-9b05-139212619729.png: 544x640 (no detections), 132.3ms\n",
      "image 196/300 C:\\Users\\dawoo\\desktop\\sf7\\coding\\pytorch\\project\\test\\images\\207_212_20_0953d589-fac6-4e66-9855-4fce705aa2a0.jpg: 288x640 (no detections), 66.0ms\n",
      "image 197/300 C:\\Users\\dawoo\\desktop\\sf7\\coding\\pytorch\\project\\test\\images\\207_212_20_17604d73-34be-4f30-b809-263770ca6cc8.jpg: 288x640 (no detections), 65.0ms\n",
      "image 198/300 C:\\Users\\dawoo\\desktop\\sf7\\coding\\pytorch\\project\\test\\images\\207_212_20_1835853e-6f71-46ed-8719-c40fa81259e0.jpg: 320x640 1 frame_faulty, 76.4ms\n",
      "image 199/300 C:\\Users\\dawoo\\desktop\\sf7\\coding\\pytorch\\project\\test\\images\\207_212_20_26510f9e-b8ae-4a89-8733-bf658ff159a2.jpg: 288x640 1 frame_faulty, 65.5ms\n",
      "image 200/300 C:\\Users\\dawoo\\desktop\\sf7\\coding\\pytorch\\project\\test\\images\\207_212_20_32ca96ca-915b-47ec-88a5-42a5e4208cc9.jpg: 288x640 4 frame_faultys, 64.6ms\n",
      "image 201/300 C:\\Users\\dawoo\\desktop\\sf7\\coding\\pytorch\\project\\test\\images\\207_212_20_3f16cc14-c8af-4810-84c9-8032e7981d54.jpg: 320x640 1 frame_faulty, 79.2ms\n",
      "image 202/300 C:\\Users\\dawoo\\desktop\\sf7\\coding\\pytorch\\project\\test\\images\\207_212_20_4e9c3224-f70e-42fd-ab3c-12b2865d9d81.jpg: 288x640 (no detections), 69.3ms\n",
      "image 203/300 C:\\Users\\dawoo\\desktop\\sf7\\coding\\pytorch\\project\\test\\images\\207_212_20_90ffbe26-b05c-4673-a6c3-4d4a68470733.jpg: 320x640 (no detections), 82.1ms\n",
      "image 204/300 C:\\Users\\dawoo\\desktop\\sf7\\coding\\pytorch\\project\\test\\images\\207_212_20_a3427944-8db8-48c2-b3aa-332cc496b72e.jpg: 320x640 (no detections), 79.4ms\n",
      "image 205/300 C:\\Users\\dawoo\\desktop\\sf7\\coding\\pytorch\\project\\test\\images\\207_212_20_b106e185-3f9c-4419-af51-7fc6ece4eb8f.jpg: 320x640 (no detections), 80.0ms\n",
      "image 206/300 C:\\Users\\dawoo\\desktop\\sf7\\coding\\pytorch\\project\\test\\images\\207_212_20_ca4e32be-b210-4554-9fef-36997c8cca9f.jpg: 288x640 (no detections), 69.8ms\n",
      "image 207/300 C:\\Users\\dawoo\\desktop\\sf7\\coding\\pytorch\\project\\test\\images\\207_212_20_cf4e258b-7116-40f5-bdcf-d36d38c301ab.jpg: 288x640 (no detections), 69.2ms\n",
      "image 208/300 C:\\Users\\dawoo\\desktop\\sf7\\coding\\pytorch\\project\\test\\images\\207_212_20_da4ba5e7-93a9-4d9e-8576-477902384bbd.jpg: 288x640 (no detections), 69.4ms\n",
      "image 209/300 C:\\Users\\dawoo\\desktop\\sf7\\coding\\pytorch\\project\\test\\images\\207_212_20_edc6f986-aed9-4797-8833-9f3222c715a9.jpg: 320x640 (no detections), 84.1ms\n",
      "image 210/300 C:\\Users\\dawoo\\desktop\\sf7\\coding\\pytorch\\project\\test\\images\\207_212_20_f07e5d1f-7a91-4c80-ae5f-6bf7243f8bcc.jpg: 320x640 (no detections), 81.0ms\n",
      "image 211/300 C:\\Users\\dawoo\\desktop\\sf7\\coding\\pytorch\\project\\test\\images\\207_213_10_47673ce0-7484-4fbd-9458-9845b90b21ba.png: 544x640 (no detections), 134.0ms\n",
      "image 212/300 C:\\Users\\dawoo\\desktop\\sf7\\coding\\pytorch\\project\\test\\images\\207_213_10_631f6fdf-f173-428e-9fc8-40631e94e0bf.png: 544x640 (no detections), 129.1ms\n",
      "image 213/300 C:\\Users\\dawoo\\desktop\\sf7\\coding\\pytorch\\project\\test\\images\\207_213_10_a984a645-3553-4d1f-8cc8-7c4b78f7401e.jpg: 320x640 (no detections), 75.1ms\n",
      "image 214/300 C:\\Users\\dawoo\\desktop\\sf7\\coding\\pytorch\\project\\test\\images\\207_213_20_003f493a-db86-46ad-96d0-3586e4e34841.jpg: 320x640 1 frame_faulty, 74.2ms\n",
      "image 215/300 C:\\Users\\dawoo\\desktop\\sf7\\coding\\pytorch\\project\\test\\images\\207_213_20_06619ec1-48e8-4820-b8e3-35aa3a792827.jpg: 288x640 (no detections), 65.0ms\n",
      "image 216/300 C:\\Users\\dawoo\\desktop\\sf7\\coding\\pytorch\\project\\test\\images\\207_213_20_1b03c6ed-71bc-4d34-8d16-ceebb9109056.jpg: 288x640 (no detections), 64.0ms\n",
      "image 217/300 C:\\Users\\dawoo\\desktop\\sf7\\coding\\pytorch\\project\\test\\images\\207_213_20_210ac8cf-aa5d-4a79-b347-f4ff1c94f1ee.jpg: 320x640 (no detections), 80.6ms\n",
      "image 218/300 C:\\Users\\dawoo\\desktop\\sf7\\coding\\pytorch\\project\\test\\images\\207_213_20_2c99267d-f03a-4b38-9e56-b0439e7fa074.jpg: 320x640 (no detections), 77.9ms\n",
      "image 219/300 C:\\Users\\dawoo\\desktop\\sf7\\coding\\pytorch\\project\\test\\images\\207_213_20_3bcd5ffd-2fcc-4e66-9857-ebf692b96ef6.jpg: 288x640 (no detections), 70.0ms\n",
      "image 220/300 C:\\Users\\dawoo\\desktop\\sf7\\coding\\pytorch\\project\\test\\images\\207_213_20_4b1aaef5-ae06-4d89-b2ca-cc287e78ce1f.jpg: 288x640 (no detections), 66.5ms\n",
      "image 221/300 C:\\Users\\dawoo\\desktop\\sf7\\coding\\pytorch\\project\\test\\images\\207_213_20_79ba92bb-3d13-4119-9bc9-5c0f8ee5a6cf.jpg: 288x640 (no detections), 66.9ms\n",
      "image 222/300 C:\\Users\\dawoo\\desktop\\sf7\\coding\\pytorch\\project\\test\\images\\207_213_20_7ed5821c-9b54-4f82-a8bd-74369a51090d.jpg: 320x640 (no detections), 80.0ms\n",
      "image 223/300 C:\\Users\\dawoo\\desktop\\sf7\\coding\\pytorch\\project\\test\\images\\207_213_20_8fc867ba-f7fc-46fc-8179-93aa767237f1.jpg: 320x640 1 frame_faulty, 78.1ms\n",
      "image 224/300 C:\\Users\\dawoo\\desktop\\sf7\\coding\\pytorch\\project\\test\\images\\207_213_20_c1cd93fd-b536-442b-aa05-58b82aacfb2a.jpg: 320x640 1 frame_faulty, 79.0ms\n",
      "image 225/300 C:\\Users\\dawoo\\desktop\\sf7\\coding\\pytorch\\project\\test\\images\\207_213_20_c5e0f452-4eaa-4109-9b70-3c5fd1fe88d0.jpg: 288x640 (no detections), 69.1ms\n",
      "image 226/300 C:\\Users\\dawoo\\desktop\\sf7\\coding\\pytorch\\project\\test\\images\\207_213_20_e683b334-966a-4dae-9388-206e09dfe61f.jpg: 320x640 (no detections), 80.1ms\n",
      "image 227/300 C:\\Users\\dawoo\\desktop\\sf7\\coding\\pytorch\\project\\test\\images\\207_213_20_f4f2ee14-2220-475c-8d85-5926d57c4bc3.jpg: 288x640 1 frame_faulty, 68.8ms\n",
      "image 228/300 C:\\Users\\dawoo\\desktop\\sf7\\coding\\pytorch\\project\\test\\images\\207_213_20_f98f6e11-3174-4265-9729-3b0690ef8add.jpg: 288x640 2 frame_faultys, 68.2ms\n",
      "image 229/300 C:\\Users\\dawoo\\desktop\\sf7\\coding\\pytorch\\project\\test\\images\\209_102_10_0c2a1634-6003-46bd-8fbb-9d449b56f8bc.jpg: 320x640 (no detections), 81.6ms\n",
      "image 230/300 C:\\Users\\dawoo\\desktop\\sf7\\coding\\pytorch\\project\\test\\images\\209_102_10_0e3b7344-b003-4613-a810-63aea43f54dd.jpg: 320x640 (no detections), 80.2ms\n",
      "image 231/300 C:\\Users\\dawoo\\desktop\\sf7\\coding\\pytorch\\project\\test\\images\\209_102_10_28e2fd20-bdfb-42d0-a9f4-5030657a87b4.jpg: 320x640 (no detections), 78.9ms\n",
      "image 232/300 C:\\Users\\dawoo\\desktop\\sf7\\coding\\pytorch\\project\\test\\images\\209_102_10_2e95322f-b14b-4247-8ff7-8595b9dae68b.jpg: 320x640 (no detections), 79.6ms\n",
      "image 233/300 C:\\Users\\dawoo\\desktop\\sf7\\coding\\pytorch\\project\\test\\images\\209_102_10_467b6ebe-bf0a-492c-abad-853ae114125b.jpg: 320x640 (no detections), 79.3ms\n",
      "image 234/300 C:\\Users\\dawoo\\desktop\\sf7\\coding\\pytorch\\project\\test\\images\\209_102_10_47bc2f27-71a1-47c2-8eff-3ee5cb6f5ab2.jpg: 320x640 (no detections), 80.2ms\n",
      "image 235/300 C:\\Users\\dawoo\\desktop\\sf7\\coding\\pytorch\\project\\test\\images\\209_102_10_47d283ac-e770-4ca4-af6d-260350d6ae34.jpg: 320x640 (no detections), 80.7ms\n",
      "image 236/300 C:\\Users\\dawoo\\desktop\\sf7\\coding\\pytorch\\project\\test\\images\\209_102_10_67665e19-79b5-479a-9167-26a0737036f6.jpg: 288x640 (no detections), 71.9ms\n",
      "image 237/300 C:\\Users\\dawoo\\desktop\\sf7\\coding\\pytorch\\project\\test\\images\\209_102_10_7fb60349-a4b8-4820-9ad5-a63aba153add.jpg: 320x640 (no detections), 82.5ms\n",
      "image 238/300 C:\\Users\\dawoo\\desktop\\sf7\\coding\\pytorch\\project\\test\\images\\209_102_10_802c371b-e576-41f3-951c-5efb98a8f91b.jpg: 384x640 (no detections), 89.9ms\n",
      "image 239/300 C:\\Users\\dawoo\\desktop\\sf7\\coding\\pytorch\\project\\test\\images\\209_102_10_9cb1e993-4b7f-45cf-bcb5-08a7eb4894f5.jpg: 384x640 (no detections), 89.0ms\n",
      "image 240/300 C:\\Users\\dawoo\\desktop\\sf7\\coding\\pytorch\\project\\test\\images\\209_102_10_a8262998-7993-459b-9276-231065f4c131.jpg: 384x640 (no detections), 88.8ms\n",
      "image 241/300 C:\\Users\\dawoo\\desktop\\sf7\\coding\\pytorch\\project\\test\\images\\209_102_10_aa444f5f-e26f-409e-a78f-bc08d796dbfd.jpg: 480x640 (no detections), 118.6ms\n",
      "image 242/300 C:\\Users\\dawoo\\desktop\\sf7\\coding\\pytorch\\project\\test\\images\\209_102_10_ba4d30b7-b97b-4886-ac39-7c6a7646b490.jpg: 320x640 (no detections), 71.7ms\n",
      "image 243/300 C:\\Users\\dawoo\\desktop\\sf7\\coding\\pytorch\\project\\test\\images\\209_102_10_c6de6eb3-e8bf-4794-828e-082ce3fa6717.jpg: 320x640 (no detections), 70.8ms\n",
      "image 244/300 C:\\Users\\dawoo\\desktop\\sf7\\coding\\pytorch\\project\\test\\images\\209_102_10_e18579ad-6b21-4105-a060-9605de77fe1d.jpg: 320x640 (no detections), 70.1ms\n",
      "image 245/300 C:\\Users\\dawoo\\desktop\\sf7\\coding\\pytorch\\project\\test\\images\\209_102_10_ec123b3f-b55d-41b1-a003-249557409403.jpg: 288x640 (no detections), 63.0ms\n",
      "image 246/300 C:\\Users\\dawoo\\desktop\\sf7\\coding\\pytorch\\project\\test\\images\\209_102_10_eebb6ff0-b225-44dc-b5ef-a324880614d1.jpg: 320x640 (no detections), 71.7ms\n",
      "image 247/300 C:\\Users\\dawoo\\desktop\\sf7\\coding\\pytorch\\project\\test\\images\\209_102_10_f66ec1ec-9aeb-4b7c-aa63-21194558b97f.jpg: 320x640 (no detections), 70.5ms\n",
      "image 248/300 C:\\Users\\dawoo\\desktop\\sf7\\coding\\pytorch\\project\\test\\images\\209_102_20_03efa120-f38b-4b75-a3e3-947f69c63753.jpg: 384x640 (no detections), 84.2ms\n",
      "image 249/300 C:\\Users\\dawoo\\desktop\\sf7\\coding\\pytorch\\project\\test\\images\\209_102_20_089b0ac6-4407-4eee-85ff-ba163ad847e3.jpg: 480x640 (no detections), 113.8ms\n",
      "image 250/300 C:\\Users\\dawoo\\desktop\\sf7\\coding\\pytorch\\project\\test\\images\\209_102_20_08ac0abe-8ecb-47f0-8992-11d6c8bbbd7e.jpg: 480x640 1 fender_faulty, 111.5ms\n",
      "image 251/300 C:\\Users\\dawoo\\desktop\\sf7\\coding\\pytorch\\project\\test\\images\\209_102_20_108195fd-2379-4eb9-a3c2-64e22fa59c12.jpg: 480x640 1 fender_faulty, 51.3ms\n",
      "image 252/300 C:\\Users\\dawoo\\desktop\\sf7\\coding\\pytorch\\project\\test\\images\\209_102_20_1560becb-9b6b-444c-92ef-1e00d243a585.jpg: 320x640 (no detections), 36.3ms\n",
      "image 253/300 C:\\Users\\dawoo\\desktop\\sf7\\coding\\pytorch\\project\\test\\images\\209_102_20_1c53991d-919b-4bb0-8e85-4cd97aa5df21.jpg: 384x640 (no detections), 40.9ms\n",
      "image 254/300 C:\\Users\\dawoo\\desktop\\sf7\\coding\\pytorch\\project\\test\\images\\209_102_20_1fbb6cf2-f3e2-4561-8450-3f5bc1b66f87.jpg: 384x640 1 fender_faulty, 38.1ms\n",
      "image 255/300 C:\\Users\\dawoo\\desktop\\sf7\\coding\\pytorch\\project\\test\\images\\209_102_20_1fecb91a-5d28-4722-b9c9-a03db9ea80a3.jpg: 384x640 1 fender_faulty, 38.3ms\n",
      "image 256/300 C:\\Users\\dawoo\\desktop\\sf7\\coding\\pytorch\\project\\test\\images\\209_102_20_267a0f9a-1b41-4106-89b5-6074a8ee40e3.jpg: 384x640 1 fender_faulty, 86.7ms\n",
      "image 257/300 C:\\Users\\dawoo\\desktop\\sf7\\coding\\pytorch\\project\\test\\images\\209_102_20_287787e6-f66e-43f9-b86d-39604bad6fa8.jpg: 480x640 3 fender_faultys, 114.7ms\n",
      "image 258/300 C:\\Users\\dawoo\\desktop\\sf7\\coding\\pytorch\\project\\test\\images\\209_102_20_3bc1badf-b2dd-4a87-bfa0-7d97b3db536c.jpg: 384x640 1 fender_faulty, 85.5ms\n",
      "image 259/300 C:\\Users\\dawoo\\desktop\\sf7\\coding\\pytorch\\project\\test\\images\\209_102_20_3e849a0c-ac4e-4ad9-8fa7-f91bd1d3231e.jpg: 384x640 1 fender_faulty, 82.4ms\n",
      "image 260/300 C:\\Users\\dawoo\\desktop\\sf7\\coding\\pytorch\\project\\test\\images\\209_102_20_425dcf02-9d40-495d-8cd8-94eca1c7aeaa.jpg: 384x640 (no detections), 81.1ms\n",
      "image 261/300 C:\\Users\\dawoo\\desktop\\sf7\\coding\\pytorch\\project\\test\\images\\209_102_20_42dd97bf-3b30-4d33-99e0-1e9a7d5e0d92.JPG: 480x640 1 fender_faulty, 110.5ms\n",
      "image 262/300 C:\\Users\\dawoo\\desktop\\sf7\\coding\\pytorch\\project\\test\\images\\209_102_20_50b3d4a7-773f-4659-a69b-0b158c91e043.JPEG: 384x640 2 fender_faultys, 83.6ms\n",
      "image 263/300 C:\\Users\\dawoo\\desktop\\sf7\\coding\\pytorch\\project\\test\\images\\209_102_20_5184e784-78bb-4c3f-9a49-03217ff760a6.jpg: 384x640 4 fender_faultys, 82.3ms\n",
      "image 264/300 C:\\Users\\dawoo\\desktop\\sf7\\coding\\pytorch\\project\\test\\images\\209_102_20_55757cf6-8f60-408f-8fa4-85e814206ae2.JPG: 384x640 (no detections), 80.9ms\n",
      "image 265/300 C:\\Users\\dawoo\\desktop\\sf7\\coding\\pytorch\\project\\test\\images\\209_102_20_55fc4188-c071-4b53-9a7d-cb890595ed82.jpg: 384x640 (no detections), 39.4ms\n",
      "image 266/300 C:\\Users\\dawoo\\desktop\\sf7\\coding\\pytorch\\project\\test\\images\\209_102_20_565267aa-6f67-4499-9baf-3854ceb57433.jpg: 480x640 (no detections), 54.4ms\n",
      "image 267/300 C:\\Users\\dawoo\\desktop\\sf7\\coding\\pytorch\\project\\test\\images\\209_102_20_5791e8af-e79b-41b5-90ef-76eb517c2816.jpg: 480x640 (no detections), 53.3ms\n",
      "image 268/300 C:\\Users\\dawoo\\desktop\\sf7\\coding\\pytorch\\project\\test\\images\\209_102_20_59af1cd2-19ce-4b3d-bc51-53ea554f4663.jpg: 480x640 (no detections), 53.0ms\n",
      "image 269/300 C:\\Users\\dawoo\\desktop\\sf7\\coding\\pytorch\\project\\test\\images\\209_102_20_6dfb728e-b310-42b5-b7e9-55578bcd66f0.jpg: 480x640 (no detections), 115.4ms\n",
      "image 270/300 C:\\Users\\dawoo\\desktop\\sf7\\coding\\pytorch\\project\\test\\images\\209_102_20_73dc6593-d1d1-4f6f-bed4-4197d8be3483.JPEG: 384x640 1 fender_faulty, 83.6ms\n",
      "image 271/300 C:\\Users\\dawoo\\desktop\\sf7\\coding\\pytorch\\project\\test\\images\\209_102_20_7789f609-6830-486f-8aa5-14b96d27a209.jpg: 384x640 1 fender_faulty, 82.9ms\n",
      "image 272/300 C:\\Users\\dawoo\\desktop\\sf7\\coding\\pytorch\\project\\test\\images\\209_102_20_794a4114-83f0-4a2a-82a8-8c1eaed3215e.jpg: 384x640 (no detections), 81.7ms\n",
      "image 273/300 C:\\Users\\dawoo\\desktop\\sf7\\coding\\pytorch\\project\\test\\images\\209_102_20_8dec289b-3800-4346-88ba-6a1af8a6bd5f.jpg: 288x640 1 fender_faulty, 63.5ms\n",
      "image 274/300 C:\\Users\\dawoo\\desktop\\sf7\\coding\\pytorch\\project\\test\\images\\209_102_20_9aae75f9-e6ba-451e-ab74-c58913a9a361.jpg: 384x640 (no detections), 85.0ms\n",
      "image 275/300 C:\\Users\\dawoo\\desktop\\sf7\\coding\\pytorch\\project\\test\\images\\209_102_20_9f088cc5-a8c3-47f6-97c8-67029bbbb5a0.jpeg: 320x640 (no detections), 75.1ms\n",
      "image 276/300 C:\\Users\\dawoo\\desktop\\sf7\\coding\\pytorch\\project\\test\\images\\209_102_20_9feb16b6-71a7-493e-a261-65db69aa2a20.jpg: 320x640 (no detections), 72.2ms\n",
      "image 277/300 C:\\Users\\dawoo\\desktop\\sf7\\coding\\pytorch\\project\\test\\images\\209_102_20_a34ad505-f949-4e70-8e02-640e2cedc1ab.jpg: 320x640 1 fender_faulty, 72.5ms\n",
      "image 278/300 C:\\Users\\dawoo\\desktop\\sf7\\coding\\pytorch\\project\\test\\images\\209_102_20_a3ae4aa8-f0a8-4376-b848-219073709c9b.jpg: 320x640 (no detections), 74.6ms\n",
      "image 279/300 C:\\Users\\dawoo\\desktop\\sf7\\coding\\pytorch\\project\\test\\images\\209_102_20_a87f0fda-2860-4f11-b34c-aa75446d8b27.jpg: 480x640 1 fender_faulty, 117.3ms\n",
      "image 280/300 C:\\Users\\dawoo\\desktop\\sf7\\coding\\pytorch\\project\\test\\images\\209_102_20_ac47af8a-87b8-4575-8b74-3f8451954cd0.jpg: 480x640 (no detections), 109.1ms\n",
      "image 281/300 C:\\Users\\dawoo\\desktop\\sf7\\coding\\pytorch\\project\\test\\images\\209_102_20_ad77c323-2eb2-4a7d-bf74-591b73bb5897.jpg: 384x640 1 fender_faulty, 40.7ms\n",
      "image 282/300 C:\\Users\\dawoo\\desktop\\sf7\\coding\\pytorch\\project\\test\\images\\209_102_20_ad8b07dc-9de6-4642-b3f8-ac94ff30a952.jpeg: 320x640 (no detections), 34.7ms\n",
      "image 283/300 C:\\Users\\dawoo\\desktop\\sf7\\coding\\pytorch\\project\\test\\images\\209_102_20_af2c26be-cb0d-4d37-9acb-3d4201c11828.jpeg: 320x640 (no detections), 33.0ms\n",
      "image 284/300 C:\\Users\\dawoo\\desktop\\sf7\\coding\\pytorch\\project\\test\\images\\209_102_20_b297de89-fc1f-4e52-bdec-bab9f9a4a1de.JPG: 480x640 1 fender_faulty, 52.4ms\n",
      "image 285/300 C:\\Users\\dawoo\\desktop\\sf7\\coding\\pytorch\\project\\test\\images\\209_102_20_be29a65d-e49e-4361-b10f-442a7c5993a7.jpg: 480x640 1 fender_faulty, 107.5ms\n",
      "image 286/300 C:\\Users\\dawoo\\desktop\\sf7\\coding\\pytorch\\project\\test\\images\\209_102_20_c5ffc8e0-7342-4031-af5d-50485af0749c.jpg: 320x640 1 fender_faulty, 39.3ms\n",
      "image 287/300 C:\\Users\\dawoo\\desktop\\sf7\\coding\\pytorch\\project\\test\\images\\209_102_20_ce2a3cec-aae2-4a44-bdf4-f84e5bf34c68.JPG: 384x640 (no detections), 41.7ms\n",
      "image 288/300 C:\\Users\\dawoo\\desktop\\sf7\\coding\\pytorch\\project\\test\\images\\209_102_20_cf69d23b-332d-495e-a9ea-f71182615a79.jpg: 384x640 1 fender_faulty, 39.0ms\n",
      "image 289/300 C:\\Users\\dawoo\\desktop\\sf7\\coding\\pytorch\\project\\test\\images\\209_102_20_d18ab6c0-4acd-4658-a81e-d14a77b44067.jpg: 384x640 1 fender_faulty, 39.0ms\n",
      "image 290/300 C:\\Users\\dawoo\\desktop\\sf7\\coding\\pytorch\\project\\test\\images\\209_102_20_d7d7a24f-8964-4116-8231-8401c84de99f.jpg: 480x640 1 fender_faulty, 54.2ms\n",
      "image 291/300 C:\\Users\\dawoo\\desktop\\sf7\\coding\\pytorch\\project\\test\\images\\209_102_20_da0205de-5b5f-4de6-b019-7f0a6a4a95d6.jpg: 448x640 1 fender_faulty, 112.4ms\n",
      "image 292/300 C:\\Users\\dawoo\\desktop\\sf7\\coding\\pytorch\\project\\test\\images\\209_102_20_db97835e-8f30-4162-b4bc-4e417ad55ef7.jpg: 480x640 1 fender_faulty, 113.5ms\n",
      "image 293/300 C:\\Users\\dawoo\\desktop\\sf7\\coding\\pytorch\\project\\test\\images\\209_102_20_dd931ebc-b731-455b-ac5b-68da7be88a4a.JPG: 384x640 (no detections), 39.0ms\n",
      "image 294/300 C:\\Users\\dawoo\\desktop\\sf7\\coding\\pytorch\\project\\test\\images\\209_102_20_e09a66c5-1131-44b9-872b-790c6050864e.jpg: 448x640 1 fender_faulty, 50.6ms\n",
      "image 295/300 C:\\Users\\dawoo\\desktop\\sf7\\coding\\pytorch\\project\\test\\images\\209_102_20_e181303e-8650-448d-aea9-1377def62e75.jpg: 384x640 1 fender_faulty, 88.0ms\n",
      "image 296/300 C:\\Users\\dawoo\\desktop\\sf7\\coding\\pytorch\\project\\test\\images\\209_102_20_e321c0da-6be2-41f6-8be2-72c821e8b682.jpg: 320x640 (no detections), 80.7ms\n",
      "image 297/300 C:\\Users\\dawoo\\desktop\\sf7\\coding\\pytorch\\project\\test\\images\\209_102_20_e584e70d-4c11-4748-9966-a976184af370.jpg: 320x640 1 fender_faulty, 79.3ms\n",
      "image 298/300 C:\\Users\\dawoo\\desktop\\sf7\\coding\\pytorch\\project\\test\\images\\209_102_20_e90493f7-5244-4ef0-a0b3-6dd4d9c0cbf4.jpg: 384x640 (no detections), 91.2ms\n",
      "image 299/300 C:\\Users\\dawoo\\desktop\\sf7\\coding\\pytorch\\project\\test\\images\\209_102_20_ea521adb-7442-436d-a885-8f4c275920bc.jpg: 288x640 (no detections), 71.2ms\n",
      "image 300/300 C:\\Users\\dawoo\\desktop\\sf7\\coding\\pytorch\\project\\test\\images\\209_102_20_ff2b1ba7-cba6-4408-9762-99be02a03543.jpg: 288x640 1 fender_faulty, 68.4ms\n",
      "Speed: 5.8ms preprocess, 75.1ms inference, 1.5ms postprocess per image at shape (1, 3, 288, 640)\n",
      "Results saved to \u001b[1mc:\\Users\\dawoo\\Desktop\\SF7\\coding\\PYTORCH\\runs\\detect\\predict29\u001b[0m\n"
     ]
    }
   ],
   "source": [
    "from ultralytics import YOLO\n",
    "# 모델 로드 및 추론\n",
    "model = YOLO(\"C:\\\\Users\\\\dawoo\\\\desktop\\\\sf7\\\\coding\\\\pytorch\\\\project\\\\model_8_s_120_8_958.pt\")\n",
    "results = model.predict(source=\"C:\\\\Users\\\\dawoo\\\\desktop\\\\sf7\\\\coding\\\\pytorch\\\\project\\\\test\\\\images\", save=True, imgsz=640)"
   ]
  },
  {
   "cell_type": "code",
   "execution_count": 34,
   "metadata": {},
   "outputs": [],
   "source": [
    "# count = 0\n",
    "# for result in results:\n",
    "#     # 바운딩 박스가 없는 경우 'no detections'으로 간주\n",
    "#     if result.boxes is None or len(result.boxes.xywh) == 0:\n",
    "#         count += 1\n",
    "\n",
    "# print(f\"no detections : {count}\")\n",
    "# print(f\"len(results) : {len(results)}\")\n"
   ]
  },
  {
   "cell_type": "code",
   "execution_count": 44,
   "metadata": {},
   "outputs": [
    {
     "name": "stdout",
     "output_type": "stream",
     "text": [
      "\n",
      "image 1/1 C:\\Users\\dawoo\\Desktop\\2.jpg: 448x640 (no detections), 17.0ms\n",
      "Speed: 2.0ms preprocess, 17.0ms inference, 1.0ms postprocess per image at shape (1, 3, 448, 640)\n",
      "boxes : tensor([], device='cuda:0', size=(0, 4))\n"
     ]
    },
    {
     "data": {
      "text/plain": [
       "'C:\\\\Users\\\\dawoo\\\\Desktop\\\\predict.jpg'"
      ]
     },
     "execution_count": 44,
     "metadata": {},
     "output_type": "execute_result"
    }
   ],
   "source": [
    "from ultralytics import YOLO\n",
    "import cv2\n",
    "import matplotlib.pyplot as plt\n",
    "\n",
    "# 학습된 모델 경로\n",
    "model = YOLO(\"model_8_s_120_8_958.pt\")  # 예: 'model_8_m_100_8_640.pt'\n",
    "\n",
    "# 이미지 파일 경로\n",
    "image_path = \"C:\\\\Users\\\\dawoo\\\\Desktop\\\\범퍼2.jpg\"\n",
    "\n",
    "# 이미지를 불러와서 예측\n",
    "result = model(image_path)\n",
    "\n",
    "# 예측 결과 출력\n",
    "result[0].show()  # 첫 번째 예측 결과의 바운딩 박스를 이미지로 출력\n",
    "\n",
    "# 예측된 객체들의 정보 출력\n",
    "boxes = result[0].boxes.xywh  # 바운딩 박스 정보 (x_center, y_center, width, height)\n",
    "print(f\"boxes : {boxes}\")  # 예측된 바운딩 박스 정보 출력\n",
    "\n",
    "# 만약 이미지 저장을 원한다면:\n",
    "result[0].save(\"C:\\\\Users\\\\dawoo\\\\Desktop\\\\predict.jpg\")  # 예측된 이미지를 저장\n"
   ]
  },
  {
   "cell_type": "code",
   "execution_count": 40,
   "metadata": {},
   "outputs": [
    {
     "name": "stdout",
     "output_type": "stream",
     "text": [
      "[0, 0, 0, 0, 0, 0, 0, 0, 0, 0, 0, 0, 0, 0, 0, 0, 0, 0, 0, 0, 0, 0, 0, 0, 0, 0, 0, 0, 0, 0, 0, 0, 0, 0, 0, 0, 0, 0, 0, 0, 0, 0, 0, 0, 0, 0, 0, 0, 0, 0, 0, 0, 0, 0, 0, 0, 0, 0, 0, 0, 2, 1, 4, 3, 4, 4, 2, 4, 2, 3, 3, 3, 4, 4, 3, 4, 2, 3, 1, 2, 1, 1, 3, 2, 4, 4, 4, 4, 2, 1, 1, 1, 1, 2, 3, 4, 1, 2, 1, 1, 4, 2, 3, 1, 4, 1, 4, 2, 2, 4, 3, 1, 3, 1, 3, 2, 1, 1, 3, 2, 4, 3, 1, 3, 1, 3, 1, 3, 2, 3, 4, 3, 2, 2, 1, 3, 2, 1, 3, 2, 4, 1, 1, 4, 1, 1, 3, 1, 4, 3, 4, 2, 2, 4, 4, 1, 4, 4, 2, 4, 3, 2, 4, 2, 4, 3, 2, 4, 3, 2, 1, 4, 3, 3, 1, 4, 1, 2, 4, 2, 2, 1, 4, 2, 2, 3, 4, 3, 1, 2, 1, 2, 3, 4, 1, 3, 1, 4, 1, 2, 1, 4, 2, 2, 2, 1, 4, 3, 4, 3, 3, 4, 3, 1, 4, 4, 1, 1, 2, 2, 1, 4, 1, 2, 1, 2, 1, 2, 1, 1, 4, 3, 1, 2, 1, 3, 2, 2, 3, 3, 2, 4, 2, 2, 4, 1, 2, 4, 1, 2, 1, 2, 3, 1, 4, 1, 4, 1, 1, 1, 3, 4, 3, 4, 2, 3, 3, 3, 2, 4, 4, 4, 4, 3, 1, 4, 2, 4, 1, 4, 2, 3, 1, 3, 4, 4, 2, 1, 1, 2, 2, 1, 3, 2, 1, 3, 4, 3, 1, 3]\n",
      "[0, 0, 0, 0, 0, 0, 0, 0, 0, 0, 0, 0, 0, 0, 0, 0, 0, 0, 0, 0, 0, 0, 1, 0, 0, 0, 0, 0, 0, 0, 0, 0, 0, 0, 0, 0, 0, 0, 0, 0, 0, 0, 0, 1, 0, 0, 0, 0, 0, 0, 0, 0, 3, 0, 3, 0, 0, 0, 0, 0, 0, 0, 0, 0, 0, 0, 0, 0, 0, 0, 0, 0, 0, 0, 0, 0, 1, 0, 0, 0, 0, 0, 0, 0, 0, 0, 0, 0, 1, 0, 0, 1, 0, 0, 0, 1, 0, 1, 0, 0, 0, 0, 0, 0, 1, 0, 0, 0, 0, 0, 1, 0, 0, 0, 0, 0, 0, 0, 0, 0, 1, 0, 1, 0, 0, 0, 0, 1, 0, 1, 1, 1, 0, 1, 0, 1, 0, 0, 1, 0, 1, 0, 1, 0, 4, 0, 0, 0, 1, 0, 1, 1, 1, 0, 0, 0, 4, 0, 4, 0, 4, 0, 0, 0, 0, 0, 0, 4, 0, 4, 4, 0, 0, 0, 0, 0, 4, 0, 0, 0, 0, 0, 4, 0, 0, 0, 0, 0, 0, 0, 0, 0, 0, 0, 0, 0, 0, 4, 4, 4, 4, 0, 0, 0, 0, 0, 0, 0, 0, 0, 0, 0, 0, 4, 0, 0, 0, 0, 0, 0, 0, 0, 4, 4, 0, 0, 4, 4, 0, 0, 0, 0, 0, 0, 0, 0, 0, 0, 0, 0, 0, 0, 0, 0, 0, 0, 0, 0, 0, 3, 3, 0, 0, 3, 3, 3, 3, 3, 3, 0, 3, 3, 3, 0, 0, 0, 0, 0, 0, 3, 3, 0, 3, 0, 0, 0, 3, 0, 3, 0, 3, 0, 0, 3, 3, 3, 0, 3, 3, 3, 3, 3, 0, 3, 3, 0, 3, 0, 0, 3]\n",
      "혼동 행렬: \n",
      "[[56  2  0  2  0]\n",
      " [45  3  0 10  8]\n",
      " [42  6  0  6  5]\n",
      " [42  6  0  4  1]\n",
      " [42  7  0  9  4]]\n",
      "정확도: 0.22333333333333333\n",
      "정밀도:  0.14459010310580583\n",
      "재현율:  0.22375514118666887\n"
     ]
    },
    {
     "name": "stderr",
     "output_type": "stream",
     "text": [
      "c:\\Users\\dawoo\\Desktop\\SF7\\coding\\PYTORCH\\pytorch-env\\Lib\\site-packages\\sklearn\\metrics\\_classification.py:1565: UndefinedMetricWarning: Precision is ill-defined and being set to 0.0 in labels with no predicted samples. Use `zero_division` parameter to control this behavior.\n",
      "  _warn_prf(average, modifier, f\"{metric.capitalize()} is\", len(result))\n"
     ]
    }
   ],
   "source": [
    "import pandas as pd\n",
    "import matplotlib.pyplot as plt\n",
    "from sklearn.metrics import accuracy_score, precision_score, recall_score, confusion_matrix, roc_curve, roc_auc_score\n",
    "import numpy as np\n",
    "from sklearn.metrics import classification_report, confusion_matrix\n",
    "\n",
    "pred = []\n",
    "test_test_20 = pd.concat([test_data_ok, test_data_fault], ignore_index=True)\n",
    "\n",
    "for result in results:\n",
    "    if len(result.boxes) > 0:  # Detection이 있을 경우\n",
    "        # 각 box에서 confidence가 가장 높은 클래스 선택\n",
    "        pred.append(int(result.boxes[0].cls))\n",
    "    else:\n",
    "        pred.append(0)  # No Detection은 '0'으로 처리\n",
    "\n",
    "\n",
    "# y_test 생성\n",
    "y_test = []\n",
    "\n",
    "for i in range(len(test_test_20)):\n",
    "    if test_test_20.iloc[i, 1] == 1:  # 열 1에 접근\n",
    "        y_test.append(0)\n",
    "    elif test_test_20.iloc[i, 2] == '범퍼':  # 열 2에 접근\n",
    "        y_test.append(1)\n",
    "    elif test_test_20.iloc[i, 2] == '도어':\n",
    "        y_test.append(2)\n",
    "    elif test_test_20.iloc[i, 2] == '휀더':\n",
    "        y_test.append(3)\n",
    "    elif test_test_20.iloc[i, 2] == '프레임':\n",
    "        y_test.append(4)\n",
    "\n",
    "\n",
    "# data evaluation\n",
    "\n",
    "\n",
    "# 위의 ROC 커브 코드 재사용 가능\n",
    "\n",
    "print(y_test)\n",
    "print(pred)\n",
    "\n",
    "# 혼동 행렬\n",
    "confmat = confusion_matrix(y_true=y_test, y_pred=pred)\n",
    "print('혼동 행렬: ', confmat, sep='\\n')\n",
    "\n",
    "\n",
    "# 정확도\n",
    "accuracy = accuracy_score(y_true=y_test, y_pred=pred)\n",
    "print('정확도:', accuracy)\n",
    "\n",
    "# 정밀도(precision)\n",
    "precision = precision_score(y_true=y_test, y_pred=pred, average='macro')\n",
    "print('정밀도: ', precision)\n",
    "\n",
    "\n",
    "# 재현율(recall)\n",
    "recall = recall_score(y_true=y_test, y_pred=pred, average='macro')\n",
    "print('재현율: ', recall)"
   ]
  },
  {
   "cell_type": "code",
   "execution_count": 37,
   "metadata": {},
   "outputs": [],
   "source": [
    "# print(\"results 길이:\", len(results))\n",
    "# print(\"test_test_20 길이:\", len(test_test_20))\n"
   ]
  },
  {
   "cell_type": "code",
   "execution_count": 38,
   "metadata": {},
   "outputs": [
    {
     "ename": "NameError",
     "evalue": "name 'results' is not defined",
     "output_type": "error",
     "traceback": [
      "\u001b[1;31m---------------------------------------------------------------------------\u001b[0m",
      "\u001b[1;31mNameError\u001b[0m                                 Traceback (most recent call last)",
      "Cell \u001b[1;32mIn[38], line 13\u001b[0m\n\u001b[0;32m      9\u001b[0m pred \u001b[38;5;241m=\u001b[39m []\n\u001b[0;32m     11\u001b[0m test_test_20 \u001b[38;5;241m=\u001b[39m pd\u001b[38;5;241m.\u001b[39mconcat([test_data_ok, test_data_fault], ignore_index\u001b[38;5;241m=\u001b[39m\u001b[38;5;28;01mTrue\u001b[39;00m)\n\u001b[1;32m---> 13\u001b[0m \u001b[38;5;28;01mfor\u001b[39;00m result \u001b[38;5;129;01min\u001b[39;00m \u001b[43mresults\u001b[49m:\n\u001b[0;32m     14\u001b[0m     \u001b[38;5;28;01mif\u001b[39;00m \u001b[38;5;28mhasattr\u001b[39m(result, \u001b[38;5;124m'\u001b[39m\u001b[38;5;124mboxes\u001b[39m\u001b[38;5;124m'\u001b[39m) \u001b[38;5;129;01mand\u001b[39;00m \u001b[38;5;28mlen\u001b[39m(result\u001b[38;5;241m.\u001b[39mboxes) \u001b[38;5;241m>\u001b[39m \u001b[38;5;241m0\u001b[39m:  \u001b[38;5;66;03m# Detection이 있을 경우\u001b[39;00m\n\u001b[0;32m     15\u001b[0m         pred\u001b[38;5;241m.\u001b[39mappend(\u001b[38;5;28mint\u001b[39m(result\u001b[38;5;241m.\u001b[39mboxes[\u001b[38;5;241m0\u001b[39m]\u001b[38;5;241m.\u001b[39mcls))\n",
      "\u001b[1;31mNameError\u001b[0m: name 'results' is not defined"
     ]
    }
   ],
   "source": [
    "# import matplotlib.pyplot as plt\n",
    "# from sklearn.metrics import (\n",
    "#     accuracy_score, precision_score, recall_score,\n",
    "#     confusion_matrix, classification_report\n",
    "# )\n",
    "# import pandas as pd\n",
    "# import numpy as np\n",
    "\n",
    "# pred = []\n",
    "\n",
    "# test_test_20 = pd.concat([test_data_ok, test_data_fault], ignore_index=True)\n",
    "\n",
    "# for result in results:\n",
    "#     if hasattr(result, 'boxes') and len(result.boxes) > 0:  # Detection이 있을 경우\n",
    "#         pred.append(int(result.boxes[0].cls))\n",
    "#     else:\n",
    "#         pred.append(0)  # No Detection은 '0'으로 처리\n",
    "\n",
    "# # y_test 생성\n",
    "# y_test = []\n",
    "# for i in range(len(test_test_20)):\n",
    "#     if test_test_20.iloc[i, 1] == 1:\n",
    "#         y_test.append(0)\n",
    "#     elif str(test_test_20.iloc[i, 2]) == '범퍼':\n",
    "#         y_test.append(1)\n",
    "#     elif str(test_test_20.iloc[i, 2]) == '도어':\n",
    "#         y_test.append(2)\n",
    "#     elif str(test_test_20.iloc[i, 2]) == '휀더':\n",
    "#         y_test.append(3)\n",
    "#     elif str(test_test_20.iloc[i, 2]) == '프레임':\n",
    "#         y_test.append(4)\n",
    "\n",
    "# # 데이터 평가\n",
    "# assert len(y_test) == len(pred), \"y_test와 pred의 길이가 일치하지 않습니다.\"\n",
    "\n",
    "# print(\"y_test:\", y_test)\n",
    "# print(\"pred:\", pred)\n",
    "\n",
    "# # 혼동 행렬\n",
    "# confmat = confusion_matrix(y_true=y_test, y_pred=pred)\n",
    "# print('혼동 행렬:')\n",
    "# print(confmat)\n",
    "\n",
    "# # 성능 지표\n",
    "# accuracy = accuracy_score(y_true=y_test, y_pred=pred)\n",
    "# print('정확도:', accuracy)\n",
    "\n",
    "# precision = precision_score(y_true=y_test, y_pred=pred, average='macro')\n",
    "# print('정밀도:', precision)\n",
    "\n",
    "# recall = recall_score(y_true=y_test, y_pred=pred, average='macro')\n",
    "# print('재현율:', recall)\n",
    "\n",
    "# print(\"Classification Report:\")\n",
    "# print(classification_report(y_true=y_test, y_pred=pred))\n"
   ]
  },
  {
   "cell_type": "code",
   "execution_count": null,
   "metadata": {},
   "outputs": [],
   "source": []
  },
  {
   "cell_type": "code",
   "execution_count": null,
   "metadata": {},
   "outputs": [],
   "source": [
    "import cv2\n",
    "from ultralytics import YOLO\n",
    "\n",
    "# YOLOv8 모델 로드\n",
    "model_path = \"C:\\\\Users\\\\dawoo\\\\desktop\\\\sf7\\\\coding\\\\pytorch\\\\project\\\\part_damage_detection.pt\"  # 학습한 모델 경로\n",
    "model = YOLO(model_path)\n",
    "model.to(\"cuda\")\n",
    "\n",
    "# 카메라 열기\n",
    "cap = cv2.VideoCapture(0)  # 기본 카메라 (ID 0)\n",
    "if not cap.isOpened():\n",
    "    print(\"카메라를 열 수 없습니다.\")\n",
    "    exit()\n",
    "\n",
    "# 카메라 프레임 크기 설정 (선택 사항)\n",
    "cap.set(cv2.CAP_PROP_FRAME_WIDTH, 640)\n",
    "cap.set(cv2.CAP_PROP_FRAME_HEIGHT, 480)\n",
    "\n",
    "# 색상 설정 (바운딩 박스와 텍스트)\n",
    "box_color = (0, 255, 0)  # 녹색\n",
    "text_color = (255, 255, 255)  # 흰색\n",
    "\n",
    "print(\"Press 'q' to exit...\")\n",
    "\n",
    "while True:\n",
    "    # 프레임 읽기\n",
    "    ret, frame = cap.read()\n",
    "    if not ret:\n",
    "        print(\"프레임을 읽을 수 없습니다.\")\n",
    "        break\n",
    "    flip_frame = cv2.flip(frame, 1)\n",
    "    # 모델 추론 (YOLOv8)\n",
    "    results = model.predict(source=frame, conf=0.5, show=False,\n",
    "                    verbose=False)  # 이미지에 대해 추론\n",
    "    detections = results[0]  # 첫 번째 결과 가져오기\n",
    "\n",
    "    # 바운딩 박스와 라벨 그리기\n",
    "    for box in detections.boxes:\n",
    "        # 바운딩 박스 좌표 (정규화된 값 아님)\n",
    "        x1, y1, x2, y2 = map(int, box.xyxy[0])  # 좌상단(x1, y1), 우하단(x2, y2)\n",
    "        conf = box.conf[0]  # 신뢰도\n",
    "        cls = int(box.cls[0])  # 클래스 ID\n",
    "        label = f\"{model.names[cls]} {conf:.2f}\"  # 클래스 이름과 신뢰도\n",
    "\n",
    "        # 바운딩 박스와 라벨 추가\n",
    "        cv2.rectangle(frame, (x1, y1), (x2, y2), box_color, 2)  # 바운딩 박스\n",
    "        cv2.putText(frame, label, (x1, y1 - 10),\n",
    "                    cv2.FONT_HERSHEY_SIMPLEX, 0.5, text_color, 2)\n",
    "\n",
    "    # 프레임 화면에 표시\n",
    "    cv2.imshow(\"YOLOv8 Real-Time Detection\", flip_frame)\n",
    "\n",
    "    # 'q' 키를 누르면 종료\n",
    "    if cv2.waitKey(1) & 0xFF == ord('q'):\n",
    "        break\n",
    "\n",
    "# 자원 해제\n",
    "cap.release()\n",
    "cv2.destroyAllWindows()"
   ]
  },
  {
   "cell_type": "code",
   "execution_count": null,
   "metadata": {},
   "outputs": [],
   "source": []
  },
  {
   "cell_type": "markdown",
   "metadata": {},
   "source": [
    "## 손실 그래프"
   ]
  },
  {
   "cell_type": "code",
   "execution_count": null,
   "metadata": {},
   "outputs": [],
   "source": [
    "# loss function\n",
    "import matplotlib.pyplot as plt\n",
    "\n",
    "# 손실 감소 그래프\n",
    "plt.subplot(1, 2, 1)\n",
    "plt.plot(losses)\n",
    "plt.grid()\n",
    "plt.title('Loss over Epochs')\n",
    "plt.xlabel('epoch')\n",
    "plt.ylabel('Loss')"
   ]
  },
  {
   "cell_type": "markdown",
   "metadata": {},
   "source": [
    "## 데이터 검증"
   ]
  },
  {
   "cell_type": "code",
   "execution_count": null,
   "metadata": {},
   "outputs": [],
   "source": [
    "## data evaluation\n",
    "\n",
    "from sklearn.metrics import accuracy_score, precision_score, recall_score, confusion_matrix, roc_curve, roc_auc_score\n",
    "pred=model(y_test)\n",
    "\n",
    "\n",
    "# 혼동 행렬\n",
    "confmat = confusion_matrix(y_true=y_test, y_pred=pred)\n",
    "print('혼동 행렬: ', confmat)\n",
    "\n",
    "\n",
    "# 정확도\n",
    "accuracy=accuracy_score(y_true=y_test, y_pred=pred)\n",
    "print('정확도: ', accuracy)\n",
    "\n",
    "\n",
    "# 정밀도(precision)\n",
    "precision = precision_score(y_true=y_test, y_pred=pred)\n",
    "print('정밀도: ', precision)\n",
    "\n",
    "\n",
    "# 재현율(recall)\n",
    "recall = recall_score(y_true=y_test, y_pred=pred)\n",
    "print('재현율: ', recall)\n",
    "\n",
    "\n",
    "# roc auc\n",
    "fpr, tpr, _ = roc_curve(y_true=y_test, y_pred=pred)\n",
    "\n",
    "plt.plot(fpr, tpr)\n",
    "plt.xlabel('FP Rate')\n",
    "plt.ylabel('TP Rate')\n",
    "\n",
    "plt.show()\n",
    "\n",
    "print('auc 점수: ', roc_auc_score(y_test, pred))"
   ]
  }
 ],
 "metadata": {
  "kernelspec": {
   "display_name": "pytorch-env",
   "language": "python",
   "name": "python3"
  },
  "language_info": {
   "codemirror_mode": {
    "name": "ipython",
    "version": 3
   },
   "file_extension": ".py",
   "mimetype": "text/x-python",
   "name": "python",
   "nbconvert_exporter": "python",
   "pygments_lexer": "ipython3",
   "version": "3.12.0"
  }
 },
 "nbformat": 4,
 "nbformat_minor": 2
}
