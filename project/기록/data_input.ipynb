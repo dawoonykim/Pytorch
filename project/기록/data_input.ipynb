{
 "cells": [
  {
   "cell_type": "code",
   "execution_count": null,
   "metadata": {},
   "outputs": [],
   "source": [
    "import numpy as np\n",
    "\n",
    "def load_data(file_path):\n",
    "    data = np.genfromtxt(file_path, delimiter=',', dtype=None, encoding='UTF-8')\n",
    "    return np.delete(data, 0, axis=0)\n",
    "\n",
    "data_bumper = load_data('./data/data/output/bumper/bumper_data.csv',)\n",
    "data_door_ed = load_data('./data/data/output/door/door_ed_data.csv')\n",
    "data_door_scratch = load_data('./data/data/output/door/door_scratch_data.csv')\n",
    "data_fender = load_data('./data/data/output/fender/fender_ed_data.csv',)\n",
    "data_frame_ed = load_data('./data/data/output/frame/frame_ed_data.csv')\n",
    "data_frame_hd = load_data('./data/data/output/frame/frame_hd_data.csv')\n",
    "data_frame_sealf = load_data('./data/data/output/frame/frame_sealf_data.csv')\n",
    "data_frame_seamf = load_data('./data/data/output/frame/frame_seamf_data.csv')\n",
    "\n",
    "\n",
    "data_1 = np.array((data_bumper))\n",
    "data_2 = np.array((data_door_ed))\n",
    "data_3 = np.array((data_door_scratch))\n",
    "data_4 = np.array((data_fender))\n",
    "data_5 = np.array((data_frame_ed))\n",
    "data_6 = np.array((data_frame_hd))\n",
    "data_7 = np.array((data_frame_sealf))\n",
    "data_8 = np.array((data_frame_seamf))\n",
    "\n",
    "data = np.concatenate((data_1, data_2, data_3, data_4,\n",
    "                      data_5, data_6, data_7, data_8), axis=0)  # axis=0: 배치 축\n",
    "print(len(data))\n",
    "print(data)"
   ]
  },
  {
   "cell_type": "code",
   "execution_count": null,
   "metadata": {},
   "outputs": [],
   "source": [
    "from numpy import random\n",
    "\n",
    "data_num=200  #100개당 35초\n",
    "\n",
    "num=random.randint(len(data), size=data_num)\n",
    "\n",
    "# print(num)"
   ]
  },
  {
   "cell_type": "code",
   "execution_count": null,
   "metadata": {},
   "outputs": [],
   "source": [
    "from PIL import Image\n",
    "\n",
    "img_1 = Image.open(data[0,0])\n",
    "\n",
    "a=np.array(img_1)\n",
    "x=np.expand_dims(a, axis=0)\n",
    "y=[]\n",
    "\n",
    "for i, i2 in enumerate(num):\n",
    "    img = Image.open(data[i2,0])\n",
    "    x_3=np.array(img)\n",
    "    x_4=np.expand_dims(x_3, axis=0)\n",
    "    x = np.concatenate((x, x_4), axis=0)  # axis=0: 배치 축\n",
    "    y.append(data[i2,1])\n",
    "    if i%10==0:\n",
    "        print(f'진행현황: {i/data_num*100}%')\n",
    "\n",
    "x=np.delete(x, 0 , axis = 0)\n",
    "y=np.array(y).reshape(data_num,1)\n",
    "#print(x)\n",
    "\n",
    "print(x.shape)\n",
    "print(y.shape)\n"
   ]
  },
  {
   "cell_type": "code",
   "execution_count": null,
   "metadata": {},
   "outputs": [],
   "source": []
  },
  {
   "cell_type": "code",
   "execution_count": null,
   "metadata": {},
   "outputs": [],
   "source": []
  },
  {
   "cell_type": "code",
   "execution_count": null,
   "metadata": {},
   "outputs": [],
   "source": []
  },
  {
   "cell_type": "code",
   "execution_count": null,
   "metadata": {},
   "outputs": [],
   "source": []
  },
  {
   "cell_type": "code",
   "execution_count": null,
   "metadata": {},
   "outputs": [],
   "source": []
  },
  {
   "cell_type": "code",
   "execution_count": null,
   "metadata": {},
   "outputs": [],
   "source": []
  }
 ],
 "metadata": {
  "kernelspec": {
   "display_name": "pytorch-env",
   "language": "python",
   "name": "python3"
  },
  "language_info": {
   "codemirror_mode": {
    "name": "ipython",
    "version": 3
   },
   "file_extension": ".py",
   "mimetype": "text/x-python",
   "name": "python",
   "nbconvert_exporter": "python",
   "pygments_lexer": "ipython3",
   "version": "3.12.0"
  }
 },
 "nbformat": 4,
 "nbformat_minor": 2
}
